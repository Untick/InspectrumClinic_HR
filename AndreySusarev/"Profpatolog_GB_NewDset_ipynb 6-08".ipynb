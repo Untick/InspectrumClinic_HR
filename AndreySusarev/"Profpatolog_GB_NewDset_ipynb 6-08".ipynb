{
  "cells": [
    {
      "cell_type": "markdown",
      "metadata": {
        "id": "view-in-github",
        "colab_type": "text"
      },
      "source": [
        "<a href=\"https://colab.research.google.com/github/Untick/InspectrumClinic_HR_gr1/blob/main/AndreySusarev/%22Profpatolog_GB_NewDset_ipynb%206-08%22.ipynb\" target=\"_parent\"><img src=\"https://colab.research.google.com/assets/colab-badge.svg\" alt=\"Open In Colab\"/></a>"
      ]
    },
    {
      "cell_type": "markdown",
      "source": [
        "## Загрузка библиотек и инструментов"
      ],
      "metadata": {
        "id": "Kje69ZaUdhMD"
      }
    },
    {
      "cell_type": "code",
      "execution_count": null,
      "metadata": {
        "id": "QzSKmBrAb24N",
        "colab": {
          "base_uri": "https://localhost:8080/"
        },
        "outputId": "c56d4cce-8415-4c14-a5a9-d6874dcfeb25"
      },
      "outputs": [
        {
          "output_type": "stream",
          "name": "stdout",
          "text": [
            "Загружено!\n"
          ]
        }
      ],
      "source": [
        "# Установим библиотеки\n",
        "print('Грузим библиотеки...')\n",
        "\n",
        "import numpy as np\n",
        "import pandas as pd\n",
        "# from tensorflow.keras.models import Sequential, Model\n",
        "# from tensorflow.keras.layers import Dense, Dropout, BatchNormalization, Input, LSTM\n",
        "# from tensorflow.keras.layers import Activation\n",
        "# !pip install keras-tuner --upgrade\n",
        "!pip install autokeras\n",
        "import autokeras as ak\n",
        "from tensorflow.keras import utils\n",
        "# from keras_tuner.tuners import Hyperband, BayesianOptimization\n",
        "# from tensorflow.keras.optimizers import Adam\n",
        "from sklearn.model_selection import train_test_split\n",
        "import matplotlib.pyplot as plt\n",
        "import statistics\n",
        "import re\n",
        "# import seaborn as sns\n",
        "import warnings\n",
        "warnings.filterwarnings('ignore')\n",
        "import random\n",
        "import os\n",
        "# from sklearn.preprocessing import MinMaxScaler\n",
        "# from sklearn.model_selection import cross_val_score\n",
        "# from sklearn.model_selection import KFold\n",
        "# from scipy import stats\n",
        "from IPython.display import clear_output\n",
        "\n",
        "%matplotlib inline\n",
        "\n",
        "clear_output()\n",
        "print('Загружено!')"
      ]
    },
    {
      "cell_type": "code",
      "source": [
        "# Метрики для расчета ошибок\n",
        "from sklearn.metrics import mean_squared_error, mean_absolute_error, accuracy_score\n",
        "from keras.callbacks import ModelCheckpoint, EarlyStopping"
      ],
      "metadata": {
        "id": "vJ6t9SISFpJX"
      },
      "execution_count": null,
      "outputs": []
    },
    {
      "cell_type": "markdown",
      "source": [
        "## Загрузка и предобработка датасета"
      ],
      "metadata": {
        "id": "9vRHATFHyz9t"
      }
    },
    {
      "cell_type": "code",
      "source": [
        "# data = pd.read_excel('https://storage.yandexcloud.net/terratraineeship/23_InspectrumClinic_RS/datasets/%D0%B4%D0%B0%D1%82%D0%B0%D1%81%D0%B5%D1%82%20%D0%BF%D1%80%D0%BE%D1%84%D0%BF%D0%B0%D1%82%D0%BE%D0%BB%D0%BE%D0%B3%20%D1%87%D0%B0%D1%81%D1%82%D1%8C.xlsx')"
      ],
      "metadata": {
        "id": "twAvu4t1QfXu"
      },
      "execution_count": null,
      "outputs": []
    },
    {
      "cell_type": "code",
      "source": [
        "# Подключим диск\n",
        "from google.colab import drive\n",
        "drive.mount('/content/drive')\n",
        "\n",
        "# и сохраним туда исходную таблицу\n",
        "# data.to_excel('/content/drive/MyDrive/Стажировка/Profpatolog/Data/data_2.xlsx')"
      ],
      "metadata": {
        "colab": {
          "base_uri": "https://localhost:8080/"
        },
        "id": "3RrL-MkGE1gQ",
        "outputId": "bedb622b-ef19-4bfc-b6f9-a1a3266338a8"
      },
      "execution_count": null,
      "outputs": [
        {
          "output_type": "stream",
          "name": "stdout",
          "text": [
            "Mounted at /content/drive\n"
          ]
        }
      ]
    },
    {
      "cell_type": "code",
      "source": [
        "# Загрузим таблицу для обработки\n",
        "data = pd.read_excel('/content/drive/MyDrive/Стажировка/Profpatolog/Data/DS_Profpatolog_1980.xlsx')\n",
        "data.head()"
      ],
      "metadata": {
        "id": "76pa6PJ4E2zx",
        "colab": {
          "base_uri": "https://localhost:8080/",
          "height": 560
        },
        "outputId": "cfdfa71a-e2d4-4277-bdb8-c0ff20a2915b"
      },
      "execution_count": null,
      "outputs": [
        {
          "output_type": "execute_result",
          "data": {
            "text/plain": [
              "          ДокументПрохождениеМедосмотра                                Клиент  \\\n",
              "0  7f41ca7e-7dac-11ec-80fc-0cc47aab8067  c91e3407-b81f-11e9-80cf-0cc47aab8067   \n",
              "1  2ee1f9ac-83dd-11ec-80fc-0cc47aab8067  1a1a5fea-8b7f-11eb-80e8-0cc47aab8067   \n",
              "2  9cbb191e-8e24-11ec-80fe-0cc47aab8067  7fe324e0-fa51-11eb-80f6-0cc47aab8067   \n",
              "3  b8a33910-8eec-11ec-80fe-0cc47aab8067  98f9d761-8d65-11ec-80fe-0cc47aab8067   \n",
              "4  0bb0d181-938c-11ec-80fe-0cc47aab8067  009aac7d-7bcf-11eb-80e8-0cc47aab8067   \n",
              "\n",
              "  КлиентДатаРождения КлиентПол КлиентПолПредставление  \\\n",
              "0         1976-10-24   Женский                Женский   \n",
              "1         1987-11-18   Мужской                Мужской   \n",
              "2         1985-09-08   Мужской                Мужской   \n",
              "3         1988-04-25   Мужской                Мужской   \n",
              "4         1984-04-17   Мужской                Мужской   \n",
              "\n",
              "  ДатаЗавершенияМедосмотра  ТипМедосмотра ТипМедосмотраПредставление  \\\n",
              "0               2022-01-25  Периодический              Периодический   \n",
              "1               2022-02-02  Периодический              Периодический   \n",
              "2               2022-02-15  Периодический              Периодический   \n",
              "3               2022-02-16  Периодический              Периодический   \n",
              "4               2022-02-22  Периодический              Периодический   \n",
              "\n",
              "   ПсихОсвидетельствование                            Контрагент  ...  \\\n",
              "0                    False  23c173a7-30d9-11e7-80d8-708bcd7f83cd  ...   \n",
              "1                    False  a6d559b0-7835-11eb-80e8-0cc47aab8067  ...   \n",
              "2                    False  a6d559b0-7835-11eb-80e8-0cc47aab8067  ...   \n",
              "3                    False  a6d559b0-7835-11eb-80e8-0cc47aab8067  ...   \n",
              "4                    False  a6d559b0-7835-11eb-80e8-0cc47aab8067  ...   \n",
              "\n",
              "  Оториноларингология3_Аудиометрия1_Значение  \\\n",
              "0                                        NaN   \n",
              "1                                        NaN   \n",
              "2                                        NaN   \n",
              "3                                        NaN   \n",
              "4                                        NaN   \n",
              "\n",
              "  Оториноларингология3_Аудиометрия1_ЗначениеПредставление  \\\n",
              "0                                                NaN        \n",
              "1                                                NaN        \n",
              "2                                                NaN        \n",
              "3                                                NaN        \n",
              "4                                                NaN        \n",
              "\n",
              "  Оториноларингология1_ЖалобыДополнение_Значение  \\\n",
              "0                                            NaN   \n",
              "1                                            NaN   \n",
              "2                                            NaN   \n",
              "3                                            NaN   \n",
              "4                                            NaN   \n",
              "\n",
              "  Оториноларингология1_ЖалобыДополнение_ЗначениеПредставление  \\\n",
              "0                                                NaN            \n",
              "1                                                NaN            \n",
              "2                                                NaN            \n",
              "3                                                NaN            \n",
              "4                                                NaN            \n",
              "\n",
              "  Стоматология2_ВП2_Значение Стоматология2_ВП2_ЗначениеПредставление  \\\n",
              "0                        NaN                                     NaN   \n",
              "1                        NaN                                     NaN   \n",
              "2                        NaN                                     NaN   \n",
              "3                        NaN                                     NaN   \n",
              "4                        NaN                                     NaN   \n",
              "\n",
              "  Терапия2_ЗаключениеФОГК_Значение  \\\n",
              "0                              NaN   \n",
              "1                              NaN   \n",
              "2                              NaN   \n",
              "3                              NaN   \n",
              "4                              NaN   \n",
              "\n",
              "  Терапия2_ЗаключениеФОГК_ЗначениеПредставление  \\\n",
              "0                                           NaN   \n",
              "1                                           NaN   \n",
              "2                                           NaN   \n",
              "3                                           NaN   \n",
              "4                                           NaN   \n",
              "\n",
              "  Офтальмология1_ДвигательныйАппаратГлазДополнение_Значение  \\\n",
              "0                                                NaN          \n",
              "1                                                NaN          \n",
              "2                                                NaN          \n",
              "3                                                NaN          \n",
              "4                                                NaN          \n",
              "\n",
              "  Офтальмология1_ДвигательныйАппаратГлазДополнение_ЗначениеПредставление  \n",
              "0                                                NaN                      \n",
              "1                                                NaN                      \n",
              "2                                                NaN                      \n",
              "3                                                NaN                      \n",
              "4                                                NaN                      \n",
              "\n",
              "[5 rows x 4587 columns]"
            ],
            "text/html": [
              "\n",
              "  <div id=\"df-7fd03873-08f6-4de0-bf36-7b847b8fc437\">\n",
              "    <div class=\"colab-df-container\">\n",
              "      <div>\n",
              "<style scoped>\n",
              "    .dataframe tbody tr th:only-of-type {\n",
              "        vertical-align: middle;\n",
              "    }\n",
              "\n",
              "    .dataframe tbody tr th {\n",
              "        vertical-align: top;\n",
              "    }\n",
              "\n",
              "    .dataframe thead th {\n",
              "        text-align: right;\n",
              "    }\n",
              "</style>\n",
              "<table border=\"1\" class=\"dataframe\">\n",
              "  <thead>\n",
              "    <tr style=\"text-align: right;\">\n",
              "      <th></th>\n",
              "      <th>ДокументПрохождениеМедосмотра</th>\n",
              "      <th>Клиент</th>\n",
              "      <th>КлиентДатаРождения</th>\n",
              "      <th>КлиентПол</th>\n",
              "      <th>КлиентПолПредставление</th>\n",
              "      <th>ДатаЗавершенияМедосмотра</th>\n",
              "      <th>ТипМедосмотра</th>\n",
              "      <th>ТипМедосмотраПредставление</th>\n",
              "      <th>ПсихОсвидетельствование</th>\n",
              "      <th>Контрагент</th>\n",
              "      <th>...</th>\n",
              "      <th>Оториноларингология3_Аудиометрия1_Значение</th>\n",
              "      <th>Оториноларингология3_Аудиометрия1_ЗначениеПредставление</th>\n",
              "      <th>Оториноларингология1_ЖалобыДополнение_Значение</th>\n",
              "      <th>Оториноларингология1_ЖалобыДополнение_ЗначениеПредставление</th>\n",
              "      <th>Стоматология2_ВП2_Значение</th>\n",
              "      <th>Стоматология2_ВП2_ЗначениеПредставление</th>\n",
              "      <th>Терапия2_ЗаключениеФОГК_Значение</th>\n",
              "      <th>Терапия2_ЗаключениеФОГК_ЗначениеПредставление</th>\n",
              "      <th>Офтальмология1_ДвигательныйАппаратГлазДополнение_Значение</th>\n",
              "      <th>Офтальмология1_ДвигательныйАппаратГлазДополнение_ЗначениеПредставление</th>\n",
              "    </tr>\n",
              "  </thead>\n",
              "  <tbody>\n",
              "    <tr>\n",
              "      <th>0</th>\n",
              "      <td>7f41ca7e-7dac-11ec-80fc-0cc47aab8067</td>\n",
              "      <td>c91e3407-b81f-11e9-80cf-0cc47aab8067</td>\n",
              "      <td>1976-10-24</td>\n",
              "      <td>Женский</td>\n",
              "      <td>Женский</td>\n",
              "      <td>2022-01-25</td>\n",
              "      <td>Периодический</td>\n",
              "      <td>Периодический</td>\n",
              "      <td>False</td>\n",
              "      <td>23c173a7-30d9-11e7-80d8-708bcd7f83cd</td>\n",
              "      <td>...</td>\n",
              "      <td>NaN</td>\n",
              "      <td>NaN</td>\n",
              "      <td>NaN</td>\n",
              "      <td>NaN</td>\n",
              "      <td>NaN</td>\n",
              "      <td>NaN</td>\n",
              "      <td>NaN</td>\n",
              "      <td>NaN</td>\n",
              "      <td>NaN</td>\n",
              "      <td>NaN</td>\n",
              "    </tr>\n",
              "    <tr>\n",
              "      <th>1</th>\n",
              "      <td>2ee1f9ac-83dd-11ec-80fc-0cc47aab8067</td>\n",
              "      <td>1a1a5fea-8b7f-11eb-80e8-0cc47aab8067</td>\n",
              "      <td>1987-11-18</td>\n",
              "      <td>Мужской</td>\n",
              "      <td>Мужской</td>\n",
              "      <td>2022-02-02</td>\n",
              "      <td>Периодический</td>\n",
              "      <td>Периодический</td>\n",
              "      <td>False</td>\n",
              "      <td>a6d559b0-7835-11eb-80e8-0cc47aab8067</td>\n",
              "      <td>...</td>\n",
              "      <td>NaN</td>\n",
              "      <td>NaN</td>\n",
              "      <td>NaN</td>\n",
              "      <td>NaN</td>\n",
              "      <td>NaN</td>\n",
              "      <td>NaN</td>\n",
              "      <td>NaN</td>\n",
              "      <td>NaN</td>\n",
              "      <td>NaN</td>\n",
              "      <td>NaN</td>\n",
              "    </tr>\n",
              "    <tr>\n",
              "      <th>2</th>\n",
              "      <td>9cbb191e-8e24-11ec-80fe-0cc47aab8067</td>\n",
              "      <td>7fe324e0-fa51-11eb-80f6-0cc47aab8067</td>\n",
              "      <td>1985-09-08</td>\n",
              "      <td>Мужской</td>\n",
              "      <td>Мужской</td>\n",
              "      <td>2022-02-15</td>\n",
              "      <td>Периодический</td>\n",
              "      <td>Периодический</td>\n",
              "      <td>False</td>\n",
              "      <td>a6d559b0-7835-11eb-80e8-0cc47aab8067</td>\n",
              "      <td>...</td>\n",
              "      <td>NaN</td>\n",
              "      <td>NaN</td>\n",
              "      <td>NaN</td>\n",
              "      <td>NaN</td>\n",
              "      <td>NaN</td>\n",
              "      <td>NaN</td>\n",
              "      <td>NaN</td>\n",
              "      <td>NaN</td>\n",
              "      <td>NaN</td>\n",
              "      <td>NaN</td>\n",
              "    </tr>\n",
              "    <tr>\n",
              "      <th>3</th>\n",
              "      <td>b8a33910-8eec-11ec-80fe-0cc47aab8067</td>\n",
              "      <td>98f9d761-8d65-11ec-80fe-0cc47aab8067</td>\n",
              "      <td>1988-04-25</td>\n",
              "      <td>Мужской</td>\n",
              "      <td>Мужской</td>\n",
              "      <td>2022-02-16</td>\n",
              "      <td>Периодический</td>\n",
              "      <td>Периодический</td>\n",
              "      <td>False</td>\n",
              "      <td>a6d559b0-7835-11eb-80e8-0cc47aab8067</td>\n",
              "      <td>...</td>\n",
              "      <td>NaN</td>\n",
              "      <td>NaN</td>\n",
              "      <td>NaN</td>\n",
              "      <td>NaN</td>\n",
              "      <td>NaN</td>\n",
              "      <td>NaN</td>\n",
              "      <td>NaN</td>\n",
              "      <td>NaN</td>\n",
              "      <td>NaN</td>\n",
              "      <td>NaN</td>\n",
              "    </tr>\n",
              "    <tr>\n",
              "      <th>4</th>\n",
              "      <td>0bb0d181-938c-11ec-80fe-0cc47aab8067</td>\n",
              "      <td>009aac7d-7bcf-11eb-80e8-0cc47aab8067</td>\n",
              "      <td>1984-04-17</td>\n",
              "      <td>Мужской</td>\n",
              "      <td>Мужской</td>\n",
              "      <td>2022-02-22</td>\n",
              "      <td>Периодический</td>\n",
              "      <td>Периодический</td>\n",
              "      <td>False</td>\n",
              "      <td>a6d559b0-7835-11eb-80e8-0cc47aab8067</td>\n",
              "      <td>...</td>\n",
              "      <td>NaN</td>\n",
              "      <td>NaN</td>\n",
              "      <td>NaN</td>\n",
              "      <td>NaN</td>\n",
              "      <td>NaN</td>\n",
              "      <td>NaN</td>\n",
              "      <td>NaN</td>\n",
              "      <td>NaN</td>\n",
              "      <td>NaN</td>\n",
              "      <td>NaN</td>\n",
              "    </tr>\n",
              "  </tbody>\n",
              "</table>\n",
              "<p>5 rows × 4587 columns</p>\n",
              "</div>\n",
              "      <button class=\"colab-df-convert\" onclick=\"convertToInteractive('df-7fd03873-08f6-4de0-bf36-7b847b8fc437')\"\n",
              "              title=\"Convert this dataframe to an interactive table.\"\n",
              "              style=\"display:none;\">\n",
              "        \n",
              "  <svg xmlns=\"http://www.w3.org/2000/svg\" height=\"24px\"viewBox=\"0 0 24 24\"\n",
              "       width=\"24px\">\n",
              "    <path d=\"M0 0h24v24H0V0z\" fill=\"none\"/>\n",
              "    <path d=\"M18.56 5.44l.94 2.06.94-2.06 2.06-.94-2.06-.94-.94-2.06-.94 2.06-2.06.94zm-11 1L8.5 8.5l.94-2.06 2.06-.94-2.06-.94L8.5 2.5l-.94 2.06-2.06.94zm10 10l.94 2.06.94-2.06 2.06-.94-2.06-.94-.94-2.06-.94 2.06-2.06.94z\"/><path d=\"M17.41 7.96l-1.37-1.37c-.4-.4-.92-.59-1.43-.59-.52 0-1.04.2-1.43.59L10.3 9.45l-7.72 7.72c-.78.78-.78 2.05 0 2.83L4 21.41c.39.39.9.59 1.41.59.51 0 1.02-.2 1.41-.59l7.78-7.78 2.81-2.81c.8-.78.8-2.07 0-2.86zM5.41 20L4 18.59l7.72-7.72 1.47 1.35L5.41 20z\"/>\n",
              "  </svg>\n",
              "      </button>\n",
              "      \n",
              "  <style>\n",
              "    .colab-df-container {\n",
              "      display:flex;\n",
              "      flex-wrap:wrap;\n",
              "      gap: 12px;\n",
              "    }\n",
              "\n",
              "    .colab-df-convert {\n",
              "      background-color: #E8F0FE;\n",
              "      border: none;\n",
              "      border-radius: 50%;\n",
              "      cursor: pointer;\n",
              "      display: none;\n",
              "      fill: #1967D2;\n",
              "      height: 32px;\n",
              "      padding: 0 0 0 0;\n",
              "      width: 32px;\n",
              "    }\n",
              "\n",
              "    .colab-df-convert:hover {\n",
              "      background-color: #E2EBFA;\n",
              "      box-shadow: 0px 1px 2px rgba(60, 64, 67, 0.3), 0px 1px 3px 1px rgba(60, 64, 67, 0.15);\n",
              "      fill: #174EA6;\n",
              "    }\n",
              "\n",
              "    [theme=dark] .colab-df-convert {\n",
              "      background-color: #3B4455;\n",
              "      fill: #D2E3FC;\n",
              "    }\n",
              "\n",
              "    [theme=dark] .colab-df-convert:hover {\n",
              "      background-color: #434B5C;\n",
              "      box-shadow: 0px 1px 3px 1px rgba(0, 0, 0, 0.15);\n",
              "      filter: drop-shadow(0px 1px 2px rgba(0, 0, 0, 0.3));\n",
              "      fill: #FFFFFF;\n",
              "    }\n",
              "  </style>\n",
              "\n",
              "      <script>\n",
              "        const buttonEl =\n",
              "          document.querySelector('#df-7fd03873-08f6-4de0-bf36-7b847b8fc437 button.colab-df-convert');\n",
              "        buttonEl.style.display =\n",
              "          google.colab.kernel.accessAllowed ? 'block' : 'none';\n",
              "\n",
              "        async function convertToInteractive(key) {\n",
              "          const element = document.querySelector('#df-7fd03873-08f6-4de0-bf36-7b847b8fc437');\n",
              "          const dataTable =\n",
              "            await google.colab.kernel.invokeFunction('convertToInteractive',\n",
              "                                                     [key], {});\n",
              "          if (!dataTable) return;\n",
              "\n",
              "          const docLinkHtml = 'Like what you see? Visit the ' +\n",
              "            '<a target=\"_blank\" href=https://colab.research.google.com/notebooks/data_table.ipynb>data table notebook</a>'\n",
              "            + ' to learn more about interactive tables.';\n",
              "          element.innerHTML = '';\n",
              "          dataTable['output_type'] = 'display_data';\n",
              "          await google.colab.output.renderOutput(dataTable, element);\n",
              "          const docLink = document.createElement('div');\n",
              "          docLink.innerHTML = docLinkHtml;\n",
              "          element.appendChild(docLink);\n",
              "        }\n",
              "      </script>\n",
              "    </div>\n",
              "  </div>\n",
              "  "
            ]
          },
          "metadata": {},
          "execution_count": 4
        }
      ]
    },
    {
      "cell_type": "code",
      "source": [
        "# Вычислим возраст клиентов, результат запишим в отдельную колонку\n",
        "data['Возраст'] = (data['ДатаЗавершенияМедосмотра'] - data['КлиентДатаРождения']).dt.days // 365"
      ],
      "metadata": {
        "id": "GtV6rVmHSm9F"
      },
      "execution_count": null,
      "outputs": []
    },
    {
      "cell_type": "code",
      "source": [
        "# Посмотрим...\n",
        "# display(data.head())\n",
        "data[['КлиентДатаРождения', 'ДатаЗавершенияМедосмотра', 'Возраст']].head()"
      ],
      "metadata": {
        "id": "_wXQzx-HUPBo",
        "colab": {
          "base_uri": "https://localhost:8080/",
          "height": 206
        },
        "outputId": "1dc8fb63-875f-4491-b6c1-c5a3787a618e"
      },
      "execution_count": null,
      "outputs": [
        {
          "output_type": "execute_result",
          "data": {
            "text/plain": [
              "  КлиентДатаРождения ДатаЗавершенияМедосмотра  Возраст\n",
              "0         1976-10-24               2022-01-25       45\n",
              "1         1987-11-18               2022-02-02       34\n",
              "2         1985-09-08               2022-02-15       36\n",
              "3         1988-04-25               2022-02-16       33\n",
              "4         1984-04-17               2022-02-22       37"
            ],
            "text/html": [
              "\n",
              "  <div id=\"df-3a0af183-9e4e-4e5c-8fad-c66f1f9541e7\">\n",
              "    <div class=\"colab-df-container\">\n",
              "      <div>\n",
              "<style scoped>\n",
              "    .dataframe tbody tr th:only-of-type {\n",
              "        vertical-align: middle;\n",
              "    }\n",
              "\n",
              "    .dataframe tbody tr th {\n",
              "        vertical-align: top;\n",
              "    }\n",
              "\n",
              "    .dataframe thead th {\n",
              "        text-align: right;\n",
              "    }\n",
              "</style>\n",
              "<table border=\"1\" class=\"dataframe\">\n",
              "  <thead>\n",
              "    <tr style=\"text-align: right;\">\n",
              "      <th></th>\n",
              "      <th>КлиентДатаРождения</th>\n",
              "      <th>ДатаЗавершенияМедосмотра</th>\n",
              "      <th>Возраст</th>\n",
              "    </tr>\n",
              "  </thead>\n",
              "  <tbody>\n",
              "    <tr>\n",
              "      <th>0</th>\n",
              "      <td>1976-10-24</td>\n",
              "      <td>2022-01-25</td>\n",
              "      <td>45</td>\n",
              "    </tr>\n",
              "    <tr>\n",
              "      <th>1</th>\n",
              "      <td>1987-11-18</td>\n",
              "      <td>2022-02-02</td>\n",
              "      <td>34</td>\n",
              "    </tr>\n",
              "    <tr>\n",
              "      <th>2</th>\n",
              "      <td>1985-09-08</td>\n",
              "      <td>2022-02-15</td>\n",
              "      <td>36</td>\n",
              "    </tr>\n",
              "    <tr>\n",
              "      <th>3</th>\n",
              "      <td>1988-04-25</td>\n",
              "      <td>2022-02-16</td>\n",
              "      <td>33</td>\n",
              "    </tr>\n",
              "    <tr>\n",
              "      <th>4</th>\n",
              "      <td>1984-04-17</td>\n",
              "      <td>2022-02-22</td>\n",
              "      <td>37</td>\n",
              "    </tr>\n",
              "  </tbody>\n",
              "</table>\n",
              "</div>\n",
              "      <button class=\"colab-df-convert\" onclick=\"convertToInteractive('df-3a0af183-9e4e-4e5c-8fad-c66f1f9541e7')\"\n",
              "              title=\"Convert this dataframe to an interactive table.\"\n",
              "              style=\"display:none;\">\n",
              "        \n",
              "  <svg xmlns=\"http://www.w3.org/2000/svg\" height=\"24px\"viewBox=\"0 0 24 24\"\n",
              "       width=\"24px\">\n",
              "    <path d=\"M0 0h24v24H0V0z\" fill=\"none\"/>\n",
              "    <path d=\"M18.56 5.44l.94 2.06.94-2.06 2.06-.94-2.06-.94-.94-2.06-.94 2.06-2.06.94zm-11 1L8.5 8.5l.94-2.06 2.06-.94-2.06-.94L8.5 2.5l-.94 2.06-2.06.94zm10 10l.94 2.06.94-2.06 2.06-.94-2.06-.94-.94-2.06-.94 2.06-2.06.94z\"/><path d=\"M17.41 7.96l-1.37-1.37c-.4-.4-.92-.59-1.43-.59-.52 0-1.04.2-1.43.59L10.3 9.45l-7.72 7.72c-.78.78-.78 2.05 0 2.83L4 21.41c.39.39.9.59 1.41.59.51 0 1.02-.2 1.41-.59l7.78-7.78 2.81-2.81c.8-.78.8-2.07 0-2.86zM5.41 20L4 18.59l7.72-7.72 1.47 1.35L5.41 20z\"/>\n",
              "  </svg>\n",
              "      </button>\n",
              "      \n",
              "  <style>\n",
              "    .colab-df-container {\n",
              "      display:flex;\n",
              "      flex-wrap:wrap;\n",
              "      gap: 12px;\n",
              "    }\n",
              "\n",
              "    .colab-df-convert {\n",
              "      background-color: #E8F0FE;\n",
              "      border: none;\n",
              "      border-radius: 50%;\n",
              "      cursor: pointer;\n",
              "      display: none;\n",
              "      fill: #1967D2;\n",
              "      height: 32px;\n",
              "      padding: 0 0 0 0;\n",
              "      width: 32px;\n",
              "    }\n",
              "\n",
              "    .colab-df-convert:hover {\n",
              "      background-color: #E2EBFA;\n",
              "      box-shadow: 0px 1px 2px rgba(60, 64, 67, 0.3), 0px 1px 3px 1px rgba(60, 64, 67, 0.15);\n",
              "      fill: #174EA6;\n",
              "    }\n",
              "\n",
              "    [theme=dark] .colab-df-convert {\n",
              "      background-color: #3B4455;\n",
              "      fill: #D2E3FC;\n",
              "    }\n",
              "\n",
              "    [theme=dark] .colab-df-convert:hover {\n",
              "      background-color: #434B5C;\n",
              "      box-shadow: 0px 1px 3px 1px rgba(0, 0, 0, 0.15);\n",
              "      filter: drop-shadow(0px 1px 2px rgba(0, 0, 0, 0.3));\n",
              "      fill: #FFFFFF;\n",
              "    }\n",
              "  </style>\n",
              "\n",
              "      <script>\n",
              "        const buttonEl =\n",
              "          document.querySelector('#df-3a0af183-9e4e-4e5c-8fad-c66f1f9541e7 button.colab-df-convert');\n",
              "        buttonEl.style.display =\n",
              "          google.colab.kernel.accessAllowed ? 'block' : 'none';\n",
              "\n",
              "        async function convertToInteractive(key) {\n",
              "          const element = document.querySelector('#df-3a0af183-9e4e-4e5c-8fad-c66f1f9541e7');\n",
              "          const dataTable =\n",
              "            await google.colab.kernel.invokeFunction('convertToInteractive',\n",
              "                                                     [key], {});\n",
              "          if (!dataTable) return;\n",
              "\n",
              "          const docLinkHtml = 'Like what you see? Visit the ' +\n",
              "            '<a target=\"_blank\" href=https://colab.research.google.com/notebooks/data_table.ipynb>data table notebook</a>'\n",
              "            + ' to learn more about interactive tables.';\n",
              "          element.innerHTML = '';\n",
              "          dataTable['output_type'] = 'display_data';\n",
              "          await google.colab.output.renderOutput(dataTable, element);\n",
              "          const docLink = document.createElement('div');\n",
              "          docLink.innerHTML = docLinkHtml;\n",
              "          element.appendChild(docLink);\n",
              "        }\n",
              "      </script>\n",
              "    </div>\n",
              "  </div>\n",
              "  "
            ]
          },
          "metadata": {},
          "execution_count": 6
        }
      ]
    },
    {
      "cell_type": "code",
      "source": [
        "# Cоздаем список с искомыми словами в названиях столбцов для последующего удаления\n",
        "excluded_words = ['Представление', 'Документ', 'Контрагент', 'Врач', 'ЗаключениеМК', 'Салон', 'Дата']\n",
        "\n",
        "# Формируем новую таблицу, удаляя столбцы из созданного списка\n",
        "new_columns = [col for col in data.columns if not any(word in col for word in excluded_words)]\n",
        "new_df = data[new_columns]\n",
        "new_df.info()\n",
        "\n",
        "# Также удалим столбец \"Клиент\"\n",
        "new_df=new_df.drop(columns=['Клиент'])"
      ],
      "metadata": {
        "colab": {
          "base_uri": "https://localhost:8080/"
        },
        "id": "1fuSZ7CVJVJR",
        "outputId": "7327c2b5-ab27-427b-b862-b0cebaae2e96"
      },
      "execution_count": null,
      "outputs": [
        {
          "output_type": "stream",
          "name": "stdout",
          "text": [
            "<class 'pandas.core.frame.DataFrame'>\n",
            "RangeIndex: 1982 entries, 0 to 1981\n",
            "Columns: 2256 entries, Клиент to Возраст\n",
            "dtypes: bool(1), float64(772), int64(1), object(1482)\n",
            "memory usage: 34.1+ MB\n"
          ]
        }
      ]
    },
    {
      "cell_type": "code",
      "source": [
        "df_cut = new_df.drop(new_df.select_dtypes(include=['bool']), axis=1)                                    # удаляем колонки с типом bool\n",
        "df_cut df_cut.isnull().mean() < 0.8 = df_cut.loc[:, ]                                                   # удаляем \"почти\" пустые колонки\n",
        "col_list = df_cut.columns.tolist()                                                                      # список столбцов\n",
        "df_cut[col_list] = df_cut[col_list].astype(str).apply(lambda x: x.str.replace(r'\\W+', '', regex=True))  # удаление служебных символов из столбцов\n",
        "df_cut = df_cut.applymap(lambda x: x.lower() if type(x) == str else x)                                  # заменяем все заглавные буквы на прописные"
      ],
      "metadata": {
        "id": "xTbinux4GvRd"
      },
      "execution_count": null,
      "outputs": []
    },
    {
      "cell_type": "code",
      "source": [
        "print(df_cut.info())\n",
        "# df_cut.head()"
      ],
      "metadata": {
        "colab": {
          "base_uri": "https://localhost:8080/"
        },
        "id": "6BIaaROmQLu5",
        "outputId": "f44651c0-8986-44bb-a293-a7036de4bb6b"
      },
      "execution_count": null,
      "outputs": [
        {
          "output_type": "stream",
          "name": "stdout",
          "text": [
            "<class 'pandas.core.frame.DataFrame'>\n",
            "RangeIndex: 1982 entries, 0 to 1981\n",
            "Columns: 312 entries, КлиентПол to Возраст\n",
            "dtypes: object(312)\n",
            "memory usage: 4.7+ MB\n",
            "None\n"
          ]
        }
      ]
    },
    {
      "cell_type": "code",
      "execution_count": null,
      "metadata": {
        "id": "EmwZvC9lb24U",
        "outputId": "f560bec5-05a1-459b-dc40-16134b296fca",
        "colab": {
          "base_uri": "https://localhost:8080/",
          "height": 268
        }
      },
      "outputs": [
        {
          "output_type": "execute_result",
          "data": {
            "text/plain": [
              "       КлиентПол  ТипМедосмотра   Цех Профессия  \\\n",
              "count       1982           1982  1982      1982   \n",
              "unique         2              2   182       588   \n",
              "top      мужской  периодический   nan  водитель   \n",
              "freq        1451           1981  1180        64   \n",
              "\n",
              "                            Заключение ДиспансернаяГруппа ВредныеФакторы  \\\n",
              "count                             1982               1982           1982   \n",
              "unique                              13                  8            514   \n",
              "top     годенкработевуказанныхусловиях                  i             23   \n",
              "freq                              1424                779            227   \n",
              "\n",
              "       ЛабораторныеИсследования1_Специализация  \\\n",
              "count                                     1982   \n",
              "unique                                       4   \n",
              "top           e866ea50093d11e287b2002618dcef2c   \n",
              "freq                                      1652   \n",
              "\n",
              "       ЛабораторныеИсследования1_ОАК_Значение  \\\n",
              "count                                    1982   \n",
              "unique                                      2   \n",
              "top                                   получен   \n",
              "freq                                     1652   \n",
              "\n",
              "       ЛабораторныеИсследования1_Биохимия_Значение  ...  \\\n",
              "count                                         1982  ...   \n",
              "unique                                           2  ...   \n",
              "top                                        получен  ...   \n",
              "freq                                          1655  ...   \n",
              "\n",
              "       Гинекология1_Своды2_Значение  \\\n",
              "count                          1982   \n",
              "unique                            2   \n",
              "top                             nan   \n",
              "freq                           1519   \n",
              "\n",
              "       Гинекология1_НеИзмененоСОсобенностями_Значение  \\\n",
              "count                                            1982   \n",
              "unique                                              2   \n",
              "top                                               nan   \n",
              "freq                                             1519   \n",
              "\n",
              "       Гинекология1_CтепеньЧистоты_Значение  \\\n",
              "count                                  1982   \n",
              "unique                                    3   \n",
              "top                                     nan   \n",
              "freq                                   1519   \n",
              "\n",
              "       Гинекология1_АтипичныеКлетки_Значение Гинекология1_PSPV_Значение  \\\n",
              "count                                   1982                       1982   \n",
              "unique                                     4                          3   \n",
              "top                                      nan                        nan   \n",
              "freq                                    1519                       1519   \n",
              "\n",
              "       Терапия1_Курение_Значение Стоматология1_НЛ6_Значение  \\\n",
              "count                       1982                       1982   \n",
              "unique                         3                          9   \n",
              "top                           00                        nan   \n",
              "freq                        1105                       1573   \n",
              "\n",
              "       ПсихиатрияНаркология1_ДиагнозДополнение_Значение  \\\n",
              "count                                              1982   \n",
              "unique                                               61   \n",
              "top                                                 nan   \n",
              "freq                                               1468   \n",
              "\n",
              "                Терапия1_Диагноз_Значение Возраст  \n",
              "count                                1982    1982  \n",
              "unique                                 18      54  \n",
              "top     z000общиймедицинскийосмотр_x000d_      36  \n",
              "freq                                  856      83  \n",
              "\n",
              "[4 rows x 312 columns]"
            ],
            "text/html": [
              "\n",
              "  <div id=\"df-77d33579-b83a-42c4-b1dc-5f7960c973ed\">\n",
              "    <div class=\"colab-df-container\">\n",
              "      <div>\n",
              "<style scoped>\n",
              "    .dataframe tbody tr th:only-of-type {\n",
              "        vertical-align: middle;\n",
              "    }\n",
              "\n",
              "    .dataframe tbody tr th {\n",
              "        vertical-align: top;\n",
              "    }\n",
              "\n",
              "    .dataframe thead th {\n",
              "        text-align: right;\n",
              "    }\n",
              "</style>\n",
              "<table border=\"1\" class=\"dataframe\">\n",
              "  <thead>\n",
              "    <tr style=\"text-align: right;\">\n",
              "      <th></th>\n",
              "      <th>КлиентПол</th>\n",
              "      <th>ТипМедосмотра</th>\n",
              "      <th>Цех</th>\n",
              "      <th>Профессия</th>\n",
              "      <th>Заключение</th>\n",
              "      <th>ДиспансернаяГруппа</th>\n",
              "      <th>ВредныеФакторы</th>\n",
              "      <th>ЛабораторныеИсследования1_Специализация</th>\n",
              "      <th>ЛабораторныеИсследования1_ОАК_Значение</th>\n",
              "      <th>ЛабораторныеИсследования1_Биохимия_Значение</th>\n",
              "      <th>...</th>\n",
              "      <th>Гинекология1_Своды2_Значение</th>\n",
              "      <th>Гинекология1_НеИзмененоСОсобенностями_Значение</th>\n",
              "      <th>Гинекология1_CтепеньЧистоты_Значение</th>\n",
              "      <th>Гинекология1_АтипичныеКлетки_Значение</th>\n",
              "      <th>Гинекология1_PSPV_Значение</th>\n",
              "      <th>Терапия1_Курение_Значение</th>\n",
              "      <th>Стоматология1_НЛ6_Значение</th>\n",
              "      <th>ПсихиатрияНаркология1_ДиагнозДополнение_Значение</th>\n",
              "      <th>Терапия1_Диагноз_Значение</th>\n",
              "      <th>Возраст</th>\n",
              "    </tr>\n",
              "  </thead>\n",
              "  <tbody>\n",
              "    <tr>\n",
              "      <th>count</th>\n",
              "      <td>1982</td>\n",
              "      <td>1982</td>\n",
              "      <td>1982</td>\n",
              "      <td>1982</td>\n",
              "      <td>1982</td>\n",
              "      <td>1982</td>\n",
              "      <td>1982</td>\n",
              "      <td>1982</td>\n",
              "      <td>1982</td>\n",
              "      <td>1982</td>\n",
              "      <td>...</td>\n",
              "      <td>1982</td>\n",
              "      <td>1982</td>\n",
              "      <td>1982</td>\n",
              "      <td>1982</td>\n",
              "      <td>1982</td>\n",
              "      <td>1982</td>\n",
              "      <td>1982</td>\n",
              "      <td>1982</td>\n",
              "      <td>1982</td>\n",
              "      <td>1982</td>\n",
              "    </tr>\n",
              "    <tr>\n",
              "      <th>unique</th>\n",
              "      <td>2</td>\n",
              "      <td>2</td>\n",
              "      <td>182</td>\n",
              "      <td>588</td>\n",
              "      <td>13</td>\n",
              "      <td>8</td>\n",
              "      <td>514</td>\n",
              "      <td>4</td>\n",
              "      <td>2</td>\n",
              "      <td>2</td>\n",
              "      <td>...</td>\n",
              "      <td>2</td>\n",
              "      <td>2</td>\n",
              "      <td>3</td>\n",
              "      <td>4</td>\n",
              "      <td>3</td>\n",
              "      <td>3</td>\n",
              "      <td>9</td>\n",
              "      <td>61</td>\n",
              "      <td>18</td>\n",
              "      <td>54</td>\n",
              "    </tr>\n",
              "    <tr>\n",
              "      <th>top</th>\n",
              "      <td>мужской</td>\n",
              "      <td>периодический</td>\n",
              "      <td>nan</td>\n",
              "      <td>водитель</td>\n",
              "      <td>годенкработевуказанныхусловиях</td>\n",
              "      <td>i</td>\n",
              "      <td>23</td>\n",
              "      <td>e866ea50093d11e287b2002618dcef2c</td>\n",
              "      <td>получен</td>\n",
              "      <td>получен</td>\n",
              "      <td>...</td>\n",
              "      <td>nan</td>\n",
              "      <td>nan</td>\n",
              "      <td>nan</td>\n",
              "      <td>nan</td>\n",
              "      <td>nan</td>\n",
              "      <td>00</td>\n",
              "      <td>nan</td>\n",
              "      <td>nan</td>\n",
              "      <td>z000общиймедицинскийосмотр_x000d_</td>\n",
              "      <td>36</td>\n",
              "    </tr>\n",
              "    <tr>\n",
              "      <th>freq</th>\n",
              "      <td>1451</td>\n",
              "      <td>1981</td>\n",
              "      <td>1180</td>\n",
              "      <td>64</td>\n",
              "      <td>1424</td>\n",
              "      <td>779</td>\n",
              "      <td>227</td>\n",
              "      <td>1652</td>\n",
              "      <td>1652</td>\n",
              "      <td>1655</td>\n",
              "      <td>...</td>\n",
              "      <td>1519</td>\n",
              "      <td>1519</td>\n",
              "      <td>1519</td>\n",
              "      <td>1519</td>\n",
              "      <td>1519</td>\n",
              "      <td>1105</td>\n",
              "      <td>1573</td>\n",
              "      <td>1468</td>\n",
              "      <td>856</td>\n",
              "      <td>83</td>\n",
              "    </tr>\n",
              "  </tbody>\n",
              "</table>\n",
              "<p>4 rows × 312 columns</p>\n",
              "</div>\n",
              "      <button class=\"colab-df-convert\" onclick=\"convertToInteractive('df-77d33579-b83a-42c4-b1dc-5f7960c973ed')\"\n",
              "              title=\"Convert this dataframe to an interactive table.\"\n",
              "              style=\"display:none;\">\n",
              "        \n",
              "  <svg xmlns=\"http://www.w3.org/2000/svg\" height=\"24px\"viewBox=\"0 0 24 24\"\n",
              "       width=\"24px\">\n",
              "    <path d=\"M0 0h24v24H0V0z\" fill=\"none\"/>\n",
              "    <path d=\"M18.56 5.44l.94 2.06.94-2.06 2.06-.94-2.06-.94-.94-2.06-.94 2.06-2.06.94zm-11 1L8.5 8.5l.94-2.06 2.06-.94-2.06-.94L8.5 2.5l-.94 2.06-2.06.94zm10 10l.94 2.06.94-2.06 2.06-.94-2.06-.94-.94-2.06-.94 2.06-2.06.94z\"/><path d=\"M17.41 7.96l-1.37-1.37c-.4-.4-.92-.59-1.43-.59-.52 0-1.04.2-1.43.59L10.3 9.45l-7.72 7.72c-.78.78-.78 2.05 0 2.83L4 21.41c.39.39.9.59 1.41.59.51 0 1.02-.2 1.41-.59l7.78-7.78 2.81-2.81c.8-.78.8-2.07 0-2.86zM5.41 20L4 18.59l7.72-7.72 1.47 1.35L5.41 20z\"/>\n",
              "  </svg>\n",
              "      </button>\n",
              "      \n",
              "  <style>\n",
              "    .colab-df-container {\n",
              "      display:flex;\n",
              "      flex-wrap:wrap;\n",
              "      gap: 12px;\n",
              "    }\n",
              "\n",
              "    .colab-df-convert {\n",
              "      background-color: #E8F0FE;\n",
              "      border: none;\n",
              "      border-radius: 50%;\n",
              "      cursor: pointer;\n",
              "      display: none;\n",
              "      fill: #1967D2;\n",
              "      height: 32px;\n",
              "      padding: 0 0 0 0;\n",
              "      width: 32px;\n",
              "    }\n",
              "\n",
              "    .colab-df-convert:hover {\n",
              "      background-color: #E2EBFA;\n",
              "      box-shadow: 0px 1px 2px rgba(60, 64, 67, 0.3), 0px 1px 3px 1px rgba(60, 64, 67, 0.15);\n",
              "      fill: #174EA6;\n",
              "    }\n",
              "\n",
              "    [theme=dark] .colab-df-convert {\n",
              "      background-color: #3B4455;\n",
              "      fill: #D2E3FC;\n",
              "    }\n",
              "\n",
              "    [theme=dark] .colab-df-convert:hover {\n",
              "      background-color: #434B5C;\n",
              "      box-shadow: 0px 1px 3px 1px rgba(0, 0, 0, 0.15);\n",
              "      filter: drop-shadow(0px 1px 2px rgba(0, 0, 0, 0.3));\n",
              "      fill: #FFFFFF;\n",
              "    }\n",
              "  </style>\n",
              "\n",
              "      <script>\n",
              "        const buttonEl =\n",
              "          document.querySelector('#df-77d33579-b83a-42c4-b1dc-5f7960c973ed button.colab-df-convert');\n",
              "        buttonEl.style.display =\n",
              "          google.colab.kernel.accessAllowed ? 'block' : 'none';\n",
              "\n",
              "        async function convertToInteractive(key) {\n",
              "          const element = document.querySelector('#df-77d33579-b83a-42c4-b1dc-5f7960c973ed');\n",
              "          const dataTable =\n",
              "            await google.colab.kernel.invokeFunction('convertToInteractive',\n",
              "                                                     [key], {});\n",
              "          if (!dataTable) return;\n",
              "\n",
              "          const docLinkHtml = 'Like what you see? Visit the ' +\n",
              "            '<a target=\"_blank\" href=https://colab.research.google.com/notebooks/data_table.ipynb>data table notebook</a>'\n",
              "            + ' to learn more about interactive tables.';\n",
              "          element.innerHTML = '';\n",
              "          dataTable['output_type'] = 'display_data';\n",
              "          await google.colab.output.renderOutput(dataTable, element);\n",
              "          const docLink = document.createElement('div');\n",
              "          docLink.innerHTML = docLinkHtml;\n",
              "          element.appendChild(docLink);\n",
              "        }\n",
              "      </script>\n",
              "    </div>\n",
              "  </div>\n",
              "  "
            ]
          },
          "metadata": {},
          "execution_count": 32
        }
      ],
      "source": [
        "df_cut.describe()"
      ]
    },
    {
      "cell_type": "code",
      "source": [
        "# Создадим словарь категориальных признаков \"new_df\"\n",
        "dicts = {}\n",
        "for i in df_cut.columns.values.tolist():\n",
        "    if df_cut[i].dtypes == object:\n",
        "        c = 0\n",
        "        dl = {}\n",
        "        for j in df_cut[i].unique():\n",
        "            c += 1\n",
        "            dl.update({j:c})\n",
        "        dicts.update({i:dl})\n",
        "# dict"
      ],
      "metadata": {
        "id": "i4llVYKKeDwK"
      },
      "execution_count": null,
      "outputs": []
    },
    {
      "cell_type": "code",
      "execution_count": null,
      "metadata": {
        "id": "_K-cmfaKb24W"
      },
      "outputs": [],
      "source": [
        "# Соберем таблицу категориальных признаков на базе \"df_cut\" и \"dicts\"\n",
        "df_fl = df_cut.copy()\n",
        "for i in dicts.keys():\n",
        "    for j in range(df_cut[i].shape[0]):\n",
        "        df_fl[i][j] = float(dicts.get(i).get(df_cut[i][j]))"
      ]
    },
    {
      "cell_type": "code",
      "execution_count": null,
      "metadata": {
        "id": "JMNBMhy0b24W"
      },
      "outputs": [],
      "source": [
        "# Преобразуем в тип float\n",
        "df_fl = df_fl.astype(float)\n",
        "# df_fl"
      ]
    },
    {
      "cell_type": "code",
      "execution_count": null,
      "metadata": {
        "id": "Ko26OXt1b24W",
        "outputId": "14018f15-83e5-4f01-95aa-d9bd0be3f138",
        "colab": {
          "base_uri": "https://localhost:8080/"
        }
      },
      "outputs": [
        {
          "output_type": "stream",
          "name": "stdout",
          "text": [
            "<class 'pandas.core.frame.DataFrame'>\n",
            "RangeIndex: 1982 entries, 0 to 1981\n",
            "Columns: 312 entries, КлиентПол to Возраст\n",
            "dtypes: float64(312)\n",
            "memory usage: 4.7 MB\n"
          ]
        }
      ],
      "source": [
        "df_fl.info()"
      ]
    },
    {
      "cell_type": "code",
      "execution_count": null,
      "metadata": {
        "id": "YzSxMUg2b24X"
      },
      "outputs": [],
      "source": [
        "# Нормализуем данные в таблице признаков (кроме \"Заключение\")\n",
        "for i in df_fl.columns.values.tolist():\n",
        "   if i != 'Заключение':\n",
        "        df_fl[i] = df_fl[i]/df_fl[i].max()"
      ]
    },
    {
      "cell_type": "code",
      "execution_count": null,
      "metadata": {
        "id": "FN21WJYMb24X"
      },
      "outputs": [],
      "source": [
        "# Сформируем массив данных и их значений\n",
        "x=df_fl.drop(columns=['Заключение']).reset_index(drop=True)\n",
        "y=df_fl['Заключение']\n",
        "# x, y"
      ]
    },
    {
      "cell_type": "code",
      "source": [
        "# Пример обработанных данных\n",
        "# y = np.expand_dims(y, axis=1)\n",
        "print(x.shape)\n",
        "print(y.shape)"
      ],
      "metadata": {
        "colab": {
          "base_uri": "https://localhost:8080/"
        },
        "id": "yKj8NS40G_n_",
        "outputId": "d08f9262-836a-498d-a53b-e09938bba0b0"
      },
      "execution_count": null,
      "outputs": [
        {
          "output_type": "stream",
          "name": "stdout",
          "text": [
            "(1982, 311)\n",
            "(1982,)\n"
          ]
        }
      ]
    },
    {
      "cell_type": "code",
      "execution_count": null,
      "metadata": {
        "id": "kwgWHmOgb24X"
      },
      "outputs": [],
      "source": [
        "# Разобъем массив на обучающую и тестовую выборки\n",
        "x_train, x_test, y_train, y_test = train_test_split(x, y, test_size = 0.2, shuffle = True)"
      ]
    },
    {
      "cell_type": "code",
      "source": [
        "# Вывод размеров обучающей и проверочной выборок\n",
        "print(f'Структура и размер массива обучающей выборки: {x_train.shape}')\n",
        "print(f'Структура и размер массива проверочной выборки: {x_test.shape}')"
      ],
      "metadata": {
        "colab": {
          "base_uri": "https://localhost:8080/"
        },
        "id": "fl5Sx3-CesXO",
        "outputId": "1d1f4795-cbe1-4940-fd32-a41d0cb257ac"
      },
      "execution_count": null,
      "outputs": [
        {
          "output_type": "stream",
          "name": "stdout",
          "text": [
            "Структура и размер массива обучающей выборки: (1585, 311)\n",
            "Структура и размер массива проверочной выборки: (397, 311)\n"
          ]
        }
      ]
    },
    {
      "cell_type": "markdown",
      "source": [
        "## Предобученные алгоритмы ML"
      ],
      "metadata": {
        "id": "G65r3TEy__Ui"
      }
    },
    {
      "cell_type": "code",
      "execution_count": null,
      "metadata": {
        "id": "2fy-Bmufb24Y"
      },
      "outputs": [],
      "source": [
        "# Сначала загрузим библиотеки с алгоритмами ML и функциями ошибки\n",
        "from sklearn.ensemble import GradientBoostingRegressor\n",
        "from sklearn.metrics import mean_absolute_error\n",
        "from sklearn.metrics import r2_score\n",
        "from sklearn.metrics import mean_squared_error"
      ]
    },
    {
      "cell_type": "code",
      "source": [
        "# Ранее при экспериментах выяснилось, что наибольшую точность на данном датасете\n",
        "# из предобученных алгоритмов ML показывает GradientBoostingRegressor\n",
        "# Поищем его наилучшую конфигурацию.\n",
        "\n",
        "# Для этого импортируем класс GridSearchCV из модуля sklearn.model_selection.\n",
        "# GridSearchCV - это инструмент для подбора оптимальных гиперпараметров модели при помощи\n",
        "# перебора всех возможных комбинаций заданных значений.\n",
        "\n",
        "from sklearn.model_selection import GridSearchCV\n",
        "\n",
        "# Определяем параметры для перебора\n",
        "param_grid = {'loss': ['ls', 'lad', 'huber', 'quantile'],\n",
        "    'n_estimators': [50, 100, 150], 'max_depth': [3, 5, 7],\n",
        "    'learning_rate': [0.01, 0.1, 1.0]}\n",
        "\n",
        "# Создаем экземпляр GradientBoostingRegressor\n",
        "gb = GradientBoostingRegressor()\n",
        "\n",
        "# Инициализация класса GridSearchCV\n",
        "grid_search = GridSearchCV(gb, param_grid=param_grid, cv=5, n_jobs=-1)\n",
        "\n",
        "# Применяем GridSearchCV к данным для обучения\n",
        "grid_search.fit(x, y)\n",
        "\n",
        "# Выводим наилучшие параметры\n",
        "print('Best parameters:', grid_search.best_params_)"
      ],
      "metadata": {
        "colab": {
          "base_uri": "https://localhost:8080/"
        },
        "id": "yfHVHel03R-z",
        "outputId": "fe125aa6-3f1f-416a-d196-84d3b6177502"
      },
      "execution_count": null,
      "outputs": [
        {
          "output_type": "stream",
          "name": "stdout",
          "text": [
            "Best parameters: {'learning_rate': 0.1, 'loss': 'huber', 'max_depth': 3, 'n_estimators': 50}\n"
          ]
        }
      ]
    },
    {
      "cell_type": "code",
      "source": [
        "# Создание и обучение экземпляра GradientBoostingRegressor с \"наилучшими\" параметрами\n",
        "# на обучающей выборке и проверка его работы на тестовой\n",
        "\n",
        "params = {'learning_rate': 0.1, 'loss': 'huber', 'max_depth': 3, 'n_estimators': 50}\n",
        "\n",
        "model = GradientBoostingRegressor(**params)\n",
        "model.fit(x_train, y_train)\n",
        "\n",
        "# отображение хода обучения\n",
        "train_scores = []\n",
        "test_scores = []\n",
        "\n",
        "for i, y_pred in enumerate(model.staged_predict(x_train)):\n",
        "    train_scores.append(model.loss_(y_train, y_pred))\n",
        "for i, y_pred in enumerate(model.staged_predict(x_test)):\n",
        "    test_scores.append(model.loss_(y_test, y_pred))\n",
        "\n",
        "plt.plot(train_scores, 'b', label='Train')\n",
        "plt.plot(test_scores, 'r', label='Test')\n",
        "plt.legend(loc='upper right')\n",
        "plt.xlabel('n_estimators')\n",
        "plt.ylabel('Loss')\n",
        "plt.show()\n",
        "\n",
        "# проверка на тестовой выборке\n",
        "test_score = model.score(x_test, y_test)\n",
        "print(\"Точность на тестовых данных: {:.4f}\".format(test_score))"
      ],
      "metadata": {
        "colab": {
          "base_uri": "https://localhost:8080/",
          "height": 467
        },
        "id": "fruT6iG0-VFu",
        "outputId": "bf62af30-140f-4d96-8461-a158b80669e4"
      },
      "execution_count": null,
      "outputs": [
        {
          "output_type": "display_data",
          "data": {
            "text/plain": [
              "<Figure size 640x480 with 1 Axes>"
            ],
            "image/png": "[encoded data removed]"
          },
          "metadata": {}
        },
        {
          "output_type": "stream",
          "name": "stdout",
          "text": [
            "Точность на тестовых данных: 0.9719\n"
          ]
        }
      ]
    },
    {
      "cell_type": "markdown",
      "source": [
        "Выводы:\n",
        "1. Ввиду, по-сути, ничтожного количества значений класса \"не годен\" в исходном датасете алгоритмы машинного обучения показывают очень высокие результаты, что объясняется, на мой взгляд, попаданием отрицательных результатов диагностики (\"не годен\") в зону погрешности работы сети. Т.е. сеть выдает единственный результат, \"годен\".\n",
        "2. Для повышения качества работы сети на сильно разбалансированных датасетах существует достаточно большое количество методов, при этом наилучший результат, как правило, дает их комбинация."
      ],
      "metadata": {
        "id": "dX0tgp4ymxUH"
      }
    },
    {
      "cell_type": "markdown",
      "source": [
        "## Новый датасет (от 03.07.2023). Загрузка и предобработка данных."
      ],
      "metadata": {
        "id": "Rd2i27yGwEba"
      }
    },
    {
      "cell_type": "code",
      "source": [
        "# Грузим датасет в переменную\n",
        "data = pd.read_csv('https://storage.yandexcloud.net/terratraineeship/23_InspectrumClinic_RS/datasets/%D0%92%D0%B5%D1%81%D1%8C%20%D0%BF%D0%B5%D1%80%D0%B8%D0%BE%D0%B4.csv',sep = ';')"
      ],
      "metadata": {
        "id": "UayPk5_gwDL_"
      },
      "execution_count": null,
      "outputs": []
    },
    {
      "cell_type": "code",
      "source": [
        "data.info()"
      ],
      "metadata": {
        "colab": {
          "base_uri": "https://localhost:8080/"
        },
        "id": "PndNJMitiiKc",
        "outputId": "534c8b26-3b50-4745-e360-6e4d15aa10c2"
      },
      "execution_count": null,
      "outputs": [
        {
          "output_type": "stream",
          "name": "stdout",
          "text": [
            "<class 'pandas.core.frame.DataFrame'>\n",
            "RangeIndex: 32686 entries, 0 to 32685\n",
            "Columns: 289 entries, ДокументПрохождениеМедосмотра to Эндоскопия1_МКБ102\n",
            "dtypes: bool(1), float64(75), object(213)\n",
            "memory usage: 71.9+ MB\n"
          ]
        }
      ]
    },
    {
      "cell_type": "code",
      "source": [
        "data.head(2)"
      ],
      "metadata": {
        "colab": {
          "base_uri": "https://localhost:8080/",
          "height": 310
        },
        "id": "yYZRFH0pjwEs",
        "outputId": "40381bc3-b86a-42e9-96a3-664ba08b2252"
      },
      "execution_count": null,
      "outputs": [
        {
          "output_type": "execute_result",
          "data": {
            "text/plain": [
              "          ДокументПрохождениеМедосмотра                                Клиент  \\\n",
              "0  79292387-652a-11eb-80e7-0cc47aab8067  dca98d4e-2098-11ea-80d6-0cc47aab8067   \n",
              "1  78efe744-9c36-11eb-80eb-0cc47aab8067  b35fb2bb-9c35-11eb-80eb-0cc47aab8067   \n",
              "\n",
              "    КлиентДатаРождения КлиентПол КлиентПолПредставление  \\\n",
              "0  1989-12-31T00:00:00   Женский                Женский   \n",
              "1  1998-07-20T00:00:00   Женский                Женский   \n",
              "\n",
              "  ДатаЗавершенияМедосмотра  ТипМедосмотра ТипМедосмотраПредставление  \\\n",
              "0      2021-02-02T00:00:00  Периодический              Периодический   \n",
              "1      2021-04-13T00:00:00  Периодический              Периодический   \n",
              "\n",
              "   ПсихОсвидетельствование                            Контрагент  ...  \\\n",
              "0                    False  3d01b2d6-ae08-11e9-80cf-0cc47aab8067  ...   \n",
              "1                    False  3d01b2d6-ae08-11e9-80cf-0cc47aab8067  ...   \n",
              "\n",
              "  ХирургНеИсп3_Диагноз_ЗначениеПредставлениеПредставление ХирургНеИсп3_МКБ101  \\\n",
              "0                                                NaN                      NaN   \n",
              "1                                                NaN                      NaN   \n",
              "\n",
              "  ХирургНеИсп3_МКБ102 ХирургНеИсп3_МКБ103 ЭКГНеИсп1_МКБ101 ЭКГНеИсп1_МКБ102  \\\n",
              "0                 NaN                 NaN              NaN              NaN   \n",
              "1                 NaN                 NaN              NaN              NaN   \n",
              "\n",
              "  ЭКГНеИсп2_МКБ101 ЭКГНеИсп2_МКБ102 Эндоскопия1_МКБ101 Эндоскопия1_МКБ102  \n",
              "0              NaN              NaN                NaN                NaN  \n",
              "1              NaN              NaN                NaN                NaN  \n",
              "\n",
              "[2 rows x 289 columns]"
            ],
            "text/html": [
              "\n",
              "\n",
              "  <div id=\"df-195c112c-2047-46b5-b39c-dfab3fcfab51\">\n",
              "    <div class=\"colab-df-container\">\n",
              "      <div>\n",
              "<style scoped>\n",
              "    .dataframe tbody tr th:only-of-type {\n",
              "        vertical-align: middle;\n",
              "    }\n",
              "\n",
              "    .dataframe tbody tr th {\n",
              "        vertical-align: top;\n",
              "    }\n",
              "\n",
              "    .dataframe thead th {\n",
              "        text-align: right;\n",
              "    }\n",
              "</style>\n",
              "<table border=\"1\" class=\"dataframe\">\n",
              "  <thead>\n",
              "    <tr style=\"text-align: right;\">\n",
              "      <th></th>\n",
              "      <th>ДокументПрохождениеМедосмотра</th>\n",
              "      <th>Клиент</th>\n",
              "      <th>КлиентДатаРождения</th>\n",
              "      <th>КлиентПол</th>\n",
              "      <th>КлиентПолПредставление</th>\n",
              "      <th>ДатаЗавершенияМедосмотра</th>\n",
              "      <th>ТипМедосмотра</th>\n",
              "      <th>ТипМедосмотраПредставление</th>\n",
              "      <th>ПсихОсвидетельствование</th>\n",
              "      <th>Контрагент</th>\n",
              "      <th>...</th>\n",
              "      <th>ХирургНеИсп3_Диагноз_ЗначениеПредставлениеПредставление</th>\n",
              "      <th>ХирургНеИсп3_МКБ101</th>\n",
              "      <th>ХирургНеИсп3_МКБ102</th>\n",
              "      <th>ХирургНеИсп3_МКБ103</th>\n",
              "      <th>ЭКГНеИсп1_МКБ101</th>\n",
              "      <th>ЭКГНеИсп1_МКБ102</th>\n",
              "      <th>ЭКГНеИсп2_МКБ101</th>\n",
              "      <th>ЭКГНеИсп2_МКБ102</th>\n",
              "      <th>Эндоскопия1_МКБ101</th>\n",
              "      <th>Эндоскопия1_МКБ102</th>\n",
              "    </tr>\n",
              "  </thead>\n",
              "  <tbody>\n",
              "    <tr>\n",
              "      <th>0</th>\n",
              "      <td>79292387-652a-11eb-80e7-0cc47aab8067</td>\n",
              "      <td>dca98d4e-2098-11ea-80d6-0cc47aab8067</td>\n",
              "      <td>1989-12-31T00:00:00</td>\n",
              "      <td>Женский</td>\n",
              "      <td>Женский</td>\n",
              "      <td>2021-02-02T00:00:00</td>\n",
              "      <td>Периодический</td>\n",
              "      <td>Периодический</td>\n",
              "      <td>False</td>\n",
              "      <td>3d01b2d6-ae08-11e9-80cf-0cc47aab8067</td>\n",
              "      <td>...</td>\n",
              "      <td>NaN</td>\n",
              "      <td>NaN</td>\n",
              "      <td>NaN</td>\n",
              "      <td>NaN</td>\n",
              "      <td>NaN</td>\n",
              "      <td>NaN</td>\n",
              "      <td>NaN</td>\n",
              "      <td>NaN</td>\n",
              "      <td>NaN</td>\n",
              "      <td>NaN</td>\n",
              "    </tr>\n",
              "    <tr>\n",
              "      <th>1</th>\n",
              "      <td>78efe744-9c36-11eb-80eb-0cc47aab8067</td>\n",
              "      <td>b35fb2bb-9c35-11eb-80eb-0cc47aab8067</td>\n",
              "      <td>1998-07-20T00:00:00</td>\n",
              "      <td>Женский</td>\n",
              "      <td>Женский</td>\n",
              "      <td>2021-04-13T00:00:00</td>\n",
              "      <td>Периодический</td>\n",
              "      <td>Периодический</td>\n",
              "      <td>False</td>\n",
              "      <td>3d01b2d6-ae08-11e9-80cf-0cc47aab8067</td>\n",
              "      <td>...</td>\n",
              "      <td>NaN</td>\n",
              "      <td>NaN</td>\n",
              "      <td>NaN</td>\n",
              "      <td>NaN</td>\n",
              "      <td>NaN</td>\n",
              "      <td>NaN</td>\n",
              "      <td>NaN</td>\n",
              "      <td>NaN</td>\n",
              "      <td>NaN</td>\n",
              "      <td>NaN</td>\n",
              "    </tr>\n",
              "  </tbody>\n",
              "</table>\n",
              "<p>2 rows × 289 columns</p>\n",
              "</div>\n",
              "      <button class=\"colab-df-convert\" onclick=\"convertToInteractive('df-195c112c-2047-46b5-b39c-dfab3fcfab51')\"\n",
              "              title=\"Convert this dataframe to an interactive table.\"\n",
              "              style=\"display:none;\">\n",
              "\n",
              "  <svg xmlns=\"http://www.w3.org/2000/svg\" height=\"24px\"viewBox=\"0 0 24 24\"\n",
              "       width=\"24px\">\n",
              "    <path d=\"M0 0h24v24H0V0z\" fill=\"none\"/>\n",
              "    <path d=\"M18.56 5.44l.94 2.06.94-2.06 2.06-.94-2.06-.94-.94-2.06-.94 2.06-2.06.94zm-11 1L8.5 8.5l.94-2.06 2.06-.94-2.06-.94L8.5 2.5l-.94 2.06-2.06.94zm10 10l.94 2.06.94-2.06 2.06-.94-2.06-.94-.94-2.06-.94 2.06-2.06.94z\"/><path d=\"M17.41 7.96l-1.37-1.37c-.4-.4-.92-.59-1.43-.59-.52 0-1.04.2-1.43.59L10.3 9.45l-7.72 7.72c-.78.78-.78 2.05 0 2.83L4 21.41c.39.39.9.59 1.41.59.51 0 1.02-.2 1.41-.59l7.78-7.78 2.81-2.81c.8-.78.8-2.07 0-2.86zM5.41 20L4 18.59l7.72-7.72 1.47 1.35L5.41 20z\"/>\n",
              "  </svg>\n",
              "      </button>\n",
              "\n",
              "\n",
              "\n",
              "    <div id=\"df-0eb335c3-8aa3-4e37-ab9e-ad1668ae68c1\">\n",
              "      <button class=\"colab-df-quickchart\" onclick=\"quickchart('df-0eb335c3-8aa3-4e37-ab9e-ad1668ae68c1')\"\n",
              "              title=\"Suggest charts.\"\n",
              "              style=\"display:none;\">\n",
              "\n",
              "<svg xmlns=\"http://www.w3.org/2000/svg\" height=\"24px\"viewBox=\"0 0 24 24\"\n",
              "     width=\"24px\">\n",
              "    <g>\n",
              "        <path d=\"M19 3H5c-1.1 0-2 .9-2 2v14c0 1.1.9 2 2 2h14c1.1 0 2-.9 2-2V5c0-1.1-.9-2-2-2zM9 17H7v-7h2v7zm4 0h-2V7h2v10zm4 0h-2v-4h2v4z\"/>\n",
              "    </g>\n",
              "</svg>\n",
              "      </button>\n",
              "    </div>\n",
              "\n",
              "<style>\n",
              "  .colab-df-quickchart {\n",
              "    background-color: #E8F0FE;\n",
              "    border: none;\n",
              "    border-radius: 50%;\n",
              "    cursor: pointer;\n",
              "    display: none;\n",
              "    fill: #1967D2;\n",
              "    height: 32px;\n",
              "    padding: 0 0 0 0;\n",
              "    width: 32px;\n",
              "  }\n",
              "\n",
              "  .colab-df-quickchart:hover {\n",
              "    background-color: #E2EBFA;\n",
              "    box-shadow: 0px 1px 2px rgba(60, 64, 67, 0.3), 0px 1px 3px 1px rgba(60, 64, 67, 0.15);\n",
              "    fill: #174EA6;\n",
              "  }\n",
              "\n",
              "  [theme=dark] .colab-df-quickchart {\n",
              "    background-color: #3B4455;\n",
              "    fill: #D2E3FC;\n",
              "  }\n",
              "\n",
              "  [theme=dark] .colab-df-quickchart:hover {\n",
              "    background-color: #434B5C;\n",
              "    box-shadow: 0px 1px 3px 1px rgba(0, 0, 0, 0.15);\n",
              "    filter: drop-shadow(0px 1px 2px rgba(0, 0, 0, 0.3));\n",
              "    fill: #FFFFFF;\n",
              "  }\n",
              "</style>\n",
              "\n",
              "    <script>\n",
              "      async function quickchart(key) {\n",
              "        const containerElement = document.querySelector('#' + key);\n",
              "        const charts = await google.colab.kernel.invokeFunction(\n",
              "            'suggestCharts', [key], {});\n",
              "      }\n",
              "    </script>\n",
              "\n",
              "      <script>\n",
              "\n",
              "function displayQuickchartButton(domScope) {\n",
              "  let quickchartButtonEl =\n",
              "    domScope.querySelector('#df-0eb335c3-8aa3-4e37-ab9e-ad1668ae68c1 button.colab-df-quickchart');\n",
              "  quickchartButtonEl.style.display =\n",
              "    google.colab.kernel.accessAllowed ? 'block' : 'none';\n",
              "}\n",
              "\n",
              "        displayQuickchartButton(document);\n",
              "      </script>\n",
              "      <style>\n",
              "    .colab-df-container {\n",
              "      display:flex;\n",
              "      flex-wrap:wrap;\n",
              "      gap: 12px;\n",
              "    }\n",
              "\n",
              "    .colab-df-convert {\n",
              "      background-color: #E8F0FE;\n",
              "      border: none;\n",
              "      border-radius: 50%;\n",
              "      cursor: pointer;\n",
              "      display: none;\n",
              "      fill: #1967D2;\n",
              "      height: 32px;\n",
              "      padding: 0 0 0 0;\n",
              "      width: 32px;\n",
              "    }\n",
              "\n",
              "    .colab-df-convert:hover {\n",
              "      background-color: #E2EBFA;\n",
              "      box-shadow: 0px 1px 2px rgba(60, 64, 67, 0.3), 0px 1px 3px 1px rgba(60, 64, 67, 0.15);\n",
              "      fill: #174EA6;\n",
              "    }\n",
              "\n",
              "    [theme=dark] .colab-df-convert {\n",
              "      background-color: #3B4455;\n",
              "      fill: #D2E3FC;\n",
              "    }\n",
              "\n",
              "    [theme=dark] .colab-df-convert:hover {\n",
              "      background-color: #434B5C;\n",
              "      box-shadow: 0px 1px 3px 1px rgba(0, 0, 0, 0.15);\n",
              "      filter: drop-shadow(0px 1px 2px rgba(0, 0, 0, 0.3));\n",
              "      fill: #FFFFFF;\n",
              "    }\n",
              "  </style>\n",
              "\n",
              "      <script>\n",
              "        const buttonEl =\n",
              "          document.querySelector('#df-195c112c-2047-46b5-b39c-dfab3fcfab51 button.colab-df-convert');\n",
              "        buttonEl.style.display =\n",
              "          google.colab.kernel.accessAllowed ? 'block' : 'none';\n",
              "\n",
              "        async function convertToInteractive(key) {\n",
              "          const element = document.querySelector('#df-195c112c-2047-46b5-b39c-dfab3fcfab51');\n",
              "          const dataTable =\n",
              "            await google.colab.kernel.invokeFunction('convertToInteractive',\n",
              "                                                     [key], {});\n",
              "          if (!dataTable) return;\n",
              "\n",
              "          const docLinkHtml = 'Like what you see? Visit the ' +\n",
              "            '<a target=\"_blank\" href=https://colab.research.google.com/notebooks/data_table.ipynb>data table notebook</a>'\n",
              "            + ' to learn more about interactive tables.';\n",
              "          element.innerHTML = '';\n",
              "          dataTable['output_type'] = 'display_data';\n",
              "          await google.colab.output.renderOutput(dataTable, element);\n",
              "          const docLink = document.createElement('div');\n",
              "          docLink.innerHTML = docLinkHtml;\n",
              "          element.appendChild(docLink);\n",
              "        }\n",
              "      </script>\n",
              "    </div>\n",
              "  </div>\n"
            ]
          },
          "metadata": {},
          "execution_count": 5
        }
      ]
    },
    {
      "cell_type": "code",
      "source": [
        "# Преобразование отдельных столбцов в формат даты и времени:\n",
        "\n",
        "date_columns = data.filter(like='Дата').columns\n",
        "data[date_columns] = data[date_columns].apply(pd.to_datetime, errors='coerce')\n",
        "data = data.dropna(subset=date_columns)\n",
        "\n",
        "# data['КлиентДатаРождения'] = pd.to_datetime(data['КлиентДатаРождения'])\n",
        "# data['ДатаЗавершенияМедосмотра'] = pd.to_datetime(data['ДатаЗавершенияМедосмотра'])"
      ],
      "metadata": {
        "id": "IhuFqJqWqdSH"
      },
      "execution_count": null,
      "outputs": []
    },
    {
      "cell_type": "code",
      "source": [
        "# Вычислим возраст клиентов, результат запишим в отдельную колонку\n",
        "data['Возраст'] = (data['ДатаЗавершенияМедосмотра'] - data['КлиентДатаРождения']).dt.days // 365"
      ],
      "metadata": {
        "id": "N32IxjCnjOCR"
      },
      "execution_count": null,
      "outputs": []
    },
    {
      "cell_type": "code",
      "source": [
        "data[['КлиентДатаРождения', 'ДатаЗавершенияМедосмотра', 'Возраст']].head()"
      ],
      "metadata": {
        "colab": {
          "base_uri": "https://localhost:8080/",
          "height": 206
        },
        "id": "z84SyEKnoiNs",
        "outputId": "2d053365-f9d5-4e82-df30-6e4bc2485de9"
      },
      "execution_count": null,
      "outputs": [
        {
          "output_type": "execute_result",
          "data": {
            "text/plain": [
              "  КлиентДатаРождения ДатаЗавершенияМедосмотра  Возраст\n",
              "0         1989-12-31               2021-02-02       31\n",
              "1         1998-07-20               2021-04-13       22\n",
              "2         2002-01-04               2021-04-13       19\n",
              "3         1991-08-26               2021-04-13       29\n",
              "4         1999-03-21               2021-07-29       22"
            ],
            "text/html": [
              "\n",
              "\n",
              "  <div id=\"df-206ba43f-90b5-455c-9474-2c4b5a3e0dc1\">\n",
              "    <div class=\"colab-df-container\">\n",
              "      <div>\n",
              "<style scoped>\n",
              "    .dataframe tbody tr th:only-of-type {\n",
              "        vertical-align: middle;\n",
              "    }\n",
              "\n",
              "    .dataframe tbody tr th {\n",
              "        vertical-align: top;\n",
              "    }\n",
              "\n",
              "    .dataframe thead th {\n",
              "        text-align: right;\n",
              "    }\n",
              "</style>\n",
              "<table border=\"1\" class=\"dataframe\">\n",
              "  <thead>\n",
              "    <tr style=\"text-align: right;\">\n",
              "      <th></th>\n",
              "      <th>КлиентДатаРождения</th>\n",
              "      <th>ДатаЗавершенияМедосмотра</th>\n",
              "      <th>Возраст</th>\n",
              "    </tr>\n",
              "  </thead>\n",
              "  <tbody>\n",
              "    <tr>\n",
              "      <th>0</th>\n",
              "      <td>1989-12-31</td>\n",
              "      <td>2021-02-02</td>\n",
              "      <td>31</td>\n",
              "    </tr>\n",
              "    <tr>\n",
              "      <th>1</th>\n",
              "      <td>1998-07-20</td>\n",
              "      <td>2021-04-13</td>\n",
              "      <td>22</td>\n",
              "    </tr>\n",
              "    <tr>\n",
              "      <th>2</th>\n",
              "      <td>2002-01-04</td>\n",
              "      <td>2021-04-13</td>\n",
              "      <td>19</td>\n",
              "    </tr>\n",
              "    <tr>\n",
              "      <th>3</th>\n",
              "      <td>1991-08-26</td>\n",
              "      <td>2021-04-13</td>\n",
              "      <td>29</td>\n",
              "    </tr>\n",
              "    <tr>\n",
              "      <th>4</th>\n",
              "      <td>1999-03-21</td>\n",
              "      <td>2021-07-29</td>\n",
              "      <td>22</td>\n",
              "    </tr>\n",
              "  </tbody>\n",
              "</table>\n",
              "</div>\n",
              "      <button class=\"colab-df-convert\" onclick=\"convertToInteractive('df-206ba43f-90b5-455c-9474-2c4b5a3e0dc1')\"\n",
              "              title=\"Convert this dataframe to an interactive table.\"\n",
              "              style=\"display:none;\">\n",
              "\n",
              "  <svg xmlns=\"http://www.w3.org/2000/svg\" height=\"24px\"viewBox=\"0 0 24 24\"\n",
              "       width=\"24px\">\n",
              "    <path d=\"M0 0h24v24H0V0z\" fill=\"none\"/>\n",
              "    <path d=\"M18.56 5.44l.94 2.06.94-2.06 2.06-.94-2.06-.94-.94-2.06-.94 2.06-2.06.94zm-11 1L8.5 8.5l.94-2.06 2.06-.94-2.06-.94L8.5 2.5l-.94 2.06-2.06.94zm10 10l.94 2.06.94-2.06 2.06-.94-2.06-.94-.94-2.06-.94 2.06-2.06.94z\"/><path d=\"M17.41 7.96l-1.37-1.37c-.4-.4-.92-.59-1.43-.59-.52 0-1.04.2-1.43.59L10.3 9.45l-7.72 7.72c-.78.78-.78 2.05 0 2.83L4 21.41c.39.39.9.59 1.41.59.51 0 1.02-.2 1.41-.59l7.78-7.78 2.81-2.81c.8-.78.8-2.07 0-2.86zM5.41 20L4 18.59l7.72-7.72 1.47 1.35L5.41 20z\"/>\n",
              "  </svg>\n",
              "      </button>\n",
              "\n",
              "\n",
              "\n",
              "    <div id=\"df-3f3e01a3-02fc-4cd3-a18f-914be1af0fc5\">\n",
              "      <button class=\"colab-df-quickchart\" onclick=\"quickchart('df-3f3e01a3-02fc-4cd3-a18f-914be1af0fc5')\"\n",
              "              title=\"Suggest charts.\"\n",
              "              style=\"display:none;\">\n",
              "\n",
              "<svg xmlns=\"http://www.w3.org/2000/svg\" height=\"24px\"viewBox=\"0 0 24 24\"\n",
              "     width=\"24px\">\n",
              "    <g>\n",
              "        <path d=\"M19 3H5c-1.1 0-2 .9-2 2v14c0 1.1.9 2 2 2h14c1.1 0 2-.9 2-2V5c0-1.1-.9-2-2-2zM9 17H7v-7h2v7zm4 0h-2V7h2v10zm4 0h-2v-4h2v4z\"/>\n",
              "    </g>\n",
              "</svg>\n",
              "      </button>\n",
              "    </div>\n",
              "\n",
              "<style>\n",
              "  .colab-df-quickchart {\n",
              "    background-color: #E8F0FE;\n",
              "    border: none;\n",
              "    border-radius: 50%;\n",
              "    cursor: pointer;\n",
              "    display: none;\n",
              "    fill: #1967D2;\n",
              "    height: 32px;\n",
              "    padding: 0 0 0 0;\n",
              "    width: 32px;\n",
              "  }\n",
              "\n",
              "  .colab-df-quickchart:hover {\n",
              "    background-color: #E2EBFA;\n",
              "    box-shadow: 0px 1px 2px rgba(60, 64, 67, 0.3), 0px 1px 3px 1px rgba(60, 64, 67, 0.15);\n",
              "    fill: #174EA6;\n",
              "  }\n",
              "\n",
              "  [theme=dark] .colab-df-quickchart {\n",
              "    background-color: #3B4455;\n",
              "    fill: #D2E3FC;\n",
              "  }\n",
              "\n",
              "  [theme=dark] .colab-df-quickchart:hover {\n",
              "    background-color: #434B5C;\n",
              "    box-shadow: 0px 1px 3px 1px rgba(0, 0, 0, 0.15);\n",
              "    filter: drop-shadow(0px 1px 2px rgba(0, 0, 0, 0.3));\n",
              "    fill: #FFFFFF;\n",
              "  }\n",
              "</style>\n",
              "\n",
              "    <script>\n",
              "      async function quickchart(key) {\n",
              "        const containerElement = document.querySelector('#' + key);\n",
              "        const charts = await google.colab.kernel.invokeFunction(\n",
              "            'suggestCharts', [key], {});\n",
              "      }\n",
              "    </script>\n",
              "\n",
              "      <script>\n",
              "\n",
              "function displayQuickchartButton(domScope) {\n",
              "  let quickchartButtonEl =\n",
              "    domScope.querySelector('#df-3f3e01a3-02fc-4cd3-a18f-914be1af0fc5 button.colab-df-quickchart');\n",
              "  quickchartButtonEl.style.display =\n",
              "    google.colab.kernel.accessAllowed ? 'block' : 'none';\n",
              "}\n",
              "\n",
              "        displayQuickchartButton(document);\n",
              "      </script>\n",
              "      <style>\n",
              "    .colab-df-container {\n",
              "      display:flex;\n",
              "      flex-wrap:wrap;\n",
              "      gap: 12px;\n",
              "    }\n",
              "\n",
              "    .colab-df-convert {\n",
              "      background-color: #E8F0FE;\n",
              "      border: none;\n",
              "      border-radius: 50%;\n",
              "      cursor: pointer;\n",
              "      display: none;\n",
              "      fill: #1967D2;\n",
              "      height: 32px;\n",
              "      padding: 0 0 0 0;\n",
              "      width: 32px;\n",
              "    }\n",
              "\n",
              "    .colab-df-convert:hover {\n",
              "      background-color: #E2EBFA;\n",
              "      box-shadow: 0px 1px 2px rgba(60, 64, 67, 0.3), 0px 1px 3px 1px rgba(60, 64, 67, 0.15);\n",
              "      fill: #174EA6;\n",
              "    }\n",
              "\n",
              "    [theme=dark] .colab-df-convert {\n",
              "      background-color: #3B4455;\n",
              "      fill: #D2E3FC;\n",
              "    }\n",
              "\n",
              "    [theme=dark] .colab-df-convert:hover {\n",
              "      background-color: #434B5C;\n",
              "      box-shadow: 0px 1px 3px 1px rgba(0, 0, 0, 0.15);\n",
              "      filter: drop-shadow(0px 1px 2px rgba(0, 0, 0, 0.3));\n",
              "      fill: #FFFFFF;\n",
              "    }\n",
              "  </style>\n",
              "\n",
              "      <script>\n",
              "        const buttonEl =\n",
              "          document.querySelector('#df-206ba43f-90b5-455c-9474-2c4b5a3e0dc1 button.colab-df-convert');\n",
              "        buttonEl.style.display =\n",
              "          google.colab.kernel.accessAllowed ? 'block' : 'none';\n",
              "\n",
              "        async function convertToInteractive(key) {\n",
              "          const element = document.querySelector('#df-206ba43f-90b5-455c-9474-2c4b5a3e0dc1');\n",
              "          const dataTable =\n",
              "            await google.colab.kernel.invokeFunction('convertToInteractive',\n",
              "                                                     [key], {});\n",
              "          if (!dataTable) return;\n",
              "\n",
              "          const docLinkHtml = 'Like what you see? Visit the ' +\n",
              "            '<a target=\"_blank\" href=https://colab.research.google.com/notebooks/data_table.ipynb>data table notebook</a>'\n",
              "            + ' to learn more about interactive tables.';\n",
              "          element.innerHTML = '';\n",
              "          dataTable['output_type'] = 'display_data';\n",
              "          await google.colab.output.renderOutput(dataTable, element);\n",
              "          const docLink = document.createElement('div');\n",
              "          docLink.innerHTML = docLinkHtml;\n",
              "          element.appendChild(docLink);\n",
              "        }\n",
              "      </script>\n",
              "    </div>\n",
              "  </div>\n"
            ]
          },
          "metadata": {},
          "execution_count": 6
        }
      ]
    },
    {
      "cell_type": "code",
      "source": [
        "data.info()"
      ],
      "metadata": {
        "colab": {
          "base_uri": "https://localhost:8080/"
        },
        "id": "pS4F4LEkrkid",
        "outputId": "a83dbe26-0dbb-4cc1-b817-aeb4a161dbd3"
      },
      "execution_count": null,
      "outputs": [
        {
          "output_type": "stream",
          "name": "stdout",
          "text": [
            "<class 'pandas.core.frame.DataFrame'>\n",
            "Int64Index: 32441 entries, 0 to 32685\n",
            "Columns: 290 entries, ДокументПрохождениеМедосмотра to Возраст\n",
            "dtypes: bool(1), datetime64[ns](2), float64(75), int64(1), object(211)\n",
            "memory usage: 71.8+ MB\n"
          ]
        }
      ]
    },
    {
      "cell_type": "code",
      "source": [
        "# Cоздаем список с искомыми словами в названиях столбцов для последующего удаления\n",
        "excluded_words = ['Представление', 'Документ', 'Контрагент', 'Врач', 'ЗаключениеМК', 'Салон', 'Дата']\n",
        "\n",
        "# Формируем новую таблицу, удаляя столбцы из созданного списка\n",
        "new_columns = [col for col in data.columns if not any(word in col for word in excluded_words)]\n",
        "new_df = data[new_columns]\n",
        "new_df.info()\n",
        "\n",
        "# Также удалим столбец \"Клиент\"\n",
        "new_df=new_df.drop(columns=['Клиент'])"
      ],
      "metadata": {
        "colab": {
          "base_uri": "https://localhost:8080/"
        },
        "id": "i92NCUucp3IH",
        "outputId": "a5da6dd8-f7f7-40e0-c32d-17d52e16fc91"
      },
      "execution_count": null,
      "outputs": [
        {
          "output_type": "stream",
          "name": "stdout",
          "text": [
            "<class 'pandas.core.frame.DataFrame'>\n",
            "Int64Index: 32441 entries, 0 to 32685\n",
            "Columns: 219 entries, Клиент to Возраст\n",
            "dtypes: bool(1), float64(20), int64(1), object(197)\n",
            "memory usage: 54.2+ MB\n"
          ]
        }
      ]
    },
    {
      "cell_type": "code",
      "source": [
        "# Подключим Гугл-диск\n",
        "from google.colab import drive\n",
        "drive.mount('/content/drive')"
      ],
      "metadata": {
        "colab": {
          "base_uri": "https://localhost:8080/"
        },
        "id": "6HxfUGTnNrAg",
        "outputId": "bf7d62c9-d63b-4619-938d-16037de979cb"
      },
      "execution_count": null,
      "outputs": [
        {
          "output_type": "stream",
          "name": "stdout",
          "text": [
            "Mounted at /content/drive\n"
          ]
        }
      ]
    },
    {
      "cell_type": "code",
      "source": [
        "# и сохраним туда обработанную таблицу\n",
        "data.to_csv('/content/drive/MyDrive/Стажировка/Profpatolog/Data/data_030723.csv')"
      ],
      "metadata": {
        "id": "HJdING1IOJQq"
      },
      "execution_count": null,
      "outputs": []
    },
    {
      "cell_type": "code",
      "source": [
        "df_cut = new_df.drop(new_df.select_dtypes(include=['bool']), axis=1)                                    # удаляем колонки с типом bool\n",
        "df_cut = df_cut.loc[:, df_cut.isnull().mean() < 0.8]                                                    # удаляем \"почти\" пустые колонки\n",
        "col_list = df_cut.columns.tolist()                                                                      # список столбцов\n",
        "df_cut[col_list] = df_cut[col_list].astype(str).apply(lambda x: x.str.replace(r'\\W+', '', regex=True))  # удаление служебных символов из столбцов\n",
        "df_cut = df_cut.applymap(lambda x: x.lower() if type(x) == str else x)                                  # заменяем все заглавные буквы на прописные"
      ],
      "metadata": {
        "id": "Wwhg3rnbtGan"
      },
      "execution_count": null,
      "outputs": []
    },
    {
      "cell_type": "code",
      "source": [
        "df_cut.nunique()"
      ],
      "metadata": {
        "id": "TfYbt0DB2NL6",
        "colab": {
          "base_uri": "https://localhost:8080/"
        },
        "outputId": "77c0527d-02b6-4e31-b0bf-42d676ed6126"
      },
      "execution_count": null,
      "outputs": [
        {
          "output_type": "execute_result",
          "data": {
            "text/plain": [
              "КлиентПол                              4\n",
              "ТипМедосмотра                          2\n",
              "Цех                                  716\n",
              "Профессия                           2704\n",
              "Заключение                            29\n",
              "ВредныеФакторы                      2518\n",
              "Дерматовенерология1_МКБ101            26\n",
              "ЛабораторныеИсследования1_МКБ101       3\n",
              "Неврология1_МКБ101                    48\n",
              "Оториноларингология1_МКБ101           46\n",
              "Офтальмология1_МКБ101                 75\n",
              "ПсихиатрияНаркология1_МКБ101          27\n",
              "Стоматология1_МКБ101                  14\n",
              "Терапия1_МКБ101                      125\n",
              "Хирургия1_МКБ101                      19\n",
              "Возраст                               71\n",
              "dtype: int64"
            ]
          },
          "metadata": {},
          "execution_count": 12
        }
      ]
    },
    {
      "cell_type": "code",
      "source": [
        "# Посмотрим значения столбцов \"КлиентПол\" и \"Заключение\":\n",
        "unique_values = df_cut['КлиентПол'].unique()\n",
        "print(unique_values)\n",
        "\n",
        "unique_values = df_cut['Заключение'].unique()\n",
        "print(unique_values)"
      ],
      "metadata": {
        "id": "evyKpiKHt6xf",
        "colab": {
          "base_uri": "https://localhost:8080/"
        },
        "outputId": "441965d7-dbaf-405e-9f5b-dafcf417ad68"
      },
      "execution_count": null,
      "outputs": [
        {
          "output_type": "stream",
          "name": "stdout",
          "text": [
            "['женский' 'мужской' 'nan' 'неуказан']\n",
            "['годенкработевуказанныхусловиях'\n",
            " 'годенкработевуказанныхусловияхскоррекциейзрения'\n",
            " 'годенкработевуказанныхусловияхскоррекциейзрениякромеп17'\n",
            " 'нуждаетсявдообследованииилечении' 'nan'\n",
            " 'годенкработевуказанныхусловияхскоррекциейзрениякромеп61'\n",
            " 'годенкработевуказанныхусловияхбезработнавысотах'\n",
            " 'годенкработевуказанныхусловияхскоррекциейзрениякромеп61п8'\n",
            " 'годенкработевуказанныхусловияхкромеп17'\n",
            " 'годенкработевуказанныхусловияхскоррекциейзрениякромеп61п14ип17'\n",
            " 'годенкработевуказанныхусловияхкромеп14ип17'\n",
            " 'годенкработевуказанныхусловияхкромеп44'\n",
            " 'годенкработевуказанныхусловияхкромеп62п181'\n",
            " 'годенкработевуказанныхусловияхскоррекциейзрениябезработнавысотах'\n",
            " 'годенкработевуказанныхусловияхскоррекциейзрениякромеп61э'\n",
            " 'годенкработевуказанныхусловияхскоррекциейслуха'\n",
            " 'годенкработевуказанныхусловияхскоррекциейзрениякромеп6162'\n",
            " 'годенкработевуказанныхусловияхскоррекциейзрениякромеп62'\n",
            " 'годенкработевуказанныхусловияхпротивопаказанаработасподьемомиперемещениемтяжестейболее5кгдлительнойходьбойболее500метровработанавысотевхолодныхпомещенияхэмоциональныенагрузкиполныйрабочийдень'\n",
            " 'годенкработевуказанныхусловияхскоррекциейзрениякромеп61п62' 'п181'\n",
            " 'годенкработевуказанныхусловияхбезработнавысотахпротивопоказанаработасвязаннаясвысотойподьемиперемещениетяжестейдлительнойходьбой'\n",
            " 'ограниченногоден' 'годенкработевуказанныхусловияхкромеп62' 'стропальщик'\n",
            " 'годенкработевуказанныхусловияхскоррекциейзрениякромеп6ип14'\n",
            " 'годенкработевуказанныхусловияхкромеп6115' 'негоден'\n",
            " 'годенкработевуказанныхусловияхбезработнавысотахкромеп61']\n"
          ]
        }
      ]
    },
    {
      "cell_type": "code",
      "source": [
        "# Подчистим таблицу\n",
        "\n",
        "# удаляем строки со значением \"nan\", \"неуказан\", из стробца \"КлиентПол\":\n",
        "# df_cut = df_cut.drop(df_cut[df_cut['КлиентПол'] == 'nan'].index)\n",
        "# df_cut = df_cut.drop(df_cut[df_cut['КлиентПол'] == 'неуказан'].index)\n",
        "\n",
        "# удаляем строки со значением \"стропальщик\", \"п181\", \"nan\" из стробца \"Заключение\":\n",
        "df_cut = df_cut.drop(df_cut[df_cut['Заключение'] == 'стропальщик'].index)\n",
        "df_cut = df_cut.drop(df_cut[df_cut['Заключение'] == 'п181'].index)\n",
        "df_cut = df_cut.drop(df_cut[df_cut['Заключение'] == 'nan'].index)\n"
      ],
      "metadata": {
        "id": "OitBzXkfwA_J"
      },
      "execution_count": null,
      "outputs": []
    },
    {
      "cell_type": "code",
      "source": [
        "# Посмотрим варианты значений столбца \"Заключение\" и их количество\n",
        "df_cut['Заключение'].value_counts()"
      ],
      "metadata": {
        "id": "CnIFerN9jEa4",
        "colab": {
          "base_uri": "https://localhost:8080/"
        },
        "outputId": "0e858091-1275-489e-e838-4a4f396cc2d7"
      },
      "execution_count": null,
      "outputs": [
        {
          "output_type": "execute_result",
          "data": {
            "text/plain": [
              "годенкработевуказанныхусловиях                                                                                                                                                                     17400\n",
              "годенкработевуказанныхусловияхскоррекциейзрения                                                                                                                                                     1025\n",
              "годенкработевуказанныхусловияхскоррекциейзрениякромеп61                                                                                                                                               64\n",
              "годенкработевуказанныхусловияхбезработнавысотах                                                                                                                                                       45\n",
              "нуждаетсявдообследованииилечении                                                                                                                                                                      40\n",
              "годенкработевуказанныхусловияхскоррекциейзрениякромеп17                                                                                                                                               10\n",
              "годенкработевуказанныхусловияхскоррекциейзрениякромеп62                                                                                                                                                7\n",
              "годенкработевуказанныхусловияхскоррекциейслуха                                                                                                                                                         5\n",
              "годенкработевуказанныхусловияхбезработнавысотахкромеп61                                                                                                                                                5\n",
              "годенкработевуказанныхусловияхскоррекциейзрениякромеп6162                                                                                                                                              4\n",
              "негоден                                                                                                                                                                                                3\n",
              "ограниченногоден                                                                                                                                                                                       3\n",
              "годенкработевуказанныхусловияхкромеп14ип17                                                                                                                                                             1\n",
              "годенкработевуказанныхусловияхскоррекциейзрениякромеп61п62                                                                                                                                             1\n",
              "годенкработевуказанныхусловияхкромеп6115                                                                                                                                                               1\n",
              "годенкработевуказанныхусловияхскоррекциейзрениякромеп6ип14                                                                                                                                             1\n",
              "годенкработевуказанныхусловияхкромеп62                                                                                                                                                                 1\n",
              "годенкработевуказанныхусловияхбезработнавысотахпротивопоказанаработасвязаннаясвысотойподьемиперемещениетяжестейдлительнойходьбой                                                                       1\n",
              "годенкработевуказанныхусловияхпротивопаказанаработасподьемомиперемещениемтяжестейболее5кгдлительнойходьбойболее500метровработанавысотевхолодныхпомещенияхэмоциональныенагрузкиполныйрабочийдень        1\n",
              "годенкработевуказанныхусловияхкромеп44                                                                                                                                                                 1\n",
              "годенкработевуказанныхусловияхскоррекциейзрениякромеп61п8                                                                                                                                              1\n",
              "годенкработевуказанныхусловияхкромеп17                                                                                                                                                                 1\n",
              "годенкработевуказанныхусловияхскоррекциейзрениякромеп61п14ип17                                                                                                                                         1\n",
              "годенкработевуказанныхусловияхскоррекциейзрениябезработнавысотах                                                                                                                                       1\n",
              "годенкработевуказанныхусловияхкромеп62п181                                                                                                                                                             1\n",
              "годенкработевуказанныхусловияхскоррекциейзрениякромеп61э                                                                                                                                               1\n",
              "Name: Заключение, dtype: int64"
            ]
          },
          "metadata": {},
          "execution_count": 10
        }
      ]
    },
    {
      "cell_type": "code",
      "source": [
        "# Оставим три класса годности:\n",
        "df_cut['Заключение'] = df_cut['Заключение'].replace(['годенкработевуказанныхусловиях'], 'годен')\n",
        "df_cut['Заключение'] = df_cut['Заключение'].replace(['нуждаетсявдообследованииилечении', 'nan', 'негоден'], 'негоден')\n",
        "df_cut['Заключение'] = df_cut['Заключение'].map(lambda x: x if x in ['годен', 'негоден'] else 'органиченно годен')"
      ],
      "metadata": {
        "id": "_NKIUqkuz7mB"
      },
      "execution_count": null,
      "outputs": []
    },
    {
      "cell_type": "code",
      "source": [
        "unique_values = df_cut['Заключение'].unique()\n",
        "print(unique_values)\n",
        "df_cut['Заключение'].value_counts()"
      ],
      "metadata": {
        "colab": {
          "base_uri": "https://localhost:8080/"
        },
        "id": "so6D3OH9ec5y",
        "outputId": "69d60cc2-160c-45c2-b65f-060e1dc6c9cf"
      },
      "execution_count": null,
      "outputs": [
        {
          "output_type": "stream",
          "name": "stdout",
          "text": [
            "['годен' 'органиченно годен' 'негоден']\n"
          ]
        },
        {
          "output_type": "execute_result",
          "data": {
            "text/plain": [
              "годен                17400\n",
              "органиченно годен     1182\n",
              "негоден                 43\n",
              "Name: Заключение, dtype: int64"
            ]
          },
          "metadata": {},
          "execution_count": 132
        }
      ]
    },
    {
      "cell_type": "code",
      "source": [
        "# Уберем половину \"годных\"\n",
        "count = 0\n",
        "df_cut_1 = df_cut\n",
        "# Проходим по каждой строке датафрейма\n",
        "for index, row in df_cut_1.iterrows():\n",
        "    if row['Заключение'] == 'годен':\n",
        "        # Увеличиваем счетчик на 1, когда встречаем строку с \"Годен\"\n",
        "        count += 1\n",
        "        if count % 2 == 0:\n",
        "            # Удаляем каждую вторую строку, где значение в колонке \"Заключение\" равно \"Годен\"\n",
        "            df_cut_1.drop(index, inplace=True)\n"
      ],
      "metadata": {
        "id": "W7W2v4JAr9OH"
      },
      "execution_count": null,
      "outputs": []
    },
    {
      "cell_type": "code",
      "source": [
        "df_cut_1['Заключение'].value_counts()"
      ],
      "metadata": {
        "colab": {
          "base_uri": "https://localhost:8080/"
        },
        "id": "AnSW8Fq2yLBG",
        "outputId": "24c36b2e-ab2f-40da-bca6-77e1614b8010"
      },
      "execution_count": null,
      "outputs": [
        {
          "output_type": "execute_result",
          "data": {
            "text/plain": [
              "годен                8700\n",
              "органиченно годен    1182\n",
              "негоден                43\n",
              "Name: Заключение, dtype: int64"
            ]
          },
          "metadata": {},
          "execution_count": 146
        }
      ]
    },
    {
      "cell_type": "code",
      "source": [
        "df_cut_1.info()"
      ],
      "metadata": {
        "colab": {
          "base_uri": "https://localhost:8080/"
        },
        "id": "CC3Bx2ZMyjiQ",
        "outputId": "b4c9c2ec-4afb-4447-9015-176d74dee144"
      },
      "execution_count": null,
      "outputs": [
        {
          "output_type": "stream",
          "name": "stdout",
          "text": [
            "<class 'pandas.core.frame.DataFrame'>\n",
            "RangeIndex: 9925 entries, 0 to 9924\n",
            "Data columns (total 16 columns):\n",
            " #   Column                            Non-Null Count  Dtype \n",
            "---  ------                            --------------  ----- \n",
            " 0   КлиентПол                         9925 non-null   object\n",
            " 1   ТипМедосмотра                     9925 non-null   object\n",
            " 2   Цех                               9925 non-null   object\n",
            " 3   Профессия                         9925 non-null   object\n",
            " 4   Заключение                        9925 non-null   object\n",
            " 5   ВредныеФакторы                    9925 non-null   object\n",
            " 6   Дерматовенерология1_МКБ101        9925 non-null   object\n",
            " 7   ЛабораторныеИсследования1_МКБ101  9925 non-null   object\n",
            " 8   Неврология1_МКБ101                9925 non-null   object\n",
            " 9   Оториноларингология1_МКБ101       9925 non-null   object\n",
            " 10  Офтальмология1_МКБ101             9925 non-null   object\n",
            " 11  ПсихиатрияНаркология1_МКБ101      9925 non-null   object\n",
            " 12  Стоматология1_МКБ101              9925 non-null   object\n",
            " 13  Терапия1_МКБ101                   9925 non-null   object\n",
            " 14  Хирургия1_МКБ101                  9925 non-null   object\n",
            " 15  Возраст                           9925 non-null   object\n",
            "dtypes: object(16)\n",
            "memory usage: 1.2+ MB\n"
          ]
        }
      ]
    },
    {
      "cell_type": "code",
      "source": [
        "# Обновим индексы строк таблицы:\n",
        "df_cut_1 = df_cut.reset_index(drop=True)"
      ],
      "metadata": {
        "id": "AW05BmEw1NuS"
      },
      "execution_count": null,
      "outputs": []
    },
    {
      "cell_type": "code",
      "source": [
        "# Создадим словарь категориальных признаков \"new_df\"\n",
        "dicts = {}\n",
        "for i in df_cut_1.columns.values.tolist():\n",
        "    if df_cut_1[i].dtypes == object:\n",
        "        c = 0\n",
        "        dl = {}\n",
        "        for j in df_cut_1[i].unique():\n",
        "            c += 1\n",
        "            dl.update({j:c})\n",
        "        dicts.update({i:dl})"
      ],
      "metadata": {
        "id": "L3mGyPWa0dvw"
      },
      "execution_count": null,
      "outputs": []
    },
    {
      "cell_type": "code",
      "source": [
        "print(df_cut_1.shape)"
      ],
      "metadata": {
        "colab": {
          "base_uri": "https://localhost:8080/"
        },
        "id": "URTOLzKGdmEY",
        "outputId": "f14ddfad-bb95-4056-9a35-6cdd493a7c2e"
      },
      "execution_count": null,
      "outputs": [
        {
          "output_type": "stream",
          "name": "stdout",
          "text": [
            "(9925, 16)\n"
          ]
        }
      ]
    },
    {
      "cell_type": "code",
      "source": [
        "# Соберем таблицу категориальных признаков на базе \"df_cut\" и \"dicts\"\n",
        "df_fl = df_cut_1.copy()\n",
        "for i in dicts.keys():\n",
        "    for j in range(df_cut_1[i].shape[0]):\n",
        "        df_fl[i][j] = float(dicts.get(i).get(df_cut_1[i][j]))"
      ],
      "metadata": {
        "id": "PR7EIBpH0z8D"
      },
      "execution_count": null,
      "outputs": []
    },
    {
      "cell_type": "code",
      "source": [
        "df_fl.iloc[4750]"
      ],
      "metadata": {
        "colab": {
          "base_uri": "https://localhost:8080/"
        },
        "id": "37Hqe_f5d0MV",
        "outputId": "e3d5b810-120b-4c11-d5fd-8b1668b898fd"
      },
      "execution_count": null,
      "outputs": [
        {
          "output_type": "execute_result",
          "data": {
            "text/plain": [
              "КлиентПол                             2.0\n",
              "ТипМедосмотра                         1.0\n",
              "Цех                                   1.0\n",
              "Профессия                           783.0\n",
              "Заключение                            1.0\n",
              "ВредныеФакторы                      370.0\n",
              "Дерматовенерология1_МКБ101            2.0\n",
              "ЛабораторныеИсследования1_МКБ101      1.0\n",
              "Неврология1_МКБ101                    1.0\n",
              "Оториноларингология1_МКБ101           2.0\n",
              "Офтальмология1_МКБ101                 1.0\n",
              "ПсихиатрияНаркология1_МКБ101          1.0\n",
              "Стоматология1_МКБ101                  2.0\n",
              "Терапия1_МКБ101                       1.0\n",
              "Хирургия1_МКБ101                      1.0\n",
              "Возраст                              27.0\n",
              "Name: 4750, dtype: object"
            ]
          },
          "metadata": {},
          "execution_count": 153
        }
      ]
    },
    {
      "cell_type": "code",
      "source": [
        "y_ohe[4750]"
      ],
      "metadata": {
        "colab": {
          "base_uri": "https://localhost:8080/"
        },
        "id": "OXSdu5kvl0Ad",
        "outputId": "f77c44f4-a0a8-4de4-8cff-c1c8130d6096"
      },
      "execution_count": null,
      "outputs": [
        {
          "output_type": "execute_result",
          "data": {
            "text/plain": [
              "array([0., 0., 0., 1.], dtype=float32)"
            ]
          },
          "metadata": {},
          "execution_count": 154
        }
      ]
    },
    {
      "cell_type": "code",
      "source": [
        "# Преобразуем в тип float\n",
        "df_fl = df_fl.astype(float)"
      ],
      "metadata": {
        "id": "oc3f1OcI2Y5f"
      },
      "execution_count": null,
      "outputs": []
    },
    {
      "cell_type": "code",
      "source": [
        "# Нормализуем данные в таблице признаков (кроме \"Заключение\")\n",
        "for i in df_fl.columns.values.tolist():\n",
        "   if i != 'Заключение':\n",
        "        df_fl[i] = df_fl[i]/df_fl[i].max()"
      ],
      "metadata": {
        "id": "AIUoJu-H2gi8"
      },
      "execution_count": null,
      "outputs": []
    },
    {
      "cell_type": "code",
      "source": [
        "# Сформируем массив данных и их значений\n",
        "x=df_fl.drop(columns=['Заключение']).reset_index(drop=True)\n",
        "y=df_fl['Заключение'].reset_index(drop=True)\n",
        "# x, y"
      ],
      "metadata": {
        "id": "uQ7t4Hiu2o39"
      },
      "execution_count": null,
      "outputs": []
    },
    {
      "cell_type": "code",
      "source": [
        "y.unique()\n"
      ],
      "metadata": {
        "colab": {
          "base_uri": "https://localhost:8080/"
        },
        "id": "JpsT2b_Rcbae",
        "outputId": "b2611e7a-e4fd-4644-c486-4e855b2e9fcf"
      },
      "execution_count": null,
      "outputs": [
        {
          "output_type": "execute_result",
          "data": {
            "text/plain": [
              "array([1., 2., 3.])"
            ]
          },
          "metadata": {},
          "execution_count": 158
        }
      ]
    },
    {
      "cell_type": "code",
      "source": [
        "# Посмотрим размерности\n",
        "print(x.shape)\n",
        "print(y.shape)"
      ],
      "metadata": {
        "colab": {
          "base_uri": "https://localhost:8080/"
        },
        "id": "nLLS_ajy2w6c",
        "outputId": "2b8a365a-572a-4930-d0d0-14cde97a312a"
      },
      "execution_count": null,
      "outputs": [
        {
          "output_type": "stream",
          "name": "stdout",
          "text": [
            "(9925, 15)\n",
            "(9925,)\n"
          ]
        }
      ]
    },
    {
      "cell_type": "code",
      "source": [
        "# Получим список номеров строк (индексов) с соответсвующими классами\n",
        "index_0 = df_fl.loc[df_fl['Заключение'] == 1.].index.tolist()\n",
        "index_1 = df_fl.loc[df_fl['Заключение'] == 2.].index.tolist()\n",
        "index_2 = df_fl.loc[df_fl['Заключение'] == 3.].index.tolist()"
      ],
      "metadata": {
        "id": "lnmDGRtwcR3c"
      },
      "execution_count": null,
      "outputs": []
    },
    {
      "cell_type": "code",
      "source": [
        "print(index_0)\n",
        "print(index_1)\n",
        "print(index_2)"
      ],
      "metadata": {
        "colab": {
          "base_uri": "https://localhost:8080/"
        },
        "id": "6cHpqzKPcn2j",
        "outputId": "f3396dc4-680d-4f13-81e9-831189273d1b"
      },
      "execution_count": null,
      "outputs": [
        {
          "output_type": "stream",
          "name": "stdout",
          "text": [
            "[0, 1, 2, 3, 4, 5, 6, 7, 8, 9, 10, 11, 13, 14, 15, 16, 17, 18, 19, 20, 22, 23, 24, 25, 26, 28, 29, 30, 31, 32, 33, 34, 35, 36, 37, 38, 39, 40, 41, 42, 44, 45, 46, 47, 48, 50, 51, 52, 53, 54, 57, 58, 59, 60, 62, 63, 64, 65, 66, 67, 69, 70, 71, 72, 73, 74, 75, 76, 77, 78, 79, 80, 81, 82, 83, 84, 85, 86, 87, 88, 89, 90, 91, 92, 93, 94, 95, 96, 97, 98, 99, 100, 101, 102, 103, 104, 105, 106, 107, 108, 109, 110, 111, 112, 113, 114, 115, 116, 117, 119, 121, 122, 123, 124, 125, 127, 128, 129, 130, 131, 132, 133, 134, 135, 136, 137, 139, 140, 141, 142, 143, 144, 145, 146, 147, 148, 149, 150, 151, 152, 153, 154, 155, 156, 159, 160, 161, 163, 164, 165, 166, 167, 168, 171, 172, 173, 174, 175, 176, 177, 179, 180, 181, 182, 183, 184, 185, 186, 187, 188, 189, 190, 191, 192, 193, 194, 195, 196, 197, 199, 200, 201, 203, 204, 205, 206, 207, 208, 209, 210, 211, 213, 215, 216, 217, 218, 220, 221, 222, 223, 224, 225, 226, 227, 228, 229, 230, 231, 232, 233, 234, 235, 236, 237, 238, 239, 240, 241, 242, 243, 244, 246, 247, 248, 249, 250, 252, 253, 254, 255, 257, 259, 261, 262, 263, 266, 267, 268, 269, 270, 271, 272, 273, 274, 275, 276, 277, 278, 279, 280, 281, 282, 283, 284, 285, 287, 288, 289, 292, 293, 294, 295, 296, 297, 298, 299, 300, 301, 302, 304, 305, 308, 309, 310, 311, 312, 313, 314, 315, 316, 317, 318, 319, 320, 321, 322, 323, 324, 325, 326, 327, 328, 329, 330, 331, 332, 333, 334, 335, 336, 337, 338, 339, 340, 341, 342, 343, 344, 345, 346, 347, 348, 349, 350, 351, 352, 353, 355, 356, 357, 358, 359, 361, 362, 363, 364, 365, 366, 368, 369, 370, 371, 372, 375, 378, 379, 380, 381, 382, 383, 385, 386, 387, 388, 389, 390, 391, 393, 394, 395, 398, 400, 401, 402, 403, 404, 406, 407, 409, 410, 411, 412, 413, 414, 415, 416, 417, 418, 419, 420, 422, 423, 424, 425, 426, 427, 428, 429, 430, 431, 432, 433, 434, 435, 436, 438, 439, 441, 442, 443, 446, 447, 449, 450, 451, 452, 453, 454, 455, 456, 457, 458, 459, 460, 461, 462, 463, 464, 465, 466, 467, 468, 469, 470, 471, 472, 473, 474, 475, 476, 477, 478, 479, 480, 481, 482, 483, 484, 485, 486, 488, 489, 491, 493, 495, 496, 498, 499, 502, 503, 504, 505, 507, 508, 509, 510, 511, 512, 513, 514, 515, 516, 517, 518, 519, 520, 521, 522, 523, 524, 525, 526, 527, 528, 529, 530, 531, 532, 533, 534, 535, 537, 538, 539, 540, 541, 542, 543, 544, 545, 546, 547, 548, 549, 550, 551, 552, 553, 554, 555, 556, 558, 559, 561, 562, 563, 565, 566, 567, 568, 569, 570, 571, 572, 573, 574, 575, 576, 577, 578, 579, 580, 581, 582, 584, 585, 586, 588, 591, 593, 594, 595, 597, 599, 600, 602, 603, 604, 606, 607, 608, 609, 610, 611, 614, 616, 618, 619, 620, 621, 622, 623, 624, 625, 626, 627, 628, 629, 630, 631, 632, 633, 634, 635, 636, 637, 638, 639, 640, 641, 642, 643, 644, 645, 647, 648, 649, 650, 651, 652, 653, 654, 655, 656, 657, 658, 659, 660, 661, 663, 664, 665, 666, 667, 668, 669, 670, 671, 672, 673, 674, 675, 677, 678, 679, 681, 682, 683, 685, 687, 688, 689, 690, 691, 692, 693, 694, 695, 696, 697, 698, 699, 700, 701, 702, 703, 705, 706, 707, 708, 709, 710, 711, 712, 713, 714, 715, 717, 718, 719, 720, 721, 722, 723, 724, 726, 727, 728, 729, 730, 731, 732, 734, 735, 736, 737, 738, 739, 740, 741, 742, 743, 744, 746, 747, 748, 749, 750, 751, 752, 753, 754, 755, 757, 758, 759, 760, 761, 762, 763, 764, 765, 766, 767, 768, 769, 770, 771, 772, 773, 775, 777, 778, 779, 780, 781, 782, 783, 784, 785, 787, 788, 789, 790, 791, 792, 793, 794, 795, 796, 797, 798, 799, 800, 801, 802, 803, 804, 805, 806, 807, 808, 809, 811, 812, 814, 815, 816, 818, 819, 820, 821, 822, 823, 824, 826, 827, 828, 829, 830, 833, 834, 835, 836, 837, 838, 839, 840, 841, 842, 843, 844, 845, 846, 847, 848, 849, 850, 851, 852, 853, 855, 856, 857, 858, 859, 860, 861, 862, 863, 864, 865, 866, 867, 869, 870, 872, 873, 874, 875, 876, 877, 878, 881, 882, 883, 884, 886, 887, 889, 890, 891, 892, 893, 894, 895, 896, 897, 898, 899, 900, 901, 902, 903, 904, 906, 907, 908, 911, 912, 913, 914, 915, 917, 918, 920, 921, 922, 923, 924, 925, 926, 927, 928, 929, 930, 931, 932, 933, 934, 935, 936, 937, 938, 940, 941, 942, 943, 944, 945, 946, 947, 948, 950, 951, 952, 953, 954, 959, 960, 961, 962, 963, 964, 965, 966, 967, 968, 969, 970, 971, 972, 973, 974, 975, 976, 977, 979, 980, 981, 982, 983, 984, 985, 986, 988, 989, 990, 991, 992, 993, 994, 995, 996, 997, 999, 1000, 1002, 1003, 1004, 1005, 1006, 1010, 1011, 1012, 1013, 1014, 1015, 1017, 1018, 1019, 1020, 1021, 1022, 1023, 1024, 1025, 1026, 1027, 1028, 1030, 1032, 1033, 1034, 1035, 1036, 1037, 1038, 1039, 1040, 1041, 1042, 1043, 1044, 1045, 1046, 1048, 1049, 1050, 1051, 1052, 1053, 1054, 1055, 1056, 1057, 1058, 1059, 1060, 1061, 1062, 1063, 1064, 1065, 1066, 1067, 1068, 1069, 1070, 1071, 1072, 1073, 1074, 1075, 1076, 1077, 1078, 1079, 1080, 1081, 1083, 1084, 1085, 1087, 1088, 1089, 1090, 1091, 1092, 1094, 1095, 1096, 1097, 1098, 1100, 1101, 1102, 1103, 1104, 1105, 1106, 1107, 1108, 1110, 1111, 1112, 1113, 1114, 1115, 1116, 1117, 1118, 1119, 1120, 1121, 1122, 1123, 1124, 1125, 1126, 1127, 1128, 1129, 1130, 1131, 1132, 1133, 1134, 1135, 1136, 1139, 1140, 1141, 1142, 1143, 1144, 1146, 1147, 1148, 1149, 1150, 1151, 1152, 1153, 1154, 1155, 1156, 1157, 1158, 1159, 1160, 1161, 1163, 1164, 1165, 1166, 1167, 1168, 1169, 1170, 1171, 1172, 1173, 1174, 1175, 1176, 1177, 1178, 1179, 1180, 1181, 1182, 1183, 1184, 1185, 1186, 1187, 1188, 1189, 1190, 1191, 1192, 1193, 1194, 1195, 1196, 1197, 1198, 1199, 1200, 1201, 1202, 1203, 1204, 1205, 1206, 1207, 1208, 1209, 1210, 1211, 1212, 1213, 1214, 1215, 1216, 1217, 1218, 1219, 1220, 1221, 1222, 1223, 1224, 1225, 1226, 1227, 1228, 1229, 1230, 1231, 1232, 1233, 1234, 1235, 1236, 1237, 1238, 1239, 1240, 1241, 1242, 1243, 1244, 1245, 1246, 1247, 1248, 1249, 1250, 1251, 1252, 1253, 1254, 1255, 1256, 1257, 1258, 1259, 1260, 1261, 1262, 1263, 1264, 1265, 1266, 1267, 1268, 1269, 1270, 1271, 1272, 1273, 1274, 1275, 1276, 1277, 1278, 1279, 1280, 1281, 1282, 1283, 1284, 1285, 1286, 1287, 1288, 1289, 1290, 1291, 1292, 1293, 1294, 1295, 1296, 1297, 1298, 1299, 1300, 1301, 1302, 1303, 1304, 1305, 1306, 1307, 1308, 1309, 1310, 1311, 1312, 1313, 1314, 1315, 1316, 1317, 1318, 1319, 1320, 1321, 1322, 1323, 1324, 1325, 1326, 1327, 1328, 1329, 1330, 1331, 1332, 1333, 1334, 1335, 1336, 1337, 1338, 1339, 1340, 1341, 1342, 1343, 1344, 1345, 1346, 1347, 1348, 1349, 1350, 1351, 1352, 1355, 1356, 1357, 1358, 1359, 1360, 1361, 1362, 1363, 1365, 1366, 1367, 1368, 1369, 1370, 1371, 1372, 1373, 1374, 1376, 1377, 1378, 1379, 1381, 1382, 1383, 1384, 1385, 1386, 1387, 1388, 1389, 1390, 1391, 1392, 1393, 1394, 1395, 1396, 1397, 1398, 1399, 1401, 1402, 1403, 1404, 1405, 1406, 1408, 1410, 1411, 1412, 1413, 1414, 1415, 1416, 1417, 1418, 1419, 1420, 1421, 1422, 1423, 1424, 1425, 1426, 1427, 1428, 1429, 1430, 1431, 1432, 1433, 1434, 1435, 1436, 1437, 1438, 1439, 1440, 1441, 1442, 1443, 1444, 1445, 1446, 1447, 1448, 1449, 1450, 1451, 1452, 1453, 1454, 1455, 1456, 1457, 1458, 1459, 1460, 1461, 1462, 1463, 1465, 1466, 1467, 1468, 1469, 1471, 1472, 1473, 1474, 1475, 1476, 1477, 1478, 1479, 1480, 1481, 1482, 1483, 1484, 1486, 1487, 1488, 1489, 1490, 1491, 1492, 1493, 1494, 1495, 1496, 1497, 1498, 1499, 1500, 1501, 1502, 1503, 1505, 1506, 1507, 1509, 1510, 1511, 1512, 1513, 1514, 1515, 1516, 1517, 1518, 1519, 1521, 1522, 1523, 1524, 1525, 1526, 1527, 1528, 1530, 1531, 1532, 1533, 1534, 1535, 1536, 1537, 1538, 1539, 1540, 1541, 1542, 1543, 1544, 1545, 1546, 1547, 1548, 1550, 1551, 1552, 1553, 1554, 1555, 1556, 1558, 1560, 1561, 1562, 1563, 1564, 1565, 1566, 1568, 1569, 1570, 1571, 1573, 1574, 1575, 1576, 1577, 1578, 1579, 1580, 1581, 1582, 1583, 1584, 1585, 1586, 1587, 1588, 1589, 1590, 1591, 1592, 1593, 1594, 1595, 1596, 1597, 1598, 1599, 1600, 1601, 1602, 1603, 1604, 1605, 1606, 1607, 1608, 1609, 1610, 1611, 1612, 1613, 1614, 1615, 1616, 1617, 1618, 1620, 1622, 1623, 1625, 1626, 1627, 1628, 1630, 1631, 1632, 1633, 1635, 1636, 1637, 1638, 1640, 1642, 1643, 1644, 1645, 1646, 1647, 1648, 1650, 1651, 1653, 1654, 1657, 1659, 1660, 1663, 1664, 1665, 1666, 1667, 1671, 1672, 1673, 1674, 1676, 1677, 1678, 1679, 1680, 1681, 1682, 1684, 1685, 1686, 1687, 1688, 1689, 1690, 1691, 1693, 1694, 1695, 1697, 1698, 1699, 1700, 1701, 1702, 1704, 1705, 1706, 1707, 1709, 1710, 1711, 1714, 1715, 1717, 1718, 1719, 1720, 1721, 1723, 1724, 1725, 1726, 1727, 1730, 1731, 1735, 1736, 1737, 1738, 1739, 1740, 1741, 1742, 1743, 1744, 1745, 1746, 1748, 1749, 1751, 1754, 1755, 1756, 1759, 1760, 1761, 1762, 1763, 1764, 1765, 1766, 1767, 1768, 1769, 1770, 1771, 1772, 1773, 1774, 1775, 1776, 1778, 1779, 1780, 1781, 1782, 1783, 1784, 1785, 1786, 1787, 1788, 1789, 1790, 1791, 1792, 1793, 1794, 1795, 1796, 1797, 1798, 1799, 1800, 1801, 1802, 1803, 1804, 1805, 1806, 1807, 1808, 1809, 1810, 1811, 1813, 1814, 1815, 1816, 1818, 1819, 1820, 1821, 1822, 1823, 1824, 1825, 1826, 1827, 1828, 1829, 1830, 1831, 1832, 1833, 1836, 1837, 1838, 1839, 1840, 1841, 1842, 1843, 1844, 1845, 1846, 1847, 1848, 1849, 1850, 1851, 1852, 1853, 1854, 1855, 1856, 1857, 1858, 1859, 1860, 1862, 1863, 1864, 1865, 1866, 1867, 1868, 1869, 1870, 1871, 1872, 1873, 1874, 1875, 1876, 1877, 1878, 1879, 1880, 1881, 1882, 1883, 1884, 1885, 1887, 1890, 1891, 1892, 1893, 1894, 1895, 1896, 1897, 1898, 1899, 1900, 1901, 1902, 1903, 1904, 1905, 1906, 1907, 1908, 1909, 1910, 1911, 1912, 1914, 1915, 1916, 1917, 1918, 1919, 1920, 1921, 1922, 1923, 1924, 1925, 1926, 1927, 1928, 1929, 1930, 1931, 1932, 1935, 1936, 1937, 1938, 1939, 1940, 1941, 1942, 1943, 1944, 1945, 1946, 1947, 1948, 1949, 1950, 1951, 1952, 1953, 1954, 1955, 1956, 1957, 1958, 1959, 1960, 1961, 1962, 1963, 1964, 1965, 1966, 1967, 1968, 1969, 1970, 1971, 1972, 1973, 1974, 1975, 1976, 1977, 1978, 1979, 1980, 1981, 1982, 1983, 1984, 1985, 1986, 1987, 1988, 1989, 1990, 1991, 1992, 1993, 1994, 1995, 1996, 1997, 1998, 1999, 2000, 2001, 2002, 2003, 2004, 2005, 2006, 2007, 2008, 2009, 2010, 2012, 2013, 2014, 2015, 2016, 2017, 2018, 2019, 2020, 2021, 2022, 2023, 2024, 2025, 2026, 2027, 2028, 2029, 2030, 2031, 2032, 2033, 2034, 2035, 2036, 2037, 2038, 2039, 2040, 2041, 2043, 2044, 2045, 2046, 2047, 2048, 2049, 2051, 2052, 2053, 2054, 2055, 2056, 2057, 2058, 2059, 2060, 2061, 2062, 2063, 2064, 2065, 2066, 2067, 2068, 2069, 2070, 2071, 2072, 2076, 2077, 2078, 2079, 2080, 2081, 2082, 2083, 2084, 2085, 2086, 2087, 2088, 2089, 2090, 2091, 2092, 2093, 2094, 2095, 2096, 2097, 2098, 2099, 2101, 2102, 2103, 2104, 2105, 2107, 2108, 2109, 2110, 2111, 2112, 2113, 2114, 2116, 2117, 2118, 2119, 2120, 2121, 2122, 2123, 2124, 2125, 2126, 2127, 2128, 2129, 2130, 2131, 2132, 2133, 2134, 2135, 2136, 2137, 2138, 2139, 2140, 2141, 2142, 2143, 2146, 2148, 2150, 2151, 2153, 2154, 2155, 2156, 2157, 2158, 2159, 2160, 2161, 2162, 2163, 2165, 2166, 2167, 2168, 2169, 2171, 2172, 2173, 2175, 2176, 2177, 2178, 2179, 2180, 2181, 2182, 2183, 2184, 2185, 2187, 2188, 2189, 2190, 2191, 2192, 2195, 2196, 2197, 2198, 2199, 2200, 2201, 2203, 2204, 2205, 2206, 2207, 2208, 2209, 2210, 2211, 2214, 2215, 2216, 2217, 2218, 2219, 2220, 2221, 2222, 2223, 2224, 2225, 2227, 2228, 2229, 2230, 2231, 2232, 2233, 2234, 2235, 2237, 2238, 2239, 2240, 2241, 2242, 2243, 2244, 2245, 2246, 2247, 2248, 2249, 2250, 2251, 2252, 2253, 2254, 2255, 2256, 2257, 2258, 2259, 2260, 2261, 2262, 2263, 2264, 2265, 2266, 2267, 2268, 2269, 2270, 2271, 2272, 2273, 2274, 2275, 2277, 2278, 2279, 2280, 2281, 2282, 2283, 2284, 2285, 2286, 2287, 2288, 2289, 2291, 2292, 2293, 2294, 2295, 2296, 2297, 2298, 2299, 2300, 2301, 2302, 2303, 2304, 2305, 2306, 2307, 2308, 2309, 2310, 2311, 2312, 2313, 2314, 2315, 2316, 2317, 2318, 2319, 2320, 2321, 2322, 2324, 2327, 2328, 2329, 2330, 2331, 2332, 2333, 2334, 2335, 2336, 2337, 2338, 2339, 2340, 2341, 2342, 2343, 2344, 2345, 2346, 2347, 2348, 2349, 2350, 2352, 2353, 2354, 2355, 2356, 2357, 2358, 2359, 2360, 2361, 2362, 2363, 2364, 2365, 2366, 2367, 2368, 2369, 2370, 2371, 2372, 2373, 2374, 2375, 2376, 2380, 2383, 2385, 2387, 2388, 2389, 2390, 2391, 2393, 2394, 2395, 2397, 2398, 2399, 2401, 2402, 2403, 2404, 2407, 2409, 2410, 2411, 2412, 2413, 2414, 2415, 2416, 2417, 2418, 2419, 2420, 2421, 2422, 2423, 2424, 2425, 2426, 2427, 2428, 2429, 2431, 2432, 2434, 2435, 2436, 2437, 2438, 2439, 2440, 2441, 2443, 2444, 2445, 2446, 2447, 2448, 2449, 2450, 2451, 2452, 2453, 2455, 2456, 2457, 2458, 2459, 2460, 2461, 2463, 2464, 2466, 2467, 2468, 2469, 2470, 2471, 2473, 2475, 2476, 2477, 2479, 2480, 2481, 2482, 2483, 2484, 2485, 2487, 2488, 2489, 2491, 2492, 2493, 2495, 2496, 2497, 2499, 2500, 2501, 2502, 2503, 2504, 2505, 2506, 2507, 2508, 2510, 2513, 2514, 2515, 2516, 2517, 2518, 2519, 2520, 2521, 2523, 2524, 2525, 2526, 2527, 2528, 2529, 2530, 2531, 2532, 2533, 2534, 2535, 2536, 2537, 2539, 2540, 2541, 2542, 2543, 2544, 2545, 2546, 2547, 2548, 2549, 2551, 2552, 2553, 2555, 2556, 2557, 2559, 2560, 2561, 2562, 2563, 2564, 2565, 2567, 2568, 2569, 2570, 2571, 2572, 2573, 2575, 2576, 2577, 2578, 2579, 2580, 2581, 2582, 2583, 2584, 2585, 2587, 2588, 2589, 2590, 2591, 2592, 2593, 2594, 2595, 2596, 2597, 2598, 2599, 2600, 2601, 2602, 2603, 2604, 2605, 2606, 2607, 2608, 2609, 2610, 2611, 2612, 2613, 2614, 2615, 2616, 2617, 2618, 2619, 2620, 2621, 2622, 2623, 2624, 2625, 2626, 2627, 2628, 2629, 2630, 2631, 2632, 2633, 2634, 2635, 2636, 2637, 2638, 2639, 2640, 2641, 2642, 2643, 2644, 2645, 2646, 2647, 2648, 2649, 2650, 2652, 2653, 2655, 2656, 2658, 2659, 2660, 2661, 2662, 2663, 2665, 2666, 2667, 2668, 2669, 2670, 2671, 2672, 2673, 2674, 2676, 2677, 2678, 2679, 2681, 2682, 2683, 2684, 2685, 2686, 2688, 2690, 2691, 2692, 2693, 2694, 2695, 2696, 2697, 2700, 2702, 2703, 2704, 2705, 2706, 2707, 2708, 2709, 2710, 2711, 2712, 2715, 2716, 2717, 2718, 2719, 2722, 2723, 2724, 2725, 2726, 2727, 2728, 2729, 2730, 2731, 2732, 2733, 2734, 2735, 2736, 2737, 2738, 2739, 2740, 2741, 2742, 2743, 2744, 2745, 2746, 2747, 2748, 2749, 2750, 2751, 2752, 2753, 2754, 2755, 2756, 2757, 2758, 2759, 2760, 2761, 2762, 2763, 2764, 2765, 2766, 2767, 2768, 2769, 2770, 2771, 2772, 2773, 2775, 2776, 2778, 2779, 2780, 2781, 2782, 2783, 2784, 2785, 2786, 2787, 2790, 2791, 2792, 2795, 2798, 2799, 2800, 2801, 2802, 2803, 2804, 2805, 2806, 2807, 2808, 2809, 2810, 2811, 2812, 2814, 2815, 2816, 2817, 2818, 2819, 2820, 2822, 2823, 2824, 2825, 2826, 2827, 2828, 2829, 2830, 2831, 2832, 2834, 2836, 2837, 2838, 2839, 2840, 2841, 2842, 2843, 2844, 2845, 2846, 2847, 2848, 2849, 2850, 2851, 2852, 2853, 2854, 2856, 2857, 2858, 2859, 2860, 2861, 2862, 2863, 2864, 2865, 2866, 2867, 2868, 2871, 2872, 2873, 2874, 2875, 2876, 2877, 2878, 2879, 2880, 2881, 2883, 2884, 2885, 2886, 2887, 2888, 2889, 2890, 2891, 2892, 2893, 2894, 2895, 2896, 2897, 2898, 2899, 2900, 2902, 2903, 2904, 2905, 2906, 2907, 2908, 2909, 2910, 2913, 2914, 2915, 2916, 2917, 2918, 2919, 2920, 2921, 2923, 2925, 2928, 2929, 2930, 2931, 2932, 2933, 2934, 2936, 2938, 2939, 2941, 2943, 2944, 2945, 2946, 2948, 2949, 2951, 2952, 2953, 2954, 2955, 2956, 2958, 2959, 2960, 2961, 2962, 2963, 2964, 2965, 2966, 2967, 2969, 2970, 2971, 2972, 2973, 2974, 2975, 2976, 2978, 2979, 2980, 2981, 2982, 2983, 2985, 2986, 2987, 2988, 2989, 2990, 2991, 2992, 2993, 2994, 2995, 2996, 2997, 2998, 2999, 3000, 3001, 3002, 3003, 3004, 3005, 3007, 3008, 3009, 3010, 3011, 3012, 3013, 3014, 3015, 3016, 3017, 3018, 3019, 3020, 3021, 3022, 3023, 3024, 3025, 3026, 3027, 3029, 3030, 3031, 3032, 3033, 3035, 3036, 3037, 3039, 3040, 3042, 3044, 3045, 3047, 3048, 3049, 3050, 3051, 3052, 3053, 3054, 3055, 3056, 3057, 3058, 3059, 3060, 3061, 3062, 3063, 3064, 3065, 3066, 3067, 3068, 3069, 3070, 3071, 3072, 3074, 3075, 3076, 3077, 3079, 3080, 3081, 3082, 3083, 3084, 3085, 3086, 3087, 3088, 3089, 3090, 3091, 3092, 3093, 3094, 3095, 3096, 3097, 3098, 3099, 3100, 3101, 3102, 3103, 3104, 3105, 3106, 3108, 3109, 3110, 3111, 3112, 3113, 3114, 3115, 3116, 3117, 3120, 3121, 3124, 3125, 3126, 3127, 3128, 3130, 3131, 3132, 3133, 3134, 3135, 3136, 3137, 3138, 3139, 3140, 3141, 3143, 3144, 3146, 3147, 3148, 3149, 3151, 3153, 3154, 3155, 3156, 3157, 3158, 3159, 3160, 3161, 3162, 3163, 3164, 3165, 3166, 3167, 3168, 3169, 3170, 3171, 3173, 3174, 3175, 3176, 3177, 3178, 3179, 3180, 3181, 3182, 3183, 3184, 3185, 3186, 3187, 3188, 3189, 3190, 3191, 3193, 3194, 3195, 3196, 3197, 3198, 3199, 3200, 3202, 3203, 3204, 3205, 3206, 3207, 3208, 3209, 3210, 3212, 3213, 3214, 3215, 3216, 3218, 3219, 3220, 3221, 3222, 3223, 3224, 3225, 3226, 3228, 3229, 3230, 3231, 3233, 3234, 3235, 3237, 3241, 3242, 3243, 3244, 3245, 3246, 3247, 3248, 3249, 3250, 3251, 3252, 3253, 3256, 3257, 3258, 3259, 3260, 3261, 3262, 3263, 3264, 3265, 3266, 3267, 3268, 3269, 3270, 3271, 3272, 3273, 3274, 3275, 3277, 3278, 3279, 3280, 3283, 3284, 3285, 3286, 3287, 3289, 3290, 3291, 3292, 3293, 3295, 3296, 3297, 3299, 3300, 3301, 3302, 3303, 3304, 3306, 3307, 3308, 3309, 3310, 3311, 3312, 3313, 3314, 3315, 3317, 3320, 3321, 3322, 3324, 3326, 3327, 3328, 3329, 3330, 3331, 3333, 3334, 3335, 3337, 3339, 3340, 3341, 3342, 3343, 3344, 3345, 3347, 3348, 3349, 3350, 3351, 3353, 3355, 3356, 3357, 3358, 3359, 3360, 3361, 3362, 3363, 3364, 3365, 3366, 3367, 3368, 3370, 3371, 3372, 3373, 3374, 3375, 3377, 3378, 3379, 3380, 3382, 3383, 3385, 3386, 3387, 3389, 3390, 3391, 3393, 3394, 3396, 3397, 3398, 3400, 3401, 3402, 3404, 3405, 3406, 3408, 3409, 3410, 3412, 3413, 3414, 3415, 3417, 3418, 3420, 3422, 3423, 3424, 3425, 3426, 3427, 3428, 3429, 3430, 3431, 3432, 3433, 3434, 3435, 3436, 3437, 3439, 3441, 3442, 3445, 3447, 3448, 3449, 3450, 3451, 3452, 3453, 3454, 3455, 3456, 3457, 3459, 3461, 3462, 3463, 3464, 3465, 3466, 3469, 3470, 3472, 3473, 3474, 3475, 3477, 3478, 3479, 3481, 3482, 3483, 3484, 3486, 3488, 3489, 3490, 3491, 3492, 3493, 3494, 3497, 3498, 3499, 3500, 3501, 3502, 3503, 3504, 3505, 3506, 3507, 3508, 3509, 3510, 3513, 3515, 3516, 3517, 3518, 3519, 3520, 3521, 3522, 3524, 3525, 3526, 3527, 3528, 3529, 3530, 3531, 3532, 3534, 3535, 3536, 3537, 3538, 3539, 3540, 3541, 3542, 3545, 3546, 3547, 3548, 3549, 3550, 3552, 3553, 3555, 3556, 3557, 3558, 3559, 3560, 3561, 3562, 3563, 3564, 3565, 3566, 3567, 3568, 3569, 3570, 3571, 3572, 3573, 3574, 3576, 3578, 3579, 3580, 3581, 3583, 3585, 3587, 3588, 3589, 3592, 3593, 3594, 3595, 3596, 3597, 3598, 3599, 3600, 3601, 3602, 3603, 3604, 3605, 3606, 3607, 3608, 3609, 3610, 3611, 3612, 3614, 3615, 3616, 3618, 3620, 3621, 3622, 3624, 3625, 3626, 3627, 3628, 3629, 3630, 3631, 3632, 3633, 3634, 3635, 3636, 3637, 3638, 3639, 3640, 3641, 3642, 3643, 3644, 3645, 3646, 3647, 3648, 3649, 3650, 3651, 3652, 3653, 3655, 3656, 3657, 3658, 3660, 3661, 3662, 3663, 3664, 3665, 3666, 3667, 3668, 3669, 3670, 3671, 3673, 3674, 3675, 3676, 3677, 3678, 3681, 3682, 3684, 3685, 3687, 3688, 3689, 3690, 3693, 3694, 3695, 3697, 3698, 3700, 3701, 3702, 3704, 3705, 3706, 3707, 3708, 3709, 3710, 3711, 3712, 3714, 3715, 3716, 3717, 3718, 3720, 3722, 3723, 3724, 3725, 3726, 3728, 3729, 3732, 3733, 3734, 3735, 3736, 3737, 3739, 3740, 3741, 3742, 3744, 3746, 3747, 3748, 3749, 3750, 3751, 3752, 3753, 3755, 3756, 3757, 3759, 3760, 3761, 3763, 3764, 3766, 3767, 3768, 3769, 3770, 3772, 3773, 3776, 3777, 3780, 3781, 3782, 3783, 3784, 3785, 3788, 3789, 3790, 3791, 3794, 3795, 3796, 3797, 3798, 3799, 3800, 3801, 3803, 3804, 3805, 3808, 3810, 3811, 3812, 3815, 3816, 3818, 3819, 3820, 3821, 3822, 3824, 3826, 3827, 3828, 3830, 3831, 3833, 3834, 3835, 3836, 3838, 3839, 3840, 3842, 3843, 3844, 3845, 3847, 3849, 3851, 3852, 3853, 3854, 3857, 3858, 3860, 3861, 3862, 3863, 3864, 3866, 3867, 3868, 3869, 3872, 3873, 3874, 3875, 3877, 3878, 3879, 3882, 3883, 3884, 3885, 3886, 3889, 3890, 3891, 3892, 3893, 3894, 3895, 3896, 3897, 3898, 3899, 3900, 3901, 3902, 3903, 3905, 3906, 3907, 3908, 3909, 3911, 3912, 3913, 3914, 3915, 3916, 3917, 3918, 3919, 3920, 3921, 3922, 3923, 3924, 3925, 3926, 3927, 3928, 3929, 3930, 3931, 3932, 3933, 3934, 3935, 3936, 3937, 3938, 3939, 3940, 3941, 3942, 3943, 3944, 3945, 3946, 3947, 3948, 3949, 3950, 3951, 3952, 3953, 3954, 3955, 3956, 3957, 3958, 3959, 3960, 3961, 3962, 3963, 3964, 3966, 3968, 3969, 3970, 3971, 3972, 3973, 3974, 3975, 3976, 3977, 3979, 3980, 3981, 3982, 3983, 3984, 3985, 3986, 3988, 3989, 3990, 3991, 3992, 3993, 3994, 3995, 3996, 3997, 3998, 4000, 4002, 4005, 4006, 4007, 4008, 4009, 4010, 4011, 4012, 4013, 4014, 4015, 4016, 4017, 4018, 4019, 4020, 4022, 4023, 4024, 4025, 4027, 4028, 4029, 4030, 4031, 4032, 4033, 4034, 4036, 4038, 4039, 4040, 4041, 4042, 4043, 4044, 4045, 4046, 4050, 4051, 4052, 4053, 4054, 4055, 4056, 4058, 4060, 4061, 4062, 4064, 4066, 4067, 4068, 4070, 4073, 4074, 4075, 4076, 4077, 4078, 4079, 4080, 4081, 4082, 4083, 4084, 4085, 4086, 4087, 4088, 4090, 4091, 4092, 4093, 4094, 4095, 4096, 4097, 4098, 4100, 4101, 4102, 4103, 4104, 4105, 4106, 4107, 4108, 4109, 4110, 4111, 4112, 4113, 4114, 4116, 4117, 4118, 4120, 4121, 4123, 4124, 4127, 4128, 4129, 4131, 4132, 4133, 4134, 4135, 4137, 4138, 4140, 4141, 4143, 4144, 4145, 4146, 4147, 4148, 4149, 4151, 4152, 4153, 4154, 4155, 4156, 4157, 4158, 4159, 4160, 4161, 4162, 4163, 4165, 4167, 4168, 4169, 4170, 4171, 4172, 4173, 4175, 4176, 4177, 4178, 4179, 4180, 4181, 4182, 4183, 4185, 4186, 4188, 4190, 4191, 4192, 4193, 4197, 4198, 4199, 4200, 4201, 4203, 4204, 4205, 4206, 4207, 4208, 4209, 4211, 4212, 4215, 4216, 4218, 4219, 4220, 4221, 4222, 4223, 4224, 4225, 4226, 4227, 4229, 4230, 4233, 4234, 4235, 4236, 4237, 4238, 4239, 4240, 4241, 4242, 4243, 4244, 4245, 4246, 4247, 4248, 4249, 4250, 4251, 4252, 4253, 4254, 4255, 4256, 4257, 4258, 4259, 4260, 4261, 4263, 4264, 4265, 4266, 4267, 4268, 4269, 4270, 4271, 4272, 4273, 4274, 4275, 4276, 4277, 4278, 4279, 4280, 4281, 4282, 4283, 4284, 4285, 4286, 4287, 4288, 4289, 4290, 4291, 4292, 4293, 4294, 4295, 4296, 4297, 4298, 4299, 4300, 4301, 4302, 4303, 4304, 4305, 4306, 4307, 4309, 4310, 4311, 4312, 4313, 4314, 4315, 4316, 4318, 4319, 4320, 4323, 4324, 4325, 4326, 4327, 4328, 4329, 4330, 4331, 4332, 4333, 4334, 4335, 4336, 4337, 4338, 4339, 4340, 4341, 4342, 4343, 4344, 4345, 4346, 4347, 4348, 4349, 4350, 4353, 4354, 4356, 4357, 4359, 4360, 4361, 4362, 4363, 4365, 4366, 4367, 4368, 4369, 4370, 4371, 4372, 4373, 4375, 4376, 4378, 4380, 4381, 4382, 4383, 4385, 4386, 4388, 4389, 4390, 4391, 4392, 4393, 4394, 4395, 4396, 4397, 4398, 4399, 4400, 4402, 4403, 4404, 4405, 4406, 4407, 4408, 4409, 4410, 4411, 4412, 4413, 4415, 4416, 4417, 4418, 4419, 4420, 4422, 4423, 4424, 4425, 4426, 4428, 4429, 4430, 4431, 4432, 4433, 4434, 4435, 4437, 4439, 4440, 4443, 4445, 4446, 4447, 4448, 4449, 4450, 4451, 4452, 4453, 4454, 4455, 4456, 4457, 4458, 4460, 4461, 4462, 4463, 4464, 4466, 4467, 4468, 4469, 4470, 4472, 4473, 4475, 4476, 4477, 4478, 4479, 4480, 4481, 4482, 4483, 4484, 4485, 4486, 4487, 4488, 4489, 4490, 4492, 4493, 4494, 4495, 4496, 4497, 4498, 4499, 4500, 4502, 4503, 4505, 4506, 4507, 4508, 4509, 4510, 4511, 4512, 4513, 4514, 4517, 4519, 4521, 4522, 4523, 4524, 4525, 4526, 4527, 4528, 4529, 4530, 4531, 4532, 4533, 4535, 4536, 4537, 4538, 4539, 4540, 4541, 4542, 4543, 4544, 4545, 4546, 4547, 4548, 4549, 4550, 4552, 4553, 4554, 4555, 4556, 4557, 4558, 4559, 4560, 4561, 4562, 4563, 4564, 4565, 4567, 4568, 4569, 4570, 4571, 4572, 4573, 4574, 4575, 4576, 4577, 4578, 4579, 4580, 4581, 4584, 4586, 4587, 4588, 4589, 4590, 4591, 4592, 4593, 4594, 4595, 4597, 4599, 4601, 4602, 4603, 4604, 4605, 4607, 4608, 4609, 4610, 4611, 4612, 4613, 4614, 4615, 4616, 4618, 4619, 4620, 4622, 4623, 4624, 4625, 4626, 4627, 4628, 4629, 4630, 4631, 4632, 4633, 4634, 4635, 4636, 4637, 4638, 4639, 4640, 4641, 4644, 4645, 4646, 4647, 4648, 4649, 4650, 4651, 4652, 4653, 4654, 4655, 4656, 4657, 4659, 4661, 4662, 4663, 4664, 4666, 4668, 4669, 4670, 4671, 4672, 4673, 4674, 4675, 4676, 4677, 4678, 4679, 4680, 4681, 4683, 4685, 4687, 4691, 4694, 4695, 4697, 4700, 4701, 4702, 4703, 4705, 4706, 4707, 4708, 4711, 4713, 4714, 4715, 4716, 4717, 4718, 4719, 4720, 4721, 4722, 4723, 4724, 4725, 4726, 4727, 4728, 4729, 4730, 4731, 4732, 4733, 4734, 4735, 4736, 4737, 4738, 4739, 4740, 4741, 4742, 4743, 4744, 4745, 4746, 4747, 4748, 4749, 4750, 4751, 4752, 4753, 4754, 4755, 4756, 4757, 4758, 4759, 4760, 4761, 4762, 4763, 4764, 4765, 4766, 4767, 4768, 4769, 4770, 4771, 4772, 4773, 4774, 4775, 4776, 4777, 4778, 4779, 4780, 4781, 4782, 4783, 4784, 4785, 4786, 4787, 4788, 4789, 4790, 4791, 4792, 4793, 4794, 4795, 4796, 4797, 4798, 4799, 4800, 4801, 4802, 4803, 4804, 4805, 4806, 4807, 4808, 4809, 4810, 4811, 4812, 4813, 4814, 4815, 4816, 4817, 4818, 4819, 4820, 4821, 4822, 4823, 4824, 4825, 4826, 4827, 4828, 4829, 4830, 4831, 4832, 4833, 4834, 4835, 4836, 4837, 4838, 4839, 4840, 4841, 4842, 4843, 4844, 4845, 4846, 4847, 4848, 4849, 4850, 4851, 4852, 4853, 4854, 4855, 4856, 4859, 4860, 4861, 4862, 4864, 4867, 4869, 4870, 4874, 4875, 4876, 4877, 4878, 4879, 4880, 4881, 4883, 4884, 4886, 4887, 4888, 4890, 4891, 4892, 4893, 4894, 4895, 4897, 4898, 4900, 4901, 4902, 4903, 4904, 4905, 4907, 4909, 4911, 4913, 4914, 4915, 4916, 4918, 4919, 4920, 4922, 4923, 4924, 4925, 4926, 4927, 4928, 4929, 4930, 4931, 4933, 4934, 4935, 4937, 4938, 4939, 4941, 4943, 4945, 4946, 4947, 4948, 4949, 4950, 4951, 4952, 4953, 4954, 4955, 4956, 4957, 4958, 4959, 4960, 4961, 4963, 4964, 4965, 4966, 4967, 4968, 4969, 4970, 4971, 4972, 4973, 4974, 4975, 4976, 4977, 4978, 4979, 4980, 4981, 4982, 4983, 4984, 4985, 4986, 4987, 4988, 4989, 4990, 4991, 4992, 4993, 4994, 4995, 4996, 4998, 4999, 5000, 5001, 5003, 5004, 5005, 5006, 5007, 5008, 5010, 5011, 5012, 5013, 5014, 5015, 5016, 5017, 5019, 5021, 5022, 5023, 5024, 5025, 5026, 5027, 5028, 5029, 5030, 5031, 5032, 5034, 5035, 5036, 5037, 5038, 5039, 5040, 5041, 5042, 5043, 5044, 5045, 5046, 5047, 5048, 5049, 5051, 5052, 5054, 5056, 5057, 5058, 5059, 5060, 5061, 5062, 5063, 5064, 5065, 5067, 5068, 5069, 5070, 5071, 5072, 5073, 5074, 5076, 5077, 5078, 5079, 5080, 5081, 5082, 5083, 5084, 5085, 5089, 5090, 5091, 5092, 5093, 5094, 5096, 5097, 5098, 5099, 5100, 5101, 5102, 5104, 5106, 5107, 5108, 5109, 5111, 5112, 5113, 5114, 5115, 5116, 5117, 5118, 5119, 5120, 5121, 5122, 5123, 5124, 5125, 5126, 5127, 5128, 5129, 5130, 5131, 5132, 5133, 5134, 5135, 5136, 5137, 5138, 5139, 5140, 5141, 5142, 5143, 5144, 5148, 5149, 5150, 5151, 5152, 5153, 5155, 5156, 5157, 5158, 5159, 5161, 5163, 5164, 5166, 5167, 5168, 5169, 5170, 5171, 5172, 5173, 5174, 5175, 5176, 5177, 5178, 5183, 5184, 5187, 5188, 5189, 5190, 5191, 5192, 5193, 5196, 5198, 5199, 5200, 5202, 5203, 5204, 5205, 5206, 5208, 5209, 5210, 5211, 5212, 5213, 5214, 5216, 5217, 5218, 5220, 5221, 5222, 5224, 5226, 5227, 5229, 5230, 5231, 5232, 5233, 5234, 5235, 5236, 5237, 5238, 5239, 5240, 5241, 5242, 5243, 5244, 5245, 5246, 5247, 5248, 5249, 5250, 5251, 5252, 5253, 5254, 5255, 5256, 5257, 5258, 5259, 5260, 5261, 5262, 5263, 5264, 5265, 5266, 5267, 5268, 5269, 5271, 5272, 5274, 5275, 5276, 5278, 5279, 5280, 5282, 5283, 5284, 5285, 5286, 5287, 5288, 5289, 5290, 5291, 5292, 5293, 5295, 5296, 5297, 5298, 5299, 5301, 5302, 5303, 5304, 5305, 5308, 5309, 5310, 5314, 5315, 5316, 5317, 5318, 5319, 5321, 5323, 5326, 5329, 5330, 5331, 5332, 5333, 5334, 5335, 5338, 5339, 5340, 5341, 5342, 5343, 5344, 5345, 5346, 5347, 5348, 5349, 5352, 5353, 5354, 5355, 5356, 5357, 5358, 5359, 5360, 5361, 5362, 5363, 5366, 5367, 5369, 5371, 5372, 5373, 5375, 5376, 5377, 5378, 5379, 5381, 5382, 5384, 5385, 5386, 5390, 5391, 5392, 5393, 5394, 5395, 5396, 5397, 5398, 5399, 5400, 5402, 5403, 5405, 5406, 5407, 5408, 5409, 5410, 5411, 5412, 5413, 5414, 5415, 5416, 5417, 5418, 5419, 5420, 5421, 5422, 5423, 5424, 5425, 5426, 5427, 5428, 5429, 5430, 5431, 5432, 5433, 5434, 5435, 5436, 5437, 5438, 5439, 5440, 5441, 5442, 5443, 5444, 5445, 5446, 5447, 5449, 5450, 5451, 5453, 5454, 5455, 5456, 5457, 5459, 5460, 5461, 5462, 5463, 5464, 5465, 5466, 5467, 5468, 5469, 5471, 5472, 5474, 5475, 5476, 5477, 5478, 5479, 5481, 5483, 5484, 5485, 5488, 5489, 5490, 5493, 5494, 5495, 5496, 5498, 5499, 5501, 5502, 5503, 5505, 5507, 5510, 5511, 5512, 5513, 5514, 5516, 5518, 5519, 5520, 5521, 5523, 5525, 5526, 5527, 5529, 5530, 5532, 5533, 5534, 5535, 5536, 5537, 5539, 5540, 5541, 5542, 5544, 5545, 5546, 5547, 5548, 5551, 5552, 5554, 5555, 5557, 5558, 5559, 5560, 5561, 5565, 5569, 5570, 5572, 5573, 5575, 5576, 5577, 5578, 5580, 5581, 5582, 5583, 5584, 5585, 5586, 5587, 5588, 5589, 5590, 5592, 5593, 5594, 5595, 5596, 5597, 5598, 5599, 5600, 5601, 5602, 5603, 5606, 5607, 5608, 5609, 5610, 5611, 5612, 5613, 5614, 5615, 5616, 5617, 5618, 5621, 5622, 5623, 5624, 5625, 5626, 5627, 5628, 5629, 5630, 5632, 5633, 5634, 5635, 5636, 5638, 5639, 5640, 5641, 5642, 5643, 5644, 5645, 5646, 5647, 5648, 5649, 5650, 5651, 5652, 5653, 5654, 5655, 5656, 5657, 5658, 5662, 5664, 5665, 5666, 5668, 5669, 5670, 5671, 5673, 5674, 5675, 5676, 5677, 5678, 5679, 5680, 5681, 5682, 5684, 5685, 5686, 5687, 5688, 5689, 5690, 5691, 5693, 5694, 5695, 5696, 5697, 5698, 5699, 5700, 5701, 5702, 5703, 5704, 5705, 5706, 5707, 5708, 5709, 5710, 5712, 5713, 5714, 5715, 5716, 5717, 5719, 5720, 5721, 5722, 5723, 5724, 5725, 5726, 5727, 5728, 5729, 5730, 5731, 5732, 5733, 5734, 5735, 5736, 5737, 5738, 5741, 5742, 5743, 5745, 5746, 5750, 5752, 5754, 5755, 5756, 5757, 5758, 5759, 5760, 5762, 5763, 5764, 5766, 5767, 5768, 5770, 5771, 5772, 5773, 5774, 5775, 5776, 5777, 5778, 5779, 5780, 5781, 5782, 5783, 5784, 5785, 5786, 5787, 5788, 5789, 5790, 5791, 5792, 5793, 5794, 5795, 5797, 5798, 5799, 5800, 5801, 5803, 5805, 5806, 5807, 5808, 5809, 5810, 5813, 5814, 5815, 5816, 5817, 5818, 5819, 5820, 5821, 5822, 5823, 5824, 5825, 5826, 5828, 5829, 5830, 5831, 5832, 5833, 5834, 5835, 5836, 5837, 5838, 5839, 5840, 5841, 5842, 5844, 5845, 5846, 5847, 5848, 5849, 5850, 5851, 5852, 5854, 5855, 5856, 5857, 5858, 5859, 5860, 5861, 5864, 5865, 5866, 5867, 5868, 5869, 5871, 5872, 5873, 5874, 5876, 5877, 5878, 5879, 5880, 5881, 5882, 5883, 5885, 5886, 5888, 5889, 5890, 5891, 5892, 5893, 5894, 5895, 5896, 5898, 5899, 5900, 5901, 5902, 5903, 5904, 5905, 5906, 5907, 5908, 5909, 5910, 5911, 5912, 5913, 5914, 5916, 5917, 5918, 5920, 5922, 5923, 5924, 5926, 5927, 5929, 5931, 5932, 5933, 5934, 5935, 5936, 5937, 5938, 5940, 5942, 5943, 5944, 5945, 5946, 5947, 5948, 5949, 5950, 5951, 5952, 5953, 5954, 5956, 5957, 5958, 5959, 5960, 5961, 5962, 5963, 5964, 5967, 5968, 5969, 5970, 5971, 5972, 5973, 5974, 5975, 5976, 5977, 5978, 5979, 5980, 5981, 5982, 5984, 5985, 5987, 5988, 5989, 5990, 5991, 5993, 5994, 5995, 5996, 5997, 5998, 5999, 6000, 6002, 6003, 6004, 6005, 6006, 6008, 6009, 6010, 6011, 6012, 6013, 6014, 6015, 6016, 6018, 6020, 6021, 6022, 6023, 6024, 6025, 6026, 6029, 6030, 6031, 6032, 6033, 6034, 6035, 6036, 6038, 6039, 6040, 6041, 6042, 6043, 6044, 6045, 6046, 6047, 6049, 6050, 6051, 6052, 6053, 6055, 6056, 6057, 6058, 6059, 6060, 6061, 6063, 6065, 6066, 6069, 6070, 6071, 6073, 6074, 6075, 6076, 6077, 6078, 6079, 6080, 6082, 6083, 6084, 6087, 6088, 6090, 6091, 6092, 6093, 6094, 6095, 6097, 6098, 6099, 6100, 6101, 6102, 6103, 6104, 6105, 6106, 6107, 6108, 6110, 6111, 6112, 6113, 6114, 6117, 6118, 6119, 6120, 6121, 6122, 6123, 6124, 6125, 6126, 6127, 6128, 6129, 6131, 6132, 6133, 6134, 6135, 6136, 6137, 6138, 6139, 6141, 6142, 6143, 6144, 6146, 6147, 6149, 6151, 6152, 6153, 6154, 6155, 6156, 6158, 6160, 6161, 6162, 6163, 6164, 6165, 6166, 6167, 6169, 6170, 6171, 6172, 6173, 6175, 6176, 6177, 6178, 6179, 6180, 6181, 6182, 6183, 6184, 6185, 6186, 6187, 6188, 6189, 6190, 6191, 6192, 6193, 6195, 6196, 6197, 6198, 6199, 6200, 6201, 6202, 6203, 6204, 6205, 6206, 6208, 6209, 6210, 6211, 6212, 6213, 6214, 6215, 6216, 6217, 6218, 6219, 6223, 6224, 6225, 6226, 6228, 6229, 6231, 6232, 6233, 6234, 6236, 6237, 6239, 6240, 6241, 6242, 6243, 6244, 6245, 6246, 6247, 6248, 6249, 6250, 6251, 6252, 6253, 6254, 6255, 6256, 6257, 6258, 6259, 6261, 6262, 6263, 6264, 6265, 6266, 6267, 6268, 6269, 6270, 6271, 6272, 6273, 6274, 6275, 6276, 6278, 6279, 6280, 6281, 6282, 6283, 6284, 6285, 6286, 6287, 6288, 6289, 6290, 6291, 6292, 6293, 6294, 6295, 6296, 6297, 6298, 6299, 6300, 6302, 6303, 6304, 6305, 6306, 6307, 6308, 6309, 6310, 6311, 6312, 6313, 6316, 6317, 6318, 6319, 6320, 6321, 6322, 6324, 6325, 6326, 6327, 6328, 6329, 6330, 6331, 6332, 6333, 6334, 6335, 6337, 6339, 6340, 6341, 6342, 6343, 6344, 6346, 6347, 6348, 6349, 6351, 6352, 6355, 6357, 6358, 6360, 6361, 6363, 6365, 6368, 6370, 6373, 6374, 6375, 6376, 6377, 6378, 6379, 6381, 6383, 6384, 6385, 6386, 6387, 6388, 6389, 6390, 6391, 6392, 6393, 6394, 6395, 6396, 6397, 6398, 6399, 6400, 6401, 6402, 6403, 6404, 6405, 6406, 6407, 6408, 6409, 6410, 6411, 6412, 6413, 6414, 6415, 6416, 6417, 6418, 6419, 6420, 6421, 6422, 6424, 6426, 6427, 6428, 6429, 6431, 6432, 6433, 6434, 6435, 6436, 6440, 6441, 6442, 6443, 6444, 6445, 6446, 6447, 6448, 6449, 6450, 6451, 6452, 6454, 6455, 6456, 6457, 6458, 6459, 6460, 6461, 6462, 6463, 6464, 6465, 6466, 6467, 6468, 6469, 6470, 6471, 6472, 6473, 6474, 6475, 6476, 6477, 6478, 6480, 6481, 6482, 6483, 6484, 6485, 6486, 6487, 6488, 6489, 6490, 6491, 6493, 6494, 6495, 6496, 6497, 6498, 6499, 6500, 6501, 6502, 6503, 6504, 6505, 6506, 6507, 6508, 6509, 6510, 6511, 6512, 6513, 6514, 6515, 6516, 6519, 6520, 6521, 6522, 6524, 6527, 6528, 6529, 6530, 6531, 6532, 6533, 6534, 6535, 6536, 6537, 6538, 6539, 6540, 6541, 6542, 6543, 6544, 6545, 6546, 6547, 6548, 6549, 6550, 6552, 6553, 6555, 6556, 6557, 6558, 6559, 6560, 6561, 6563, 6564, 6565, 6566, 6567, 6570, 6571, 6572, 6573, 6574, 6576, 6577, 6578, 6579, 6580, 6581, 6582, 6583, 6584, 6585, 6586, 6588, 6589, 6590, 6591, 6592, 6595, 6596, 6597, 6598, 6599, 6600, 6601, 6602, 6603, 6604, 6607, 6608, 6609, 6610, 6611, 6612, 6613, 6614, 6615, 6616, 6617, 6618, 6620, 6621, 6622, 6623, 6624, 6625, 6626, 6627, 6628, 6629, 6630, 6631, 6632, 6633, 6634, 6635, 6636, 6637, 6638, 6639, 6640, 6643, 6644, 6645, 6646, 6649, 6650, 6651, 6652, 6653, 6654, 6655, 6656, 6657, 6658, 6659, 6660, 6661, 6662, 6663, 6664, 6665, 6666, 6667, 6668, 6669, 6670, 6672, 6673, 6674, 6675, 6676, 6677, 6678, 6679, 6681, 6682, 6683, 6684, 6685, 6686, 6687, 6688, 6689, 6690, 6691, 6693, 6694, 6695, 6696, 6697, 6698, 6699, 6700, 6701, 6702, 6704, 6705, 6706, 6708, 6709, 6710, 6711, 6712, 6714, 6715, 6716, 6717, 6719, 6720, 6721, 6722, 6723, 6724, 6725, 6727, 6728, 6729, 6730, 6731, 6732, 6733, 6734, 6735, 6736, 6737, 6738, 6739, 6740, 6741, 6742, 6743, 6744, 6745, 6746, 6747, 6749, 6752, 6753, 6754, 6755, 6757, 6759, 6760, 6761, 6762, 6763, 6764, 6765, 6766, 6767, 6768, 6769, 6770, 6771, 6772, 6773, 6774, 6776, 6777, 6778, 6779, 6780, 6781, 6782, 6783, 6784, 6785, 6786, 6787, 6788, 6789, 6791, 6792, 6793, 6794, 6795, 6796, 6797, 6798, 6799, 6800, 6801, 6802, 6803, 6804, 6805, 6807, 6808, 6809, 6810, 6811, 6812, 6813, 6814, 6815, 6816, 6817, 6818, 6819, 6820, 6821, 6823, 6824, 6825, 6826, 6827, 6828, 6830, 6832, 6833, 6834, 6835, 6836, 6837, 6838, 6839, 6840, 6841, 6843, 6844, 6845, 6846, 6847, 6848, 6849, 6850, 6851, 6852, 6853, 6854, 6855, 6856, 6857, 6858, 6860, 6861, 6862, 6864, 6865, 6866, 6867, 6868, 6869, 6870, 6871, 6872, 6873, 6874, 6875, 6878, 6879, 6881, 6882, 6883, 6884, 6885, 6887, 6888, 6889, 6890, 6891, 6892, 6893, 6894, 6895, 6896, 6897, 6898, 6899, 6900, 6901, 6903, 6904, 6905, 6906, 6907, 6908, 6909, 6910, 6911, 6912, 6913, 6914, 6915, 6916, 6917, 6918, 6919, 6920, 6921, 6922, 6923, 6924, 6925, 6927, 6928, 6929, 6934, 6935, 6936, 6937, 6938, 6940, 6941, 6942, 6943, 6944, 6945, 6946, 6947, 6948, 6949, 6950, 6951, 6952, 6953, 6954, 6955, 6956, 6957, 6959, 6960, 6962, 6963, 6964, 6965, 6966, 6967, 6968, 6969, 6970, 6971, 6972, 6973, 6975, 6976, 6977, 6978, 6979, 6980, 6981, 6982, 6983, 6984, 6985, 6986, 6987, 6988, 6989, 6990, 6992, 6993, 6994, 6995, 6997, 6998, 6999, 7000, 7001, 7002, 7003, 7004, 7005, 7006, 7007, 7008, 7009, 7010, 7011, 7012, 7013, 7014, 7015, 7016, 7017, 7018, 7019, 7020, 7021, 7022, 7025, 7027, 7028, 7030, 7031, 7032, 7033, 7034, 7035, 7036, 7038, 7039, 7040, 7041, 7042, 7043, 7044, 7045, 7046, 7047, 7048, 7049, 7050, 7051, 7052, 7054, 7056, 7057, 7058, 7059, 7060, 7063, 7064, 7065, 7066, 7067, 7068, 7069, 7070, 7071, 7073, 7074, 7075, 7076, 7077, 7079, 7081, 7082, 7083, 7084, 7085, 7086, 7087, 7088, 7089, 7090, 7091, 7092, 7093, 7094, 7095, 7096, 7097, 7098, 7099, 7100, 7101, 7102, 7103, 7105, 7107, 7108, 7109, 7110, 7111, 7113, 7114, 7115, 7116, 7117, 7118, 7119, 7120, 7121, 7122, 7123, 7124, 7126, 7127, 7129, 7130, 7131, 7132, 7133, 7134, 7135, 7136, 7138, 7139, 7140, 7141, 7142, 7143, 7144, 7145, 7147, 7149, 7150, 7152, 7153, 7155, 7156, 7157, 7158, 7159, 7160, 7161, 7162, 7163, 7165, 7166, 7167, 7169, 7170, 7171, 7173, 7174, 7177, 7178, 7179, 7180, 7181, 7182, 7183, 7184, 7185, 7187, 7188, 7189, 7190, 7191, 7192, 7193, 7195, 7196, 7198, 7199, 7200, 7201, 7202, 7204, 7205, 7206, 7207, 7208, 7209, 7210, 7211, 7212, 7213, 7214, 7215, 7216, 7217, 7218, 7220, 7222, 7223, 7224, 7226, 7227, 7228, 7229, 7230, 7231, 7232, 7235, 7236, 7237, 7239, 7240, 7241, 7242, 7243, 7244, 7245, 7246, 7247, 7248, 7249, 7250, 7251, 7252, 7253, 7254, 7255, 7256, 7257, 7258, 7259, 7260, 7261, 7262, 7263, 7264, 7265, 7266, 7267, 7268, 7270, 7273, 7274, 7275, 7277, 7278, 7279, 7280, 7281, 7282, 7283, 7284, 7285, 7286, 7288, 7289, 7290, 7291, 7292, 7293, 7294, 7295, 7296, 7297, 7299, 7300, 7301, 7302, 7303, 7304, 7305, 7306, 7307, 7310, 7311, 7312, 7313, 7314, 7315, 7316, 7317, 7318, 7319, 7320, 7321, 7322, 7323, 7324, 7327, 7328, 7330, 7331, 7332, 7334, 7335, 7336, 7337, 7338, 7340, 7341, 7343, 7344, 7345, 7346, 7347, 7348, 7349, 7351, 7352, 7354, 7355, 7356, 7357, 7358, 7359, 7360, 7361, 7363, 7364, 7365, 7366, 7367, 7369, 7370, 7371, 7372, 7373, 7374, 7375, 7376, 7377, 7378, 7379, 7380, 7381, 7382, 7383, 7384, 7385, 7386, 7387, 7388, 7389, 7390, 7391, 7392, 7393, 7394, 7395, 7396, 7397, 7398, 7400, 7401, 7402, 7403, 7404, 7405, 7406, 7407, 7408, 7409, 7410, 7411, 7412, 7413, 7414, 7415, 7416, 7417, 7418, 7419, 7420, 7421, 7422, 7423, 7424, 7425, 7426, 7427, 7428, 7429, 7430, 7431, 7433, 7434, 7435, 7436, 7437, 7438, 7440, 7441, 7443, 7444, 7445, 7446, 7447, 7448, 7449, 7450, 7451, 7452, 7453, 7454, 7455, 7456, 7457, 7458, 7459, 7460, 7461, 7462, 7463, 7464, 7465, 7466, 7467, 7468, 7469, 7470, 7471, 7472, 7473, 7474, 7475, 7476, 7477, 7479, 7480, 7481, 7482, 7483, 7484, 7485, 7486, 7490, 7491, 7492, 7493, 7494, 7495, 7496, 7497, 7498, 7499, 7500, 7501, 7502, 7503, 7504, 7505, 7506, 7507, 7509, 7510, 7511, 7512, 7513, 7514, 7515, 7516, 7518, 7519, 7521, 7522, 7523, 7525, 7526, 7528, 7529, 7531, 7532, 7533, 7534, 7535, 7536, 7538, 7539, 7540, 7541, 7542, 7543, 7544, 7545, 7546, 7547, 7548, 7549, 7552, 7553, 7554, 7555, 7556, 7557, 7558, 7559, 7560, 7561, 7563, 7564, 7565, 7566, 7567, 7569, 7570, 7571, 7573, 7574, 7575, 7577, 7578, 7582, 7583, 7584, 7585, 7586, 7587, 7588, 7589, 7590, 7591, 7592, 7594, 7595, 7597, 7598, 7599, 7600, 7601, 7602, 7603, 7606, 7607, 7608, 7609, 7611, 7612, 7614, 7615, 7616, 7617, 7618, 7619, 7620, 7621, 7622, 7623, 7624, 7625, 7626, 7627, 7628, 7629, 7631, 7632, 7633, 7636, 7637, 7638, 7639, 7640, 7642, 7643, 7645, 7646, 7647, 7648, 7649, 7650, 7651, 7652, 7653, 7654, 7655, 7656, 7657, 7658, 7659, 7660, 7661, 7662, 7663, 7665, 7666, 7667, 7668, 7669, 7670, 7671, 7672, 7673, 7675, 7676, 7677, 7678, 7679, 7684, 7685, 7686, 7687, 7688, 7689, 7690, 7691, 7692, 7693, 7694, 7695, 7696, 7697, 7698, 7699, 7700, 7701, 7702, 7704, 7705, 7706, 7707, 7708, 7709, 7710, 7711, 7713, 7714, 7715, 7716, 7717, 7718, 7719, 7720, 7721, 7722, 7724, 7725, 7727, 7728, 7729, 7730, 7731, 7735, 7736, 7737, 7738, 7739, 7740, 7742, 7743, 7744, 7745, 7746, 7747, 7748, 7749, 7750, 7751, 7752, 7753, 7755, 7757, 7758, 7759, 7760, 7761, 7762, 7763, 7764, 7765, 7766, 7767, 7768, 7769, 7770, 7771, 7773, 7774, 7775, 7776, 7777, 7778, 7779, 7780, 7781, 7782, 7783, 7784, 7785, 7786, 7787, 7788, 7789, 7790, 7791, 7792, 7793, 7794, 7795, 7796, 7797, 7798, 7799, 7800, 7801, 7802, 7803, 7804, 7805, 7806, 7808, 7809, 7810, 7812, 7813, 7814, 7815, 7816, 7817, 7819, 7820, 7821, 7822, 7823, 7825, 7826, 7827, 7828, 7829, 7830, 7831, 7832, 7833, 7835, 7836, 7837, 7838, 7839, 7840, 7841, 7842, 7843, 7844, 7845, 7846, 7847, 7848, 7849, 7850, 7851, 7852, 7853, 7854, 7855, 7856, 7857, 7858, 7859, 7860, 7861, 7864, 7865, 7866, 7867, 7868, 7869, 7871, 7872, 7873, 7874, 7875, 7876, 7877, 7878, 7879, 7880, 7881, 7882, 7883, 7884, 7885, 7886, 7888, 7889, 7890, 7891, 7892, 7893, 7894, 7895, 7896, 7897, 7898, 7899, 7900, 7901, 7902, 7903, 7904, 7905, 7906, 7907, 7908, 7909, 7910, 7911, 7912, 7913, 7914, 7915, 7916, 7917, 7918, 7919, 7920, 7921, 7922, 7923, 7924, 7925, 7926, 7927, 7928, 7929, 7930, 7931, 7932, 7933, 7934, 7935, 7936, 7937, 7938, 7939, 7940, 7941, 7942, 7943, 7944, 7945, 7946, 7947, 7948, 7949, 7950, 7951, 7952, 7953, 7954, 7955, 7956, 7957, 7958, 7959, 7960, 7961, 7962, 7963, 7964, 7965, 7966, 7967, 7968, 7969, 7970, 7971, 7972, 7973, 7974, 7975, 7976, 7977, 7978, 7979, 7980, 7981, 7982, 7983, 7984, 7985, 7986, 7987, 7988, 7989, 7990, 7991, 7992, 7993, 7994, 7995, 7996, 7997, 7998, 7999, 8000, 8001, 8002, 8003, 8004, 8005, 8006, 8007, 8008, 8009, 8010, 8011, 8012, 8013, 8014, 8015, 8016, 8017, 8018, 8019, 8020, 8021, 8022, 8023, 8024, 8025, 8026, 8027, 8028, 8029, 8030, 8031, 8032, 8033, 8034, 8035, 8036, 8037, 8038, 8039, 8040, 8041, 8042, 8043, 8044, 8045, 8046, 8047, 8048, 8049, 8050, 8051, 8052, 8053, 8054, 8055, 8056, 8057, 8058, 8059, 8060, 8061, 8062, 8063, 8064, 8065, 8066, 8067, 8068, 8069, 8070, 8071, 8072, 8073, 8074, 8075, 8076, 8077, 8080, 8081, 8082, 8083, 8084, 8085, 8086, 8087, 8088, 8090, 8091, 8092, 8093, 8094, 8095, 8096, 8097, 8098, 8099, 8101, 8102, 8103, 8104, 8106, 8107, 8108, 8109, 8110, 8111, 8112, 8113, 8114, 8115, 8116, 8117, 8118, 8119, 8120, 8121, 8122, 8123, 8124, 8126, 8127, 8128, 8129, 8130, 8131, 8133, 8135, 8136, 8137, 8138, 8139, 8140, 8141, 8142, 8143, 8144, 8145, 8146, 8147, 8148, 8149, 8150, 8151, 8152, 8153, 8154, 8155, 8156, 8157, 8158, 8159, 8160, 8161, 8162, 8163, 8164, 8165, 8166, 8167, 8168, 8169, 8170, 8171, 8172, 8173, 8174, 8175, 8176, 8177, 8178, 8179, 8180, 8181, 8182, 8183, 8184, 8185, 8186, 8187, 8188, 8190, 8191, 8192, 8193, 8194, 8196, 8197, 8198, 8199, 8200, 8201, 8202, 8203, 8204, 8205, 8206, 8207, 8208, 8209, 8211, 8212, 8213, 8214, 8215, 8216, 8217, 8218, 8219, 8220, 8221, 8222, 8223, 8224, 8225, 8226, 8227, 8228, 8230, 8231, 8232, 8234, 8235, 8236, 8237, 8238, 8239, 8240, 8241, 8242, 8243, 8244, 8246, 8247, 8248, 8249, 8250, 8251, 8252, 8253, 8255, 8256, 8257, 8258, 8259, 8260, 8261, 8262, 8263, 8264, 8265, 8266, 8267, 8268, 8269, 8270, 8271, 8272, 8273, 8275, 8276, 8277, 8278, 8279, 8280, 8281, 8283, 8285, 8286, 8287, 8288, 8289, 8290, 8291, 8293, 8294, 8295, 8296, 8298, 8299, 8300, 8301, 8302, 8303, 8304, 8305, 8306, 8307, 8308, 8309, 8310, 8311, 8312, 8313, 8314, 8315, 8316, 8317, 8318, 8319, 8320, 8321, 8322, 8323, 8324, 8325, 8326, 8327, 8328, 8329, 8330, 8331, 8332, 8333, 8334, 8335, 8336, 8337, 8338, 8339, 8340, 8341, 8342, 8343, 8345, 8347, 8348, 8350, 8351, 8352, 8353, 8355, 8356, 8357, 8358, 8360, 8361, 8362, 8363, 8365, 8367, 8368, 8369, 8370, 8371, 8372, 8373, 8375, 8376, 8378, 8379, 8382, 8384, 8385, 8388, 8389, 8390, 8391, 8392, 8396, 8397, 8398, 8399, 8401, 8402, 8403, 8404, 8405, 8406, 8407, 8409, 8410, 8411, 8412, 8413, 8414, 8415, 8416, 8418, 8419, 8420, 8422, 8423, 8424, 8425, 8426, 8427, 8429, 8430, 8431, 8432, 8434, 8435, 8436, 8439, 8440, 8442, 8443, 8444, 8445, 8446, 8448, 8449, 8450, 8451, 8452, 8455, 8456, 8460, 8461, 8462, 8463, 8464, 8465, 8466, 8467, 8468, 8469, 8470, 8471, 8473, 8474, 8476, 8479, 8480, 8481, 8484, 8485, 8486, 8487, 8488, 8489, 8490, 8491, 8492, 8493, 8494, 8495, 8496, 8497, 8498, 8499, 8500, 8501, 8503, 8504, 8505, 8506, 8507, 8508, 8509, 8510, 8511, 8512, 8513, 8514, 8515, 8516, 8517, 8518, 8519, 8520, 8521, 8522, 8523, 8524, 8525, 8526, 8527, 8528, 8529, 8530, 8531, 8532, 8533, 8534, 8535, 8536, 8538, 8539, 8540, 8541, 8543, 8544, 8545, 8546, 8547, 8548, 8549, 8550, 8551, 8552, 8553, 8554, 8555, 8556, 8557, 8558, 8561, 8562, 8563, 8564, 8565, 8566, 8567, 8568, 8569, 8570, 8571, 8572, 8573, 8574, 8575, 8576, 8577, 8578, 8579, 8580, 8581, 8582, 8583, 8584, 8585, 8587, 8588, 8589, 8590, 8591, 8592, 8593, 8594, 8595, 8596, 8597, 8598, 8599, 8600, 8601, 8602, 8603, 8604, 8605, 8606, 8607, 8608, 8609, 8610, 8612, 8615, 8616, 8617, 8618, 8619, 8620, 8621, 8622, 8623, 8624, 8625, 8626, 8627, 8628, 8629, 8630, 8631, 8632, 8633, 8634, 8635, 8636, 8637, 8639, 8640, 8641, 8642, 8643, 8644, 8645, 8646, 8647, 8648, 8649, 8650, 8651, 8652, 8653, 8654, 8655, 8656, 8657, 8660, 8661, 8662, 8663, 8664, 8665, 8666, 8667, 8668, 8669, 8670, 8671, 8672, 8673, 8674, 8675, 8676, 8677, 8678, 8679, 8680, 8681, 8682, 8683, 8684, 8685, 8686, 8687, 8688, 8689, 8690, 8691, 8692, 8693, 8694, 8695, 8696, 8697, 8698, 8699, 8700, 8701, 8702, 8703, 8704, 8705, 8706, 8707, 8708, 8709, 8710, 8711, 8712, 8713, 8714, 8715, 8716, 8717, 8718, 8719, 8720, 8721, 8722, 8723, 8724, 8725, 8726, 8727, 8728, 8729, 8730, 8731, 8732, 8733, 8734, 8735, 8737, 8738, 8739, 8740, 8741, 8742, 8743, 8744, 8745, 8746, 8747, 8748, 8749, 8750, 8751, 8752, 8753, 8754, 8755, 8756, 8757, 8758, 8759, 8760, 8761, 8762, 8763, 8764, 8765, 8766, 8767, 8768, 8770, 8771, 8772, 8773, 8774, 8775, 8776, 8777, 8778, 8779, 8780, 8781, 8782, 8783, 8784, 8785, 8786, 8787, 8788, 8789, 8790, 8791, 8792, 8793, 8794, 8795, 8796, 8797, 8798, 8799, 8800, 8801, 8802, 8803, 8804, 8805, 8806, 8807, 8808, 8809, 8810, 8811, 8812, 8813, 8814, 8815, 8816, 8817, 8818, 8819, 8820, 8821, 8822, 8823, 8824, 8827, 8828, 8829, 8830, 8831, 8832, 8833, 8834, 8835, 8837, 8838, 8841, 8842, 8843, 8844, 8845, 8846, 8847, 8848, 8849, 8850, 8851, 8852, 8853, 8854, 8855, 8856, 8857, 8858, 8860, 8862, 8863, 8864, 8866, 8867, 8868, 8869, 8870, 8871, 8872, 8874, 8875, 8876, 8877, 8878, 8879, 8880, 8881, 8882, 8883, 8884, 8885, 8886, 8887, 8889, 8890, 8891, 8892, 8893, 8894, 8895, 8896, 8897, 8898, 8899, 8900, 8901, 8903, 8904, 8905, 8906, 8907, 8908, 8909, 8910, 8912, 8917, 8918, 8919, 8920, 8921, 8922, 8923, 8924, 8925, 8926, 8927, 8928, 8929, 8930, 8931, 8932, 8933, 8934, 8935, 8936, 8937, 8938, 8939, 8940, 8941, 8942, 8943, 8944, 8945, 8946, 8947, 8949, 8950, 8952, 8954, 8955, 8956, 8957, 8959, 8960, 8961, 8962, 8963, 8964, 8965, 8966, 8967, 8968, 8969, 8970, 8971, 8972, 8973, 8974, 8975, 8976, 8977, 8978, 8979, 8983, 8984, 8985, 8986, 8987, 8988, 8989, 8990, 8991, 8992, 8993, 8994, 8995, 8996, 8997, 8998, 8999, 9000, 9001, 9002, 9004, 9005, 9006, 9007, 9008, 9009, 9010, 9011, 9012, 9013, 9014, 9015, 9016, 9017, 9018, 9019, 9021, 9022, 9023, 9025, 9026, 9028, 9029, 9030, 9031, 9032, 9034, 9035, 9036, 9037, 9038, 9039, 9040, 9041, 9042, 9044, 9045, 9046, 9047, 9048, 9049, 9050, 9051, 9052, 9053, 9054, 9056, 9057, 9058, 9059, 9060, 9061, 9063, 9064, 9065, 9066, 9067, 9068, 9069, 9070, 9071, 9072, 9073, 9074, 9075, 9076, 9077, 9078, 9079, 9080, 9081, 9082, 9083, 9084, 9085, 9086, 9088, 9089, 9090, 9091, 9092, 9093, 9094, 9095, 9096, 9097, 9098, 9099, 9100, 9101, 9102, 9103, 9104, 9105, 9106, 9107, 9108, 9109, 9110, 9111, 9112, 9113, 9114, 9115, 9116, 9117, 9118, 9119, 9120, 9121, 9122, 9123, 9124, 9125, 9126, 9127, 9128, 9129, 9130, 9131, 9132, 9133, 9134, 9135, 9136, 9137, 9138, 9139, 9140, 9142, 9143, 9144, 9145, 9146, 9147, 9148, 9149, 9150, 9151, 9152, 9153, 9154, 9155, 9156, 9157, 9158, 9159, 9160, 9161, 9162, 9163, 9164, 9165, 9166, 9167, 9168, 9169, 9170, 9171, 9172, 9173, 9174, 9175, 9176, 9177, 9178, 9179, 9180, 9181, 9182, 9183, 9184, 9185, 9186, 9187, 9188, 9189, 9190, 9191, 9192, 9193, 9194, 9195, 9197, 9198, 9199, 9200, 9201, 9202, 9204, 9205, 9207, 9208, 9209, 9210, 9211, 9212, 9213, 9214, 9215, 9216, 9217, 9218, 9219, 9221, 9222, 9223, 9224, 9225, 9226, 9227, 9228, 9229, 9230, 9231, 9232, 9234, 9235, 9236, 9237, 9240, 9241, 9242, 9243, 9244, 9245, 9246, 9247, 9248, 9249, 9250, 9251, 9252, 9253, 9254, 9255, 9257, 9258, 9259, 9260, 9261, 9262, 9263, 9266, 9268, 9269, 9270, 9271, 9272, 9273, 9274, 9275, 9276, 9277, 9278, 9279, 9280, 9281, 9282, 9283, 9284, 9285, 9286, 9287, 9288, 9289, 9290, 9291, 9292, 9294, 9295, 9296, 9297, 9298, 9299, 9300, 9301, 9302, 9303, 9304, 9305, 9306, 9307, 9308, 9309, 9310, 9311, 9312, 9313, 9314, 9315, 9316, 9317, 9318, 9319, 9320, 9321, 9322, 9323, 9324, 9325, 9326, 9327, 9328, 9329, 9330, 9331, 9332, 9333, 9334, 9335, 9336, 9337, 9338, 9339, 9340, 9341, 9342, 9343, 9344, 9345, 9346, 9347, 9348, 9351, 9352, 9353, 9354, 9355, 9356, 9357, 9358, 9359, 9361, 9362, 9365, 9366, 9367, 9368, 9369, 9370, 9371, 9372, 9373, 9374, 9375, 9376, 9377, 9378, 9379, 9380, 9381, 9382, 9384, 9386, 9387, 9388, 9390, 9391, 9392, 9393, 9394, 9395, 9396, 9398, 9399, 9400, 9401, 9402, 9403, 9404, 9405, 9406, 9407, 9408, 9409, 9410, 9411, 9413, 9414, 9415, 9416, 9417, 9418, 9419, 9420, 9421, 9422, 9423, 9424, 9425, 9427, 9428, 9429, 9430, 9431, 9432, 9433, 9434, 9436, 9441, 9442, 9443, 9444, 9445, 9446, 9447, 9448, 9449, 9450, 9451, 9452, 9453, 9454, 9455, 9456, 9457, 9458, 9459, 9460, 9461, 9462, 9463, 9464, 9465, 9466, 9467, 9468, 9469, 9470, 9471, 9473, 9474, 9476, 9478, 9479, 9480, 9481, 9483, 9484, 9485, 9486, 9487, 9488, 9489, 9490, 9491, 9492, 9493, 9494, 9495, 9496, 9497, 9498, 9499, 9500, 9501, 9502, 9503, 9507, 9508, 9509, 9510, 9511, 9512, 9513, 9514, 9515, 9516, 9517, 9518, 9519, 9520, 9521, 9522, 9523, 9524, 9525, 9526, 9528, 9529, 9530, 9531, 9532, 9533, 9534, 9535, 9536, 9537, 9538, 9539, 9540, 9541, 9542, 9543, 9545, 9546, 9547, 9549, 9550, 9552, 9553, 9554, 9555, 9556, 9558, 9559, 9560, 9561, 9562, 9563, 9564, 9565, 9566, 9568, 9569, 9570, 9571, 9572, 9573, 9574, 9575, 9576, 9577, 9578, 9580, 9581, 9582, 9583, 9584, 9585, 9587, 9588, 9589, 9590, 9591, 9592, 9593, 9594, 9595, 9596, 9597, 9598, 9599, 9600, 9601, 9602, 9603, 9604, 9605, 9606, 9607, 9608, 9609, 9610, 9612, 9613, 9614, 9615, 9616, 9617, 9618, 9619, 9620, 9621, 9622, 9623, 9624, 9625, 9626, 9627, 9628, 9629, 9630, 9631, 9632, 9633, 9634, 9635, 9636, 9637, 9638, 9639, 9640, 9641, 9642, 9643, 9644, 9645, 9646, 9647, 9648, 9649, 9650, 9651, 9652, 9653, 9654, 9655, 9656, 9657, 9658, 9659, 9660, 9661, 9662, 9663, 9664, 9666, 9667, 9668, 9669, 9670, 9671, 9672, 9673, 9674, 9675, 9676, 9677, 9678, 9679, 9680, 9681, 9682, 9683, 9684, 9685, 9686, 9687, 9688, 9689, 9690, 9691, 9692, 9693, 9694, 9695, 9696, 9697, 9698, 9699, 9700, 9701, 9702, 9703, 9704, 9705, 9706, 9707, 9708, 9709, 9710, 9711, 9712, 9713, 9714, 9715, 9716, 9717, 9718, 9719, 9721, 9722, 9723, 9724, 9725, 9726, 9728, 9729, 9731, 9732, 9733, 9734, 9735, 9736, 9737, 9738, 9739, 9740, 9741, 9742, 9743, 9745, 9746, 9747, 9748, 9749, 9750, 9751, 9752, 9753, 9754, 9755, 9756, 9758, 9759, 9760, 9761, 9764, 9765, 9766, 9767, 9768, 9769, 9770, 9771, 9772, 9773, 9774, 9775, 9776, 9777, 9778, 9779, 9781, 9782, 9783, 9784, 9785, 9786, 9787, 9790, 9792, 9793, 9794, 9795, 9796, 9797, 9798, 9799, 9800, 9801, 9802, 9803, 9804, 9805, 9806, 9808, 9809, 9811, 9812, 9814, 9815, 9816, 9817, 9818, 9819, 9820, 9821, 9822, 9823, 9824, 9825, 9826, 9827, 9828, 9829, 9830, 9831, 9832, 9833, 9834, 9835, 9836, 9837, 9839, 9841, 9842, 9843, 9844, 9845, 9846, 9847, 9848, 9850, 9851, 9852, 9854, 9855, 9856, 9857, 9858, 9859, 9860, 9861, 9862, 9863, 9864, 9865, 9866, 9867, 9868, 9869, 9870, 9871, 9872, 9873, 9874, 9876, 9877, 9878, 9880, 9881, 9882, 9883, 9884, 9885, 9886, 9888, 9889, 9890, 9891, 9892, 9893, 9894, 9895, 9896, 9898, 9900, 9902, 9903, 9904, 9905, 9906, 9907, 9908, 9909, 9910, 9911, 9912, 9913, 9914, 9915, 9916, 9917, 9918, 9919, 9920, 9921, 9922, 9923, 9924]\n",
            "[12, 21, 27, 43, 49, 55, 56, 61, 68, 118, 120, 126, 138, 157, 158, 162, 169, 170, 178, 212, 214, 219, 245, 251, 256, 258, 260, 264, 265, 286, 290, 291, 303, 354, 360, 367, 373, 374, 376, 377, 384, 392, 396, 399, 405, 408, 421, 437, 440, 444, 445, 448, 487, 490, 492, 494, 497, 500, 501, 506, 536, 557, 560, 564, 583, 587, 589, 605, 612, 613, 615, 617, 646, 662, 676, 680, 684, 686, 704, 716, 725, 733, 745, 756, 774, 776, 786, 810, 813, 817, 825, 831, 832, 854, 868, 871, 879, 880, 885, 888, 905, 909, 910, 916, 919, 939, 949, 955, 956, 957, 958, 978, 987, 998, 1001, 1007, 1008, 1009, 1016, 1029, 1031, 1047, 1082, 1086, 1093, 1099, 1109, 1137, 1138, 1145, 1162, 1353, 1354, 1364, 1375, 1380, 1400, 1407, 1409, 1464, 1470, 1485, 1504, 1508, 1520, 1529, 1549, 1557, 1559, 1567, 1572, 1619, 1621, 1624, 1629, 1634, 1639, 1641, 1649, 1652, 1655, 1656, 1658, 1661, 1662, 1668, 1669, 1670, 1675, 1683, 1692, 1696, 1703, 1712, 1713, 1716, 1722, 1728, 1729, 1732, 1733, 1734, 1747, 1750, 1752, 1753, 1757, 1758, 1777, 1812, 1817, 1834, 1835, 1861, 1886, 1888, 1889, 1913, 1933, 1934, 2011, 2042, 2050, 2073, 2074, 2075, 2100, 2106, 2115, 2144, 2145, 2147, 2149, 2152, 2164, 2170, 2174, 2193, 2194, 2202, 2212, 2213, 2236, 2276, 2290, 2323, 2325, 2326, 2351, 2377, 2378, 2379, 2381, 2382, 2384, 2386, 2392, 2396, 2400, 2405, 2406, 2408, 2430, 2433, 2442, 2454, 2462, 2465, 2472, 2474, 2478, 2486, 2490, 2494, 2498, 2511, 2512, 2522, 2538, 2550, 2554, 2558, 2566, 2574, 2586, 2651, 2654, 2657, 2664, 2675, 2680, 2687, 2689, 2698, 2699, 2701, 2713, 2714, 2720, 2721, 2774, 2777, 2788, 2789, 2793, 2794, 2796, 2797, 2813, 2821, 2833, 2835, 2855, 2870, 2882, 2901, 2911, 2912, 2922, 2927, 2935, 2937, 2940, 2942, 2947, 2950, 2957, 2968, 2977, 2984, 3006, 3028, 3034, 3038, 3041, 3043, 3046, 3073, 3078, 3107, 3118, 3119, 3122, 3123, 3129, 3142, 3145, 3150, 3152, 3172, 3192, 3201, 3211, 3217, 3227, 3232, 3236, 3238, 3239, 3240, 3254, 3255, 3276, 3281, 3282, 3288, 3294, 3298, 3305, 3316, 3318, 3319, 3323, 3332, 3336, 3338, 3346, 3352, 3354, 3369, 3376, 3381, 3384, 3388, 3392, 3395, 3399, 3403, 3407, 3411, 3416, 3419, 3421, 3438, 3440, 3443, 3444, 3446, 3458, 3460, 3467, 3468, 3471, 3476, 3480, 3485, 3487, 3495, 3496, 3511, 3512, 3514, 3523, 3533, 3543, 3544, 3551, 3554, 3575, 3577, 3582, 3584, 3586, 3591, 3613, 3617, 3619, 3623, 3654, 3659, 3672, 3679, 3680, 3683, 3686, 3691, 3692, 3696, 3703, 3713, 3719, 3721, 3727, 3730, 3731, 3738, 3743, 3745, 3754, 3758, 3762, 3765, 3771, 3774, 3775, 3778, 3779, 3786, 3787, 3792, 3793, 3802, 3806, 3807, 3809, 3813, 3814, 3817, 3823, 3825, 3829, 3832, 3837, 3841, 3846, 3848, 3850, 3855, 3856, 3859, 3865, 3870, 3871, 3876, 3880, 3881, 3887, 3888, 3904, 3910, 3965, 3967, 3978, 3987, 4001, 4003, 4004, 4021, 4026, 4035, 4037, 4047, 4048, 4049, 4057, 4059, 4063, 4065, 4069, 4071, 4072, 4089, 4099, 4115, 4119, 4122, 4125, 4126, 4130, 4136, 4139, 4142, 4150, 4164, 4166, 4174, 4184, 4187, 4189, 4194, 4195, 4196, 4202, 4210, 4213, 4214, 4217, 4228, 4231, 4232, 4262, 4308, 4317, 4321, 4322, 4351, 4352, 4355, 4358, 4364, 4374, 4377, 4379, 4384, 4387, 4401, 4414, 4421, 4427, 4436, 4438, 4441, 4442, 4444, 4459, 4465, 4471, 4474, 4491, 4501, 4504, 4515, 4516, 4518, 4520, 4534, 4551, 4566, 4582, 4583, 4585, 4596, 4598, 4600, 4606, 4617, 4642, 4643, 4658, 4660, 4665, 4667, 4682, 4684, 4686, 4688, 4689, 4690, 4692, 4693, 4696, 4698, 4699, 4704, 4709, 4710, 4712, 4857, 4858, 4863, 4865, 4866, 4868, 4871, 4872, 4873, 4882, 4885, 4889, 4899, 4906, 4908, 4910, 4912, 4917, 4921, 4932, 4936, 4940, 4942, 4997, 5009, 5020, 5033, 5050, 5053, 5055, 5066, 5075, 5086, 5088, 5095, 5103, 5105, 5110, 5145, 5146, 5147, 5154, 5160, 5162, 5165, 5179, 5180, 5181, 5182, 5185, 5186, 5194, 5195, 5197, 5201, 5207, 5215, 5219, 5223, 5225, 5228, 5273, 5277, 5281, 5294, 5300, 5306, 5307, 5311, 5312, 5313, 5320, 5322, 5324, 5325, 5327, 5328, 5336, 5337, 5350, 5351, 5364, 5365, 5368, 5370, 5374, 5380, 5383, 5387, 5388, 5389, 5401, 5404, 5448, 5452, 5458, 5470, 5473, 5480, 5482, 5486, 5491, 5492, 5497, 5500, 5504, 5506, 5508, 5509, 5515, 5517, 5522, 5524, 5528, 5531, 5538, 5543, 5549, 5550, 5553, 5556, 5562, 5563, 5564, 5566, 5567, 5568, 5571, 5574, 5579, 5591, 5605, 5619, 5620, 5631, 5637, 5659, 5660, 5661, 5663, 5667, 5672, 5683, 5692, 5711, 5718, 5739, 5740, 5744, 5747, 5748, 5749, 5751, 5753, 5761, 5765, 5769, 5796, 5802, 5804, 5811, 5812, 5827, 5843, 5853, 5862, 5863, 5870, 5875, 5884, 5887, 5897, 5915, 5919, 5921, 5925, 5928, 5930, 5939, 5941, 5955, 5966, 5983, 5986, 5992, 6001, 6007, 6017, 6019, 6027, 6028, 6037, 6048, 6054, 6062, 6064, 6067, 6068, 6072, 6081, 6085, 6086, 6089, 6096, 6109, 6115, 6116, 6130, 6140, 6145, 6148, 6150, 6157, 6159, 6168, 6174, 6194, 6207, 6220, 6221, 6222, 6227, 6230, 6235, 6238, 6260, 6277, 6301, 6314, 6315, 6323, 6336, 6338, 6345, 6350, 6353, 6354, 6356, 6359, 6362, 6364, 6366, 6367, 6369, 6371, 6372, 6380, 6382, 6423, 6425, 6430, 6437, 6438, 6439, 6453, 6479, 6492, 6517, 6518, 6523, 6525, 6526, 6551, 6554, 6562, 6568, 6569, 6575, 6587, 6593, 6594, 6605, 6606, 6619, 6641, 6642, 6647, 6648, 6671, 6680, 6692, 6703, 6707, 6713, 6718, 6726, 6748, 6750, 6751, 6756, 6758, 6775, 6790, 6806, 6822, 6829, 6831, 6842, 6859, 6863, 6876, 6877, 6880, 6886, 6902, 6926, 6930, 6931, 6932, 6933, 6939, 6958, 6961, 6974, 6991, 6996, 7023, 7024, 7026, 7029, 7037, 7053, 7055, 7061, 7062, 7072, 7078, 7080, 7104, 7106, 7112, 7125, 7128, 7137, 7146, 7151, 7154, 7164, 7168, 7172, 7175, 7176, 7186, 7194, 7197, 7203, 7219, 7221, 7225, 7233, 7234, 7238, 7269, 7271, 7272, 7276, 7287, 7298, 7308, 7309, 7325, 7326, 7329, 7333, 7339, 7342, 7350, 7353, 7362, 7368, 7399, 7439, 7442, 7478, 7487, 7488, 7489, 7508, 7517, 7520, 7524, 7527, 7530, 7537, 7550, 7551, 7562, 7568, 7572, 7576, 7579, 7580, 7593, 7596, 7604, 7605, 7610, 7613, 7630, 7634, 7635, 7641, 7644, 7664, 7674, 7680, 7681, 7682, 7683, 7703, 7712, 7723, 7726, 7732, 7733, 7734, 7741, 7754, 7756, 7772, 7807, 7811, 7818, 7824, 7834, 7862, 7863, 7870, 7887, 8078, 8079, 8089, 8100, 8105, 8125, 8132, 8134, 8189, 8195, 8210, 8229, 8233, 8245, 8254, 8274, 8282, 8284, 8292, 8297, 8344, 8346, 8349, 8354, 8359, 8364, 8366, 8374, 8377, 8380, 8381, 8383, 8386, 8387, 8393, 8394, 8395, 8400, 8408, 8417, 8421, 8428, 8437, 8438, 8441, 8447, 8453, 8454, 8457, 8458, 8459, 8472, 8475, 8477, 8478, 8482, 8483, 8502, 8537, 8542, 8559, 8560, 8586, 8611, 8613, 8614, 8638, 8658, 8659, 8736, 8769, 8825, 8836, 8839, 8840, 8859, 8861, 8865, 8873, 8888, 8902, 8911, 8913, 8914, 8915, 8916, 8948, 8951, 8953, 8958, 8980, 8981, 8982, 9003, 9024, 9027, 9033, 9043, 9055, 9062, 9141, 9196, 9203, 9206, 9220, 9233, 9238, 9239, 9256, 9264, 9265, 9267, 9293, 9349, 9360, 9363, 9364, 9383, 9385, 9389, 9397, 9412, 9426, 9435, 9437, 9438, 9439, 9440, 9472, 9475, 9477, 9482, 9504, 9505, 9506, 9527, 9548, 9551, 9557, 9567, 9579, 9586, 9665, 9720, 9727, 9730, 9744, 9757, 9762, 9763, 9780, 9788, 9789, 9791, 9807, 9810, 9813, 9838, 9840, 9849, 9853, 9875, 9879, 9887, 9897, 9899]\n",
            "[198, 202, 306, 307, 397, 590, 592, 596, 598, 601, 1708, 2186, 2226, 2509, 2869, 2924, 2926, 3325, 3590, 3699, 3999, 4621, 4896, 4944, 4962, 5002, 5018, 5087, 5270, 5487, 5604, 5965, 7148, 7432, 7581, 8433, 8826, 9020, 9087, 9350, 9544, 9611, 9901]\n"
          ]
        }
      ]
    },
    {
      "cell_type": "code",
      "source": [
        "# Преобразуем массив значений в формат OHE\n",
        "\n",
        "y_ohe = utils.to_categorical(y)"
      ],
      "metadata": {
        "id": "i97AhYSQKSmL"
      },
      "execution_count": null,
      "outputs": []
    },
    {
      "cell_type": "code",
      "source": [
        "print(y_ohe)"
      ],
      "metadata": {
        "colab": {
          "base_uri": "https://localhost:8080/"
        },
        "id": "xsM_EmmXOkNx",
        "outputId": "83934901-d66e-4838-d630-5dbd35f13cac"
      },
      "execution_count": null,
      "outputs": [
        {
          "output_type": "stream",
          "name": "stdout",
          "text": [
            "[[0. 1. 0. 0.]\n",
            " [0. 1. 0. 0.]\n",
            " [0. 1. 0. 0.]\n",
            " ...\n",
            " [0. 1. 0. 0.]\n",
            " [0. 1. 0. 0.]\n",
            " [0. 1. 0. 0.]]\n"
          ]
        }
      ]
    },
    {
      "cell_type": "code",
      "source": [
        "# Разобъем массив на обучающую и тестовую выборки\n",
        "# Для МL моделей\n",
        "# x_train_ML, x_test_ML, y_train_ML, y_test_ML = train_test_split(x, y, test_size = 0.2, shuffle = False)\n",
        "\n",
        "# Для DL моделей\n",
        "x_train_DL, x_test_DL, y_train_DL, y_test_DL = train_test_split(x, y_ohe, test_size = 0.2, shuffle = False)"
      ],
      "metadata": {
        "id": "lkauhWZg3F2U"
      },
      "execution_count": null,
      "outputs": []
    },
    {
      "cell_type": "code",
      "source": [
        "# Вывод размеров обучающей и проверочной выборок\n",
        "# print(f'Структура и размер массива обучающей выборки ML: {x_train_ML.shape}')\n",
        "# print(f'Структура и размер массива проверочной выборки ML: {x_test_ML.shape}')\n",
        "# print(f'Структура и размер массива результатов обучающей выборки ML: {y_train_ML.shape}')\n",
        "# print(f'Структура и размер массива результатов проверочной выборки ML: {y_test_ML.shape}')\n",
        "print(f'Структура и размер массива обучающей выборки DL: {x_train_DL.shape}')\n",
        "print(f'Структура и размер массива проверочной выборки DL: {x_test_DL.shape}')\n",
        "print(f'Структура и размер массива результатов обучающей выборки DL: {y_train_DL.shape}')\n",
        "print(f'Структура и размер массива результатов проверочной выборки DL: {y_test_DL.shape}')"
      ],
      "metadata": {
        "colab": {
          "base_uri": "https://localhost:8080/"
        },
        "id": "rktsIYLd3HGe",
        "outputId": "46ae9b70-c797-4c1a-d223-90aaee7ed39f"
      },
      "execution_count": null,
      "outputs": [
        {
          "output_type": "stream",
          "name": "stdout",
          "text": [
            "Структура и размер массива обучающей выборки DL: (7940, 15)\n",
            "Структура и размер массива проверочной выборки DL: (1985, 15)\n",
            "Структура и размер массива результатов обучающей выборки DL: (7940, 4)\n",
            "Структура и размер массива результатов проверочной выборки DL: (1985, 4)\n"
          ]
        }
      ]
    },
    {
      "cell_type": "markdown",
      "source": [
        "## Модели DL"
      ],
      "metadata": {
        "id": "BFIGnFSaGRyv"
      }
    },
    {
      "cell_type": "code",
      "source": [
        "# Инициализация класса автоматического машинного обучения\n",
        "clf = ak.StructuredDataClassifier(\n",
        "    overwrite=True,\n",
        "    max_trials=5,\n",
        "    tuner='greedy',\n",
        "    metrics=['accuracy'],\n",
        "    project_name='profpatolog_dl_new_DS'\n",
        ")\n",
        "\n",
        "# Обучение модели\n",
        "history = clf.fit(x_train_DL, y_train_DL, epochs=20, callbacks=[EarlyStopping(monitor='val_accuracy', patience=3)])\n",
        "\n",
        "# Оценка модели\n",
        "accuracy_test = clf.evaluate(x_test_DL, y_test_DL)"
      ],
      "metadata": {
        "colab": {
          "base_uri": "https://localhost:8080/"
        },
        "id": "vVBeZG-fmL2M",
        "outputId": "8edf1820-e920-4ce5-991c-14db81ba5be1"
      },
      "execution_count": null,
      "outputs": [
        {
          "output_type": "stream",
          "name": "stdout",
          "text": [
            "Trial 5 Complete [00h 00m 14s]\n",
            "val_accuracy: 0.8805195093154907\n",
            "\n",
            "Best val_accuracy So Far: 0.883766233921051\n",
            "Total elapsed time: 00h 01m 18s\n",
            "Epoch 1/20\n",
            "249/249 [==============================] - 3s 4ms/step - loss: 0.4602 - accuracy: 0.8496\n",
            "Epoch 2/20\n",
            "249/249 [==============================] - 1s 3ms/step - loss: 0.3343 - accuracy: 0.8607\n",
            "Epoch 3/20\n",
            "249/249 [==============================] - 1s 3ms/step - loss: 0.3033 - accuracy: 0.8670\n",
            "Epoch 4/20\n",
            "249/249 [==============================] - 1s 3ms/step - loss: 0.2874 - accuracy: 0.8690\n",
            "Epoch 5/20\n",
            "249/249 [==============================] - 1s 3ms/step - loss: 0.2779 - accuracy: 0.8747\n",
            "Epoch 6/20\n",
            "249/249 [==============================] - 1s 3ms/step - loss: 0.2716 - accuracy: 0.8757\n",
            "Epoch 7/20\n",
            "249/249 [==============================] - 1s 3ms/step - loss: 0.2666 - accuracy: 0.8804\n",
            "Epoch 8/20\n",
            "249/249 [==============================] - 1s 3ms/step - loss: 0.2626 - accuracy: 0.8834\n",
            "Epoch 9/20\n",
            "249/249 [==============================] - 1s 3ms/step - loss: 0.2595 - accuracy: 0.8831\n",
            "Epoch 10/20\n",
            "249/249 [==============================] - 1s 3ms/step - loss: 0.2570 - accuracy: 0.8830\n",
            "Epoch 11/20\n",
            "249/249 [==============================] - 1s 4ms/step - loss: 0.2550 - accuracy: 0.8853\n",
            "Epoch 12/20\n",
            "249/249 [==============================] - 1s 4ms/step - loss: 0.2530 - accuracy: 0.8856\n",
            "Epoch 13/20\n",
            "249/249 [==============================] - 1s 4ms/step - loss: 0.2522 - accuracy: 0.8864\n",
            "Epoch 14/20\n",
            "249/249 [==============================] - 1s 4ms/step - loss: 0.2492 - accuracy: 0.8887\n",
            "Epoch 15/20\n",
            "249/249 [==============================] - 1s 4ms/step - loss: 0.2480 - accuracy: 0.8865\n",
            "Epoch 16/20\n",
            "249/249 [==============================] - 1s 4ms/step - loss: 0.2468 - accuracy: 0.8855\n",
            "Epoch 17/20\n",
            "249/249 [==============================] - 1s 4ms/step - loss: 0.2458 - accuracy: 0.8855\n",
            "Epoch 18/20\n",
            "249/249 [==============================] - 1s 3ms/step - loss: 0.2445 - accuracy: 0.8901\n",
            "Epoch 19/20\n",
            "249/249 [==============================] - 1s 3ms/step - loss: 0.2443 - accuracy: 0.8893\n",
            "Epoch 20/20\n",
            "249/249 [==============================] - 1s 3ms/step - loss: 0.2425 - accuracy: 0.8889\n",
            "63/63 [==============================] - 0s 2ms/step - loss: 0.1988 - accuracy: 0.9169\n"
          ]
        }
      ]
    },
    {
      "cell_type": "code",
      "source": [
        "# Визуализация процесса\n",
        "\n",
        "plt.plot(history.history['accuracy'])\n",
        "# plt.plot(history.history['accuracy_test'])\n",
        "plt.xlabel('Эпоха')\n",
        "plt.ylabel('Точность предсказания')\n",
        "plt.title('Model Training Process')\n",
        "plt.legend(['Тренировочная', 'Тестовая'])\n",
        "plt.show()"
      ],
      "metadata": {
        "colab": {
          "base_uri": "https://localhost:8080/",
          "height": 472
        },
        "id": "hjgNsWaB-Fh1",
        "outputId": "6b14cabd-0c1b-40e5-e659-a7f467287406"
      },
      "execution_count": null,
      "outputs": [
        {
          "output_type": "display_data",
          "data": {
            "text/plain": [
              "<Figure size 640x480 with 1 Axes>"
            ],
            "image/png": "[encoded data removed]"
          },
          "metadata": {}
        }
      ]
    },
    {
      "cell_type": "code",
      "source": [
        "# Получим наилучшую модель\n",
        "best_model = clf.export_model()"
      ],
      "metadata": {
        "id": "05ysxg-vrN8e"
      },
      "execution_count": null,
      "outputs": []
    },
    {
      "cell_type": "code",
      "source": [
        "# вывод информации о лучшей модели\n",
        "best_model = clf.export_model()\n",
        "best_model.summary()"
      ],
      "metadata": {
        "id": "XGGirMAcECSr",
        "colab": {
          "base_uri": "https://localhost:8080/"
        },
        "outputId": "383eb379-b24b-4a42-8aed-d31487d4f236"
      },
      "execution_count": null,
      "outputs": [
        {
          "output_type": "stream",
          "name": "stdout",
          "text": [
            "Model: \"model\"\n",
            "_________________________________________________________________\n",
            " Layer (type)                Output Shape              Param #   \n",
            "=================================================================\n",
            " input_1 (InputLayer)        [(None, 15)]              0         \n",
            "                                                                 \n",
            " multi_category_encoding (M  (None, 15)                0         \n",
            " ultiCategoryEncoding)                                           \n",
            "                                                                 \n",
            " dense (Dense)               (None, 64)                1024      \n",
            "                                                                 \n",
            " re_lu (ReLU)                (None, 64)                0         \n",
            "                                                                 \n",
            " dense_1 (Dense)             (None, 32)                2080      \n",
            "                                                                 \n",
            " re_lu_1 (ReLU)              (None, 32)                0         \n",
            "                                                                 \n",
            " dense_2 (Dense)             (None, 32)                1056      \n",
            "                                                                 \n",
            " re_lu_2 (ReLU)              (None, 32)                0         \n",
            "                                                                 \n",
            " dense_3 (Dense)             (None, 4)                 132       \n",
            "                                                                 \n",
            " classification_head_1 (Sof  (None, 4)                 0         \n",
            " tmax)                                                           \n",
            "                                                                 \n",
            "=================================================================\n",
            "Total params: 4292 (16.77 KB)\n",
            "Trainable params: 4292 (16.77 KB)\n",
            "Non-trainable params: 0 (0.00 Byte)\n",
            "_________________________________________________________________\n"
          ]
        }
      ]
    },
    {
      "cell_type": "code",
      "source": [
        "# Сохраним модель на диск\n",
        "import joblib\n",
        "save_path = '/content/drive/MyDrive/Стажировка/Profpatolog/Models/model_NewDset.pkl'\n",
        "joblib.dump(best_model, save_path)"
      ],
      "metadata": {
        "colab": {
          "base_uri": "https://localhost:8080/"
        },
        "id": "Dbcvalc6bl7V",
        "outputId": "28e6f949-e191-4a74-b6e1-402b9017ed75"
      },
      "execution_count": null,
      "outputs": [
        {
          "output_type": "execute_result",
          "data": {
            "text/plain": [
              "['/content/drive/MyDrive/Стажировка/Profpatolog/Models/model_NewDset.pkl']"
            ]
          },
          "metadata": {},
          "execution_count": 181
        }
      ]
    },
    {
      "cell_type": "code",
      "source": [
        "# Случайно выберем по одному представителю из класса\n",
        "n_0 = random.choice(index_0)\n",
        "n_1 = random.choice(index_1)\n",
        "n_2 = random.choice(index_2)"
      ],
      "metadata": {
        "id": "_6ptehgrmVvz"
      },
      "execution_count": null,
      "outputs": []
    },
    {
      "cell_type": "code",
      "source": [
        "print(n_0)\n",
        "print(y_train_DL[n_0])\n",
        "# print(df_cut['Заключение'][n_0])\n",
        "print(df_fl['Заключение'][n_0])"
      ],
      "metadata": {
        "colab": {
          "base_uri": "https://localhost:8080/"
        },
        "id": "gtolUpNBnS-i",
        "outputId": "58508d18-5a12-4419-b599-590e1f1f4315"
      },
      "execution_count": null,
      "outputs": [
        {
          "output_type": "stream",
          "name": "stdout",
          "text": [
            "859\n",
            "[0. 1. 0. 0.]\n",
            "1.0\n"
          ]
        }
      ]
    },
    {
      "cell_type": "code",
      "source": [
        "# Предсказание по сформированной выборке Вредности и Диагноза\n",
        "y_pred = best_model.predict([x_train_DL])\n",
        "\n",
        "# Перевод полученного вектора в номера классов (0,1,2)\n",
        "y_class_num = np.argmax(y_pred, axis=-1)"
      ],
      "metadata": {
        "colab": {
          "base_uri": "https://localhost:8080/"
        },
        "id": "yNKAePKVnTkX",
        "outputId": "ae8b1e75-23ea-4dca-db47-5b652e589c4e"
      },
      "execution_count": null,
      "outputs": [
        {
          "output_type": "stream",
          "name": "stdout",
          "text": [
            "249/249 [==============================] - 2s 6ms/step\n"
          ]
        }
      ]
    },
    {
      "cell_type": "code",
      "source": [
        "def format_vector(vector):\n",
        "    return [round(num, 0) for num in vector]"
      ],
      "metadata": {
        "id": "NEL9IQPrqq2J"
      },
      "execution_count": null,
      "outputs": []
    },
    {
      "cell_type": "code",
      "source": [
        "# Сформируем таблицу с выводом реальных значений и предсказания\n",
        "df_pred = pd.DataFrame({'Реальное заключение': ['Годен', 'ОграниченноГоден', 'Негоден'],\n",
        "                        'Реальный вектор': [y_train_DL[n_0], y_train_DL[n_1], y_train_DL[n_2]],\n",
        "                        'Реальный класс': [y[n_0], y[n_1], y[n_2]],\n",
        "                        'Предсказанный вектор': [y_pred[n_0], y_pred[n_1], y_pred[n_2]],\n",
        "                        'Предсказанный класс': [y_class_num[n_0], y_class_num[n_1], y_class_num[n_2]]})\n",
        "\n",
        "df_pred['Предсказанный вектор'] = df_pred['Предсказанный вектор'].apply(format_vector)\n",
        "\n",
        "df_pred"
      ],
      "metadata": {
        "colab": {
          "base_uri": "https://localhost:8080/",
          "height": 143
        },
        "id": "n0wXACQ5DYLN",
        "outputId": "52c73bcc-f14c-4906-89c4-d3a37ffba3d2"
      },
      "execution_count": null,
      "outputs": [
        {
          "output_type": "execute_result",
          "data": {
            "text/plain": [
              "  Реальное заключение       Реальный вектор  Реальный класс  \\\n",
              "0               Годен  [0.0, 1.0, 0.0, 0.0]             1.0   \n",
              "1    ОграниченноГоден  [0.0, 0.0, 1.0, 0.0]             2.0   \n",
              "2             Негоден  [0.0, 0.0, 0.0, 1.0]             3.0   \n",
              "\n",
              "   Предсказанный вектор  Предсказанный класс  \n",
              "0  [0.0, 1.0, 0.0, 0.0]                    1  \n",
              "1  [0.0, 0.0, 1.0, 0.0]                    2  \n",
              "2  [0.0, 1.0, 0.0, 0.0]                    1  "
            ],
            "text/html": [
              "\n",
              "\n",
              "  <div id=\"df-b20eb38b-9d5d-4625-881c-c8687ebdb9fa\">\n",
              "    <div class=\"colab-df-container\">\n",
              "      <div>\n",
              "<style scoped>\n",
              "    .dataframe tbody tr th:only-of-type {\n",
              "        vertical-align: middle;\n",
              "    }\n",
              "\n",
              "    .dataframe tbody tr th {\n",
              "        vertical-align: top;\n",
              "    }\n",
              "\n",
              "    .dataframe thead th {\n",
              "        text-align: right;\n",
              "    }\n",
              "</style>\n",
              "<table border=\"1\" class=\"dataframe\">\n",
              "  <thead>\n",
              "    <tr style=\"text-align: right;\">\n",
              "      <th></th>\n",
              "      <th>Реальное заключение</th>\n",
              "      <th>Реальный вектор</th>\n",
              "      <th>Реальный класс</th>\n",
              "      <th>Предсказанный вектор</th>\n",
              "      <th>Предсказанный класс</th>\n",
              "    </tr>\n",
              "  </thead>\n",
              "  <tbody>\n",
              "    <tr>\n",
              "      <th>0</th>\n",
              "      <td>Годен</td>\n",
              "      <td>[0.0, 1.0, 0.0, 0.0]</td>\n",
              "      <td>1.0</td>\n",
              "      <td>[0.0, 1.0, 0.0, 0.0]</td>\n",
              "      <td>1</td>\n",
              "    </tr>\n",
              "    <tr>\n",
              "      <th>1</th>\n",
              "      <td>ОграниченноГоден</td>\n",
              "      <td>[0.0, 0.0, 1.0, 0.0]</td>\n",
              "      <td>2.0</td>\n",
              "      <td>[0.0, 0.0, 1.0, 0.0]</td>\n",
              "      <td>2</td>\n",
              "    </tr>\n",
              "    <tr>\n",
              "      <th>2</th>\n",
              "      <td>Негоден</td>\n",
              "      <td>[0.0, 0.0, 0.0, 1.0]</td>\n",
              "      <td>3.0</td>\n",
              "      <td>[0.0, 1.0, 0.0, 0.0]</td>\n",
              "      <td>1</td>\n",
              "    </tr>\n",
              "  </tbody>\n",
              "</table>\n",
              "</div>\n",
              "      <button class=\"colab-df-convert\" onclick=\"convertToInteractive('df-b20eb38b-9d5d-4625-881c-c8687ebdb9fa')\"\n",
              "              title=\"Convert this dataframe to an interactive table.\"\n",
              "              style=\"display:none;\">\n",
              "\n",
              "  <svg xmlns=\"http://www.w3.org/2000/svg\" height=\"24px\"viewBox=\"0 0 24 24\"\n",
              "       width=\"24px\">\n",
              "    <path d=\"M0 0h24v24H0V0z\" fill=\"none\"/>\n",
              "    <path d=\"M18.56 5.44l.94 2.06.94-2.06 2.06-.94-2.06-.94-.94-2.06-.94 2.06-2.06.94zm-11 1L8.5 8.5l.94-2.06 2.06-.94-2.06-.94L8.5 2.5l-.94 2.06-2.06.94zm10 10l.94 2.06.94-2.06 2.06-.94-2.06-.94-.94-2.06-.94 2.06-2.06.94z\"/><path d=\"M17.41 7.96l-1.37-1.37c-.4-.4-.92-.59-1.43-.59-.52 0-1.04.2-1.43.59L10.3 9.45l-7.72 7.72c-.78.78-.78 2.05 0 2.83L4 21.41c.39.39.9.59 1.41.59.51 0 1.02-.2 1.41-.59l7.78-7.78 2.81-2.81c.8-.78.8-2.07 0-2.86zM5.41 20L4 18.59l7.72-7.72 1.47 1.35L5.41 20z\"/>\n",
              "  </svg>\n",
              "      </button>\n",
              "\n",
              "\n",
              "\n",
              "    <div id=\"df-7486eb4c-889b-4214-839e-11af44013b6a\">\n",
              "      <button class=\"colab-df-quickchart\" onclick=\"quickchart('df-7486eb4c-889b-4214-839e-11af44013b6a')\"\n",
              "              title=\"Suggest charts.\"\n",
              "              style=\"display:none;\">\n",
              "\n",
              "<svg xmlns=\"http://www.w3.org/2000/svg\" height=\"24px\"viewBox=\"0 0 24 24\"\n",
              "     width=\"24px\">\n",
              "    <g>\n",
              "        <path d=\"M19 3H5c-1.1 0-2 .9-2 2v14c0 1.1.9 2 2 2h14c1.1 0 2-.9 2-2V5c0-1.1-.9-2-2-2zM9 17H7v-7h2v7zm4 0h-2V7h2v10zm4 0h-2v-4h2v4z\"/>\n",
              "    </g>\n",
              "</svg>\n",
              "      </button>\n",
              "    </div>\n",
              "\n",
              "<style>\n",
              "  .colab-df-quickchart {\n",
              "    background-color: #E8F0FE;\n",
              "    border: none;\n",
              "    border-radius: 50%;\n",
              "    cursor: pointer;\n",
              "    display: none;\n",
              "    fill: #1967D2;\n",
              "    height: 32px;\n",
              "    padding: 0 0 0 0;\n",
              "    width: 32px;\n",
              "  }\n",
              "\n",
              "  .colab-df-quickchart:hover {\n",
              "    background-color: #E2EBFA;\n",
              "    box-shadow: 0px 1px 2px rgba(60, 64, 67, 0.3), 0px 1px 3px 1px rgba(60, 64, 67, 0.15);\n",
              "    fill: #174EA6;\n",
              "  }\n",
              "\n",
              "  [theme=dark] .colab-df-quickchart {\n",
              "    background-color: #3B4455;\n",
              "    fill: #D2E3FC;\n",
              "  }\n",
              "\n",
              "  [theme=dark] .colab-df-quickchart:hover {\n",
              "    background-color: #434B5C;\n",
              "    box-shadow: 0px 1px 3px 1px rgba(0, 0, 0, 0.15);\n",
              "    filter: drop-shadow(0px 1px 2px rgba(0, 0, 0, 0.3));\n",
              "    fill: #FFFFFF;\n",
              "  }\n",
              "</style>\n",
              "\n",
              "    <script>\n",
              "      async function quickchart(key) {\n",
              "        const containerElement = document.querySelector('#' + key);\n",
              "        const charts = await google.colab.kernel.invokeFunction(\n",
              "            'suggestCharts', [key], {});\n",
              "      }\n",
              "    </script>\n",
              "\n",
              "      <script>\n",
              "\n",
              "function displayQuickchartButton(domScope) {\n",
              "  let quickchartButtonEl =\n",
              "    domScope.querySelector('#df-7486eb4c-889b-4214-839e-11af44013b6a button.colab-df-quickchart');\n",
              "  quickchartButtonEl.style.display =\n",
              "    google.colab.kernel.accessAllowed ? 'block' : 'none';\n",
              "}\n",
              "\n",
              "        displayQuickchartButton(document);\n",
              "      </script>\n",
              "      <style>\n",
              "    .colab-df-container {\n",
              "      display:flex;\n",
              "      flex-wrap:wrap;\n",
              "      gap: 12px;\n",
              "    }\n",
              "\n",
              "    .colab-df-convert {\n",
              "      background-color: #E8F0FE;\n",
              "      border: none;\n",
              "      border-radius: 50%;\n",
              "      cursor: pointer;\n",
              "      display: none;\n",
              "      fill: #1967D2;\n",
              "      height: 32px;\n",
              "      padding: 0 0 0 0;\n",
              "      width: 32px;\n",
              "    }\n",
              "\n",
              "    .colab-df-convert:hover {\n",
              "      background-color: #E2EBFA;\n",
              "      box-shadow: 0px 1px 2px rgba(60, 64, 67, 0.3), 0px 1px 3px 1px rgba(60, 64, 67, 0.15);\n",
              "      fill: #174EA6;\n",
              "    }\n",
              "\n",
              "    [theme=dark] .colab-df-convert {\n",
              "      background-color: #3B4455;\n",
              "      fill: #D2E3FC;\n",
              "    }\n",
              "\n",
              "    [theme=dark] .colab-df-convert:hover {\n",
              "      background-color: #434B5C;\n",
              "      box-shadow: 0px 1px 3px 1px rgba(0, 0, 0, 0.15);\n",
              "      filter: drop-shadow(0px 1px 2px rgba(0, 0, 0, 0.3));\n",
              "      fill: #FFFFFF;\n",
              "    }\n",
              "  </style>\n",
              "\n",
              "      <script>\n",
              "        const buttonEl =\n",
              "          document.querySelector('#df-b20eb38b-9d5d-4625-881c-c8687ebdb9fa button.colab-df-convert');\n",
              "        buttonEl.style.display =\n",
              "          google.colab.kernel.accessAllowed ? 'block' : 'none';\n",
              "\n",
              "        async function convertToInteractive(key) {\n",
              "          const element = document.querySelector('#df-b20eb38b-9d5d-4625-881c-c8687ebdb9fa');\n",
              "          const dataTable =\n",
              "            await google.colab.kernel.invokeFunction('convertToInteractive',\n",
              "                                                     [key], {});\n",
              "          if (!dataTable) return;\n",
              "\n",
              "          const docLinkHtml = 'Like what you see? Visit the ' +\n",
              "            '<a target=\"_blank\" href=https://colab.research.google.com/notebooks/data_table.ipynb>data table notebook</a>'\n",
              "            + ' to learn more about interactive tables.';\n",
              "          element.innerHTML = '';\n",
              "          dataTable['output_type'] = 'display_data';\n",
              "          await google.colab.output.renderOutput(dataTable, element);\n",
              "          const docLink = document.createElement('div');\n",
              "          docLink.innerHTML = docLinkHtml;\n",
              "          element.appendChild(docLink);\n",
              "        }\n",
              "      </script>\n",
              "    </div>\n",
              "  </div>\n"
            ]
          },
          "metadata": {},
          "execution_count": 190
        }
      ]
    },
    {
      "cell_type": "markdown",
      "source": [
        "**Анализ результата:**\n",
        "Для построения модели сети глубокого обучения был использован StructuredDataClassifier из пакета Autokeras. На исходном, сильно разбалансированном датасете сеть показывала точность на уровне 98%, при этом при загрузке тестовых данных всегда выдавала один результат, \"годен\". В данном случае говорить о корректной работе сети не приходится.\n",
        "Попытка улучшить балансировку датасета путем простого удаления половины строк с заключением \"годен\" ожидаемо ухудшило точность работы сети, при этом сеть \"смогла\" выделить \"ограниченно годного\" пациента в тестовой выборке."
      ],
      "metadata": {
        "id": "mT-F0uu76uBO"
      }
    },
    {
      "cell_type": "markdown",
      "source": [
        "## Текстовое представление решения НС по пациенту"
      ],
      "metadata": {
        "id": "MYZoMp7qyEog"
      }
    },
    {
      "cell_type": "code",
      "source": [],
      "metadata": {
        "id": "1KyxhwP7yWkw"
      },
      "execution_count": null,
      "outputs": []
    },
    {
      "cell_type": "code",
      "source": [],
      "metadata": {
        "id": "DE2a-VNayXB4"
      },
      "execution_count": null,
      "outputs": []
    }
  ],
  "metadata": {
    "kernelspec": {
      "display_name": "Python 3 (ipykernel)",
      "language": "python",
      "name": "python3"
    },
    "language_info": {
      "codemirror_mode": {
        "name": "ipython",
        "version": 3
      },
      "file_extension": ".py",
      "mimetype": "text/x-python",
      "name": "python",
      "nbconvert_exporter": "python",
      "pygments_lexer": "ipython3",
      "version": "3.9.13"
    },
    "colab": {
      "provenance": [],
      "collapsed_sections": [
        "9vRHATFHyz9t",
        "G65r3TEy__Ui"
      ],
      "toc_visible": true,
      "include_colab_link": true
    },
    "gpuClass": "standard"
  },
  "nbformat": 4,
  "nbformat_minor": 0
}