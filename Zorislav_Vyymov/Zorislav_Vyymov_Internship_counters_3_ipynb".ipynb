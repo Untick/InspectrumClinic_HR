{
  "nbformat": 4,
  "nbformat_minor": 0,
  "metadata": {
    "colab": {
      "provenance": [],
      "authorship_tag": "ABX9TyOizpGIWKdfZAnAn17KExOb",
      "include_colab_link": true
    },
    "kernelspec": {
      "name": "python3",
      "display_name": "Python 3"
    },
    "language_info": {
      "name": "python"
    }
  },
  "cells": [
    {
      "cell_type": "markdown",
      "metadata": {
        "id": "view-in-github",
        "colab_type": "text"
      },
      "source": [
        "<a href=\"https://colab.research.google.com/github/Untick/InspectrumClinic_HR_gr1/blob/Vyimov-Zorislav-folder/Zorislav_Vyymov/Zorislav_Vyymov_Internship_counters_3_ipynb%22.ipynb\" target=\"_parent\"><img src=\"https://colab.research.google.com/assets/colab-badge.svg\" alt=\"Open In Colab\"/></a>"
      ]
    },
    {
      "cell_type": "code",
      "execution_count": null,
      "metadata": {
        "id": "FawIErg835RP"
      },
      "outputs": [],
      "source": [
        "!pip install ultralytics                     # Эта команда используется для установки пакета ultralytics с использованием инструмента\n",
        "                                             # pip. ultralytics - это библиотека, которая предоставляет удобные средства для работы с\n",
        "                                             # задачами обнаружения объектов, классификации и сегментации. Установка этого пакета позволяет\n",
        "                                             # использовать его функции и классы в коде ниже.\n",
        "from IPython.display import clear_output     # Эта строка импортирует функцию clear_output из модуля IPython.display. clear_output используется\n",
        "                                             # для очистки вывода Jupyter Notebook (или GoogleColaboratory) в текущей ячейке, что может быть\n",
        "                                             # полезно, например, для удаления предыдущих результатов или вывода ошибок перед запуском новой команды.\n",
        "clear_output()                               # Запуск функции clear_output"
      ]
    },
    {
      "cell_type": "code",
      "source": [
        "import cv2, os                    # Эти строки кода импортируют модули cv2 (OpenCV) и os.\n",
        "                                  # cv2 - это библиотека для обработки изображений и компьютерного зрения, которая предоставляет множество\n",
        "                                  # функций для работы с изображениями, включая загрузку, обработку, анализ и многое другое.\n",
        "                                  # os - это модуль для работы с операционной системой, и он позволяет выполнять различные операции с файлами\n",
        "                                  # и директориями, такие как создание, удаление и манипуляции с путями к файлам и папкам.\n",
        "import numpy as np                # Эта строка кода импортирует библиотеку NumPy и задает ей псевдоним np. NumPy - это библиотека для работы\n",
        "                                  # с массивами и матрицами, и она часто используется для выполнения численных операций и анализа данных.\n",
        "from ultralytics import YOLO      # импортирует класс YOLO из модуля ultralytics. ultralytics - это библиотека, которая предоставляет удобные\n",
        "                                  # средства для работы с моделями YOLO (You Only Look Once) для задач обнаружения объектов. Класс YOLO\n",
        "                                  # предоставляет интерфейс для работы с моделями YOLO и облегчает выполнение задачи обнаружения объектов на\n",
        "                                  # изображениях (и видео)."
      ],
      "metadata": {
        "id": "1cQpoWmf35RQ"
      },
      "execution_count": null,
      "outputs": []
    },
    {
      "cell_type": "code",
      "source": [
        "# подключение диска:\n",
        "from google.colab import drive # подключаем гугл драйв диск для загрузки файлов\n",
        "drive.mount('/content/drive')"
      ],
      "metadata": {
        "id": "WUUYCKkGMwnH",
        "colab": {
          "base_uri": "https://localhost:8080/"
        },
        "outputId": "bb6b72b6-cda2-40ae-93a7-2fad280a761c"
      },
      "execution_count": null,
      "outputs": [
        {
          "output_type": "stream",
          "name": "stdout",
          "text": [
            "Drive already mounted at /content/drive; to attempt to forcibly remount, call drive.mount(\"/content/drive\", force_remount=True).\n"
          ]
        }
      ]
    },
    {
      "cell_type": "markdown",
      "source": [
        "Создание обученной НС, определяющей на изображениии счетчика (фото) несколько характерных объектов, каждому их которых мы присвоим свой класс:\n",
        " - цифра основного показателя  измерения (целой его части). Это будут классы от 0 до 9, т.е. каждой цифре присвоим соответсвующий класс;\n",
        " - область дробной части основного показателя, если она присутствует на изображении. Этот класс будет иметь название \"дополнительное\";\n",
        " - область размещения на фото серийного номера прибора учета. В дальнейшем мы подадим его на распознавание другой нейронке, назначением которой будет определить этот номер. Класс назовем \"номер\";\n",
        " - область размещения основного показателя измерения (целой его части) на фото прибора учета. Название этого класса \"основное\". Именно на этой области фото прибора размещаются классы, соответствующие цифрам показателя измерения;\n",
        " - область размещения на фото прибора признака тарифного плана, к которому относится основной показатель. Это характерно для мультитарифных электросчетчиков, замеряющих раздельно расход например в дневное и ночное время. Этот класс с названием \"режим\" присутствует не на каждом фото. Но если он есть, важно его определеить, распознать и соотнести с распознанным основным показателем и серийным номером прибора. Все три распознанных значения должны составить одну запись в БД с временным штампом события съемки прибора учета.\n"
      ],
      "metadata": {
        "id": "4aQwZR9nFaxG"
      }
    },
    {
      "cell_type": "markdown",
      "source": [
        "Для обучения НС необходим размеченный датасет, т.е. набор фото приборов учета, собранных заказчиком, должен обогатиться разметкой вышеуказанных классов объектов на нем. Разметка производилась членами команды с использованием инструмента CVAT. При этом на снимках прямоугольными полигонами,  ориентированными в пространстве соответственно изображению, выделялся каждый из заданных классов, при условии его наличия на снимке. Обязательная пара \"основное\" и \"номер\" присутствует на каждом снимке. Классы цифр основного показателя (целая часть) так же присутствуют на каждом снимке, при условии читаемости его содержимого. Нечитаемые области просто не размечаются, а снимки без обязательных разметок отбраковываются - удаляются из обучающего датасета.\n",
        "Выполненная разметка выгружается из CVAT в виде сегментированных масок.\n",
        "Для того чтобы выгруженная маска класса \"основное\" не покрывала на изображениях маски классов цифр основного показателя, перед выгрузкой разметки класса \"основное\" перемещены в CVAT на нижний слой (background).\n",
        "\n",
        "В результате этой подготовительной работы в дополнение к изображениям (фото) приборов учета получены сегментированные маски классов на них."
      ],
      "metadata": {
        "id": "MVmMOv1GOU5P"
      }
    },
    {
      "cell_type": "markdown",
      "source": [
        "Теперь выполняем следующую задачу:\n",
        "\n",
        " для каждой маски сегментации (а это - отдельный файл в папке SegmentationClass) создается аннотация в формате YOLO (тоже файл), где каждый объект (класс) представлен своим идентификатором и координатами полигона, описывающего его форму на изображении.\n",
        "\n",
        " Эти аннотации будут затем использоваться для обучения модели сегментации, поддерживающей формат YOLO."
      ],
      "metadata": {
        "id": "_Pnu7KcPFL1Z"
      }
    },
    {
      "cell_type": "markdown",
      "source": [
        "Содержимое файла labelmap в каждом файле архива, выгруженного из CVAT после разметки полигонов каждого из классов объектов на изображениях, предоставляет собой маппинг между идентификаторами классов (номерами/названиями) и цветами в формате RGB. Это можно использовать для преобразования масок сегментации в аннотации  формата YOLO.\n",
        "\n",
        "\n",
        "\n",
        " Каждая строка в файле labelmap имеет следующий формат:\n",
        "\n",
        " **class_id:color_rgb:parts:actions**\n",
        "\n",
        "Два последних элемента не используются в задаче. Два первых являются предметом обработки с использованием кода Python в ячейках ниже.\n"
      ],
      "metadata": {
        "id": "rcN2PvKZ35RQ"
      }
    },
    {
      "cell_type": "markdown",
      "source": [
        "Код ниже предполагает наличие такой структуры директории и файлов:\n",
        "\n",
        "![image.png](data:image/png;base64,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)"
      ],
      "metadata": {
        "id": "3ZGSKZJJ8LVY"
      }
    },
    {
      "cell_type": "code",
      "source": [
        "# @title /mask_to_yolo_annotations/ Определение функции преобразования масок сегментации в анотацию формата YOLO\n",
        "def mask_to_yolo_annotations(mask_dir, label_dir):              # определение функции\n",
        "    ''' Из масок сегментации формирует аннотации в формате YOLO.\n",
        "    На вход функции подается:\n",
        "    mask_dir - путь к директории с масками сегментации в папке SegmentationClass и папке ImageSets в которой есть папка Segmentation в которой default.txt;\n",
        "            в этой же директории должна быть папка JPEGImages c изображениями в названиях = названиям\n",
        "    label_dir - путь к директории, в которой будут сохранены аннотации в формате YOLO.'''\n",
        "\n",
        "    if not os.path.isdir(mask_dir):                             # Эта строка проверяет, существует ли директория mask_dir. Если она не существует,\n",
        "        print ('Директории, указанной в первом аргументе, не существует. Укажите правильный путь к директории с масками сегментации')\n",
        "        return                                                  # функция завершает выполнение и возвращает None\n",
        "\n",
        "    if not os.path.isdir(label_dir):                            # Эта строка проверяет, существует ли директория label_dir. Если она не существует,\n",
        "        os.makedirs(label_dir)                                  # то создается новая директория с этим именем с помощью os.makedirs(label_dir).\n",
        "\n",
        "    labelmap_path = os.path.join(mask_dir, 'labelmap.txt')      # Эта строка формирует путь к файлу labelmap.txt в директории mask_dir\n",
        "                                                                # с помощью функции os.path.join.\n",
        "    color_dict = {}                                             # Эта строка создает пустой словарь color_dict, который будет использоваться для\n",
        "                                                                # хранения соответствия идентификаторов классов и цветов.\n",
        "    with open(labelmap_path, 'r') as f:                         # открывает файл labelmap.txt для чтения и\n",
        "        for line in f:                                          # начинаем его обработку построчно:\n",
        "            if line and line[0] != '#':                         # если строка не пустая и ее первый элемент не сивол \"#\" (символ комментария)\n",
        "                parts = line.strip().split(':')                 # делим на части, разделенные символом \":\"\n",
        "                class_id = parts[0]                             # присвоить то, что до первого разделителя переменной class_id\n",
        "                color_rgb = parts[1]                            # присвоить то, что после первого разделителя \":\" переменной color_rgb\n",
        "                if class_id != 'background':                    # проверяем, что идентификатор класса не равен 'background', иначе класс игнорируется.\n",
        "                    color_bgr = tuple(map(int, color_rgb.split(',')))[::-1]     # Эта строка преобразует RGB-представление цвета в кортеж целых чисел,\n",
        "                    color_dict[class_id] = color_bgr                            #  меняя порядок компонент цвета на BGR. Этот кортеж используется для\n",
        "                                                                                # определения цветов классов. См. пояснение в текстовой ячейке ниже\n",
        "    image_set_path = os.path.join(mask_dir, 'ImageSets/Segmentation/default.txt') # Эта строка формирует путь к файлу default.txt в директории\n",
        "                                                                                  # ImageSets/Segmentation внутри mask_dir.\n",
        "    with open(image_set_path, 'r') as f:                              # Этой строкой кода открываем файл по сформированному пути и читаем его\n",
        "        image_names = [line.strip() for line in f if line.strip()]    # Эта строка формирует список имен изображений, удаляя начальные и конечные\n",
        "                                                                      # пробелы и пустые строки. См. пояснения в текстовой строке ниже.\n",
        "    for image_name in image_names:                                    # Этот цикл перебирает имена изображений из списка.\n",
        "        mask_path = os.path.join(mask_dir, 'SegmentationClass', image_name + '.png')  # Эта строка формирует путь к файлу с маской сегментации для изображения.\n",
        "        label_path = os.path.join(label_dir, image_name + '.txt')     # Эта строка формирует путь к файлу, в который будут записаны аннотации в формате YOLO.\n",
        "\n",
        "        mask = cv2.imread(mask_path)            # Эта строка загружает маску сегментации в переменную mask с использованием библиотеки OpenCV\n",
        "\n",
        "        img_height, img_width, _ = mask.shape   # Эта строка получает высоту и ширину изображения. Переменная \"_\" примет глубину (третий элемент в результате\n",
        "                                                # применения метода .shape. Но он нам не нужен, забываем про него)\n",
        "        annotations = []                        # Создаем пустой список для анотаций\n",
        "\n",
        "        for class_id, color_bgr in color_dict.items(): # Этот блок кода перебирает вышесозданный словарь color_dict, где соответствие идентификаторов классов и цветов.\n",
        "            binary_mask = cv2.inRange(mask, color_bgr, color_bgr)  # Эта строка создает бинарную маску. См доп инфу в текстовой ячейке ниже.\n",
        "            contours, _ = cv2.findContours(binary_mask, cv2.RETR_EXTERNAL, cv2.CHAIN_APPROX_SIMPLE)  # Эта строка находит контуры объектов на бинарной маске.\n",
        "                                                        # Используются функции Open CV. См доп. инфу в текстовой ячейке ниже.\n",
        "            for contour in contours:                    # Для каждого найденного контура:\n",
        "                x, y, w, h = cv2.boundingRect(contour)  # Записываем координаты крайней левой верхней точки контура, ширину и высоту объекта в 4 переменных\n",
        "                x_center = (x + w / 2) / img_width      # Пояснение по строке выше см в текстовой ячейке ниже\n",
        "                y_center = (y + h / 2) / img_height     # Далее находим центр объекта и переводим полученные величины в относительные от ширины и высоты картинки\n",
        "                width = w / img_width\n",
        "                height = h / img_height\n",
        "\n",
        "                annotation = f\"{class_id} {x_center} {y_center} {width} {height}\" # В переменную annotation записываем полученные величины и добавляем переменную\n",
        "                annotations.append(annotation)                                    # в вышесозданный список annotations. Этим действием цикл формирования списка по\n",
        "                                                                                  # данным файлов labelmap.txt и default.txt  завершается. Список заполнен\n",
        "        with open(label_path, 'w') as f:                                          # Запись списка annotations в виде файла в директорию label_path, в котром\n",
        "            f.write('\\n'.join(annotations))                                       # каждый элемент списка записан с разделителем \\n.  См. доп инфу в ячейке ниже"
      ],
      "metadata": {
        "id": "OV3Y280ZJ6Og"
      },
      "execution_count": null,
      "outputs": []
    },
    {
      "cell_type": "markdown",
      "source": [
        "Некоторые дополнительные пояснения к коду функции выше.\n",
        "\n",
        "**Строки 27-28:**\n",
        "\n",
        "Этот элемент кода выполняет следующие действия:\n",
        "\n",
        "color_rgb.split(','): Это разделяет строку color_rgb, которая представляет собой RGB-представление цвета, используя запятые в качестве разделителя. Результатом будет список строк, представляющих значения красного, зеленого и синего каналов цвета.\n",
        "\n",
        "map(int, ... ): Это преобразует каждую строку в списке (каждый канал цвета) в целое число с помощью функции int. Теперь у нас есть список целых чисел, представляющих значения каналов цвета.\n",
        "\n",
        "tuple(...): Это создает кортеж из списка целых чисел. Кортеж является неизменяемым объектом, который будет использоваться для представления цвета.\n",
        "\n",
        "[::-1]: Это переворачивает порядок элементов в кортеже. В исходной строке color_rgb представление цвета было в формате RGB (красный, зеленый, синий), но формат BGR (синий, зеленый, красный) более распространен в компьютерном зрении и в некоторых библиотеках, включая OpenCV. Поэтому [::-1] меняет порядок каналов, чтобы представить цвет в формате BGR.\n",
        "\n",
        "color_dict[class_id] = color_bgr: Здесь создается запись в словаре color_dict, где ключом является идентификатор класса (class_id), а значением - кортеж color_bgr, представляющий цвет класса. Таким образом, для каждого класса сохраняется его цвет в формате BGR в словаре color_dict.\n",
        "\n",
        "**Строка 33:**\n",
        "\n",
        "if line.strip(): Этот фрагмент проверяет каждую строку line, вызывая метод strip() для удаления начальных и конечных пробельных символов (пробел, табуляция, перевод строки и другие). Затем проверяется, осталась ли строка после удаления пробельных символов.\n",
        "\n",
        "line.strip() for line in f if line.strip(): Это называется генератором списка. Он создает новый список, в котором содержатся только те строки из файла, которые не пустые после удаления пробельных символов.\n",
        "\n",
        "Таким образом, код создает список image_names, в котором хранятся имена изображений (строки) из файла f, но только те, которые не пустые и не содержат только пробельные символы. Это полезно для очистки и фильтрации строк в файле, оставляя только те, которые имеют какое-то содержание и не пусты.\n",
        "\n",
        "**Строка 41**\n",
        "\n",
        "img_height, img_width, _ - это переменные, в которые будут сохранены значения высоты, ширины и количества каналов изображения соответственно.\n",
        "Символ подчеркивания _ обычно используется, чтобы \"забыть\" ненужное значение, в данном случае, количество каналов, если оно не используется в коде дальше.\n",
        "\n",
        "**Строка 46**\n",
        "\n",
        "В данной строке кода используется функция cv2.inRange() из библиотеки OpenCV (Open Source Computer Vision Library) для создания бинарной маски изображения на основе заданного цвета color_bgr. Давайте разберемся, как это работает:\n",
        "\n",
        "cv2.inRange(mask, color_bgr, color_bgr): Эта функция принимает три аргумента.\n",
        "mask: Это исходное изображение (в данном случае, изображение маски сегментации).\n",
        "color_bgr: Это цвет, который вы хотите выделить в маске в формате BGR (Blue, Green, Red). color_bgr представляет собой кортеж с тремя значениями (B, G, R).\n",
        "color_bgr, color_bgr: Здесь передается дважды один и тот же цвет как диапазон, так как мы ищем точное совпадение цвета.\n",
        "Функция cv2.inRange() выполняет следующее:\n",
        "\n",
        "Для каждого пикселя в изображении mask она проверяет, соответствует ли цвет этого пикселя цвету color_bgr.\n",
        "Если цвет пикселя совпадает с color_bgr, то в бинарной маске в соответствующем пикселе будет установлено максимальное значение (обычно 255), что обозначает \"белый\" пиксель.\n",
        "Если цвет пикселя не совпадает с color_bgr, то в бинарной маске в соответствующем пикселе будет установлено минимальное значение (обычно 0), что обозначает \"черный\" пиксель.\n",
        "В результате выполнения этой строки кода переменная binary_mask будет содержать бинарную маску, где \"белым\" будут выделены области на изображении, соответствующие цвету color_bgr, а \"черным\" - все остальные области.\n",
        "\n",
        "После создания бинарной маски вы можете использовать ее, например, для выделения объектов заданного цвета на изображении или для дальнейшей обработки в рамках задачи компьютерного зрения.\n",
        "\n",
        "**Строка 47**\n",
        "\n",
        "вызывает функцию cv2.findContours из библиотеки OpenCV для нахождения контуров в бинарной маске binary_mask. Результат этой функции включает в себя список контуров (переменная contours) и иерархию контуров (переменная, в данном случае, игнорируется и называется \"_\", так как она не используется).\n",
        "\n",
        "Давайте рассмотрим аргументы функции:\n",
        "\n",
        "binary_mask - это бинарное изображение, в котором объекты представлены в виде белых пикселей (значение 255), а фон (пустое место) - черными пикселями (значение 0).\n",
        "\n",
        "cv2.RETR_EXTERNAL - это флаг, который определяет способ извлечения контуров. cv2.RETR_EXTERNAL указывает, что нужно извлечь только внешние контуры, то есть контуры, ограничивающие объекты.\n",
        "\n",
        "cv2.CHAIN_APPROX_SIMPLE - это метод аппроксимации контуров. В данном случае используется метод cv2.CHAIN_APPROX_SIMPLE, который аппроксимирует контуры сжатием горизонтальных, вертикальных и диагональных сегментов и оставляет только их конечные точки.\n",
        "\n",
        "После выполнения этой строки кода, переменная contours будет содержать список контуров, где каждый контур представлен как последовательность точек (координат x, y) на бинарном изображении, образующих внешний контур объекта. Эти контуры могут использоваться, например, для выделения и анализа объектов на изображении.\n",
        "\n",
        "**Строка 50**\n",
        "\n",
        "Код x, y, w, h = cv2.boundingRect(contour) используется для нахождения ограничивающего прямоугольника (Bounding Box) вокруг контура, который представляет собой замкнутую линию или кривую на бинарном изображении. Вот как это работает:\n",
        "\n",
        "contour: Это контур, представляющий замкнутую линию или кривую на бинарном изображении. Контур можно получить с помощью функции cv2.findContours() из библиотеки OpenCV.\n",
        "\n",
        "cv2.boundingRect(contour): Эта функция cv2.boundingRect() принимает контур contour в качестве входного аргумента и возвращает координаты ограничивающего прямоугольника, который полностью охватывает контур. Координаты возвращаются в форме x, y, w, h, где:\n",
        "\n",
        "x: Это координата x (горизонтальная) верхнего левого угла ограничивающего прямоугольника.\n",
        "y: Это координата y (вертикальная) верхнего левого угла ограничивающего прямоугольника.\n",
        "w: Это ширина ограничивающего прямоугольника.\n",
        "h: Это высота ограничивающего прямоугольника.\n",
        "Таким образом, после выполнения этой строки кода переменные x, y, w, и h будут содержать координаты и размеры ограничивающего прямоугольника, который полностью охватывает контур. Вы можете использовать эти значения для различных задач, таких как выделение объектов на изображении или измерение размеров объектов в контуре.\n",
        "\n",
        "**Строки 59-60**\n",
        "\n",
        "Этот код создает и записывает аннотации в формате YOLO в файл. Детали:\n",
        "\n",
        "with open(label_path, 'w') as f:: Этот оператор открывает файл с именем label_path для записи (задан режим 'w'), и файловый объект сохраняется в переменной f. label_path - это путь к файлу, в который будут записаны аннотации.\n",
        "\n",
        "f.write('\\n'.join(annotations)): Этот код записывает текст в открытый файл f. Мы используем метод write, чтобы записать текст в файл. В данном случае, текст - это строки аннотаций, которые хранятся в списке annotations. '\\n'.join(annotations) объединяет элементы списка annotations в одну строку, разделяя их символом новой строки ('\\n'). Это создает текстовое представление аннотаций, которые затем записываются в файл.\n",
        "\n",
        "После выполнения этого кода, файл, указанный в label_path, будет содержать аннотации в формате YOLO, готовые для использования в задачах обнаружения объектов.\n",
        "\n",
        "\n"
      ],
      "metadata": {
        "id": "kCHeEUNfo0RL"
      }
    },
    {
      "cell_type": "code",
      "source": [
        "# Использование функции mask_to_yolo_annotations\n",
        "mask_dir = '/content/drive/MyDrive/Базы/project_folder/11/mask11/' # Путь к директории на диске, где находятся изображения               # вместо кавычек вставить путь до дирректории с масками\n",
        "label_dir = '/content/drive/MyDrive/Базы/project_folder/11'        # вместо кавычек вставить путь до дирректории в котрой надо сохранить анотацию\n",
        "mask_to_yolo_annotations(mask_dir, label_dir)                      # Вызов функции"
      ],
      "metadata": {
        "id": "kkRlz-3Fg7ND"
      },
      "execution_count": null,
      "outputs": []
    }
  ]
}