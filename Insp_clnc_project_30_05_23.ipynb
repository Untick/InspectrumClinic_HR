{
  "nbformat": 4,
  "nbformat_minor": 0,
  "metadata": {
    "colab": {
      "private_outputs": true,
      "provenance": [],
      "authorship_tag": "ABX9TyPJF7EQhQ1LNQd2EYtMXHTS",
      "include_colab_link": true
    },
    "kernelspec": {
      "name": "python3",
      "display_name": "Python 3"
    },
    "language_info": {
      "name": "python"
    }
  },
  "cells": [
    {
      "cell_type": "markdown",
      "metadata": {
        "id": "view-in-github",
        "colab_type": "text"
      },
      "source": [
        "<a href=\"https://colab.research.google.com/github/Untick/InspectrumClinic_HR_gr1/blob/Khridin-Igor-folder/Insp_clnc_project_30_05_23.ipynb\" target=\"_parent\"><img src=\"https://colab.research.google.com/assets/colab-badge.svg\" alt=\"Open In Colab\"/></a>"
      ]
    },
    {
      "cell_type": "markdown",
      "source": [
        "**Датасет** https://docs.google.com/spreadsheets/d/1G5YVap5J6dAejHaVpgYaOOnYcT_JY58q/edit?usp=sharing&ouid=104575252029664688288&rtpof=true&sd=true"
      ],
      "metadata": {
        "id": "d7jlYlcAIopg"
      }
    },
    {
      "cell_type": "markdown",
      "source": [
        "# Подгрузка датасета"
      ],
      "metadata": {
        "id": "6PbpHYspa49h"
      }
    },
    {
      "cell_type": "code",
      "execution_count": null,
      "metadata": {
        "id": "DDTJFjz0H6kh"
      },
      "outputs": [],
      "source": [
        "! gdown --id 1G5YVap5J6dAejHaVpgYaOOnYcT_JY58q # Загружам файл с диска"
      ]
    },
    {
      "cell_type": "code",
      "source": [
        "import pandas as pd # импортируем библиотеку"
      ],
      "metadata": {
        "id": "bQ9aZjN1KrmI"
      },
      "execution_count": null,
      "outputs": []
    },
    {
      "cell_type": "code",
      "source": [
        "df = pd.read_excel('/content/ДатаСет Оценка резюме 581 резюме.xlsx') # читаем датасет"
      ],
      "metadata": {
        "id": "559GM4MVLFG8"
      },
      "execution_count": null,
      "outputs": []
    },
    {
      "cell_type": "markdown",
      "source": [
        "# Параметризация данных"
      ],
      "metadata": {
        "id": "nF61fhh6V4b3"
      }
    },
    {
      "cell_type": "code",
      "source": [
        "print(df.shape) # Вывод колличества строк и столбцов"
      ],
      "metadata": {
        "id": "vzwzXs3fXsit"
      },
      "execution_count": null,
      "outputs": []
    },
    {
      "cell_type": "code",
      "source": [
        "df['Оценка_резюме'] = 0 # добавим результирующий столбец 'Оценка_резюме'"
      ],
      "metadata": {
        "id": "quxW8Db4jUpJ"
      },
      "execution_count": null,
      "outputs": []
    },
    {
      "cell_type": "code",
      "source": [
        "df['Оценка_резюме'] # смотрим столбец в виде (series)"
      ],
      "metadata": {
        "id": "NIUtYdLndNTI"
      },
      "execution_count": null,
      "outputs": []
    },
    {
      "cell_type": "code",
      "source": [
        "print(df.columns) # Вывод имеющихся столбцов (добавился )"
      ],
      "metadata": {
        "id": "G-oZY7RBi8LG"
      },
      "execution_count": null,
      "outputs": []
    },
    {
      "cell_type": "code",
      "source": [
        "df.head() # Вывод содержимого датасета"
      ],
      "metadata": {
        "id": "gk-mEbswaCsA"
      },
      "execution_count": null,
      "outputs": []
    },
    {
      "cell_type": "code",
      "source": [
        "# Удаление столбца 'Unnamed: 0' так, как он дублирует индекс строки\n",
        "\n",
        "df = df.drop(columns=['Unnamed: 0'])"
      ],
      "metadata": {
        "id": "ByRXu7EPf3Sr"
      },
      "execution_count": null,
      "outputs": []
    },
    {
      "cell_type": "code",
      "source": [
        "# удаление дубликатов строк в датафрейме\n",
        "\n",
        "df = df.drop_duplicates()"
      ],
      "metadata": {
        "id": "um7siv7nQUKU"
      },
      "execution_count": null,
      "outputs": []
    },
    {
      "cell_type": "code",
      "source": [
        "# преобразование столбца 'Дата отклика' в формат datetime\n",
        "\n",
        "df['Дата отклика'] = pd.to_datetime(df['Дата отклика'], errors='coerce')"
      ],
      "metadata": {
        "id": "Vyqcq7GYTF0C"
      },
      "execution_count": null,
      "outputs": []
    },
    {
      "cell_type": "code",
      "source": [
        "# создание функции для замены месяца в столбце 'Обновление резюме' на числовое значение\n",
        "\n",
        "months = {\n",
        "    \"января\": 1,\n",
        "    \"февраля\": 2,\n",
        "    \"марта\": 3,\n",
        "    \"апреля\": 4,\n",
        "    \"мая\": 5,\n",
        "    \"июня\": 6,\n",
        "    \"июля\": 7,\n",
        "    \"августа\": 8,\n",
        "    \"сентября\": 9,\n",
        "    \"октября\": 10,\n",
        "    \"ноября\": 11,\n",
        "    \"декабря\": 12\n",
        "}\n",
        "\n",
        "def convert_date(date_str):\n",
        "    for month_name, month_num in months.items():\n",
        "        date_str = date_str.replace(month_name, str(month_num))\n",
        "    return pd.to_datetime(date_str, format='%d %m %Y в %H:%M', errors='coerce')\n",
        "\n",
        "df['Обновление резюме'] = df['Обновление резюме'].apply(convert_date)\n"
      ],
      "metadata": {
        "id": "9XAQ9TcRWPA3"
      },
      "execution_count": null,
      "outputs": []
    },
    {
      "cell_type": "code",
      "source": [
        "# удалениb строк с пропущенными значениями\n",
        "\n",
        "df=df.dropna()"
      ],
      "metadata": {
        "id": "yQIJna9PXOYg"
      },
      "execution_count": null,
      "outputs": []
    },
    {
      "cell_type": "code",
      "source": [
        "# сортируем пропуски поубыванию\n",
        "\n",
        "df.isna().mean().sort_values(ascending=False) "
      ],
      "metadata": {
        "id": "rei0slSQtGTP"
      },
      "execution_count": null,
      "outputs": []
    },
    {
      "cell_type": "code",
      "source": [
        "# Проверка, сколько слов содержится в каждой строке в столбце 'ФИО'\n",
        "df['ФИО'].str.split().apply(len).value_counts()"
      ],
      "metadata": {
        "id": "RcxSp9NFh849"
      },
      "execution_count": null,
      "outputs": []
    },
    {
      "cell_type": "code",
      "source": [
        "df[['Фамилия', 'Имя']] = df['ФИО'].str.split(n=1, expand=True)\n"
      ],
      "metadata": {
        "id": "6K4Q7HjJinxY"
      },
      "execution_count": null,
      "outputs": []
    },
    {
      "cell_type": "code",
      "source": [
        "df.info()"
      ],
      "metadata": {
        "id": "Zrhw7b7NQ_j7"
      },
      "execution_count": null,
      "outputs": []
    },
    {
      "cell_type": "code",
      "source": [
        "df.head()"
      ],
      "metadata": {
        "id": "QYrEYnnrUhiG"
      },
      "execution_count": null,
      "outputs": []
    },
    {
      "cell_type": "code",
      "source": [],
      "metadata": {
        "id": "2Q9y-op3Uj5o"
      },
      "execution_count": null,
      "outputs": []
    }
  ]
}