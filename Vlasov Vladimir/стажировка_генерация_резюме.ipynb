{
  "nbformat": 4,
  "nbformat_minor": 0,
  "metadata": {
    "colab": {
      "provenance": [],
      "include_colab_link": true
    },
    "kernelspec": {
      "name": "python3",
      "display_name": "Python 3"
    },
    "language_info": {
      "name": "python"
    }
  },
  "cells": [
    {
      "cell_type": "markdown",
      "metadata": {
        "id": "view-in-github",
        "colab_type": "text"
      },
      "source": [
        "<a href=\"https://colab.research.google.com/github/Untick/InspectrumClinic_HR_gr1/blob/main/Vlasov%20Vladimir/%D1%81%D1%82%D0%B0%D0%B6%D0%B8%D1%80%D0%BE%D0%B2%D0%BA%D0%B0_%D0%B3%D0%B5%D0%BD%D0%B5%D1%80%D0%B0%D1%86%D0%B8%D1%8F_%D1%80%D0%B5%D0%B7%D1%8E%D0%BC%D0%B5.ipynb\" target=\"_parent\"><img src=\"https://colab.research.google.com/assets/colab-badge.svg\" alt=\"Open In Colab\"/></a>"
      ]
    },
    {
      "cell_type": "code",
      "execution_count": null,
      "metadata": {
        "colab": {
          "base_uri": "https://localhost:8080/"
        },
        "id": "NM45JtUbgJX3",
        "outputId": "47da3d1a-a4fb-4eea-c2bd-88eab0645fb5"
      },
      "outputs": [
        {
          "output_type": "stream",
          "name": "stdout",
          "text": [
            "--2023-08-24 17:22:06--  https://docs.google.com/spreadsheets/d/1G6LR3Q8q-4WyjdGCriHCQIu8fUucjmZZDExZGq7yzo8/export?format=csv&id=1G6LR3Q8q-4WyjdGCriHCQIu8fUucjmZZDExZGq7yzo8&gid=222293530\n",
            "Resolving docs.google.com (docs.google.com)... 74.125.26.101, 74.125.26.138, 74.125.26.102, ...\n",
            "Connecting to docs.google.com (docs.google.com)|74.125.26.101|:443... connected.\n",
            "HTTP request sent, awaiting response... 307 Temporary Redirect\n",
            "Location: https://doc-10-b0-sheets.googleusercontent.com/export/54bogvaave6cua4cdnls17ksc4/ggpthk43ec0phlreo7t4uh7obc/1692897725000/102193262998923889820/*/1G6LR3Q8q-4WyjdGCriHCQIu8fUucjmZZDExZGq7yzo8?format=csv&id=1G6LR3Q8q-4WyjdGCriHCQIu8fUucjmZZDExZGq7yzo8&gid=222293530 [following]\n",
            "Warning: wildcards not supported in HTTP.\n",
            "--2023-08-24 17:22:06--  https://doc-10-b0-sheets.googleusercontent.com/export/54bogvaave6cua4cdnls17ksc4/ggpthk43ec0phlreo7t4uh7obc/1692897725000/102193262998923889820/*/1G6LR3Q8q-4WyjdGCriHCQIu8fUucjmZZDExZGq7yzo8?format=csv&id=1G6LR3Q8q-4WyjdGCriHCQIu8fUucjmZZDExZGq7yzo8&gid=222293530\n",
            "Resolving doc-10-b0-sheets.googleusercontent.com (doc-10-b0-sheets.googleusercontent.com)... 173.194.216.132, 2607:f8b0:400c:c12::84\n",
            "Connecting to doc-10-b0-sheets.googleusercontent.com (doc-10-b0-sheets.googleusercontent.com)|173.194.216.132|:443... connected.\n",
            "HTTP request sent, awaiting response... 200 OK\n",
            "Length: unspecified [text/csv]\n",
            "Saving to: ‘resume.csv’\n",
            "\n",
            "resume.csv              [ <=>                ] 581.40K  --.-KB/s    in 0.02s   \n",
            "\n",
            "2023-08-24 17:22:06 (34.3 MB/s) - ‘resume.csv’ saved [595350]\n",
            "\n"
          ]
        }
      ],
      "source": [
        "!wget -O resume.csv \"https://docs.google.com/spreadsheets/d/1G6LR3Q8q-4WyjdGCriHCQIu8fUucjmZZDExZGq7yzo8/export?format=csv&id=1G6LR3Q8q-4WyjdGCriHCQIu8fUucjmZZDExZGq7yzo8&gid=222293530\" --content-disposition"
      ]
    },
    {
      "cell_type": "code",
      "source": [
        "!wget -O hh_resume.csv \"https://drive.usercontent.google.com/download?id=11KfhKTh43tNTrAQmbqijKcoqVQHxjseO&export=download&authuser=0&confirm=t&uuid=4b8864c6-a7bd-4a26-bed0-feed51659773&at=APZUnTX1Tt-Kh8JApj0LA9Q7kPNN:1692898040914\""
      ],
      "metadata": {
        "colab": {
          "base_uri": "https://localhost:8080/"
        },
        "id": "xhAGgcmhlsuh",
        "outputId": "7768182e-ce33-4f17-9b23-fa3c02221aa1"
      },
      "execution_count": null,
      "outputs": [
        {
          "output_type": "stream",
          "name": "stdout",
          "text": [
            "--2023-08-24 17:28:50--  https://drive.usercontent.google.com/download?id=11KfhKTh43tNTrAQmbqijKcoqVQHxjseO&export=download&authuser=0&confirm=t&uuid=4b8864c6-a7bd-4a26-bed0-feed51659773&at=APZUnTX1Tt-Kh8JApj0LA9Q7kPNN:1692898040914\n",
            "Resolving drive.usercontent.google.com (drive.usercontent.google.com)... 173.194.216.132, 2607:f8b0:400c:c12::84\n",
            "Connecting to drive.usercontent.google.com (drive.usercontent.google.com)|173.194.216.132|:443... connected.\n",
            "HTTP request sent, awaiting response... 200 OK\n",
            "Length: 132214034 (126M) [application/octet-stream]\n",
            "Saving to: ‘hh_resume.csv’\n",
            "\n",
            "hh_resume.csv       100%[===================>] 126.09M   126MB/s    in 1.0s    \n",
            "\n",
            "2023-08-24 17:28:51 (126 MB/s) - ‘hh_resume.csv’ saved [132214034/132214034]\n",
            "\n"
          ]
        }
      ]
    },
    {
      "cell_type": "code",
      "source": [
        "import pandas as pd\n"
      ],
      "metadata": {
        "id": "g4Kgnzyjk823"
      },
      "execution_count": null,
      "outputs": []
    },
    {
      "cell_type": "code",
      "source": [
        "resume = pd.read_csv(\"resume.csv\")"
      ],
      "metadata": {
        "id": "XSmfwphulC5N"
      },
      "execution_count": null,
      "outputs": []
    },
    {
      "cell_type": "code",
      "source": [
        "resume.columns"
      ],
      "metadata": {
        "colab": {
          "base_uri": "https://localhost:8080/"
        },
        "id": "bnkXrLWNlMSM",
        "outputId": "48d2421e-f19c-49d5-df59-3c7430e63bd1"
      },
      "execution_count": null,
      "outputs": [
        {
          "output_type": "execute_result",
          "data": {
            "text/plain": [
              "Index(['Пол', 'Возраст', 'ЗП', 'Ищет работу на должность', 'Обо мне', 'Город',\n",
              "       'Занятость', 'График', 'Опыт работы',\n",
              "       'Выполняемые задачи на прошлых местах работ', 'Ключевые навыки',\n",
              "       'Образование'],\n",
              "      dtype='object')"
            ]
          },
          "metadata": {},
          "execution_count": 14
        }
      ]
    },
    {
      "cell_type": "code",
      "source": [
        "df = pd.read_csv(\"hh_resume.csv\")"
      ],
      "metadata": {
        "id": "jnqdThMZl9FQ"
      },
      "execution_count": null,
      "outputs": []
    },
    {
      "cell_type": "code",
      "source": [
        "df.columns"
      ],
      "metadata": {
        "colab": {
          "base_uri": "https://localhost:8080/"
        },
        "id": "W_LZXZ6ImDC2",
        "outputId": "d2254a20-6840-44da-d6f7-d9c76a23b726"
      },
      "execution_count": null,
      "outputs": [
        {
          "output_type": "execute_result",
          "data": {
            "text/plain": [
              "Index(['Пол, возраст', 'ЗП', 'Ищет работу на должность:', 'Город', 'Занятость',\n",
              "       'График', 'Опыт (двойное нажатие для полной версии)',\n",
              "       'Последенее/нынешнее место работы', 'Последеняя/нынешняя должность',\n",
              "       'Образование и ВУЗ', 'Обновление резюме', 'Авто'],\n",
              "      dtype='object')"
            ]
          },
          "metadata": {},
          "execution_count": 18
        }
      ]
    },
    {
      "cell_type": "code",
      "source": [
        "def get_key_skills(text):\n",
        "    try:\n",
        "        text = text.split(\n",
        "            \"Ключевые навыки Теперь резюме открыто всему\"\n",
        "            \" интернету — изменить можно в настройках видимости.\"\n",
        "        )[1].split(\n",
        "            \" Возникли неполадки.\"\n",
        "        )[0]\n",
        "    except:\n",
        "        text = \"\"\n",
        "    return text\n"
      ],
      "metadata": {
        "id": "CeR2FRIJu-pp"
      },
      "execution_count": null,
      "outputs": []
    },
    {
      "cell_type": "code",
      "source": [
        "df['key_skills'] = df['Опыт (двойное нажатие для полной версии)'].apply(get_key_skills)"
      ],
      "metadata": {
        "id": "8ePk1sccvem5"
      },
      "execution_count": null,
      "outputs": []
    },
    {
      "cell_type": "code",
      "source": [
        "mask = [\n",
        "    'Ищет работу на должность:',\n",
        "    'key_skills'\n",
        "]"
      ],
      "metadata": {
        "id": "LzFtoge7mmw5"
      },
      "execution_count": null,
      "outputs": []
    },
    {
      "cell_type": "code",
      "source": [
        "notnull_mask = df['key_skills'].astype(bool)\n",
        "ex = df[notnull_mask][mask].sample(20)"
      ],
      "metadata": {
        "id": "wkvj7iR-mH_k"
      },
      "execution_count": null,
      "outputs": []
    },
    {
      "cell_type": "code",
      "source": [
        "df['Ищет работу на должность:'].str.split(',').explode().str.split(\" / \").explode().shape"
      ],
      "metadata": {
        "colab": {
          "base_uri": "https://localhost:8080/"
        },
        "id": "gvsn78Gt3tYV",
        "outputId": "3721e8cb-0669-4b16-a8d3-9bbef913f339"
      },
      "execution_count": null,
      "outputs": [
        {
          "output_type": "execute_result",
          "data": {
            "text/plain": [
              "(17218,)"
            ]
          },
          "metadata": {},
          "execution_count": 116
        }
      ]
    },
    {
      "cell_type": "code",
      "source": [
        "professions = df[notnull_mask]['Ищет работу на должность:'].str.split(',').explode().str.split(\" / \").explode().str.strip().value_counts().to_dict()"
      ],
      "metadata": {
        "id": "fucEXKcStJNr"
      },
      "execution_count": null,
      "outputs": []
    },
    {
      "cell_type": "code",
      "source": [
        "df[notnull_mask]['Ищет работу на должность:'].str.split(',').explode().str.split(\" / \").explode().str.strip().unique().shape"
      ],
      "metadata": {
        "colab": {
          "base_uri": "https://localhost:8080/"
        },
        "id": "xREu54DEBoRf",
        "outputId": "4a7885ce-ec2f-4135-da9f-65f85f8a3da1"
      },
      "execution_count": null,
      "outputs": [
        {
          "output_type": "execute_result",
          "data": {
            "text/plain": [
              "(2144,)"
            ]
          },
          "metadata": {},
          "execution_count": 119
        }
      ]
    },
    {
      "cell_type": "code",
      "source": [
        "python_mask = df[\"Ищет работу на должность:\"].str.contains(\"python\")\n",
        "scientist_mask = df[\"Ищет работу на должность:\"].str.contains(\"scientist\")"
      ],
      "metadata": {
        "id": "zwA8athc-mAe"
      },
      "execution_count": null,
      "outputs": []
    },
    {
      "cell_type": "code",
      "source": [
        "scientist_skills = df[notnull_mask][scientist_mask]['key_skills'].tolist()"
      ],
      "metadata": {
        "colab": {
          "base_uri": "https://localhost:8080/"
        },
        "id": "cn3s-yKQDOOj",
        "outputId": "07f6a07c-b79f-4d32-9d14-2e4b10c54479"
      },
      "execution_count": null,
      "outputs": [
        {
          "output_type": "stream",
          "name": "stderr",
          "text": [
            "<ipython-input-141-41046312bbfb>:1: UserWarning: Boolean Series key will be reindexed to match DataFrame index.\n",
            "  scientist_skills = df[notnull_mask][scientist_mask]['key_skills'].tolist()\n"
          ]
        }
      ]
    },
    {
      "cell_type": "code",
      "source": [
        "print(\"\\n\".join(scientist_skills))"
      ],
      "metadata": {
        "colab": {
          "base_uri": "https://localhost:8080/"
        },
        "id": "JVYWycmKEKGR",
        "outputId": "eb27d10f-4f69-430a-9ae3-535c0603ac6c"
      },
      "execution_count": null,
      "outputs": [
        {
          "output_type": "stream",
          "name": "stdout",
          "text": [
            " Статистический анализ Умение работать в коллективе Анализ продаж Аналитические исследования Работа с базами данных Python MySQL ML/DL\n",
            " MS Excel 1С: Предприятие 8 VBA Банк-клиент Анализ ФХД SAP BO Консультант плюс 1C: Бухгалтерия Бухгалтерская отчетность Анализ бизнес процессов Oracle Hyperion JavaScript Финансовая отчетность Sas MS SQL Server Oracle Siebel CRM Avaya Call Management Systems Финансовый менеджмент Анализ данных Teradata Python Анализ инвестиционных проектов\n",
            " Python Linux Machine Learning C++ TensorFlow Keras NumPy Pandas\n",
            " MATLAB MS SQL Server Project management Scrum Big Data Data Analysis Agile Project Management Руководство коллективом Python machine learning Математическое моделирование\n",
            " C++ Java Python Анализ данных\n",
            " С Python C++ C/C++ Statistics Linux Golang (Go) MS Office Mac Os Latex Wolfram Matematica\n",
            " Eclipse MS Office внимательность дозиметрия Коммуникабельность легко обучаюсь всему новому Умение работать в команде Грамотная речь Английский язык Работа в команде Водительское удостоверение категории B Работа с большим объемом информации Преподаватель Репетитор Физика Контроль качества Пользователь ПК Обучение C++ Математический анализ Python Pandas Numpy Machine Learning Data Analysis scikit-learn tensorflow XGBoost Data Science\n",
            " Python Matplotlib Seaborn Numpy Skipy Sklearn MS Excel Celonis UiPath RPA\n",
            " Ведение переговоров Техническая документация Анализ данных Управление проектами Заключение договоров MS PowerPoint Проведение презентаций Деловая переписка Контроль поставок MS Visio Проведение переговоров Деловое общение Работа в команде Сбор и анализ информации Организаторские навыки Подготовка презентаций ЕСКД MS Project Производственный контроль Научная деятельность Написание научных статей Научные исследования Разработка технических заданий Проектно-конструкторская деятельность Статистический анализ Аналитические исследования Статистика Data Analysis Statistica\n",
            " Data Mining Математическое моделирование Математическая статистика Oracle Pl/SQL Аналитические исследования Bash Прогнозирование Анализ данных Математический анализ Python Big Data SQL ORACLE Аналитический склад ума Аналитическое мышление\n",
            " C# WPF физика X-ray Python Git XAML Wolfram Matematica MVVM Unit Testing SVN\n",
            " Debian Python Git Redmine MongoDB Mac Os Ubuntu SQL TDD Scrum C/C++ Unit Testing ООП Linux MySQL Design Patterns C++ Atlassian Jira Bash PostgreSQL Atlassian Confluence SQLAlchemy OpenStack\n",
            " Python SQL Git Статистический анализ Аналитическое мышление Аналитика Data Analysis\n",
            " Python Pandas Sklearn Numpy VBA MS Office Machine Learning scipy Анализ данных MS SQL SQL Машинное обучение Data science Data Mining Статистический анализ Аналитика seaborn Git C Linux\n",
            " Machine Learning (Neural Networks) Algorithms design and efficiency analysis Software Testing Cryptanalysis (RSA). Semiprime factorization Python Keras/TensorFlow SQL\n",
            " RStudio Python SQL MS Excel IBM SPSS Modeler Selenium IDE ML Shiny Text Mining Parsing Аналитическое мышление Анализ данных Математический анализ\n",
            " Финансовое моделирование MS PowerPoint Аналитическое мышление MS Visual Basic CFA Управленческий учет Бизнес-планирование SQL Python SCALA Big Data Data Analysis Data Mining Deep ML\n",
            " Финансовый анализ SQL Python Анализ эффективности Аналитика продаж Прогнозирование и анализ ассортимента Управление группой аналитиков Управление проектами Прогнозирование эффективности MS Excel Анализ финансовых показателей Финансовый менеджмент Факторный анализ Английский язык Data Analysis Инвестиции ABC-анализ Анализ инвестиционных проектов План-фактный анализ бюджета Маржинальный анализ Маркетинговый анализ Ведение переговоров Анализ ассортиментной линейки Аналитика клиентских данных прогнозирование продаж Кластеризация клиентов Машинное обучение Бинарная классификация\n",
            " Анализ данных Машинное обучение Data Science Data Analysis XML ETL Big Data R Python\n",
            " C/C++ Ruby On Rails Python JavaScript OpenCV SQL Git Atlassian Confluence MS SQL Server PostgreSQL MySQL CSS3 HTML5 Linux Ubuntu Tensorflow Atlassian Jira TeamCity CMake CNN Teamleading DeepLearning MachineLearning Computer Vision OCR Docker Rancher RabbitMQ Keras NLP\n",
            " Python C/C++ Data Analysis Machine learning Информационная безопасность Преподаватель Линейная алгебра Теория вероятностей Математическая статистика Математический анализ Дискретная математика\n",
            " SQL MS Visio MS Access MS SQL Математическая статистика Бизнес-анализ Статистический анализ Базы данных Управленческая отчетность Управление товарными запасами Планирование запасов Анализ данных Разработка и внедрение политик и процедур Разработка технических заданий Управление проектами Аналитическое мышление Контроль поставок Прогнозирование VBA Навыки презентации Python Математический анализ Data Mining XYZ-анализ ABC-анализ Английский язык Data Analysis Pandas Numpy\n",
            " Python Linux Deep Learning Machine Learning TensorFlow SQL Keras\n",
            " Python Аналитические исследования Статистический анализ Аналитика Data Mining Математическая статистика машинное обучение MS PowerPoint Навыки презентации Конференции PostgreSQL Atlassian Jira Atlassian Confluence SCALA Spark Английский язык\n",
            " Python Pandas NumPy SciPy SQL Scikit-learn Machine Learning MATLAB Wolfram Matematica AutoCAD Latex Matplotlib Keras TensorFlow Deep Learning CNN Visual Recognition\n",
            " Stata Экономическое моделирование Latex Python SQL Spark Machine Learning Data Analysis Econometrics SCALA teradata hive keras\n",
            " Git Linux Python Bash ООП numpy scipy pandas sklearn keras matplotlib\n",
            " MS SQL Server MS SSIS Silverlight Управление качеством Статистический анализ Аналитические исследования Microsoft Visual Studio C# Transact-SQL WPF WCF Разработка ПО Научные исследования Adobe Photoshop ML Python Keras\n",
            " Python VBA MS Office SQL Scikit-learn Pandas Keras Hadoop Machine learning Spark Numpy Latex Написание научных статей Cplex\n",
            " HTML MySQL PHP CSS Ajax JavaScript Adobe Photoshop C++ Pascal jQuery MS Excel Mathcad Пользователь ПК Математический анализ Обучение Математическое программирование Веб-программирование MATLAB Написание научных статей Аналитические исследования MS Office Сбор и анализ информации Python Machine learning Data Analysis Computer vision Keras Tensorflow Torch Data science\n",
            " Python Django Framework ORM SQL MySQL PostgreSQL SQLite ORACLE HTML CSS JavaScript jQuery Bootstrap Unix Java\n",
            " MATLAB Linux Python машинное обучение SQL Big Data Data Mining PostgreSQL TensorFlow Keras\n",
            " Анализ данных Статистический анализ Английский язык Python R/RStudio SQL Git Machine Learning Latex scikit-learn keras tidyverse Визуализация\n",
            " Data Mining 1 Математическое моделирование 1 Статистический анализ 1 Data Analysis 1 Machine learning 1 Deep learning 1 Neural networks 1 Python 1 Bioinformatic 1 NLP 1 Mathematical Analysis 1\n",
            " Python Java SCALA Java SE Анализ данных HTML JavaScript Аналитические способности\n",
            " Работа с базами данных Oracle 11G MS SQL ООП Python Jupyter Oracle Pl/SQL Tensorflow Java Keras\n",
            " SQL C++ Python Java Linux Git ООП JavaScript HTML\n",
            " Python NumPy TensorFlow Git Keras Математическая статистика Linux MS Excel MS Office\n",
            " Письменный перевод Редактирование текстов на иностранном языке Системный анализ Управление проектами Ведение переписки на иностранном языке Грамотная речь Работа с большим объемом информации Организаторские навыки Пользователь ПК Опыт переводческой работы Знание языков программирования (C# и Python) Внимательность Ответственность Владение языком программирования R NLP Machine Learning Deep Learning Data Analysis gensim keras\n",
            " Математическое моделирование Теоретическая физика Digital Visual Fortran Latex Математическая статистика Математический анализ Перевод технической документации Python Написание научных статей Публичные выступления Машинное обучение Data Analysis Data Mining Images Processing Keras\n",
            " Python Java C# ООП SQL UML Разработка технических заданий Atlassian Jira Анализ данных TortoiseSVN\n",
            " Data science Python Java Bash C++ Git Linux Nginx deep learning\n",
            " Rstudio MS Word MS Excel Деловое общение PHP C# MS SQL HTML5 CSS3 JavaScript SQL Jaspersoft (iReport/Jaspersoft Studio) BI Стрессоустойчивость\n",
            " R Случайные процессы Big Data Статистика Искусственный интеллект Распределённые системы Машинное обучение Интернет маркетинг Здравомыслие и логичность Нагруженные решения Серверы\n",
            " Python NumPy Pandas Математика Machine learning TensorFlow scikit-learn Spark MATLAB Базы данных MS SQL NoSQL Математическая статистика SQL Jupyter Jupyter notebook ML NLP Artificial neural network matplotlib deep learning C++ C#\n",
            " Visual Studio C# Python Многомерные статистические методы Методы машинного обучения ООП HTML CSS Pandas Git SQL Теория вероятностей SAS BASE\n",
            " MySQL Ведение документации AutoCAD Python\n",
            " C# MS Excel MS SQL VBA База данных: Oracle Data Analysis Математическая статистика Аналитическое мышление Python Анализ данных Математическое моделирование Data Mining hadoop\n",
            " Аналитический склад ума Знание основ ООП Ответственность Исполнительность Продвинутый пользователь Интернета и ПК Работа с базами данных: MS SQL, Oracle. Владею языками программирования: C++, C#, Python Работа с библиотеками Python (scikit-learn, pandas, matplotlib) опыт решения NLP задач Отличное знание SQL Анализ данных Data Analysis\n",
            " ML Data Mining Text Mining Process mining NLP Medical data MIS Python MongoDB Spark CUDA Cache Intersystems Scikit-learn LegalTech Neural networks PostgreSQL Clinical Informatics Machine learning Process modeling Neural network ETL NoSQL EHR QMS SQL\n",
            " Python Research And Development Машинное обучение Big Data C/C++ SQL\n",
            " Data Science Machine Learning Python SQL Linux Hadoop Hive Keras Tensorflow Spark AWS MySQL Docker Data Scientist Data Analysis Big Data Data Mining\n",
            " VBA SQL Математическая статистика Прогнозирование Oracle Hyperion Python Teradata Анализ временных рядов Big Data Data Mining МСФО SAP Анализ данных Deductor\n",
            " Грамотность Поиск информации в интернет Деловая переписка Работа с большим объемом информации Internet Пользователь ПК Аналитические исследования MS PowerPoint Грамотная речь Навыки презентации Английский язык Документальное сопровождение Аналитика Аналитическое мышление Подготовка презентаций Знание иностранных языков Анализ данных Работа в команде MS Outlook Написание текстов Деловое общение Проведение презентаций Деловая коммуникация\n",
            " Python PySpark Pandas Numpy Scipy xgboost lgbm Git Linux Bash SQL Keras\n",
            " Python Git Mathematical Statistics Data Mining Data Analysis Machine learning SQL SKLEARN PANDAS NUMPY MATPLOTLIB Flask seaborn jupyter PostgreSQL MySQL clickhouse Статистический анализ tableau\n",
            " машинное обучение нейронные сети генетическое программирование Keras Tensorflow Python JavaScript Generative Adversarial Networks\n",
            " Анализ данных Python SQL Machine Learning Data Mining Pandas NumPy Sklearn JavaScript C/C++ Git Алгоритмы и структуры данных\n",
            " Data Mining HCI MS Data Analyzer MS Office MS Project Expert MS Visual Studio Hadoop Spark ML Рекомендательные системы UML Дистанционное обучение SCALA MS SQL Server Управление проектами Olap (online analytical processing) Научные исследования руководство командой разработчиков Проектирование пользовательских интерфейсов Распределенные вычисления Программная инженерия Кибербезопасность\n",
            " Статистический анализ Работа с базами данных Английский язык Работа с большим объемом информации Прогнозирование Анализ данных Регрессионный анализ работа с данными в среде R Кластерный анализ Сегментация рынка Bayesian Python SQL SCALA Docker Hadoop Kubernetes Pytorch\n",
            " Ведение переговоров Организаторские навыки Big Data Python Machine learning Data Analysis Pytorch Pycharm SQL\n",
            " C++ Python Assembler VHDL Verilog HDL SQL Data Mining Numpy Pandas Machine Learning Bash Git OpenStack Atlassian Jira Linux Keras Neural networks\n",
            " pandas numpy scikit-learn Python Linux machine learning hadoop Git SQL\n",
            " Python Ansi C++ Big Data Data Mining Работа с базами данных Умение работать в коллективе\n",
            " Code Optimization MS Excel SQL Visual Studio C# Visual Studio Net Python MS Visual Studio Microsoft Visual Studio LINQ MS SQL Разработка ПО C# .NET Framework ORM Big Data Data Mining Software Development WCF Entity Framework Работа с базами данных Multithread Programming\n",
            " Поисковые системы Python Linux Git SQL Проектный менеджмент C# HTML Analytical skills Business English\n",
            " Python SQL Tensorflow Sklearn Numpy Matplotlib NLP Анализ данных Теория вероятностей Математическая статистика Высшая математика Git Bash HTML C MS Excel Machine learning\n",
            " Python Django Framework SQL Git Data Mining Mac Os Базы данных Анализ данных Мобильность Работа в команде MySQL Управление проектами Ведение переговоров Организаторские навыки Управление персоналом Проведение презентаций Деловая переписка Деловое общение Английский язык Машинное обучение TensorFlow\n",
            " MS Office MS Excel MS Access VBA C++ Java Python MS SQL Server AutoCAD SolidWorks Adobe Photoshop SQL MATLAB UML Бизнес-моделирование Бизнес-анализ Data Analysis Анализ бизнес показателей Анализ данных Аналитика Мониторинг рынка XML Big Data Oracle 11G QlikView Hadoop Teradata QlikSence JavaScript Machine learning\n",
            " Python C# Анализ данных Математическая статистика\n",
            " Business Intelligence Systems Google API SQL Математическая статистика R Machine learning Очистка и обработка данных Визуализация данных Data Mining R Shiny\n",
            " Python NLP BigARTM Рекомендательные системы TensorFlow Sklearn LightGBM Keras Machine Learning NER\n",
            " C++ C# SQL Научные исследования Математическое моделирование Статистический анализ MATLAB Математическая статистика Разработка ПО Управление проектами Руководство коллективом XML MS Visual C++ MS Visual Studio Средства криптографической защиты информации Assembler Проведение презентаций ATL STL Разработка технических заданий Microsoft Visual Studio\n",
            " Математическое моделирование Прогнозирование Скоринг Статистический анализ Sas SQL Data Mining Data Science Machine Learning\n",
            " Анализ данных Data Analysis 1 Data Mining 1 Статистический анализ Аналитические исследования Business intelligence 1 Маркетинговый анализ Sales Forecasting Управление проектами Google Analytics\n",
            " Python SQL Математическая статистика Machine learning Sas Hadoop антифрод Data Mining Анализ данных\n",
            " Java Git Agile Project Management Scrum Разработка ПО Hibernate ORM Spring Framework REST Apache Maven Unit Testing JUnit SOAP ORACLE JDBC руководство командой разработчиков SQL Java EE JSP HTML Intellij IDEA Machine Learning Python Keras Design Patterns Natural Language Processing NLP CNN RNN Neural Networks Auto Encoders\n",
            " Математическая статистика MATLAB Python Java VBA Data Mining Математическое моделирование Математический анализ SQL Oracle Pl/SQL Atlassian Jira Android Git Математическое программирование SVN Статистический анализ R, Statistica FPGA Linux Machine Learning Data Analysis C++\n",
            " Веб-программирование Машинное обучение Программирование десктопных приложений на разных языках\n",
            " Python SQL Linux Анализ данных Математический анализ Аналитическое мышление Разработка ПО C++ SCALA Spark Big Data Java\n",
            " Big Data Data Analysis Анализ временных рядов Python Data Mining Базы данных Data Science Machine Learning Kaggle Машинное обучение Математические модели Математическая статистика Теория вероятности Анализ данных feature engineering Нейронные сети Neural network IT SQL Tableau Reporting ClickStream\n",
            " Java Python Android Обучение и развитие Data Analysis Big Data Start-up project Математическая статистика Deep Learning Keras scikit-learn Hadoop Spring Framework\n",
            " Python Numpy Scipy pandas matplotlib sklearn OpenCV SQL Trello Slack\n",
            " C/C++ Embarcadero Delphi Borland Delphi Ruby Ruby On Rails Python jQuery JavaScript Bootstrap OpenCV SQL Git Atlassian Confluence MS SQL Server PostgreSQL MySQL VBA CSS3 CSS HTML HTML5 Embarcadero RAD Studio C# 1C: Бухгалтерия Linux Ubuntu Tensorflow Atlassian Jira TeamCity CMake\n",
            " Git Python Unix Unix Shell Scripts MapReduce Hadoop Linux SQL PostgreSQL Hive Big Data Data Analysis Data Mining Spark Java\n"
          ]
        }
      ]
    },
    {
      "cell_type": "markdown",
      "source": [
        "### Вот 50 наиболее часто упоминаемых навыков в предоставленном тексте:\n",
        "\n",
        "1. Python  \n",
        "2. SQL\n",
        "3. Анализ данных\n",
        "4. Machine learning\n",
        "5. Data Mining\n",
        "6. Статистический анализ\n",
        "7. Аналитические исследования\n",
        "8. Математическая статистика\n",
        "9. Git\n",
        "10. Математическое моделирование\n",
        "11. Linux\n",
        "12. Pandas\n",
        "13. NumPy\n",
        "14. MS Excel\n",
        "15. Написание научных статей\n",
        "16. Математический анализ\n",
        "17. Базы данных\n",
        "18. Sklearn\n",
        "19. MS Office\n",
        "20. Английский язык\n",
        "21. Data Analysis\n",
        "22. Разработка ПО\n",
        "23. Keras\n",
        "24. TensorFlow\n",
        "25. Работа с большим объемом информации  \n",
        "26. Аналитическое мышление\n",
        "27. Статистика\n",
        "28. Навыки презентации\n",
        "29. Big Data\n",
        "30. MS SQL Server\n",
        "31. Организаторские навыки\n",
        "32. Работа в команде\n",
        "33. Деловое общение\n",
        "34. Ведение переговоров\n",
        "35. Проведение презентаций\n",
        "36. Анализ бизнес процессов\n",
        "37. Деловая переписка\n",
        "38. Управление проектами\n",
        "39. MATLAB\n",
        "40. Oracle\n",
        "41. Сбор и анализ информации\n",
        "42. Пользователь ПК\n",
        "43. Грамотная речь\n",
        "44. Разработка технических заданий\n",
        "45. MS Visual Studio\n",
        "46. Моделирование\n",
        "47. Стрессоустойчивость\n",
        "48. Анализ инвестиционных проектов\n",
        "49. Управление персоналом\n",
        "50. Визуализация данных"
      ],
      "metadata": {
        "id": "ECKI2lfLGiE-"
      }
    },
    {
      "cell_type": "code",
      "source": [
        "python_skills = df[notnull_mask][python_mask]['key_skills'].tolist()\n",
        "print(\"\\n\".join(python_skills))"
      ],
      "metadata": {
        "colab": {
          "base_uri": "https://localhost:8080/"
        },
        "id": "GzMYRn5mD_Bg",
        "outputId": "5c063354-c3ce-4012-e069-e4510cd8d13d"
      },
      "execution_count": null,
      "outputs": [
        {
          "output_type": "stream",
          "name": "stdout",
          "text": [
            " Стрессоустойчивость обучаемость HTML GO Python MySQL Qt Active Directory Django Framework SQL jQuery JavaScript CSS Java Docker Godot Engine JDScript Oracle Pl/SQL Веб-программирование Разработка ПО Разработка компьютерных Игр\n",
            " JavaScript MODX HTML5 MySQL CSS3 jQuery PHP Bootstrap Git Linux Python ООП HTTP JSON amoCRM SQLite JSON API TypeScript\n",
            " Python C++ Git Linux JavaScript HTML MySQL PostgreSQL Flask Vue.js Django Docker Redis MongoDB R pandas numpy scikit-learn\n",
            " Python Linux Django Framework SQL Bash Git PostgreSQL Atlassian Jira Atlassian Confluence\n",
            " Python JavaScript Linux jQuery CSS SQL Qt HTML Django Framework C/C++ Nginx Ajax SVN SQLite MS SQL Web Application Development Pandas Keras Adminlte\n",
            " C/C++ Borland Delphi Oracle Pl/SQL MySQL C# ORACLE SQL Delphi 3D-графика Разработка ПО MS Visual Studio Linux OpenOffice Visual C++ Руководство коллективом База данных: Oracle SQLite STL Базы данных C++ TCP/IP Object Pascal/Delphi Microsoft Visual Studio руководство командой разработчиков Git MQL5 (программирование под Metatrader 5)\n",
            " Урегулирование конфликтов Руководство коллективом Закупка товаров и услуг Работа в команде Обучение персонала Управление персоналом Способность обучать других Английский язык Деловое общение Windows 7 Windows Xp Windows 8 Ведение переговоров Заключение договоров Деловая переписка Телефонные переговоры TCP/IP Организаторские навыки Водительские права категории В MS Office Active Directory Python\n",
            " Python JavaScript Linux MySQL Git SQL ООП HTML Atlassian Jira Bash Atlassian Confluence MS SQL\n",
            " Delphi PHP Java Python HTML Pascal PostgreSQL MySQL FirebirdSQL JavaScript PG PL/SQL VBA AutoCAD XML Ajax SQL OpenStreetMap Leaflet OpenLayers SQLite Adobe Premiere PRO Git Protobuf JSON FireMonkey\n",
            " Схемотехника электронного оборудования Atlassian Jira P-CAD Разработка ПО Git Linux Java Управление проектами Agile Project Management Scrum Atlassian Confluence Shell Scripting Assembler Проектная документация Техническая поддержка C/C++ Чтение электросхем Ruby Altium Designer Objective-C\n",
            " MySQL Python HTML CSS PHP\n",
            " Математическое программирование Python C++\n",
            " Умение работать в команде Английский язык Внимательность Python Django Framework Django Git HTML CSS Bitbucket MySQL Bootstrap Bash Mac Os PostgreSQL ООП Docker Vue\n",
            " ArcGIS Python Linux Пользователь ПК Поиск информации в интернет Работа с базами данных ГИС C++\n",
            " C++ Java Python Анализ данных\n",
            " CSS3 Joomla CMS Yandex Direct Веб-аналитика Internet Marketing Продвижение сайтов SEO Google Analytics Интернет-реклама Повышение конверсии Яндекс.Метрика HTML5 Контекстная реклама Анализ посещаемости сайтов Яндекс.Директ SEO-копирайтинг CSS HTML Поисковая оптимизация сайтов Разработка технических заданий Управление проектами Интернет маркетинг Управление интернет-проектами Google AdWords Управление персоналом Реклама Ведение переговоров SEO оптимизация Аналитические исследования Аналитическое мышление\n",
            " AutoCAD Google Docs MS Excel MS Word Компас-3D 1С: Розница Управление персоналом Управление продажами Обучение персонала Руководство коллективом Мотивация персонала Управленческие навыки Розничная торговля 1С: Документооборот Python MySQL Git Linux\n",
            " Atlassian Jira Git Cucumber Visual Studio C# SQL Server Express SpecFlow Scrum C# MS SQL Unit Testing MS SQL Server Функциональное тестирование Тестирование пользовательского интерфейса Atlassian Confluence MS Visual Studio IIS Mac Os Google Docs XML TFS Тестирование Test case PowerShell Entity Framework Testing Framework JSON\n",
            " Администрирование Разработка CMS Обеспечение жизнедеятельности офиса\n",
            " Python Git Cython SQL C/C++ Linux\n",
            " Master Data Management Informatica MDM SQL Java Java EE Spring Framework Agile Project Management Git SVN Python\n",
            " Python MS Visual Studio MySQL Git\n",
            " Автоматизация документооборота Работа с большим объемом информации Обучение и развитие ООП Усидчивость Электронный документооборот Работа с базами данных Разработка ПО Деловая коммуникация Python Шаблоны проектирования Алгоритмы Design Patterns Обучение Unit Testing Git Аналитические способности СУБД SQL Unix\n",
            " Креативность Коммуникабельность Стрессовое интервью Веб-программирование Python C++ Java JavaScript Node.js\n",
            " C# WPF физика X-ray Python Git XAML Wolfram Matematica MVVM Unit Testing SVN\n",
            " Python Django Framework Linux Git JavaScript MySQL MongoDB Nginx Parsing Selenium Sentry Celery Scrapy Docker Fabric Redis Webpack SphinxSearch InfluxDB Grafana Asyncio Дистанционная работа Full-time занятость в приоритете\n",
            " Python SQL Git Статистический анализ Аналитическое мышление Аналитика Data Analysis\n",
            " Проектно-конструкторская деятельность Разработка ПО 1 MATLAB Компас-3D Проектирование Python Arduino Linux Git C/C++\n",
            " Python JavaScript API PostgreSQL HTTP HTML Node.js Django Framework Linux Docker MongoDB Flask RabbitMQ ООП Nginx REST NoSQL\n",
            " SQL Python Машинное обучение XML JSON API Android SDK Microsoft Visual Studio C# R Kotlin Swift Go SCALA TypeScript Selenium IDE Linux\n",
            " Целеустремленность Перфекционизм\n",
            " Nginx Python Django Framework MySQL Redis JavaScript Git Linux PHP5 PHP PostgreSQL Веб-программирование Работа с базами данных CSS jQuery CSS3 Ajax ООП\n",
            " Linux MySQL Python Django Framework Qt\n",
            " Python Django Framework HTML CSS Bash Linux PostgreSQL API\n",
            " Git MySQL Python ООП HTML CSS MongoDB Redis docker docker-compose RabbitMQ Tensorflow Hub Flask\n",
            " MySQL JavaScript jQuery PHP5 MongoDB Bootstrap HTML AngularJS Nginx Git XML/Xslt REST SQL Администрирование серверов Linux MS SQL Memcached Less CRM SQLite Проектирование пользовательских интерфейсов HTML5 CSS3 Ajax Python Asterisk Разработка требований Управление проектами ООП Ext JS Node.js\n",
            " Грамотная речь Грамотность Программирование Python Знание SQL Умение работать сбиблиотеками Python: pandas, numpy, sklearn, keras. Знание основных алгоритмов машинного обучения Среднее знание Java Среднее знание C# Знание принципов работы алгоритмов глубокого обучения\n",
            " Django Framework Python JavaScript Linux Администрирование серверов Linux Nginx MongoDB PostgreSQL SQLite Celery Gevent Asyncio Redis TCP/IP Aiohttp Socks4/5 Http Proxy Crawler Docker sysctl fabric\n",
            " Python SQL Работа в команде Организаторские навыки SVN Git Тестирование MySQL PostgreSQL Анализ данных Robot Framework Docker PEP8 REST API Keras TensorFlow Big Data\n",
            " Unix Shell Scripts C# Tensorflow Keras Selenium Git Python C/C++ MS Visual Studio SQL MATLAB\n",
            " Языки программирования c/c++, python, matlab/octave, php Базы данных: PostgreSql, MySQL, Neo4j, MongoDB Математическая подготовка: Линейная алгебра, Теория вероятностей, мат статистика, матанализ Экономико-математическое моделирование Теоретическая физика: Механика, гидродинамика Linux ubuntu на уровне администрирования\n",
            " Python CSS HTML Autoit Scripting Bash API REST WebSocket TCP/IP Настройка ПО Настройка ПК Информационные технологии ООП 1C: Бухгалтерия Диагностика Администрирование Windows VBA VBScript JavaScript SQL NoSQL Atlassian Confluence Atlassian Jira Функциональное тестирование Git JSON API XML\n",
            " Python Java Git Linux Ubuntu Server ООП MS Excel AutoCAD SQL PostgreSQL MySQL\n",
            " Amazon AWS DevOps EC2 Linux MySQL Nagios Nginx Puppet Python TCP/IP Unix Virtualization Zabbix Автоматизация Администрирование серверов Linux Балансировка нагрузки Высокая доступность сервисов Высоконагруженные системы Отказоустойчивость Сетевые технологии Системное администрирование\n",
            " Android SDK Java TCP/IP MS SQL Server Apache Cassandra Linux Git JavaScript CSS HTML5 Python ООП Intellij IDEA MS Visual Studio JSON API Selenium IDE Eclipse Apache Maven Математическая статистика Atlassian Jira Django Framework\n",
            " Python Django Framework JavaScript HTML CSS\n",
            " PHP HTML JavaScript C/C++ Qt Java Linux Perl Python Git MySQL STL MS Visual Studio Redis Docker Composer\n",
            " Python Django Framework C# ASP.NET MS SQL\n",
            " C++ C# Python SQL SQLite Qt Windows Forms\n",
            " Работа с документами Автоматизированное рабочее место (АРМ) Консультирование Пользователь ПК Английский язык Телефонные переговоры Adobe Photoshop Работа в команде Работа с большим объемом информации Blender 3D MS Visual Studio Pycharm Magix Vegas Unity Adobe after effects MS Office GIMP Trello Atlassian Jira\n",
            " Python Английский язык Linux SQL Atlassian Jira Git C# Unity MongoDB Flask\n",
            " C++ Qt Unix Linux SQL Git SVN Atlassian Jira Python Django Framework PostgreSQL RabbitMQ Docker Jenkins\n",
            " Python ArchiCAD SQL MS Project Visual Studio C# Статистический анализ CRM IBM SPSS MS Visual Basic Statistica Visual Basic Microsoft Access MySQL Adobe Photoshop JavaScript Git AutoCAD MS SQL CorelDRAW CSS3 Ajax Adobe Illustrator Adobe InDesign PHP HTML Bash Flask Django Framework BeautifulSoup4\n",
            " Python Linux JavaScript OpenGL Elasticsearch Java Apache Maven Git PostgreSQL Redis C/C++ Flask Golang\n",
            " Python C++ Node.js Linux Git JavaScript SQL Публичные выступления HTML CSS Unix Agile Project Management XML FirebirdSQL Firebase Express.js Nginx C/C++ Public Speaking Communication skills Эмоциональный интеллект Управление проектами ООП Ответственность Проактивность Креативность Создание новых идей InterSystems Cache Scrum\n",
            " Администрирование серверов Linux Администрирование серверов Windows Python MongoDB PHP MySQL HTML CSS JavaScript Yii Bash PostgreSQL Git\n",
            " Python Flask Django Framework Pyramid ETL MySQL SQL Git JavaScript AngularJS CSS\n",
            " Python Git SQL Bash Linux Flask Администрирование серверов Linux HPC Mac Os HTML Docker CentOS Slurm C/C++ Infiniband Gitlab CI Jenkins\n",
            " Разработка ПО Python PostgreSQL Django Framework\n",
            " Java C++ Git JavaScript ABAP ООП Windows Forms MS Visual Studio VBA Английский язык Телефонные переговоры SAP С# Закупка товаров и услуг Логистический менеджмент Администрирование сайтов\n",
            " Linux Python C/C++ Git Bash TCP/IP SQL machine learning Mathematical Analysis Analytical skills HTTP API requests Networking VBA sklearn pandas Oracle Pl/SQL\n",
            " Python Django Framework HTML CSS JavaScript jQuery Linux Базы данных Ajax SQL Git SQLite\n",
            " Python SQL PostgreSQL Django Framework Git SVN Linux Docker Big Data REST Pandas NumPy SciPy ООП Nginx Apache HTTP Server Redis Unit Testing Flask MongoDB RabbitMQ ElasticSearch\n",
            " Python Bash Linux\n",
            " Python Git Django Framework ООП MySQL MVC Математическое программирование Machine learning\n",
            " Python Git Django Framework Ubuntu Linux JavaScript\n",
            " PHP5 Git Yii Ruby ООП jQuery Ext JS Ruby On Rails Django Framework Python Yii 2 MySQL PostgreSQL rspec\n",
            " Python JavaScript Git PostgreSQL Bash MSSQL Hyper-V Linux Windows Server\n",
            " Python Java EE Java SE Kotlin Java Django Framework Redis Pyramid CherryPY\n",
            " C++ Python C# .\n",
            " Git Jinja MySQL PyQt4 Python Linux PostgreSQL Odoo ERP CRM Базы данных SQL Nginx Docker JavaScript SQLAlchemy\n",
            " C++ Qt .NET Framework C# Python Linux SQL SVN Git Flask MongoDB\n",
            " Python Django Framework Docker JavaScript jQuery React Git Mercurial PostgreSQL MySQL Celery REST Tornado Asyncio Vagrant Selenium Redis Memcached Linux Nginx uwsgi Postfix HTML5 CSS3 Bootstrap Material Design Atlassian Jira Scrum Индивидуальная работа/Работа в команде\n",
            " C++ Python Assembler VHDL Verilog HDL SQL Data Mining Numpy Pandas Machine Learning Bash Git OpenStack Atlassian Jira Linux Keras Neural networks\n",
            " Active Directory DHCP Joomla CMS NAT Terminal Server Windows 95/98/Me/Nt/2000/Xp/Vista Windows Server 2008 R2 Windows Server 2012 Настройка DNS PowerShell Администрирование серверов Windows Hyper-V Helpdesk Python Django Framework\n",
            " .\n",
            " Python Django Framework beautifulSoup ООП\n",
            " Python Django Framework REST AngularJS Linux JavaScript PostgreSQL Nginx MongoDB Администрирование серверов Linux Git CSS GIS Celery Redis Bootstrap Docker docker-compose Ansible uWSGI CoffeeScript HTML5 CSS3 Less Grunt Gulp Fabric Vagrant Google Maps Api Yandex Maps API\n",
            " C C++ Linux Python SQL руководство командой разработчиков\n",
            " C++ 3 Python 2 ООП 2 Git 2 Qt 2 Linux 2 Django 3 Docker 2 Redis RabbitMQ PostgreSQL\n",
            " Английский язык C# MSMQ JavaScript HTML CSS системность мышления гибкость в решении рабочих задач WCF Linux Asterisk Helpdesk\n",
            " Django Framework PostgreSQL Linux Администрирование серверов Linux Nginx HTML Python Git CSS jQuery Cassandra Ajax ООП Unit Testing Redis\n",
            " Целеустремленность Английский язык Java Oracle Pl/SQL PHP Python Постановка задач разработчикам Git Atlassian Jira Unit Testing Elastic Search Linux Agile Project Management MDM Product 360: PIM MDM Product 360: Media-Manager REST\n",
            " Delphi MS SQL Oracle Pl/SQL Visual Studio C# Проектирование Рефакторинг кода Оптимизация кода Математический анализ Математическое моделирование Java SE Java EE Android Solid Edge SOAP Internet Server Api Full Stack\n",
            " Коммуникабельность Знание компьютера Легкая обучаемость C# Python Git Linux MS Office Ruby On Rails Web-дизайн Ubuntu Server ООП\n",
            " PHP5 Yii Java Java Script/ReactJS CSS3 Bootstrap Android SDK Pl/Python Iron Python MySQL GUI Tools Oracle Pl/SQL\n",
            " VBA MS SQL Teradata OLAP(MDX) SQL Developer MS Excel MS Access JavaScript HTML CSS XML 1C:ЗУП, Предприятие IPPF Standards COSO IC COSO ERM Управление проектами Анализ данных Внутренний аудит\n",
            " Python MySQL C# SQL Git HTML MS Office\n",
            " Python SQL C++ C# ООП\n",
            " SQLite XML 1 Python SQL\n",
            " JavaScript Python MySQL Django Framework JSON API PHP5 jQuery PHP REST SOAP CSS HTML XML Ajax JSON\n",
            " Python PostgreSQL RabbitMQ Redis C++\n",
            " Python PostgreSQL Oracle Database Django Framework Git Docker REST API Redmine Flask Bash Linux CentOS Debian Nginx Apache HTTP Server Постановка задач разработчикам\n",
            " Django Framework Flask Git Linux MongoDB Python Администрирование серверов Linux Асинхронное программирование PostgreSQL MySQL REST Docker Redis Nginx ООП Golang gRPC\n",
            " Linux Python SQL ETL DWH Bash Git Электронный документооборот Государственные структуры SQLAlchemy Flask Docker Nginx Bootstrap PyTest\n",
            " Python Delphi Базы данных SQL Keras Tensorflow\n",
            " Python SQL C++ C# ООП\n",
            " Умение работать в коллективе Аналитическое мышление Креативность Ориентация на результат Flask Bootstrap Python\n",
            " Python MySQL C# SQL Git HTML MS Office Docker\n",
            " Аналитические исследования Математическое моделирование Финансовое моделирование\n",
            " Python Слепая печать Linux Коммуникабельность умение работать в команде нацеленность на результат Аналитические исследования\n",
            " Python C++ MATLAB Mathcad Машинное обучение TensorFlow Машинное зрение OpenCV\n",
            " Python Java Git Linux Ubuntu Server ООП MS Excel AutoCAD SQL PostgreSQL MySQL\n",
            " Высокая обучаемость Умение быстро находить нужную информацию Python Linux 3D Max vim SublimeText Bash SQL MS Visual Basic Microsoft Access MySQL Lua 3D-графика Анимация Видеомонтаж Autodesk Maya Цветокоррекция Английский язык Git Docker Ubuntu Server MS Access Adobe CS\n",
            " MySQL PHP JavaScript HTML CSS jQuery Git Linux SQL Yii Python PostgreSQL\n",
            " C/C++ Python DB2 Git Qt Design Patterns PostgreSQL MongoDB Linux GCC PHP STL Unit Testing Agile Project Management Scrum XML/Xslt RabbitMQ REST JavaScript SOAP NoSQL Architecture HTML CSS Node.js Redis Vue.js\n",
            " Python Django Framework Git Linux Умение работать в коллективе Scrum Работа в команде Управление проектами Организаторские навыки ООП HTML CSS PostgreSQL Less\n",
            " Python Django Framework PostgreSQL Celery RabbitMQ Ansible\n",
            " C++ HTML JavaScript Java SQL Python Git Linux MySQL Qt Docker MongoDB\n",
            " Проектирование и разработка мобильных приложений на платформах iOS и Android Проектирование и разработка сетевых сервисов на платформах Perl и Python Сбор данных через API соцсетей: Twitter, YouTube, Amazon и др Программирую на Python, Perl, Java, Objective-C; в пассиве много другого. 1 MySQL PostgreSQL REST Linux MongoDB JavaScript ООП Redis Python Objective-C SQL JSON API Perl\n",
            " Django Framework JavaScript Linux MySQL Git PostgreSQL PHP5 HTML5 CSS3 MongoDB Nginx ООП MVC Apache HTTP Server Redis RabbitMQ Backbone Node.js python celery Python Flask Docker REST Unit Testing Start-up project Web Application Development Angular2 .NET Framework\n",
            " AutoCAD Autodesk Revit Autodesk Maya Autodesk 3ds Max MS Office Adobe Photoshop Adobe Illustrator Adobe Premier Mathcad Python CSS3 HTML5\n",
            " Git JavaScript HTML CSS Python Assembler C++ SQL Django Framework Bootstrap\n",
            " jQuery HTML CSS MySQL Git Web-дизайн Adobe Photoshop XML Python ООП Linux Vue.js JavaScript HTTP C/C++ C#\n",
            " PHP MySQL JavaScript Python Zend Framework Laravel Node.js AngularJS Angular 4 CentOS Git 1С-Битрикс jQuery ООП DevOps Docker Docker-Compose\n",
            " Python Django Framework MongoDB Git\n",
            " jQuery CSS3 SQL JavaScript Ajax HTML5 HTML MySQL PHP5 PHP CSS SQL Server Linux Debian Git PostgreSQL HTTP Apache HTTP Server Gulp Laravel Vue.js Django Framework Python React Native Android SDK iOS Solidity\n",
            " Python Linux Git SQL Bash ООП Golang PyCharm pep8 docker Lua AWS WPF PostgreSQL\n",
            " Consulting Marketing Analysis Market Research Strategic Marketing Аналитические исследования Маркетинговый анализ Стратегический маркетинг Составление семантического ядра Маркетинговые исследования SEO оптимизация SEO Анализ данных Python Data Analysis Linear Programming Mathematical Programming Internet Marketing Линейное программирование Математическое программирование Статистический анализ\n",
            " Веб-программирование Машинное обучение Программирование десктопных приложений на разных языках\n",
            " Python Linux SQL Bash Jupyter Flask Hadoop Airflow Hive Jenkins PostgreSQL Groovy\n",
            " Python Пользователь ПК Django Framework\n",
            " Знакомство с mysql, html5, css3; Написание научных статей Обучение MS PowerPoint Проведение семинаров Организация конференций Организация учебного процесса Навыки презентации Программирование C# MS Visual Studio PyCharm Аналитическое мышление Разработка нового продукта Проектный менеджмент Руководство коллективом Научная деятельность Управление проектами Управление интернет-проектами Создание сайтов IPython Notebook Python\n",
            " MySQL PHP HTML Умение работать в команде Linux Git SQL Python Управление проектами Администрирование серверов Linux Bash C# ООП Разработка ПО Transact-SQL MS Visual Studio Helpdesk MS SQL Базы данных TCP/IP JavaScript CSS3 Bitbucket Ansible Django MS SQL Server Nginx Docker Flask Jenkins\n",
            " C/C++ Linux Python Node.js Windows Администрирование серверов Linux Redmine Управление проектами\n",
            " Java Android SDK Python Flask Docker REST Qt TCP/IP Git C/C++ Linux Golang\n",
            " Python C++ JavaScript SQL Linux Mac Os C/C++ C# Cистемы управления базами данных\n",
            " Android SDK Atlassian Jira CSS Django Framework ExtJS Ext JS FreeBSD Git HTML HTML-верстка HTTP Http Server Java JavaScript Java Servlets jQuery Linux MySQL Open VZ Perl PHP PyCharm Python RabbitMQ Redis Shell Scripting SQLite SVN vim Администрирование серверов Linux\n",
            " обработка входящей корреспонденции Работа с оргтехникой Электронная почта MS Outlook MS Internet Explorer MS Word MS Excel Python Git MS Office Административная поддержка руководителя MySQL CSS HTML5 MongoDB Django Framework\n",
            " Python JavaScript Linux MySQL Git jQuery CSS C++ PostgreSQL Django Framework Администрирование серверов Linux Nginx Bootstrap SQL Bash PHP Ajax\n",
            " Программирование Python\n",
            " SQL MS SQL Transact-SQL MS SQL Server MS Access VBA MS Visual Basic SOAP SSAS Olap (online analytical processing) MDX DAX Cистемы управления базами данных Планово-экономический отдел Планирование Прогнозирование Анализ данных MS Excel Экономический анализ Экономическое моделирование ETL Pentaho Data Integration (Kettle) PostgreSQL ORACLE Process Mining Celonis Системы анализа бизнес-процессов Python JSON Git\n",
            " Delphi MS SQL Oracle Pl/SQL Visual Studio C# Проектирование Рефакторинг кода Оптимизация кода Математический анализ Математическое моделирование Java SE Java EE Android Solid Edge SOAP Internet Server Api Full Stack\n",
            " Data Analysis Python Java Linux Bash Анализ данных Git analysis in R Mathematical Statistics QIIME Bowtie Bowtie2 JavaScript C++ Статистический анализ Написание научных статей Аналитические исследования\n",
            " Аналитическое мышление Python Экономическое моделирование Анализ данных Прогнозирование Специализированное ПО: MS Excel, MS Word, MS Power point; Anaconda (Jupyter, Spyder), библиотеки numpy, pandas, scikit-learn, matplotlib Начал изучать Keras (backend - TensorFlow)\n",
            " Тестирование Java Applets Mac Os SQL Cистемы управления базами данных HTML CSS Функциональное тестирование Управление проектами Приемочное тестирование Системное тестирование Agail Scrum Веб тестирование Кросс-браузерное тестирование при помощи browserstack.com Slack Gitlab Trello Postman MS SQL Server Тестирование пользовательского интерфейса Базы данных\n",
            " AutoCAD Python C/C++ Lisp VBA SCAD Lira MS Excel MS Word Mathcad HTML PHP5 MySQL JavaScript Linux Проектирование Проведение расчетов на прочность разработка чертежей 3D Моделирование Debian\n",
            " Python Linux MySQL Git Java Bash ООП\n",
            " C++ Qt STL SQL Python PostgreSQL C#\n",
            " Python Unity Scrum JavaScript Linux Atlassian Jira Git SQL ElasticSearch Vue TeamCity Mac Os\n"
          ]
        },
        {
          "output_type": "stream",
          "name": "stderr",
          "text": [
            "<ipython-input-145-d89cd5036ac3>:1: UserWarning: Boolean Series key will be reindexed to match DataFrame index.\n",
            "  python_skills = df[notnull_mask][python_mask]['key_skills'].tolist()\n"
          ]
        }
      ]
    },
    {
      "cell_type": "markdown",
      "source": [
        "### Вот 50 наиболее часто упоминаемых навыков в последнем предоставленном тексте:\n",
        "\n",
        "1. Python\n",
        "2. Git\n",
        "3. Linux\n",
        "4. SQL\n",
        "5. Django Framework\n",
        "6. JavaScript\n",
        "7. MySQL\n",
        "8. HTML\n",
        "9. CSS\n",
        "10. jQuery\n",
        "11. ООП\n",
        "12. PostgreSQL\n",
        "13. Администрирование серверов Linux\n",
        "14. MS Visual Studio\n",
        "15. Разработка ПО\n",
        "16. C++\n",
        "17. Node.js\n",
        "18. MongoDB\n",
        "19. MS SQL\n",
        "20. Базы данных\n",
        "21. Docker\n",
        "22. PHP\n",
        "23. Redis\n",
        "24. Английский язык\n",
        "25. Nginx\n",
        "26. С#\n",
        "27. Flask\n",
        "28. REST\n",
        "29. Работа в команде\n",
        "30. API\n",
        "31. Управление проектами  \n",
        "32. Java\n",
        "33. Веб-программирование\n",
        "34. Ruby\n",
        "35. Android SDK\n",
        "36. AWS\n",
        "37. RabbitMQ\n",
        "38. React\n",
        "39. SDL\n",
        "40. Apache HTTP Server\n",
        "41. Golang\n",
        "42. TensorFlow\n",
        "43. Machine Learning\n",
        "44. MS Office\n",
        "45. GitLab\n",
        "46. NumPy\n",
        "47. XML\n",
        "48. Kubernetes\n",
        "49. OpenCV\n",
        "50. Vue.js"
      ],
      "metadata": {
        "id": "Lq2B7DmxHnWi"
      }
    },
    {
      "cell_type": "code",
      "source": [
        "python_key = [key for key in professions.keys() if \"python\" in key]"
      ],
      "metadata": {
        "id": "QHVric7G6xsy"
      },
      "execution_count": null,
      "outputs": []
    },
    {
      "cell_type": "code",
      "source": [
        " python_key"
      ],
      "metadata": {
        "colab": {
          "base_uri": "https://localhost:8080/"
        },
        "id": "y3hnPcMw9e1Y",
        "outputId": "6ea5b17e-a9f4-4087-e483-407a59e86ec2"
      },
      "execution_count": null,
      "outputs": [
        {
          "output_type": "execute_result",
          "data": {
            "text/plain": [
              "['программист python',\n",
              " 'python developer',\n",
              " 'python',\n",
              " 'junior python developer',\n",
              " 'разработчик python',\n",
              " 'python разработчик',\n",
              " 'python junior',\n",
              " 'junior python разработчик',\n",
              " 'python)',\n",
              " 'python backend developer',\n",
              " 'программист python (junior)',\n",
              " 'программист python junior',\n",
              " 'python-разработчик',\n",
              " 'младший программист python',\n",
              " 'разработчик с++/python; 3d художник blender',\n",
              " 'программист-разработчик python',\n",
              " 'python/django разработчик',\n",
              " 'python middle разработчик',\n",
              " 'стажер-программист python',\n",
              " 'разработчик python3/django 2/vue js/html/css',\n",
              " 'python/c++ developer',\n",
              " 'разработчик python/django',\n",
              " 'python разработчик \\u200d\\u200d',\n",
              " 'full-stack-разработчик/python разработчик',\n",
              " 'python (django) программист',\n",
              " 'junior developer c++\\\\python',\n",
              " 'python; embedded',\n",
              " 'инженер-разработчик python',\n",
              " 'программист python django',\n",
              " 'инженер-программист ( python',\n",
              " 'программист sql/python',\n",
              " 'full stack python developer',\n",
              " 'python middle-разработчик',\n",
              " 'junior data developer (python)',\n",
              " 'инженер/ junior python',\n",
              " 'разработчик python (стажёр/джуниор)',\n",
              " 'middle python developer',\n",
              " 'junior python',\n",
              " 'программист python - junior',\n",
              " 'web-разработчик (python)',\n",
              " 'senior python developer/teamlead',\n",
              " 'junior python django разработчик',\n",
              " 'python developer (flask)',\n",
              " 'программист c++/python',\n",
              " 'python3/django developer',\n",
              " 'разработчик python/django + js + linux + apache',\n",
              " 'python/django developer(junior)',\n",
              " 'backend программист python (twisted',\n",
              " 'front/back python (django)',\n",
              " 'python developer (junior)',\n",
              " 'python (junior)',\n",
              " 'python  разработчик',\n",
              " 'аналитик python',\n",
              " 'разработчик на python/django',\n",
              " 'devops/ python программист junior/ django',\n",
              " 'full-stack разработчик java/php/js/python (senior)',\n",
              " 'младший разработчик python',\n",
              " 'junior программист python',\n",
              " 'junior python developer (разработчик)',\n",
              " 'team lead (python)',\n",
              " 'программист с++/python',\n",
              " 'python software engineer (программист python)',\n",
              " 'программист с++/stl/python',\n",
              " 'full-stack разработчик (python/django/vue/vuetifyjs)',\n",
              " 'разработчик python\\\\django',\n",
              " 'программист-стажер python',\n",
              " 'software developer (python)',\n",
              " 'разработчик c/c++/python',\n",
              " 'junior developer с/с++; python; java',\n",
              " 'программист python/java',\n",
              " 'qt). дополнительно: python',\n",
              " 'qa web automation engineer (python)',\n",
              " 'инженер-программист (python',\n",
              " 'python back end developer',\n",
              " 'игровой аналитик | sql | python',\n",
              " 'developer perl python',\n",
              " 'стажёр  python',\n",
              " 'программист junior python web developer',\n",
              " 'lua/python/coffeescript разработчик (web',\n",
              " 'python) | devops',\n",
              " 'software developer (golang/python)',\n",
              " 'программист javascript/c/c++/python (удаленно',\n",
              " 'программист python (младший',\n",
              " 'python-программист',\n",
              " 'intern data science\\\\ python',\n",
              " 'программист python (django',\n",
              " 'веб-разработчик python',\n",
              " 'backend python developer',\n",
              " 'python/django developer',\n",
              " 'c# python программист инженер engineer scientist analyst',\n",
              " 'разработчик python/django (только дистанционная работа)',\n",
              " 'python developer (data scientist)',\n",
              " 'junior developer python',\n",
              " 'разработчик java + python/разработчик ml /разработчик в области обоработки данных',\n",
              " 'java/python developer',\n",
              " 'react.js/web/python/java developer/qa',\n",
              " 'fullstack программист (js php python)',\n",
              " 'junior developer javascript \\\\ python',\n",
              " 'стажер mashinelearning pythondeveloper',\n",
              " 'junior developer (c++/qt/python)',\n",
              " 'разработчик perl/python',\n",
              " 'стажер-разработчик python-php',\n",
              " 'junior backend python flask',\n",
              " 'full-stack web developer python\\\\django & angular js',\n",
              " 'программист python/golang',\n",
              " 'разработчик (python)',\n",
              " 'middle developer python/django',\n",
              " 'программист-разработчик python (back-end)',\n",
              " 'backend developer (python)',\n",
              " 'python backend-разработчик',\n",
              " 'ведущий программист на c/c++/python',\n",
              " 'python/javascript разработчик',\n",
              " 'python developer (remote)',\n",
              " 'python back-end разработчик',\n",
              " 'программист python\\\\c++',\n",
              " 'middle программист(java/kotlin/python)',\n",
              " 'фуллстек python-программист']"
            ]
          },
          "metadata": {},
          "execution_count": 111
        }
      ]
    }
  ]
}