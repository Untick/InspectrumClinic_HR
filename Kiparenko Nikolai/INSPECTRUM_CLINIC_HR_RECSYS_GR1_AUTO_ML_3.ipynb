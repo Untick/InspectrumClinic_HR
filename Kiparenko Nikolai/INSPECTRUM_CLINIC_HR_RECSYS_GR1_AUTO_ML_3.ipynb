{
  "nbformat": 4,
  "nbformat_minor": 0,
  "metadata": {
    "colab": {
      "provenance": [],
      "authorship_tag": "ABX9TyPQWre+HghKd8AMPPUrqH/O",
      "include_colab_link": true
    },
    "kernelspec": {
      "name": "python3",
      "display_name": "Python 3"
    },
    "language_info": {
      "name": "python"
    }
  },
  "cells": [
    {
      "cell_type": "markdown",
      "metadata": {
        "id": "view-in-github",
        "colab_type": "text"
      },
      "source": [
        "<a href=\"https://colab.research.google.com/github/Untick/InspectrumClinic_HR_gr1/blob/main/Kiparenko%20Nikolai/INSPECTRUM_CLINIC_HR_RECSYS_GR1_AUTO_ML_3.ipynb\" target=\"_parent\"><img src=\"https://colab.research.google.com/assets/colab-badge.svg\" alt=\"Open In Colab\"/></a>"
      ]
    },
    {
      "cell_type": "markdown",
      "source": [
        "# INSPECTRUM CLINIC HR RECSYS"
      ],
      "metadata": {
        "id": "ZLnV0RO_LZ-m"
      }
    },
    {
      "cell_type": "markdown",
      "source": [
        "Загружаем библиотеки"
      ],
      "metadata": {
        "id": "3IvQCBkcMQNA"
      }
    },
    {
      "cell_type": "code",
      "execution_count": 1,
      "metadata": {
        "id": "llxSD2DBKjOI"
      },
      "outputs": [],
      "source": [
        "# Загрузка датасетов из облака\n",
        "import gdown\n",
        "\n",
        "# Функции операционной системы\n",
        "import os\n",
        "\n",
        "# Работа с массивами данных\n",
        "import numpy as np\n",
        "\n",
        "# Работа с таблицами\n",
        "import pandas as pd\n",
        "\n",
        "# автоматически парсит строку и сохранит ее в переменной datetime\n",
        "import datetime\n",
        "\n",
        "# Токенизатор для преобразование текстов в последовательности\n",
        "from tensorflow.keras.preprocessing.text import Tokenizer\n",
        "\n",
        "# Отрисовка графиков\n",
        "import matplotlib.pyplot as plt\n",
        "import seaborn as sns # Будем визулизировать данные этой библиотекой\n",
        "\n",
        "# Метрики для расчета ошибок\n",
        "from sklearn.metrics import mean_squared_error, mean_absolute_error\n"
      ]
    },
    {
      "cell_type": "markdown",
      "source": [
        "Запускаем H2O"
      ],
      "metadata": {
        "id": "E1k0p1EFQWoc"
      }
    },
    {
      "cell_type": "code",
      "source": [
        "# H2OAutoML\n",
        "!pip install h2o\n",
        "import h2o\n",
        "from h2o.automl import H2OAutoML\n",
        "h2o.init()\n"
      ],
      "metadata": {
        "colab": {
          "base_uri": "https://localhost:8080/",
          "height": 832
        },
        "id": "mx3dZZcXKokd",
        "outputId": "cc487ef4-fbef-4a9f-ecb1-3e08c599086d"
      },
      "execution_count": 6,
      "outputs": [
        {
          "output_type": "stream",
          "name": "stdout",
          "text": [
            "Collecting h2o\n",
            "  Downloading h2o-3.42.0.1.tar.gz (249.1 MB)\n",
            "\u001b[2K     \u001b[90m━━━━━━━━━━━━━━━━━━━━━━━━━━━━━━━━━━━━━━━\u001b[0m \u001b[32m249.1/249.1 MB\u001b[0m \u001b[31m5.8 MB/s\u001b[0m eta \u001b[36m0:00:00\u001b[0m\n",
            "\u001b[?25h  Preparing metadata (setup.py) ... \u001b[?25l\u001b[?25hdone\n",
            "Requirement already satisfied: requests in /usr/local/lib/python3.10/dist-packages (from h2o) (2.27.1)\n",
            "Requirement already satisfied: tabulate in /usr/local/lib/python3.10/dist-packages (from h2o) (0.8.10)\n",
            "Requirement already satisfied: urllib3<1.27,>=1.21.1 in /usr/local/lib/python3.10/dist-packages (from requests->h2o) (1.26.16)\n",
            "Requirement already satisfied: certifi>=2017.4.17 in /usr/local/lib/python3.10/dist-packages (from requests->h2o) (2023.5.7)\n",
            "Requirement already satisfied: charset-normalizer~=2.0.0 in /usr/local/lib/python3.10/dist-packages (from requests->h2o) (2.0.12)\n",
            "Requirement already satisfied: idna<4,>=2.5 in /usr/local/lib/python3.10/dist-packages (from requests->h2o) (3.4)\n",
            "Building wheels for collected packages: h2o\n",
            "  Building wheel for h2o (setup.py) ... \u001b[?25l\u001b[?25hdone\n",
            "  Created wheel for h2o: filename=h2o-3.42.0.1-py2.py3-none-any.whl size=249152215 sha256=148da09e3083b79b8b4418a49272714d3c93aa20becd91f6b5b037c52ea80302\n",
            "  Stored in directory: /root/.cache/pip/wheels/2e/2f/04/ef0554c89bcb5d38a6fc082a87f497933109faefd94dcdc3d2\n",
            "Successfully built h2o\n",
            "Installing collected packages: h2o\n",
            "Successfully installed h2o-3.42.0.1\n",
            "Checking whether there is an H2O instance running at http://localhost:54321..... not found.\n",
            "Attempting to start a local H2O server...\n",
            "  Java Version: openjdk version \"11.0.19\" 2023-04-18; OpenJDK Runtime Environment (build 11.0.19+7-post-Ubuntu-0ubuntu120.04.1); OpenJDK 64-Bit Server VM (build 11.0.19+7-post-Ubuntu-0ubuntu120.04.1, mixed mode, sharing)\n",
            "  Starting server from /usr/local/lib/python3.10/dist-packages/h2o/backend/bin/h2o.jar\n",
            "  Ice root: /tmp/tmpq1k92u19\n",
            "  JVM stdout: /tmp/tmpq1k92u19/h2o_unknownUser_started_from_python.out\n",
            "  JVM stderr: /tmp/tmpq1k92u19/h2o_unknownUser_started_from_python.err\n",
            "  Server is running at http://127.0.0.1:54321\n",
            "Connecting to H2O server at http://127.0.0.1:54321 ... successful.\n"
          ]
        },
        {
          "output_type": "display_data",
          "data": {
            "text/plain": [
              "--------------------------  -----------------------------------------------------------------------------------------\n",
              "H2O_cluster_uptime:         02 secs\n",
              "H2O_cluster_timezone:       Etc/UTC\n",
              "H2O_data_parsing_timezone:  UTC\n",
              "H2O_cluster_version:        3.42.0.1\n",
              "H2O_cluster_version_age:    28 days, 19 hours and 17 minutes\n",
              "H2O_cluster_name:           H2O_from_python_unknownUser_4ybfbc\n",
              "H2O_cluster_total_nodes:    1\n",
              "H2O_cluster_free_memory:    3.170 Gb\n",
              "H2O_cluster_total_cores:    2\n",
              "H2O_cluster_allowed_cores:  2\n",
              "H2O_cluster_status:         locked, healthy\n",
              "H2O_connection_url:         http://127.0.0.1:54321\n",
              "H2O_connection_proxy:       {\"http\": null, \"https\": null, \"colab_language_server\": \"/usr/colab/bin/language_service\"}\n",
              "H2O_internal_security:      False\n",
              "Python_version:             3.10.12 final\n",
              "--------------------------  -----------------------------------------------------------------------------------------"
            ],
            "text/html": [
              "\n",
              "<style>\n",
              "\n",
              "#h2o-table-1.h2o-container {\n",
              "  overflow-x: auto;\n",
              "}\n",
              "#h2o-table-1 .h2o-table {\n",
              "  /* width: 100%; */\n",
              "  margin-top: 1em;\n",
              "  margin-bottom: 1em;\n",
              "}\n",
              "#h2o-table-1 .h2o-table caption {\n",
              "  white-space: nowrap;\n",
              "  caption-side: top;\n",
              "  text-align: left;\n",
              "  /* margin-left: 1em; */\n",
              "  margin: 0;\n",
              "  font-size: larger;\n",
              "}\n",
              "#h2o-table-1 .h2o-table thead {\n",
              "  white-space: nowrap; \n",
              "  position: sticky;\n",
              "  top: 0;\n",
              "  box-shadow: 0 -1px inset;\n",
              "}\n",
              "#h2o-table-1 .h2o-table tbody {\n",
              "  overflow: auto;\n",
              "}\n",
              "#h2o-table-1 .h2o-table th,\n",
              "#h2o-table-1 .h2o-table td {\n",
              "  text-align: right;\n",
              "  /* border: 1px solid; */\n",
              "}\n",
              "#h2o-table-1 .h2o-table tr:nth-child(even) {\n",
              "  /* background: #F5F5F5 */\n",
              "}\n",
              "\n",
              "</style>      \n",
              "<div id=\"h2o-table-1\" class=\"h2o-container\">\n",
              "  <table class=\"h2o-table\">\n",
              "    <caption></caption>\n",
              "    <thead></thead>\n",
              "    <tbody><tr><td>H2O_cluster_uptime:</td>\n",
              "<td>02 secs</td></tr>\n",
              "<tr><td>H2O_cluster_timezone:</td>\n",
              "<td>Etc/UTC</td></tr>\n",
              "<tr><td>H2O_data_parsing_timezone:</td>\n",
              "<td>UTC</td></tr>\n",
              "<tr><td>H2O_cluster_version:</td>\n",
              "<td>3.42.0.1</td></tr>\n",
              "<tr><td>H2O_cluster_version_age:</td>\n",
              "<td>28 days, 19 hours and 17 minutes</td></tr>\n",
              "<tr><td>H2O_cluster_name:</td>\n",
              "<td>H2O_from_python_unknownUser_4ybfbc</td></tr>\n",
              "<tr><td>H2O_cluster_total_nodes:</td>\n",
              "<td>1</td></tr>\n",
              "<tr><td>H2O_cluster_free_memory:</td>\n",
              "<td>3.170 Gb</td></tr>\n",
              "<tr><td>H2O_cluster_total_cores:</td>\n",
              "<td>2</td></tr>\n",
              "<tr><td>H2O_cluster_allowed_cores:</td>\n",
              "<td>2</td></tr>\n",
              "<tr><td>H2O_cluster_status:</td>\n",
              "<td>locked, healthy</td></tr>\n",
              "<tr><td>H2O_connection_url:</td>\n",
              "<td>http://127.0.0.1:54321</td></tr>\n",
              "<tr><td>H2O_connection_proxy:</td>\n",
              "<td>{\"http\": null, \"https\": null, \"colab_language_server\": \"/usr/colab/bin/language_service\"}</td></tr>\n",
              "<tr><td>H2O_internal_security:</td>\n",
              "<td>False</td></tr>\n",
              "<tr><td>Python_version:</td>\n",
              "<td>3.10.12 final</td></tr></tbody>\n",
              "  </table>\n",
              "</div>\n"
            ]
          },
          "metadata": {}
        }
      ]
    },
    {
      "cell_type": "markdown",
      "source": [
        "Грузим файл который нужно проанализировать"
      ],
      "metadata": {
        "id": "LmSL-HMvPrSi"
      }
    },
    {
      "cell_type": "code",
      "source": [
        "#Грузим файл который нужно проверить\n",
        "path = \"https://docs.google.com/spreadsheets/d/1tcfBgGY98cFx1DIvmoRy7goHXNcnaBZ7/export?format=xlsx\"\n",
        "gdown.download(path,'dataS.xlsx', quiet=True)"
      ],
      "metadata": {
        "colab": {
          "base_uri": "https://localhost:8080/",
          "height": 90
        },
        "id": "FI4AG662KrWd",
        "outputId": "18723284-47e1-4b6e-c4ea-498b6017d3b3"
      },
      "execution_count": 7,
      "outputs": [
        {
          "output_type": "stream",
          "name": "stderr",
          "text": [
            "/usr/local/lib/python3.10/dist-packages/gdown/parse_url.py:35: UserWarning: You specified a Google Drive link that is not the correct link to download a file. You might want to try `--fuzzy` option or the following url: https://drive.google.com/uc?id=None\n",
            "  warnings.warn(\n"
          ]
        },
        {
          "output_type": "execute_result",
          "data": {
            "text/plain": [
              "'dataS.xlsx'"
            ],
            "application/vnd.google.colaboratory.intrinsic+json": {
              "type": "string"
            }
          },
          "metadata": {},
          "execution_count": 7
        }
      ]
    },
    {
      "cell_type": "code",
      "source": [
        "#Читаем файл\n",
        "data = pd.read_excel (r'dataS.xlsx', index_col=0)\n",
        "data.to_csv('data.csv')\n",
        "data.head(5)\n",
        "df = h2o.import_file(\"data.csv\",header =1)"
      ],
      "metadata": {
        "colab": {
          "base_uri": "https://localhost:8080/"
        },
        "id": "3-Z_QZ54Kztk",
        "outputId": "4bf9e0e9-f84c-4ff7-f481-a27f3c3b36bd"
      },
      "execution_count": 8,
      "outputs": [
        {
          "output_type": "stream",
          "name": "stdout",
          "text": [
            "Parse progress: |████████████████████████████████████████████████████████████████| (done) 100%\n"
          ]
        }
      ]
    },
    {
      "cell_type": "markdown",
      "source": [
        "Загружаем предварительно обученную модель"
      ],
      "metadata": {
        "id": "qN9AH_XOP2zb"
      }
    },
    {
      "cell_type": "code",
      "source": [
        "gdown.download(\"https://s228vla.storage.yandex.net/rdisk/a0049622545167d42dc0574914962413581c2a39617f8167bc18e88198b841f5/64b81497/2V2cgGRqetkaGS3kvhKGJ2tQunQ9Me4bWPoIN8VGagSTlr-KeAiVNYF57MM1SGcoKyQ4ENEUsw_FjqfcZ_8E-Q==?uid=0&filename=StackedEnsemble_AllModels_1_AutoML_4_20230712_144139.zip&disposition=attachment&hash=pU%2BZDc/ZiaiwXeiE4NoBFMxa5GiP%2BVQEPafdQMPEo9OhqCkg8QZjYyS2Db%2BAxfKnq/J6bpmRyOJonT3VoXnDag%3D%3D&limit=0&content_type=application%2Fzip&owner_uid=269742668&fsize=649647&hid=e5db833f3b9c98610b8fbdeb16b32bc8&media_type=compressed&tknv=v2&rtoken=a7Gj6Kie8Jkj&force_default=no&ycrid=na-bdba2a4b04212699e9a6a845fbcb7e23-downloader21h&ts=600d9d82d13c0&s=c787fb38893feb9b766806ec3ee5c7df79ce3b00ac9d77e7f4b1d21172981446&pb=U2FsdGVkX18sZqUx0KntHm7yRbtQmUA5f2qrxDKKqH_cBwKqswSXG_xX6cPXPLunyEzvbuqvqWUBX6wsdZsSoBAsPoMfW36SvZk3oZqOzME\",'model.zip', quiet=True)"
      ],
      "metadata": {
        "colab": {
          "base_uri": "https://localhost:8080/",
          "height": 36
        },
        "id": "6tQcTwB0L3tg",
        "outputId": "d62b2cd8-5261-496e-f20b-3eee07fa3686"
      },
      "execution_count": 2,
      "outputs": [
        {
          "output_type": "execute_result",
          "data": {
            "text/plain": [
              "'model.zip'"
            ],
            "application/vnd.google.colaboratory.intrinsic+json": {
              "type": "string"
            }
          },
          "metadata": {},
          "execution_count": 2
        }
      ]
    },
    {
      "cell_type": "code",
      "source": [
        "imported_model = h2o.import_mojo(\"model.zip\")"
      ],
      "metadata": {
        "colab": {
          "base_uri": "https://localhost:8080/"
        },
        "id": "3mMVzdUyK-Z9",
        "outputId": "fb6cc06b-d8fe-47d5-fdff-c136854dadaa"
      },
      "execution_count": 9,
      "outputs": [
        {
          "output_type": "stream",
          "name": "stdout",
          "text": [
            "generic Model Build progress: |██████████████████████████████████████████████████| (done) 100%\n"
          ]
        }
      ]
    },
    {
      "cell_type": "markdown",
      "source": [
        "Получаем результат"
      ],
      "metadata": {
        "id": "XOUfG2k5Qv7L"
      }
    },
    {
      "cell_type": "code",
      "source": [
        "preds = imported_model.predict(df)\n",
        "\n",
        "preds = preds.as_data_frame()\n",
        "df = df.as_data_frame()\n",
        "df = data.join(preds)\n",
        "df.to_csv('Ответы.csv')\n",
        "df.head(5)"
      ],
      "metadata": {
        "colab": {
          "base_uri": "https://localhost:8080/",
          "height": 1000
        },
        "id": "3KGZPthhLIMq",
        "outputId": "ea75e635-e196-4abe-8e32-0c8731d119da"
      },
      "execution_count": 10,
      "outputs": [
        {
          "output_type": "stream",
          "name": "stdout",
          "text": [
            "generic prediction progress: |███████████████████████████████████████████████████| (done) 100%\n"
          ]
        },
        {
          "output_type": "stream",
          "name": "stderr",
          "text": [
            "/usr/local/lib/python3.10/dist-packages/h2o/job.py:81: UserWarning: Test/Validation dataset column 'Пол, возраст' has levels not trained on: [\"\", \"5 раза снизилась стоимость привлечения лида\", \"B2G.\", \"MVC ASP.NET\", \"P&L - моделью.\", \"PEST анализ\", \"ReactJS\", \"Redmine\n",
            "Scrum\n",
            "Управление продуктом\n",
            "Jira\n",
            "Kanban\n",
            "MVP\n",
            "Agile\n",
            "Waterfall\n",
            "UX/UI\n",
            "CJM\n",
            "Подготовка ТЗ\n",
            "User Stories\n",
            "CustDev\n",
            "Unit-экономика\n",
            "Спринты\n",
            "Водопад\n",
            "Product менеджер\", \"SEO продвижения сайтов\", \"SMM.\", ...378 not listed..., \"таргетированной рекламы Вконакте\", \"тестировщиками.\", \"технические специалисты);\", \"технологии.\", \"товарных категорий и продуктов\", \"управление маркетингом\", \"холодные звонки\", \"что повлекло снижение затрат на привлечение тех\", \"что показалось интереснее. Один раз живём :)\"\", \"что часть продаж через B2B2C (т.е. через дизайнеров интерьера). Их потребности пересеклись с потребностями остальных покупателей. CPS (стоимость привлеченного клиента) снизилась до 3.5 тыс. руб.\"]\n",
            "  warnings.warn(w)\n",
            "/usr/local/lib/python3.10/dist-packages/h2o/job.py:81: UserWarning: Test/Validation dataset column 'ЗП' has levels not trained on: [\"1 200 EUR\", \"1 550 USD\", \"1 900 000 KZT\", \"1 руб.\", \"1. Опыт создания 2-х собственных бизнесов.\n",
            "\n",
            "2. Беру инициативу. Вдохновляю команду, с которой работаю на сверх-результат.\n",
            "\n",
            "3. Понимание IT-систем.\n",
            "\n",
            "4. Большой нетворкинг из основателей IT-проектов, за прошлый год познакомился с 350-ю людьми из разных сфер.\n",
            "\n",
            "5. Навык проведения переговоров на высоком уровне.\", \"100 000 KGS\", \"110 000 руб.\", \"119 000 руб.\", \"127 000 руб.\", \"140 000 руб.\", ...60 not listed..., \"система сбалансированных показателей). \", \"создание и первичное наполнение контентом групп в VK\", \"соцсети\", \"строительными фирмами\", \"сформирован перечень более 50 свойств\", \"телефонные презентации\", \"услуг и маркетинговой поддержки продаж.\", \"целевые посадочные страницы вошли в топ-5 Яндекс по высококонкурентным запросам\", \"экспертиза\", \"электромонтажных работ): поиск потенциальных заказчиков\"]\n",
            "  warnings.warn(w)\n",
            "/usr/local/lib/python3.10/dist-packages/h2o/job.py:81: UserWarning: Test/Validation dataset column 'Ищет работу на должность' has levels not trained on: [\"25 января 2023 в 18:32\", \"5 февраля 2023 в 02:39\", \"6 февраля 2023 в 14:02\", \"FB.\", \"Growth Product Manager\", \"HTML\", \"Product Manager в команду HR\", \"Product Manager в команду Финансового департамента\", \"Product Marketing Manager в Growth Hacking команду\", \"Product manager в Growth Hacking команду\", ...32 not listed..., \"создание семантического ядра сайта\", \"средства по уходу за обувью\", \"т.е. арбитражников.\", \"тарифов);\", \"триггерные рассылки\", \"упаковка\", \"управление клиентским опытом\", \"функционал и тарифы Битрикс24\", \"функционала и структуры нового сайта;\", \"холодные звонки\"]\n",
            "  warnings.warn(w)\n",
            "/usr/local/lib/python3.10/dist-packages/h2o/job.py:81: UserWarning: Test/Validation dataset column 'Город' has levels not trained on: [\"4 раза.\", \"CSS\", \"POS\", \"cold calls\", \"Актау, Не готов к переезду, готов к редким командировкам\", \"Алматы, Готов к переезду, готов к командировкам\", \"Алматы, Готов к переезду, готов к редким командировкам\", \"Алматы, Готов к переезду, не готов к командировкам\", \"Алматы, м. Алатау, Готова к переезду: Москва, Астана, готова к редким командировкам\", \"Армения, Готов к переезду, готов к командировкам\", ...138 not listed..., \"разработка и согласование проектов договоров;\", \"разработка коммерческих предложений\", \"расчетом экономической эффективности). \", \"рекламных материалов\", \"салонами интерьерных декоративных материалов\", \"создание пользовательских полей описания клиентов и лидов;   \", \"успешно сданы тетсы на сертификат по курсу Контент-менеджмент БУС\", \"хозяйственные товары и др.) в регионах ЦФО и ПФО. В результате разработаны прогнозы по прибыли с учетом разного объема продаж\", \"цифровой маркетинг).\", \"штатному и внешним дизайнерам;\"]\n",
            "  warnings.warn(w)\n",
            "/usr/local/lib/python3.10/dist-packages/h2o/job.py:81: UserWarning: Test/Validation dataset column 'Занятость' has levels not trained on: [\"13 февраля 2023 в 20:43\", \"CXM - разрешение конфликтных ситуаций и жалоб клиентов\", \"JS\", \"presentations\", \"Высшее, 2000, Нижегородский государственный технический университет им. Р.Е. Алексеева, Нижний Новгород, 1996, Нижегородский институт управления Российской академии народного хозяйства и государственной службы при Президенте Российской Федерации, Нижний Новгород\", \"акция на сайте.\", \"бытовое электрооборудование и электротехника (монтаж\", \"встречи\", \"выбран шаблон сайта\", \"другими дистрибьюторами\", ...11 not listed..., \"проектная работа, неполный рабочий день, полный рабочий день\", \"разработка и регистрация торговой марки\", \"разработка соответствующего современным тенденциям веб-дизайна сайта с функционалом интернет-магазина на CMS 1С-Битрикс+шаблон с планарным каталогом\", \"разработка торговой структуры и способов покрытия клиентской базы\", \"реализованы лицензии БУС (продления и переходы) более 10 клиентам\", \"стажировка, полная занятость\", \"тарифов\", \"тендеры\", \"удобство выбора\", \"этикетки и пр).\"]\n",
            "  warnings.warn(w)\n",
            "/usr/local/lib/python3.10/dist-packages/h2o/job.py:81: UserWarning: Test/Validation dataset column 'График' has levels not trained on: [\"20 февраля 2023 в 13:17\", \"AJAX\", \"potential client needs identification\", \"а также с торговыми предложениями\", \"аккаунты в каталоге и на картах Яндекс\", \"вахтовый метод\", \"вахтовый метод, удаленная работа, гибкий график, полный день, сменный графи\", \"выработаны ценностные предложения для привлечения партнеров экосистемы и конечных заказчиков\", \"гибкий график, удаленная работа\", \"демонстрация продукции\", ...9 not listed..., \"разработка договоров\", \"разработка и внедрение корректирующих мер в процессы приема и исполнения заявок;\", \"редакция системы управления сайтом 1С-Битрикс и модули\", \"рекламных материалов\", \"сервис\", \"увеличивающий конверсию и средний чек (фильтры\", \"удаленная работа, гибкий график, сменный график\", \"удаленная работа, полный день, сменный график\", \"удаленная работа, полный рабочий день\", \"ценовой модели\"]\n",
            "  warnings.warn(w)\n",
            "/usr/local/lib/python3.10/dist-packages/h2o/job.py:81: UserWarning: Test/Validation dataset column 'Опыт ()' has levels not trained on: [\"commercial and tender offers development\", \"iFrame\", \"Опыт работы 17 лет 7 месяцев\", \"Опыт работы 4 года 11 месяцев\", \"Опыт работы 6 лет 3 месяца\", \"Опыт работы — 19 лет 8 месяца\", \"Опыт работы —1 год 1 месяц\", \"Опыт работы —1 год 10 месяцев\", \"Опыт работы —1 год 6 месяцев\", \"Опыт работы —1 год 9 месяцев\", ...128 not listed..., \"подготовка первичных документов\", \"прогноза продаж).\", \"прямые продажи\", \"разработу корпоративных сайтов и интернет магазинов\", \"ремонт)\", \"спроектирована структура и функционал многосторонней e-commerce платформы\", \"сформулировано ТЗ дизайнеру на подготовку изображений\", \"торговые предложения\", \"управление рекламой в печатных СМИ и в Интернет\", \"фильтрацией по свойствам; настройка модуля лид-опросов\"]\n",
            "  warnings.warn(w)\n",
            "/usr/local/lib/python3.10/dist-packages/h2o/job.py:81: UserWarning: Test/Validation dataset column 'Последнее/нынешное место работы' has levels not trained on: [\"\"CREOS\" - Creos Play LT\", \"\"Smart\" Международный онлайн-институт психологии\", \"\"МИАтел\" / телеком-оператор России и Казахстана\", \"\"Точнотест-регион\"\", \"99 Ballov\", \"AIESEC\", \"Addie Digital\", \"Aitu Dala\", \"Alfa clean\", \"Amazon S3\", ...326 not listed..., \"оздоровительный санаторий черемушки\", \"подготовка тендерной документации\", \"подготовлены более 20 смет (с ТКП) на создание сайтов следующим типам заказчиков нижегородской области\", \"подключение систем аналитики\", \"позволяющий проводить дистанционное обучение партнеров по применению производимых материалов\", \"презентация преимуществ товара и поставщика\", \"разработка сайта (выбор CMS\", \"разработка формата предоставляемых заказчикам справок о благонадежности и кредитоспособности контрагентов\", \"сформулирован понятный контент страниц Оплата\", \"яндекс такси\"]\n",
            "  warnings.warn(w)\n",
            "/usr/local/lib/python3.10/dist-packages/h2o/job.py:81: UserWarning: Test/Validation dataset column 'Последняя/нынешняя должность' has levels not trained on: [\"Business Development Analyst (Freelance)\", \"CEO / кофаундер\", \"CEO/учредитель/партнёр/Руководитель проекта\", \"Chief Product Officer, Business Development Director\", \"Chief product officer\", \"Co-founder\", \"Consultant mobile pm\", \"Google Мой бизнес\", \"Growth Hacker (Middle)\", \"Growth Manager\", ...218 not listed..., \"обеспечивающий лидогенерацию как для производителя\", \"оптическая\", \"подготовка по заказам клиентов справок о благонадежности фирм\", \"прямые продажи\", \"разработка и согласование договоров\", \"руководитель отдела по управлению персоналом (кадров)\", \"сметными службами для подготовки ТКП.\", \"формирование семантического ядра\", \"частично перенесен контент.\", \"эксперт по маркетингу\"]\n",
            "  warnings.warn(w)\n",
            "/usr/local/lib/python3.10/dist-packages/h2o/job.py:81: UserWarning: Test/Validation dataset column 'Образование и ВУЗ' has levels not trained on: [\"SEO-специалистом\", \"Бакалавр, 2012, Казахстанский институт менеджмента, экономики и прогнозирования, Алматы\", \"Бакалавр, 2013, Национальный исследовательский университет \"Высшая школа экономики\", Москва\", \"Бакалавр, 2016, University of Memphis (Дистанционное обучение), 2013, КФУ Институт Экономики и Финансов\", \"Бакалавр, 2016, Башкирский институт физической культуры (филиал) Уральского государственного университета физической культуры, Уфа\", \"Бакалавр, 2016, Казанский государственный финансово-экономический институт им. В.В. Куйбышева (в 2011. году в составе КФУ), Казань\", \"Бакалавр, 2016, Уфимский государственный нефтяной технический университет, Уфа \", \"Бакалавр, 2017, Российский государственный педагогический университет им. А.И. Герцена, Санкт-Петербург\", \"Бакалавр, 2017, Уфимский государственный авиационный технический университет, Уфа\", \"Бакалавр, 2018, Российский экономический университет им. Г.В. Плеханова, Москва\", ...314 not listed..., \"Среднее специальное, 2021, Уфимский политехнический техникум\", \"Среднее специальное, 2021, Финансовый университет при Правительстве Российской Федерации, Уфа\", \"Среднее специальное, 2021, кооперативный техникум\", \"Среднее специальное, 2024, Бгу , 2020, СфБашгу\", \"исследований в области ВЭД\", \"мебельное производство\", \"повышающие конверсию\", \"свойства продуктов для фильтрации. Разработан бизнес-процесс обработки лидов с участием партнеров в CRM Битрикс24 и требования к функционалу. \", \"сервис\", \"управления рисками предприятия ПФО и ЦФО\"]\n",
            "  warnings.warn(w)\n"
          ]
        },
        {
          "output_type": "execute_result",
          "data": {
            "text/plain": [
              "          Дата отклика                               Пол, возраст  \\\n",
              "0  2023-02-23 00:00:00                                    Женщина   \n",
              "1  2023-01-11 00:00:00                                    Женщина   \n",
              "2  2023-02-27 00:00:00  Мужчина, 33 года, родился 23 августа 1989   \n",
              "3  2023-01-11 00:00:00   Мужчина, 32 года, родился 7 декабря 1990   \n",
              "4  2023-01-11 00:00:00   Мужчина, 26 лет, родился 21 февраля 1996   \n",
              "\n",
              "             ЗП Ищет работу на должность  \\\n",
              "0   90 000 руб.   Growth Product Manager   \n",
              "1    не указана   Growth Product Manager   \n",
              "2  150 000 руб.   Growth Product Manager   \n",
              "3    не указана   Growth Product Manager   \n",
              "4  150 000 руб.   Growth Product Manager   \n",
              "\n",
              "                                               Город  \\\n",
              "0  Индонезия, Не готова к переезду, не готова к к...   \n",
              "1  Москва, Готова к переезду, готова к командировкам   \n",
              "2  Санкт-Петербург, Готов к переезду: Москва, гот...   \n",
              "3  Москва, м. Молодежная, Хочу переехать, готов к...   \n",
              "4       Пермь, Хочу переехать, готов к командировкам   \n",
              "\n",
              "                                           Занятость  \\\n",
              "0  проектная работа, частичная занятость, полная ...   \n",
              "1                                   полная занятость   \n",
              "2  проектная работа, частичная занятость, полная ...   \n",
              "3  стажировка, частичная занятость, полная занятость   \n",
              "4  проектная работа, частичная занятость, полная ...   \n",
              "\n",
              "                                         График  \\\n",
              "0                              удаленная работа   \n",
              "1  удаленная работа, гибкий график, полный день   \n",
              "2  удаленная работа, гибкий график, полный день   \n",
              "3  удаленная работа, гибкий график, полный день   \n",
              "4  удаленная работа, гибкий график, полный день   \n",
              "\n",
              "                          Опыт ()  \\\n",
              "0   Опыт работы —5 лет 10 месяцев   \n",
              "1  Опыт работы —11 лет 11 месяцев   \n",
              "2     Опыт работы —7 лет 2 месяца   \n",
              "3   Опыт работы —8 лет 10 месяцев   \n",
              "4    Опыт работы —5 лет 9 месяцев   \n",
              "\n",
              "                     Последнее/нынешное место работы  \\\n",
              "0                                PT MYBALI APP GROUP   \n",
              "1                                      Банк Открытие   \n",
              "2                                          DIKIY LLC   \n",
              "3                                           WeInvest   \n",
              "4  Индивидуальное предпринимательство / частная п...   \n",
              "\n",
              "                  Последняя/нынешняя должность  \\\n",
              "0                         Менеджер по продукту   \n",
              "1  Product owner трайб сбережения и инвестиции   \n",
              "2                                                \n",
              "3                Product Manager (team leader)   \n",
              "4                      Product/Project manager   \n",
              "\n",
              "          Выполняемые задачи на прошлых местах работ  \\\n",
              "0  Маркетинговые исследования\\nИсследование рынка...   \n",
              "1  Участие в команде роста\\nВ2В\\n\\nЗадачи:\\n- Раз...   \n",
              "2  Запуск бренда и производства игристого кваса D...   \n",
              "3  1. Исследование рынка\\n2. Определение целевой ...   \n",
              "4   Переговоры со стейкхолдером\\n- Составление ТЗ...   \n",
              "\n",
              "                                             Обо мне  \\\n",
              "0                                                NaN   \n",
              "1                                                NaN   \n",
              "2  Чем бы я ни занимался с 2014 года, когда решил...   \n",
              "3  Я проактивный, коммуникабельный, позитивный, д...   \n",
              "4  Набрал кучу опыта и хочу с ним найти классную ...   \n",
              "\n",
              "                                     Ключевые навыки  \\\n",
              "0  Анализ рынка\\nУправление проектами\\nProduct Ma...   \n",
              "1  Самомотивация\\nТаймменеджмент\\nКреативность\\nЧ...   \n",
              "2  Продвижение бренда\\nПланирование маркетинговых...   \n",
              "3  Управление проектами\\nОрганизаторские навыки\\n...   \n",
              "4  Управление персоналом\\nЗаключение договоров\\nА...   \n",
              "\n",
              "                                   Образование и ВУЗ        Обновление резюме  \\\n",
              "0  Высшее, 2023, Нетоло́гия, 2014, Университет Ро...  23 февраля 2023 в 16:30   \n",
              "1  Высшее, 2022, GeekBrains, 2010, Московский худ...   8 февраля 2023 в 09:15   \n",
              "2  Высшее, 2013, Санкт-Петербургский государствен...  28 февраля 2023 в 09:41   \n",
              "3  Магистр, 2014, Московский государственный техн...   24 января 2023 в 12:07   \n",
              "4  Высшее, 2021, Российская академия народного хо...   6 февраля 2023 в 11:18   \n",
              "\n",
              "  Подходит - да/нет predict        да       нет  \n",
              "0                да      да  0.999591  0.000409  \n",
              "1                да      да  0.999341  0.000659  \n",
              "2                да      да  0.999253  0.000747  \n",
              "3                да     нет  0.002273  0.997727  \n",
              "4                да     нет  0.004218  0.995782  "
            ],
            "text/html": [
              "\n",
              "\n",
              "  <div id=\"df-4f672067-0110-43e0-ad7f-03c1100ba107\">\n",
              "    <div class=\"colab-df-container\">\n",
              "      <div>\n",
              "<style scoped>\n",
              "    .dataframe tbody tr th:only-of-type {\n",
              "        vertical-align: middle;\n",
              "    }\n",
              "\n",
              "    .dataframe tbody tr th {\n",
              "        vertical-align: top;\n",
              "    }\n",
              "\n",
              "    .dataframe thead th {\n",
              "        text-align: right;\n",
              "    }\n",
              "</style>\n",
              "<table border=\"1\" class=\"dataframe\">\n",
              "  <thead>\n",
              "    <tr style=\"text-align: right;\">\n",
              "      <th></th>\n",
              "      <th>Дата отклика</th>\n",
              "      <th>Пол, возраст</th>\n",
              "      <th>ЗП</th>\n",
              "      <th>Ищет работу на должность</th>\n",
              "      <th>Город</th>\n",
              "      <th>Занятость</th>\n",
              "      <th>График</th>\n",
              "      <th>Опыт ()</th>\n",
              "      <th>Последнее/нынешное место работы</th>\n",
              "      <th>Последняя/нынешняя должность</th>\n",
              "      <th>Выполняемые задачи на прошлых местах работ</th>\n",
              "      <th>Обо мне</th>\n",
              "      <th>Ключевые навыки</th>\n",
              "      <th>Образование и ВУЗ</th>\n",
              "      <th>Обновление резюме</th>\n",
              "      <th>Подходит - да/нет</th>\n",
              "      <th>predict</th>\n",
              "      <th>да</th>\n",
              "      <th>нет</th>\n",
              "    </tr>\n",
              "  </thead>\n",
              "  <tbody>\n",
              "    <tr>\n",
              "      <th>0</th>\n",
              "      <td>2023-02-23 00:00:00</td>\n",
              "      <td>Женщина</td>\n",
              "      <td>90 000 руб.</td>\n",
              "      <td>Growth Product Manager</td>\n",
              "      <td>Индонезия, Не готова к переезду, не готова к к...</td>\n",
              "      <td>проектная работа, частичная занятость, полная ...</td>\n",
              "      <td>удаленная работа</td>\n",
              "      <td>Опыт работы —5 лет 10 месяцев</td>\n",
              "      <td>PT MYBALI APP GROUP</td>\n",
              "      <td>Менеджер по продукту</td>\n",
              "      <td>Маркетинговые исследования\\nИсследование рынка...</td>\n",
              "      <td>NaN</td>\n",
              "      <td>Анализ рынка\\nУправление проектами\\nProduct Ma...</td>\n",
              "      <td>Высшее, 2023, Нетоло́гия, 2014, Университет Ро...</td>\n",
              "      <td>23 февраля 2023 в 16:30</td>\n",
              "      <td>да</td>\n",
              "      <td>да</td>\n",
              "      <td>0.999591</td>\n",
              "      <td>0.000409</td>\n",
              "    </tr>\n",
              "    <tr>\n",
              "      <th>1</th>\n",
              "      <td>2023-01-11 00:00:00</td>\n",
              "      <td>Женщина</td>\n",
              "      <td>не указана</td>\n",
              "      <td>Growth Product Manager</td>\n",
              "      <td>Москва, Готова к переезду, готова к командировкам</td>\n",
              "      <td>полная занятость</td>\n",
              "      <td>удаленная работа, гибкий график, полный день</td>\n",
              "      <td>Опыт работы —11 лет 11 месяцев</td>\n",
              "      <td>Банк Открытие</td>\n",
              "      <td>Product owner трайб сбережения и инвестиции</td>\n",
              "      <td>Участие в команде роста\\nВ2В\\n\\nЗадачи:\\n- Раз...</td>\n",
              "      <td>NaN</td>\n",
              "      <td>Самомотивация\\nТаймменеджмент\\nКреативность\\nЧ...</td>\n",
              "      <td>Высшее, 2022, GeekBrains, 2010, Московский худ...</td>\n",
              "      <td>8 февраля 2023 в 09:15</td>\n",
              "      <td>да</td>\n",
              "      <td>да</td>\n",
              "      <td>0.999341</td>\n",
              "      <td>0.000659</td>\n",
              "    </tr>\n",
              "    <tr>\n",
              "      <th>2</th>\n",
              "      <td>2023-02-27 00:00:00</td>\n",
              "      <td>Мужчина, 33 года, родился 23 августа 1989</td>\n",
              "      <td>150 000 руб.</td>\n",
              "      <td>Growth Product Manager</td>\n",
              "      <td>Санкт-Петербург, Готов к переезду: Москва, гот...</td>\n",
              "      <td>проектная работа, частичная занятость, полная ...</td>\n",
              "      <td>удаленная работа, гибкий график, полный день</td>\n",
              "      <td>Опыт работы —7 лет 2 месяца</td>\n",
              "      <td>DIKIY LLC</td>\n",
              "      <td></td>\n",
              "      <td>Запуск бренда и производства игристого кваса D...</td>\n",
              "      <td>Чем бы я ни занимался с 2014 года, когда решил...</td>\n",
              "      <td>Продвижение бренда\\nПланирование маркетинговых...</td>\n",
              "      <td>Высшее, 2013, Санкт-Петербургский государствен...</td>\n",
              "      <td>28 февраля 2023 в 09:41</td>\n",
              "      <td>да</td>\n",
              "      <td>да</td>\n",
              "      <td>0.999253</td>\n",
              "      <td>0.000747</td>\n",
              "    </tr>\n",
              "    <tr>\n",
              "      <th>3</th>\n",
              "      <td>2023-01-11 00:00:00</td>\n",
              "      <td>Мужчина, 32 года, родился 7 декабря 1990</td>\n",
              "      <td>не указана</td>\n",
              "      <td>Growth Product Manager</td>\n",
              "      <td>Москва, м. Молодежная, Хочу переехать, готов к...</td>\n",
              "      <td>стажировка, частичная занятость, полная занятость</td>\n",
              "      <td>удаленная работа, гибкий график, полный день</td>\n",
              "      <td>Опыт работы —8 лет 10 месяцев</td>\n",
              "      <td>WeInvest</td>\n",
              "      <td>Product Manager (team leader)</td>\n",
              "      <td>1. Исследование рынка\\n2. Определение целевой ...</td>\n",
              "      <td>Я проактивный, коммуникабельный, позитивный, д...</td>\n",
              "      <td>Управление проектами\\nОрганизаторские навыки\\n...</td>\n",
              "      <td>Магистр, 2014, Московский государственный техн...</td>\n",
              "      <td>24 января 2023 в 12:07</td>\n",
              "      <td>да</td>\n",
              "      <td>нет</td>\n",
              "      <td>0.002273</td>\n",
              "      <td>0.997727</td>\n",
              "    </tr>\n",
              "    <tr>\n",
              "      <th>4</th>\n",
              "      <td>2023-01-11 00:00:00</td>\n",
              "      <td>Мужчина, 26 лет, родился 21 февраля 1996</td>\n",
              "      <td>150 000 руб.</td>\n",
              "      <td>Growth Product Manager</td>\n",
              "      <td>Пермь, Хочу переехать, готов к командировкам</td>\n",
              "      <td>проектная работа, частичная занятость, полная ...</td>\n",
              "      <td>удаленная работа, гибкий график, полный день</td>\n",
              "      <td>Опыт работы —5 лет 9 месяцев</td>\n",
              "      <td>Индивидуальное предпринимательство / частная п...</td>\n",
              "      <td>Product/Project manager</td>\n",
              "      <td>Переговоры со стейкхолдером\\n- Составление ТЗ...</td>\n",
              "      <td>Набрал кучу опыта и хочу с ним найти классную ...</td>\n",
              "      <td>Управление персоналом\\nЗаключение договоров\\nА...</td>\n",
              "      <td>Высшее, 2021, Российская академия народного хо...</td>\n",
              "      <td>6 февраля 2023 в 11:18</td>\n",
              "      <td>да</td>\n",
              "      <td>нет</td>\n",
              "      <td>0.004218</td>\n",
              "      <td>0.995782</td>\n",
              "    </tr>\n",
              "  </tbody>\n",
              "</table>\n",
              "</div>\n",
              "      <button class=\"colab-df-convert\" onclick=\"convertToInteractive('df-4f672067-0110-43e0-ad7f-03c1100ba107')\"\n",
              "              title=\"Convert this dataframe to an interactive table.\"\n",
              "              style=\"display:none;\">\n",
              "\n",
              "  <svg xmlns=\"http://www.w3.org/2000/svg\" height=\"24px\"viewBox=\"0 0 24 24\"\n",
              "       width=\"24px\">\n",
              "    <path d=\"M0 0h24v24H0V0z\" fill=\"none\"/>\n",
              "    <path d=\"M18.56 5.44l.94 2.06.94-2.06 2.06-.94-2.06-.94-.94-2.06-.94 2.06-2.06.94zm-11 1L8.5 8.5l.94-2.06 2.06-.94-2.06-.94L8.5 2.5l-.94 2.06-2.06.94zm10 10l.94 2.06.94-2.06 2.06-.94-2.06-.94-.94-2.06-.94 2.06-2.06.94z\"/><path d=\"M17.41 7.96l-1.37-1.37c-.4-.4-.92-.59-1.43-.59-.52 0-1.04.2-1.43.59L10.3 9.45l-7.72 7.72c-.78.78-.78 2.05 0 2.83L4 21.41c.39.39.9.59 1.41.59.51 0 1.02-.2 1.41-.59l7.78-7.78 2.81-2.81c.8-.78.8-2.07 0-2.86zM5.41 20L4 18.59l7.72-7.72 1.47 1.35L5.41 20z\"/>\n",
              "  </svg>\n",
              "      </button>\n",
              "\n",
              "\n",
              "\n",
              "    <div id=\"df-20fdab9c-0399-48ba-aab2-a31391c110c4\">\n",
              "      <button class=\"colab-df-quickchart\" onclick=\"quickchart('df-20fdab9c-0399-48ba-aab2-a31391c110c4')\"\n",
              "              title=\"Suggest charts.\"\n",
              "              style=\"display:none;\">\n",
              "\n",
              "<svg xmlns=\"http://www.w3.org/2000/svg\" height=\"24px\"viewBox=\"0 0 24 24\"\n",
              "     width=\"24px\">\n",
              "    <g>\n",
              "        <path d=\"M19 3H5c-1.1 0-2 .9-2 2v14c0 1.1.9 2 2 2h14c1.1 0 2-.9 2-2V5c0-1.1-.9-2-2-2zM9 17H7v-7h2v7zm4 0h-2V7h2v10zm4 0h-2v-4h2v4z\"/>\n",
              "    </g>\n",
              "</svg>\n",
              "      </button>\n",
              "    </div>\n",
              "\n",
              "<style>\n",
              "  .colab-df-quickchart {\n",
              "    background-color: #E8F0FE;\n",
              "    border: none;\n",
              "    border-radius: 50%;\n",
              "    cursor: pointer;\n",
              "    display: none;\n",
              "    fill: #1967D2;\n",
              "    height: 32px;\n",
              "    padding: 0 0 0 0;\n",
              "    width: 32px;\n",
              "  }\n",
              "\n",
              "  .colab-df-quickchart:hover {\n",
              "    background-color: #E2EBFA;\n",
              "    box-shadow: 0px 1px 2px rgba(60, 64, 67, 0.3), 0px 1px 3px 1px rgba(60, 64, 67, 0.15);\n",
              "    fill: #174EA6;\n",
              "  }\n",
              "\n",
              "  [theme=dark] .colab-df-quickchart {\n",
              "    background-color: #3B4455;\n",
              "    fill: #D2E3FC;\n",
              "  }\n",
              "\n",
              "  [theme=dark] .colab-df-quickchart:hover {\n",
              "    background-color: #434B5C;\n",
              "    box-shadow: 0px 1px 3px 1px rgba(0, 0, 0, 0.15);\n",
              "    filter: drop-shadow(0px 1px 2px rgba(0, 0, 0, 0.3));\n",
              "    fill: #FFFFFF;\n",
              "  }\n",
              "</style>\n",
              "\n",
              "    <script>\n",
              "      async function quickchart(key) {\n",
              "        const containerElement = document.querySelector('#' + key);\n",
              "        const charts = await google.colab.kernel.invokeFunction(\n",
              "            'suggestCharts', [key], {});\n",
              "      }\n",
              "    </script>\n",
              "\n",
              "      <script>\n",
              "\n",
              "function displayQuickchartButton(domScope) {\n",
              "  let quickchartButtonEl =\n",
              "    domScope.querySelector('#df-20fdab9c-0399-48ba-aab2-a31391c110c4 button.colab-df-quickchart');\n",
              "  quickchartButtonEl.style.display =\n",
              "    google.colab.kernel.accessAllowed ? 'block' : 'none';\n",
              "}\n",
              "\n",
              "        displayQuickchartButton(document);\n",
              "      </script>\n",
              "      <style>\n",
              "    .colab-df-container {\n",
              "      display:flex;\n",
              "      flex-wrap:wrap;\n",
              "      gap: 12px;\n",
              "    }\n",
              "\n",
              "    .colab-df-convert {\n",
              "      background-color: #E8F0FE;\n",
              "      border: none;\n",
              "      border-radius: 50%;\n",
              "      cursor: pointer;\n",
              "      display: none;\n",
              "      fill: #1967D2;\n",
              "      height: 32px;\n",
              "      padding: 0 0 0 0;\n",
              "      width: 32px;\n",
              "    }\n",
              "\n",
              "    .colab-df-convert:hover {\n",
              "      background-color: #E2EBFA;\n",
              "      box-shadow: 0px 1px 2px rgba(60, 64, 67, 0.3), 0px 1px 3px 1px rgba(60, 64, 67, 0.15);\n",
              "      fill: #174EA6;\n",
              "    }\n",
              "\n",
              "    [theme=dark] .colab-df-convert {\n",
              "      background-color: #3B4455;\n",
              "      fill: #D2E3FC;\n",
              "    }\n",
              "\n",
              "    [theme=dark] .colab-df-convert:hover {\n",
              "      background-color: #434B5C;\n",
              "      box-shadow: 0px 1px 3px 1px rgba(0, 0, 0, 0.15);\n",
              "      filter: drop-shadow(0px 1px 2px rgba(0, 0, 0, 0.3));\n",
              "      fill: #FFFFFF;\n",
              "    }\n",
              "  </style>\n",
              "\n",
              "      <script>\n",
              "        const buttonEl =\n",
              "          document.querySelector('#df-4f672067-0110-43e0-ad7f-03c1100ba107 button.colab-df-convert');\n",
              "        buttonEl.style.display =\n",
              "          google.colab.kernel.accessAllowed ? 'block' : 'none';\n",
              "\n",
              "        async function convertToInteractive(key) {\n",
              "          const element = document.querySelector('#df-4f672067-0110-43e0-ad7f-03c1100ba107');\n",
              "          const dataTable =\n",
              "            await google.colab.kernel.invokeFunction('convertToInteractive',\n",
              "                                                     [key], {});\n",
              "          if (!dataTable) return;\n",
              "\n",
              "          const docLinkHtml = 'Like what you see? Visit the ' +\n",
              "            '<a target=\"_blank\" href=https://colab.research.google.com/notebooks/data_table.ipynb>data table notebook</a>'\n",
              "            + ' to learn more about interactive tables.';\n",
              "          element.innerHTML = '';\n",
              "          dataTable['output_type'] = 'display_data';\n",
              "          await google.colab.output.renderOutput(dataTable, element);\n",
              "          const docLink = document.createElement('div');\n",
              "          docLink.innerHTML = docLinkHtml;\n",
              "          element.appendChild(docLink);\n",
              "        }\n",
              "      </script>\n",
              "    </div>\n",
              "  </div>\n"
            ]
          },
          "metadata": {},
          "execution_count": 10
        }
      ]
    }
  ]
}