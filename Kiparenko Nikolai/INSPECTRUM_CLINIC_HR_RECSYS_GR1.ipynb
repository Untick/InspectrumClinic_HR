{
  "nbformat": 4,
  "nbformat_minor": 0,
  "metadata": {
    "colab": {
      "provenance": [],
      "include_colab_link": true
    },
    "kernelspec": {
      "name": "python3",
      "display_name": "Python 3"
    },
    "language_info": {
      "name": "python"
    }
  },
  "cells": [
    {
      "cell_type": "markdown",
      "metadata": {
        "id": "view-in-github",
        "colab_type": "text"
      },
      "source": [
        "<a href=\"https://colab.research.google.com/github/Untick/InspectrumClinic_HR_gr1/blob/Kiparenko-Nikolai-folder/Kiparenko%20Nikolai/INSPECTRUM_CLINIC_HR_RECSYS_GR1.ipynb\" target=\"_parent\"><img src=\"https://colab.research.google.com/assets/colab-badge.svg\" alt=\"Open In Colab\"/></a>"
      ]
    },
    {
      "cell_type": "code",
      "execution_count": null,
      "metadata": {
        "id": "R6mOzJV8gx-V"
      },
      "outputs": [],
      "source": [
        "# Работа с массивами данных\n",
        "import numpy as np \n",
        "\n",
        "# Работа с таблицами\n",
        "import pandas as pd\n",
        "\n",
        "# Функции-утилиты для работы с категориальными данными\n",
        "from tensorflow.keras import utils\n",
        "\n",
        "# Класс для конструирования последовательной модели нейронной сети\n",
        "from tensorflow.keras.models import Sequential\n",
        "\n",
        "# Основные слои\n",
        "from tensorflow.keras.layers import Dense, Dropout, SpatialDropout1D, BatchNormalization, Embedding, Flatten, Activation, ReLU \n",
        "\n",
        "# Токенизатор для преобразование текстов в последовательности\n",
        "from tensorflow.keras.preprocessing.text import Tokenizer\n",
        "\n",
        "# Заполнение последовательностей до определенной длины\n",
        "from tensorflow.keras.preprocessing.sequence import pad_sequences\n",
        "\n",
        "# Матрица ошибок классификатора\n",
        "from sklearn.metrics import confusion_matrix, ConfusionMatrixDisplay\n",
        "\n",
        "# Кодирование тестовых меток\n",
        "from sklearn.preprocessing import LabelEncoder\n",
        "\n",
        "# Разбиение на тренировочную и тестовую выборки\n",
        "from sklearn.model_selection import train_test_split\n",
        "\n",
        "# автоматически парсит строку и сохранит ее в переменной datetime\n",
        "import datetime\n",
        "\n",
        "# Загрузка датасетов из облака google\n",
        "import gdown\n",
        "\n",
        "# Функции операционной системы\n",
        "import os\n",
        "\n",
        "# Работа со временем\n",
        "import time\n",
        "\n",
        "# Регулярные выражения\n",
        "import re\n",
        "\n",
        "# Запись в файлы и чтение из файлов структур данных Python\n",
        "import pickle\n",
        "\n",
        "# Отрисовка графиков\n",
        "import matplotlib.pyplot as plt\n",
        "\n",
        "\n",
        "%matplotlib inline"
      ]
    },
    {
      "cell_type": "code",
      "source": [
        "import gdown                                      # Подключим функцию gdown\n",
        "#Грузим файл\n",
        "gdown.download('https://storage.yandexcloud.net/terratraineeship/23_InspectrumClinic_HR/datasets/%D0%94%D0%B0%D1%82%D0%B0%D0%A1%D0%B5%D1%82%20%D0%9E%D1%86%D0%B5%D0%BD%D0%BA%D0%B0%20%D1%80%D0%B5%D0%B7%D1%8E%D0%BC%D0%B5%20581%20%D1%80%D0%B5%D0%B7%D1%8E%D0%BC%D0%B5.xlsx','dataS.xlsx', quiet=True)   "
      ],
      "metadata": {
        "colab": {
          "base_uri": "https://localhost:8080/",
          "height": 35
        },
        "id": "o8Ni5OQchA1s",
        "outputId": "825fad11-afe2-4009-86c6-abb7437d0051"
      },
      "execution_count": null,
      "outputs": [
        {
          "output_type": "execute_result",
          "data": {
            "text/plain": [
              "'dataS.xlsx'"
            ],
            "application/vnd.google.colaboratory.intrinsic+json": {
              "type": "string"
            }
          },
          "metadata": {},
          "execution_count": 2
        }
      ]
    },
    {
      "cell_type": "code",
      "source": [
        "#Читаем файл\n",
        "data = pd.read_excel (r'dataS.xlsx', index_col=0)\n",
        "data.max_columns = 30\n",
        "data.columns = ['Response_date', 'Full_name', 'Gender', 'Salary', 'Job', 'City', 'Employment', 'Schedule', 'Experience', 'Last_place', 'Position', 'Education', 'Update_resume', 'Suitable']"
      ],
      "metadata": {
        "id": "eMwgZ7cdhTWL"
      },
      "execution_count": null,
      "outputs": []
    },
    {
      "cell_type": "code",
      "source": [
        "data.head(5)"
      ],
      "metadata": {
        "id": "oNKjYCqOvrqd",
        "colab": {
          "base_uri": "https://localhost:8080/",
          "height": 582
        },
        "outputId": "32b04878-c003-40d9-bf15-c8d0f19edf0a"
      },
      "execution_count": null,
      "outputs": [
        {
          "output_type": "execute_result",
          "data": {
            "text/plain": [
              "  Response_date                        Full_name Gender  Salary  \\\n",
              "0    1684859882                 Bessonova Mariya      0   90000   \n",
              "1    1684859882  Ефремова Екатерина Вячеславовна      0       0   \n",
              "2    1684859882          Фролов Артур Михайлович      1  150000   \n",
              "3    1684859882         Хозаев Расул Шагаманович      1       0   \n",
              "4    1684859882           Шадрин Олег Михайлович      1  150000   \n",
              "\n",
              "                      Job                                               City  \\\n",
              "0  Growth Product Manager  Индонезия, Не готова к переезду, не готова к к...   \n",
              "1  Growth Product Manager  Москва, Готова к переезду, готова к командировкам   \n",
              "2  Growth Product Manager  Санкт-Петербург, Готов к переезду: Москва, гот...   \n",
              "3  Growth Product Manager  Москва, м. Молодежная, Хочу переехать, готов к...   \n",
              "4  Growth Product Manager       Пермь, Хочу переехать, готов к командировкам   \n",
              "\n",
              "  Employment Schedule Experience  \\\n",
              "0    0, 4, 3        1         70   \n",
              "1          3  1, 2, 3        143   \n",
              "2    0, 4, 3  1, 2, 3         86   \n",
              "3    5, 4, 3  1, 2, 3        106   \n",
              "4    0, 4, 3  1, 2, 3         69   \n",
              "\n",
              "                                          Last_place  \\\n",
              "0                                PT MYBALI APP GROUP   \n",
              "1                                      Банк Открытие   \n",
              "2                                          DIKIY LLC   \n",
              "3                                           WeInvest   \n",
              "4  Индивидуальное предпринимательство / частная п...   \n",
              "\n",
              "                                      Position  \\\n",
              "0                         Менеджер по продукту   \n",
              "1  Product owner трайб сбережения и инвестиции   \n",
              "2      Директор по маркетингу и бренд-менеджер   \n",
              "3                Product Manager (team leader)   \n",
              "4                      Product/Project manager   \n",
              "\n",
              "                                           Education Update_resume Suitable  \\\n",
              "0  Высшее, 2023, Нетоло́гия, 2014, Университет Ро...    1684859882       да   \n",
              "1  Высшее, 2022, GeekBrains, 2010, Московский худ...    1684859882       да   \n",
              "2  Высшее, 2013, Санкт-Петербургский государствен...    1684859882       да   \n",
              "3  Магистр, 2014, Московский государственный техн...    1684859882       да   \n",
              "4  Высшее, 2021, Российская академия народного хо...    1684859882       да   \n",
              "\n",
              "        Birth Age DegreeOfStudy YearOfGraduation  \n",
              "0  1684859882   0        Высшее             2023  \n",
              "1  1684859882   0        Высшее             2022  \n",
              "2  1684859882  33        Высшее             2013  \n",
              "3  1684859882  32       Магистр             2014  \n",
              "4  1684859882  26        Высшее             2021  "
            ],
            "text/html": [
              "\n",
              "  <div id=\"df-5080f666-b20c-4530-8f17-7280ccb8e0ce\">\n",
              "    <div class=\"colab-df-container\">\n",
              "      <div>\n",
              "<style scoped>\n",
              "    .dataframe tbody tr th:only-of-type {\n",
              "        vertical-align: middle;\n",
              "    }\n",
              "\n",
              "    .dataframe tbody tr th {\n",
              "        vertical-align: top;\n",
              "    }\n",
              "\n",
              "    .dataframe thead th {\n",
              "        text-align: right;\n",
              "    }\n",
              "</style>\n",
              "<table border=\"1\" class=\"dataframe\">\n",
              "  <thead>\n",
              "    <tr style=\"text-align: right;\">\n",
              "      <th></th>\n",
              "      <th>Response_date</th>\n",
              "      <th>Full_name</th>\n",
              "      <th>Gender</th>\n",
              "      <th>Salary</th>\n",
              "      <th>Job</th>\n",
              "      <th>City</th>\n",
              "      <th>Employment</th>\n",
              "      <th>Schedule</th>\n",
              "      <th>Experience</th>\n",
              "      <th>Last_place</th>\n",
              "      <th>Position</th>\n",
              "      <th>Education</th>\n",
              "      <th>Update_resume</th>\n",
              "      <th>Suitable</th>\n",
              "      <th>Birth</th>\n",
              "      <th>Age</th>\n",
              "      <th>DegreeOfStudy</th>\n",
              "      <th>YearOfGraduation</th>\n",
              "    </tr>\n",
              "  </thead>\n",
              "  <tbody>\n",
              "    <tr>\n",
              "      <th>0</th>\n",
              "      <td>1684859882</td>\n",
              "      <td>Bessonova Mariya</td>\n",
              "      <td>0</td>\n",
              "      <td>90000</td>\n",
              "      <td>Growth Product Manager</td>\n",
              "      <td>Индонезия, Не готова к переезду, не готова к к...</td>\n",
              "      <td>0, 4, 3</td>\n",
              "      <td>1</td>\n",
              "      <td>70</td>\n",
              "      <td>PT MYBALI APP GROUP</td>\n",
              "      <td>Менеджер по продукту</td>\n",
              "      <td>Высшее, 2023, Нетоло́гия, 2014, Университет Ро...</td>\n",
              "      <td>1684859882</td>\n",
              "      <td>да</td>\n",
              "      <td>1684859882</td>\n",
              "      <td>0</td>\n",
              "      <td>Высшее</td>\n",
              "      <td>2023</td>\n",
              "    </tr>\n",
              "    <tr>\n",
              "      <th>1</th>\n",
              "      <td>1684859882</td>\n",
              "      <td>Ефремова Екатерина Вячеславовна</td>\n",
              "      <td>0</td>\n",
              "      <td>0</td>\n",
              "      <td>Growth Product Manager</td>\n",
              "      <td>Москва, Готова к переезду, готова к командировкам</td>\n",
              "      <td>3</td>\n",
              "      <td>1, 2, 3</td>\n",
              "      <td>143</td>\n",
              "      <td>Банк Открытие</td>\n",
              "      <td>Product owner трайб сбережения и инвестиции</td>\n",
              "      <td>Высшее, 2022, GeekBrains, 2010, Московский худ...</td>\n",
              "      <td>1684859882</td>\n",
              "      <td>да</td>\n",
              "      <td>1684859882</td>\n",
              "      <td>0</td>\n",
              "      <td>Высшее</td>\n",
              "      <td>2022</td>\n",
              "    </tr>\n",
              "    <tr>\n",
              "      <th>2</th>\n",
              "      <td>1684859882</td>\n",
              "      <td>Фролов Артур Михайлович</td>\n",
              "      <td>1</td>\n",
              "      <td>150000</td>\n",
              "      <td>Growth Product Manager</td>\n",
              "      <td>Санкт-Петербург, Готов к переезду: Москва, гот...</td>\n",
              "      <td>0, 4, 3</td>\n",
              "      <td>1, 2, 3</td>\n",
              "      <td>86</td>\n",
              "      <td>DIKIY LLC</td>\n",
              "      <td>Директор по маркетингу и бренд-менеджер</td>\n",
              "      <td>Высшее, 2013, Санкт-Петербургский государствен...</td>\n",
              "      <td>1684859882</td>\n",
              "      <td>да</td>\n",
              "      <td>1684859882</td>\n",
              "      <td>33</td>\n",
              "      <td>Высшее</td>\n",
              "      <td>2013</td>\n",
              "    </tr>\n",
              "    <tr>\n",
              "      <th>3</th>\n",
              "      <td>1684859882</td>\n",
              "      <td>Хозаев Расул Шагаманович</td>\n",
              "      <td>1</td>\n",
              "      <td>0</td>\n",
              "      <td>Growth Product Manager</td>\n",
              "      <td>Москва, м. Молодежная, Хочу переехать, готов к...</td>\n",
              "      <td>5, 4, 3</td>\n",
              "      <td>1, 2, 3</td>\n",
              "      <td>106</td>\n",
              "      <td>WeInvest</td>\n",
              "      <td>Product Manager (team leader)</td>\n",
              "      <td>Магистр, 2014, Московский государственный техн...</td>\n",
              "      <td>1684859882</td>\n",
              "      <td>да</td>\n",
              "      <td>1684859882</td>\n",
              "      <td>32</td>\n",
              "      <td>Магистр</td>\n",
              "      <td>2014</td>\n",
              "    </tr>\n",
              "    <tr>\n",
              "      <th>4</th>\n",
              "      <td>1684859882</td>\n",
              "      <td>Шадрин Олег Михайлович</td>\n",
              "      <td>1</td>\n",
              "      <td>150000</td>\n",
              "      <td>Growth Product Manager</td>\n",
              "      <td>Пермь, Хочу переехать, готов к командировкам</td>\n",
              "      <td>0, 4, 3</td>\n",
              "      <td>1, 2, 3</td>\n",
              "      <td>69</td>\n",
              "      <td>Индивидуальное предпринимательство / частная п...</td>\n",
              "      <td>Product/Project manager</td>\n",
              "      <td>Высшее, 2021, Российская академия народного хо...</td>\n",
              "      <td>1684859882</td>\n",
              "      <td>да</td>\n",
              "      <td>1684859882</td>\n",
              "      <td>26</td>\n",
              "      <td>Высшее</td>\n",
              "      <td>2021</td>\n",
              "    </tr>\n",
              "  </tbody>\n",
              "</table>\n",
              "</div>\n",
              "      <button class=\"colab-df-convert\" onclick=\"convertToInteractive('df-5080f666-b20c-4530-8f17-7280ccb8e0ce')\"\n",
              "              title=\"Convert this dataframe to an interactive table.\"\n",
              "              style=\"display:none;\">\n",
              "        \n",
              "  <svg xmlns=\"http://www.w3.org/2000/svg\" height=\"24px\"viewBox=\"0 0 24 24\"\n",
              "       width=\"24px\">\n",
              "    <path d=\"M0 0h24v24H0V0z\" fill=\"none\"/>\n",
              "    <path d=\"M18.56 5.44l.94 2.06.94-2.06 2.06-.94-2.06-.94-.94-2.06-.94 2.06-2.06.94zm-11 1L8.5 8.5l.94-2.06 2.06-.94-2.06-.94L8.5 2.5l-.94 2.06-2.06.94zm10 10l.94 2.06.94-2.06 2.06-.94-2.06-.94-.94-2.06-.94 2.06-2.06.94z\"/><path d=\"M17.41 7.96l-1.37-1.37c-.4-.4-.92-.59-1.43-.59-.52 0-1.04.2-1.43.59L10.3 9.45l-7.72 7.72c-.78.78-.78 2.05 0 2.83L4 21.41c.39.39.9.59 1.41.59.51 0 1.02-.2 1.41-.59l7.78-7.78 2.81-2.81c.8-.78.8-2.07 0-2.86zM5.41 20L4 18.59l7.72-7.72 1.47 1.35L5.41 20z\"/>\n",
              "  </svg>\n",
              "      </button>\n",
              "      \n",
              "  <style>\n",
              "    .colab-df-container {\n",
              "      display:flex;\n",
              "      flex-wrap:wrap;\n",
              "      gap: 12px;\n",
              "    }\n",
              "\n",
              "    .colab-df-convert {\n",
              "      background-color: #E8F0FE;\n",
              "      border: none;\n",
              "      border-radius: 50%;\n",
              "      cursor: pointer;\n",
              "      display: none;\n",
              "      fill: #1967D2;\n",
              "      height: 32px;\n",
              "      padding: 0 0 0 0;\n",
              "      width: 32px;\n",
              "    }\n",
              "\n",
              "    .colab-df-convert:hover {\n",
              "      background-color: #E2EBFA;\n",
              "      box-shadow: 0px 1px 2px rgba(60, 64, 67, 0.3), 0px 1px 3px 1px rgba(60, 64, 67, 0.15);\n",
              "      fill: #174EA6;\n",
              "    }\n",
              "\n",
              "    [theme=dark] .colab-df-convert {\n",
              "      background-color: #3B4455;\n",
              "      fill: #D2E3FC;\n",
              "    }\n",
              "\n",
              "    [theme=dark] .colab-df-convert:hover {\n",
              "      background-color: #434B5C;\n",
              "      box-shadow: 0px 1px 3px 1px rgba(0, 0, 0, 0.15);\n",
              "      filter: drop-shadow(0px 1px 2px rgba(0, 0, 0, 0.3));\n",
              "      fill: #FFFFFF;\n",
              "    }\n",
              "  </style>\n",
              "\n",
              "      <script>\n",
              "        const buttonEl =\n",
              "          document.querySelector('#df-5080f666-b20c-4530-8f17-7280ccb8e0ce button.colab-df-convert');\n",
              "        buttonEl.style.display =\n",
              "          google.colab.kernel.accessAllowed ? 'block' : 'none';\n",
              "\n",
              "        async function convertToInteractive(key) {\n",
              "          const element = document.querySelector('#df-5080f666-b20c-4530-8f17-7280ccb8e0ce');\n",
              "          const dataTable =\n",
              "            await google.colab.kernel.invokeFunction('convertToInteractive',\n",
              "                                                     [key], {});\n",
              "          if (!dataTable) return;\n",
              "\n",
              "          const docLinkHtml = 'Like what you see? Visit the ' +\n",
              "            '<a target=\"_blank\" href=https://colab.research.google.com/notebooks/data_table.ipynb>data table notebook</a>'\n",
              "            + ' to learn more about interactive tables.';\n",
              "          element.innerHTML = '';\n",
              "          dataTable['output_type'] = 'display_data';\n",
              "          await google.colab.output.renderOutput(dataTable, element);\n",
              "          const docLink = document.createElement('div');\n",
              "          docLink.innerHTML = docLinkHtml;\n",
              "          element.appendChild(docLink);\n",
              "        }\n",
              "      </script>\n",
              "    </div>\n",
              "  </div>\n",
              "  "
            ]
          },
          "metadata": {},
          "execution_count": 9
        }
      ]
    },
    {
      "cell_type": "code",
      "source": [
        "#Разбираем Дату раждения\n",
        "Birth = data['Gender'].apply(lambda x: x.split(',')[2].strip() if len(x.split(','))>2 else '')\n",
        "data = data.assign(Birth=Birth)\n",
        "#Разбираем Возраст\n",
        "Age = data['Gender'].apply(lambda x: x.split(',')[1].strip() if len(x.split(','))>1 else '')\n",
        "data = data.assign(Age=Age)"
      ],
      "metadata": {
        "id": "xNucmkht_jEl"
      },
      "execution_count": null,
      "outputs": []
    },
    {
      "cell_type": "code",
      "source": [
        "#Тип образования\n",
        "DegreeOfStudy = data['Education'].apply(lambda x: x.split(',')[0].strip() if len(x.split(','))>1 else '')\n",
        "data = data.assign(DegreeOfStudy=DegreeOfStudy)\n",
        "#Год окончания образования\n",
        "YearOfGraduation = data['Education'].apply(lambda x: x.split(',')[1].strip() if len(x.split(','))>1 else '')\n",
        "data = data.assign(YearOfGraduation=YearOfGraduation)"
      ],
      "metadata": {
        "id": "XbuUBvI2b8DH"
      },
      "execution_count": null,
      "outputs": []
    },
    {
      "cell_type": "code",
      "source": [
        "#Формируем список месяцев\n",
        "month_name = {1: 'января', 2: 'февраля', 3: 'марта', 4: 'апреля', 5: 'мая', 6: 'июня',\n",
        "      7: 'июля', 8: 'августа', 9: 'сентября', 10: 'октября', 11: 'ноября', 12: 'декабря'}\n"
      ],
      "metadata": {
        "id": "5aMKziDaxYoP"
      },
      "execution_count": null,
      "outputs": []
    },
    {
      "cell_type": "code",
      "source": [
        "for i, row in data.iterrows():\n",
        "  #Gender\n",
        "  row.Gender = row.Gender.split(',')[0].strip() \n",
        "  #Женщина = 0, Мужчина = 1\n",
        "  row.Gender = row.Gender.replace('Женщина','0')\n",
        "  row.Gender = row.Gender.replace('Мужчина','1')\n",
        "  row.Gender = int(row.Gender)\n",
        "\n",
        "  #Birth\n",
        "  row.Birth = row.Birth.replace('родился','')\n",
        "  row.Birth = row.Birth.replace('родилась','')\n",
        " \n",
        "  #Age\n",
        "  row.Age = row.Age.replace('года','')\n",
        "  row.Age = row.Age.replace('год','')\n",
        "  row.Age = row.Age.replace('лет','')\n",
        "  row.Age = row.Age='' if 0 else row.Age\n",
        "\n",
        "  try:\n",
        "    row.Age = int(row.Age)\n",
        "  except (IndexError, TypeError, ValueError):\n",
        "    print(row.Age)\n",
        "    row.Age = 0\n",
        "\n",
        "  try:\n",
        "      row.YearOfGraduation = int(row.YearOfGraduation)\n",
        "  except (IndexError, TypeError, ValueError):\n",
        "      print(row.YearOfGraduation)\n",
        "      row.YearOfGraduation = 0\n",
        "\n",
        "  #Salary\n",
        "  row.Salary = row.Salary.replace(' ','') \n",
        "  row.Salary = str(float(row.Salary.replace('KGS',''))*0.89)      if row.Salary.find('KGS') != -1 else row.Salary\n",
        "  row.Salary = str(float(row.Salary.replace('KZT',''))*0.18)      if row.Salary.find('KZT') != -1 else row.Salary\n",
        "  row.Salary = str(float(row.Salary.replace('USD',''))*78.00)     if row.Salary.find('USD') != -1 else row.Salary\n",
        "  row.Salary = str(float(row.Salary.replace('EUR',''))*85.00)     if row.Salary.find('EUR') != -1 else row.Salary\n",
        "  row.Salary = row.Salary.replace('руб.','')\n",
        "  row.Salary = row.Salary.replace('руб','')\n",
        "  row.Salary = row.Salary.replace('неуказана','0')\n",
        "  row.Salary = int(float(row.Salary)) \n",
        "\n",
        "  #Experience\n",
        "  row.Experience = row.Experience.replace('Опыт работы —','')\n",
        "  row.Experience = row.Experience.replace('Опыт работы','')\n",
        "  row.Experience = row.Experience.replace('года',';')\n",
        "  row.Experience = row.Experience.replace('лет',';')\n",
        "  row.Experience = row.Experience.replace('годов',';')\n",
        "  row.Experience = row.Experience.replace('год',';')\n",
        "  row.Experience = row.Experience.replace('года',';')\n",
        "  row.Experience = row.Experience.replace('месяцев','')\n",
        "  row.Experience = row.Experience.replace('месяца','')\n",
        "  row.Experience = row.Experience.replace('месяц','')\n",
        "  row.Experience = row.Experience.replace('нет','0')\n",
        "  #Приводим к месяцам, если были года умножаем на 12 иначе берем как есть \n",
        "  row.Experience = (int(row.Experience.split(';')[0].strip()) * 12 + (int(row.Experience.split(';')[1].strip())) if row.Experience.split(';')[1].strip() != '' else int(row.Experience.split(';')[0].strip()) * 12) if len(row.Experience.split(';')) >1 else int(row.Experience.strip()) \n",
        "\n",
        "  #Schedule\n",
        "  #вахтовый метод = 0, удаленная работа = 1, гибкий график = 2, полный день = 3, сменный график = 4\n",
        "  row.Schedule = row.Schedule.replace('вахтовый метод','0')\n",
        "  row.Schedule = row.Schedule.replace('удаленная работа','1')\n",
        "  row.Schedule = row.Schedule.replace('гибкий график','2')\n",
        "  row.Schedule = row.Schedule.replace('полный день','3')\n",
        "  row.Schedule = row.Schedule.replace('сменный график','4')\n",
        "\n",
        "  #Employment\n",
        "  #проектная работа = 0, неполный рабочий день = 1, полный рабочий день = 2, полная занятость = 3, частичная занятость = 4, стажировка = 5, волонтерство = 6\n",
        "  row.Employment = row.Employment.replace('проектная работа','0')\n",
        "  row.Employment = row.Employment.replace('неполный рабочий день','1')\n",
        "  row.Employment = row.Employment.replace('полный рабочий день','2')\n",
        "  row.Employment = row.Employment.replace('полная занятость','3')\n",
        "  row.Employment = row.Employment.replace('частичная занятость','4')\n",
        "  row.Employment = row.Employment.replace('стажировка','5')\n",
        "  row.Employment = row.Employment.replace('волонтерство','6')\n",
        "\n",
        "  #Birth\n",
        "  for i in month_name:\n",
        "     row.Birth         = row.Birth.replace(month_name[i],'-'+str(i)+'-')\n",
        " \n",
        "  row.Birth         = row.Birth.replace('родился','')\n",
        "  row.Birth         = row.Birth.replace('родилась','')\n",
        "  row.Birth         = row.Birth.replace(' -','-')\n",
        "  row.Birth         = row.Birth.replace('- ','-')\n",
        "  row.Birth         = row.Birth+' 00:00:00'\n",
        "\n",
        "  row.Birth = '1-1-1' +row.Birth if row.Birth == ' 00:00:00' else row.Birth\n",
        "  day = int(row.Birth.split('-')[0].strip()) \n",
        "  month = int(row.Birth.split('-')[1].strip()) \n",
        "  year = row.Birth.split('-')[2].strip() \n",
        "  time = year.split(' ')[1].strip()\n",
        "  year = int(year.split(' ')[0].strip())\n",
        "\n",
        "  row.Birth = int(datetime.datetime(year,month,day).utcnow().timestamp())\n",
        "\n",
        "  #Update_resume \n",
        "  for i in month_name:\n",
        "    row.Update_resume = row.Update_resume.replace(month_name[i],'-'+str(i)+'-')\n",
        " \n",
        "  row.Update_resume = row.Update_resume.replace('в','')\n",
        "  row.Update_resume = row.Update_resume.replace(' -','-')\n",
        "  row.Update_resume = row.Update_resume.replace('- ','-')\n",
        "  row.Update_resume = row.Update_resume+':00'\n",
        "\n",
        "  day = int(row.Update_resume.split('-')[0].strip()) \n",
        "  month = int(row.Update_resume.split('-')[1].strip()) \n",
        "  year = row.Update_resume.split('-')[2].strip() \n",
        "  year = year.replace('  ',';')\n",
        "  year = year.replace(' ',';')\n",
        "   \n",
        "  time = year.split(';')[1].strip()\n",
        "  year = int(year.split(';')[0].strip())\n",
        "  hour = int(time.split(':')[0].strip())\n",
        "  minute = int(time.split(':')[1].strip())\n",
        "\n",
        "  row.Update_resume = int(datetime.datetime(year,month,day,hour,minute,0).utcnow().timestamp())\n",
        "\n",
        "  #Response_date\n",
        "  row.Response_date = int(datetime.datetime.utcnow().timestamp())"
      ],
      "metadata": {
        "id": "ON5Mqr555m-i"
      },
      "execution_count": null,
      "outputs": []
    },
    {
      "cell_type": "code",
      "source": [
        "#Переведем в бинарные значения\n",
        "\n",
        "#проектная работа = 0, неполный рабочий день = 1, полный рабочий день = 2, полная занятость = 3, частичная занятость = 4, стажировка = 5, волонтерство = 6\n",
        "Employment_0 = data['Employment'].apply(lambda x: 1 if x.find('0') else 0)\n",
        "Employment_1 = data['Employment'].apply(lambda x: 1 if x.find('1') else 0)\n",
        "Employment_2 = data['Employment'].apply(lambda x: 1 if x.find('2') else 0)\n",
        "Employment_3 = data['Employment'].apply(lambda x: 1 if x.find('3') else 0)\n",
        "Employment_4 = data['Employment'].apply(lambda x: 1 if x.find('4') else 0)\n",
        "Employment_5 = data['Employment'].apply(lambda x: 1 if x.find('5') else 0)\n",
        "Employment_6 = data['Employment'].apply(lambda x: 1 if x.find('6') else 0)\n",
        "\n",
        "data = data.assign(Employment_0=Employment_0,\n",
        "                    Employment_1=Employment_1,\n",
        "                    Employment_2=Employment_2,\n",
        "                    Employment_3=Employment_3,\n",
        "                    Employment_4=Employment_4,\n",
        "                    Employment_5=Employment_5,\n",
        "                    Employment_6=Employment_6)\n",
        "\n",
        "#вахтовый метод = 0, удаленная работа = 1, гибкий график = 2, полный день = 3, сменный график = 4\n",
        "Schedule_0 = data['Schedule'].apply(lambda x: 1 if x.find('0') else 0)\n",
        "Schedule_1 = data['Schedule'].apply(lambda x: 1 if x.find('1') else 0)\n",
        "Schedule_2 = data['Schedule'].apply(lambda x: 1 if x.find('2') else 0)\n",
        "Schedule_3 = data['Schedule'].apply(lambda x: 1 if x.find('3') else 0)\n",
        "Schedule_4 = data['Schedule'].apply(lambda x: 1 if x.find('4') else 0)\n",
        "\n",
        "data = data.assign(Schedule_0=Schedule_0,\n",
        "                    Schedule_1=Schedule_1,\n",
        "                    Schedule_2=Schedule_2,\n",
        "                    Schedule_3=Schedule_3,\n",
        "                    Schedule_4=Schedule_4)\n",
        "\n",
        "data = data.drop(columns=['Schedule', 'Employment'])"
      ],
      "metadata": {
        "id": "mIuf1lJLW1jh"
      },
      "execution_count": null,
      "outputs": []
    },
    {
      "cell_type": "code",
      "source": [
        "#City\n",
        "tokenizer = Tokenizer(num_words=30, filters='!\"#$%&()*+,-–—./…:;<=>?@[\\\\]^_`{|}~«»\\t\\n\\xa0\\ufeff', lower=True, split=' ', oov_token='неизвестное_слово', char_level=False)\n",
        "tokenizer.fit_on_texts(data.City) #\"скармливаем\" наши тексты, т.е даём в обработку методу, который соберет словарь частотности\n",
        "City_Indexes = tokenizer.texts_to_sequences(data.City)\n",
        "data = data.assign(City=City_Indexes)"
      ],
      "metadata": {
        "id": "huxjH3OyOf1K"
      },
      "execution_count": null,
      "outputs": []
    },
    {
      "cell_type": "code",
      "source": [
        "#Full_name\n",
        "tokenizer = Tokenizer(num_words=100, filters='!\"#$%&()*+,-–—./…:;<=>?@[\\\\]^_`{|}~«»\\t\\n\\xa0\\ufeff', lower=True, split=' ', oov_token='неизвестное_слово', char_level=False)\n",
        "tokenizer.fit_on_texts(data.Full_name)\n",
        "\n",
        "Full_name_Indexes = tokenizer.texts_to_sequences(data.Full_name) \n",
        "data = data.assign(Full_name=Full_name_Indexes)"
      ],
      "metadata": {
        "id": "2lv4hDhxSOMw"
      },
      "execution_count": null,
      "outputs": []
    },
    {
      "cell_type": "code",
      "source": [
        "#Education\n",
        "tokenizer = Tokenizer(num_words=200, filters='!\"#$%&()*+,-–—./…:;<=>?@[\\\\]^_`{|}~«»\\t\\n\\xa0\\ufeff', lower=True, split=' ', oov_token='неизвестное_слово', char_level=False)\n",
        "tokenizer.fit_on_texts(data.Education) #\"скармливаем\" наши тексты, т.е даём в обработку методу, который соберет словарь частотности\n",
        "\n",
        "Education_Indexes = tokenizer.texts_to_sequences(data.Education) \n",
        "data = data.assign(Education=Education_Indexes)"
      ],
      "metadata": {
        "id": "ahPNe_0WWPba"
      },
      "execution_count": null,
      "outputs": []
    },
    {
      "cell_type": "code",
      "source": [
        "#DegreeOfStudy\n",
        "tokenizer = Tokenizer(num_words=20, filters='!\"#$%&()*+,-–—./…:;<=>?@[\\\\]^_`{|}~«»\\t\\n\\xa0\\ufeff', lower=True, split=' ', oov_token='неизвестное_слово', char_level=False)\n",
        "tokenizer.fit_on_texts(data.DegreeOfStudy) #\"скармливаем\" наши тексты, т.е даём в обработку методу, который соберет словарь частотности\n",
        "\n",
        "DegreeOfStudy_Indexes = tokenizer.texts_to_sequences(data.DegreeOfStudy) \n",
        "data = data.assign(DegreeOfStudy=DegreeOfStudy_Indexes)"
      ],
      "metadata": {
        "id": "hBt6BpPNgbil"
      },
      "execution_count": null,
      "outputs": []
    },
    {
      "cell_type": "code",
      "source": [
        "#Job\n",
        "tokenizer = Tokenizer(num_words=150, filters='!\"#$%&()*+,-–—./…:;<=>?@[\\\\]^_`{|}~«»\\t\\n\\xa0\\ufeff', lower=True, split=' ', oov_token='неизвестное_слово', char_level=False)\n",
        "tokenizer.fit_on_texts(data.Job) #\"скармливаем\" наши тексты, т.е даём в обработку методу, который соберет словарь частотности\n",
        "\n",
        "Job_Indexes = tokenizer.texts_to_sequences(data.Job) \n",
        "data = data.assign(Job=Job_Indexes)"
      ],
      "metadata": {
        "id": "hb_lBu_7cKng"
      },
      "execution_count": null,
      "outputs": []
    },
    {
      "cell_type": "code",
      "source": [
        "#Last_place\n",
        "tokenizer = Tokenizer(num_words=150, filters='!\"#$%&()*+,-–—./…:;<=>?@[\\\\]^_`{|}~«»\\t\\n\\xa0\\ufeff', lower=True, split=' ', oov_token='неизвестное_слово', char_level=False)\n",
        "tokenizer.fit_on_texts(data.Last_place) #\"скармливаем\" наши тексты, т.е даём в обработку методу, который соберет словарь частотности\n",
        "\n",
        "Last_place_Indexes = tokenizer.texts_to_sequences(data.Last_place) \n",
        "data = data.assign(Last_place=Last_place_Indexes)"
      ],
      "metadata": {
        "id": "axYFN8Nfcazh"
      },
      "execution_count": null,
      "outputs": []
    },
    {
      "cell_type": "code",
      "source": [
        "#Position\n",
        "tokenizer = Tokenizer(num_words=150, filters='!\"#$%&()*+,-–—./…:;<=>?@[\\\\]^_`{|}~«»\\t\\n\\xa0\\ufeff', lower=True, split=' ', oov_token='неизвестное_слово', char_level=False)\n",
        "tokenizer.fit_on_texts(data.Position) #\"скармливаем\" наши тексты, т.е даём в обработку методу, который соберет словарь частотности\n",
        "\n",
        "Position_Indexes = tokenizer.texts_to_sequences(data.Position) \n",
        "data = data.assign(Position=Position_Indexes)"
      ],
      "metadata": {
        "id": "YPhVHww_frJ0"
      },
      "execution_count": null,
      "outputs": []
    },
    {
      "cell_type": "code",
      "source": [
        "#Suitable\n",
        "#Список ответов делаем\n",
        "listAnswers = []\n",
        "#Обработаем отдельно колонку с ответами\n",
        "for i, row in data.iterrows():\n",
        "   a = 1 if str(row.Suitable).find('да') != -1 else 0\n",
        "   listAnswers.append([a])\n",
        "answers = np.array(listAnswers)\n",
        "print(answers.shape)"
      ],
      "metadata": {
        "id": "gcj28cfGMHuk",
        "colab": {
          "base_uri": "https://localhost:8080/"
        },
        "outputId": "b2d42572-441f-4a71-faf8-e58bad31253b"
      },
      "execution_count": null,
      "outputs": [
        {
          "output_type": "stream",
          "name": "stdout",
          "text": [
            "(579, 1)\n"
          ]
        }
      ]
    },
    {
      "cell_type": "code",
      "source": [
        "data = data.drop(columns=['Suitable'])"
      ],
      "metadata": {
        "id": "jXGtrnw_9Vzr"
      },
      "execution_count": null,
      "outputs": []
    },
    {
      "cell_type": "code",
      "source": [
        "data.info()"
      ],
      "metadata": {
        "id": "ryvagSkhRtXJ",
        "colab": {
          "base_uri": "https://localhost:8080/"
        },
        "outputId": "7d58d0ab-2c4d-4931-f6db-14be19759a34"
      },
      "execution_count": null,
      "outputs": [
        {
          "output_type": "stream",
          "name": "stdout",
          "text": [
            "<class 'pandas.core.frame.DataFrame'>\n",
            "Int64Index: 579 entries, 0 to 581\n",
            "Data columns (total 27 columns):\n",
            " #   Column            Non-Null Count  Dtype \n",
            "---  ------            --------------  ----- \n",
            " 0   Response_date     579 non-null    int64 \n",
            " 1   Full_name         579 non-null    object\n",
            " 2   Gender            579 non-null    int64 \n",
            " 3   Salary            579 non-null    int64 \n",
            " 4   Job               579 non-null    object\n",
            " 5   City              579 non-null    object\n",
            " 6   Experience        579 non-null    object\n",
            " 7   Last_place        579 non-null    object\n",
            " 8   Position          579 non-null    object\n",
            " 9   Education         579 non-null    object\n",
            " 10  Update_resume     579 non-null    int64 \n",
            " 11  Birth             579 non-null    int64 \n",
            " 12  Age               579 non-null    int64 \n",
            " 13  DegreeOfStudy     579 non-null    object\n",
            " 14  YearOfGraduation  579 non-null    int64 \n",
            " 15  Employment_0      579 non-null    int64 \n",
            " 16  Employment_1      579 non-null    int64 \n",
            " 17  Employment_2      579 non-null    int64 \n",
            " 18  Employment_3      579 non-null    int64 \n",
            " 19  Employment_4      579 non-null    int64 \n",
            " 20  Employment_5      579 non-null    int64 \n",
            " 21  Employment_6      579 non-null    int64 \n",
            " 22  Schedule_0        579 non-null    int64 \n",
            " 23  Schedule_1        579 non-null    int64 \n",
            " 24  Schedule_2        579 non-null    int64 \n",
            " 25  Schedule_3        579 non-null    int64 \n",
            " 26  Schedule_4        579 non-null    int64 \n",
            "dtypes: int64(19), object(8)\n",
            "memory usage: 126.7+ KB\n"
          ]
        }
      ]
    },
    {
      "cell_type": "code",
      "source": [
        "#Приведим все списки к однообразию\n",
        "data.Response_date = data.Response_date.astype('int')\n",
        "data.Gender = data.Gender.astype('int')\n",
        "data.Salary = data.Salary.astype('int')\n",
        "data.Update_resume = data.Update_resume.astype('int')\n",
        "data.Birth = data.Birth.astype('int')\n",
        "data.Age = data.Age.astype('int')\n",
        "data.YearOfGraduation = data.YearOfGraduation.astype('int')\n",
        "\n",
        "#Находим максимальную длину\n",
        "Full_nameMaxI = 0\n",
        "PositionMaxI = 0\n",
        "Last_placeMaxI = 0\n",
        "JobMaxI = 0\n",
        "EducationMaxI = 0\n",
        "CityMaxI = 0\n",
        "DegreeOfStudyMaxI = 0\n",
        "for i, row in data.iterrows():\n",
        "    Full_nameMaxI   = max(Full_nameMaxI,len(row.Full_name))\n",
        "    PositionMaxI    = max(PositionMaxI,len(row.Position))\n",
        "    Last_placeMaxI  = max(Last_placeMaxI,len(row.Last_place))\n",
        "    JobMaxI         = max(JobMaxI,len(row.Job))\n",
        "    EducationMaxI   = max(EducationMaxI,len(row.Education))\n",
        "    CityMaxI        = max(CityMaxI,len(row.City))\n",
        "    DegreeOfStudyMaxI        = max(DegreeOfStudyMaxI,len(row.DegreeOfStudy))"
      ],
      "metadata": {
        "id": "KCCSCtHBaaGk"
      },
      "execution_count": null,
      "outputs": []
    },
    {
      "cell_type": "code",
      "source": [
        "#обрабатываем данные list\n",
        "dataList = [] \n",
        "for i, row in data.iterrows():\n",
        "      row.Full_name     = np.array(row.Full_name+[0 for x in range(Full_nameMaxI-len(row.Full_name))])\n",
        "      row.Position      = np.array(row.Position+[0 for x in range(PositionMaxI-len(row.Position))])\n",
        "      row.Last_place    = np.array(row.Last_place+[0 for x in range(Last_placeMaxI-len(row.Last_place))])\n",
        "      row.Job           = np.array(row.Job+[0 for x in range(JobMaxI-len(row.Job))])\n",
        "      row.Education     = np.array(row.Education+[0 for x in range(EducationMaxI-len(row.Education))])\n",
        "      row.City          = np.array(row.City+[0 for x in range(CityMaxI-len(row.City))])\n",
        "      row.DegreeOfStudy          = np.array(row.DegreeOfStudy+[0 for x in range(DegreeOfStudyMaxI-len(row.DegreeOfStudy))])\n",
        "       \n",
        "      #row_data = np.hstack(row)\n",
        "      row_data = np.hstack([\n",
        "                            row.Full_name,\n",
        "                            row.Position,\n",
        "                            row.Last_place,\n",
        "                            row.Job,\n",
        "                            row.Education,\n",
        "                            row.City,\n",
        "                            row.Response_date,\n",
        "                            row.Gender,\n",
        "                            row.Salary,\n",
        "                            row.Update_resume,\n",
        "                            row.Birth,\n",
        "                            row.Age,\n",
        "                            row.YearOfGraduation,\n",
        "                            row.DegreeOfStudy,\n",
        "                            row.Employment_0,\n",
        "                            row.Employment_1,\n",
        "                            row.Employment_2,\n",
        "                            row.Employment_3,\n",
        "                            row.Employment_4,\n",
        "                            row.Employment_5,\n",
        "                            row.Employment_6,\n",
        "                            row.Schedule_0,\n",
        "                            row.Schedule_1,\n",
        "                            row.Schedule_2,\n",
        "                            row.Schedule_3,\n",
        "                            row.Schedule_4]\n",
        "                          )\n",
        "      \n",
        "      dataList.append(row_data)\n",
        "\n",
        "dataset = np.array(dataList) #, dtype=np.float\n",
        "print(dataset.shape)"
      ],
      "metadata": {
        "id": "-th01SunQz_S",
        "colab": {
          "base_uri": "https://localhost:8080/"
        },
        "outputId": "b1012a26-9168-49e0-aa52-a6c27c4f9a14"
      },
      "execution_count": null,
      "outputs": [
        {
          "output_type": "stream",
          "name": "stdout",
          "text": [
            "(579, 217)\n"
          ]
        }
      ]
    },
    {
      "cell_type": "code",
      "source": [
        "data.info()"
      ],
      "metadata": {
        "id": "vsLa6stgIVGw",
        "colab": {
          "base_uri": "https://localhost:8080/"
        },
        "outputId": "852169f7-d190-418c-97e9-4f10c7f60e98"
      },
      "execution_count": null,
      "outputs": [
        {
          "output_type": "stream",
          "name": "stdout",
          "text": [
            "<class 'pandas.core.frame.DataFrame'>\n",
            "Int64Index: 579 entries, 0 to 581\n",
            "Data columns (total 27 columns):\n",
            " #   Column            Non-Null Count  Dtype \n",
            "---  ------            --------------  ----- \n",
            " 0   Response_date     579 non-null    int64 \n",
            " 1   Full_name         579 non-null    object\n",
            " 2   Gender            579 non-null    int64 \n",
            " 3   Salary            579 non-null    int64 \n",
            " 4   Job               579 non-null    object\n",
            " 5   City              579 non-null    object\n",
            " 6   Experience        579 non-null    object\n",
            " 7   Last_place        579 non-null    object\n",
            " 8   Position          579 non-null    object\n",
            " 9   Education         579 non-null    object\n",
            " 10  Update_resume     579 non-null    int64 \n",
            " 11  Birth             579 non-null    int64 \n",
            " 12  Age               579 non-null    int64 \n",
            " 13  DegreeOfStudy     579 non-null    object\n",
            " 14  YearOfGraduation  579 non-null    int64 \n",
            " 15  Employment_0      579 non-null    int64 \n",
            " 16  Employment_1      579 non-null    int64 \n",
            " 17  Employment_2      579 non-null    int64 \n",
            " 18  Employment_3      579 non-null    int64 \n",
            " 19  Employment_4      579 non-null    int64 \n",
            " 20  Employment_5      579 non-null    int64 \n",
            " 21  Employment_6      579 non-null    int64 \n",
            " 22  Schedule_0        579 non-null    int64 \n",
            " 23  Schedule_1        579 non-null    int64 \n",
            " 24  Schedule_2        579 non-null    int64 \n",
            " 25  Schedule_3        579 non-null    int64 \n",
            " 26  Schedule_4        579 non-null    int64 \n",
            "dtypes: int64(19), object(8)\n",
            "memory usage: 126.7+ KB\n"
          ]
        }
      ]
    },
    {
      "cell_type": "code",
      "source": [
        "#Смотрим что получилось\n",
        "data.max_columns = 30\n",
        "data.head(-15)"
      ],
      "metadata": {
        "id": "DIAp5w9kTiTM"
      },
      "execution_count": null,
      "outputs": []
    },
    {
      "cell_type": "code",
      "source": [
        "for row in dataset:\n",
        "    print(dataset)"
      ],
      "metadata": {
        "id": "yIzdCr-Ge6ia"
      },
      "execution_count": null,
      "outputs": []
    },
    {
      "cell_type": "code",
      "source": [
        "# Делаем выборки для обучения\n",
        "x_train, x_test, y_train, y_test = train_test_split(dataset, # набор параметров\n",
        "                                                    answers, # набор меток классов\n",
        "                                                    test_size=0.2, # процент в тестовую\n",
        "                                                    shuffle=True, #  перемешивание\n",
        "                                                    random_state=3) # воспроизводимость"
      ],
      "metadata": {
        "id": "1IzuMvYhUQUc"
      },
      "execution_count": null,
      "outputs": []
    },
    {
      "cell_type": "code",
      "source": [
        "x_train.shape"
      ],
      "metadata": {
        "colab": {
          "base_uri": "https://localhost:8080/"
        },
        "id": "lH9jk4sGDFnK",
        "outputId": "20d98ad0-5ebe-4ce2-97e3-4371185f3cd4"
      },
      "execution_count": null,
      "outputs": [
        {
          "output_type": "execute_result",
          "data": {
            "text/plain": [
              "(463, 217)"
            ]
          },
          "metadata": {},
          "execution_count": 35
        }
      ]
    },
    {
      "cell_type": "code",
      "source": [
        "# Оптимизаторы\n",
        "from tensorflow.keras.optimizers import Adam\n",
        "# Основные слои\n",
        "from tensorflow.keras.layers import ReLU, Flatten\n",
        "\n",
        "# Создание последовательной модели\n",
        "model = Sequential()\n",
        "#model.add(Dense(60, activation='relu',input_dim=x_train.shape[1]))\n",
        "#model.add(Activation('relu'))\n",
        "#model.add(BatchNormalization())\n",
        "model.add(BatchNormalization(input_dim=x_train.shape[1]))\n",
        "model.add(Dense(30, activation='relu'))\n",
        "model.add(Dense(100, activation='tanh'))\n",
        "model.add(Dense(30, activation='relu'))\n",
        "model.add(Dropout(0.3))\n",
        "#model.add(Flatten())\n",
        "#model.add(Dense(10, activation='softmax'))\n",
        "#model.add(Activation('relu'))\n",
        "#model.add(Dropout(0.3))\n",
        "model.add(Dense(1, activation='sigmoid')) #softmax linear\n",
        "\n",
        "# Компиляция модели\n",
        "model.compile(loss='binary_crossentropy', \n",
        "              optimizer=Adam(learning_rate=0.001), \n",
        "              metrics=['accuracy'])\n",
        "\n",
        "#model.compile(optimizer=Adam(learning_rate=1e-3), loss='mse', metrics=['mae'])\n",
        "\n",
        "# Обучение сети\n",
        "history = model.fit(x_train, \n",
        "                    y_train, #y_train\n",
        "                    batch_size=16, \n",
        "                    epochs=30,\n",
        "                    validation_split=0.1, \n",
        "                    verbose=1)"
      ],
      "metadata": {
        "id": "ZdUCA8kiRVsh",
        "colab": {
          "base_uri": "https://localhost:8080/"
        },
        "outputId": "7235c331-e47c-44e8-fc38-6c76d3e577ba"
      },
      "execution_count": null,
      "outputs": [
        {
          "output_type": "stream",
          "name": "stdout",
          "text": [
            "Epoch 1/30\n",
            "26/26 [==============================] - 1s 10ms/step - loss: 0.3387 - accuracy: 0.9279 - val_loss: 0.2643 - val_accuracy: 0.9574\n",
            "Epoch 2/30\n",
            "26/26 [==============================] - 0s 4ms/step - loss: 0.1107 - accuracy: 0.9808 - val_loss: 0.3635 - val_accuracy: 0.9574\n",
            "Epoch 3/30\n",
            "26/26 [==============================] - 0s 4ms/step - loss: 0.0807 - accuracy: 0.9808 - val_loss: 0.3601 - val_accuracy: 0.9574\n",
            "Epoch 4/30\n",
            "26/26 [==============================] - 0s 4ms/step - loss: 0.0904 - accuracy: 0.9808 - val_loss: 0.3431 - val_accuracy: 0.9574\n",
            "Epoch 5/30\n",
            "26/26 [==============================] - 0s 3ms/step - loss: 0.0728 - accuracy: 0.9808 - val_loss: 0.3565 - val_accuracy: 0.9574\n",
            "Epoch 6/30\n",
            "26/26 [==============================] - 0s 4ms/step - loss: 0.0656 - accuracy: 0.9808 - val_loss: 0.3592 - val_accuracy: 0.9574\n",
            "Epoch 7/30\n",
            "26/26 [==============================] - 0s 4ms/step - loss: 0.0617 - accuracy: 0.9808 - val_loss: 0.3574 - val_accuracy: 0.9574\n",
            "Epoch 8/30\n",
            "26/26 [==============================] - 0s 4ms/step - loss: 0.0542 - accuracy: 0.9808 - val_loss: 0.3658 - val_accuracy: 0.9574\n",
            "Epoch 9/30\n",
            "26/26 [==============================] - 0s 3ms/step - loss: 0.0526 - accuracy: 0.9808 - val_loss: 0.3724 - val_accuracy: 0.9574\n",
            "Epoch 10/30\n",
            "26/26 [==============================] - 0s 3ms/step - loss: 0.0413 - accuracy: 0.9832 - val_loss: 0.3474 - val_accuracy: 0.9574\n",
            "Epoch 11/30\n",
            "26/26 [==============================] - 0s 4ms/step - loss: 0.0414 - accuracy: 0.9832 - val_loss: 0.3026 - val_accuracy: 0.9574\n",
            "Epoch 12/30\n",
            "26/26 [==============================] - 0s 3ms/step - loss: 0.0392 - accuracy: 0.9832 - val_loss: 0.3496 - val_accuracy: 0.9574\n",
            "Epoch 13/30\n",
            "26/26 [==============================] - 0s 3ms/step - loss: 0.0284 - accuracy: 0.9856 - val_loss: 0.3616 - val_accuracy: 0.9574\n",
            "Epoch 14/30\n",
            "26/26 [==============================] - 0s 5ms/step - loss: 0.0299 - accuracy: 0.9832 - val_loss: 0.3587 - val_accuracy: 0.9574\n",
            "Epoch 15/30\n",
            "26/26 [==============================] - 0s 9ms/step - loss: 0.0296 - accuracy: 0.9880 - val_loss: 0.3551 - val_accuracy: 0.9574\n",
            "Epoch 16/30\n",
            "26/26 [==============================] - 0s 6ms/step - loss: 0.0238 - accuracy: 0.9880 - val_loss: 0.4050 - val_accuracy: 0.9574\n",
            "Epoch 17/30\n",
            "26/26 [==============================] - 0s 6ms/step - loss: 0.0299 - accuracy: 0.9904 - val_loss: 0.4145 - val_accuracy: 0.9574\n",
            "Epoch 18/30\n",
            "26/26 [==============================] - 0s 6ms/step - loss: 0.0328 - accuracy: 0.9928 - val_loss: 0.4093 - val_accuracy: 0.9574\n",
            "Epoch 19/30\n",
            "26/26 [==============================] - 0s 4ms/step - loss: 0.0205 - accuracy: 0.9904 - val_loss: 0.3981 - val_accuracy: 0.9574\n",
            "Epoch 20/30\n",
            "26/26 [==============================] - 0s 4ms/step - loss: 0.0215 - accuracy: 0.9928 - val_loss: 0.3804 - val_accuracy: 0.9574\n",
            "Epoch 21/30\n",
            "26/26 [==============================] - 0s 3ms/step - loss: 0.0205 - accuracy: 0.9880 - val_loss: 0.3876 - val_accuracy: 0.9574\n",
            "Epoch 22/30\n",
            "26/26 [==============================] - 0s 4ms/step - loss: 0.0146 - accuracy: 0.9952 - val_loss: 0.3588 - val_accuracy: 0.9574\n",
            "Epoch 23/30\n",
            "26/26 [==============================] - 0s 3ms/step - loss: 0.0108 - accuracy: 0.9952 - val_loss: 0.3477 - val_accuracy: 0.9574\n",
            "Epoch 24/30\n",
            "26/26 [==============================] - 0s 3ms/step - loss: 0.0281 - accuracy: 0.9952 - val_loss: 0.3442 - val_accuracy: 0.9574\n",
            "Epoch 25/30\n",
            "26/26 [==============================] - 0s 4ms/step - loss: 0.0150 - accuracy: 0.9952 - val_loss: 0.3502 - val_accuracy: 0.9574\n",
            "Epoch 26/30\n",
            "26/26 [==============================] - 0s 4ms/step - loss: 0.0102 - accuracy: 0.9976 - val_loss: 0.3514 - val_accuracy: 0.9574\n",
            "Epoch 27/30\n",
            "26/26 [==============================] - 0s 3ms/step - loss: 0.0119 - accuracy: 0.9952 - val_loss: 0.3587 - val_accuracy: 0.9574\n",
            "Epoch 28/30\n",
            "26/26 [==============================] - 0s 3ms/step - loss: 0.0068 - accuracy: 1.0000 - val_loss: 0.3621 - val_accuracy: 0.9574\n",
            "Epoch 29/30\n",
            "26/26 [==============================] - 0s 3ms/step - loss: 0.0105 - accuracy: 0.9976 - val_loss: 0.3892 - val_accuracy: 0.9574\n",
            "Epoch 30/30\n",
            "26/26 [==============================] - 0s 3ms/step - loss: 0.0130 - accuracy: 0.9976 - val_loss: 0.3613 - val_accuracy: 0.9574\n"
          ]
        }
      ]
    },
    {
      "cell_type": "code",
      "source": [
        "# Визуализация точности на обучающей выборке\n",
        "plt.plot(history.history['accuracy'], \n",
        "         label='Доля верных ответов на обучающем наборе') #mae\n",
        "plt.plot(history.history['val_accuracy'], \n",
        "         label='Доля верных ответов на проверочном наборе') #val_mae\n",
        "plt.xlabel('Эпоха обучения')\n",
        "plt.ylabel('Средняя абсолютная ошибка')\n",
        "plt.legend()\n",
        "plt.show()"
      ],
      "metadata": {
        "id": "rZ1hnlp1UwYw",
        "colab": {
          "base_uri": "https://localhost:8080/",
          "height": 449
        },
        "outputId": "a123d67a-5cad-42d6-96bc-632057df87d4"
      },
      "execution_count": null,
      "outputs": [
        {
          "output_type": "display_data",
          "data": {
            "text/plain": [
              "<Figure size 640x480 with 1 Axes>"
            ],
            "image/png": "[encoded data removed]"
          },
          "metadata": {}
        }
      ]
    },
    {
      "cell_type": "code",
      "source": [
        "# Метрики для расчета ошибок\n",
        "from sklearn.metrics import mean_squared_error, mean_absolute_error\n",
        "\n",
        "# Проверка работы сети - предсказание на тренировочной выборке\n",
        "pred = model.predict(x_train)\n",
        "\n",
        "# Расчет среднего значения ошибки \n",
        "print((abs(pred - y_train)).mean())         # Расчет вручную\n",
        "print(mean_absolute_error(pred, y_train))   # Расчет с помощью готовой функции"
      ],
      "metadata": {
        "colab": {
          "base_uri": "https://localhost:8080/"
        },
        "id": "jWRvBNe8AZw7",
        "outputId": "9b766013-1576-41be-b014-03466c33946d"
      },
      "execution_count": null,
      "outputs": [
        {
          "output_type": "stream",
          "name": "stdout",
          "text": [
            "15/15 [==============================] - 0s 3ms/step\n",
            "0.034243777846881304\n",
            "0.034243777846881304\n"
          ]
        }
      ]
    }
  ]
}