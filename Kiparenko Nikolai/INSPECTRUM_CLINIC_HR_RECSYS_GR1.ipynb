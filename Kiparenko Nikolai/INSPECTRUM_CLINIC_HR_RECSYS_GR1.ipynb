{
  "nbformat": 4,
  "nbformat_minor": 0,
  "metadata": {
    "colab": {
      "provenance": [],
      "authorship_tag": "ABX9TyMqkXY062OkCrHYT5EDkO9f",
      "include_colab_link": true
    },
    "kernelspec": {
      "name": "python3",
      "display_name": "Python 3"
    },
    "language_info": {
      "name": "python"
    }
  },
  "cells": [
    {
      "cell_type": "markdown",
      "metadata": {
        "id": "view-in-github",
        "colab_type": "text"
      },
      "source": [
        "<a href=\"https://colab.research.google.com/github/Untick/InspectrumClinic_HR_gr1/blob/main/Kiparenko%20Nikolai/INSPECTRUM_CLINIC_HR_RECSYS_GR1.ipynb\" target=\"_parent\"><img src=\"https://colab.research.google.com/assets/colab-badge.svg\" alt=\"Open In Colab\"/></a>"
      ]
    },
    {
      "cell_type": "code",
      "execution_count": 2,
      "metadata": {
        "id": "R6mOzJV8gx-V"
      },
      "outputs": [],
      "source": [
        "# Работа с массивами данных\n",
        "import numpy as np \n",
        "\n",
        "# Работа с таблицами\n",
        "import pandas as pd\n",
        "\n",
        "# Функции-утилиты для работы с категориальными данными\n",
        "from tensorflow.keras import utils\n",
        "\n",
        "# Класс для конструирования последовательной модели нейронной сети\n",
        "from tensorflow.keras.models import Sequential\n",
        "\n",
        "# Основные слои\n",
        "from tensorflow.keras.layers import Dense, Dropout, SpatialDropout1D, BatchNormalization, Embedding, Flatten, Activation \n",
        "\n",
        "# Токенизатор для преобразование текстов в последовательности\n",
        "from tensorflow.keras.preprocessing.text import Tokenizer\n",
        "\n",
        "# Заполнение последовательностей до определенной длины\n",
        "from tensorflow.keras.preprocessing.sequence import pad_sequences\n",
        "\n",
        "# Матрица ошибок классификатора\n",
        "from sklearn.metrics import confusion_matrix, ConfusionMatrixDisplay\n",
        "\n",
        "# Кодирование тестовых меток\n",
        "from sklearn.preprocessing import LabelEncoder\n",
        "\n",
        "# Разбиение на тренировочную и тестовую выборки\n",
        "from sklearn.model_selection import train_test_split\n",
        "\n",
        "# автоматически парсит строку и сохранит ее в переменной datetime\n",
        "import datetime\n",
        "\n",
        "# Загрузка датасетов из облака google\n",
        "import gdown\n",
        "\n",
        "# Функции операционной системы\n",
        "import os\n",
        "\n",
        "# Работа со временем\n",
        "import time\n",
        "\n",
        "# Регулярные выражения\n",
        "import re\n",
        "\n",
        "# Запись в файлы и чтение из файлов структур данных Python\n",
        "import pickle\n",
        "\n",
        "# Отрисовка графиков\n",
        "import matplotlib.pyplot as plt\n",
        "\n",
        "\n",
        "%matplotlib inline"
      ]
    },
    {
      "cell_type": "code",
      "source": [
        "import gdown                                      # Подключим функцию gdown\n",
        "gdown.download('https://storage.yandexcloud.net/terratraineeship/23_InspectrumClinic_HR/datasets/%D0%94%D0%B0%D1%82%D0%B0%D0%A1%D0%B5%D1%82%20%D0%9E%D1%86%D0%B5%D0%BD%D0%BA%D0%B0%20%D1%80%D0%B5%D0%B7%D1%8E%D0%BC%D0%B5%20581%20%D1%80%D0%B5%D0%B7%D1%8E%D0%BC%D0%B5.xlsx','dataS.xlsx', quiet=True)   "
      ],
      "metadata": {
        "colab": {
          "base_uri": "https://localhost:8080/",
          "height": 35
        },
        "id": "o8Ni5OQchA1s",
        "outputId": "4d496444-06d8-4b76-c544-ec304767014f"
      },
      "execution_count": 3,
      "outputs": [
        {
          "output_type": "execute_result",
          "data": {
            "text/plain": [
              "'dataS.xlsx'"
            ],
            "application/vnd.google.colaboratory.intrinsic+json": {
              "type": "string"
            }
          },
          "metadata": {},
          "execution_count": 3
        }
      ]
    },
    {
      "cell_type": "code",
      "source": [
        "data = pd.read_excel (r'dataS.xlsx', index_col=0)\n",
        "data.max_columns = 30\n",
        "data.columns = ['Response_date', 'Full_name', 'Gender', 'Salary', 'Job', 'City', 'Employment', 'Schedule', 'Experience', 'Last_place', 'Position', 'Education', 'Update_resume', 'Suitable']"
      ],
      "metadata": {
        "id": "eMwgZ7cdhTWL"
      },
      "execution_count": 46,
      "outputs": []
    },
    {
      "cell_type": "code",
      "source": [
        "data.head(5)"
      ],
      "metadata": {
        "colab": {
          "base_uri": "https://localhost:8080/",
          "height": 666
        },
        "id": "oNKjYCqOvrqd",
        "outputId": "a8b20c35-113e-427b-df38-44d06441667f"
      },
      "execution_count": 5,
      "outputs": [
        {
          "output_type": "execute_result",
          "data": {
            "text/plain": [
              "         Response_date                        Full_name  \\\n",
              "0  2023-02-23 00:00:00                 Bessonova Mariya   \n",
              "1  2023-01-11 00:00:00  Ефремова Екатерина Вячеславовна   \n",
              "2  2023-02-27 00:00:00          Фролов Артур Михайлович   \n",
              "3  2023-01-11 00:00:00         Хозаев Расул Шагаманович   \n",
              "4  2023-01-11 00:00:00           Шадрин Олег Михайлович   \n",
              "\n",
              "                                      Gender        Salary  \\\n",
              "0                                    Женщина   90 000 руб.   \n",
              "1                                    Женщина    не указана   \n",
              "2  Мужчина, 33 года, родился 23 августа 1989  150 000 руб.   \n",
              "3   Мужчина, 32 года, родился 7 декабря 1990    не указана   \n",
              "4   Мужчина, 26 лет, родился 21 февраля 1996  150 000 руб.   \n",
              "\n",
              "                      Job                                               City  \\\n",
              "0  Growth Product Manager  Индонезия, Не готова к переезду, не готова к к...   \n",
              "1  Growth Product Manager  Москва, Готова к переезду, готова к командировкам   \n",
              "2  Growth Product Manager  Санкт-Петербург, Готов к переезду: Москва, гот...   \n",
              "3  Growth Product Manager  Москва, м. Молодежная, Хочу переехать, готов к...   \n",
              "4  Growth Product Manager       Пермь, Хочу переехать, готов к командировкам   \n",
              "\n",
              "                                          Employment  \\\n",
              "0  проектная работа, частичная занятость, полная ...   \n",
              "1                                   полная занятость   \n",
              "2  проектная работа, частичная занятость, полная ...   \n",
              "3  стажировка, частичная занятость, полная занятость   \n",
              "4  проектная работа, частичная занятость, полная ...   \n",
              "\n",
              "                                       Schedule  \\\n",
              "0                              удаленная работа   \n",
              "1  удаленная работа, гибкий график, полный день   \n",
              "2  удаленная работа, гибкий график, полный день   \n",
              "3  удаленная работа, гибкий график, полный день   \n",
              "4  удаленная работа, гибкий график, полный день   \n",
              "\n",
              "                       Experience  \\\n",
              "0   Опыт работы —5 лет 10 месяцев   \n",
              "1  Опыт работы —11 лет 11 месяцев   \n",
              "2     Опыт работы —7 лет 2 месяца   \n",
              "3   Опыт работы —8 лет 10 месяцев   \n",
              "4    Опыт работы —5 лет 9 месяцев   \n",
              "\n",
              "                                          Last_place  \\\n",
              "0                                PT MYBALI APP GROUP   \n",
              "1                                      Банк Открытие   \n",
              "2                                          DIKIY LLC   \n",
              "3                                           WeInvest   \n",
              "4  Индивидуальное предпринимательство / частная п...   \n",
              "\n",
              "                                      Position  \\\n",
              "0                         Менеджер по продукту   \n",
              "1  Product owner трайб сбережения и инвестиции   \n",
              "2      Директор по маркетингу и бренд-менеджер   \n",
              "3                Product Manager (team leader)   \n",
              "4                      Product/Project manager   \n",
              "\n",
              "                                           Education            Update_resume  \\\n",
              "0  Высшее, 2023, Нетоло́гия, 2014, Университет Ро...  23 февраля 2023 в 16:30   \n",
              "1  Высшее, 2022, GeekBrains, 2010, Московский худ...   8 февраля 2023 в 09:15   \n",
              "2  Высшее, 2013, Санкт-Петербургский государствен...  28 февраля 2023 в 09:41   \n",
              "3  Магистр, 2014, Московский государственный техн...   24 января 2023 в 12:07   \n",
              "4  Высшее, 2021, Российская академия народного хо...   6 февраля 2023 в 11:18   \n",
              "\n",
              "  Suitable  \n",
              "0       да  \n",
              "1       да  \n",
              "2       да  \n",
              "3       да  \n",
              "4       да  "
            ],
            "text/html": [
              "\n",
              "  <div id=\"df-207bf105-2bef-4012-8df6-be152ab78d0f\">\n",
              "    <div class=\"colab-df-container\">\n",
              "      <div>\n",
              "<style scoped>\n",
              "    .dataframe tbody tr th:only-of-type {\n",
              "        vertical-align: middle;\n",
              "    }\n",
              "\n",
              "    .dataframe tbody tr th {\n",
              "        vertical-align: top;\n",
              "    }\n",
              "\n",
              "    .dataframe thead th {\n",
              "        text-align: right;\n",
              "    }\n",
              "</style>\n",
              "<table border=\"1\" class=\"dataframe\">\n",
              "  <thead>\n",
              "    <tr style=\"text-align: right;\">\n",
              "      <th></th>\n",
              "      <th>Response_date</th>\n",
              "      <th>Full_name</th>\n",
              "      <th>Gender</th>\n",
              "      <th>Salary</th>\n",
              "      <th>Job</th>\n",
              "      <th>City</th>\n",
              "      <th>Employment</th>\n",
              "      <th>Schedule</th>\n",
              "      <th>Experience</th>\n",
              "      <th>Last_place</th>\n",
              "      <th>Position</th>\n",
              "      <th>Education</th>\n",
              "      <th>Update_resume</th>\n",
              "      <th>Suitable</th>\n",
              "    </tr>\n",
              "  </thead>\n",
              "  <tbody>\n",
              "    <tr>\n",
              "      <th>0</th>\n",
              "      <td>2023-02-23 00:00:00</td>\n",
              "      <td>Bessonova Mariya</td>\n",
              "      <td>Женщина</td>\n",
              "      <td>90 000 руб.</td>\n",
              "      <td>Growth Product Manager</td>\n",
              "      <td>Индонезия, Не готова к переезду, не готова к к...</td>\n",
              "      <td>проектная работа, частичная занятость, полная ...</td>\n",
              "      <td>удаленная работа</td>\n",
              "      <td>Опыт работы —5 лет 10 месяцев</td>\n",
              "      <td>PT MYBALI APP GROUP</td>\n",
              "      <td>Менеджер по продукту</td>\n",
              "      <td>Высшее, 2023, Нетоло́гия, 2014, Университет Ро...</td>\n",
              "      <td>23 февраля 2023 в 16:30</td>\n",
              "      <td>да</td>\n",
              "    </tr>\n",
              "    <tr>\n",
              "      <th>1</th>\n",
              "      <td>2023-01-11 00:00:00</td>\n",
              "      <td>Ефремова Екатерина Вячеславовна</td>\n",
              "      <td>Женщина</td>\n",
              "      <td>не указана</td>\n",
              "      <td>Growth Product Manager</td>\n",
              "      <td>Москва, Готова к переезду, готова к командировкам</td>\n",
              "      <td>полная занятость</td>\n",
              "      <td>удаленная работа, гибкий график, полный день</td>\n",
              "      <td>Опыт работы —11 лет 11 месяцев</td>\n",
              "      <td>Банк Открытие</td>\n",
              "      <td>Product owner трайб сбережения и инвестиции</td>\n",
              "      <td>Высшее, 2022, GeekBrains, 2010, Московский худ...</td>\n",
              "      <td>8 февраля 2023 в 09:15</td>\n",
              "      <td>да</td>\n",
              "    </tr>\n",
              "    <tr>\n",
              "      <th>2</th>\n",
              "      <td>2023-02-27 00:00:00</td>\n",
              "      <td>Фролов Артур Михайлович</td>\n",
              "      <td>Мужчина, 33 года, родился 23 августа 1989</td>\n",
              "      <td>150 000 руб.</td>\n",
              "      <td>Growth Product Manager</td>\n",
              "      <td>Санкт-Петербург, Готов к переезду: Москва, гот...</td>\n",
              "      <td>проектная работа, частичная занятость, полная ...</td>\n",
              "      <td>удаленная работа, гибкий график, полный день</td>\n",
              "      <td>Опыт работы —7 лет 2 месяца</td>\n",
              "      <td>DIKIY LLC</td>\n",
              "      <td>Директор по маркетингу и бренд-менеджер</td>\n",
              "      <td>Высшее, 2013, Санкт-Петербургский государствен...</td>\n",
              "      <td>28 февраля 2023 в 09:41</td>\n",
              "      <td>да</td>\n",
              "    </tr>\n",
              "    <tr>\n",
              "      <th>3</th>\n",
              "      <td>2023-01-11 00:00:00</td>\n",
              "      <td>Хозаев Расул Шагаманович</td>\n",
              "      <td>Мужчина, 32 года, родился 7 декабря 1990</td>\n",
              "      <td>не указана</td>\n",
              "      <td>Growth Product Manager</td>\n",
              "      <td>Москва, м. Молодежная, Хочу переехать, готов к...</td>\n",
              "      <td>стажировка, частичная занятость, полная занятость</td>\n",
              "      <td>удаленная работа, гибкий график, полный день</td>\n",
              "      <td>Опыт работы —8 лет 10 месяцев</td>\n",
              "      <td>WeInvest</td>\n",
              "      <td>Product Manager (team leader)</td>\n",
              "      <td>Магистр, 2014, Московский государственный техн...</td>\n",
              "      <td>24 января 2023 в 12:07</td>\n",
              "      <td>да</td>\n",
              "    </tr>\n",
              "    <tr>\n",
              "      <th>4</th>\n",
              "      <td>2023-01-11 00:00:00</td>\n",
              "      <td>Шадрин Олег Михайлович</td>\n",
              "      <td>Мужчина, 26 лет, родился 21 февраля 1996</td>\n",
              "      <td>150 000 руб.</td>\n",
              "      <td>Growth Product Manager</td>\n",
              "      <td>Пермь, Хочу переехать, готов к командировкам</td>\n",
              "      <td>проектная работа, частичная занятость, полная ...</td>\n",
              "      <td>удаленная работа, гибкий график, полный день</td>\n",
              "      <td>Опыт работы —5 лет 9 месяцев</td>\n",
              "      <td>Индивидуальное предпринимательство / частная п...</td>\n",
              "      <td>Product/Project manager</td>\n",
              "      <td>Высшее, 2021, Российская академия народного хо...</td>\n",
              "      <td>6 февраля 2023 в 11:18</td>\n",
              "      <td>да</td>\n",
              "    </tr>\n",
              "  </tbody>\n",
              "</table>\n",
              "</div>\n",
              "      <button class=\"colab-df-convert\" onclick=\"convertToInteractive('df-207bf105-2bef-4012-8df6-be152ab78d0f')\"\n",
              "              title=\"Convert this dataframe to an interactive table.\"\n",
              "              style=\"display:none;\">\n",
              "        \n",
              "  <svg xmlns=\"http://www.w3.org/2000/svg\" height=\"24px\"viewBox=\"0 0 24 24\"\n",
              "       width=\"24px\">\n",
              "    <path d=\"M0 0h24v24H0V0z\" fill=\"none\"/>\n",
              "    <path d=\"M18.56 5.44l.94 2.06.94-2.06 2.06-.94-2.06-.94-.94-2.06-.94 2.06-2.06.94zm-11 1L8.5 8.5l.94-2.06 2.06-.94-2.06-.94L8.5 2.5l-.94 2.06-2.06.94zm10 10l.94 2.06.94-2.06 2.06-.94-2.06-.94-.94-2.06-.94 2.06-2.06.94z\"/><path d=\"M17.41 7.96l-1.37-1.37c-.4-.4-.92-.59-1.43-.59-.52 0-1.04.2-1.43.59L10.3 9.45l-7.72 7.72c-.78.78-.78 2.05 0 2.83L4 21.41c.39.39.9.59 1.41.59.51 0 1.02-.2 1.41-.59l7.78-7.78 2.81-2.81c.8-.78.8-2.07 0-2.86zM5.41 20L4 18.59l7.72-7.72 1.47 1.35L5.41 20z\"/>\n",
              "  </svg>\n",
              "      </button>\n",
              "      \n",
              "  <style>\n",
              "    .colab-df-container {\n",
              "      display:flex;\n",
              "      flex-wrap:wrap;\n",
              "      gap: 12px;\n",
              "    }\n",
              "\n",
              "    .colab-df-convert {\n",
              "      background-color: #E8F0FE;\n",
              "      border: none;\n",
              "      border-radius: 50%;\n",
              "      cursor: pointer;\n",
              "      display: none;\n",
              "      fill: #1967D2;\n",
              "      height: 32px;\n",
              "      padding: 0 0 0 0;\n",
              "      width: 32px;\n",
              "    }\n",
              "\n",
              "    .colab-df-convert:hover {\n",
              "      background-color: #E2EBFA;\n",
              "      box-shadow: 0px 1px 2px rgba(60, 64, 67, 0.3), 0px 1px 3px 1px rgba(60, 64, 67, 0.15);\n",
              "      fill: #174EA6;\n",
              "    }\n",
              "\n",
              "    [theme=dark] .colab-df-convert {\n",
              "      background-color: #3B4455;\n",
              "      fill: #D2E3FC;\n",
              "    }\n",
              "\n",
              "    [theme=dark] .colab-df-convert:hover {\n",
              "      background-color: #434B5C;\n",
              "      box-shadow: 0px 1px 3px 1px rgba(0, 0, 0, 0.15);\n",
              "      filter: drop-shadow(0px 1px 2px rgba(0, 0, 0, 0.3));\n",
              "      fill: #FFFFFF;\n",
              "    }\n",
              "  </style>\n",
              "\n",
              "      <script>\n",
              "        const buttonEl =\n",
              "          document.querySelector('#df-207bf105-2bef-4012-8df6-be152ab78d0f button.colab-df-convert');\n",
              "        buttonEl.style.display =\n",
              "          google.colab.kernel.accessAllowed ? 'block' : 'none';\n",
              "\n",
              "        async function convertToInteractive(key) {\n",
              "          const element = document.querySelector('#df-207bf105-2bef-4012-8df6-be152ab78d0f');\n",
              "          const dataTable =\n",
              "            await google.colab.kernel.invokeFunction('convertToInteractive',\n",
              "                                                     [key], {});\n",
              "          if (!dataTable) return;\n",
              "\n",
              "          const docLinkHtml = 'Like what you see? Visit the ' +\n",
              "            '<a target=\"_blank\" href=https://colab.research.google.com/notebooks/data_table.ipynb>data table notebook</a>'\n",
              "            + ' to learn more about interactive tables.';\n",
              "          element.innerHTML = '';\n",
              "          dataTable['output_type'] = 'display_data';\n",
              "          await google.colab.output.renderOutput(dataTable, element);\n",
              "          const docLink = document.createElement('div');\n",
              "          docLink.innerHTML = docLinkHtml;\n",
              "          element.appendChild(docLink);\n",
              "        }\n",
              "      </script>\n",
              "    </div>\n",
              "  </div>\n",
              "  "
            ]
          },
          "metadata": {},
          "execution_count": 5
        }
      ]
    },
    {
      "cell_type": "code",
      "source": [
        "month_name = {1: 'января', 2: 'февраля', 3: 'марта', 4: 'апреля', 5: 'мая', 6: 'июня',\n",
        "      7: 'июля', 8: 'августа', 9: 'сентября', 10: 'октября', 11: 'ноября', 12: 'декабря'}\n"
      ],
      "metadata": {
        "id": "5aMKziDaxYoP"
      },
      "execution_count": 47,
      "outputs": []
    },
    {
      "cell_type": "code",
      "source": [
        "Birth = data['Gender'].apply(lambda x: x.split(',')[2].strip() if len(x.split(','))>2 else '')\n",
        "data = data.assign(Birth=Birth)\n",
        "\n",
        "Age = data['Gender'].apply(lambda x: x.split(',')[1].strip() if len(x.split(','))>1 else '')\n",
        "data = data.assign(Age=Age)\n"
      ],
      "metadata": {
        "id": "xNucmkht_jEl"
      },
      "execution_count": 48,
      "outputs": []
    },
    {
      "cell_type": "code",
      "source": [
        "for i, row in data.iterrows():\n",
        "  #Gender\n",
        "  row.Gender = row.Gender.split(',')[0].strip() \n",
        "  #Женщина = 0, Мужчина = 1\n",
        "  row.Gender = row.Gender.replace('Женщина','0')\n",
        "  row.Gender = row.Gender.replace('Мужчина','1')\n",
        "\n",
        "  #Birth\n",
        "  row.Birth = row.Birth.replace('родился','')\n",
        "  row.Birth = row.Birth.replace('родилась','')\n",
        " \n",
        "  #Age\n",
        "  row.Age = row.Age.replace('года','')\n",
        "  row.Age = row.Age.replace('год','')\n",
        "  row.Age = row.Age.replace('лет','')\n",
        "  row.Age = row.Age='' if 0 else row.Age\n",
        "\n",
        "  #Salary\n",
        "  row.Salary = row.Salary.replace(' ','') \n",
        "  row.Salary = str(float(row.Salary.replace('KGS',''))*0.89)      if row.Salary.find('KGS') != -1 else row.Salary\n",
        "  row.Salary = str(float(row.Salary.replace('KZT',''))*0.18)      if row.Salary.find('KZT') != -1 else row.Salary\n",
        "  row.Salary = str(float(row.Salary.replace('USD',''))*78.00)     if row.Salary.find('USD') != -1 else row.Salary\n",
        "  row.Salary = str(float(row.Salary.replace('EUR',''))*85.00)     if row.Salary.find('EUR') != -1 else row.Salary\n",
        "  row.Salary = row.Salary.replace('руб.','')\n",
        "  row.Salary = row.Salary.replace('руб','')\n",
        "  row.Salary = row.Salary.replace('неуказана','0')\n",
        "  row.Salary = int(float(row.Salary)) \n",
        "\n",
        "  #Experience\n",
        "  row.Experience = row.Experience.replace('Опыт работы —','')\n",
        "  row.Experience = row.Experience.replace('Опыт работы','')\n",
        "  row.Experience = row.Experience.replace('года',';')\n",
        "  row.Experience = row.Experience.replace('лет',';')\n",
        "  row.Experience = row.Experience.replace('годов',';')\n",
        "  row.Experience = row.Experience.replace('год',';')\n",
        "  row.Experience = row.Experience.replace('года',';')\n",
        "  row.Experience = row.Experience.replace('месяцев','')\n",
        "  row.Experience = row.Experience.replace('месяца','')\n",
        "  row.Experience = row.Experience.replace('месяц','')\n",
        "  row.Experience = row.Experience.replace('нет','0')\n",
        "  #Приводим к месяцам, если были года умножаем на 12 иначе берем как есть \n",
        "  row.Experience = (int(row.Experience.split(';')[0].strip()) * 12 + (int(row.Experience.split(';')[1].strip())) if row.Experience.split(';')[1].strip() != '' else int(row.Experience.split(';')[0].strip()) * 12) if len(row.Experience.split(';')) >1 else int(row.Experience.strip()) \n",
        "\n",
        "  #Schedule\n",
        "  #вахтовый метод = 0, удаленная работа = 1, гибкий график = 2, полный день = 3, сменный график = 4\n",
        "  row.Schedule = row.Schedule.replace('вахтовый метод','0')\n",
        "  row.Schedule = row.Schedule.replace('удаленная работа','1')\n",
        "  row.Schedule = row.Schedule.replace('гибкий график','2')\n",
        "  row.Schedule = row.Schedule.replace('полный день','3')\n",
        "  row.Schedule = row.Schedule.replace('сменный график','4')\n",
        "\n",
        "  #Employment\n",
        "  #проектная работа = 0, неполный рабочий день = 1, полный рабочий день = 2, полная занятость = 3, частичная занятость = 4, стажировка = 5, волонтерство = 6\n",
        "  row.Employment = row.Employment.replace('проектная работа','0')\n",
        "  row.Employment = row.Employment.replace('неполный рабочий день','1')\n",
        "  row.Employment = row.Employment.replace('полный рабочий день','2')\n",
        "  row.Employment = row.Employment.replace('полная занятость','3')\n",
        "  row.Employment = row.Employment.replace('частичная занятость','4')\n",
        "  row.Employment = row.Employment.replace('стажировка','5')\n",
        "  row.Employment = row.Employment.replace('волонтерство','6')\n",
        "\n",
        "  #Birth\n",
        "  for i in month_name:\n",
        "     row.Birth         = row.Birth.replace(month_name[i],'-'+str(i)+'-')\n",
        " \n",
        "  row.Birth         = row.Birth.replace('родился','')\n",
        "  row.Birth         = row.Birth.replace('родилась','')\n",
        "  row.Birth         = row.Birth.replace(' -','-')\n",
        "  row.Birth         = row.Birth.replace('- ','-')\n",
        "  row.Birth         = row.Birth+' 00:00:00'\n",
        "\n",
        "  row.Birth = '1-1-1' +row.Birth if row.Birth == ' 00:00:00' else row.Birth\n",
        "  day = int(row.Birth.split('-')[0].strip()) \n",
        "  month = int(row.Birth.split('-')[1].strip()) \n",
        "  year = row.Birth.split('-')[2].strip() \n",
        "  time = year.split(' ')[1].strip()\n",
        "  year = int(year.split(' ')[0].strip())\n",
        "\n",
        "  row.Birth = int(datetime.datetime(year,month,day).utcnow().timestamp())\n",
        "\n",
        "  #Update_resume \n",
        "  for i in month_name:\n",
        "    row.Update_resume = row.Update_resume.replace(month_name[i],'-'+str(i)+'-')\n",
        " \n",
        "  row.Update_resume = row.Update_resume.replace('в','')\n",
        "  row.Update_resume = row.Update_resume.replace(' -','-')\n",
        "  row.Update_resume = row.Update_resume.replace('- ','-')\n",
        "  row.Update_resume = row.Update_resume+':00'\n",
        "\n",
        "  day = int(row.Update_resume.split('-')[0].strip()) \n",
        "  month = int(row.Update_resume.split('-')[1].strip()) \n",
        "  year = row.Update_resume.split('-')[2].strip() \n",
        "  year = year.replace('  ',';')\n",
        "  year = year.replace(' ',';')\n",
        "   \n",
        "  time = year.split(';')[1].strip()\n",
        "  year = int(year.split(';')[0].strip())\n",
        "  hour = int(time.split(':')[0].strip())\n",
        "  minute = int(time.split(':')[1].strip())\n",
        "\n",
        "  row.Update_resume = int(datetime.datetime(year,month,day,hour,minute,0).utcnow().timestamp())\n",
        "\n",
        "  #Response_date\n",
        "  row.Response_date = int(datetime.datetime.utcnow().timestamp())"
      ],
      "metadata": {
        "id": "ON5Mqr555m-i"
      },
      "execution_count": 49,
      "outputs": []
    },
    {
      "cell_type": "code",
      "source": [
        "#Переведем в бинарные значения\n",
        "\n",
        "#проектная работа = 0, неполный рабочий день = 1, полный рабочий день = 2, полная занятость = 3, частичная занятость = 4, стажировка = 5, волонтерство = 6\n",
        "Employment_0 = data['Employment'].apply(lambda x: 1 if x.find('0') else 0)\n",
        "Employment_1 = data['Employment'].apply(lambda x: 1 if x.find('1') else 0)\n",
        "Employment_2 = data['Employment'].apply(lambda x: 1 if x.find('2') else 0)\n",
        "Employment_3 = data['Employment'].apply(lambda x: 1 if x.find('3') else 0)\n",
        "Employment_4 = data['Employment'].apply(lambda x: 1 if x.find('4') else 0)\n",
        "Employment_5 = data['Employment'].apply(lambda x: 1 if x.find('5') else 0)\n",
        "Employment_6 = data['Employment'].apply(lambda x: 1 if x.find('6') else 0)\n",
        "\n",
        "data = data.assign(Employment_0=Employment_0,\n",
        "                    Employment_1=Employment_1,\n",
        "                    Employment_2=Employment_2,\n",
        "                    Employment_3=Employment_3,\n",
        "                    Employment_4=Employment_4,\n",
        "                    Employment_5=Employment_5,\n",
        "                    Employment_6=Employment_6)\n",
        "\n",
        "#вахтовый метод = 0, удаленная работа = 1, гибкий график = 2, полный день = 3, сменный график = 4\n",
        "Schedule_0 = data['Schedule'].apply(lambda x: 1 if x.find('0') else 0)\n",
        "Schedule_1 = data['Schedule'].apply(lambda x: 1 if x.find('1') else 0)\n",
        "Schedule_2 = data['Schedule'].apply(lambda x: 1 if x.find('2') else 0)\n",
        "Schedule_3 = data['Schedule'].apply(lambda x: 1 if x.find('3') else 0)\n",
        "Schedule_4 = data['Schedule'].apply(lambda x: 1 if x.find('4') else 0)\n",
        "\n",
        "data = data.assign(Schedule_0=Schedule_0,\n",
        "                    Schedule_1=Schedule_1,\n",
        "                    Schedule_2=Schedule_2,\n",
        "                    Schedule_3=Schedule_3,\n",
        "                    Schedule_4=Schedule_4)\n"
      ],
      "metadata": {
        "id": "mIuf1lJLW1jh"
      },
      "execution_count": 50,
      "outputs": []
    },
    {
      "cell_type": "code",
      "source": [
        "data = data.drop(columns=['Schedule', 'Employment'])"
      ],
      "metadata": {
        "id": "jd5xGjric4gj"
      },
      "execution_count": 51,
      "outputs": []
    },
    {
      "cell_type": "code",
      "source": [
        "#City\n",
        "tokenizer = Tokenizer(num_words=30, filters='!\"#$%&()*+,-–—./…:;<=>?@[\\\\]^_`{|}~«»\\t\\n\\xa0\\ufeff', lower=True, split=' ', oov_token='неизвестное_слово', char_level=False)\n",
        "tokenizer.fit_on_texts(data.City) #\"скармливаем\" наши тексты, т.е даём в обработку методу, который соберет словарь частотности\n",
        "City_Indexes = tokenizer.texts_to_sequences(data.City)\n",
        "data = data.assign(City=City_Indexes)"
      ],
      "metadata": {
        "id": "huxjH3OyOf1K"
      },
      "execution_count": 52,
      "outputs": []
    },
    {
      "cell_type": "code",
      "source": [
        "#Full_name\n",
        "tokenizer = Tokenizer(num_words=100, filters='!\"#$%&()*+,-–—./…:;<=>?@[\\\\]^_`{|}~«»\\t\\n\\xa0\\ufeff', lower=True, split=' ', oov_token='неизвестное_слово', char_level=False)\n",
        "tokenizer.fit_on_texts(data.Full_name)\n",
        "\n",
        "Full_name_Indexes = tokenizer.texts_to_sequences(data.Full_name) \n",
        "data = data.assign(Full_name=Full_name_Indexes)"
      ],
      "metadata": {
        "id": "2lv4hDhxSOMw"
      },
      "execution_count": 53,
      "outputs": []
    },
    {
      "cell_type": "code",
      "source": [
        "#Education\n",
        "tokenizer = Tokenizer(num_words=200, filters='!\"#$%&()*+,-–—./…:;<=>?@[\\\\]^_`{|}~«»\\t\\n\\xa0\\ufeff', lower=True, split=' ', oov_token='неизвестное_слово', char_level=False)\n",
        "tokenizer.fit_on_texts(data.Education) #\"скармливаем\" наши тексты, т.е даём в обработку методу, который соберет словарь частотности\n",
        "\n",
        "Education_Indexes = tokenizer.texts_to_sequences(data.Education) \n",
        "data = data.assign(Education=Education_Indexes)"
      ],
      "metadata": {
        "id": "ahPNe_0WWPba"
      },
      "execution_count": 54,
      "outputs": []
    },
    {
      "cell_type": "code",
      "source": [
        "#Job\n",
        "tokenizer = Tokenizer(num_words=50, filters='!\"#$%&()*+,-–—./…:;<=>?@[\\\\]^_`{|}~«»\\t\\n\\xa0\\ufeff', lower=True, split=' ', oov_token='неизвестное_слово', char_level=False)\n",
        "tokenizer.fit_on_texts(data.Job) #\"скармливаем\" наши тексты, т.е даём в обработку методу, который соберет словарь частотности\n",
        "\n",
        "Job_Indexes = tokenizer.texts_to_sequences(data.Job) \n",
        "data = data.assign(Job=Job_Indexes)"
      ],
      "metadata": {
        "id": "hb_lBu_7cKng"
      },
      "execution_count": 55,
      "outputs": []
    },
    {
      "cell_type": "code",
      "source": [
        "#Last_place\n",
        "tokenizer = Tokenizer(num_words=100, filters='!\"#$%&()*+,-–—./…:;<=>?@[\\\\]^_`{|}~«»\\t\\n\\xa0\\ufeff', lower=True, split=' ', oov_token='неизвестное_слово', char_level=False)\n",
        "tokenizer.fit_on_texts(data.Last_place) #\"скармливаем\" наши тексты, т.е даём в обработку методу, который соберет словарь частотности\n",
        "\n",
        "Last_place_Indexes = tokenizer.texts_to_sequences(data.Last_place) \n",
        "data = data.assign(Last_place=Last_place_Indexes)"
      ],
      "metadata": {
        "id": "axYFN8Nfcazh"
      },
      "execution_count": 56,
      "outputs": []
    },
    {
      "cell_type": "code",
      "source": [
        "#Position\n",
        "tokenizer = Tokenizer(num_words=20, filters='!\"#$%&()*+,-–—./…:;<=>?@[\\\\]^_`{|}~«»\\t\\n\\xa0\\ufeff', lower=True, split=' ', oov_token='неизвестное_слово', char_level=False)\n",
        "tokenizer.fit_on_texts(data.Position) #\"скармливаем\" наши тексты, т.е даём в обработку методу, который соберет словарь частотности\n",
        "\n",
        "Position_Indexes = tokenizer.texts_to_sequences(data.Position) \n",
        "data = data.assign(Position=Position_Indexes)"
      ],
      "metadata": {
        "id": "YPhVHww_frJ0"
      },
      "execution_count": 57,
      "outputs": []
    },
    {
      "cell_type": "code",
      "source": [
        "#Suitable\n",
        "#Список ответов делаем\n",
        "listAnswers = []\n",
        "#Обработаем отдельно колонку с ответами\n",
        "for i, row in data.iterrows():\n",
        "   a = 1 if str(row.Suitable).find('да') != -1 else 0\n",
        "   listAnswers.append([a])\n",
        "answers = np.array(listAnswers)\n",
        "print(answers.shape)"
      ],
      "metadata": {
        "id": "gcj28cfGMHuk",
        "colab": {
          "base_uri": "https://localhost:8080/"
        },
        "outputId": "4631ee52-a5bf-4515-d0ce-29ba24c124f2"
      },
      "execution_count": 73,
      "outputs": [
        {
          "output_type": "stream",
          "name": "stdout",
          "text": [
            "(579, 1)\n"
          ]
        }
      ]
    },
    {
      "cell_type": "code",
      "source": [
        "data = data.drop(columns=['Suitable'])"
      ],
      "metadata": {
        "id": "jXGtrnw_9Vzr"
      },
      "execution_count": 74,
      "outputs": []
    },
    {
      "cell_type": "code",
      "source": [
        "#Смотрим что получилось\n",
        "data.max_columns = 30\n",
        "data.head(-15)"
      ],
      "metadata": {
        "id": "DIAp5w9kTiTM"
      },
      "execution_count": null,
      "outputs": []
    },
    {
      "cell_type": "code",
      "source": [
        "#Приведим все списки к однообразию\n",
        "#Находим максимальную длину\n",
        "Full_nameMaxI = 0\n",
        "PositionMaxI = 0\n",
        "Last_placeMaxI = 0\n",
        "JobMaxI = 0\n",
        "EducationMaxI = 0\n",
        "CityMaxI = 0\n",
        "for i, row in data.iterrows():\n",
        "    Full_nameMaxI   = max(Full_nameMaxI,len(row.Full_name))\n",
        "    PositionMaxI    = max(PositionMaxI,len(row.Position))\n",
        "    Last_placeMaxI  = max(Last_placeMaxI,len(row.Last_place))\n",
        "    JobMaxI         = max(JobMaxI,len(row.Job))\n",
        "    EducationMaxI   = max(EducationMaxI,len(row.Education))\n",
        "    CityMaxI        = max(CityMaxI,len(row.City))\n"
      ],
      "metadata": {
        "id": "KCCSCtHBaaGk"
      },
      "execution_count": 76,
      "outputs": []
    },
    {
      "cell_type": "code",
      "source": [
        "#обрабатываем данные list\n",
        "dataList = [] \n",
        "for i, row in data.iterrows():\n",
        "      row.Full_name     = row.Full_name+[0 for x in range(Full_nameMaxI-len(row.Full_name))]\n",
        "      row.Position      = row.Position+[0 for x in range(PositionMaxI-len(row.Position))]\n",
        "      row.Last_place    = row.Last_place+[0 for x in range(Last_placeMaxI-len(row.Last_place))]\n",
        "      row.Job           = row.Job+[0 for x in range(JobMaxI-len(row.Job))]\n",
        "      row.Education     = row.Education+[0 for x in range(EducationMaxI-len(row.Education))]\n",
        "      row.City          = row.City+[0 for x in range(CityMaxI-len(row.City))]\n",
        "      \n",
        "      row_data = np.hstack(row)\n",
        "      dataList.append(row_data)\n",
        "\n",
        "dataset = np.array(dataList) #, dtype=np.float\n",
        "print(dataset.shape)"
      ],
      "metadata": {
        "id": "-th01SunQz_S",
        "colab": {
          "base_uri": "https://localhost:8080/"
        },
        "outputId": "a1363bf9-8cfe-472f-a681-2b466dadcd8f"
      },
      "execution_count": 95,
      "outputs": [
        {
          "output_type": "stream",
          "name": "stdout",
          "text": [
            "(579, 214)\n"
          ]
        }
      ]
    },
    {
      "cell_type": "code",
      "source": [
        "data.to_csv('data.csv')"
      ],
      "metadata": {
        "id": "IPWCbCrXm_uz"
      },
      "execution_count": 92,
      "outputs": []
    },
    {
      "cell_type": "code",
      "source": [
        "x_train, x_test, y_train, y_test = train_test_split(dataset, # набор параметров\n",
        "                                                    answers, # набор меток классов\n",
        "                                                    test_size=0.2, # процент в тестовую\n",
        "                                                    shuffle=True, #  перемешивание\n",
        "                                                    random_state=3) # воспроизводимость"
      ],
      "metadata": {
        "id": "1IzuMvYhUQUc"
      },
      "execution_count": 96,
      "outputs": []
    },
    {
      "cell_type": "code",
      "source": [
        "for row in dataset:\n",
        "    print(dataset)"
      ],
      "metadata": {
        "id": "yIzdCr-Ge6ia"
      },
      "execution_count": null,
      "outputs": []
    },
    {
      "cell_type": "code",
      "source": [
        "x_train.shape"
      ],
      "metadata": {
        "colab": {
          "base_uri": "https://localhost:8080/"
        },
        "id": "lH9jk4sGDFnK",
        "outputId": "34b2e8b8-0820-483e-a65b-356a507f80f7"
      },
      "execution_count": 98,
      "outputs": [
        {
          "output_type": "execute_result",
          "data": {
            "text/plain": [
              "(463, 214)"
            ]
          },
          "metadata": {},
          "execution_count": 98
        }
      ]
    },
    {
      "cell_type": "code",
      "source": [
        "# Оптимизаторы\n",
        "from tensorflow.keras.optimizers import Adam\n",
        "\n",
        "# Создание последовательной модели\n",
        "model = Sequential()\n",
        "model.add(BatchNormalization(input_dim=x_train.shape[1]))\n",
        "model.add(Dense(60, input_dim=x_train.shape[1], activation='relu'))\n",
        "model.add(Dropout(0.3))\n",
        "model.add(Dense(30, activation='relu'))\n",
        "model.add(Dropout(0.3))\n",
        "model.add(Dense(1, activation='softmax'))\n",
        "\n",
        "# Компиляция модели\n",
        "#model.compile(loss='binary_crossentropy', \n",
        "#              optimizer=Adam(learning_rate=0.001), \n",
        "#              metrics=['accuracy'])\n",
        "\n",
        "model.compile(optimizer=Adam(learning_rate=1e-5), loss='mse', metrics=['mae'])\n",
        "\n",
        "# Обучение сети\n",
        "history = model.fit(x_train, \n",
        "                    y_train, \n",
        "                    batch_size=8, \n",
        "                    epochs=200,\n",
        "                    validation_split=0.2, \n",
        "                    verbose=1)"
      ],
      "metadata": {
        "id": "ZdUCA8kiRVsh",
        "colab": {
          "base_uri": "https://localhost:8080/",
          "height": 1000
        },
        "outputId": "128f31d4-4c0e-4c3f-a7e0-93e1c9bcf8bd"
      },
      "execution_count": 99,
      "outputs": [
        {
          "output_type": "stream",
          "name": "stdout",
          "text": [
            "Epoch 1/200\n"
          ]
        },
        {
          "output_type": "error",
          "ename": "UnimplementedError",
          "evalue": "ignored",
          "traceback": [
            "\u001b[0;31m---------------------------------------------------------------------------\u001b[0m",
            "\u001b[0;31mUnimplementedError\u001b[0m                        Traceback (most recent call last)",
            "\u001b[0;32m<ipython-input-99-b5e55766272c>\u001b[0m in \u001b[0;36m<cell line: 21>\u001b[0;34m()\u001b[0m\n\u001b[1;32m     19\u001b[0m \u001b[0;34m\u001b[0m\u001b[0m\n\u001b[1;32m     20\u001b[0m \u001b[0;31m# Обучение сети\u001b[0m\u001b[0;34m\u001b[0m\u001b[0;34m\u001b[0m\u001b[0m\n\u001b[0;32m---> 21\u001b[0;31m history = model.fit(x_train, \n\u001b[0m\u001b[1;32m     22\u001b[0m                     \u001b[0my_train\u001b[0m\u001b[0;34m,\u001b[0m\u001b[0;34m\u001b[0m\u001b[0;34m\u001b[0m\u001b[0m\n\u001b[1;32m     23\u001b[0m                     \u001b[0mbatch_size\u001b[0m\u001b[0;34m=\u001b[0m\u001b[0;36m8\u001b[0m\u001b[0;34m,\u001b[0m\u001b[0;34m\u001b[0m\u001b[0;34m\u001b[0m\u001b[0m\n",
            "\u001b[0;32m/usr/local/lib/python3.10/dist-packages/keras/utils/traceback_utils.py\u001b[0m in \u001b[0;36merror_handler\u001b[0;34m(*args, **kwargs)\u001b[0m\n\u001b[1;32m     68\u001b[0m             \u001b[0;31m# To get the full stack trace, call:\u001b[0m\u001b[0;34m\u001b[0m\u001b[0;34m\u001b[0m\u001b[0m\n\u001b[1;32m     69\u001b[0m             \u001b[0;31m# `tf.debugging.disable_traceback_filtering()`\u001b[0m\u001b[0;34m\u001b[0m\u001b[0;34m\u001b[0m\u001b[0m\n\u001b[0;32m---> 70\u001b[0;31m             \u001b[0;32mraise\u001b[0m \u001b[0me\u001b[0m\u001b[0;34m.\u001b[0m\u001b[0mwith_traceback\u001b[0m\u001b[0;34m(\u001b[0m\u001b[0mfiltered_tb\u001b[0m\u001b[0;34m)\u001b[0m \u001b[0;32mfrom\u001b[0m \u001b[0;32mNone\u001b[0m\u001b[0;34m\u001b[0m\u001b[0;34m\u001b[0m\u001b[0m\n\u001b[0m\u001b[1;32m     71\u001b[0m         \u001b[0;32mfinally\u001b[0m\u001b[0;34m:\u001b[0m\u001b[0;34m\u001b[0m\u001b[0;34m\u001b[0m\u001b[0m\n\u001b[1;32m     72\u001b[0m             \u001b[0;32mdel\u001b[0m \u001b[0mfiltered_tb\u001b[0m\u001b[0;34m\u001b[0m\u001b[0;34m\u001b[0m\u001b[0m\n",
            "\u001b[0;32m/usr/local/lib/python3.10/dist-packages/tensorflow/python/eager/execute.py\u001b[0m in \u001b[0;36mquick_execute\u001b[0;34m(op_name, num_outputs, inputs, attrs, ctx, name)\u001b[0m\n\u001b[1;32m     50\u001b[0m   \u001b[0;32mtry\u001b[0m\u001b[0;34m:\u001b[0m\u001b[0;34m\u001b[0m\u001b[0;34m\u001b[0m\u001b[0m\n\u001b[1;32m     51\u001b[0m     \u001b[0mctx\u001b[0m\u001b[0;34m.\u001b[0m\u001b[0mensure_initialized\u001b[0m\u001b[0;34m(\u001b[0m\u001b[0;34m)\u001b[0m\u001b[0;34m\u001b[0m\u001b[0;34m\u001b[0m\u001b[0m\n\u001b[0;32m---> 52\u001b[0;31m     tensors = pywrap_tfe.TFE_Py_Execute(ctx._handle, device_name, op_name,\n\u001b[0m\u001b[1;32m     53\u001b[0m                                         inputs, attrs, num_outputs)\n\u001b[1;32m     54\u001b[0m   \u001b[0;32mexcept\u001b[0m \u001b[0mcore\u001b[0m\u001b[0;34m.\u001b[0m\u001b[0m_NotOkStatusException\u001b[0m \u001b[0;32mas\u001b[0m \u001b[0me\u001b[0m\u001b[0;34m:\u001b[0m\u001b[0;34m\u001b[0m\u001b[0;34m\u001b[0m\u001b[0m\n",
            "\u001b[0;31mUnimplementedError\u001b[0m: Graph execution error:\n\nDetected at node 'sequential_4/Cast' defined at (most recent call last):\n    File \"/usr/lib/python3.10/runpy.py\", line 196, in _run_module_as_main\n      return _run_code(code, main_globals, None,\n    File \"/usr/lib/python3.10/runpy.py\", line 86, in _run_code\n      exec(code, run_globals)\n    File \"/usr/local/lib/python3.10/dist-packages/ipykernel_launcher.py\", line 16, in <module>\n      app.launch_new_instance()\n    File \"/usr/local/lib/python3.10/dist-packages/traitlets/config/application.py\", line 992, in launch_instance\n      app.start()\n    File \"/usr/local/lib/python3.10/dist-packages/ipykernel/kernelapp.py\", line 619, in start\n      self.io_loop.start()\n    File \"/usr/local/lib/python3.10/dist-packages/tornado/platform/asyncio.py\", line 195, in start\n      self.asyncio_loop.run_forever()\n    File \"/usr/lib/python3.10/asyncio/base_events.py\", line 603, in run_forever\n      self._run_once()\n    File \"/usr/lib/python3.10/asyncio/base_events.py\", line 1909, in _run_once\n      handle._run()\n    File \"/usr/lib/python3.10/asyncio/events.py\", line 80, in _run\n      self._context.run(self._callback, *self._args)\n    File \"/usr/local/lib/python3.10/dist-packages/tornado/ioloop.py\", line 685, in <lambda>\n      lambda f: self._run_callback(functools.partial(callback, future))\n    File \"/usr/local/lib/python3.10/dist-packages/tornado/ioloop.py\", line 738, in _run_callback\n      ret = callback()\n    File \"/usr/local/lib/python3.10/dist-packages/tornado/gen.py\", line 825, in inner\n      self.ctx_run(self.run)\n    File \"/usr/local/lib/python3.10/dist-packages/tornado/gen.py\", line 786, in run\n      yielded = self.gen.send(value)\n    File \"/usr/local/lib/python3.10/dist-packages/ipykernel/kernelbase.py\", line 361, in process_one\n      yield gen.maybe_future(dispatch(*args))\n    File \"/usr/local/lib/python3.10/dist-packages/tornado/gen.py\", line 234, in wrapper\n      yielded = ctx_run(next, result)\n    File \"/usr/local/lib/python3.10/dist-packages/ipykernel/kernelbase.py\", line 261, in dispatch_shell\n      yield gen.maybe_future(handler(stream, idents, msg))\n    File \"/usr/local/lib/python3.10/dist-packages/tornado/gen.py\", line 234, in wrapper\n      yielded = ctx_run(next, result)\n    File \"/usr/local/lib/python3.10/dist-packages/ipykernel/kernelbase.py\", line 539, in execute_request\n      self.do_execute(\n    File \"/usr/local/lib/python3.10/dist-packages/tornado/gen.py\", line 234, in wrapper\n      yielded = ctx_run(next, result)\n    File \"/usr/local/lib/python3.10/dist-packages/ipykernel/ipkernel.py\", line 302, in do_execute\n      res = shell.run_cell(code, store_history=store_history, silent=silent)\n    File \"/usr/local/lib/python3.10/dist-packages/ipykernel/zmqshell.py\", line 539, in run_cell\n      return super(ZMQInteractiveShell, self).run_cell(*args, **kwargs)\n    File \"/usr/local/lib/python3.10/dist-packages/IPython/core/interactiveshell.py\", line 2975, in run_cell\n      result = self._run_cell(\n    File \"/usr/local/lib/python3.10/dist-packages/IPython/core/interactiveshell.py\", line 3030, in _run_cell\n      return runner(coro)\n    File \"/usr/local/lib/python3.10/dist-packages/IPython/core/async_helpers.py\", line 78, in _pseudo_sync_runner\n      coro.send(None)\n    File \"/usr/local/lib/python3.10/dist-packages/IPython/core/interactiveshell.py\", line 3257, in run_cell_async\n      has_raised = await self.run_ast_nodes(code_ast.body, cell_name,\n    File \"/usr/local/lib/python3.10/dist-packages/IPython/core/interactiveshell.py\", line 3473, in run_ast_nodes\n      if (await self.run_code(code, result,  async_=asy)):\n    File \"/usr/local/lib/python3.10/dist-packages/IPython/core/interactiveshell.py\", line 3553, in run_code\n      exec(code_obj, self.user_global_ns, self.user_ns)\n    File \"<ipython-input-99-b5e55766272c>\", line 21, in <cell line: 21>\n      history = model.fit(x_train,\n    File \"/usr/local/lib/python3.10/dist-packages/keras/utils/traceback_utils.py\", line 65, in error_handler\n      return fn(*args, **kwargs)\n    File \"/usr/local/lib/python3.10/dist-packages/keras/engine/training.py\", line 1685, in fit\n      tmp_logs = self.train_function(iterator)\n    File \"/usr/local/lib/python3.10/dist-packages/keras/engine/training.py\", line 1284, in train_function\n      return step_function(self, iterator)\n    File \"/usr/local/lib/python3.10/dist-packages/keras/engine/training.py\", line 1268, in step_function\n      outputs = model.distribute_strategy.run(run_step, args=(data,))\n    File \"/usr/local/lib/python3.10/dist-packages/keras/engine/training.py\", line 1249, in run_step\n      outputs = model.train_step(data)\n    File \"/usr/local/lib/python3.10/dist-packages/keras/engine/training.py\", line 1050, in train_step\n      y_pred = self(x, training=True)\n    File \"/usr/local/lib/python3.10/dist-packages/keras/utils/traceback_utils.py\", line 65, in error_handler\n      return fn(*args, **kwargs)\n    File \"/usr/local/lib/python3.10/dist-packages/keras/engine/training.py\", line 558, in __call__\n      return super().__call__(*args, **kwargs)\n    File \"/usr/local/lib/python3.10/dist-packages/keras/utils/traceback_utils.py\", line 65, in error_handler\n      return fn(*args, **kwargs)\n    File \"/usr/local/lib/python3.10/dist-packages/keras/engine/base_layer.py\", line 1145, in __call__\n      outputs = call_fn(inputs, *args, **kwargs)\n    File \"/usr/local/lib/python3.10/dist-packages/keras/utils/traceback_utils.py\", line 96, in error_handler\n      return fn(*args, **kwargs)\n    File \"/usr/local/lib/python3.10/dist-packages/keras/engine/sequential.py\", line 412, in call\n      return super().call(inputs, training=training, mask=mask)\n    File \"/usr/local/lib/python3.10/dist-packages/keras/engine/functional.py\", line 512, in call\n      return self._run_internal_graph(inputs, training=training, mask=mask)\n    File \"/usr/local/lib/python3.10/dist-packages/keras/engine/functional.py\", line 651, in _run_internal_graph\n      y = self._conform_to_reference_input(y, ref_input=x)\n    File \"/usr/local/lib/python3.10/dist-packages/keras/engine/functional.py\", line 748, in _conform_to_reference_input\n      tensor = tf.cast(tensor, dtype=ref_input.dtype)\nNode: 'sequential_4/Cast'\nCast string to float is not supported\n\t [[{{node sequential_4/Cast}}]] [Op:__inference_train_function_6956]"
          ]
        }
      ]
    },
    {
      "cell_type": "code",
      "source": [
        "# Обучение нейронной сети\n",
        "history = model.fit(x_train,               # Обучающая выборка параметров\n",
        "          y_train,               # Обучающая выборка меток класса\n",
        "          batch_size=8,          # Размер батча (пакета)\n",
        "          epochs=100,            # Количество эпох обучения\n",
        "          validation_split=0.2,  # Доля проверочной выборки\n",
        "          verbose=1)             # Отображение хода обучения"
      ],
      "metadata": {
        "id": "dbLx4tFNUd4V"
      },
      "execution_count": null,
      "outputs": []
    },
    {
      "cell_type": "code",
      "source": [
        "# Визуализация точности на обучающей выборке\n",
        "plt.plot(history.history['accuracy'], \n",
        "         label='Доля верных ответов на обучающем наборе')\n",
        "plt.plot(history.history['val_accuracy'], \n",
        "         label='Доля верных ответов на проверочном наборе')\n",
        "plt.xlabel('Эпоха обучения')\n",
        "plt.ylabel('Доля верных ответов')\n",
        "plt.legend()\n",
        "plt.show()\n",
        "\n",
        "plt.plot(history.history['loss'], \n",
        "         label='Ошибка на обучающем наборе')\n",
        "plt.plot(history.history['val_loss'], \n",
        "         label='Ошибка на проверочном наборе')\n",
        "plt.xlabel('Эпоха обучения')\n",
        "plt.ylabel('Ошибка')\n",
        "plt.legend()\n",
        "plt.show()"
      ],
      "metadata": {
        "id": "rZ1hnlp1UwYw"
      },
      "execution_count": null,
      "outputs": []
    }
  ]
}