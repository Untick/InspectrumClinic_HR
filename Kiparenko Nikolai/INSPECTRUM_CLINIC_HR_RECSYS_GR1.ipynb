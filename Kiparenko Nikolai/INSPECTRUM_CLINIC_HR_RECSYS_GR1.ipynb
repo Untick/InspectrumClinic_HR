{
  "nbformat": 4,
  "nbformat_minor": 0,
  "metadata": {
    "colab": {
      "provenance": [],
      "authorship_tag": "ABX9TyPra90hwHIrmp62t2awpC85",
      "include_colab_link": true
    },
    "kernelspec": {
      "name": "python3",
      "display_name": "Python 3"
    },
    "language_info": {
      "name": "python"
    }
  },
  "cells": [
    {
      "cell_type": "markdown",
      "metadata": {
        "id": "view-in-github",
        "colab_type": "text"
      },
      "source": [
        "<a href=\"https://colab.research.google.com/github/Untick/InspectrumClinic_HR_gr1/blob/main/Kiparenko%20Nikolai/INSPECTRUM_CLINIC_HR_RECSYS_GR1.ipynb\" target=\"_parent\"><img src=\"https://colab.research.google.com/assets/colab-badge.svg\" alt=\"Open In Colab\"/></a>"
      ]
    },
    {
      "cell_type": "code",
      "execution_count": 48,
      "metadata": {
        "id": "R6mOzJV8gx-V"
      },
      "outputs": [],
      "source": [
        "# Работа с массивами данных\n",
        "import numpy as np \n",
        "\n",
        "# Работа с таблицами\n",
        "import pandas as pd\n",
        "\n",
        "# Функции-утилиты для работы с категориальными данными\n",
        "from tensorflow.keras import utils\n",
        "\n",
        "# Класс для конструирования последовательной модели нейронной сети\n",
        "from tensorflow.keras.models import Sequential\n",
        "\n",
        "# Основные слои\n",
        "from tensorflow.keras.layers import Dense, Dropout, SpatialDropout1D, BatchNormalization, Embedding, Flatten, Activation, ReLU \n",
        "\n",
        "# Токенизатор для преобразование текстов в последовательности\n",
        "from tensorflow.keras.preprocessing.text import Tokenizer\n",
        "\n",
        "# Заполнение последовательностей до определенной длины\n",
        "from tensorflow.keras.preprocessing.sequence import pad_sequences\n",
        "\n",
        "# Матрица ошибок классификатора\n",
        "from sklearn.metrics import confusion_matrix, ConfusionMatrixDisplay\n",
        "\n",
        "# Кодирование тестовых меток\n",
        "from sklearn.preprocessing import LabelEncoder\n",
        "\n",
        "# Разбиение на тренировочную и тестовую выборки\n",
        "from sklearn.model_selection import train_test_split\n",
        "\n",
        "# автоматически парсит строку и сохранит ее в переменной datetime\n",
        "import datetime\n",
        "\n",
        "# Загрузка датасетов из облака google\n",
        "import gdown\n",
        "\n",
        "# Функции операционной системы\n",
        "import os\n",
        "\n",
        "# Работа со временем\n",
        "import time\n",
        "\n",
        "# Регулярные выражения\n",
        "import re\n",
        "\n",
        "# Запись в файлы и чтение из файлов структур данных Python\n",
        "import pickle\n",
        "\n",
        "# Отрисовка графиков\n",
        "import matplotlib.pyplot as plt\n",
        "\n",
        "\n",
        "%matplotlib inline"
      ]
    },
    {
      "cell_type": "code",
      "source": [
        "import gdown                                      # Подключим функцию gdown\n",
        "gdown.download('https://storage.yandexcloud.net/terratraineeship/23_InspectrumClinic_HR/datasets/%D0%94%D0%B0%D1%82%D0%B0%D0%A1%D0%B5%D1%82%20%D0%9E%D1%86%D0%B5%D0%BD%D0%BA%D0%B0%20%D1%80%D0%B5%D0%B7%D1%8E%D0%BC%D0%B5%20581%20%D1%80%D0%B5%D0%B7%D1%8E%D0%BC%D0%B5.xlsx','dataS.xlsx', quiet=True)   "
      ],
      "metadata": {
        "colab": {
          "base_uri": "https://localhost:8080/",
          "height": 36
        },
        "id": "o8Ni5OQchA1s",
        "outputId": "b9bb1be9-bf7a-4aa8-d15f-173c4207e4a2"
      },
      "execution_count": 73,
      "outputs": [
        {
          "output_type": "execute_result",
          "data": {
            "text/plain": [
              "'dataS.xlsx'"
            ],
            "application/vnd.google.colaboratory.intrinsic+json": {
              "type": "string"
            }
          },
          "metadata": {},
          "execution_count": 73
        }
      ]
    },
    {
      "cell_type": "code",
      "source": [
        "data = pd.read_excel (r'dataS.xlsx', index_col=0)\n",
        "data.max_columns = 30\n",
        "data.columns = ['Response_date', 'Full_name', 'Gender', 'Salary', 'Job', 'City', 'Employment', 'Schedule', 'Experience', 'Last_place', 'Position', 'Education', 'Update_resume', 'Suitable']"
      ],
      "metadata": {
        "id": "eMwgZ7cdhTWL"
      },
      "execution_count": 74,
      "outputs": []
    },
    {
      "cell_type": "code",
      "source": [
        "data.head(5)"
      ],
      "metadata": {
        "id": "oNKjYCqOvrqd",
        "colab": {
          "base_uri": "https://localhost:8080/",
          "height": 686
        },
        "outputId": "580f79c7-ffc0-41b4-c23b-5f6331d14156"
      },
      "execution_count": 4,
      "outputs": [
        {
          "output_type": "execute_result",
          "data": {
            "text/plain": [
              "         Response_date                        Full_name  \\\n",
              "0  2023-02-23 00:00:00                 Bessonova Mariya   \n",
              "1  2023-01-11 00:00:00  Ефремова Екатерина Вячеславовна   \n",
              "2  2023-02-27 00:00:00          Фролов Артур Михайлович   \n",
              "3  2023-01-11 00:00:00         Хозаев Расул Шагаманович   \n",
              "4  2023-01-11 00:00:00           Шадрин Олег Михайлович   \n",
              "\n",
              "                                      Gender        Salary  \\\n",
              "0                                    Женщина   90 000 руб.   \n",
              "1                                    Женщина    не указана   \n",
              "2  Мужчина, 33 года, родился 23 августа 1989  150 000 руб.   \n",
              "3   Мужчина, 32 года, родился 7 декабря 1990    не указана   \n",
              "4   Мужчина, 26 лет, родился 21 февраля 1996  150 000 руб.   \n",
              "\n",
              "                      Job                                               City  \\\n",
              "0  Growth Product Manager  Индонезия, Не готова к переезду, не готова к к...   \n",
              "1  Growth Product Manager  Москва, Готова к переезду, готова к командировкам   \n",
              "2  Growth Product Manager  Санкт-Петербург, Готов к переезду: Москва, гот...   \n",
              "3  Growth Product Manager  Москва, м. Молодежная, Хочу переехать, готов к...   \n",
              "4  Growth Product Manager       Пермь, Хочу переехать, готов к командировкам   \n",
              "\n",
              "                                          Employment  \\\n",
              "0  проектная работа, частичная занятость, полная ...   \n",
              "1                                   полная занятость   \n",
              "2  проектная работа, частичная занятость, полная ...   \n",
              "3  стажировка, частичная занятость, полная занятость   \n",
              "4  проектная работа, частичная занятость, полная ...   \n",
              "\n",
              "                                       Schedule  \\\n",
              "0                              удаленная работа   \n",
              "1  удаленная работа, гибкий график, полный день   \n",
              "2  удаленная работа, гибкий график, полный день   \n",
              "3  удаленная работа, гибкий график, полный день   \n",
              "4  удаленная работа, гибкий график, полный день   \n",
              "\n",
              "                       Experience  \\\n",
              "0   Опыт работы —5 лет 10 месяцев   \n",
              "1  Опыт работы —11 лет 11 месяцев   \n",
              "2     Опыт работы —7 лет 2 месяца   \n",
              "3   Опыт работы —8 лет 10 месяцев   \n",
              "4    Опыт работы —5 лет 9 месяцев   \n",
              "\n",
              "                                          Last_place  \\\n",
              "0                                PT MYBALI APP GROUP   \n",
              "1                                      Банк Открытие   \n",
              "2                                          DIKIY LLC   \n",
              "3                                           WeInvest   \n",
              "4  Индивидуальное предпринимательство / частная п...   \n",
              "\n",
              "                                      Position  \\\n",
              "0                         Менеджер по продукту   \n",
              "1  Product owner трайб сбережения и инвестиции   \n",
              "2      Директор по маркетингу и бренд-менеджер   \n",
              "3                Product Manager (team leader)   \n",
              "4                      Product/Project manager   \n",
              "\n",
              "                                           Education            Update_resume  \\\n",
              "0  Высшее, 2023, Нетоло́гия, 2014, Университет Ро...  23 февраля 2023 в 16:30   \n",
              "1  Высшее, 2022, GeekBrains, 2010, Московский худ...   8 февраля 2023 в 09:15   \n",
              "2  Высшее, 2013, Санкт-Петербургский государствен...  28 февраля 2023 в 09:41   \n",
              "3  Магистр, 2014, Московский государственный техн...   24 января 2023 в 12:07   \n",
              "4  Высшее, 2021, Российская академия народного хо...   6 февраля 2023 в 11:18   \n",
              "\n",
              "  Suitable  \n",
              "0       да  \n",
              "1       да  \n",
              "2       да  \n",
              "3       да  \n",
              "4       да  "
            ],
            "text/html": [
              "\n",
              "  <div id=\"df-b5f05229-03a5-452b-a72a-514e25709777\">\n",
              "    <div class=\"colab-df-container\">\n",
              "      <div>\n",
              "<style scoped>\n",
              "    .dataframe tbody tr th:only-of-type {\n",
              "        vertical-align: middle;\n",
              "    }\n",
              "\n",
              "    .dataframe tbody tr th {\n",
              "        vertical-align: top;\n",
              "    }\n",
              "\n",
              "    .dataframe thead th {\n",
              "        text-align: right;\n",
              "    }\n",
              "</style>\n",
              "<table border=\"1\" class=\"dataframe\">\n",
              "  <thead>\n",
              "    <tr style=\"text-align: right;\">\n",
              "      <th></th>\n",
              "      <th>Response_date</th>\n",
              "      <th>Full_name</th>\n",
              "      <th>Gender</th>\n",
              "      <th>Salary</th>\n",
              "      <th>Job</th>\n",
              "      <th>City</th>\n",
              "      <th>Employment</th>\n",
              "      <th>Schedule</th>\n",
              "      <th>Experience</th>\n",
              "      <th>Last_place</th>\n",
              "      <th>Position</th>\n",
              "      <th>Education</th>\n",
              "      <th>Update_resume</th>\n",
              "      <th>Suitable</th>\n",
              "    </tr>\n",
              "  </thead>\n",
              "  <tbody>\n",
              "    <tr>\n",
              "      <th>0</th>\n",
              "      <td>2023-02-23 00:00:00</td>\n",
              "      <td>Bessonova Mariya</td>\n",
              "      <td>Женщина</td>\n",
              "      <td>90 000 руб.</td>\n",
              "      <td>Growth Product Manager</td>\n",
              "      <td>Индонезия, Не готова к переезду, не готова к к...</td>\n",
              "      <td>проектная работа, частичная занятость, полная ...</td>\n",
              "      <td>удаленная работа</td>\n",
              "      <td>Опыт работы —5 лет 10 месяцев</td>\n",
              "      <td>PT MYBALI APP GROUP</td>\n",
              "      <td>Менеджер по продукту</td>\n",
              "      <td>Высшее, 2023, Нетоло́гия, 2014, Университет Ро...</td>\n",
              "      <td>23 февраля 2023 в 16:30</td>\n",
              "      <td>да</td>\n",
              "    </tr>\n",
              "    <tr>\n",
              "      <th>1</th>\n",
              "      <td>2023-01-11 00:00:00</td>\n",
              "      <td>Ефремова Екатерина Вячеславовна</td>\n",
              "      <td>Женщина</td>\n",
              "      <td>не указана</td>\n",
              "      <td>Growth Product Manager</td>\n",
              "      <td>Москва, Готова к переезду, готова к командировкам</td>\n",
              "      <td>полная занятость</td>\n",
              "      <td>удаленная работа, гибкий график, полный день</td>\n",
              "      <td>Опыт работы —11 лет 11 месяцев</td>\n",
              "      <td>Банк Открытие</td>\n",
              "      <td>Product owner трайб сбережения и инвестиции</td>\n",
              "      <td>Высшее, 2022, GeekBrains, 2010, Московский худ...</td>\n",
              "      <td>8 февраля 2023 в 09:15</td>\n",
              "      <td>да</td>\n",
              "    </tr>\n",
              "    <tr>\n",
              "      <th>2</th>\n",
              "      <td>2023-02-27 00:00:00</td>\n",
              "      <td>Фролов Артур Михайлович</td>\n",
              "      <td>Мужчина, 33 года, родился 23 августа 1989</td>\n",
              "      <td>150 000 руб.</td>\n",
              "      <td>Growth Product Manager</td>\n",
              "      <td>Санкт-Петербург, Готов к переезду: Москва, гот...</td>\n",
              "      <td>проектная работа, частичная занятость, полная ...</td>\n",
              "      <td>удаленная работа, гибкий график, полный день</td>\n",
              "      <td>Опыт работы —7 лет 2 месяца</td>\n",
              "      <td>DIKIY LLC</td>\n",
              "      <td>Директор по маркетингу и бренд-менеджер</td>\n",
              "      <td>Высшее, 2013, Санкт-Петербургский государствен...</td>\n",
              "      <td>28 февраля 2023 в 09:41</td>\n",
              "      <td>да</td>\n",
              "    </tr>\n",
              "    <tr>\n",
              "      <th>3</th>\n",
              "      <td>2023-01-11 00:00:00</td>\n",
              "      <td>Хозаев Расул Шагаманович</td>\n",
              "      <td>Мужчина, 32 года, родился 7 декабря 1990</td>\n",
              "      <td>не указана</td>\n",
              "      <td>Growth Product Manager</td>\n",
              "      <td>Москва, м. Молодежная, Хочу переехать, готов к...</td>\n",
              "      <td>стажировка, частичная занятость, полная занятость</td>\n",
              "      <td>удаленная работа, гибкий график, полный день</td>\n",
              "      <td>Опыт работы —8 лет 10 месяцев</td>\n",
              "      <td>WeInvest</td>\n",
              "      <td>Product Manager (team leader)</td>\n",
              "      <td>Магистр, 2014, Московский государственный техн...</td>\n",
              "      <td>24 января 2023 в 12:07</td>\n",
              "      <td>да</td>\n",
              "    </tr>\n",
              "    <tr>\n",
              "      <th>4</th>\n",
              "      <td>2023-01-11 00:00:00</td>\n",
              "      <td>Шадрин Олег Михайлович</td>\n",
              "      <td>Мужчина, 26 лет, родился 21 февраля 1996</td>\n",
              "      <td>150 000 руб.</td>\n",
              "      <td>Growth Product Manager</td>\n",
              "      <td>Пермь, Хочу переехать, готов к командировкам</td>\n",
              "      <td>проектная работа, частичная занятость, полная ...</td>\n",
              "      <td>удаленная работа, гибкий график, полный день</td>\n",
              "      <td>Опыт работы —5 лет 9 месяцев</td>\n",
              "      <td>Индивидуальное предпринимательство / частная п...</td>\n",
              "      <td>Product/Project manager</td>\n",
              "      <td>Высшее, 2021, Российская академия народного хо...</td>\n",
              "      <td>6 февраля 2023 в 11:18</td>\n",
              "      <td>да</td>\n",
              "    </tr>\n",
              "  </tbody>\n",
              "</table>\n",
              "</div>\n",
              "      <button class=\"colab-df-convert\" onclick=\"convertToInteractive('df-b5f05229-03a5-452b-a72a-514e25709777')\"\n",
              "              title=\"Convert this dataframe to an interactive table.\"\n",
              "              style=\"display:none;\">\n",
              "        \n",
              "  <svg xmlns=\"http://www.w3.org/2000/svg\" height=\"24px\"viewBox=\"0 0 24 24\"\n",
              "       width=\"24px\">\n",
              "    <path d=\"M0 0h24v24H0V0z\" fill=\"none\"/>\n",
              "    <path d=\"M18.56 5.44l.94 2.06.94-2.06 2.06-.94-2.06-.94-.94-2.06-.94 2.06-2.06.94zm-11 1L8.5 8.5l.94-2.06 2.06-.94-2.06-.94L8.5 2.5l-.94 2.06-2.06.94zm10 10l.94 2.06.94-2.06 2.06-.94-2.06-.94-.94-2.06-.94 2.06-2.06.94z\"/><path d=\"M17.41 7.96l-1.37-1.37c-.4-.4-.92-.59-1.43-.59-.52 0-1.04.2-1.43.59L10.3 9.45l-7.72 7.72c-.78.78-.78 2.05 0 2.83L4 21.41c.39.39.9.59 1.41.59.51 0 1.02-.2 1.41-.59l7.78-7.78 2.81-2.81c.8-.78.8-2.07 0-2.86zM5.41 20L4 18.59l7.72-7.72 1.47 1.35L5.41 20z\"/>\n",
              "  </svg>\n",
              "      </button>\n",
              "      \n",
              "  <style>\n",
              "    .colab-df-container {\n",
              "      display:flex;\n",
              "      flex-wrap:wrap;\n",
              "      gap: 12px;\n",
              "    }\n",
              "\n",
              "    .colab-df-convert {\n",
              "      background-color: #E8F0FE;\n",
              "      border: none;\n",
              "      border-radius: 50%;\n",
              "      cursor: pointer;\n",
              "      display: none;\n",
              "      fill: #1967D2;\n",
              "      height: 32px;\n",
              "      padding: 0 0 0 0;\n",
              "      width: 32px;\n",
              "    }\n",
              "\n",
              "    .colab-df-convert:hover {\n",
              "      background-color: #E2EBFA;\n",
              "      box-shadow: 0px 1px 2px rgba(60, 64, 67, 0.3), 0px 1px 3px 1px rgba(60, 64, 67, 0.15);\n",
              "      fill: #174EA6;\n",
              "    }\n",
              "\n",
              "    [theme=dark] .colab-df-convert {\n",
              "      background-color: #3B4455;\n",
              "      fill: #D2E3FC;\n",
              "    }\n",
              "\n",
              "    [theme=dark] .colab-df-convert:hover {\n",
              "      background-color: #434B5C;\n",
              "      box-shadow: 0px 1px 3px 1px rgba(0, 0, 0, 0.15);\n",
              "      filter: drop-shadow(0px 1px 2px rgba(0, 0, 0, 0.3));\n",
              "      fill: #FFFFFF;\n",
              "    }\n",
              "  </style>\n",
              "\n",
              "      <script>\n",
              "        const buttonEl =\n",
              "          document.querySelector('#df-b5f05229-03a5-452b-a72a-514e25709777 button.colab-df-convert');\n",
              "        buttonEl.style.display =\n",
              "          google.colab.kernel.accessAllowed ? 'block' : 'none';\n",
              "\n",
              "        async function convertToInteractive(key) {\n",
              "          const element = document.querySelector('#df-b5f05229-03a5-452b-a72a-514e25709777');\n",
              "          const dataTable =\n",
              "            await google.colab.kernel.invokeFunction('convertToInteractive',\n",
              "                                                     [key], {});\n",
              "          if (!dataTable) return;\n",
              "\n",
              "          const docLinkHtml = 'Like what you see? Visit the ' +\n",
              "            '<a target=\"_blank\" href=https://colab.research.google.com/notebooks/data_table.ipynb>data table notebook</a>'\n",
              "            + ' to learn more about interactive tables.';\n",
              "          element.innerHTML = '';\n",
              "          dataTable['output_type'] = 'display_data';\n",
              "          await google.colab.output.renderOutput(dataTable, element);\n",
              "          const docLink = document.createElement('div');\n",
              "          docLink.innerHTML = docLinkHtml;\n",
              "          element.appendChild(docLink);\n",
              "        }\n",
              "      </script>\n",
              "    </div>\n",
              "  </div>\n",
              "  "
            ]
          },
          "metadata": {},
          "execution_count": 4
        }
      ]
    },
    {
      "cell_type": "code",
      "source": [
        "month_name = {1: 'января', 2: 'февраля', 3: 'марта', 4: 'апреля', 5: 'мая', 6: 'июня',\n",
        "      7: 'июля', 8: 'августа', 9: 'сентября', 10: 'октября', 11: 'ноября', 12: 'декабря'}\n"
      ],
      "metadata": {
        "id": "5aMKziDaxYoP"
      },
      "execution_count": 75,
      "outputs": []
    },
    {
      "cell_type": "code",
      "source": [
        "Birth = data['Gender'].apply(lambda x: x.split(',')[2].strip() if len(x.split(','))>2 else '')\n",
        "data = data.assign(Birth=Birth)\n",
        "\n",
        "Age = data['Gender'].apply(lambda x: x.split(',')[1].strip() if len(x.split(','))>1 else '')\n",
        "data = data.assign(Age=Age)\n"
      ],
      "metadata": {
        "id": "xNucmkht_jEl"
      },
      "execution_count": 76,
      "outputs": []
    },
    {
      "cell_type": "code",
      "source": [
        "for i, row in data.iterrows():\n",
        "  #Gender\n",
        "  row.Gender = row.Gender.split(',')[0].strip() \n",
        "  #Женщина = 0, Мужчина = 1\n",
        "  row.Gender = row.Gender.replace('Женщина','0')\n",
        "  row.Gender = row.Gender.replace('Мужчина','1')\n",
        "  row.Gender = int(row.Gender)\n",
        "\n",
        "  #Birth\n",
        "  row.Birth = row.Birth.replace('родился','')\n",
        "  row.Birth = row.Birth.replace('родилась','')\n",
        " \n",
        "  #Age\n",
        "  row.Age = row.Age.replace('года','')\n",
        "  row.Age = row.Age.replace('год','')\n",
        "  row.Age = row.Age.replace('лет','')\n",
        "  row.Age = row.Age='' if 0 else row.Age\n",
        "\n",
        "  try:\n",
        "    row.Age = int(row.Age)\n",
        "  except (IndexError, TypeError, ValueError):\n",
        "    print(row.Age)\n",
        "    row.Age = 0\n",
        "\n",
        "  #Salary\n",
        "  row.Salary = row.Salary.replace(' ','') \n",
        "  row.Salary = str(float(row.Salary.replace('KGS',''))*0.89)      if row.Salary.find('KGS') != -1 else row.Salary\n",
        "  row.Salary = str(float(row.Salary.replace('KZT',''))*0.18)      if row.Salary.find('KZT') != -1 else row.Salary\n",
        "  row.Salary = str(float(row.Salary.replace('USD',''))*78.00)     if row.Salary.find('USD') != -1 else row.Salary\n",
        "  row.Salary = str(float(row.Salary.replace('EUR',''))*85.00)     if row.Salary.find('EUR') != -1 else row.Salary\n",
        "  row.Salary = row.Salary.replace('руб.','')\n",
        "  row.Salary = row.Salary.replace('руб','')\n",
        "  row.Salary = row.Salary.replace('неуказана','0')\n",
        "  row.Salary = int(float(row.Salary)) \n",
        "\n",
        "  #Experience\n",
        "  row.Experience = row.Experience.replace('Опыт работы —','')\n",
        "  row.Experience = row.Experience.replace('Опыт работы','')\n",
        "  row.Experience = row.Experience.replace('года',';')\n",
        "  row.Experience = row.Experience.replace('лет',';')\n",
        "  row.Experience = row.Experience.replace('годов',';')\n",
        "  row.Experience = row.Experience.replace('год',';')\n",
        "  row.Experience = row.Experience.replace('года',';')\n",
        "  row.Experience = row.Experience.replace('месяцев','')\n",
        "  row.Experience = row.Experience.replace('месяца','')\n",
        "  row.Experience = row.Experience.replace('месяц','')\n",
        "  row.Experience = row.Experience.replace('нет','0')\n",
        "  #Приводим к месяцам, если были года умножаем на 12 иначе берем как есть \n",
        "  row.Experience = (int(row.Experience.split(';')[0].strip()) * 12 + (int(row.Experience.split(';')[1].strip())) if row.Experience.split(';')[1].strip() != '' else int(row.Experience.split(';')[0].strip()) * 12) if len(row.Experience.split(';')) >1 else int(row.Experience.strip()) \n",
        "\n",
        "  #Schedule\n",
        "  #вахтовый метод = 0, удаленная работа = 1, гибкий график = 2, полный день = 3, сменный график = 4\n",
        "  row.Schedule = row.Schedule.replace('вахтовый метод','0')\n",
        "  row.Schedule = row.Schedule.replace('удаленная работа','1')\n",
        "  row.Schedule = row.Schedule.replace('гибкий график','2')\n",
        "  row.Schedule = row.Schedule.replace('полный день','3')\n",
        "  row.Schedule = row.Schedule.replace('сменный график','4')\n",
        "\n",
        "  #Employment\n",
        "  #проектная работа = 0, неполный рабочий день = 1, полный рабочий день = 2, полная занятость = 3, частичная занятость = 4, стажировка = 5, волонтерство = 6\n",
        "  row.Employment = row.Employment.replace('проектная работа','0')\n",
        "  row.Employment = row.Employment.replace('неполный рабочий день','1')\n",
        "  row.Employment = row.Employment.replace('полный рабочий день','2')\n",
        "  row.Employment = row.Employment.replace('полная занятость','3')\n",
        "  row.Employment = row.Employment.replace('частичная занятость','4')\n",
        "  row.Employment = row.Employment.replace('стажировка','5')\n",
        "  row.Employment = row.Employment.replace('волонтерство','6')\n",
        "\n",
        "  #Birth\n",
        "  for i in month_name:\n",
        "     row.Birth         = row.Birth.replace(month_name[i],'-'+str(i)+'-')\n",
        " \n",
        "  row.Birth         = row.Birth.replace('родился','')\n",
        "  row.Birth         = row.Birth.replace('родилась','')\n",
        "  row.Birth         = row.Birth.replace(' -','-')\n",
        "  row.Birth         = row.Birth.replace('- ','-')\n",
        "  row.Birth         = row.Birth+' 00:00:00'\n",
        "\n",
        "  row.Birth = '1-1-1' +row.Birth if row.Birth == ' 00:00:00' else row.Birth\n",
        "  day = int(row.Birth.split('-')[0].strip()) \n",
        "  month = int(row.Birth.split('-')[1].strip()) \n",
        "  year = row.Birth.split('-')[2].strip() \n",
        "  time = year.split(' ')[1].strip()\n",
        "  year = int(year.split(' ')[0].strip())\n",
        "\n",
        "  row.Birth = int(datetime.datetime(year,month,day).utcnow().timestamp())\n",
        "\n",
        "  #Update_resume \n",
        "  for i in month_name:\n",
        "    row.Update_resume = row.Update_resume.replace(month_name[i],'-'+str(i)+'-')\n",
        " \n",
        "  row.Update_resume = row.Update_resume.replace('в','')\n",
        "  row.Update_resume = row.Update_resume.replace(' -','-')\n",
        "  row.Update_resume = row.Update_resume.replace('- ','-')\n",
        "  row.Update_resume = row.Update_resume+':00'\n",
        "\n",
        "  day = int(row.Update_resume.split('-')[0].strip()) \n",
        "  month = int(row.Update_resume.split('-')[1].strip()) \n",
        "  year = row.Update_resume.split('-')[2].strip() \n",
        "  year = year.replace('  ',';')\n",
        "  year = year.replace(' ',';')\n",
        "   \n",
        "  time = year.split(';')[1].strip()\n",
        "  year = int(year.split(';')[0].strip())\n",
        "  hour = int(time.split(':')[0].strip())\n",
        "  minute = int(time.split(':')[1].strip())\n",
        "\n",
        "  row.Update_resume = int(datetime.datetime(year,month,day,hour,minute,0).utcnow().timestamp())\n",
        "\n",
        "  #Response_date\n",
        "  row.Response_date = int(datetime.datetime.utcnow().timestamp())"
      ],
      "metadata": {
        "id": "ON5Mqr555m-i"
      },
      "execution_count": null,
      "outputs": []
    },
    {
      "cell_type": "code",
      "source": [
        "#Переведем в бинарные значения\n",
        "\n",
        "#проектная работа = 0, неполный рабочий день = 1, полный рабочий день = 2, полная занятость = 3, частичная занятость = 4, стажировка = 5, волонтерство = 6\n",
        "Employment_0 = data['Employment'].apply(lambda x: 1 if x.find('0') else 0)\n",
        "Employment_1 = data['Employment'].apply(lambda x: 1 if x.find('1') else 0)\n",
        "Employment_2 = data['Employment'].apply(lambda x: 1 if x.find('2') else 0)\n",
        "Employment_3 = data['Employment'].apply(lambda x: 1 if x.find('3') else 0)\n",
        "Employment_4 = data['Employment'].apply(lambda x: 1 if x.find('4') else 0)\n",
        "Employment_5 = data['Employment'].apply(lambda x: 1 if x.find('5') else 0)\n",
        "Employment_6 = data['Employment'].apply(lambda x: 1 if x.find('6') else 0)\n",
        "\n",
        "data = data.assign(Employment_0=Employment_0,\n",
        "                    Employment_1=Employment_1,\n",
        "                    Employment_2=Employment_2,\n",
        "                    Employment_3=Employment_3,\n",
        "                    Employment_4=Employment_4,\n",
        "                    Employment_5=Employment_5,\n",
        "                    Employment_6=Employment_6)\n",
        "\n",
        "#вахтовый метод = 0, удаленная работа = 1, гибкий график = 2, полный день = 3, сменный график = 4\n",
        "Schedule_0 = data['Schedule'].apply(lambda x: 1 if x.find('0') else 0)\n",
        "Schedule_1 = data['Schedule'].apply(lambda x: 1 if x.find('1') else 0)\n",
        "Schedule_2 = data['Schedule'].apply(lambda x: 1 if x.find('2') else 0)\n",
        "Schedule_3 = data['Schedule'].apply(lambda x: 1 if x.find('3') else 0)\n",
        "Schedule_4 = data['Schedule'].apply(lambda x: 1 if x.find('4') else 0)\n",
        "\n",
        "data = data.assign(Schedule_0=Schedule_0,\n",
        "                    Schedule_1=Schedule_1,\n",
        "                    Schedule_2=Schedule_2,\n",
        "                    Schedule_3=Schedule_3,\n",
        "                    Schedule_4=Schedule_4)\n"
      ],
      "metadata": {
        "id": "mIuf1lJLW1jh"
      },
      "execution_count": 78,
      "outputs": []
    },
    {
      "cell_type": "code",
      "source": [
        "data = data.drop(columns=['Schedule', 'Employment'])"
      ],
      "metadata": {
        "id": "jd5xGjric4gj"
      },
      "execution_count": 79,
      "outputs": []
    },
    {
      "cell_type": "code",
      "source": [
        "#City\n",
        "tokenizer = Tokenizer(num_words=30, filters='!\"#$%&()*+,-–—./…:;<=>?@[\\\\]^_`{|}~«»\\t\\n\\xa0\\ufeff', lower=True, split=' ', oov_token='неизвестное_слово', char_level=False)\n",
        "tokenizer.fit_on_texts(data.City) #\"скармливаем\" наши тексты, т.е даём в обработку методу, который соберет словарь частотности\n",
        "City_Indexes = tokenizer.texts_to_sequences(data.City)\n",
        "data = data.assign(City=City_Indexes)"
      ],
      "metadata": {
        "id": "huxjH3OyOf1K"
      },
      "execution_count": 80,
      "outputs": []
    },
    {
      "cell_type": "code",
      "source": [
        "#Full_name\n",
        "tokenizer = Tokenizer(num_words=100, filters='!\"#$%&()*+,-–—./…:;<=>?@[\\\\]^_`{|}~«»\\t\\n\\xa0\\ufeff', lower=True, split=' ', oov_token='неизвестное_слово', char_level=False)\n",
        "tokenizer.fit_on_texts(data.Full_name)\n",
        "\n",
        "Full_name_Indexes = tokenizer.texts_to_sequences(data.Full_name) \n",
        "data = data.assign(Full_name=Full_name_Indexes)"
      ],
      "metadata": {
        "id": "2lv4hDhxSOMw"
      },
      "execution_count": 81,
      "outputs": []
    },
    {
      "cell_type": "code",
      "source": [
        "#Education\n",
        "tokenizer = Tokenizer(num_words=200, filters='!\"#$%&()*+,-–—./…:;<=>?@[\\\\]^_`{|}~«»\\t\\n\\xa0\\ufeff', lower=True, split=' ', oov_token='неизвестное_слово', char_level=False)\n",
        "tokenizer.fit_on_texts(data.Education) #\"скармливаем\" наши тексты, т.е даём в обработку методу, который соберет словарь частотности\n",
        "\n",
        "Education_Indexes = tokenizer.texts_to_sequences(data.Education) \n",
        "data = data.assign(Education=Education_Indexes)"
      ],
      "metadata": {
        "id": "ahPNe_0WWPba"
      },
      "execution_count": 82,
      "outputs": []
    },
    {
      "cell_type": "code",
      "source": [
        "#Job\n",
        "tokenizer = Tokenizer(num_words=150, filters='!\"#$%&()*+,-–—./…:;<=>?@[\\\\]^_`{|}~«»\\t\\n\\xa0\\ufeff', lower=True, split=' ', oov_token='неизвестное_слово', char_level=False)\n",
        "tokenizer.fit_on_texts(data.Job) #\"скармливаем\" наши тексты, т.е даём в обработку методу, который соберет словарь частотности\n",
        "\n",
        "Job_Indexes = tokenizer.texts_to_sequences(data.Job) \n",
        "data = data.assign(Job=Job_Indexes)"
      ],
      "metadata": {
        "id": "hb_lBu_7cKng"
      },
      "execution_count": 83,
      "outputs": []
    },
    {
      "cell_type": "code",
      "source": [
        "#Last_place\n",
        "tokenizer = Tokenizer(num_words=150, filters='!\"#$%&()*+,-–—./…:;<=>?@[\\\\]^_`{|}~«»\\t\\n\\xa0\\ufeff', lower=True, split=' ', oov_token='неизвестное_слово', char_level=False)\n",
        "tokenizer.fit_on_texts(data.Last_place) #\"скармливаем\" наши тексты, т.е даём в обработку методу, который соберет словарь частотности\n",
        "\n",
        "Last_place_Indexes = tokenizer.texts_to_sequences(data.Last_place) \n",
        "data = data.assign(Last_place=Last_place_Indexes)"
      ],
      "metadata": {
        "id": "axYFN8Nfcazh"
      },
      "execution_count": 84,
      "outputs": []
    },
    {
      "cell_type": "code",
      "source": [
        "#Position\n",
        "tokenizer = Tokenizer(num_words=150, filters='!\"#$%&()*+,-–—./…:;<=>?@[\\\\]^_`{|}~«»\\t\\n\\xa0\\ufeff', lower=True, split=' ', oov_token='неизвестное_слово', char_level=False)\n",
        "tokenizer.fit_on_texts(data.Position) #\"скармливаем\" наши тексты, т.е даём в обработку методу, который соберет словарь частотности\n",
        "\n",
        "Position_Indexes = tokenizer.texts_to_sequences(data.Position) \n",
        "data = data.assign(Position=Position_Indexes)"
      ],
      "metadata": {
        "id": "YPhVHww_frJ0"
      },
      "execution_count": 85,
      "outputs": []
    },
    {
      "cell_type": "code",
      "source": [
        "#Suitable\n",
        "#Список ответов делаем\n",
        "listAnswers = []\n",
        "#Обработаем отдельно колонку с ответами\n",
        "for i, row in data.iterrows():\n",
        "   a = 1 if str(row.Suitable).find('да') != -1 else 0\n",
        "   listAnswers.append([a])\n",
        "answers = np.array(listAnswers)\n",
        "print(answers.shape)"
      ],
      "metadata": {
        "id": "gcj28cfGMHuk",
        "colab": {
          "base_uri": "https://localhost:8080/"
        },
        "outputId": "13bc1dda-5452-4c7a-89f8-beef6b1127e4"
      },
      "execution_count": 86,
      "outputs": [
        {
          "output_type": "stream",
          "name": "stdout",
          "text": [
            "(579, 1)\n"
          ]
        }
      ]
    },
    {
      "cell_type": "code",
      "source": [
        "data = data.drop(columns=['Suitable'])"
      ],
      "metadata": {
        "id": "jXGtrnw_9Vzr"
      },
      "execution_count": 87,
      "outputs": []
    },
    {
      "cell_type": "code",
      "source": [
        "data.Response_date = data.Response_date.astype('int')\n",
        "data.Gender = data.Gender.astype('int')\n",
        "data.Salary = data.Salary.astype('int')\n",
        "data.Update_resume = data.Update_resume.astype('int')\n",
        "data.Birth = data.Birth.astype('int')\n",
        "data.Age = data.Age.astype('int')\n"
      ],
      "metadata": {
        "id": "b0yNy3C1R9Ub"
      },
      "execution_count": 88,
      "outputs": []
    },
    {
      "cell_type": "code",
      "source": [
        "data.info()"
      ],
      "metadata": {
        "id": "ryvagSkhRtXJ"
      },
      "execution_count": null,
      "outputs": []
    },
    {
      "cell_type": "code",
      "source": [
        "#Приведим все списки к однообразию\n",
        "#Находим максимальную длину\n",
        "Full_nameMaxI = 0\n",
        "PositionMaxI = 0\n",
        "Last_placeMaxI = 0\n",
        "JobMaxI = 0\n",
        "EducationMaxI = 0\n",
        "CityMaxI = 0\n",
        "for i, row in data.iterrows():\n",
        "    Full_nameMaxI   = max(Full_nameMaxI,len(row.Full_name))\n",
        "    PositionMaxI    = max(PositionMaxI,len(row.Position))\n",
        "    Last_placeMaxI  = max(Last_placeMaxI,len(row.Last_place))\n",
        "    JobMaxI         = max(JobMaxI,len(row.Job))\n",
        "    EducationMaxI   = max(EducationMaxI,len(row.Education))\n",
        "    CityMaxI        = max(CityMaxI,len(row.City))\n"
      ],
      "metadata": {
        "id": "KCCSCtHBaaGk"
      },
      "execution_count": 90,
      "outputs": []
    },
    {
      "cell_type": "code",
      "source": [
        "#обрабатываем данные list\n",
        "dataList = [] \n",
        "for i, row in data.iterrows():\n",
        "      row.Full_name     = np.array(row.Full_name+[0 for x in range(Full_nameMaxI-len(row.Full_name))])\n",
        "      row.Position      = np.array(row.Position+[0 for x in range(PositionMaxI-len(row.Position))])\n",
        "      row.Last_place    = np.array(row.Last_place+[0 for x in range(Last_placeMaxI-len(row.Last_place))])\n",
        "      row.Job           = np.array(row.Job+[0 for x in range(JobMaxI-len(row.Job))])\n",
        "      row.Education     = np.array(row.Education+[0 for x in range(EducationMaxI-len(row.Education))])\n",
        "      row.City          = np.array(row.City+[0 for x in range(CityMaxI-len(row.City))])\n",
        "      \n",
        "      #row_data = np.hstack(row)\n",
        "      row_data = np.hstack([\n",
        "                            row.Full_name,\n",
        "                            row.Position,\n",
        "                            row.Last_place,\n",
        "                            row.Job,\n",
        "                            row.Education,\n",
        "                            row.City,\n",
        "                            row.Response_date,\n",
        "                            row.Gender,\n",
        "                            row.Salary,\n",
        "                            row.Update_resume,\n",
        "                            row.Birth,\n",
        "                            row.Age,\n",
        "                            row.Employment_0,\n",
        "                            row.Employment_1,\n",
        "                            row.Employment_2,\n",
        "                            row.Employment_3,\n",
        "                            row.Employment_4,\n",
        "                            row.Employment_5,\n",
        "                            row.Employment_6,\n",
        "                            row.Schedule_0,\n",
        "                            row.Schedule_1,\n",
        "                            row.Schedule_2,\n",
        "                            row.Schedule_3,\n",
        "                            row.Schedule_4]\n",
        "                          )\n",
        "      \n",
        "      dataList.append(row_data)\n",
        "\n",
        "dataset = np.array(dataList) #, dtype=np.float\n",
        "print(dataset.shape)"
      ],
      "metadata": {
        "id": "-th01SunQz_S",
        "colab": {
          "base_uri": "https://localhost:8080/"
        },
        "outputId": "77574131-2748-4fec-ba76-3c45c71a6dc7"
      },
      "execution_count": 91,
      "outputs": [
        {
          "output_type": "stream",
          "name": "stdout",
          "text": [
            "(579, 213)\n"
          ]
        }
      ]
    },
    {
      "cell_type": "code",
      "source": [
        "#Смотрим что получилось\n",
        "data.max_columns = 30\n",
        "data.head(-15)"
      ],
      "metadata": {
        "id": "DIAp5w9kTiTM"
      },
      "execution_count": null,
      "outputs": []
    },
    {
      "cell_type": "code",
      "source": [
        "data.to_csv('data.csv')"
      ],
      "metadata": {
        "id": "IPWCbCrXm_uz"
      },
      "execution_count": null,
      "outputs": []
    },
    {
      "cell_type": "code",
      "source": [
        "for row in dataset:\n",
        "    print(dataset)"
      ],
      "metadata": {
        "id": "yIzdCr-Ge6ia"
      },
      "execution_count": null,
      "outputs": []
    },
    {
      "cell_type": "code",
      "source": [
        "x_train, x_test, y_train, y_test = train_test_split(dataset, # набор параметров\n",
        "                                                    answers, # набор меток классов\n",
        "                                                    test_size=0.2, # процент в тестовую\n",
        "                                                    shuffle=True, #  перемешивание\n",
        "                                                    random_state=3) # воспроизводимость"
      ],
      "metadata": {
        "id": "1IzuMvYhUQUc"
      },
      "execution_count": 92,
      "outputs": []
    },
    {
      "cell_type": "code",
      "source": [
        "# Масштабирование данных\n",
        "from sklearn.preprocessing import StandardScaler\n",
        "y_scaler = StandardScaler()\n",
        "# Нормализация выходных данных по стандартному нормальному распределению\n",
        "y_train_scaled = y_scaler.fit_transform(y_train)"
      ],
      "metadata": {
        "id": "pfoWI_PMCUCz"
      },
      "execution_count": null,
      "outputs": []
    },
    {
      "cell_type": "code",
      "source": [
        "x_train.shape"
      ],
      "metadata": {
        "colab": {
          "base_uri": "https://localhost:8080/"
        },
        "id": "lH9jk4sGDFnK",
        "outputId": "3a91210a-0711-44ce-ddb7-248fe0af73be"
      },
      "execution_count": 93,
      "outputs": [
        {
          "output_type": "execute_result",
          "data": {
            "text/plain": [
              "(463, 213)"
            ]
          },
          "metadata": {},
          "execution_count": 93
        }
      ]
    },
    {
      "cell_type": "code",
      "source": [
        "# Оптимизаторы\n",
        "from tensorflow.keras.optimizers import Adam\n",
        "# Основные слои\n",
        "from tensorflow.keras.layers import ReLU, Flatten\n",
        "\n",
        "# Создание последовательной модели\n",
        "model = Sequential()\n",
        "model.add(Dense(60, activation='relu',input_dim=x_train.shape[1]))\n",
        "model.add(Activation('relu'))\n",
        "#model.add(BatchNormalization())\n",
        "#model.add(BatchNormalization(input_dim=x_train.shape[1]))\n",
        "model.add(Dense(30, activation='relu'))\n",
        "#model.add(Dropout(0.3))\n",
        "#model.add(Flatten())\n",
        "#model.add(Dense(30, activation='softmax'))\n",
        "#model.add(Activation('relu'))\n",
        "#model.add(Dropout(0.3))\n",
        "model.add(Dense(1, activation='sigmoid')) #softmax linear\n",
        "\n",
        "# Компиляция модели\n",
        "model.compile(loss='binary_crossentropy', \n",
        "              optimizer=Adam(learning_rate=0.001), \n",
        "              metrics=['accuracy'])\n",
        "\n",
        "#model.compile(optimizer=Adam(learning_rate=1e-3), loss='mse', metrics=['mae'])\n",
        "\n",
        "# Обучение сети\n",
        "history = model.fit(x_train, \n",
        "                    y_train, #y_train\n",
        "                    batch_size=2, \n",
        "                    epochs=50,\n",
        "                    validation_split=0.2, \n",
        "                    verbose=1)"
      ],
      "metadata": {
        "id": "ZdUCA8kiRVsh",
        "colab": {
          "base_uri": "https://localhost:8080/"
        },
        "outputId": "6e7af430-5550-4912-e7ea-df1f3d3b6d1a"
      },
      "execution_count": 99,
      "outputs": [
        {
          "output_type": "stream",
          "name": "stdout",
          "text": [
            "Epoch 1/50\n",
            "185/185 [==============================] - 1s 3ms/step - loss: 1142504.1250 - accuracy: 0.9622 - val_loss: 4293418.0000 - val_accuracy: 0.9570\n",
            "Epoch 2/50\n",
            "185/185 [==============================] - 0s 2ms/step - loss: 1359858.1250 - accuracy: 0.9676 - val_loss: 1114842.0000 - val_accuracy: 0.9570\n",
            "Epoch 3/50\n",
            "185/185 [==============================] - 0s 2ms/step - loss: 973792.0625 - accuracy: 0.9676 - val_loss: 3973527.5000 - val_accuracy: 0.9570\n",
            "Epoch 4/50\n",
            "185/185 [==============================] - 0s 2ms/step - loss: 979765.0000 - accuracy: 0.9676 - val_loss: 3699248.2500 - val_accuracy: 0.9570\n",
            "Epoch 5/50\n",
            "185/185 [==============================] - 0s 2ms/step - loss: 749432.5625 - accuracy: 0.9676 - val_loss: 3384886.0000 - val_accuracy: 0.9570\n",
            "Epoch 6/50\n",
            "185/185 [==============================] - 0s 2ms/step - loss: 595241.6875 - accuracy: 0.9676 - val_loss: 3076269.5000 - val_accuracy: 0.9570\n",
            "Epoch 7/50\n",
            "185/185 [==============================] - 0s 2ms/step - loss: 769178.3750 - accuracy: 0.9676 - val_loss: 2930817.7500 - val_accuracy: 0.9570\n",
            "Epoch 8/50\n",
            "185/185 [==============================] - 0s 2ms/step - loss: 691105.7500 - accuracy: 0.9730 - val_loss: 223956.0000 - val_accuracy: 0.9570\n",
            "Epoch 9/50\n",
            "185/185 [==============================] - 0s 2ms/step - loss: 1040099.3125 - accuracy: 0.9622 - val_loss: 2371112.7500 - val_accuracy: 0.9570\n",
            "Epoch 10/50\n",
            "185/185 [==============================] - 0s 2ms/step - loss: 507034.1562 - accuracy: 0.9676 - val_loss: 106298.7109 - val_accuracy: 0.9570\n",
            "Epoch 11/50\n",
            "185/185 [==============================] - 0s 2ms/step - loss: 564928.5000 - accuracy: 0.9676 - val_loss: 2100745.7500 - val_accuracy: 0.9570\n",
            "Epoch 12/50\n",
            "185/185 [==============================] - 0s 3ms/step - loss: 289778.9688 - accuracy: 0.9676 - val_loss: 2024795.8750 - val_accuracy: 0.9570\n",
            "Epoch 13/50\n",
            "185/185 [==============================] - 0s 2ms/step - loss: 456595.9688 - accuracy: 0.9676 - val_loss: 294665.9062 - val_accuracy: 0.9570\n",
            "Epoch 14/50\n",
            "185/185 [==============================] - 0s 2ms/step - loss: 488197.0312 - accuracy: 0.9730 - val_loss: 1073427.3750 - val_accuracy: 0.9570\n",
            "Epoch 15/50\n",
            "185/185 [==============================] - 0s 2ms/step - loss: 250318.4375 - accuracy: 0.9622 - val_loss: 1703321.1250 - val_accuracy: 0.9570\n",
            "Epoch 16/50\n",
            "185/185 [==============================] - 1s 3ms/step - loss: 178244.3438 - accuracy: 0.9676 - val_loss: 1411797.0000 - val_accuracy: 0.9570\n",
            "Epoch 17/50\n",
            "185/185 [==============================] - 1s 3ms/step - loss: 471267.2812 - accuracy: 0.9730 - val_loss: 863879.0625 - val_accuracy: 0.9570\n",
            "Epoch 18/50\n",
            "185/185 [==============================] - 1s 3ms/step - loss: 351975.4062 - accuracy: 0.9676 - val_loss: 201153.7812 - val_accuracy: 0.9570\n",
            "Epoch 19/50\n",
            "185/185 [==============================] - 1s 3ms/step - loss: 369231.5312 - accuracy: 0.9622 - val_loss: 1134028.6250 - val_accuracy: 0.9570\n",
            "Epoch 20/50\n",
            "185/185 [==============================] - 1s 3ms/step - loss: 316800.4688 - accuracy: 0.9676 - val_loss: 1252690.7500 - val_accuracy: 0.9570\n",
            "Epoch 21/50\n",
            "185/185 [==============================] - 1s 3ms/step - loss: 207009.9844 - accuracy: 0.9730 - val_loss: 777.1623 - val_accuracy: 0.6989\n",
            "Epoch 22/50\n",
            "185/185 [==============================] - 0s 2ms/step - loss: 302427.2188 - accuracy: 0.9622 - val_loss: 1050287.1250 - val_accuracy: 0.9570\n",
            "Epoch 23/50\n",
            "185/185 [==============================] - 0s 2ms/step - loss: 328519.0000 - accuracy: 0.9676 - val_loss: 1139111.3750 - val_accuracy: 0.9570\n",
            "Epoch 24/50\n",
            "185/185 [==============================] - 0s 2ms/step - loss: 185154.2500 - accuracy: 0.9730 - val_loss: 1072271.0000 - val_accuracy: 0.9570\n",
            "Epoch 25/50\n",
            "185/185 [==============================] - 0s 2ms/step - loss: 347186.4062 - accuracy: 0.9676 - val_loss: 1024987.2500 - val_accuracy: 0.9570\n",
            "Epoch 26/50\n",
            "185/185 [==============================] - 0s 2ms/step - loss: 233326.7656 - accuracy: 0.9730 - val_loss: 47311.2031 - val_accuracy: 0.9570\n",
            "Epoch 27/50\n",
            "185/185 [==============================] - 0s 2ms/step - loss: 235669.1406 - accuracy: 0.9676 - val_loss: 430675.6250 - val_accuracy: 0.9570\n",
            "Epoch 28/50\n",
            "185/185 [==============================] - 0s 2ms/step - loss: 102987.0234 - accuracy: 0.9676 - val_loss: 63415.0312 - val_accuracy: 0.9570\n",
            "Epoch 29/50\n",
            "185/185 [==============================] - 0s 2ms/step - loss: 81605.7422 - accuracy: 0.9676 - val_loss: 106970.4531 - val_accuracy: 0.9570\n",
            "Epoch 30/50\n",
            "185/185 [==============================] - 0s 2ms/step - loss: 98178.7422 - accuracy: 0.9622 - val_loss: 427177.1250 - val_accuracy: 0.9570\n",
            "Epoch 31/50\n",
            "185/185 [==============================] - 0s 2ms/step - loss: 167204.2812 - accuracy: 0.9730 - val_loss: 314708.3125 - val_accuracy: 0.9570\n",
            "Epoch 32/50\n",
            "185/185 [==============================] - 0s 2ms/step - loss: 72548.9531 - accuracy: 0.9676 - val_loss: 38195.9336 - val_accuracy: 0.9570\n",
            "Epoch 33/50\n",
            "185/185 [==============================] - 0s 2ms/step - loss: 71431.4297 - accuracy: 0.9676 - val_loss: 317500.2188 - val_accuracy: 0.9570\n",
            "Epoch 34/50\n",
            "185/185 [==============================] - 0s 2ms/step - loss: 231663.2656 - accuracy: 0.9676 - val_loss: 447687.0000 - val_accuracy: 0.9570\n",
            "Epoch 35/50\n",
            "185/185 [==============================] - 0s 2ms/step - loss: 134388.3438 - accuracy: 0.9676 - val_loss: 539705.0625 - val_accuracy: 0.9570\n",
            "Epoch 36/50\n",
            "185/185 [==============================] - 0s 2ms/step - loss: 115313.7969 - accuracy: 0.9676 - val_loss: 144422.3438 - val_accuracy: 0.9570\n",
            "Epoch 37/50\n",
            "185/185 [==============================] - 0s 2ms/step - loss: 73375.1797 - accuracy: 0.9730 - val_loss: 292107.1875 - val_accuracy: 0.9570\n",
            "Epoch 38/50\n",
            "185/185 [==============================] - 0s 2ms/step - loss: 68815.9219 - accuracy: 0.9676 - val_loss: 244316.0469 - val_accuracy: 0.9570\n",
            "Epoch 39/50\n",
            "185/185 [==============================] - 0s 2ms/step - loss: 55210.1094 - accuracy: 0.9676 - val_loss: 219704.4375 - val_accuracy: 0.9570\n",
            "Epoch 40/50\n",
            "185/185 [==============================] - 0s 2ms/step - loss: 66960.7109 - accuracy: 0.9676 - val_loss: 256470.6406 - val_accuracy: 0.9570\n",
            "Epoch 41/50\n",
            "185/185 [==============================] - 0s 2ms/step - loss: 115041.6719 - accuracy: 0.9622 - val_loss: 305217.1250 - val_accuracy: 0.9570\n",
            "Epoch 42/50\n",
            "185/185 [==============================] - 0s 2ms/step - loss: 60627.2695 - accuracy: 0.9730 - val_loss: 40787.8398 - val_accuracy: 0.0430\n",
            "Epoch 43/50\n",
            "185/185 [==============================] - 0s 2ms/step - loss: 73576.0156 - accuracy: 0.9622 - val_loss: 45396.0312 - val_accuracy: 0.9570\n",
            "Epoch 44/50\n",
            "185/185 [==============================] - 0s 2ms/step - loss: 67319.1641 - accuracy: 0.9676 - val_loss: 219261.2969 - val_accuracy: 0.9570\n",
            "Epoch 45/50\n",
            "185/185 [==============================] - 0s 2ms/step - loss: 33906.2656 - accuracy: 0.9730 - val_loss: 68651.6172 - val_accuracy: 0.9570\n",
            "Epoch 46/50\n",
            "185/185 [==============================] - 0s 2ms/step - loss: 49871.5234 - accuracy: 0.9676 - val_loss: 151024.4531 - val_accuracy: 0.9570\n",
            "Epoch 47/50\n",
            "185/185 [==============================] - 1s 3ms/step - loss: 43001.3359 - accuracy: 0.9676 - val_loss: 174088.2812 - val_accuracy: 0.9570\n",
            "Epoch 48/50\n",
            "185/185 [==============================] - 1s 3ms/step - loss: 41311.2148 - accuracy: 0.9676 - val_loss: 275149.9062 - val_accuracy: 0.9570\n",
            "Epoch 49/50\n",
            "185/185 [==============================] - 1s 3ms/step - loss: 228226.9688 - accuracy: 0.9676 - val_loss: 269915.4688 - val_accuracy: 0.9570\n",
            "Epoch 50/50\n",
            "185/185 [==============================] - 1s 3ms/step - loss: 63710.2930 - accuracy: 0.9676 - val_loss: 91787.2578 - val_accuracy: 0.9570\n"
          ]
        }
      ]
    },
    {
      "cell_type": "code",
      "source": [
        "# Визуализация точности на обучающей выборке\n",
        "plt.plot(history.history['accuracy'], \n",
        "         label='Доля верных ответов на обучающем наборе') #mae\n",
        "plt.plot(history.history['val_accuracy'], \n",
        "         label='Доля верных ответов на проверочном наборе') #val_mae\n",
        "plt.xlabel('Эпоха обучения')\n",
        "plt.ylabel('Средняя абсолютная ошибка')\n",
        "plt.legend()\n",
        "plt.show()"
      ],
      "metadata": {
        "id": "rZ1hnlp1UwYw",
        "colab": {
          "base_uri": "https://localhost:8080/",
          "height": 449
        },
        "outputId": "2071f490-5de9-4988-c099-c6ff55d41285"
      },
      "execution_count": 100,
      "outputs": [
        {
          "output_type": "display_data",
          "data": {
            "text/plain": [
              "<Figure size 640x480 with 1 Axes>"
            ],
            "image/png": "[encoded data removed]"
          },
          "metadata": {}
        }
      ]
    },
    {
      "cell_type": "code",
      "source": [
        "def eval_net(model, x_train, y_train, y_scaler = None, n = 10, limit = 1000.):\n",
        "  \n",
        "    pred = model.predict(x_train)             # Предсказание на тренировочной выборке\n",
        "    if y_scaler:                              # Если есть нормирование - то денормировать\n",
        "        pred = y_scaler.inverse_transform(pred)\n",
        "\n",
        "    print('Средняя абсолютная ошибка:', mean_absolute_error(pred, y_train), '\\n')\n",
        "\n",
        "    for i in range(n):\n",
        "        print('Реальное значение: {:6.2f}  Предсказанное значение: {:6.2f}  Разница: {:6.2f}'.format(y_train[i, 0],\n",
        "                                                                                                    pred[i, 0],\n",
        "                                                                                                    abs(y_train[i, 0] - pred[i, 0])))\n",
        "    # Построение картинки разброса предсказанных и верных значений зарплаты\n",
        "    fig, ax = plt.subplots(figsize=(6, 6))\n",
        "    ax.scatter(y_train, pred)                 # Отрисовка точечного графика\n",
        "    ax.set_xlim(0, limit)                     # Пределы по x, y\n",
        "    ax.set_ylim(0, limit)\n",
        "    ax.plot(plt.xlim(), plt.ylim(), 'r')      # Отрисовка диагональной линии\n",
        "    plt.xlabel('Правильные значения')\n",
        "    plt.ylabel('Предсказания')\n",
        "    plt.grid()\n",
        "    plt.show()     "
      ],
      "metadata": {
        "id": "i7IaB1g4CjOH"
      },
      "execution_count": 32,
      "outputs": []
    },
    {
      "cell_type": "code",
      "source": [
        "\n",
        "\n",
        "eval_net(model, x_train, y_train, y_scaler)"
      ],
      "metadata": {
        "colab": {
          "base_uri": "https://localhost:8080/",
          "height": 773
        },
        "id": "eijrYwXFB8Lw",
        "outputId": "f0af008a-3aea-415a-935e-d8d18f5264a4"
      },
      "execution_count": null,
      "outputs": [
        {
          "output_type": "stream",
          "name": "stdout",
          "text": [
            "15/15 [==============================] - 0s 2ms/step\n",
            "Средняя абсолютная ошибка: 0.06281326083591124 \n",
            "\n",
            "Реальное значение:   0.00  Предсказанное значение:   0.04  Разница:   0.04\n",
            "Реальное значение:   0.00  Предсказанное значение:   0.04  Разница:   0.04\n",
            "Реальное значение:   0.00  Предсказанное значение:   0.04  Разница:   0.04\n",
            "Реальное значение:   0.00  Предсказанное значение:   0.04  Разница:   0.04\n",
            "Реальное значение:   0.00  Предсказанное значение:   0.04  Разница:   0.04\n",
            "Реальное значение:   0.00  Предсказанное значение:   0.04  Разница:   0.04\n",
            "Реальное значение:   0.00  Предсказанное значение:   0.04  Разница:   0.04\n",
            "Реальное значение:   0.00  Предсказанное значение:   0.04  Разница:   0.04\n",
            "Реальное значение:   0.00  Предсказанное значение:   0.04  Разница:   0.04\n",
            "Реальное значение:   0.00  Предсказанное значение:   0.04  Разница:   0.04\n"
          ]
        },
        {
          "output_type": "display_data",
          "data": {
            "text/plain": [
              "<Figure size 600x600 with 1 Axes>"
            ],
            "image/png": "[encoded data removed]"
          },
          "metadata": {}
        }
      ]
    },
    {
      "cell_type": "code",
      "source": [
        "# Метрики для расчета ошибок\n",
        "from sklearn.metrics import mean_squared_error, mean_absolute_error\n",
        "\n",
        "# Проверка работы сети - предсказание на тренировочной выборке\n",
        "pred = model.predict(x_train)\n",
        "\n",
        "# Расчет среднего значения ошибки \n",
        "print((abs(pred - y_train)).mean())         # Расчет вручную\n",
        "print(mean_absolute_error(pred, y_train))   # Расчет с помощью готовой функции"
      ],
      "metadata": {
        "colab": {
          "base_uri": "https://localhost:8080/"
        },
        "id": "jWRvBNe8AZw7",
        "outputId": "a6e2e346-0e7a-431f-9753-77556dcfa66e"
      },
      "execution_count": 96,
      "outputs": [
        {
          "output_type": "stream",
          "name": "stdout",
          "text": [
            "15/15 [==============================] - 0s 2ms/step\n",
            "0.02159827213822894\n",
            "0.02159827213822894\n"
          ]
        }
      ]
    }
  ]
}