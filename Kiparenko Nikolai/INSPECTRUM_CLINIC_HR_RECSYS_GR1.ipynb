{
  "nbformat": 4,
  "nbformat_minor": 0,
  "metadata": {
    "colab": {
      "provenance": [],
      "authorship_tag": "ABX9TyM9HbpqBPb+/dZt9IlwQycJ",
      "include_colab_link": true
    },
    "kernelspec": {
      "name": "python3",
      "display_name": "Python 3"
    },
    "language_info": {
      "name": "python"
    }
  },
  "cells": [
    {
      "cell_type": "markdown",
      "metadata": {
        "id": "view-in-github",
        "colab_type": "text"
      },
      "source": [
        "<a href=\"https://colab.research.google.com/github/Untick/InspectrumClinic_HR_gr1/blob/main/Kiparenko%20Nikolai/INSPECTRUM_CLINIC_HR_RECSYS_GR1.ipynb\" target=\"_parent\"><img src=\"https://colab.research.google.com/assets/colab-badge.svg\" alt=\"Open In Colab\"/></a>"
      ]
    },
    {
      "cell_type": "code",
      "execution_count": 3,
      "metadata": {
        "id": "R6mOzJV8gx-V"
      },
      "outputs": [],
      "source": [
        "# Работа с массивами данных\n",
        "import numpy as np \n",
        "\n",
        "# Работа с таблицами\n",
        "import pandas as pd\n",
        "\n",
        "# Функции-утилиты для работы с категориальными данными\n",
        "from tensorflow.keras import utils\n",
        "\n",
        "# Класс для конструирования последовательной модели нейронной сети\n",
        "from tensorflow.keras.models import Sequential\n",
        "\n",
        "# Основные слои\n",
        "from tensorflow.keras.layers import Dense, Dropout, SpatialDropout1D, BatchNormalization, Embedding, Flatten, Activation, ReLU \n",
        "\n",
        "# Токенизатор для преобразование текстов в последовательности\n",
        "from tensorflow.keras.preprocessing.text import Tokenizer\n",
        "\n",
        "# Заполнение последовательностей до определенной длины\n",
        "from tensorflow.keras.preprocessing.sequence import pad_sequences\n",
        "\n",
        "# Матрица ошибок классификатора\n",
        "from sklearn.metrics import confusion_matrix, ConfusionMatrixDisplay\n",
        "\n",
        "# Кодирование тестовых меток\n",
        "from sklearn.preprocessing import LabelEncoder\n",
        "\n",
        "# Разбиение на тренировочную и тестовую выборки\n",
        "from sklearn.model_selection import train_test_split\n",
        "\n",
        "# автоматически парсит строку и сохранит ее в переменной datetime\n",
        "import datetime\n",
        "\n",
        "# Загрузка датасетов из облака google\n",
        "import gdown\n",
        "\n",
        "# Функции операционной системы\n",
        "import os\n",
        "\n",
        "# Работа со временем\n",
        "import time\n",
        "\n",
        "# Регулярные выражения\n",
        "import re\n",
        "\n",
        "# Запись в файлы и чтение из файлов структур данных Python\n",
        "import pickle\n",
        "\n",
        "# Отрисовка графиков\n",
        "import matplotlib.pyplot as plt\n",
        "\n",
        "\n",
        "%matplotlib inline"
      ]
    },
    {
      "cell_type": "code",
      "source": [
        "import gdown                                      # Подключим функцию gdown\n",
        "gdown.download('https://storage.yandexcloud.net/terratraineeship/23_InspectrumClinic_HR/datasets/%D0%94%D0%B0%D1%82%D0%B0%D0%A1%D0%B5%D1%82%20%D0%9E%D1%86%D0%B5%D0%BD%D0%BA%D0%B0%20%D1%80%D0%B5%D0%B7%D1%8E%D0%BC%D0%B5%20581%20%D1%80%D0%B5%D0%B7%D1%8E%D0%BC%D0%B5.xlsx','dataS.xlsx', quiet=True)   "
      ],
      "metadata": {
        "colab": {
          "base_uri": "https://localhost:8080/",
          "height": 35
        },
        "id": "o8Ni5OQchA1s",
        "outputId": "9d26f65f-10dc-4ce2-9208-65db120b6374"
      },
      "execution_count": 4,
      "outputs": [
        {
          "output_type": "execute_result",
          "data": {
            "text/plain": [
              "'dataS.xlsx'"
            ],
            "application/vnd.google.colaboratory.intrinsic+json": {
              "type": "string"
            }
          },
          "metadata": {},
          "execution_count": 4
        }
      ]
    },
    {
      "cell_type": "code",
      "source": [
        "data = pd.read_excel (r'dataS.xlsx', index_col=0)\n",
        "data.max_columns = 30\n",
        "data.columns = ['Response_date', 'Full_name', 'Gender', 'Salary', 'Job', 'City', 'Employment', 'Schedule', 'Experience', 'Last_place', 'Position', 'Education', 'Update_resume', 'Suitable']"
      ],
      "metadata": {
        "id": "eMwgZ7cdhTWL"
      },
      "execution_count": 5,
      "outputs": []
    },
    {
      "cell_type": "code",
      "source": [
        "data.head(5)"
      ],
      "metadata": {
        "id": "oNKjYCqOvrqd"
      },
      "execution_count": null,
      "outputs": []
    },
    {
      "cell_type": "code",
      "source": [
        "month_name = {1: 'января', 2: 'февраля', 3: 'марта', 4: 'апреля', 5: 'мая', 6: 'июня',\n",
        "      7: 'июля', 8: 'августа', 9: 'сентября', 10: 'октября', 11: 'ноября', 12: 'декабря'}\n"
      ],
      "metadata": {
        "id": "5aMKziDaxYoP"
      },
      "execution_count": 6,
      "outputs": []
    },
    {
      "cell_type": "code",
      "source": [
        "Birth = data['Gender'].apply(lambda x: x.split(',')[2].strip() if len(x.split(','))>2 else '')\n",
        "data = data.assign(Birth=Birth)\n",
        "\n",
        "Age = data['Gender'].apply(lambda x: x.split(',')[1].strip() if len(x.split(','))>1 else '')\n",
        "data = data.assign(Age=Age)\n"
      ],
      "metadata": {
        "id": "xNucmkht_jEl"
      },
      "execution_count": 7,
      "outputs": []
    },
    {
      "cell_type": "code",
      "source": [
        "for i, row in data.iterrows():\n",
        "  #Gender\n",
        "  row.Gender = row.Gender.split(',')[0].strip() \n",
        "  #Женщина = 0, Мужчина = 1\n",
        "  row.Gender = row.Gender.replace('Женщина','0')\n",
        "  row.Gender = row.Gender.replace('Мужчина','1')\n",
        "  row.Gender = int(row.Gender)\n",
        "\n",
        "  #Birth\n",
        "  row.Birth = row.Birth.replace('родился','')\n",
        "  row.Birth = row.Birth.replace('родилась','')\n",
        " \n",
        "  #Age\n",
        "  row.Age = row.Age.replace('года','')\n",
        "  row.Age = row.Age.replace('год','')\n",
        "  row.Age = row.Age.replace('лет','')\n",
        "  row.Age = row.Age='' if 0 else row.Age\n",
        "\n",
        "  try:\n",
        "    row.Age = int(row.Age)\n",
        "  except (IndexError, TypeError, ValueError):\n",
        "    print(row.Age)\n",
        "    row.Age = 0\n",
        "\n",
        "  #Salary\n",
        "  row.Salary = row.Salary.replace(' ','') \n",
        "  row.Salary = str(float(row.Salary.replace('KGS',''))*0.89)      if row.Salary.find('KGS') != -1 else row.Salary\n",
        "  row.Salary = str(float(row.Salary.replace('KZT',''))*0.18)      if row.Salary.find('KZT') != -1 else row.Salary\n",
        "  row.Salary = str(float(row.Salary.replace('USD',''))*78.00)     if row.Salary.find('USD') != -1 else row.Salary\n",
        "  row.Salary = str(float(row.Salary.replace('EUR',''))*85.00)     if row.Salary.find('EUR') != -1 else row.Salary\n",
        "  row.Salary = row.Salary.replace('руб.','')\n",
        "  row.Salary = row.Salary.replace('руб','')\n",
        "  row.Salary = row.Salary.replace('неуказана','0')\n",
        "  row.Salary = int(float(row.Salary)) \n",
        "\n",
        "  #Experience\n",
        "  row.Experience = row.Experience.replace('Опыт работы —','')\n",
        "  row.Experience = row.Experience.replace('Опыт работы','')\n",
        "  row.Experience = row.Experience.replace('года',';')\n",
        "  row.Experience = row.Experience.replace('лет',';')\n",
        "  row.Experience = row.Experience.replace('годов',';')\n",
        "  row.Experience = row.Experience.replace('год',';')\n",
        "  row.Experience = row.Experience.replace('года',';')\n",
        "  row.Experience = row.Experience.replace('месяцев','')\n",
        "  row.Experience = row.Experience.replace('месяца','')\n",
        "  row.Experience = row.Experience.replace('месяц','')\n",
        "  row.Experience = row.Experience.replace('нет','0')\n",
        "  #Приводим к месяцам, если были года умножаем на 12 иначе берем как есть \n",
        "  row.Experience = (int(row.Experience.split(';')[0].strip()) * 12 + (int(row.Experience.split(';')[1].strip())) if row.Experience.split(';')[1].strip() != '' else int(row.Experience.split(';')[0].strip()) * 12) if len(row.Experience.split(';')) >1 else int(row.Experience.strip()) \n",
        "\n",
        "  #Schedule\n",
        "  #вахтовый метод = 0, удаленная работа = 1, гибкий график = 2, полный день = 3, сменный график = 4\n",
        "  row.Schedule = row.Schedule.replace('вахтовый метод','0')\n",
        "  row.Schedule = row.Schedule.replace('удаленная работа','1')\n",
        "  row.Schedule = row.Schedule.replace('гибкий график','2')\n",
        "  row.Schedule = row.Schedule.replace('полный день','3')\n",
        "  row.Schedule = row.Schedule.replace('сменный график','4')\n",
        "\n",
        "  #Employment\n",
        "  #проектная работа = 0, неполный рабочий день = 1, полный рабочий день = 2, полная занятость = 3, частичная занятость = 4, стажировка = 5, волонтерство = 6\n",
        "  row.Employment = row.Employment.replace('проектная работа','0')\n",
        "  row.Employment = row.Employment.replace('неполный рабочий день','1')\n",
        "  row.Employment = row.Employment.replace('полный рабочий день','2')\n",
        "  row.Employment = row.Employment.replace('полная занятость','3')\n",
        "  row.Employment = row.Employment.replace('частичная занятость','4')\n",
        "  row.Employment = row.Employment.replace('стажировка','5')\n",
        "  row.Employment = row.Employment.replace('волонтерство','6')\n",
        "\n",
        "  #Birth\n",
        "  for i in month_name:\n",
        "     row.Birth         = row.Birth.replace(month_name[i],'-'+str(i)+'-')\n",
        " \n",
        "  row.Birth         = row.Birth.replace('родился','')\n",
        "  row.Birth         = row.Birth.replace('родилась','')\n",
        "  row.Birth         = row.Birth.replace(' -','-')\n",
        "  row.Birth         = row.Birth.replace('- ','-')\n",
        "  row.Birth         = row.Birth+' 00:00:00'\n",
        "\n",
        "  row.Birth = '1-1-1' +row.Birth if row.Birth == ' 00:00:00' else row.Birth\n",
        "  day = int(row.Birth.split('-')[0].strip()) \n",
        "  month = int(row.Birth.split('-')[1].strip()) \n",
        "  year = row.Birth.split('-')[2].strip() \n",
        "  time = year.split(' ')[1].strip()\n",
        "  year = int(year.split(' ')[0].strip())\n",
        "\n",
        "  row.Birth = int(datetime.datetime(year,month,day).utcnow().timestamp())\n",
        "\n",
        "  #Update_resume \n",
        "  for i in month_name:\n",
        "    row.Update_resume = row.Update_resume.replace(month_name[i],'-'+str(i)+'-')\n",
        " \n",
        "  row.Update_resume = row.Update_resume.replace('в','')\n",
        "  row.Update_resume = row.Update_resume.replace(' -','-')\n",
        "  row.Update_resume = row.Update_resume.replace('- ','-')\n",
        "  row.Update_resume = row.Update_resume+':00'\n",
        "\n",
        "  day = int(row.Update_resume.split('-')[0].strip()) \n",
        "  month = int(row.Update_resume.split('-')[1].strip()) \n",
        "  year = row.Update_resume.split('-')[2].strip() \n",
        "  year = year.replace('  ',';')\n",
        "  year = year.replace(' ',';')\n",
        "   \n",
        "  time = year.split(';')[1].strip()\n",
        "  year = int(year.split(';')[0].strip())\n",
        "  hour = int(time.split(':')[0].strip())\n",
        "  minute = int(time.split(':')[1].strip())\n",
        "\n",
        "  row.Update_resume = int(datetime.datetime(year,month,day,hour,minute,0).utcnow().timestamp())\n",
        "\n",
        "  #Response_date\n",
        "  row.Response_date = int(datetime.datetime.utcnow().timestamp())"
      ],
      "metadata": {
        "id": "ON5Mqr555m-i",
        "colab": {
          "base_uri": "https://localhost:8080/"
        },
        "outputId": "14029e4d-b599-4376-83fc-92823d2610bb"
      },
      "execution_count": 8,
      "outputs": [
        {
          "output_type": "stream",
          "name": "stdout",
          "text": [
            "\n",
            "\n",
            "\n",
            "\n",
            "\n",
            "\n",
            "\n",
            "\n",
            "\n",
            "\n",
            "\n",
            "\n",
            "\n",
            "\n",
            "\n",
            "\n",
            "\n",
            "\n",
            "\n",
            "\n",
            "\n",
            "\n",
            "\n",
            "\n",
            "\n",
            "\n",
            "\n",
            "\n",
            "\n",
            "\n",
            "\n",
            "\n",
            "\n",
            "\n",
            "\n",
            "\n",
            "\n",
            "\n",
            "\n",
            "\n",
            "\n",
            "\n",
            "\n",
            "\n",
            "\n",
            "\n",
            "\n",
            "\n",
            "\n",
            "\n",
            "\n",
            "\n",
            "\n",
            "\n",
            "\n",
            "\n",
            "\n",
            "\n",
            "\n",
            "\n",
            "\n",
            "\n",
            "\n",
            "\n",
            "\n",
            "\n",
            "\n",
            "\n",
            "\n",
            "\n",
            "\n",
            "\n",
            "\n",
            "\n",
            "\n",
            "\n"
          ]
        }
      ]
    },
    {
      "cell_type": "code",
      "source": [
        "#Переведем в бинарные значения\n",
        "\n",
        "#проектная работа = 0, неполный рабочий день = 1, полный рабочий день = 2, полная занятость = 3, частичная занятость = 4, стажировка = 5, волонтерство = 6\n",
        "Employment_0 = data['Employment'].apply(lambda x: 1 if x.find('0') else 0)\n",
        "Employment_1 = data['Employment'].apply(lambda x: 1 if x.find('1') else 0)\n",
        "Employment_2 = data['Employment'].apply(lambda x: 1 if x.find('2') else 0)\n",
        "Employment_3 = data['Employment'].apply(lambda x: 1 if x.find('3') else 0)\n",
        "Employment_4 = data['Employment'].apply(lambda x: 1 if x.find('4') else 0)\n",
        "Employment_5 = data['Employment'].apply(lambda x: 1 if x.find('5') else 0)\n",
        "Employment_6 = data['Employment'].apply(lambda x: 1 if x.find('6') else 0)\n",
        "\n",
        "data = data.assign(Employment_0=Employment_0,\n",
        "                    Employment_1=Employment_1,\n",
        "                    Employment_2=Employment_2,\n",
        "                    Employment_3=Employment_3,\n",
        "                    Employment_4=Employment_4,\n",
        "                    Employment_5=Employment_5,\n",
        "                    Employment_6=Employment_6)\n",
        "\n",
        "#вахтовый метод = 0, удаленная работа = 1, гибкий график = 2, полный день = 3, сменный график = 4\n",
        "Schedule_0 = data['Schedule'].apply(lambda x: 1 if x.find('0') else 0)\n",
        "Schedule_1 = data['Schedule'].apply(lambda x: 1 if x.find('1') else 0)\n",
        "Schedule_2 = data['Schedule'].apply(lambda x: 1 if x.find('2') else 0)\n",
        "Schedule_3 = data['Schedule'].apply(lambda x: 1 if x.find('3') else 0)\n",
        "Schedule_4 = data['Schedule'].apply(lambda x: 1 if x.find('4') else 0)\n",
        "\n",
        "data = data.assign(Schedule_0=Schedule_0,\n",
        "                    Schedule_1=Schedule_1,\n",
        "                    Schedule_2=Schedule_2,\n",
        "                    Schedule_3=Schedule_3,\n",
        "                    Schedule_4=Schedule_4)\n"
      ],
      "metadata": {
        "id": "mIuf1lJLW1jh"
      },
      "execution_count": 9,
      "outputs": []
    },
    {
      "cell_type": "code",
      "source": [
        "data = data.drop(columns=['Schedule', 'Employment'])"
      ],
      "metadata": {
        "id": "jd5xGjric4gj"
      },
      "execution_count": 10,
      "outputs": []
    },
    {
      "cell_type": "code",
      "source": [
        "#City\n",
        "tokenizer = Tokenizer(num_words=30, filters='!\"#$%&()*+,-–—./…:;<=>?@[\\\\]^_`{|}~«»\\t\\n\\xa0\\ufeff', lower=True, split=' ', oov_token='неизвестное_слово', char_level=False)\n",
        "tokenizer.fit_on_texts(data.City) #\"скармливаем\" наши тексты, т.е даём в обработку методу, который соберет словарь частотности\n",
        "City_Indexes = tokenizer.texts_to_sequences(data.City)\n",
        "data = data.assign(City=City_Indexes)"
      ],
      "metadata": {
        "id": "huxjH3OyOf1K"
      },
      "execution_count": 11,
      "outputs": []
    },
    {
      "cell_type": "code",
      "source": [
        "#Full_name\n",
        "tokenizer = Tokenizer(num_words=100, filters='!\"#$%&()*+,-–—./…:;<=>?@[\\\\]^_`{|}~«»\\t\\n\\xa0\\ufeff', lower=True, split=' ', oov_token='неизвестное_слово', char_level=False)\n",
        "tokenizer.fit_on_texts(data.Full_name)\n",
        "\n",
        "Full_name_Indexes = tokenizer.texts_to_sequences(data.Full_name) \n",
        "data = data.assign(Full_name=Full_name_Indexes)"
      ],
      "metadata": {
        "id": "2lv4hDhxSOMw"
      },
      "execution_count": 12,
      "outputs": []
    },
    {
      "cell_type": "code",
      "source": [
        "#Education\n",
        "tokenizer = Tokenizer(num_words=200, filters='!\"#$%&()*+,-–—./…:;<=>?@[\\\\]^_`{|}~«»\\t\\n\\xa0\\ufeff', lower=True, split=' ', oov_token='неизвестное_слово', char_level=False)\n",
        "tokenizer.fit_on_texts(data.Education) #\"скармливаем\" наши тексты, т.е даём в обработку методу, который соберет словарь частотности\n",
        "\n",
        "Education_Indexes = tokenizer.texts_to_sequences(data.Education) \n",
        "data = data.assign(Education=Education_Indexes)"
      ],
      "metadata": {
        "id": "ahPNe_0WWPba"
      },
      "execution_count": 13,
      "outputs": []
    },
    {
      "cell_type": "code",
      "source": [
        "#Job\n",
        "tokenizer = Tokenizer(num_words=50, filters='!\"#$%&()*+,-–—./…:;<=>?@[\\\\]^_`{|}~«»\\t\\n\\xa0\\ufeff', lower=True, split=' ', oov_token='неизвестное_слово', char_level=False)\n",
        "tokenizer.fit_on_texts(data.Job) #\"скармливаем\" наши тексты, т.е даём в обработку методу, который соберет словарь частотности\n",
        "\n",
        "Job_Indexes = tokenizer.texts_to_sequences(data.Job) \n",
        "data = data.assign(Job=Job_Indexes)"
      ],
      "metadata": {
        "id": "hb_lBu_7cKng"
      },
      "execution_count": 14,
      "outputs": []
    },
    {
      "cell_type": "code",
      "source": [
        "#Last_place\n",
        "tokenizer = Tokenizer(num_words=100, filters='!\"#$%&()*+,-–—./…:;<=>?@[\\\\]^_`{|}~«»\\t\\n\\xa0\\ufeff', lower=True, split=' ', oov_token='неизвестное_слово', char_level=False)\n",
        "tokenizer.fit_on_texts(data.Last_place) #\"скармливаем\" наши тексты, т.е даём в обработку методу, который соберет словарь частотности\n",
        "\n",
        "Last_place_Indexes = tokenizer.texts_to_sequences(data.Last_place) \n",
        "data = data.assign(Last_place=Last_place_Indexes)"
      ],
      "metadata": {
        "id": "axYFN8Nfcazh"
      },
      "execution_count": 15,
      "outputs": []
    },
    {
      "cell_type": "code",
      "source": [
        "#Position\n",
        "tokenizer = Tokenizer(num_words=20, filters='!\"#$%&()*+,-–—./…:;<=>?@[\\\\]^_`{|}~«»\\t\\n\\xa0\\ufeff', lower=True, split=' ', oov_token='неизвестное_слово', char_level=False)\n",
        "tokenizer.fit_on_texts(data.Position) #\"скармливаем\" наши тексты, т.е даём в обработку методу, который соберет словарь частотности\n",
        "\n",
        "Position_Indexes = tokenizer.texts_to_sequences(data.Position) \n",
        "data = data.assign(Position=Position_Indexes)"
      ],
      "metadata": {
        "id": "YPhVHww_frJ0"
      },
      "execution_count": 16,
      "outputs": []
    },
    {
      "cell_type": "code",
      "source": [
        "#Suitable\n",
        "#Список ответов делаем\n",
        "listAnswers = []\n",
        "#Обработаем отдельно колонку с ответами\n",
        "for i, row in data.iterrows():\n",
        "   a = 1 if str(row.Suitable).find('да') != -1 else 0\n",
        "   listAnswers.append([a])\n",
        "answers = np.array(listAnswers)\n",
        "print(answers.shape)"
      ],
      "metadata": {
        "id": "gcj28cfGMHuk",
        "colab": {
          "base_uri": "https://localhost:8080/"
        },
        "outputId": "59b798a4-4fa2-475f-b4dc-56900416c6a7"
      },
      "execution_count": 17,
      "outputs": [
        {
          "output_type": "stream",
          "name": "stdout",
          "text": [
            "(579, 1)\n"
          ]
        }
      ]
    },
    {
      "cell_type": "code",
      "source": [
        "data = data.drop(columns=['Suitable'])"
      ],
      "metadata": {
        "id": "jXGtrnw_9Vzr"
      },
      "execution_count": 18,
      "outputs": []
    },
    {
      "cell_type": "code",
      "source": [
        "data.Response_date = data.Response_date.astype('int')\n",
        "data.Gender = data.Gender.astype('int')\n",
        "data.Salary = data.Salary.astype('int')\n",
        "data.Update_resume = data.Update_resume.astype('int')\n",
        "data.Birth = data.Birth.astype('int')\n",
        "data.Age = data.Age.astype('int')\n"
      ],
      "metadata": {
        "id": "b0yNy3C1R9Ub"
      },
      "execution_count": 19,
      "outputs": []
    },
    {
      "cell_type": "code",
      "source": [
        "data.info()"
      ],
      "metadata": {
        "id": "ryvagSkhRtXJ",
        "colab": {
          "base_uri": "https://localhost:8080/"
        },
        "outputId": "496a8011-3144-44e3-bc11-6abee94e7905"
      },
      "execution_count": 20,
      "outputs": [
        {
          "output_type": "stream",
          "name": "stdout",
          "text": [
            "<class 'pandas.core.frame.DataFrame'>\n",
            "Int64Index: 579 entries, 0 to 581\n",
            "Data columns (total 25 columns):\n",
            " #   Column         Non-Null Count  Dtype \n",
            "---  ------         --------------  ----- \n",
            " 0   Response_date  579 non-null    int64 \n",
            " 1   Full_name      579 non-null    object\n",
            " 2   Gender         579 non-null    int64 \n",
            " 3   Salary         579 non-null    int64 \n",
            " 4   Job            579 non-null    object\n",
            " 5   City           579 non-null    object\n",
            " 6   Experience     579 non-null    object\n",
            " 7   Last_place     579 non-null    object\n",
            " 8   Position       579 non-null    object\n",
            " 9   Education      579 non-null    object\n",
            " 10  Update_resume  579 non-null    int64 \n",
            " 11  Birth          579 non-null    int64 \n",
            " 12  Age            579 non-null    int64 \n",
            " 13  Employment_0   579 non-null    int64 \n",
            " 14  Employment_1   579 non-null    int64 \n",
            " 15  Employment_2   579 non-null    int64 \n",
            " 16  Employment_3   579 non-null    int64 \n",
            " 17  Employment_4   579 non-null    int64 \n",
            " 18  Employment_5   579 non-null    int64 \n",
            " 19  Employment_6   579 non-null    int64 \n",
            " 20  Schedule_0     579 non-null    int64 \n",
            " 21  Schedule_1     579 non-null    int64 \n",
            " 22  Schedule_2     579 non-null    int64 \n",
            " 23  Schedule_3     579 non-null    int64 \n",
            " 24  Schedule_4     579 non-null    int64 \n",
            "dtypes: int64(18), object(7)\n",
            "memory usage: 117.6+ KB\n"
          ]
        }
      ]
    },
    {
      "cell_type": "code",
      "source": [
        "#Приведим все списки к однообразию\n",
        "#Находим максимальную длину\n",
        "Full_nameMaxI = 0\n",
        "PositionMaxI = 0\n",
        "Last_placeMaxI = 0\n",
        "JobMaxI = 0\n",
        "EducationMaxI = 0\n",
        "CityMaxI = 0\n",
        "for i, row in data.iterrows():\n",
        "    Full_nameMaxI   = max(Full_nameMaxI,len(row.Full_name))\n",
        "    PositionMaxI    = max(PositionMaxI,len(row.Position))\n",
        "    Last_placeMaxI  = max(Last_placeMaxI,len(row.Last_place))\n",
        "    JobMaxI         = max(JobMaxI,len(row.Job))\n",
        "    EducationMaxI   = max(EducationMaxI,len(row.Education))\n",
        "    CityMaxI        = max(CityMaxI,len(row.City))\n"
      ],
      "metadata": {
        "id": "KCCSCtHBaaGk"
      },
      "execution_count": 21,
      "outputs": []
    },
    {
      "cell_type": "code",
      "source": [
        "#обрабатываем данные list\n",
        "dataList = [] \n",
        "for i, row in data.iterrows():\n",
        "      row.Full_name     = np.array(row.Full_name+[0 for x in range(Full_nameMaxI-len(row.Full_name))])\n",
        "      row.Position      = np.array(row.Position+[0 for x in range(PositionMaxI-len(row.Position))])\n",
        "      row.Last_place    = np.array(row.Last_place+[0 for x in range(Last_placeMaxI-len(row.Last_place))])\n",
        "      row.Job           = np.array(row.Job+[0 for x in range(JobMaxI-len(row.Job))])\n",
        "      row.Education     = np.array(row.Education+[0 for x in range(EducationMaxI-len(row.Education))])\n",
        "      row.City          = np.array(row.City+[0 for x in range(CityMaxI-len(row.City))])\n",
        "      \n",
        "      #row_data = np.hstack(row)\n",
        "      row_data = np.hstack([\n",
        "                            row.Full_name,\n",
        "                            row.Position,\n",
        "                            row.Last_place,\n",
        "                            row.Job,\n",
        "                            row.Education,\n",
        "                            row.City,\n",
        "                            row.Response_date,\n",
        "                            row.Gender,\n",
        "                            row.Salary,\n",
        "                            row.Update_resume,\n",
        "                            row.Birth,\n",
        "                            row.Age,\n",
        "                            row.Employment_0,\n",
        "                            row.Employment_1,\n",
        "                            row.Employment_2,\n",
        "                            row.Employment_3,\n",
        "                            row.Employment_4,\n",
        "                            row.Employment_5,\n",
        "                            row.Employment_6,\n",
        "                            row.Schedule_0,\n",
        "                            row.Schedule_1,\n",
        "                            row.Schedule_2,\n",
        "                            row.Schedule_3,\n",
        "                            row.Schedule_4]\n",
        "                          )\n",
        "      \n",
        "      dataList.append(row_data)\n",
        "\n",
        "dataset = np.array(dataList) #, dtype=np.float\n",
        "print(dataset.shape)"
      ],
      "metadata": {
        "id": "-th01SunQz_S",
        "colab": {
          "base_uri": "https://localhost:8080/"
        },
        "outputId": "37c7feff-593c-46ad-8864-fb86eb33ec90"
      },
      "execution_count": 22,
      "outputs": [
        {
          "output_type": "stream",
          "name": "stdout",
          "text": [
            "(579, 213)\n"
          ]
        }
      ]
    },
    {
      "cell_type": "code",
      "source": [
        "#Смотрим что получилось\n",
        "data.max_columns = 30\n",
        "data.head(-15)"
      ],
      "metadata": {
        "id": "DIAp5w9kTiTM"
      },
      "execution_count": null,
      "outputs": []
    },
    {
      "cell_type": "code",
      "source": [
        "data.to_csv('data.csv')"
      ],
      "metadata": {
        "id": "IPWCbCrXm_uz"
      },
      "execution_count": null,
      "outputs": []
    },
    {
      "cell_type": "code",
      "source": [
        "for row in dataset:\n",
        "    print(dataset)"
      ],
      "metadata": {
        "id": "yIzdCr-Ge6ia"
      },
      "execution_count": null,
      "outputs": []
    },
    {
      "cell_type": "code",
      "source": [
        "x_train, x_test, y_train, y_test = train_test_split(dataset, # набор параметров\n",
        "                                                    answers, # набор меток классов\n",
        "                                                    test_size=0.2, # процент в тестовую\n",
        "                                                    shuffle=True, #  перемешивание\n",
        "                                                    random_state=3) # воспроизводимость"
      ],
      "metadata": {
        "id": "1IzuMvYhUQUc"
      },
      "execution_count": 24,
      "outputs": []
    },
    {
      "cell_type": "code",
      "source": [
        "# Масштабирование данных\n",
        "from sklearn.preprocessing import StandardScaler\n",
        "y_scaler = StandardScaler()\n",
        "# Нормализация выходных данных по стандартному нормальному распределению\n",
        "y_train_scaled = y_scaler.fit_transform(y_train)"
      ],
      "metadata": {
        "id": "pfoWI_PMCUCz"
      },
      "execution_count": 30,
      "outputs": []
    },
    {
      "cell_type": "code",
      "source": [
        "x_train.shape"
      ],
      "metadata": {
        "colab": {
          "base_uri": "https://localhost:8080/"
        },
        "id": "lH9jk4sGDFnK",
        "outputId": "e89396be-f471-4cc8-c360-08e4e620de32"
      },
      "execution_count": null,
      "outputs": [
        {
          "output_type": "execute_result",
          "data": {
            "text/plain": [
              "(463, 213)"
            ]
          },
          "metadata": {},
          "execution_count": 72
        }
      ]
    },
    {
      "cell_type": "code",
      "source": [
        "# Оптимизаторы\n",
        "from tensorflow.keras.optimizers import Adam\n",
        "# Основные слои\n",
        "from tensorflow.keras.layers import ReLU, Flatten\n",
        "\n",
        "# Создание последовательной модели\n",
        "model = Sequential()\n",
        "model.add(Dense(60, activation='relu',input_dim=x_train.shape[1]))\n",
        "model.add(ReLU())\n",
        "#model.add(BatchNormalization(input_dim=x_train.shape[1]))\n",
        "#model.add(Dense(10, activation='relu'))\n",
        "model.add(Dropout(0.3))\n",
        "model.add(Flatten())\n",
        "model.add(Dense(30, activation='softmax'))\n",
        "model.add(ReLU())\n",
        "model.add(Dropout(0.3))\n",
        "model.add(Dense(1, activation='sigmoid')) #softmax linear\n",
        "\n",
        "# Компиляция модели\n",
        "model.compile(loss='binary_crossentropy', \n",
        "              optimizer=Adam(learning_rate=0.001), \n",
        "              metrics=['accuracy'])\n",
        "\n",
        "#model.compile(optimizer=Adam(learning_rate=1e-3), loss='mse', metrics=['mae'])\n",
        "\n",
        "# Обучение сети\n",
        "history = model.fit(x_train, \n",
        "                    y_train, #y_train\n",
        "                    batch_size=256, \n",
        "                    epochs=500,\n",
        "                    validation_split=0.15, \n",
        "                    verbose=1)"
      ],
      "metadata": {
        "id": "ZdUCA8kiRVsh"
      },
      "execution_count": null,
      "outputs": []
    },
    {
      "cell_type": "code",
      "source": [
        "# Визуализация точности на обучающей выборке\n",
        "plt.plot(history.history['accuracy'], \n",
        "            label='Средняя абсолютная ошибка на обучающем наборе') #mae\n",
        "plt.plot(history.history['val_accuracy'], \n",
        "            label='Средняя абсолютная ошибка на проверочном наборе') #val_mae\n",
        "plt.xlabel('Эпоха обучения')\n",
        "plt.ylabel('Средняя абсолютная ошибка')\n",
        "plt.legend()\n",
        "plt.show()"
      ],
      "metadata": {
        "id": "rZ1hnlp1UwYw",
        "colab": {
          "base_uri": "https://localhost:8080/",
          "height": 449
        },
        "outputId": "edcdb8e4-29e4-4e2d-d5f4-021c0e4c8d60"
      },
      "execution_count": 66,
      "outputs": [
        {
          "output_type": "display_data",
          "data": {
            "text/plain": [
              "<Figure size 640x480 with 1 Axes>"
            ],
            "image/png": "[encoded data removed]"
          },
          "metadata": {}
        }
      ]
    },
    {
      "cell_type": "code",
      "source": [
        "def eval_net(model, x_train, y_train, y_scaler = None, n = 10, limit = 1000.):\n",
        "  \n",
        "    pred = model.predict(x_train)             # Предсказание на тренировочной выборке\n",
        "    if y_scaler:                              # Если есть нормирование - то денормировать\n",
        "        pred = y_scaler.inverse_transform(pred)\n",
        "\n",
        "    print('Средняя абсолютная ошибка:', mean_absolute_error(pred, y_train), '\\n')\n",
        "\n",
        "    for i in range(n):\n",
        "        print('Реальное значение: {:6.2f}  Предсказанное значение: {:6.2f}  Разница: {:6.2f}'.format(y_train[i, 0],\n",
        "                                                                                                    pred[i, 0],\n",
        "                                                                                                    abs(y_train[i, 0] - pred[i, 0])))\n",
        "    # Построение картинки разброса предсказанных и верных значений зарплаты\n",
        "    fig, ax = plt.subplots(figsize=(6, 6))\n",
        "    ax.scatter(y_train, pred)                 # Отрисовка точечного графика\n",
        "    ax.set_xlim(0, limit)                     # Пределы по x, y\n",
        "    ax.set_ylim(0, limit)\n",
        "    ax.plot(plt.xlim(), plt.ylim(), 'r')      # Отрисовка диагональной линии\n",
        "    plt.xlabel('Правильные значения')\n",
        "    plt.ylabel('Предсказания')\n",
        "    plt.grid()\n",
        "    plt.show()     "
      ],
      "metadata": {
        "id": "i7IaB1g4CjOH"
      },
      "execution_count": 45,
      "outputs": []
    },
    {
      "cell_type": "code",
      "source": [
        "\n",
        "\n",
        "eval_net(model, x_train, y_train, y_scaler)"
      ],
      "metadata": {
        "colab": {
          "base_uri": "https://localhost:8080/",
          "height": 773
        },
        "id": "eijrYwXFB8Lw",
        "outputId": "f0af008a-3aea-415a-935e-d8d18f5264a4"
      },
      "execution_count": 64,
      "outputs": [
        {
          "output_type": "stream",
          "name": "stdout",
          "text": [
            "15/15 [==============================] - 0s 2ms/step\n",
            "Средняя абсолютная ошибка: 0.06281326083591124 \n",
            "\n",
            "Реальное значение:   0.00  Предсказанное значение:   0.04  Разница:   0.04\n",
            "Реальное значение:   0.00  Предсказанное значение:   0.04  Разница:   0.04\n",
            "Реальное значение:   0.00  Предсказанное значение:   0.04  Разница:   0.04\n",
            "Реальное значение:   0.00  Предсказанное значение:   0.04  Разница:   0.04\n",
            "Реальное значение:   0.00  Предсказанное значение:   0.04  Разница:   0.04\n",
            "Реальное значение:   0.00  Предсказанное значение:   0.04  Разница:   0.04\n",
            "Реальное значение:   0.00  Предсказанное значение:   0.04  Разница:   0.04\n",
            "Реальное значение:   0.00  Предсказанное значение:   0.04  Разница:   0.04\n",
            "Реальное значение:   0.00  Предсказанное значение:   0.04  Разница:   0.04\n",
            "Реальное значение:   0.00  Предсказанное значение:   0.04  Разница:   0.04\n"
          ]
        },
        {
          "output_type": "display_data",
          "data": {
            "text/plain": [
              "<Figure size 600x600 with 1 Axes>"
            ],
            "image/png": "[encoded data removed]"
          },
          "metadata": {}
        }
      ]
    },
    {
      "cell_type": "code",
      "source": [
        "# Метрики для расчета ошибок\n",
        "from sklearn.metrics import mean_squared_error, mean_absolute_error\n",
        "\n",
        "# Проверка работы сети - предсказание на тренировочной выборке\n",
        "pred = model.predict(x_train)\n",
        "\n",
        "# Расчет среднего значения ошибки \n",
        "print((abs(pred - y_train)).mean())         # Расчет вручную\n",
        "print(mean_absolute_error(pred, y_train))   # Расчет с помощью готовой функции"
      ],
      "metadata": {
        "colab": {
          "base_uri": "https://localhost:8080/"
        },
        "id": "jWRvBNe8AZw7",
        "outputId": "9334c804-0626-441e-a217-56e9f3613faa"
      },
      "execution_count": 65,
      "outputs": [
        {
          "output_type": "stream",
          "name": "stdout",
          "text": [
            "15/15 [==============================] - 0s 2ms/step\n",
            "0.16296171015591138\n",
            "0.16296171015591138\n"
          ]
        }
      ]
    }
  ]
}