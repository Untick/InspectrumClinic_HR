{
  "nbformat": 4,
  "nbformat_minor": 0,
  "metadata": {
    "colab": {
      "provenance": [],
      "mount_file_id": "1xBMuhxhpXmlor27K9ZfQbAtkybew5qqX",
      "authorship_tag": "ABX9TyNc24wPyu8pfuRaNv6j3x0P",
      "include_colab_link": true
    },
    "kernelspec": {
      "name": "python3",
      "display_name": "Python 3"
    },
    "language_info": {
      "name": "python"
    }
  },
  "cells": [
    {
      "cell_type": "markdown",
      "metadata": {
        "id": "view-in-github",
        "colab_type": "text"
      },
      "source": [
        "<a href=\"https://colab.research.google.com/github/Untick/InspectrumClinic_HR_gr1/blob/main/Kiparenko%20Nikolai/INSPECTRUM_CLINIC_HR_RECSYS_GR1_AUTO_ML_2.ipynb\" target=\"_parent\"><img src=\"https://colab.research.google.com/assets/colab-badge.svg\" alt=\"Open In Colab\"/></a>"
      ]
    },
    {
      "cell_type": "markdown",
      "source": [
        "# INSPECTRUM CLINIC HR RECSYS"
      ],
      "metadata": {
        "id": "baLd9Y-61S9-"
      }
    },
    {
      "cell_type": "markdown",
      "source": [
        "Рассмотрим вариант создание нейронной сети с помощью инструментов **AvtoML**"
      ],
      "metadata": {
        "id": "MV7NoQtxzlQo"
      }
    },
    {
      "cell_type": "markdown",
      "source": [
        "В техническом задании прописаны критерии которым должны соответствовать наши модели:\n",
        "\n",
        "1.  Система должна помогать HR-специалисту вынести решение о том, подходит или не подходит человек на рассматриваемую должность.\n",
        "2.  В датасете целевым столбцом для предсказания является столбец под названием “Подходит - да/нет”.\n",
        "3.  Результатом работы обученной нейросети должно служить дополнение датасета столбцом под названием “оценка резюме”, где должно быть представлено процентное распределение вероятностей между классами “подходит” и “не подходит”. Например: \"подходит 95% / не подходит 5%\".\n"
      ],
      "metadata": {
        "id": "wCxPfYiE7_u6"
      }
    },
    {
      "cell_type": "markdown",
      "source": [
        "### Загрузим библиотеки"
      ],
      "metadata": {
        "id": "rXuhDVKl1Zyc"
      }
    },
    {
      "cell_type": "code",
      "source": [
        "# Загрузка датасетов из облака\n",
        "import gdown\n",
        "\n",
        "# Функции операционной системы\n",
        "import os\n",
        "\n",
        "# Работа с массивами данных\n",
        "import numpy as np\n",
        "\n",
        "# Работа с таблицами\n",
        "import pandas as pd\n",
        "\n",
        "# автоматически парсит строку и сохранит ее в переменной datetime\n",
        "import datetime\n",
        "\n",
        "# Токенизатор для преобразование текстов в последовательности\n",
        "from tensorflow.keras.preprocessing.text import Tokenizer\n",
        "\n",
        "# Отрисовка графиков\n",
        "import matplotlib.pyplot as plt\n",
        "import seaborn as sns # Будем визулизировать данные этой библиотекой\n",
        "\n",
        "# Метрики для расчета ошибок\n",
        "from sklearn.metrics import mean_squared_error, mean_absolute_error\n",
        "\n"
      ],
      "metadata": {
        "id": "z-Qse97s1j70"
      },
      "execution_count": 1,
      "outputs": []
    },
    {
      "cell_type": "markdown",
      "source": [
        "### Инициализация библиотек AvtoML"
      ],
      "metadata": {
        "id": "JMobV7VP1m44"
      }
    },
    {
      "cell_type": "markdown",
      "source": [
        "Инициализация может занять некоторое время"
      ],
      "metadata": {
        "id": "IkY1WcjC3mTY"
      }
    },
    {
      "cell_type": "code",
      "source": [
        "# H2OAutoML\n",
        "!pip install h2o\n",
        "import h2o\n",
        "from h2o.automl import H2OAutoML\n",
        "h2o.init()\n"
      ],
      "metadata": {
        "colab": {
          "base_uri": "https://localhost:8080/",
          "height": 839
        },
        "id": "jfgxpo351voC",
        "outputId": "bccd6e8a-6bf7-439d-dabe-0527f007c61b"
      },
      "execution_count": 2,
      "outputs": [
        {
          "output_type": "stream",
          "name": "stdout",
          "text": [
            "Collecting h2o\n",
            "  Downloading h2o-3.42.0.1.tar.gz (249.1 MB)\n",
            "\u001b[2K     \u001b[90m━━━━━━━━━━━━━━━━━━━━━━━━━━━━━━━━━━━━━━━\u001b[0m \u001b[32m249.1/249.1 MB\u001b[0m \u001b[31m5.1 MB/s\u001b[0m eta \u001b[36m0:00:00\u001b[0m\n",
            "\u001b[?25h  Preparing metadata (setup.py) ... \u001b[?25l\u001b[?25hdone\n",
            "Requirement already satisfied: requests in /usr/local/lib/python3.10/dist-packages (from h2o) (2.27.1)\n",
            "Requirement already satisfied: tabulate in /usr/local/lib/python3.10/dist-packages (from h2o) (0.8.10)\n",
            "Requirement already satisfied: urllib3<1.27,>=1.21.1 in /usr/local/lib/python3.10/dist-packages (from requests->h2o) (1.26.16)\n",
            "Requirement already satisfied: certifi>=2017.4.17 in /usr/local/lib/python3.10/dist-packages (from requests->h2o) (2023.5.7)\n",
            "Requirement already satisfied: charset-normalizer~=2.0.0 in /usr/local/lib/python3.10/dist-packages (from requests->h2o) (2.0.12)\n",
            "Requirement already satisfied: idna<4,>=2.5 in /usr/local/lib/python3.10/dist-packages (from requests->h2o) (3.4)\n",
            "Building wheels for collected packages: h2o\n",
            "  Building wheel for h2o (setup.py) ... \u001b[?25l\u001b[?25hdone\n",
            "  Created wheel for h2o: filename=h2o-3.42.0.1-py2.py3-none-any.whl size=249152215 sha256=52141f32b71bcf56163e3dbc30f46492f88294afd4b48bbfc837f29e6d273839\n",
            "  Stored in directory: /root/.cache/pip/wheels/2e/2f/04/ef0554c89bcb5d38a6fc082a87f497933109faefd94dcdc3d2\n",
            "Successfully built h2o\n",
            "Installing collected packages: h2o\n",
            "Successfully installed h2o-3.42.0.1\n",
            "Checking whether there is an H2O instance running at http://localhost:54321..... not found.\n",
            "Attempting to start a local H2O server...\n",
            "  Java Version: openjdk version \"11.0.19\" 2023-04-18; OpenJDK Runtime Environment (build 11.0.19+7-post-Ubuntu-0ubuntu120.04.1); OpenJDK 64-Bit Server VM (build 11.0.19+7-post-Ubuntu-0ubuntu120.04.1, mixed mode, sharing)\n",
            "  Starting server from /usr/local/lib/python3.10/dist-packages/h2o/backend/bin/h2o.jar\n",
            "  Ice root: /tmp/tmpncs_tkpa\n",
            "  JVM stdout: /tmp/tmpncs_tkpa/h2o_unknownUser_started_from_python.out\n",
            "  JVM stderr: /tmp/tmpncs_tkpa/h2o_unknownUser_started_from_python.err\n",
            "  Server is running at http://127.0.0.1:54321\n",
            "Connecting to H2O server at http://127.0.0.1:54321 ... successful.\n"
          ]
        },
        {
          "output_type": "display_data",
          "data": {
            "text/plain": [
              "--------------------------  -----------------------------------------------------------------------------------------\n",
              "H2O_cluster_uptime:         05 secs\n",
              "H2O_cluster_timezone:       Etc/UTC\n",
              "H2O_data_parsing_timezone:  UTC\n",
              "H2O_cluster_version:        3.42.0.1\n",
              "H2O_cluster_version_age:    22 days\n",
              "H2O_cluster_name:           H2O_from_python_unknownUser_bszzbw\n",
              "H2O_cluster_total_nodes:    1\n",
              "H2O_cluster_free_memory:    3.170 Gb\n",
              "H2O_cluster_total_cores:    2\n",
              "H2O_cluster_allowed_cores:  2\n",
              "H2O_cluster_status:         locked, healthy\n",
              "H2O_connection_url:         http://127.0.0.1:54321\n",
              "H2O_connection_proxy:       {\"http\": null, \"https\": null, \"colab_language_server\": \"/usr/colab/bin/language_service\"}\n",
              "H2O_internal_security:      False\n",
              "Python_version:             3.10.12 final\n",
              "--------------------------  -----------------------------------------------------------------------------------------"
            ],
            "text/html": [
              "\n",
              "<style>\n",
              "\n",
              "#h2o-table-1.h2o-container {\n",
              "  overflow-x: auto;\n",
              "}\n",
              "#h2o-table-1 .h2o-table {\n",
              "  /* width: 100%; */\n",
              "  margin-top: 1em;\n",
              "  margin-bottom: 1em;\n",
              "}\n",
              "#h2o-table-1 .h2o-table caption {\n",
              "  white-space: nowrap;\n",
              "  caption-side: top;\n",
              "  text-align: left;\n",
              "  /* margin-left: 1em; */\n",
              "  margin: 0;\n",
              "  font-size: larger;\n",
              "}\n",
              "#h2o-table-1 .h2o-table thead {\n",
              "  white-space: nowrap; \n",
              "  position: sticky;\n",
              "  top: 0;\n",
              "  box-shadow: 0 -1px inset;\n",
              "}\n",
              "#h2o-table-1 .h2o-table tbody {\n",
              "  overflow: auto;\n",
              "}\n",
              "#h2o-table-1 .h2o-table th,\n",
              "#h2o-table-1 .h2o-table td {\n",
              "  text-align: right;\n",
              "  /* border: 1px solid; */\n",
              "}\n",
              "#h2o-table-1 .h2o-table tr:nth-child(even) {\n",
              "  /* background: #F5F5F5 */\n",
              "}\n",
              "\n",
              "</style>      \n",
              "<div id=\"h2o-table-1\" class=\"h2o-container\">\n",
              "  <table class=\"h2o-table\">\n",
              "    <caption></caption>\n",
              "    <thead></thead>\n",
              "    <tbody><tr><td>H2O_cluster_uptime:</td>\n",
              "<td>05 secs</td></tr>\n",
              "<tr><td>H2O_cluster_timezone:</td>\n",
              "<td>Etc/UTC</td></tr>\n",
              "<tr><td>H2O_data_parsing_timezone:</td>\n",
              "<td>UTC</td></tr>\n",
              "<tr><td>H2O_cluster_version:</td>\n",
              "<td>3.42.0.1</td></tr>\n",
              "<tr><td>H2O_cluster_version_age:</td>\n",
              "<td>22 days</td></tr>\n",
              "<tr><td>H2O_cluster_name:</td>\n",
              "<td>H2O_from_python_unknownUser_bszzbw</td></tr>\n",
              "<tr><td>H2O_cluster_total_nodes:</td>\n",
              "<td>1</td></tr>\n",
              "<tr><td>H2O_cluster_free_memory:</td>\n",
              "<td>3.170 Gb</td></tr>\n",
              "<tr><td>H2O_cluster_total_cores:</td>\n",
              "<td>2</td></tr>\n",
              "<tr><td>H2O_cluster_allowed_cores:</td>\n",
              "<td>2</td></tr>\n",
              "<tr><td>H2O_cluster_status:</td>\n",
              "<td>locked, healthy</td></tr>\n",
              "<tr><td>H2O_connection_url:</td>\n",
              "<td>http://127.0.0.1:54321</td></tr>\n",
              "<tr><td>H2O_connection_proxy:</td>\n",
              "<td>{\"http\": null, \"https\": null, \"colab_language_server\": \"/usr/colab/bin/language_service\"}</td></tr>\n",
              "<tr><td>H2O_internal_security:</td>\n",
              "<td>False</td></tr>\n",
              "<tr><td>Python_version:</td>\n",
              "<td>3.10.12 final</td></tr></tbody>\n",
              "  </table>\n",
              "</div>\n"
            ]
          },
          "metadata": {}
        }
      ]
    },
    {
      "cell_type": "markdown",
      "source": [
        "### Далее загрузим наш датасет и рассмотрим его"
      ],
      "metadata": {
        "id": "YFOVJ7Qz1_TZ"
      }
    },
    {
      "cell_type": "code",
      "source": [
        "#Грузим файл\n",
        "path = \"https://docs.google.com/spreadsheets/d/1tcfBgGY98cFx1DIvmoRy7goHXNcnaBZ7/export?format=xlsx\"\n",
        "gdown.download(path,'dataS.xlsx', quiet=True)"
      ],
      "metadata": {
        "colab": {
          "base_uri": "https://localhost:8080/",
          "height": 90
        },
        "id": "BOXrtUz62VTy",
        "outputId": "07a8499a-18ca-44e7-c6b6-c778a167d452"
      },
      "execution_count": 3,
      "outputs": [
        {
          "output_type": "stream",
          "name": "stderr",
          "text": [
            "/usr/local/lib/python3.10/dist-packages/gdown/parse_url.py:35: UserWarning: You specified a Google Drive link that is not the correct link to download a file. You might want to try `--fuzzy` option or the following url: https://drive.google.com/uc?id=None\n",
            "  warnings.warn(\n"
          ]
        },
        {
          "output_type": "execute_result",
          "data": {
            "text/plain": [
              "'dataS.xlsx'"
            ],
            "application/vnd.google.colaboratory.intrinsic+json": {
              "type": "string"
            }
          },
          "metadata": {},
          "execution_count": 3
        }
      ]
    },
    {
      "cell_type": "markdown",
      "source": [
        "Файл содержит в себе множество текстовых полей, постараемся рассмотреть их более внимательно"
      ],
      "metadata": {
        "id": "6ngeq42dC4wN"
      }
    },
    {
      "cell_type": "code",
      "source": [
        "#Читаем файл\n",
        "data = pd.read_excel (r'dataS.xlsx', index_col=0)\n",
        "data.to_csv('data.csv')\n",
        "data.head(5)"
      ],
      "metadata": {
        "colab": {
          "base_uri": "https://localhost:8080/",
          "height": 721
        },
        "id": "ECJs05V52ZEa",
        "outputId": "57eb07f1-bb3a-454f-c4fb-a8bbeefc9730"
      },
      "execution_count": 4,
      "outputs": [
        {
          "output_type": "execute_result",
          "data": {
            "text/plain": [
              "          Дата отклика                               Пол, возраст  \\\n",
              "0  2023-02-23 00:00:00                                    Женщина   \n",
              "1  2023-01-11 00:00:00                                    Женщина   \n",
              "2  2023-02-27 00:00:00  Мужчина, 33 года, родился 23 августа 1989   \n",
              "3  2023-01-11 00:00:00   Мужчина, 32 года, родился 7 декабря 1990   \n",
              "4  2023-01-11 00:00:00   Мужчина, 26 лет, родился 21 февраля 1996   \n",
              "\n",
              "             ЗП Ищет работу на должность  \\\n",
              "0   90 000 руб.   Growth Product Manager   \n",
              "1    не указана   Growth Product Manager   \n",
              "2  150 000 руб.   Growth Product Manager   \n",
              "3    не указана   Growth Product Manager   \n",
              "4  150 000 руб.   Growth Product Manager   \n",
              "\n",
              "                                               Город  \\\n",
              "0  Индонезия, Не готова к переезду, не готова к к...   \n",
              "1  Москва, Готова к переезду, готова к командировкам   \n",
              "2  Санкт-Петербург, Готов к переезду: Москва, гот...   \n",
              "3  Москва, м. Молодежная, Хочу переехать, готов к...   \n",
              "4       Пермь, Хочу переехать, готов к командировкам   \n",
              "\n",
              "                                           Занятость  \\\n",
              "0  проектная работа, частичная занятость, полная ...   \n",
              "1                                   полная занятость   \n",
              "2  проектная работа, частичная занятость, полная ...   \n",
              "3  стажировка, частичная занятость, полная занятость   \n",
              "4  проектная работа, частичная занятость, полная ...   \n",
              "\n",
              "                                         График  \\\n",
              "0                              удаленная работа   \n",
              "1  удаленная работа, гибкий график, полный день   \n",
              "2  удаленная работа, гибкий график, полный день   \n",
              "3  удаленная работа, гибкий график, полный день   \n",
              "4  удаленная работа, гибкий график, полный день   \n",
              "\n",
              "                          Опыт ()  \\\n",
              "0   Опыт работы —5 лет 10 месяцев   \n",
              "1  Опыт работы —11 лет 11 месяцев   \n",
              "2     Опыт работы —7 лет 2 месяца   \n",
              "3   Опыт работы —8 лет 10 месяцев   \n",
              "4    Опыт работы —5 лет 9 месяцев   \n",
              "\n",
              "                     Последнее/нынешное место работы  \\\n",
              "0                                PT MYBALI APP GROUP   \n",
              "1                                      Банк Открытие   \n",
              "2                                          DIKIY LLC   \n",
              "3                                           WeInvest   \n",
              "4  Индивидуальное предпринимательство / частная п...   \n",
              "\n",
              "                  Последняя/нынешняя должность  \\\n",
              "0                         Менеджер по продукту   \n",
              "1  Product owner трайб сбережения и инвестиции   \n",
              "2                                                \n",
              "3                Product Manager (team leader)   \n",
              "4                      Product/Project manager   \n",
              "\n",
              "          Выполняемые задачи на прошлых местах работ  \\\n",
              "0  Маркетинговые исследования\\nИсследование рынка...   \n",
              "1  Участие в команде роста\\nВ2В\\n\\nЗадачи:\\n- Раз...   \n",
              "2  Запуск бренда и производства игристого кваса D...   \n",
              "3  1. Исследование рынка\\n2. Определение целевой ...   \n",
              "4   Переговоры со стейкхолдером\\n- Составление ТЗ...   \n",
              "\n",
              "                                             Обо мне  \\\n",
              "0                                                NaN   \n",
              "1                                                NaN   \n",
              "2  Чем бы я ни занимался с 2014 года, когда решил...   \n",
              "3  Я проактивный, коммуникабельный, позитивный, д...   \n",
              "4  Набрал кучу опыта и хочу с ним найти классную ...   \n",
              "\n",
              "                                     Ключевые навыки  \\\n",
              "0  Анализ рынка\\nУправление проектами\\nProduct Ma...   \n",
              "1  Самомотивация\\nТаймменеджмент\\nКреативность\\nЧ...   \n",
              "2  Продвижение бренда\\nПланирование маркетинговых...   \n",
              "3  Управление проектами\\nОрганизаторские навыки\\n...   \n",
              "4  Управление персоналом\\nЗаключение договоров\\nА...   \n",
              "\n",
              "                                   Образование и ВУЗ        Обновление резюме  \\\n",
              "0  Высшее, 2023, Нетоло́гия, 2014, Университет Ро...  23 февраля 2023 в 16:30   \n",
              "1  Высшее, 2022, GeekBrains, 2010, Московский худ...   8 февраля 2023 в 09:15   \n",
              "2  Высшее, 2013, Санкт-Петербургский государствен...  28 февраля 2023 в 09:41   \n",
              "3  Магистр, 2014, Московский государственный техн...   24 января 2023 в 12:07   \n",
              "4  Высшее, 2021, Российская академия народного хо...   6 февраля 2023 в 11:18   \n",
              "\n",
              "  Подходит - да/нет  \n",
              "0                да  \n",
              "1                да  \n",
              "2                да  \n",
              "3                да  \n",
              "4                да  "
            ],
            "text/html": [
              "\n",
              "\n",
              "  <div id=\"df-a69d0dd2-9625-44c1-b920-1214b037210d\">\n",
              "    <div class=\"colab-df-container\">\n",
              "      <div>\n",
              "<style scoped>\n",
              "    .dataframe tbody tr th:only-of-type {\n",
              "        vertical-align: middle;\n",
              "    }\n",
              "\n",
              "    .dataframe tbody tr th {\n",
              "        vertical-align: top;\n",
              "    }\n",
              "\n",
              "    .dataframe thead th {\n",
              "        text-align: right;\n",
              "    }\n",
              "</style>\n",
              "<table border=\"1\" class=\"dataframe\">\n",
              "  <thead>\n",
              "    <tr style=\"text-align: right;\">\n",
              "      <th></th>\n",
              "      <th>Дата отклика</th>\n",
              "      <th>Пол, возраст</th>\n",
              "      <th>ЗП</th>\n",
              "      <th>Ищет работу на должность</th>\n",
              "      <th>Город</th>\n",
              "      <th>Занятость</th>\n",
              "      <th>График</th>\n",
              "      <th>Опыт ()</th>\n",
              "      <th>Последнее/нынешное место работы</th>\n",
              "      <th>Последняя/нынешняя должность</th>\n",
              "      <th>Выполняемые задачи на прошлых местах работ</th>\n",
              "      <th>Обо мне</th>\n",
              "      <th>Ключевые навыки</th>\n",
              "      <th>Образование и ВУЗ</th>\n",
              "      <th>Обновление резюме</th>\n",
              "      <th>Подходит - да/нет</th>\n",
              "    </tr>\n",
              "  </thead>\n",
              "  <tbody>\n",
              "    <tr>\n",
              "      <th>0</th>\n",
              "      <td>2023-02-23 00:00:00</td>\n",
              "      <td>Женщина</td>\n",
              "      <td>90 000 руб.</td>\n",
              "      <td>Growth Product Manager</td>\n",
              "      <td>Индонезия, Не готова к переезду, не готова к к...</td>\n",
              "      <td>проектная работа, частичная занятость, полная ...</td>\n",
              "      <td>удаленная работа</td>\n",
              "      <td>Опыт работы —5 лет 10 месяцев</td>\n",
              "      <td>PT MYBALI APP GROUP</td>\n",
              "      <td>Менеджер по продукту</td>\n",
              "      <td>Маркетинговые исследования\\nИсследование рынка...</td>\n",
              "      <td>NaN</td>\n",
              "      <td>Анализ рынка\\nУправление проектами\\nProduct Ma...</td>\n",
              "      <td>Высшее, 2023, Нетоло́гия, 2014, Университет Ро...</td>\n",
              "      <td>23 февраля 2023 в 16:30</td>\n",
              "      <td>да</td>\n",
              "    </tr>\n",
              "    <tr>\n",
              "      <th>1</th>\n",
              "      <td>2023-01-11 00:00:00</td>\n",
              "      <td>Женщина</td>\n",
              "      <td>не указана</td>\n",
              "      <td>Growth Product Manager</td>\n",
              "      <td>Москва, Готова к переезду, готова к командировкам</td>\n",
              "      <td>полная занятость</td>\n",
              "      <td>удаленная работа, гибкий график, полный день</td>\n",
              "      <td>Опыт работы —11 лет 11 месяцев</td>\n",
              "      <td>Банк Открытие</td>\n",
              "      <td>Product owner трайб сбережения и инвестиции</td>\n",
              "      <td>Участие в команде роста\\nВ2В\\n\\nЗадачи:\\n- Раз...</td>\n",
              "      <td>NaN</td>\n",
              "      <td>Самомотивация\\nТаймменеджмент\\nКреативность\\nЧ...</td>\n",
              "      <td>Высшее, 2022, GeekBrains, 2010, Московский худ...</td>\n",
              "      <td>8 февраля 2023 в 09:15</td>\n",
              "      <td>да</td>\n",
              "    </tr>\n",
              "    <tr>\n",
              "      <th>2</th>\n",
              "      <td>2023-02-27 00:00:00</td>\n",
              "      <td>Мужчина, 33 года, родился 23 августа 1989</td>\n",
              "      <td>150 000 руб.</td>\n",
              "      <td>Growth Product Manager</td>\n",
              "      <td>Санкт-Петербург, Готов к переезду: Москва, гот...</td>\n",
              "      <td>проектная работа, частичная занятость, полная ...</td>\n",
              "      <td>удаленная работа, гибкий график, полный день</td>\n",
              "      <td>Опыт работы —7 лет 2 месяца</td>\n",
              "      <td>DIKIY LLC</td>\n",
              "      <td></td>\n",
              "      <td>Запуск бренда и производства игристого кваса D...</td>\n",
              "      <td>Чем бы я ни занимался с 2014 года, когда решил...</td>\n",
              "      <td>Продвижение бренда\\nПланирование маркетинговых...</td>\n",
              "      <td>Высшее, 2013, Санкт-Петербургский государствен...</td>\n",
              "      <td>28 февраля 2023 в 09:41</td>\n",
              "      <td>да</td>\n",
              "    </tr>\n",
              "    <tr>\n",
              "      <th>3</th>\n",
              "      <td>2023-01-11 00:00:00</td>\n",
              "      <td>Мужчина, 32 года, родился 7 декабря 1990</td>\n",
              "      <td>не указана</td>\n",
              "      <td>Growth Product Manager</td>\n",
              "      <td>Москва, м. Молодежная, Хочу переехать, готов к...</td>\n",
              "      <td>стажировка, частичная занятость, полная занятость</td>\n",
              "      <td>удаленная работа, гибкий график, полный день</td>\n",
              "      <td>Опыт работы —8 лет 10 месяцев</td>\n",
              "      <td>WeInvest</td>\n",
              "      <td>Product Manager (team leader)</td>\n",
              "      <td>1. Исследование рынка\\n2. Определение целевой ...</td>\n",
              "      <td>Я проактивный, коммуникабельный, позитивный, д...</td>\n",
              "      <td>Управление проектами\\nОрганизаторские навыки\\n...</td>\n",
              "      <td>Магистр, 2014, Московский государственный техн...</td>\n",
              "      <td>24 января 2023 в 12:07</td>\n",
              "      <td>да</td>\n",
              "    </tr>\n",
              "    <tr>\n",
              "      <th>4</th>\n",
              "      <td>2023-01-11 00:00:00</td>\n",
              "      <td>Мужчина, 26 лет, родился 21 февраля 1996</td>\n",
              "      <td>150 000 руб.</td>\n",
              "      <td>Growth Product Manager</td>\n",
              "      <td>Пермь, Хочу переехать, готов к командировкам</td>\n",
              "      <td>проектная работа, частичная занятость, полная ...</td>\n",
              "      <td>удаленная работа, гибкий график, полный день</td>\n",
              "      <td>Опыт работы —5 лет 9 месяцев</td>\n",
              "      <td>Индивидуальное предпринимательство / частная п...</td>\n",
              "      <td>Product/Project manager</td>\n",
              "      <td>Переговоры со стейкхолдером\\n- Составление ТЗ...</td>\n",
              "      <td>Набрал кучу опыта и хочу с ним найти классную ...</td>\n",
              "      <td>Управление персоналом\\nЗаключение договоров\\nА...</td>\n",
              "      <td>Высшее, 2021, Российская академия народного хо...</td>\n",
              "      <td>6 февраля 2023 в 11:18</td>\n",
              "      <td>да</td>\n",
              "    </tr>\n",
              "  </tbody>\n",
              "</table>\n",
              "</div>\n",
              "      <button class=\"colab-df-convert\" onclick=\"convertToInteractive('df-a69d0dd2-9625-44c1-b920-1214b037210d')\"\n",
              "              title=\"Convert this dataframe to an interactive table.\"\n",
              "              style=\"display:none;\">\n",
              "\n",
              "  <svg xmlns=\"http://www.w3.org/2000/svg\" height=\"24px\"viewBox=\"0 0 24 24\"\n",
              "       width=\"24px\">\n",
              "    <path d=\"M0 0h24v24H0V0z\" fill=\"none\"/>\n",
              "    <path d=\"M18.56 5.44l.94 2.06.94-2.06 2.06-.94-2.06-.94-.94-2.06-.94 2.06-2.06.94zm-11 1L8.5 8.5l.94-2.06 2.06-.94-2.06-.94L8.5 2.5l-.94 2.06-2.06.94zm10 10l.94 2.06.94-2.06 2.06-.94-2.06-.94-.94-2.06-.94 2.06-2.06.94z\"/><path d=\"M17.41 7.96l-1.37-1.37c-.4-.4-.92-.59-1.43-.59-.52 0-1.04.2-1.43.59L10.3 9.45l-7.72 7.72c-.78.78-.78 2.05 0 2.83L4 21.41c.39.39.9.59 1.41.59.51 0 1.02-.2 1.41-.59l7.78-7.78 2.81-2.81c.8-.78.8-2.07 0-2.86zM5.41 20L4 18.59l7.72-7.72 1.47 1.35L5.41 20z\"/>\n",
              "  </svg>\n",
              "      </button>\n",
              "\n",
              "\n",
              "\n",
              "    <div id=\"df-4b255c97-738f-4239-9f45-d35e2d68d58f\">\n",
              "      <button class=\"colab-df-quickchart\" onclick=\"quickchart('df-4b255c97-738f-4239-9f45-d35e2d68d58f')\"\n",
              "              title=\"Suggest charts.\"\n",
              "              style=\"display:none;\">\n",
              "\n",
              "<svg xmlns=\"http://www.w3.org/2000/svg\" height=\"24px\"viewBox=\"0 0 24 24\"\n",
              "     width=\"24px\">\n",
              "    <g>\n",
              "        <path d=\"M19 3H5c-1.1 0-2 .9-2 2v14c0 1.1.9 2 2 2h14c1.1 0 2-.9 2-2V5c0-1.1-.9-2-2-2zM9 17H7v-7h2v7zm4 0h-2V7h2v10zm4 0h-2v-4h2v4z\"/>\n",
              "    </g>\n",
              "</svg>\n",
              "      </button>\n",
              "    </div>\n",
              "\n",
              "<style>\n",
              "  .colab-df-quickchart {\n",
              "    background-color: #E8F0FE;\n",
              "    border: none;\n",
              "    border-radius: 50%;\n",
              "    cursor: pointer;\n",
              "    display: none;\n",
              "    fill: #1967D2;\n",
              "    height: 32px;\n",
              "    padding: 0 0 0 0;\n",
              "    width: 32px;\n",
              "  }\n",
              "\n",
              "  .colab-df-quickchart:hover {\n",
              "    background-color: #E2EBFA;\n",
              "    box-shadow: 0px 1px 2px rgba(60, 64, 67, 0.3), 0px 1px 3px 1px rgba(60, 64, 67, 0.15);\n",
              "    fill: #174EA6;\n",
              "  }\n",
              "\n",
              "  [theme=dark] .colab-df-quickchart {\n",
              "    background-color: #3B4455;\n",
              "    fill: #D2E3FC;\n",
              "  }\n",
              "\n",
              "  [theme=dark] .colab-df-quickchart:hover {\n",
              "    background-color: #434B5C;\n",
              "    box-shadow: 0px 1px 3px 1px rgba(0, 0, 0, 0.15);\n",
              "    filter: drop-shadow(0px 1px 2px rgba(0, 0, 0, 0.3));\n",
              "    fill: #FFFFFF;\n",
              "  }\n",
              "</style>\n",
              "\n",
              "    <script>\n",
              "      async function quickchart(key) {\n",
              "        const containerElement = document.querySelector('#' + key);\n",
              "        const charts = await google.colab.kernel.invokeFunction(\n",
              "            'suggestCharts', [key], {});\n",
              "      }\n",
              "    </script>\n",
              "\n",
              "      <script>\n",
              "\n",
              "function displayQuickchartButton(domScope) {\n",
              "  let quickchartButtonEl =\n",
              "    domScope.querySelector('#df-4b255c97-738f-4239-9f45-d35e2d68d58f button.colab-df-quickchart');\n",
              "  quickchartButtonEl.style.display =\n",
              "    google.colab.kernel.accessAllowed ? 'block' : 'none';\n",
              "}\n",
              "\n",
              "        displayQuickchartButton(document);\n",
              "      </script>\n",
              "      <style>\n",
              "    .colab-df-container {\n",
              "      display:flex;\n",
              "      flex-wrap:wrap;\n",
              "      gap: 12px;\n",
              "    }\n",
              "\n",
              "    .colab-df-convert {\n",
              "      background-color: #E8F0FE;\n",
              "      border: none;\n",
              "      border-radius: 50%;\n",
              "      cursor: pointer;\n",
              "      display: none;\n",
              "      fill: #1967D2;\n",
              "      height: 32px;\n",
              "      padding: 0 0 0 0;\n",
              "      width: 32px;\n",
              "    }\n",
              "\n",
              "    .colab-df-convert:hover {\n",
              "      background-color: #E2EBFA;\n",
              "      box-shadow: 0px 1px 2px rgba(60, 64, 67, 0.3), 0px 1px 3px 1px rgba(60, 64, 67, 0.15);\n",
              "      fill: #174EA6;\n",
              "    }\n",
              "\n",
              "    [theme=dark] .colab-df-convert {\n",
              "      background-color: #3B4455;\n",
              "      fill: #D2E3FC;\n",
              "    }\n",
              "\n",
              "    [theme=dark] .colab-df-convert:hover {\n",
              "      background-color: #434B5C;\n",
              "      box-shadow: 0px 1px 3px 1px rgba(0, 0, 0, 0.15);\n",
              "      filter: drop-shadow(0px 1px 2px rgba(0, 0, 0, 0.3));\n",
              "      fill: #FFFFFF;\n",
              "    }\n",
              "  </style>\n",
              "\n",
              "      <script>\n",
              "        const buttonEl =\n",
              "          document.querySelector('#df-a69d0dd2-9625-44c1-b920-1214b037210d button.colab-df-convert');\n",
              "        buttonEl.style.display =\n",
              "          google.colab.kernel.accessAllowed ? 'block' : 'none';\n",
              "\n",
              "        async function convertToInteractive(key) {\n",
              "          const element = document.querySelector('#df-a69d0dd2-9625-44c1-b920-1214b037210d');\n",
              "          const dataTable =\n",
              "            await google.colab.kernel.invokeFunction('convertToInteractive',\n",
              "                                                     [key], {});\n",
              "          if (!dataTable) return;\n",
              "\n",
              "          const docLinkHtml = 'Like what you see? Visit the ' +\n",
              "            '<a target=\"_blank\" href=https://colab.research.google.com/notebooks/data_table.ipynb>data table notebook</a>'\n",
              "            + ' to learn more about interactive tables.';\n",
              "          element.innerHTML = '';\n",
              "          dataTable['output_type'] = 'display_data';\n",
              "          await google.colab.output.renderOutput(dataTable, element);\n",
              "          const docLink = document.createElement('div');\n",
              "          docLink.innerHTML = docLinkHtml;\n",
              "          element.appendChild(docLink);\n",
              "        }\n",
              "      </script>\n",
              "    </div>\n",
              "  </div>\n"
            ]
          },
          "metadata": {},
          "execution_count": 4
        }
      ]
    },
    {
      "cell_type": "markdown",
      "source": [
        "Видим что у нас много \"нет\" и всего 11 \"да\" на весь датасет"
      ],
      "metadata": {
        "id": "yjqssJo9DRm6"
      }
    },
    {
      "cell_type": "code",
      "source": [
        "#Смотрим на распределение признаков Подходит - да/нет\n",
        "countsSuitable = data['Подходит - да/нет'].value_counts()\n",
        "countsSuitable.value_counts().plot(kind='bar', label='Suitable')\n",
        "plt.title('Подходит - нет/да')\n",
        "plt.show()\n"
      ],
      "metadata": {
        "colab": {
          "base_uri": "https://localhost:8080/",
          "height": 465
        },
        "id": "-VY26djkCZKv",
        "outputId": "93894d47-7007-44cb-c6ec-149c6ba41113"
      },
      "execution_count": null,
      "outputs": [
        {
          "output_type": "display_data",
          "data": {
            "text/plain": [
              "<Figure size 640x480 with 1 Axes>"
            ],
            "image/png": "[encoded data removed]"
          },
          "metadata": {}
        }
      ]
    },
    {
      "cell_type": "markdown",
      "source": [
        "Больше всего \"да\" у Growth Product Manager (5) и HR-специалист(4)"
      ],
      "metadata": {
        "id": "T1vVfkVPEDsk"
      }
    },
    {
      "cell_type": "code",
      "source": [
        "#Смотрим на распределение признаков относительно должностей\n",
        "countsJob = data.groupby('Ищет работу на должность')['Подходит - да/нет'].value_counts()\n",
        "countsJob.plot(kind='bar', label='Suitable')\n",
        "plt.title('Распределение по должностям')\n",
        "plt.show()\n",
        "\n",
        "countsJob"
      ],
      "metadata": {
        "colab": {
          "base_uri": "https://localhost:8080/",
          "height": 1000
        },
        "id": "YuvW_QcNA3iY",
        "outputId": "542899b8-badb-4762-d5dc-5cdd98a80b01"
      },
      "execution_count": null,
      "outputs": [
        {
          "output_type": "display_data",
          "data": {
            "text/plain": [
              "<Figure size 640x480 with 1 Axes>"
            ],
            "image/png": "[encoded data removed]"
          },
          "metadata": {}
        },
        {
          "output_type": "execute_result",
          "data": {
            "text/plain": [
              "Ищет работу на должность                            Подходит - да/нет\n",
              "Growth Product Manager                              нет                  179\n",
              "                                                    да                     5\n",
              "HR-специалист                                       нет                  111\n",
              "                                                    да                     4\n",
              "Product Manager в команду HR                        нет                   13\n",
              "Product Manager в команду Финансового департамента  нет                   25\n",
              "Product Marketing Manager в Growth Hacking команду  нет                    6\n",
              "Product manager в Growth Hacking команду            нет                   55\n",
              "                                                    да                     1\n",
              "Project manager                                     нет                    8\n",
              "Директор медицинской клиники                        нет                   92\n",
              "                                                    да                     1\n",
              "Name: Подходит - да/нет, dtype: int64"
            ]
          },
          "metadata": {},
          "execution_count": 6
        }
      ]
    },
    {
      "cell_type": "markdown",
      "source": [
        "Такой не сбалансированный датасет обычно не подходит для обучения но мы постараемся немного его нормализовать"
      ],
      "metadata": {
        "id": "FqyKQTufFYL4"
      }
    },
    {
      "cell_type": "markdown",
      "source": [
        "Переименуем всех Product Manager в одну категорию"
      ],
      "metadata": {
        "id": "t6WgEhsooecA"
      }
    },
    {
      "cell_type": "code",
      "source": [
        "#Growth Product Manager\n",
        "#Product Manager в команду HR\n",
        "#Product Manager в команду Финансового департамента\n",
        "#Product Marketing Manager в Growth Hacking команду\n",
        "#Product manager в Growth Hacking команду\n",
        "#Project manager\n",
        "for i, row in data.iterrows():\n",
        "  if row['Ищет работу на должность'].find(\"Product\") >= 0:\n",
        "      row['Ищет работу на должность'] =  \"Project manager\"\n"
      ],
      "metadata": {
        "id": "G9Z6jmtuoZCW"
      },
      "execution_count": null,
      "outputs": []
    },
    {
      "cell_type": "markdown",
      "source": [
        "Выберем все категории записи с положительным ответом и добавим случайные данные с отрицательным ответом, пропорционально."
      ],
      "metadata": {
        "id": "daAlWJpztECh"
      }
    },
    {
      "cell_type": "code",
      "source": [
        "#Manager\n",
        "dataMa = data.loc[(data['Ищет работу на должность'] == 'Project manager')]\n",
        "dataDA = dataMa.loc[(data['Подходит - да/нет'] == 'да')]\n",
        "dataDA = dataDA.iloc[:6]\n",
        "dataNA = dataMa.loc[(data['Подходит - да/нет'] == 'нет')]\n",
        "dataNA = dataNA.sample(frac=1)\n",
        "dataNA = dataNA.iloc[:80]\n",
        "\n",
        "dataMa = pd.merge(dataDA,dataNA, how='outer')\n",
        "\n",
        "#HR-специалист\n",
        "dataHR = data.loc[(data['Ищет работу на должность'] == 'HR-специалист')]\n",
        "dataDAHR = dataHR.loc[(data['Подходит - да/нет'] == 'да')]\n",
        "dataDAHR = dataDAHR.iloc[:4]\n",
        "dataNAHR = dataHR.loc[(data['Подходит - да/нет'] == 'нет')]\n",
        "dataNAHR = dataNAHR.sample(frac=1)\n",
        "dataNAHR = dataNAHR.iloc[:60]\n",
        "\n",
        "dataHR = dataDAHR.merge(dataNAHR, how='outer')\n",
        "\n",
        "#Директор\n",
        "dataDr = data.loc[(data['Ищет работу на должность'] == 'Директор медицинской клиники')]\n",
        "dataDADr = dataDr.loc[(data['Подходит - да/нет'] == 'да')]\n",
        "dataDADr = dataDADr.iloc[:1]\n",
        "dataNADr = dataDr.loc[(data['Подходит - да/нет'] == 'нет')]\n",
        "dataNADr = dataNADr.sample(frac=1)\n",
        "dataNADr = dataNADr.iloc[:20]\n",
        "\n",
        "dataDr = dataDADr.merge(dataNADr, how='outer')\n",
        "\n",
        "#Объединяем\n",
        "data = pd.merge(dataMa,dataHR, how='outer')\n",
        "data = pd.merge(data,dataDr, how='outer')\n",
        "\n",
        "data = data.sample(frac=1)"
      ],
      "metadata": {
        "id": "8q-dVJemEZLp",
        "colab": {
          "base_uri": "https://localhost:8080/"
        },
        "outputId": "fe06ce10-eb59-4b26-cc91-8108343e5776"
      },
      "execution_count": null,
      "outputs": [
        {
          "output_type": "stream",
          "name": "stderr",
          "text": [
            "<ipython-input-50-1b8031472646>:29: FutureWarning: In a future version, the Index constructor will not infer numeric dtypes when passed object-dtype sequences (matching Series behavior)\n",
            "  dataDr = dataDADr.merge(dataNADr, how='outer')\n"
          ]
        }
      ]
    },
    {
      "cell_type": "code",
      "source": [
        "#Смотрим на распределение признаков относительно должностей\n",
        "countsJob = data.groupby('Ищет работу на должность')['Подходит - да/нет'].value_counts()\n",
        "countsJob.plot(kind='bar', label='Suitable')\n",
        "plt.title('Распределение по должностям')\n",
        "plt.show()\n",
        "\n",
        "countsJob\n"
      ],
      "metadata": {
        "colab": {
          "base_uri": "https://localhost:8080/",
          "height": 884
        },
        "id": "il5c8VhPFSJQ",
        "outputId": "98c04265-8d76-4436-db1d-5ee2a275fcf6"
      },
      "execution_count": null,
      "outputs": [
        {
          "output_type": "display_data",
          "data": {
            "text/plain": [
              "<Figure size 640x480 with 1 Axes>"
            ],
            "image/png": "[encoded data removed]"
          },
          "metadata": {}
        },
        {
          "output_type": "execute_result",
          "data": {
            "text/plain": [
              "Ищет работу на должность      Подходит - да/нет\n",
              "HR-специалист                 нет                  60\n",
              "                              да                    4\n",
              "Project manager               нет                  80\n",
              "                              да                    6\n",
              "Директор медицинской клиники  нет                  20\n",
              "                              да                    1\n",
              "Name: Подходит - да/нет, dtype: int64"
            ]
          },
          "metadata": {},
          "execution_count": 51
        }
      ]
    },
    {
      "cell_type": "markdown",
      "source": [
        "Сохраняем чистый датафрейм в файл"
      ],
      "metadata": {
        "id": "03_TxD1Ax3uJ"
      }
    },
    {
      "cell_type": "code",
      "source": [
        "data.to_csv('data.csv')\n",
        "data.head(5)"
      ],
      "metadata": {
        "colab": {
          "base_uri": "https://localhost:8080/",
          "height": 738
        },
        "id": "L9IS7nFnx0q6",
        "outputId": "9f2fcb16-7030-4886-bbb9-866a30c97935"
      },
      "execution_count": null,
      "outputs": [
        {
          "output_type": "execute_result",
          "data": {
            "text/plain": [
              "            Дата отклика                               Пол, возраст  \\\n",
              "90   2022-12-06 00:00:00                                    Женщина   \n",
              "149  2023-01-20 00:00:00  Женщина, 36 лет, родилась 4 сентября 1986   \n",
              "60   2023-02-22 00:00:00   Мужчина, 24 года, родился 3 августа 1998   \n",
              "72   2023-02-27 00:00:00       Мужчина, 28 лет, родился 31 мая 1994   \n",
              "114  2023-01-09 00:00:00   Женщина, 25 лет, родилась 7 августа 1997   \n",
              "\n",
              "              ЗП Ищет работу на должность  \\\n",
              "90   35 000 руб.            HR-специалист   \n",
              "149   не указана            HR-специалист   \n",
              "60    не указана          Project manager   \n",
              "72    не указана          Project manager   \n",
              "114   не указана            HR-специалист   \n",
              "\n",
              "                                                 Город  \\\n",
              "90      Уфа, готова к переезду, готова к командировкам   \n",
              "149  Уфа, Не готова к переезду, не готова к команди...   \n",
              "60    Кишинёв, Готов к переезду, готов к командировкам   \n",
              "72   Москва, м. Мякинино, Готов к переезду, готов к...   \n",
              "114  Уфа, Не готова к переезду, готова к редким ком...   \n",
              "\n",
              "                              Занятость                         График  \\\n",
              "90                     полная занятость                    полный день   \n",
              "149                    полная занятость                    полный день   \n",
              "60                     полная занятость                    полный день   \n",
              "72   проектная работа, полная занятость  удаленная работа, полный день   \n",
              "114                    полная занятость                    полный день   \n",
              "\n",
              "                           Опыт ()      Последнее/нынешное место работы  \\\n",
              "90     Опыт работы 9 лет 6 месяцев                          Ооо «Старт»   \n",
              "149                            нет                                  нет   \n",
              "60   Опыт работы —3 года 9 месяцев                          KYC&AML.LTD   \n",
              "72     Опыт работы —8 лет 4 месяца  GameDev & MarTech | Beyond.GG, Inc.   \n",
              "114  Опыт работы —1 год 11 месяцев                                  Мфц   \n",
              "\n",
              "                      Последняя/нынешняя должность  \\\n",
              "90                                       Секретарь   \n",
              "149                                            нет   \n",
              "60                                 Product Manager   \n",
              "72                           Руководитель проектов   \n",
              "114  Ведущий специалист договорно-правового отдела   \n",
              "\n",
              "            Выполняемые задачи на прошлых местах работ  \\\n",
              "90   Анализ повседневных задач, необходимых для нач...   \n",
              "149                                                NaN   \n",
              "60   Великобритания, https://kyccoin.io/, Финансово...   \n",
              "72   - Управление разработкой продукта с 0 до релиз...   \n",
              "114  Составление договоров, доверенностей, введение...   \n",
              "\n",
              "                                               Обо мне  \\\n",
              "90                                                 NaN   \n",
              "149  В последние годы находилась в декретном отпуск...   \n",
              "60   Продукт/Прожект-менеджер из Кишинёва с опытом ...   \n",
              "72   Подхожу к разработке продукта как к бизнес про...   \n",
              "114                                                NaN   \n",
              "\n",
              "                                       Ключевые навыки  \\\n",
              "90   Офисная техника\\nПользователь ПК\\nMS Outlook\\n...   \n",
              "149                                                NaN   \n",
              "60   Управление командой\\nПодбор персонала\\nПроектн...   \n",
              "72   Управление проектами\\nВедение переговоров\\nРаб...   \n",
              "114  Коммуникабельность\\nВнимательность\\nУмение быс...   \n",
              "\n",
              "                                     Образование и ВУЗ  \\\n",
              "90   Высшее, 2000, Уфимский государственный институ...   \n",
              "149                                  Высшее, 2019, МТИ   \n",
              "60   Неоконченное высшее, 2020,  Молдавский Государ...   \n",
              "72   Высшее, 2020, Stanford University, 2020, Моско...   \n",
              "114  Высшее, 2022, Санкт-Петербургский государствен...   \n",
              "\n",
              "          Обновление резюме Подходит - да/нет  \n",
              "90    6 апреля 2023 в 11:25               нет  \n",
              "149  19 января 2023 в 12:52               нет  \n",
              "60   27 января 2023 в 11:06               нет  \n",
              "72     3 марта 2023 в 11:42               нет  \n",
              "114   22 марта 2023 в 13:15               нет  "
            ],
            "text/html": [
              "\n",
              "\n",
              "  <div id=\"df-205c6358-fc63-40ec-ba2b-e0dfc55880b7\">\n",
              "    <div class=\"colab-df-container\">\n",
              "      <div>\n",
              "<style scoped>\n",
              "    .dataframe tbody tr th:only-of-type {\n",
              "        vertical-align: middle;\n",
              "    }\n",
              "\n",
              "    .dataframe tbody tr th {\n",
              "        vertical-align: top;\n",
              "    }\n",
              "\n",
              "    .dataframe thead th {\n",
              "        text-align: right;\n",
              "    }\n",
              "</style>\n",
              "<table border=\"1\" class=\"dataframe\">\n",
              "  <thead>\n",
              "    <tr style=\"text-align: right;\">\n",
              "      <th></th>\n",
              "      <th>Дата отклика</th>\n",
              "      <th>Пол, возраст</th>\n",
              "      <th>ЗП</th>\n",
              "      <th>Ищет работу на должность</th>\n",
              "      <th>Город</th>\n",
              "      <th>Занятость</th>\n",
              "      <th>График</th>\n",
              "      <th>Опыт ()</th>\n",
              "      <th>Последнее/нынешное место работы</th>\n",
              "      <th>Последняя/нынешняя должность</th>\n",
              "      <th>Выполняемые задачи на прошлых местах работ</th>\n",
              "      <th>Обо мне</th>\n",
              "      <th>Ключевые навыки</th>\n",
              "      <th>Образование и ВУЗ</th>\n",
              "      <th>Обновление резюме</th>\n",
              "      <th>Подходит - да/нет</th>\n",
              "    </tr>\n",
              "  </thead>\n",
              "  <tbody>\n",
              "    <tr>\n",
              "      <th>90</th>\n",
              "      <td>2022-12-06 00:00:00</td>\n",
              "      <td>Женщина</td>\n",
              "      <td>35 000 руб.</td>\n",
              "      <td>HR-специалист</td>\n",
              "      <td>Уфа, готова к переезду, готова к командировкам</td>\n",
              "      <td>полная занятость</td>\n",
              "      <td>полный день</td>\n",
              "      <td>Опыт работы 9 лет 6 месяцев</td>\n",
              "      <td>Ооо «Старт»</td>\n",
              "      <td>Секретарь</td>\n",
              "      <td>Анализ повседневных задач, необходимых для нач...</td>\n",
              "      <td>NaN</td>\n",
              "      <td>Офисная техника\\nПользователь ПК\\nMS Outlook\\n...</td>\n",
              "      <td>Высшее, 2000, Уфимский государственный институ...</td>\n",
              "      <td>6 апреля 2023 в 11:25</td>\n",
              "      <td>нет</td>\n",
              "    </tr>\n",
              "    <tr>\n",
              "      <th>149</th>\n",
              "      <td>2023-01-20 00:00:00</td>\n",
              "      <td>Женщина, 36 лет, родилась 4 сентября 1986</td>\n",
              "      <td>не указана</td>\n",
              "      <td>HR-специалист</td>\n",
              "      <td>Уфа, Не готова к переезду, не готова к команди...</td>\n",
              "      <td>полная занятость</td>\n",
              "      <td>полный день</td>\n",
              "      <td>нет</td>\n",
              "      <td>нет</td>\n",
              "      <td>нет</td>\n",
              "      <td>NaN</td>\n",
              "      <td>В последние годы находилась в декретном отпуск...</td>\n",
              "      <td>NaN</td>\n",
              "      <td>Высшее, 2019, МТИ</td>\n",
              "      <td>19 января 2023 в 12:52</td>\n",
              "      <td>нет</td>\n",
              "    </tr>\n",
              "    <tr>\n",
              "      <th>60</th>\n",
              "      <td>2023-02-22 00:00:00</td>\n",
              "      <td>Мужчина, 24 года, родился 3 августа 1998</td>\n",
              "      <td>не указана</td>\n",
              "      <td>Project manager</td>\n",
              "      <td>Кишинёв, Готов к переезду, готов к командировкам</td>\n",
              "      <td>полная занятость</td>\n",
              "      <td>полный день</td>\n",
              "      <td>Опыт работы —3 года 9 месяцев</td>\n",
              "      <td>KYC&amp;AML.LTD</td>\n",
              "      <td>Product Manager</td>\n",
              "      <td>Великобритания, https://kyccoin.io/, Финансово...</td>\n",
              "      <td>Продукт/Прожект-менеджер из Кишинёва с опытом ...</td>\n",
              "      <td>Управление командой\\nПодбор персонала\\nПроектн...</td>\n",
              "      <td>Неоконченное высшее, 2020,  Молдавский Государ...</td>\n",
              "      <td>27 января 2023 в 11:06</td>\n",
              "      <td>нет</td>\n",
              "    </tr>\n",
              "    <tr>\n",
              "      <th>72</th>\n",
              "      <td>2023-02-27 00:00:00</td>\n",
              "      <td>Мужчина, 28 лет, родился 31 мая 1994</td>\n",
              "      <td>не указана</td>\n",
              "      <td>Project manager</td>\n",
              "      <td>Москва, м. Мякинино, Готов к переезду, готов к...</td>\n",
              "      <td>проектная работа, полная занятость</td>\n",
              "      <td>удаленная работа, полный день</td>\n",
              "      <td>Опыт работы —8 лет 4 месяца</td>\n",
              "      <td>GameDev &amp; MarTech | Beyond.GG, Inc.</td>\n",
              "      <td>Руководитель проектов</td>\n",
              "      <td>- Управление разработкой продукта с 0 до релиз...</td>\n",
              "      <td>Подхожу к разработке продукта как к бизнес про...</td>\n",
              "      <td>Управление проектами\\nВедение переговоров\\nРаб...</td>\n",
              "      <td>Высшее, 2020, Stanford University, 2020, Моско...</td>\n",
              "      <td>3 марта 2023 в 11:42</td>\n",
              "      <td>нет</td>\n",
              "    </tr>\n",
              "    <tr>\n",
              "      <th>114</th>\n",
              "      <td>2023-01-09 00:00:00</td>\n",
              "      <td>Женщина, 25 лет, родилась 7 августа 1997</td>\n",
              "      <td>не указана</td>\n",
              "      <td>HR-специалист</td>\n",
              "      <td>Уфа, Не готова к переезду, готова к редким ком...</td>\n",
              "      <td>полная занятость</td>\n",
              "      <td>полный день</td>\n",
              "      <td>Опыт работы —1 год 11 месяцев</td>\n",
              "      <td>Мфц</td>\n",
              "      <td>Ведущий специалист договорно-правового отдела</td>\n",
              "      <td>Составление договоров, доверенностей, введение...</td>\n",
              "      <td>NaN</td>\n",
              "      <td>Коммуникабельность\\nВнимательность\\nУмение быс...</td>\n",
              "      <td>Высшее, 2022, Санкт-Петербургский государствен...</td>\n",
              "      <td>22 марта 2023 в 13:15</td>\n",
              "      <td>нет</td>\n",
              "    </tr>\n",
              "  </tbody>\n",
              "</table>\n",
              "</div>\n",
              "      <button class=\"colab-df-convert\" onclick=\"convertToInteractive('df-205c6358-fc63-40ec-ba2b-e0dfc55880b7')\"\n",
              "              title=\"Convert this dataframe to an interactive table.\"\n",
              "              style=\"display:none;\">\n",
              "\n",
              "  <svg xmlns=\"http://www.w3.org/2000/svg\" height=\"24px\"viewBox=\"0 0 24 24\"\n",
              "       width=\"24px\">\n",
              "    <path d=\"M0 0h24v24H0V0z\" fill=\"none\"/>\n",
              "    <path d=\"M18.56 5.44l.94 2.06.94-2.06 2.06-.94-2.06-.94-.94-2.06-.94 2.06-2.06.94zm-11 1L8.5 8.5l.94-2.06 2.06-.94-2.06-.94L8.5 2.5l-.94 2.06-2.06.94zm10 10l.94 2.06.94-2.06 2.06-.94-2.06-.94-.94-2.06-.94 2.06-2.06.94z\"/><path d=\"M17.41 7.96l-1.37-1.37c-.4-.4-.92-.59-1.43-.59-.52 0-1.04.2-1.43.59L10.3 9.45l-7.72 7.72c-.78.78-.78 2.05 0 2.83L4 21.41c.39.39.9.59 1.41.59.51 0 1.02-.2 1.41-.59l7.78-7.78 2.81-2.81c.8-.78.8-2.07 0-2.86zM5.41 20L4 18.59l7.72-7.72 1.47 1.35L5.41 20z\"/>\n",
              "  </svg>\n",
              "      </button>\n",
              "\n",
              "\n",
              "\n",
              "    <div id=\"df-60015af1-8af9-4915-a122-47f0e2247123\">\n",
              "      <button class=\"colab-df-quickchart\" onclick=\"quickchart('df-60015af1-8af9-4915-a122-47f0e2247123')\"\n",
              "              title=\"Suggest charts.\"\n",
              "              style=\"display:none;\">\n",
              "\n",
              "<svg xmlns=\"http://www.w3.org/2000/svg\" height=\"24px\"viewBox=\"0 0 24 24\"\n",
              "     width=\"24px\">\n",
              "    <g>\n",
              "        <path d=\"M19 3H5c-1.1 0-2 .9-2 2v14c0 1.1.9 2 2 2h14c1.1 0 2-.9 2-2V5c0-1.1-.9-2-2-2zM9 17H7v-7h2v7zm4 0h-2V7h2v10zm4 0h-2v-4h2v4z\"/>\n",
              "    </g>\n",
              "</svg>\n",
              "      </button>\n",
              "    </div>\n",
              "\n",
              "<style>\n",
              "  .colab-df-quickchart {\n",
              "    background-color: #E8F0FE;\n",
              "    border: none;\n",
              "    border-radius: 50%;\n",
              "    cursor: pointer;\n",
              "    display: none;\n",
              "    fill: #1967D2;\n",
              "    height: 32px;\n",
              "    padding: 0 0 0 0;\n",
              "    width: 32px;\n",
              "  }\n",
              "\n",
              "  .colab-df-quickchart:hover {\n",
              "    background-color: #E2EBFA;\n",
              "    box-shadow: 0px 1px 2px rgba(60, 64, 67, 0.3), 0px 1px 3px 1px rgba(60, 64, 67, 0.15);\n",
              "    fill: #174EA6;\n",
              "  }\n",
              "\n",
              "  [theme=dark] .colab-df-quickchart {\n",
              "    background-color: #3B4455;\n",
              "    fill: #D2E3FC;\n",
              "  }\n",
              "\n",
              "  [theme=dark] .colab-df-quickchart:hover {\n",
              "    background-color: #434B5C;\n",
              "    box-shadow: 0px 1px 3px 1px rgba(0, 0, 0, 0.15);\n",
              "    filter: drop-shadow(0px 1px 2px rgba(0, 0, 0, 0.3));\n",
              "    fill: #FFFFFF;\n",
              "  }\n",
              "</style>\n",
              "\n",
              "    <script>\n",
              "      async function quickchart(key) {\n",
              "        const containerElement = document.querySelector('#' + key);\n",
              "        const charts = await google.colab.kernel.invokeFunction(\n",
              "            'suggestCharts', [key], {});\n",
              "      }\n",
              "    </script>\n",
              "\n",
              "      <script>\n",
              "\n",
              "function displayQuickchartButton(domScope) {\n",
              "  let quickchartButtonEl =\n",
              "    domScope.querySelector('#df-60015af1-8af9-4915-a122-47f0e2247123 button.colab-df-quickchart');\n",
              "  quickchartButtonEl.style.display =\n",
              "    google.colab.kernel.accessAllowed ? 'block' : 'none';\n",
              "}\n",
              "\n",
              "        displayQuickchartButton(document);\n",
              "      </script>\n",
              "      <style>\n",
              "    .colab-df-container {\n",
              "      display:flex;\n",
              "      flex-wrap:wrap;\n",
              "      gap: 12px;\n",
              "    }\n",
              "\n",
              "    .colab-df-convert {\n",
              "      background-color: #E8F0FE;\n",
              "      border: none;\n",
              "      border-radius: 50%;\n",
              "      cursor: pointer;\n",
              "      display: none;\n",
              "      fill: #1967D2;\n",
              "      height: 32px;\n",
              "      padding: 0 0 0 0;\n",
              "      width: 32px;\n",
              "    }\n",
              "\n",
              "    .colab-df-convert:hover {\n",
              "      background-color: #E2EBFA;\n",
              "      box-shadow: 0px 1px 2px rgba(60, 64, 67, 0.3), 0px 1px 3px 1px rgba(60, 64, 67, 0.15);\n",
              "      fill: #174EA6;\n",
              "    }\n",
              "\n",
              "    [theme=dark] .colab-df-convert {\n",
              "      background-color: #3B4455;\n",
              "      fill: #D2E3FC;\n",
              "    }\n",
              "\n",
              "    [theme=dark] .colab-df-convert:hover {\n",
              "      background-color: #434B5C;\n",
              "      box-shadow: 0px 1px 3px 1px rgba(0, 0, 0, 0.15);\n",
              "      filter: drop-shadow(0px 1px 2px rgba(0, 0, 0, 0.3));\n",
              "      fill: #FFFFFF;\n",
              "    }\n",
              "  </style>\n",
              "\n",
              "      <script>\n",
              "        const buttonEl =\n",
              "          document.querySelector('#df-205c6358-fc63-40ec-ba2b-e0dfc55880b7 button.colab-df-convert');\n",
              "        buttonEl.style.display =\n",
              "          google.colab.kernel.accessAllowed ? 'block' : 'none';\n",
              "\n",
              "        async function convertToInteractive(key) {\n",
              "          const element = document.querySelector('#df-205c6358-fc63-40ec-ba2b-e0dfc55880b7');\n",
              "          const dataTable =\n",
              "            await google.colab.kernel.invokeFunction('convertToInteractive',\n",
              "                                                     [key], {});\n",
              "          if (!dataTable) return;\n",
              "\n",
              "          const docLinkHtml = 'Like what you see? Visit the ' +\n",
              "            '<a target=\"_blank\" href=https://colab.research.google.com/notebooks/data_table.ipynb>data table notebook</a>'\n",
              "            + ' to learn more about interactive tables.';\n",
              "          element.innerHTML = '';\n",
              "          dataTable['output_type'] = 'display_data';\n",
              "          await google.colab.output.renderOutput(dataTable, element);\n",
              "          const docLink = document.createElement('div');\n",
              "          docLink.innerHTML = docLinkHtml;\n",
              "          element.appendChild(docLink);\n",
              "        }\n",
              "      </script>\n",
              "    </div>\n",
              "  </div>\n"
            ]
          },
          "metadata": {},
          "execution_count": 52
        }
      ]
    },
    {
      "cell_type": "markdown",
      "source": [
        "### Обучение модели с помощью AutoML H2O"
      ],
      "metadata": {
        "id": "NXF6f6ySFu6K"
      }
    },
    {
      "cell_type": "markdown",
      "source": [
        "AutoML H2O можно использовать для автоматизации рабочего процесса машинного обучения, который включает в себя автоматическое обучение и настройку многих моделей в течение заданного пользователем срока.\n",
        "https://docs.h2o.ai/h2o/latest-stable/h2o-docs/automl.html#"
      ],
      "metadata": {
        "id": "67hYf__3HRQ2"
      }
    },
    {
      "cell_type": "code",
      "source": [
        "#Читаем файл в Дата фрейм\n",
        "df = h2o.import_file(\"data.csv\",header =1)\n",
        "#Удаляем поле с индексом стоки\n",
        "df = df[:,1:]\n"
      ],
      "metadata": {
        "colab": {
          "base_uri": "https://localhost:8080/"
        },
        "id": "Qa9wNNV6F0Eo",
        "outputId": "6ab2445a-5acd-446f-d5e8-a00f4fdbc38f"
      },
      "execution_count": null,
      "outputs": [
        {
          "output_type": "stream",
          "name": "stdout",
          "text": [
            "Parse progress: |████████████████████████████████████████████████████████████████| (done) 100%\n"
          ]
        }
      ]
    },
    {
      "cell_type": "markdown",
      "source": [
        "splitFrame позволяет разделить выборки, задодим разделения 0,65/0,25 H2O создаст разделение тест/обучение с ожидаемым значением 0,65/0,25, а не точно 0,65/0,25."
      ],
      "metadata": {
        "id": "4pWuUovNQXyl"
      }
    },
    {
      "cell_type": "code",
      "source": [
        "train, test, valid = df.split_frame ( ratios = [ .65 , .25 ])\n",
        "\n",
        "y = \"Подходит - да/нет\"\n",
        "\n",
        "x_train= train.columns\n",
        "#Удаляем поле \"Подходит - да/нет\" из обучаемого датасета\n",
        "x_test = train.columns\n",
        "x_test = x_test.remove(y)\n",
        "x_train.remove(y)\n",
        "#Удаляем лишние поля\n",
        "x_train.remove(\"Дата отклика\")\n",
        "x_train.remove(\"Обновление резюме\")\n",
        "#x_train.remove(\"Выполняемые задачи на прошлых местах работ\")"
      ],
      "metadata": {
        "id": "L2Eky15sN_sh"
      },
      "execution_count": null,
      "outputs": []
    },
    {
      "cell_type": "markdown",
      "source": [
        "Запускаем поиск наиболее лучшей модели"
      ],
      "metadata": {
        "id": "AHGc29-2Rt79"
      }
    },
    {
      "cell_type": "code",
      "source": [
        "aml_1 = H2OAutoML(max_models = 10, seed = 1)\n",
        "hist = aml_1.train(x = x_train, y = y, training_frame = train)"
      ],
      "metadata": {
        "colab": {
          "base_uri": "https://localhost:8080/"
        },
        "id": "MbMcjtJaQ7sS",
        "outputId": "fe100c7b-4702-4d8c-c8e4-5094fd117513"
      },
      "execution_count": null,
      "outputs": [
        {
          "output_type": "stream",
          "name": "stdout",
          "text": [
            "AutoML progress: |\n",
            "14:41:39.795: _train param, Dropping bad and constant columns: [Ключевые навыки, Обо мне, Выполняемые задачи на прошлых местах работ]\n",
            "14:41:39.856: XGBoost_1_AutoML_4_20230712_144139 [XGBoost def_2] failed: water.exceptions.H2OModelBuilderIllegalArgumentException: Illegal argument(s) for XGBoost model: XGBoost_1_AutoML_4_20230712_144139_cv_1.  Details: ERRR on field: _response_column: Response contains missing values (NAs) - not supported by XGBoost.\n",
            "\n",
            "14:41:39.858: _train param, Dropping bad and constant columns: [Ключевые навыки, Обо мне, Выполняемые задачи на прошлых местах работ]\n",
            "\n",
            "████\n",
            "14:41:44.758: _train param, Dropping bad and constant columns: [Ключевые навыки, Обо мне, Выполняемые задачи на прошлых местах работ]\n",
            "14:41:44.780: GBM_1_AutoML_4_20230712_144139 [GBM def_5] failed: water.exceptions.H2OModelBuilderIllegalArgumentException: Illegal argument(s) for GBM model: GBM_1_AutoML_4_20230712_144139.  Details: ERRR on field: _min_rows: The dataset size is too small to split for min_rows=100.0: must have at least 200.0 (weighted) rows, but have only 165.0.\n",
            "ERRR on field: _min_rows: The dataset size is too small to split for min_rows=100.0: must have at least 200.0 (weighted) rows, but have only 165.0.\n",
            "ERRR on field: _min_rows: The dataset size is too small to split for min_rows=100.0: must have at least 200.0 (weighted) rows, but have only 166.0.\n",
            "ERRR on field: _min_rows: The dataset size is too small to split for min_rows=100.0: must have at least 200.0 (weighted) rows, but have only 166.0.\n",
            "ERRR on field: _min_rows: The dataset size is too small to split for min_rows=100.0: must have at least 200.0 (weighted) rows, but have only 166.0.\n",
            "\n",
            "14:41:44.805: _train param, Dropping bad and constant columns: [Ключевые навыки, Обо мне, Выполняемые задачи на прошлых местах работ]\n",
            "14:41:44.835: XGBoost_2_AutoML_4_20230712_144139 [XGBoost def_1] failed: water.exceptions.H2OModelBuilderIllegalArgumentException: Illegal argument(s) for XGBoost model: XGBoost_2_AutoML_4_20230712_144139_cv_1.  Details: ERRR on field: _response_column: Response contains missing values (NAs) - not supported by XGBoost.\n",
            "\n",
            "14:41:44.851: _train param, Dropping bad and constant columns: [Ключевые навыки, Обо мне, Выполняемые задачи на прошлых местах работ]\n",
            "\n",
            "██\n",
            "14:41:46.774: _train param, Dropping bad and constant columns: [Ключевые навыки, Обо мне, Выполняемые задачи на прошлых местах работ]\n",
            "\n",
            "████\n",
            "14:41:56.873: _train param, Dropping bad and constant columns: [Ключевые навыки, Обо мне, Выполняемые задачи на прошлых местах работ]\n",
            "\n",
            "██\n",
            "14:42:05.709: _train param, Dropping bad and constant columns: [Ключевые навыки, Обо мне, Выполняемые задачи на прошлых местах работ]\n",
            "\n",
            "█\n",
            "14:42:14.399: _train param, Dropping bad and constant columns: [Ключевые навыки, Обо мне, Выполняемые задачи на прошлых местах работ]\n",
            "14:42:14.414: XGBoost_3_AutoML_4_20230712_144139 [XGBoost def_3] failed: water.exceptions.H2OModelBuilderIllegalArgumentException: Illegal argument(s) for XGBoost model: XGBoost_3_AutoML_4_20230712_144139_cv_1.  Details: ERRR on field: _response_column: Response contains missing values (NAs) - not supported by XGBoost.\n",
            "\n",
            "14:42:14.422: _train param, Dropping bad and constant columns: [Ключевые навыки, Обо мне, Выполняемые задачи на прошлых местах работ]\n",
            "\n",
            "\n",
            "14:42:15.442: _train param, Dropping bad and constant columns: [Ключевые навыки, Обо мне, Выполняемые задачи на прошлых местах работ]\n",
            "\n",
            "███\n",
            "14:42:23.144: _train param, Dropping bad and constant columns: [Ключевые навыки, Обо мне, Выполняемые задачи на прошлых местах работ]\n",
            "\n",
            "███████████████████████████\n",
            "14:42:59.322: _train param, Dropping unused columns: [Ключевые навыки, Обо мне, Выполняемые задачи на прошлых местах работ]\n",
            "\n",
            "████\n",
            "14:43:03.676: _train param, Dropping unused columns: [Ключевые навыки, Обо мне, Выполняемые задачи на прошлых местах работ]\n",
            "\n",
            "████████████████| (done) 100%\n"
          ]
        }
      ]
    },
    {
      "cell_type": "markdown",
      "source": [
        "### Анализ обучения"
      ],
      "metadata": {
        "id": "b8ejjouqzh9y"
      }
    },
    {
      "cell_type": "markdown",
      "source": [
        "Получаем лучшую модель, используя метрику\n",
        "\n",
        "\n",
        "**mean_per_class_error** - это мера средней ошибки классификации для каждого класса в наборе данных. Она вычисляется как среднее значение ошибок для каждого класса, деленное на количество классов. Чем меньше значение MCCE, тем лучше модель.\n",
        "\n",
        "**Log-loss** - это функция потерь, которая используется в задачах регрессии и классификации. Она также используется для оценки качества модели. Log-loss вычисляется путем суммирования логарифмов значений ошибок прогнозирования и деления этой суммы на количество наблюдений. Чем меньше значение log-loss, тем лучше модель.\n",
        "\n",
        "**RMSE** - это метрика для оценки среднеквадратической ошибки между прогнозами модели и фактическими значениями. Чем меньше RMSE, тем точнее модель.\n",
        "\n",
        "**MSE** - это еще одна метрика, используемая для оценки точности модели. Она рассчитывается как среднее квадратическое отклонение прогнозируемых значений от фактических значений. Чем меньше MSE, тем ближе модель к действительности."
      ],
      "metadata": {
        "id": "omA5qDsRUQVg"
      }
    },
    {
      "cell_type": "code",
      "source": [
        "# Получаем лучшую модель, используя метрику\n",
        "best_model_1 = aml_1.leader\n",
        "# Посмотрим метрику\n",
        "lb = aml_1.leaderboard\n",
        "lb.head()"
      ],
      "metadata": {
        "colab": {
          "base_uri": "https://localhost:8080/",
          "height": 389
        },
        "id": "XZO3O039SbP7",
        "outputId": "782772ff-089e-475c-986b-895963a885d8"
      },
      "execution_count": null,
      "outputs": [
        {
          "output_type": "execute_result",
          "data": {
            "text/plain": [
              "model_id                                                      auc    logloss     aucpr    mean_per_class_error      rmse        mse\n",
              "-------------------------------------------------------  --------  ---------  --------  ----------------------  --------  ---------\n",
              "StackedEnsemble_AllModels_1_AutoML_4_20230712_144139     0.774074   0.158625  0.987993                     0.5  0.206654  0.0427059\n",
              "DeepLearning_1_AutoML_4_20230712_144139                  0.709259   0.179933  0.983024                     0.5  0.208827  0.0436085\n",
              "StackedEnsemble_BestOfFamily_1_AutoML_4_20230712_144139  0.698148   0.176979  0.983292                     0.5  0.212714  0.0452472\n",
              "GBM_2_AutoML_4_20230712_144139                           0.668519   0.240697  0.981259                     0.5  0.209468  0.0438768\n",
              "GBM_5_AutoML_4_20230712_144139                           0.667593   0.23984   0.980881                     0.5  0.209397  0.0438469\n",
              "GBM_3_AutoML_4_20230712_144139                           0.647222   0.240469  0.980204                     0.5  0.209435  0.043863\n",
              "GBM_grid_1_AutoML_4_20230712_144139_model_1              0.642593   0.236198  0.978714                     0.5  0.209745  0.0439928\n",
              "GBM_4_AutoML_4_20230712_144139                           0.624074   0.240595  0.978277                     0.5  0.209451  0.0438696\n",
              "DRF_1_AutoML_4_20230712_144139                           0.471296   1.29299   0.953391                     0.5  0.212845  0.0453028\n",
              "DeepLearning_grid_1_AutoML_4_20230712_144139_model_1     0.442593   0.374978  0.953232                     0.5  0.210102  0.0441428\n",
              "[10 rows x 7 columns]\n"
            ],
            "text/html": [
              "<table class='dataframe'>\n",
              "<thead>\n",
              "<tr><th>model_id                                               </th><th style=\"text-align: right;\">     auc</th><th style=\"text-align: right;\">  logloss</th><th style=\"text-align: right;\">   aucpr</th><th style=\"text-align: right;\">  mean_per_class_error</th><th style=\"text-align: right;\">    rmse</th><th style=\"text-align: right;\">      mse</th></tr>\n",
              "</thead>\n",
              "<tbody>\n",
              "<tr><td>StackedEnsemble_AllModels_1_AutoML_4_20230712_144139   </td><td style=\"text-align: right;\">0.774074</td><td style=\"text-align: right;\"> 0.158625</td><td style=\"text-align: right;\">0.987993</td><td style=\"text-align: right;\">                   0.5</td><td style=\"text-align: right;\">0.206654</td><td style=\"text-align: right;\">0.0427059</td></tr>\n",
              "<tr><td>DeepLearning_1_AutoML_4_20230712_144139                </td><td style=\"text-align: right;\">0.709259</td><td style=\"text-align: right;\"> 0.179933</td><td style=\"text-align: right;\">0.983024</td><td style=\"text-align: right;\">                   0.5</td><td style=\"text-align: right;\">0.208827</td><td style=\"text-align: right;\">0.0436085</td></tr>\n",
              "<tr><td>StackedEnsemble_BestOfFamily_1_AutoML_4_20230712_144139</td><td style=\"text-align: right;\">0.698148</td><td style=\"text-align: right;\"> 0.176979</td><td style=\"text-align: right;\">0.983292</td><td style=\"text-align: right;\">                   0.5</td><td style=\"text-align: right;\">0.212714</td><td style=\"text-align: right;\">0.0452472</td></tr>\n",
              "<tr><td>GBM_2_AutoML_4_20230712_144139                         </td><td style=\"text-align: right;\">0.668519</td><td style=\"text-align: right;\"> 0.240697</td><td style=\"text-align: right;\">0.981259</td><td style=\"text-align: right;\">                   0.5</td><td style=\"text-align: right;\">0.209468</td><td style=\"text-align: right;\">0.0438768</td></tr>\n",
              "<tr><td>GBM_5_AutoML_4_20230712_144139                         </td><td style=\"text-align: right;\">0.667593</td><td style=\"text-align: right;\"> 0.23984 </td><td style=\"text-align: right;\">0.980881</td><td style=\"text-align: right;\">                   0.5</td><td style=\"text-align: right;\">0.209397</td><td style=\"text-align: right;\">0.0438469</td></tr>\n",
              "<tr><td>GBM_3_AutoML_4_20230712_144139                         </td><td style=\"text-align: right;\">0.647222</td><td style=\"text-align: right;\"> 0.240469</td><td style=\"text-align: right;\">0.980204</td><td style=\"text-align: right;\">                   0.5</td><td style=\"text-align: right;\">0.209435</td><td style=\"text-align: right;\">0.043863 </td></tr>\n",
              "<tr><td>GBM_grid_1_AutoML_4_20230712_144139_model_1            </td><td style=\"text-align: right;\">0.642593</td><td style=\"text-align: right;\"> 0.236198</td><td style=\"text-align: right;\">0.978714</td><td style=\"text-align: right;\">                   0.5</td><td style=\"text-align: right;\">0.209745</td><td style=\"text-align: right;\">0.0439928</td></tr>\n",
              "<tr><td>GBM_4_AutoML_4_20230712_144139                         </td><td style=\"text-align: right;\">0.624074</td><td style=\"text-align: right;\"> 0.240595</td><td style=\"text-align: right;\">0.978277</td><td style=\"text-align: right;\">                   0.5</td><td style=\"text-align: right;\">0.209451</td><td style=\"text-align: right;\">0.0438696</td></tr>\n",
              "<tr><td>DRF_1_AutoML_4_20230712_144139                         </td><td style=\"text-align: right;\">0.471296</td><td style=\"text-align: right;\"> 1.29299 </td><td style=\"text-align: right;\">0.953391</td><td style=\"text-align: right;\">                   0.5</td><td style=\"text-align: right;\">0.212845</td><td style=\"text-align: right;\">0.0453028</td></tr>\n",
              "<tr><td>DeepLearning_grid_1_AutoML_4_20230712_144139_model_1   </td><td style=\"text-align: right;\">0.442593</td><td style=\"text-align: right;\"> 0.374978</td><td style=\"text-align: right;\">0.953232</td><td style=\"text-align: right;\">                   0.5</td><td style=\"text-align: right;\">0.210102</td><td style=\"text-align: right;\">0.0441428</td></tr>\n",
              "</tbody>\n",
              "</table><pre style='font-size: smaller; margin-bottom: 1em;'>[10 rows x 7 columns]</pre>"
            ]
          },
          "metadata": {},
          "execution_count": 56
        }
      ]
    },
    {
      "cell_type": "code",
      "source": [
        "# Получим список параметров модели\n",
        "best_model_1.params.keys()"
      ],
      "metadata": {
        "colab": {
          "base_uri": "https://localhost:8080/"
        },
        "id": "6DyZb5bljto9",
        "outputId": "d2587c2c-7991-4af9-b905-e42ec956d65e"
      },
      "execution_count": null,
      "outputs": [
        {
          "output_type": "execute_result",
          "data": {
            "text/plain": [
              "dict_keys(['model_id', 'training_frame', 'validation_frame', 'nfolds', 'keep_cross_validation_models', 'keep_cross_validation_predictions', 'keep_cross_validation_fold_assignment', 'score_each_iteration', 'score_tree_interval', 'fold_assignment', 'fold_column', 'response_column', 'ignored_columns', 'ignore_const_cols', 'offset_column', 'weights_column', 'balance_classes', 'class_sampling_factors', 'max_after_balance_size', 'max_confusion_matrix_size', 'ntrees', 'max_depth', 'min_rows', 'nbins', 'nbins_top_level', 'nbins_cats', 'r2_stopping', 'stopping_rounds', 'stopping_metric', 'stopping_tolerance', 'max_runtime_secs', 'seed', 'build_tree_one_node', 'learn_rate', 'learn_rate_annealing', 'distribution', 'quantile_alpha', 'tweedie_power', 'huber_alpha', 'checkpoint', 'sample_rate', 'sample_rate_per_class', 'col_sample_rate', 'col_sample_rate_change_per_level', 'col_sample_rate_per_tree', 'min_split_improvement', 'histogram_type', 'max_abs_leafnode_pred', 'pred_noise_bandwidth', 'categorical_encoding', 'calibrate_model', 'calibration_frame', 'calibration_method', 'custom_metric_func', 'custom_distribution_func', 'export_checkpoints_dir', 'in_training_checkpoints_dir', 'in_training_checkpoints_tree_interval', 'monotone_constraints', 'check_constant_response', 'gainslift_bins', 'auc_type', 'interaction_constraints', 'auto_rebalance'])"
            ]
          },
          "metadata": {},
          "execution_count": 15
        }
      ]
    },
    {
      "cell_type": "markdown",
      "source": [
        "Посмотрим график обучения лучшей модели"
      ],
      "metadata": {
        "id": "plvn1moNrJAp"
      }
    },
    {
      "cell_type": "markdown",
      "source": [
        "**График кривой обучения**\n",
        "График кривой обучения показывает функцию потерь / метрику, зависящую от количества итераций или деревьев для древовидных алгоритмов. Этот график может быть полезен для определения того, подходит ли модель чрезмерно."
      ],
      "metadata": {
        "id": "XmR6lcJ7t8l5"
      }
    },
    {
      "cell_type": "code",
      "source": [
        "best_model_1.plot()"
      ],
      "metadata": {
        "colab": {
          "base_uri": "https://localhost:8080/",
          "height": 489
        },
        "id": "vjiiL8WNqXi9",
        "outputId": "3a3ba179-5a0e-4e18-fdee-01e91b656bc0"
      },
      "execution_count": null,
      "outputs": [
        {
          "output_type": "display_data",
          "data": {
            "text/plain": [
              "<Figure size 640x480 with 1 Axes>"
            ],
            "image/png": "[encoded data removed]"
          },
          "metadata": {}
        },
        {
          "output_type": "execute_result",
          "data": {
            "text/plain": [
              "<h2o.plot._plot_result._MObject at 0x7f5568491d20>"
            ]
          },
          "metadata": {},
          "execution_count": 31
        }
      ]
    },
    {
      "cell_type": "markdown",
      "source": [
        "Важность переменных представляет собой статистическую значимость каждой переменной в данных с точки зрения ее влияния на модель. Переменные перечислены в порядке от наибольшей до наименьшей важности. Процентные значения представляют собой процент важности всех переменных, масштабированный до 100%. Метод вычисления важности каждой переменной зависит от алгоритма."
      ],
      "metadata": {
        "id": "Um7tUoheqFnU"
      }
    },
    {
      "cell_type": "markdown",
      "source": [
        "**Переменная важность**\n",
        "График важности переменных показывает относительную важность наиболее важных переменных в модели."
      ],
      "metadata": {
        "id": "GxBvCliDuC5X"
      }
    },
    {
      "cell_type": "code",
      "source": [
        "best_model_1.varimp_plot()"
      ],
      "metadata": {
        "id": "Z6VQvCKTo4rN"
      },
      "execution_count": null,
      "outputs": []
    },
    {
      "cell_type": "markdown",
      "source": [
        "**Тепловая карта важности переменной**\n",
        "Тепловая карта переменной важности показывает переменную важность для нескольких моделей. Некоторые модели в H2O возвращают важность переменной для версий категориальных столбцов, закодированных с помощью одного горячего (двоичного индикатора) (например, Deep Learning, XGBoost). Чтобы значение переменной важности категориальных столбцов можно было сравнить во всех типах моделей, мы вычисляем суммирование важности переменной для всех функций с горячим кодированием и возвращаем значение одной переменной для исходной категориальной функции. По умолчанию модели и переменные упорядочены по их сходству."
      ],
      "metadata": {
        "id": "BVE08QjbxEqm"
      }
    },
    {
      "cell_type": "code",
      "source": [
        "va_plot = aml_1.varimp_heatmap()"
      ],
      "metadata": {
        "colab": {
          "base_uri": "https://localhost:8080/",
          "height": 898
        },
        "id": "ZnkWcRJPwZk6",
        "outputId": "7f8da887-6e78-4299-8c90-93d1fca074ec"
      },
      "execution_count": null,
      "outputs": [
        {
          "output_type": "display_data",
          "data": {
            "text/plain": [
              "<Figure size 1600x900 with 2 Axes>"
            ],
            "image/png": "[encoded data removed]"
          },
          "metadata": {}
        }
      ]
    },
    {
      "cell_type": "markdown",
      "source": [
        "**Confusion Matrix**\n",
        "представляет собой таблицу, показывающую производительность алгоритма с точки зрения ложных срабатываний, ложных отрицательных результатов, истинных положительных результатов и истинных отрицательных результатов."
      ],
      "metadata": {
        "id": "8ZNaEXDF7wxi"
      }
    },
    {
      "cell_type": "code",
      "source": [
        "best_model_1.confusion_matrix()"
      ],
      "metadata": {
        "colab": {
          "base_uri": "https://localhost:8080/",
          "height": 153
        },
        "id": "0DWenril2jyz",
        "outputId": "b81e2255-f796-4ea3-8000-b2fcc043687b"
      },
      "execution_count": null,
      "outputs": [
        {
          "output_type": "execute_result",
          "data": {
            "text/plain": [
              "Confusion Matrix (Act/Pred) for max f1 @ threshold = 0.9962264550329797\n",
              "       да    нет    Error    Rate\n",
              "-----  ----  -----  -------  -----------\n",
              "да     5     0      0        (0.0/5.0)\n",
              "нет    0     108    0        (0.0/108.0)\n",
              "Total  5     108    0        (0.0/113.0)"
            ],
            "text/html": [
              "\n",
              "<style>\n",
              "\n",
              "#h2o-table-6.h2o-container {\n",
              "  overflow-x: auto;\n",
              "}\n",
              "#h2o-table-6 .h2o-table {\n",
              "  /* width: 100%; */\n",
              "  margin-top: 1em;\n",
              "  margin-bottom: 1em;\n",
              "}\n",
              "#h2o-table-6 .h2o-table caption {\n",
              "  white-space: nowrap;\n",
              "  caption-side: top;\n",
              "  text-align: left;\n",
              "  /* margin-left: 1em; */\n",
              "  margin: 0;\n",
              "  font-size: larger;\n",
              "}\n",
              "#h2o-table-6 .h2o-table thead {\n",
              "  white-space: nowrap; \n",
              "  position: sticky;\n",
              "  top: 0;\n",
              "  box-shadow: 0 -1px inset;\n",
              "}\n",
              "#h2o-table-6 .h2o-table tbody {\n",
              "  overflow: auto;\n",
              "}\n",
              "#h2o-table-6 .h2o-table th,\n",
              "#h2o-table-6 .h2o-table td {\n",
              "  text-align: right;\n",
              "  /* border: 1px solid; */\n",
              "}\n",
              "#h2o-table-6 .h2o-table tr:nth-child(even) {\n",
              "  /* background: #F5F5F5 */\n",
              "}\n",
              "\n",
              "</style>      \n",
              "<div id=\"h2o-table-6\" class=\"h2o-container\">\n",
              "  <table class=\"h2o-table\">\n",
              "    <caption>Confusion Matrix (Act/Pred) for max f1 @ threshold = 0.9962264550329797</caption>\n",
              "    <thead><tr><th></th>\n",
              "<th>да</th>\n",
              "<th>нет</th>\n",
              "<th>Error</th>\n",
              "<th>Rate</th></tr></thead>\n",
              "    <tbody><tr><td>да</td>\n",
              "<td>5.0</td>\n",
              "<td>0.0</td>\n",
              "<td>0.0</td>\n",
              "<td> (0.0/5.0)</td></tr>\n",
              "<tr><td>нет</td>\n",
              "<td>0.0</td>\n",
              "<td>108.0</td>\n",
              "<td>0.0</td>\n",
              "<td> (0.0/108.0)</td></tr>\n",
              "<tr><td>Total</td>\n",
              "<td>5.0</td>\n",
              "<td>108.0</td>\n",
              "<td>0.0</td>\n",
              "<td> (0.0/113.0)</td></tr></tbody>\n",
              "  </table>\n",
              "</div>\n"
            ]
          },
          "metadata": {},
          "execution_count": 57
        }
      ]
    },
    {
      "cell_type": "markdown",
      "source": [
        "### Производительность модели"
      ],
      "metadata": {
        "id": "n1EmyFMwWBBk"
      }
    },
    {
      "cell_type": "markdown",
      "source": [
        "H2O-3 предоставляет множество показателей, которые можно использовать для оценки контролируемых и неконтролируемых моделей. Показатели в этом разделе охватывают только модели контролируемого обучения, которые различаются в зависимости от типа модели (классификация или регрессия)."
      ],
      "metadata": {
        "id": "EEQYNDclzote"
      }
    },
    {
      "cell_type": "code",
      "source": [
        "perf = best_model_1.model_performance(test)\n",
        "perf.confusion_matrix()"
      ],
      "metadata": {
        "colab": {
          "base_uri": "https://localhost:8080/",
          "height": 153
        },
        "id": "buzWdw5Kkw2P",
        "outputId": "4284f532-6572-4ec1-9d1f-c43aa40772b1"
      },
      "execution_count": null,
      "outputs": [
        {
          "output_type": "execute_result",
          "data": {
            "text/plain": [
              "Confusion Matrix (Act/Pred) for max f1 @ threshold = 0.9953968709545383\n",
              "       да    нет    Error    Rate\n",
              "-----  ----  -----  -------  ----------\n",
              "да     1     3      0.75     (3.0/4.0)\n",
              "нет    0     44     0        (0.0/44.0)\n",
              "Total  1     47     0.0625   (3.0/48.0)"
            ],
            "text/html": [
              "\n",
              "<style>\n",
              "\n",
              "#h2o-table-7.h2o-container {\n",
              "  overflow-x: auto;\n",
              "}\n",
              "#h2o-table-7 .h2o-table {\n",
              "  /* width: 100%; */\n",
              "  margin-top: 1em;\n",
              "  margin-bottom: 1em;\n",
              "}\n",
              "#h2o-table-7 .h2o-table caption {\n",
              "  white-space: nowrap;\n",
              "  caption-side: top;\n",
              "  text-align: left;\n",
              "  /* margin-left: 1em; */\n",
              "  margin: 0;\n",
              "  font-size: larger;\n",
              "}\n",
              "#h2o-table-7 .h2o-table thead {\n",
              "  white-space: nowrap; \n",
              "  position: sticky;\n",
              "  top: 0;\n",
              "  box-shadow: 0 -1px inset;\n",
              "}\n",
              "#h2o-table-7 .h2o-table tbody {\n",
              "  overflow: auto;\n",
              "}\n",
              "#h2o-table-7 .h2o-table th,\n",
              "#h2o-table-7 .h2o-table td {\n",
              "  text-align: right;\n",
              "  /* border: 1px solid; */\n",
              "}\n",
              "#h2o-table-7 .h2o-table tr:nth-child(even) {\n",
              "  /* background: #F5F5F5 */\n",
              "}\n",
              "\n",
              "</style>      \n",
              "<div id=\"h2o-table-7\" class=\"h2o-container\">\n",
              "  <table class=\"h2o-table\">\n",
              "    <caption>Confusion Matrix (Act/Pred) for max f1 @ threshold = 0.9953968709545383</caption>\n",
              "    <thead><tr><th></th>\n",
              "<th>да</th>\n",
              "<th>нет</th>\n",
              "<th>Error</th>\n",
              "<th>Rate</th></tr></thead>\n",
              "    <tbody><tr><td>да</td>\n",
              "<td>1.0</td>\n",
              "<td>3.0</td>\n",
              "<td>0.75</td>\n",
              "<td> (3.0/4.0)</td></tr>\n",
              "<tr><td>нет</td>\n",
              "<td>0.0</td>\n",
              "<td>44.0</td>\n",
              "<td>0.0</td>\n",
              "<td> (0.0/44.0)</td></tr>\n",
              "<tr><td>Total</td>\n",
              "<td>1.0</td>\n",
              "<td>47.0</td>\n",
              "<td>0.0625</td>\n",
              "<td> (3.0/48.0)</td></tr></tbody>\n",
              "  </table>\n",
              "</div>\n"
            ]
          },
          "metadata": {},
          "execution_count": 58
        }
      ]
    },
    {
      "cell_type": "markdown",
      "source": [
        "**Predict Contributions**\n",
        "Это включает в себя столбец вклада функции для каждой входной функции. Последний столбец этой таблицы — это смещение модели (столбец один и тот же для каждой строки). Сумма вкладов признаков и члена смещения равна необработанному прогнозу модели. Необработанный прогноз древовидной модели представляет собой сумму прогнозов отдельных деревьев до применения функции обратной связи для получения фактического прогноза. Для распределения Гаусса сумма вкладов равна предсказанию модели."
      ],
      "metadata": {
        "id": "1Z6aUVyU1kpd"
      }
    },
    {
      "cell_type": "code",
      "source": [
        "best_model_1.predict_contributions(train)"
      ],
      "metadata": {
        "id": "Rv2XFLNNzcl5"
      },
      "execution_count": null,
      "outputs": []
    },
    {
      "cell_type": "markdown",
      "source": [
        "### Прогноз модели"
      ],
      "metadata": {
        "id": "1cP-Ca0jz_sa"
      }
    },
    {
      "cell_type": "markdown",
      "source": [
        "С помощью H2O-3 вы можете генерировать прогнозы для модели на основе образцов в тестовом наборе"
      ],
      "metadata": {
        "id": "t_2v-DEQ0M38"
      }
    },
    {
      "cell_type": "code",
      "source": [
        "preds = best_model_1.predict(test)\n",
        "print(preds)\n"
      ],
      "metadata": {
        "colab": {
          "base_uri": "https://localhost:8080/"
        },
        "id": "-XK73Gc3y53R",
        "outputId": "d8b1dcf2-aa7f-413a-b400-2dc595b2c4c1"
      },
      "execution_count": null,
      "outputs": [
        {
          "output_type": "stream",
          "name": "stdout",
          "text": [
            "stackedensemble prediction progress: |███████████████████████████████████████████| (done) 100%\n",
            "predict             да       нет\n",
            "нет        0.000897676  0.999102\n",
            "нет        0.000373463  0.999627\n",
            "нет        0.00170417   0.998296\n",
            "нет        0.000889873  0.99911\n",
            "нет        0.0140013    0.985999\n",
            "нет        0.0154479    0.984552\n",
            "нет        0.00295231   0.997048\n",
            "нет        0.0242966    0.975703\n",
            "нет        0.0236205    0.97638\n",
            "нет        0.0100534    0.989947\n",
            "[79 rows x 3 columns]\n",
            "\n"
          ]
        }
      ]
    },
    {
      "cell_type": "code",
      "source": [
        "best_model_1.save_mojo('best_model.zip')"
      ],
      "metadata": {
        "id": "UX3kXyoZ8weO"
      },
      "execution_count": null,
      "outputs": []
    },
    {
      "cell_type": "code",
      "source": [
        "h2o.save_model(model=best_model_1, path=\"/content/mymodel\", force=True)"
      ],
      "metadata": {
        "id": "ZSDLlpg5mbYn"
      },
      "execution_count": null,
      "outputs": []
    },
    {
      "cell_type": "markdown",
      "source": [
        "### Загрузка модели"
      ],
      "metadata": {
        "id": "VnDdGP-C6SnY"
      }
    },
    {
      "cell_type": "code",
      "source": [
        "imported_model = h2o.import_mojo(\"/content/StackedEnsemble_AllModels_1_AutoML_4_20230712_144139.zip\")"
      ],
      "metadata": {
        "colab": {
          "base_uri": "https://localhost:8080/"
        },
        "id": "DBc5ry9xqe1z",
        "outputId": "2b6d9a3e-2c4f-46c6-ee61-af6f2e3206d5"
      },
      "execution_count": 7,
      "outputs": [
        {
          "output_type": "stream",
          "name": "stdout",
          "text": [
            "generic Model Build progress: |██████████████████████████████████████████████████| (done) 100%\n"
          ]
        }
      ]
    },
    {
      "cell_type": "code",
      "source": [
        "#Читаем файл в Дата фрейм\n",
        "df = h2o.import_file(\"data.csv\",header =1)\n"
      ],
      "metadata": {
        "colab": {
          "base_uri": "https://localhost:8080/"
        },
        "id": "-CKQLOhCqz3U",
        "outputId": "c801a27d-2d11-404e-8e44-66fd812cce8e"
      },
      "execution_count": 9,
      "outputs": [
        {
          "output_type": "stream",
          "name": "stdout",
          "text": [
            "Parse progress: |████████████████████████████████████████████████████████████████| (done) 100%\n"
          ]
        }
      ]
    },
    {
      "cell_type": "code",
      "source": [
        "preds = imported_model.predict(df)\n",
        "print(preds)\n"
      ],
      "metadata": {
        "id": "7BSqiMoKt1WK",
        "colab": {
          "base_uri": "https://localhost:8080/"
        },
        "outputId": "1d6c2866-9f80-4a16-8d9f-02d85a822abf"
      },
      "execution_count": 10,
      "outputs": [
        {
          "output_type": "stream",
          "name": "stdout",
          "text": [
            "generic prediction progress: |███████████████████████████████████████████████████| (done) 100%\n",
            "predict             да          нет\n",
            "да         0.999591     0.000409444\n",
            "да         0.999341     0.000658733\n",
            "да         0.999253     0.000747217\n",
            "нет        0.00227267   0.997727\n",
            "нет        0.00421762   0.995782\n",
            "да         0.617156     0.382844\n",
            "да         0.99943      0.000569717\n",
            "нет        0.000666161  0.999334\n",
            "да         0.998609     0.00139136\n",
            "нет        0.00116623   0.998834\n",
            "[1030 rows x 3 columns]\n",
            "\n"
          ]
        },
        {
          "output_type": "stream",
          "name": "stderr",
          "text": [
            "/usr/local/lib/python3.10/dist-packages/h2o/job.py:81: UserWarning: Test/Validation dataset column 'Пол, возраст' has levels not trained on: [\"\", \"5 раза снизилась стоимость привлечения лида\", \"B2G.\", \"MVC ASP.NET\", \"P&L - моделью.\", \"PEST анализ\", \"ReactJS\", \"Redmine\n",
            "Scrum\n",
            "Управление продуктом\n",
            "Jira\n",
            "Kanban\n",
            "MVP\n",
            "Agile\n",
            "Waterfall\n",
            "UX/UI\n",
            "CJM\n",
            "Подготовка ТЗ\n",
            "User Stories\n",
            "CustDev\n",
            "Unit-экономика\n",
            "Спринты\n",
            "Водопад\n",
            "Product менеджер\", \"SEO продвижения сайтов\", \"SMM.\", ...378 not listed..., \"таргетированной рекламы Вконакте\", \"тестировщиками.\", \"технические специалисты);\", \"технологии.\", \"товарных категорий и продуктов\", \"управление маркетингом\", \"холодные звонки\", \"что повлекло снижение затрат на привлечение тех\", \"что показалось интереснее. Один раз живём :)\"\", \"что часть продаж через B2B2C (т.е. через дизайнеров интерьера). Их потребности пересеклись с потребностями остальных покупателей. CPS (стоимость привлеченного клиента) снизилась до 3.5 тыс. руб.\"]\n",
            "  warnings.warn(w)\n",
            "/usr/local/lib/python3.10/dist-packages/h2o/job.py:81: UserWarning: Test/Validation dataset column 'ЗП' has levels not trained on: [\"1 200 EUR\", \"1 550 USD\", \"1 900 000 KZT\", \"1 руб.\", \"1. Опыт создания 2-х собственных бизнесов.\n",
            "\n",
            "2. Беру инициативу. Вдохновляю команду, с которой работаю на сверх-результат.\n",
            "\n",
            "3. Понимание IT-систем.\n",
            "\n",
            "4. Большой нетворкинг из основателей IT-проектов, за прошлый год познакомился с 350-ю людьми из разных сфер.\n",
            "\n",
            "5. Навык проведения переговоров на высоком уровне.\", \"100 000 KGS\", \"110 000 руб.\", \"119 000 руб.\", \"127 000 руб.\", \"140 000 руб.\", ...60 not listed..., \"система сбалансированных показателей). \", \"создание и первичное наполнение контентом групп в VK\", \"соцсети\", \"строительными фирмами\", \"сформирован перечень более 50 свойств\", \"телефонные презентации\", \"услуг и маркетинговой поддержки продаж.\", \"целевые посадочные страницы вошли в топ-5 Яндекс по высококонкурентным запросам\", \"экспертиза\", \"электромонтажных работ): поиск потенциальных заказчиков\"]\n",
            "  warnings.warn(w)\n",
            "/usr/local/lib/python3.10/dist-packages/h2o/job.py:81: UserWarning: Test/Validation dataset column 'Ищет работу на должность' has levels not trained on: [\"25 января 2023 в 18:32\", \"5 февраля 2023 в 02:39\", \"6 февраля 2023 в 14:02\", \"FB.\", \"Growth Product Manager\", \"HTML\", \"Product Manager в команду HR\", \"Product Manager в команду Финансового департамента\", \"Product Marketing Manager в Growth Hacking команду\", \"Product manager в Growth Hacking команду\", ...32 not listed..., \"создание семантического ядра сайта\", \"средства по уходу за обувью\", \"т.е. арбитражников.\", \"тарифов);\", \"триггерные рассылки\", \"упаковка\", \"управление клиентским опытом\", \"функционал и тарифы Битрикс24\", \"функционала и структуры нового сайта;\", \"холодные звонки\"]\n",
            "  warnings.warn(w)\n",
            "/usr/local/lib/python3.10/dist-packages/h2o/job.py:81: UserWarning: Test/Validation dataset column 'Город' has levels not trained on: [\"4 раза.\", \"CSS\", \"POS\", \"cold calls\", \"Актау, Не готов к переезду, готов к редким командировкам\", \"Алматы, Готов к переезду, готов к командировкам\", \"Алматы, Готов к переезду, готов к редким командировкам\", \"Алматы, Готов к переезду, не готов к командировкам\", \"Алматы, м. Алатау, Готова к переезду: Москва, Астана, готова к редким командировкам\", \"Армения, Готов к переезду, готов к командировкам\", ...138 not listed..., \"разработка и согласование проектов договоров;\", \"разработка коммерческих предложений\", \"расчетом экономической эффективности). \", \"рекламных материалов\", \"салонами интерьерных декоративных материалов\", \"создание пользовательских полей описания клиентов и лидов;   \", \"успешно сданы тетсы на сертификат по курсу Контент-менеджмент БУС\", \"хозяйственные товары и др.) в регионах ЦФО и ПФО. В результате разработаны прогнозы по прибыли с учетом разного объема продаж\", \"цифровой маркетинг).\", \"штатному и внешним дизайнерам;\"]\n",
            "  warnings.warn(w)\n",
            "/usr/local/lib/python3.10/dist-packages/h2o/job.py:81: UserWarning: Test/Validation dataset column 'Занятость' has levels not trained on: [\"13 февраля 2023 в 20:43\", \"CXM - разрешение конфликтных ситуаций и жалоб клиентов\", \"JS\", \"presentations\", \"Высшее, 2000, Нижегородский государственный технический университет им. Р.Е. Алексеева, Нижний Новгород, 1996, Нижегородский институт управления Российской академии народного хозяйства и государственной службы при Президенте Российской Федерации, Нижний Новгород\", \"акция на сайте.\", \"бытовое электрооборудование и электротехника (монтаж\", \"встречи\", \"выбран шаблон сайта\", \"другими дистрибьюторами\", ...11 not listed..., \"проектная работа, неполный рабочий день, полный рабочий день\", \"разработка и регистрация торговой марки\", \"разработка соответствующего современным тенденциям веб-дизайна сайта с функционалом интернет-магазина на CMS 1С-Битрикс+шаблон с планарным каталогом\", \"разработка торговой структуры и способов покрытия клиентской базы\", \"реализованы лицензии БУС (продления и переходы) более 10 клиентам\", \"стажировка, полная занятость\", \"тарифов\", \"тендеры\", \"удобство выбора\", \"этикетки и пр).\"]\n",
            "  warnings.warn(w)\n",
            "/usr/local/lib/python3.10/dist-packages/h2o/job.py:81: UserWarning: Test/Validation dataset column 'График' has levels not trained on: [\"20 февраля 2023 в 13:17\", \"AJAX\", \"potential client needs identification\", \"а также с торговыми предложениями\", \"аккаунты в каталоге и на картах Яндекс\", \"вахтовый метод\", \"вахтовый метод, удаленная работа, гибкий график, полный день, сменный графи\", \"выработаны ценностные предложения для привлечения партнеров экосистемы и конечных заказчиков\", \"гибкий график, удаленная работа\", \"демонстрация продукции\", ...9 not listed..., \"разработка договоров\", \"разработка и внедрение корректирующих мер в процессы приема и исполнения заявок;\", \"редакция системы управления сайтом 1С-Битрикс и модули\", \"рекламных материалов\", \"сервис\", \"увеличивающий конверсию и средний чек (фильтры\", \"удаленная работа, гибкий график, сменный график\", \"удаленная работа, полный день, сменный график\", \"удаленная работа, полный рабочий день\", \"ценовой модели\"]\n",
            "  warnings.warn(w)\n",
            "/usr/local/lib/python3.10/dist-packages/h2o/job.py:81: UserWarning: Test/Validation dataset column 'Опыт ()' has levels not trained on: [\"commercial and tender offers development\", \"iFrame\", \"Опыт работы 17 лет 7 месяцев\", \"Опыт работы 4 года 11 месяцев\", \"Опыт работы 6 лет 3 месяца\", \"Опыт работы — 19 лет 8 месяца\", \"Опыт работы —1 год 1 месяц\", \"Опыт работы —1 год 10 месяцев\", \"Опыт работы —1 год 6 месяцев\", \"Опыт работы —1 год 9 месяцев\", ...128 not listed..., \"подготовка первичных документов\", \"прогноза продаж).\", \"прямые продажи\", \"разработу корпоративных сайтов и интернет магазинов\", \"ремонт)\", \"спроектирована структура и функционал многосторонней e-commerce платформы\", \"сформулировано ТЗ дизайнеру на подготовку изображений\", \"торговые предложения\", \"управление рекламой в печатных СМИ и в Интернет\", \"фильтрацией по свойствам; настройка модуля лид-опросов\"]\n",
            "  warnings.warn(w)\n",
            "/usr/local/lib/python3.10/dist-packages/h2o/job.py:81: UserWarning: Test/Validation dataset column 'Последнее/нынешное место работы' has levels not trained on: [\"\"CREOS\" - Creos Play LT\", \"\"Smart\" Международный онлайн-институт психологии\", \"\"МИАтел\" / телеком-оператор России и Казахстана\", \"\"Точнотест-регион\"\", \"99 Ballov\", \"AIESEC\", \"Addie Digital\", \"Aitu Dala\", \"Alfa clean\", \"Amazon S3\", ...326 not listed..., \"оздоровительный санаторий черемушки\", \"подготовка тендерной документации\", \"подготовлены более 20 смет (с ТКП) на создание сайтов следующим типам заказчиков нижегородской области\", \"подключение систем аналитики\", \"позволяющий проводить дистанционное обучение партнеров по применению производимых материалов\", \"презентация преимуществ товара и поставщика\", \"разработка сайта (выбор CMS\", \"разработка формата предоставляемых заказчикам справок о благонадежности и кредитоспособности контрагентов\", \"сформулирован понятный контент страниц Оплата\", \"яндекс такси\"]\n",
            "  warnings.warn(w)\n",
            "/usr/local/lib/python3.10/dist-packages/h2o/job.py:81: UserWarning: Test/Validation dataset column 'Последняя/нынешняя должность' has levels not trained on: [\"Business Development Analyst (Freelance)\", \"CEO / кофаундер\", \"CEO/учредитель/партнёр/Руководитель проекта\", \"Chief Product Officer, Business Development Director\", \"Chief product officer\", \"Co-founder\", \"Consultant mobile pm\", \"Google Мой бизнес\", \"Growth Hacker (Middle)\", \"Growth Manager\", ...218 not listed..., \"обеспечивающий лидогенерацию как для производителя\", \"оптическая\", \"подготовка по заказам клиентов справок о благонадежности фирм\", \"прямые продажи\", \"разработка и согласование договоров\", \"руководитель отдела по управлению персоналом (кадров)\", \"сметными службами для подготовки ТКП.\", \"формирование семантического ядра\", \"частично перенесен контент.\", \"эксперт по маркетингу\"]\n",
            "  warnings.warn(w)\n",
            "/usr/local/lib/python3.10/dist-packages/h2o/job.py:81: UserWarning: Test/Validation dataset column 'Образование и ВУЗ' has levels not trained on: [\"SEO-специалистом\", \"Бакалавр, 2012, Казахстанский институт менеджмента, экономики и прогнозирования, Алматы\", \"Бакалавр, 2013, Национальный исследовательский университет \"Высшая школа экономики\", Москва\", \"Бакалавр, 2016, University of Memphis (Дистанционное обучение), 2013, КФУ Институт Экономики и Финансов\", \"Бакалавр, 2016, Башкирский институт физической культуры (филиал) Уральского государственного университета физической культуры, Уфа\", \"Бакалавр, 2016, Казанский государственный финансово-экономический институт им. В.В. Куйбышева (в 2011. году в составе КФУ), Казань\", \"Бакалавр, 2016, Уфимский государственный нефтяной технический университет, Уфа \", \"Бакалавр, 2017, Российский государственный педагогический университет им. А.И. Герцена, Санкт-Петербург\", \"Бакалавр, 2017, Уфимский государственный авиационный технический университет, Уфа\", \"Бакалавр, 2018, Российский экономический университет им. Г.В. Плеханова, Москва\", ...314 not listed..., \"Среднее специальное, 2021, Уфимский политехнический техникум\", \"Среднее специальное, 2021, Финансовый университет при Правительстве Российской Федерации, Уфа\", \"Среднее специальное, 2021, кооперативный техникум\", \"Среднее специальное, 2024, Бгу , 2020, СфБашгу\", \"исследований в области ВЭД\", \"мебельное производство\", \"повышающие конверсию\", \"свойства продуктов для фильтрации. Разработан бизнес-процесс обработки лидов с участием партнеров в CRM Битрикс24 и требования к функционалу. \", \"сервис\", \"управления рисками предприятия ПФО и ЦФО\"]\n",
            "  warnings.warn(w)\n"
          ]
        }
      ]
    },
    {
      "cell_type": "code",
      "source": [
        "df = df.as_data_frame()"
      ],
      "metadata": {
        "id": "3cptgE83rdLk"
      },
      "execution_count": 11,
      "outputs": []
    },
    {
      "cell_type": "code",
      "source": [
        "preds = preds.as_data_frame()"
      ],
      "metadata": {
        "id": "KNxN-hbduNiu"
      },
      "execution_count": 12,
      "outputs": []
    },
    {
      "cell_type": "code",
      "source": [
        "df = df.join(preds)"
      ],
      "metadata": {
        "id": "r_psIAE_4P3v"
      },
      "execution_count": 13,
      "outputs": []
    },
    {
      "cell_type": "code",
      "source": [
        "df.to_csv('Ответы.csv')\n",
        "df.head(5)"
      ],
      "metadata": {
        "colab": {
          "base_uri": "https://localhost:8080/",
          "height": 721
        },
        "id": "9_PrJTww59Kv",
        "outputId": "10b2905a-a7c2-4b64-edb4-dfd616c67fc5"
      },
      "execution_count": 14,
      "outputs": [
        {
          "output_type": "execute_result",
          "data": {
            "text/plain": [
              "    C1  Дата отклика                               Пол, возраст            ЗП  \\\n",
              "0  0.0  1.677110e+12                                    Женщина   90 000 руб.   \n",
              "1  1.0  1.673395e+12                                    Женщина    не указана   \n",
              "2  2.0  1.677456e+12  Мужчина, 33 года, родился 23 августа 1989  150 000 руб.   \n",
              "3  3.0  1.673395e+12   Мужчина, 32 года, родился 7 декабря 1990    не указана   \n",
              "4  4.0  1.673395e+12   Мужчина, 26 лет, родился 21 февраля 1996  150 000 руб.   \n",
              "\n",
              "  Ищет работу на должность                                              Город  \\\n",
              "0   Growth Product Manager  Индонезия, Не готова к переезду, не готова к к...   \n",
              "1   Growth Product Manager  Москва, Готова к переезду, готова к командировкам   \n",
              "2   Growth Product Manager  Санкт-Петербург, Готов к переезду: Москва, гот...   \n",
              "3   Growth Product Manager  Москва, м. Молодежная, Хочу переехать, готов к...   \n",
              "4   Growth Product Manager       Пермь, Хочу переехать, готов к командировкам   \n",
              "\n",
              "                                           Занятость  \\\n",
              "0  проектная работа, частичная занятость, полная ...   \n",
              "1                                   полная занятость   \n",
              "2  проектная работа, частичная занятость, полная ...   \n",
              "3  стажировка, частичная занятость, полная занятость   \n",
              "4  проектная работа, частичная занятость, полная ...   \n",
              "\n",
              "                                         График  \\\n",
              "0                              удаленная работа   \n",
              "1  удаленная работа, гибкий график, полный день   \n",
              "2  удаленная работа, гибкий график, полный день   \n",
              "3  удаленная работа, гибкий график, полный день   \n",
              "4  удаленная работа, гибкий график, полный день   \n",
              "\n",
              "                          Опыт ()  \\\n",
              "0   Опыт работы —5 лет 10 месяцев   \n",
              "1  Опыт работы —11 лет 11 месяцев   \n",
              "2     Опыт работы —7 лет 2 месяца   \n",
              "3   Опыт работы —8 лет 10 месяцев   \n",
              "4    Опыт работы —5 лет 9 месяцев   \n",
              "\n",
              "                     Последнее/нынешное место работы  \\\n",
              "0                                PT MYBALI APP GROUP   \n",
              "1                                      Банк Открытие   \n",
              "2                                          DIKIY LLC   \n",
              "3                                           WeInvest   \n",
              "4  Индивидуальное предпринимательство / частная п...   \n",
              "\n",
              "                  Последняя/нынешняя должность  \\\n",
              "0                         Менеджер по продукту   \n",
              "1  Product owner трайб сбережения и инвестиции   \n",
              "2                                          NaN   \n",
              "3                Product Manager (team leader)   \n",
              "4                      Product/Project manager   \n",
              "\n",
              "          Выполняемые задачи на прошлых местах работ  \\\n",
              "0  Маркетинговые исследования\\nИсследование рынка...   \n",
              "1  Участие в команде роста\\nВ2В\\n\\nЗадачи:\\n- Раз...   \n",
              "2  Запуск бренда и производства игристого кваса D...   \n",
              "3  1. Исследование рынка\\n2. Определение целевой ...   \n",
              "4   Переговоры со стейкхолдером\\n- Составление ТЗ...   \n",
              "\n",
              "                                             Обо мне  \\\n",
              "0                                                NaN   \n",
              "1                                                NaN   \n",
              "2  Чем бы я ни занимался с 2014 года, когда решил...   \n",
              "3  Я проактивный, коммуникабельный, позитивный, д...   \n",
              "4  Набрал кучу опыта и хочу с ним найти классную ...   \n",
              "\n",
              "                                     Ключевые навыки  \\\n",
              "0  Анализ рынка\\nУправление проектами\\nProduct Ma...   \n",
              "1  Самомотивация\\nТаймменеджмент\\nКреативность\\nЧ...   \n",
              "2  Продвижение бренда\\nПланирование маркетинговых...   \n",
              "3  Управление проектами\\nОрганизаторские навыки\\n...   \n",
              "4  Управление персоналом\\nЗаключение договоров\\nА...   \n",
              "\n",
              "                                   Образование и ВУЗ        Обновление резюме  \\\n",
              "0  Высшее, 2023, Нетоло́гия, 2014, Университет Ро...  23 февраля 2023 в 16:30   \n",
              "1  Высшее, 2022, GeekBrains, 2010, Московский худ...   8 февраля 2023 в 09:15   \n",
              "2  Высшее, 2013, Санкт-Петербургский государствен...  28 февраля 2023 в 09:41   \n",
              "3  Магистр, 2014, Московский государственный техн...   24 января 2023 в 12:07   \n",
              "4  Высшее, 2021, Российская академия народного хо...   6 февраля 2023 в 11:18   \n",
              "\n",
              "  Подходит - да/нет predict        да       нет  \n",
              "0                да      да  0.999591  0.000409  \n",
              "1                да      да  0.999341  0.000659  \n",
              "2                да      да  0.999253  0.000747  \n",
              "3                да     нет  0.002273  0.997727  \n",
              "4                да     нет  0.004218  0.995782  "
            ],
            "text/html": [
              "\n",
              "\n",
              "  <div id=\"df-b8868801-c18a-404b-882f-b0d5983f9c05\">\n",
              "    <div class=\"colab-df-container\">\n",
              "      <div>\n",
              "<style scoped>\n",
              "    .dataframe tbody tr th:only-of-type {\n",
              "        vertical-align: middle;\n",
              "    }\n",
              "\n",
              "    .dataframe tbody tr th {\n",
              "        vertical-align: top;\n",
              "    }\n",
              "\n",
              "    .dataframe thead th {\n",
              "        text-align: right;\n",
              "    }\n",
              "</style>\n",
              "<table border=\"1\" class=\"dataframe\">\n",
              "  <thead>\n",
              "    <tr style=\"text-align: right;\">\n",
              "      <th></th>\n",
              "      <th>C1</th>\n",
              "      <th>Дата отклика</th>\n",
              "      <th>Пол, возраст</th>\n",
              "      <th>ЗП</th>\n",
              "      <th>Ищет работу на должность</th>\n",
              "      <th>Город</th>\n",
              "      <th>Занятость</th>\n",
              "      <th>График</th>\n",
              "      <th>Опыт ()</th>\n",
              "      <th>Последнее/нынешное место работы</th>\n",
              "      <th>Последняя/нынешняя должность</th>\n",
              "      <th>Выполняемые задачи на прошлых местах работ</th>\n",
              "      <th>Обо мне</th>\n",
              "      <th>Ключевые навыки</th>\n",
              "      <th>Образование и ВУЗ</th>\n",
              "      <th>Обновление резюме</th>\n",
              "      <th>Подходит - да/нет</th>\n",
              "      <th>predict</th>\n",
              "      <th>да</th>\n",
              "      <th>нет</th>\n",
              "    </tr>\n",
              "  </thead>\n",
              "  <tbody>\n",
              "    <tr>\n",
              "      <th>0</th>\n",
              "      <td>0.0</td>\n",
              "      <td>1.677110e+12</td>\n",
              "      <td>Женщина</td>\n",
              "      <td>90 000 руб.</td>\n",
              "      <td>Growth Product Manager</td>\n",
              "      <td>Индонезия, Не готова к переезду, не готова к к...</td>\n",
              "      <td>проектная работа, частичная занятость, полная ...</td>\n",
              "      <td>удаленная работа</td>\n",
              "      <td>Опыт работы —5 лет 10 месяцев</td>\n",
              "      <td>PT MYBALI APP GROUP</td>\n",
              "      <td>Менеджер по продукту</td>\n",
              "      <td>Маркетинговые исследования\\nИсследование рынка...</td>\n",
              "      <td>NaN</td>\n",
              "      <td>Анализ рынка\\nУправление проектами\\nProduct Ma...</td>\n",
              "      <td>Высшее, 2023, Нетоло́гия, 2014, Университет Ро...</td>\n",
              "      <td>23 февраля 2023 в 16:30</td>\n",
              "      <td>да</td>\n",
              "      <td>да</td>\n",
              "      <td>0.999591</td>\n",
              "      <td>0.000409</td>\n",
              "    </tr>\n",
              "    <tr>\n",
              "      <th>1</th>\n",
              "      <td>1.0</td>\n",
              "      <td>1.673395e+12</td>\n",
              "      <td>Женщина</td>\n",
              "      <td>не указана</td>\n",
              "      <td>Growth Product Manager</td>\n",
              "      <td>Москва, Готова к переезду, готова к командировкам</td>\n",
              "      <td>полная занятость</td>\n",
              "      <td>удаленная работа, гибкий график, полный день</td>\n",
              "      <td>Опыт работы —11 лет 11 месяцев</td>\n",
              "      <td>Банк Открытие</td>\n",
              "      <td>Product owner трайб сбережения и инвестиции</td>\n",
              "      <td>Участие в команде роста\\nВ2В\\n\\nЗадачи:\\n- Раз...</td>\n",
              "      <td>NaN</td>\n",
              "      <td>Самомотивация\\nТаймменеджмент\\nКреативность\\nЧ...</td>\n",
              "      <td>Высшее, 2022, GeekBrains, 2010, Московский худ...</td>\n",
              "      <td>8 февраля 2023 в 09:15</td>\n",
              "      <td>да</td>\n",
              "      <td>да</td>\n",
              "      <td>0.999341</td>\n",
              "      <td>0.000659</td>\n",
              "    </tr>\n",
              "    <tr>\n",
              "      <th>2</th>\n",
              "      <td>2.0</td>\n",
              "      <td>1.677456e+12</td>\n",
              "      <td>Мужчина, 33 года, родился 23 августа 1989</td>\n",
              "      <td>150 000 руб.</td>\n",
              "      <td>Growth Product Manager</td>\n",
              "      <td>Санкт-Петербург, Готов к переезду: Москва, гот...</td>\n",
              "      <td>проектная работа, частичная занятость, полная ...</td>\n",
              "      <td>удаленная работа, гибкий график, полный день</td>\n",
              "      <td>Опыт работы —7 лет 2 месяца</td>\n",
              "      <td>DIKIY LLC</td>\n",
              "      <td>NaN</td>\n",
              "      <td>Запуск бренда и производства игристого кваса D...</td>\n",
              "      <td>Чем бы я ни занимался с 2014 года, когда решил...</td>\n",
              "      <td>Продвижение бренда\\nПланирование маркетинговых...</td>\n",
              "      <td>Высшее, 2013, Санкт-Петербургский государствен...</td>\n",
              "      <td>28 февраля 2023 в 09:41</td>\n",
              "      <td>да</td>\n",
              "      <td>да</td>\n",
              "      <td>0.999253</td>\n",
              "      <td>0.000747</td>\n",
              "    </tr>\n",
              "    <tr>\n",
              "      <th>3</th>\n",
              "      <td>3.0</td>\n",
              "      <td>1.673395e+12</td>\n",
              "      <td>Мужчина, 32 года, родился 7 декабря 1990</td>\n",
              "      <td>не указана</td>\n",
              "      <td>Growth Product Manager</td>\n",
              "      <td>Москва, м. Молодежная, Хочу переехать, готов к...</td>\n",
              "      <td>стажировка, частичная занятость, полная занятость</td>\n",
              "      <td>удаленная работа, гибкий график, полный день</td>\n",
              "      <td>Опыт работы —8 лет 10 месяцев</td>\n",
              "      <td>WeInvest</td>\n",
              "      <td>Product Manager (team leader)</td>\n",
              "      <td>1. Исследование рынка\\n2. Определение целевой ...</td>\n",
              "      <td>Я проактивный, коммуникабельный, позитивный, д...</td>\n",
              "      <td>Управление проектами\\nОрганизаторские навыки\\n...</td>\n",
              "      <td>Магистр, 2014, Московский государственный техн...</td>\n",
              "      <td>24 января 2023 в 12:07</td>\n",
              "      <td>да</td>\n",
              "      <td>нет</td>\n",
              "      <td>0.002273</td>\n",
              "      <td>0.997727</td>\n",
              "    </tr>\n",
              "    <tr>\n",
              "      <th>4</th>\n",
              "      <td>4.0</td>\n",
              "      <td>1.673395e+12</td>\n",
              "      <td>Мужчина, 26 лет, родился 21 февраля 1996</td>\n",
              "      <td>150 000 руб.</td>\n",
              "      <td>Growth Product Manager</td>\n",
              "      <td>Пермь, Хочу переехать, готов к командировкам</td>\n",
              "      <td>проектная работа, частичная занятость, полная ...</td>\n",
              "      <td>удаленная работа, гибкий график, полный день</td>\n",
              "      <td>Опыт работы —5 лет 9 месяцев</td>\n",
              "      <td>Индивидуальное предпринимательство / частная п...</td>\n",
              "      <td>Product/Project manager</td>\n",
              "      <td>Переговоры со стейкхолдером\\n- Составление ТЗ...</td>\n",
              "      <td>Набрал кучу опыта и хочу с ним найти классную ...</td>\n",
              "      <td>Управление персоналом\\nЗаключение договоров\\nА...</td>\n",
              "      <td>Высшее, 2021, Российская академия народного хо...</td>\n",
              "      <td>6 февраля 2023 в 11:18</td>\n",
              "      <td>да</td>\n",
              "      <td>нет</td>\n",
              "      <td>0.004218</td>\n",
              "      <td>0.995782</td>\n",
              "    </tr>\n",
              "  </tbody>\n",
              "</table>\n",
              "</div>\n",
              "      <button class=\"colab-df-convert\" onclick=\"convertToInteractive('df-b8868801-c18a-404b-882f-b0d5983f9c05')\"\n",
              "              title=\"Convert this dataframe to an interactive table.\"\n",
              "              style=\"display:none;\">\n",
              "\n",
              "  <svg xmlns=\"http://www.w3.org/2000/svg\" height=\"24px\"viewBox=\"0 0 24 24\"\n",
              "       width=\"24px\">\n",
              "    <path d=\"M0 0h24v24H0V0z\" fill=\"none\"/>\n",
              "    <path d=\"M18.56 5.44l.94 2.06.94-2.06 2.06-.94-2.06-.94-.94-2.06-.94 2.06-2.06.94zm-11 1L8.5 8.5l.94-2.06 2.06-.94-2.06-.94L8.5 2.5l-.94 2.06-2.06.94zm10 10l.94 2.06.94-2.06 2.06-.94-2.06-.94-.94-2.06-.94 2.06-2.06.94z\"/><path d=\"M17.41 7.96l-1.37-1.37c-.4-.4-.92-.59-1.43-.59-.52 0-1.04.2-1.43.59L10.3 9.45l-7.72 7.72c-.78.78-.78 2.05 0 2.83L4 21.41c.39.39.9.59 1.41.59.51 0 1.02-.2 1.41-.59l7.78-7.78 2.81-2.81c.8-.78.8-2.07 0-2.86zM5.41 20L4 18.59l7.72-7.72 1.47 1.35L5.41 20z\"/>\n",
              "  </svg>\n",
              "      </button>\n",
              "\n",
              "\n",
              "\n",
              "    <div id=\"df-ee4b0fb4-d027-4fb0-8d28-2d882a5357a9\">\n",
              "      <button class=\"colab-df-quickchart\" onclick=\"quickchart('df-ee4b0fb4-d027-4fb0-8d28-2d882a5357a9')\"\n",
              "              title=\"Suggest charts.\"\n",
              "              style=\"display:none;\">\n",
              "\n",
              "<svg xmlns=\"http://www.w3.org/2000/svg\" height=\"24px\"viewBox=\"0 0 24 24\"\n",
              "     width=\"24px\">\n",
              "    <g>\n",
              "        <path d=\"M19 3H5c-1.1 0-2 .9-2 2v14c0 1.1.9 2 2 2h14c1.1 0 2-.9 2-2V5c0-1.1-.9-2-2-2zM9 17H7v-7h2v7zm4 0h-2V7h2v10zm4 0h-2v-4h2v4z\"/>\n",
              "    </g>\n",
              "</svg>\n",
              "      </button>\n",
              "    </div>\n",
              "\n",
              "<style>\n",
              "  .colab-df-quickchart {\n",
              "    background-color: #E8F0FE;\n",
              "    border: none;\n",
              "    border-radius: 50%;\n",
              "    cursor: pointer;\n",
              "    display: none;\n",
              "    fill: #1967D2;\n",
              "    height: 32px;\n",
              "    padding: 0 0 0 0;\n",
              "    width: 32px;\n",
              "  }\n",
              "\n",
              "  .colab-df-quickchart:hover {\n",
              "    background-color: #E2EBFA;\n",
              "    box-shadow: 0px 1px 2px rgba(60, 64, 67, 0.3), 0px 1px 3px 1px rgba(60, 64, 67, 0.15);\n",
              "    fill: #174EA6;\n",
              "  }\n",
              "\n",
              "  [theme=dark] .colab-df-quickchart {\n",
              "    background-color: #3B4455;\n",
              "    fill: #D2E3FC;\n",
              "  }\n",
              "\n",
              "  [theme=dark] .colab-df-quickchart:hover {\n",
              "    background-color: #434B5C;\n",
              "    box-shadow: 0px 1px 3px 1px rgba(0, 0, 0, 0.15);\n",
              "    filter: drop-shadow(0px 1px 2px rgba(0, 0, 0, 0.3));\n",
              "    fill: #FFFFFF;\n",
              "  }\n",
              "</style>\n",
              "\n",
              "    <script>\n",
              "      async function quickchart(key) {\n",
              "        const containerElement = document.querySelector('#' + key);\n",
              "        const charts = await google.colab.kernel.invokeFunction(\n",
              "            'suggestCharts', [key], {});\n",
              "      }\n",
              "    </script>\n",
              "\n",
              "      <script>\n",
              "\n",
              "function displayQuickchartButton(domScope) {\n",
              "  let quickchartButtonEl =\n",
              "    domScope.querySelector('#df-ee4b0fb4-d027-4fb0-8d28-2d882a5357a9 button.colab-df-quickchart');\n",
              "  quickchartButtonEl.style.display =\n",
              "    google.colab.kernel.accessAllowed ? 'block' : 'none';\n",
              "}\n",
              "\n",
              "        displayQuickchartButton(document);\n",
              "      </script>\n",
              "      <style>\n",
              "    .colab-df-container {\n",
              "      display:flex;\n",
              "      flex-wrap:wrap;\n",
              "      gap: 12px;\n",
              "    }\n",
              "\n",
              "    .colab-df-convert {\n",
              "      background-color: #E8F0FE;\n",
              "      border: none;\n",
              "      border-radius: 50%;\n",
              "      cursor: pointer;\n",
              "      display: none;\n",
              "      fill: #1967D2;\n",
              "      height: 32px;\n",
              "      padding: 0 0 0 0;\n",
              "      width: 32px;\n",
              "    }\n",
              "\n",
              "    .colab-df-convert:hover {\n",
              "      background-color: #E2EBFA;\n",
              "      box-shadow: 0px 1px 2px rgba(60, 64, 67, 0.3), 0px 1px 3px 1px rgba(60, 64, 67, 0.15);\n",
              "      fill: #174EA6;\n",
              "    }\n",
              "\n",
              "    [theme=dark] .colab-df-convert {\n",
              "      background-color: #3B4455;\n",
              "      fill: #D2E3FC;\n",
              "    }\n",
              "\n",
              "    [theme=dark] .colab-df-convert:hover {\n",
              "      background-color: #434B5C;\n",
              "      box-shadow: 0px 1px 3px 1px rgba(0, 0, 0, 0.15);\n",
              "      filter: drop-shadow(0px 1px 2px rgba(0, 0, 0, 0.3));\n",
              "      fill: #FFFFFF;\n",
              "    }\n",
              "  </style>\n",
              "\n",
              "      <script>\n",
              "        const buttonEl =\n",
              "          document.querySelector('#df-b8868801-c18a-404b-882f-b0d5983f9c05 button.colab-df-convert');\n",
              "        buttonEl.style.display =\n",
              "          google.colab.kernel.accessAllowed ? 'block' : 'none';\n",
              "\n",
              "        async function convertToInteractive(key) {\n",
              "          const element = document.querySelector('#df-b8868801-c18a-404b-882f-b0d5983f9c05');\n",
              "          const dataTable =\n",
              "            await google.colab.kernel.invokeFunction('convertToInteractive',\n",
              "                                                     [key], {});\n",
              "          if (!dataTable) return;\n",
              "\n",
              "          const docLinkHtml = 'Like what you see? Visit the ' +\n",
              "            '<a target=\"_blank\" href=https://colab.research.google.com/notebooks/data_table.ipynb>data table notebook</a>'\n",
              "            + ' to learn more about interactive tables.';\n",
              "          element.innerHTML = '';\n",
              "          dataTable['output_type'] = 'display_data';\n",
              "          await google.colab.output.renderOutput(dataTable, element);\n",
              "          const docLink = document.createElement('div');\n",
              "          docLink.innerHTML = docLinkHtml;\n",
              "          element.appendChild(docLink);\n",
              "        }\n",
              "      </script>\n",
              "    </div>\n",
              "  </div>\n"
            ]
          },
          "metadata": {},
          "execution_count": 14
        }
      ]
    },
    {
      "cell_type": "code",
      "source": [
        "#Сумма не верных ответов\n",
        "a=0\n",
        "for i, row in df.iterrows():\n",
        "\n",
        "  if row['Подходит - да/нет']!=row['predict']:\n",
        "\n",
        "    if pd.notnull (row['Подходит - да/нет']):\n",
        "      print(row)\n",
        "      a=a+1\n",
        "\n",
        "print(a)"
      ],
      "metadata": {
        "colab": {
          "base_uri": "https://localhost:8080/"
        },
        "id": "l8pMwRUO7OHn",
        "outputId": "a1f7f7bc-e57c-463a-e600-9061065392bf"
      },
      "execution_count": 32,
      "outputs": [
        {
          "output_type": "stream",
          "name": "stdout",
          "text": [
            "C1                                                                                          3.0\n",
            "Дата отклика                                                                    1673395200000.0\n",
            "Пол, возраст                                           Мужчина, 32 года, родился 7 декабря 1990\n",
            "ЗП                                                                                   не указана\n",
            "Ищет работу на должность                                                 Growth Product Manager\n",
            "Город                                         Москва, м. Молодежная, Хочу переехать, готов к...\n",
            "Занятость                                     стажировка, частичная занятость, полная занятость\n",
            "График                                             удаленная работа, гибкий график, полный день\n",
            "Опыт ()                                                           Опыт работы —8 лет 10 месяцев\n",
            "Последнее/нынешное место работы                                                        WeInvest\n",
            "Последняя/нынешняя должность                                      Product Manager (team leader)\n",
            "Выполняемые задачи на прошлых местах работ    1. Исследование рынка\\n2. Определение целевой ...\n",
            "Обо мне                                       Я проактивный, коммуникабельный, позитивный, д...\n",
            "Ключевые навыки                               Управление проектами\\nОрганизаторские навыки\\n...\n",
            "Образование и ВУЗ                             Магистр, 2014, Московский государственный техн...\n",
            "Обновление резюме                                                        24 января 2023 в 12:07\n",
            "Подходит - да/нет                                                                            да\n",
            "predict                                                                                     нет\n",
            "да                                                                                     0.002273\n",
            "нет                                                                                    0.997727\n",
            "Name: 3, dtype: object\n",
            "C1                                                                                          4.0\n",
            "Дата отклика                                                                    1673395200000.0\n",
            "Пол, возраст                                           Мужчина, 26 лет, родился 21 февраля 1996\n",
            "ЗП                                                                                 150 000 руб.\n",
            "Ищет работу на должность                                                 Growth Product Manager\n",
            "Город                                              Пермь, Хочу переехать, готов к командировкам\n",
            "Занятость                                     проектная работа, частичная занятость, полная ...\n",
            "График                                             удаленная работа, гибкий график, полный день\n",
            "Опыт ()                                                            Опыт работы —5 лет 9 месяцев\n",
            "Последнее/нынешное место работы               Индивидуальное предпринимательство / частная п...\n",
            "Последняя/нынешняя должность                                            Product/Project manager\n",
            "Выполняемые задачи на прошлых местах работ     Переговоры со стейкхолдером\\n- Составление ТЗ...\n",
            "Обо мне                                       Набрал кучу опыта и хочу с ним найти классную ...\n",
            "Ключевые навыки                               Управление персоналом\\nЗаключение договоров\\nА...\n",
            "Образование и ВУЗ                             Высшее, 2021, Российская академия народного хо...\n",
            "Обновление резюме                                                        6 февраля 2023 в 11:18\n",
            "Подходит - да/нет                                                                            да\n",
            "predict                                                                                     нет\n",
            "да                                                                                     0.004218\n",
            "нет                                                                                    0.995782\n",
            "Name: 4, dtype: object\n",
            "C1                                                                                          7.0\n",
            "Дата отклика                                                                    1674691200000.0\n",
            "Пол, возраст                                          Женщина, 24 года, родилась 27 апреля 1998\n",
            "ЗП                                                                                  30 000 руб.\n",
            "Ищет работу на должность                                                          HR-специалист\n",
            "Город                                         Уфа, Не готова к переезду, не готова к команди...\n",
            "Занятость                                                                      полная занятость\n",
            "График                                                                              полный день\n",
            "Опыт ()                                                                      Опыт работы —5 лет\n",
            "Последнее/нынешное место работы                                                           Tiqum\n",
            "Последняя/нынешняя должность                                                   Контент-менеджер\n",
            "Выполняемые задачи на прошлых местах работ    Работа с сайтами: выкладка контента, редактура...\n",
            "Обо мне                                       Вечная ученица - считаю, что знаний не бывает ...\n",
            "Ключевые навыки                               Работа с большим объемом информации\\nГрамотная...\n",
            "Образование и ВУЗ                                               Среднее специальное, 2018, УТЭК\n",
            "Обновление резюме                                                       15 февраля 2023 в 10:38\n",
            "Подходит - да/нет                                                                            да\n",
            "predict                                                                                     нет\n",
            "да                                                                                     0.000666\n",
            "нет                                                                                    0.999334\n",
            "Name: 7, dtype: object\n",
            "C1                                                                                          9.0\n",
            "Дата отклика                                                                    1676851200000.0\n",
            "Пол, возраст                                           Женщина, 28 лет, родилась 5 декабря 1994\n",
            "ЗП                                                                                   не указана\n",
            "Ищет работу на должность                                                          HR-специалист\n",
            "Город                                         Уфа, Не готова к переезду, не готова к команди...\n",
            "Занятость                                                                      полная занятость\n",
            "График                                                                              полный день\n",
            "Опыт ()                                                            Опыт работы —4 года 4 месяца\n",
            "Последнее/нынешное место работы                                                Газпромбанк, ОАО\n",
            "Последняя/нынешняя должность                                                         Специалист\n",
            "Выполняемые задачи на прошлых местах работ    Колл центр Встреча и расчёт гостей Работа с на...\n",
            "Обо мне                                         Общительная, легко обучаемая , коммуникабельная\n",
            "Ключевые навыки                               Работа на кассе\\nЗнание основ мерчендайзинга\\n...\n",
            "Образование и ВУЗ                             Среднее специальное, 2014, Уфимский Политехнич...\n",
            "Обновление резюме                                                          1 марта 2023 в 13:26\n",
            "Подходит - да/нет                                                                            да\n",
            "predict                                                                                     нет\n",
            "да                                                                                     0.001166\n",
            "нет                                                                                    0.998834\n",
            "Name: 9, dtype: object\n",
            "C1                                                                                          NaN\n",
            "Дата отклика                                                                                NaN\n",
            "Пол, возраст                                                                    холодные звонки\n",
            "ЗП                                                                       телефонные презентации\n",
            "Ищет работу на должность                      выявление информационных потребностей пользова...\n",
            "Город                                                       разработка коммерческих предложений\n",
            "Занятость                                                                               тарифов\n",
            "График                                                                              презентаций\n",
            "Опыт ()                                       демонстрация продуктов (удаленные демонстрации...\n",
            "Последнее/нынешное место работы                               подготовка тендерной документации\n",
            "Последняя/нынешняя должность                                разработка и согласование договоров\n",
            "Выполняемые задачи на прошлых местах работ    контроль платежей. Переговоры руководителями с...\n",
            "Обо мне                                                                 связей с общественностю\n",
            "Ключевые навыки                                                                    безопасности\n",
            "Образование и ВУЗ                                      управления рисками предприятия ПФО и ЦФО\n",
            "Обновление резюме                                                                        банков\n",
            "Подходит - да/нет                                                                   госорганом.\n",
            "predict                                                                                     нет\n",
            "да                                                                                     0.024297\n",
            "нет                                                                                    0.975703\n",
            "Name: 233, dtype: object\n",
            "C1                                                                                          NaN\n",
            "Дата отклика                                                                                NaN\n",
            "Пол, возраст                                  организовывал участие компании во всероссийско...\n",
            "ЗП                                                                             подбор персонала\n",
            "Ищет работу на должность                        взаимодействие с госорганами-источниками данных\n",
            "Город                                                       разработка коммерческих предложений\n",
            "Занятость                                                                           презентаций\n",
            "График                                                                     рекламных материалов\n",
            "Опыт ()                                                             организация процесса продаж\n",
            "Последнее/нынешное место работы                                  обучение менеджера по продажам\n",
            "Последняя/нынешняя должность                                                     прямые продажи\n",
            "Выполняемые задачи на прошлых местах работ    разработка формата предоставляемых заказчикам ...\n",
            "Обо мне                                       подготовка по заказам клиентов справок о благо...\n",
            "Ключевые навыки                                       маркетинговых и конкурентных исследований\n",
            "Образование и ВУЗ                                                    исследований в области ВЭД\n",
            "Обновление резюме                             списков зарубежных фирм-потенциальных партнеро...\n",
            "Подходит - да/нет                             оптимизация налогообложения внешнеэкономическо...\n",
            "predict                                                                                     нет\n",
            "да                                                                                     0.024297\n",
            "нет                                                                                    0.975703\n",
            "Name: 246, dtype: object\n",
            "C1                                                                                          NaN\n",
            "Дата отклика                                                                                NaN\n",
            "Пол, возраст                                                     организована предметная съемка\n",
            "ЗП                                            подготовленный контент размещен на сайте в соц...\n",
            "Ищет работу на должность                                            в карточке на Яндекс-картах\n",
            "Город                                                                       в Яндекс коллекциях\n",
            "Занятость                                               исключены отображение отсутствия товара\n",
            "График                                              неконверсионные пути пользователей на сайте\n",
            "Опыт ()                                                      другой снижающий конверсию контент\n",
            "Последнее/нынешное место работы                   сформулирован понятный контент страниц Оплата\n",
            "Последняя/нынешняя должность                                                           Доставка\n",
            "Выполняемые задачи на прошлых местах работ                                              Корзина\n",
            "Обо мне                                       Пользовательское соглашение и др.; создан корп...\n",
            "Ключевые навыки                               подключенные на сайте в в соцсетях и мессендже...\n",
            "Образование и ВУЗ                                                          повышающие конверсию\n",
            "Обновление резюме                             и востребованные пользователями по данным обра...\n",
            "Подходит - да/нет                                            к способам доставки – почту России\n",
            "predict                                                                                     нет\n",
            "да                                                                                     0.024297\n",
            "нет                                                                                    0.975703\n",
            "Name: 401, dtype: object\n",
            "C1                                                                                          NaN\n",
            "Дата отклика                                                                                NaN\n",
            "Пол, возраст                                  повышение эффективности отобранных каналов [оп...\n",
            "ЗП                                                                             Google Реклама])\n",
            "Ищет работу на должность                                                разработка нового сайта\n",
            "Город                                         проработка и настройка инструментов повышения ...\n",
            "Занятость                                                                     продающий контент\n",
            "График                                                   аккаунты в каталоге и на картах Яндекс\n",
            "Опыт ()                                                                                  отзывы\n",
            "Последнее/нынешное место работы                                                  Яндекс Диалоги\n",
            "Последняя/нынешняя должность                                                  Google Мой бизнес\n",
            "Выполняемые задачи на прошлых местах работ    разработка механики акций стимулирования прода...\n",
            "Обо мне                                       обработки лидов (настройка открытой линии Битр...\n",
            "Ключевые навыки                                                     веб-форм сайта Заказ звонка\n",
            "Образование и ВУЗ                                                                        Заявка\n",
            "Обновление резюме                                                                    Онлайн чат\n",
            "Подходит - да/нет                             организация диспетчеризации и обработки заявок...\n",
            "predict                                                                                     нет\n",
            "да                                                                                     0.024297\n",
            "нет                                                                                    0.975703\n",
            "Name: 460, dtype: object\n",
            "C1                                                                                          NaN\n",
            "Дата отклика                                                                                NaN\n",
            "Пол, возраст                                  выработан собственный подход к формированию це...\n",
            "ЗП                                            изучен функционал редакций 1С-Битрикс: Управле...\n",
            "Ищет работу на должность                                          функционал и тарифы Битрикс24\n",
            "Город                                         успешно сданы тетсы на сертификат по курсу Кон...\n",
            "Занятость                                     реализованы лицензии БУС (продления и переходы...\n",
            "График                                        привлечены к сотрудничеству 8 заказчиков на пр...\n",
            "Опыт ()                                       разработу корпоративных сайтов и интернет мага...\n",
            "Последнее/нынешное место работы               подготовлены более 20 смет (с ТКП) на создание...\n",
            "Последняя/нынешняя должность                  Москвы и регионов РФ (производство электротехн...\n",
            "Выполняемые задачи на прошлых местах работ                                             пищепром\n",
            "Обо мне                                                                             развлечения\n",
            "Ключевые навыки                                                              гостиничные услуги\n",
            "Образование и ВУЗ                                                        мебельное производство\n",
            "Обновление резюме                             дистрибьюция промышленной упаковки и з/ч для к...\n",
            "Подходит - да/нет                                                  строительно-монтажные услуги\n",
            "predict                                                                                     нет\n",
            "да                                                                                     0.024297\n",
            "нет                                                                                    0.975703\n",
            "Name: 476, dtype: object\n",
            "C1                                                                                          NaN\n",
            "Дата отклика                                                                                NaN\n",
            "Пол, возраст                                                            обучение технике продаж\n",
            "ЗП                                             разработка бизнес-процессов и регламентов работы\n",
            "Ищет работу на должность                                     договоров с клиентами и партнерами\n",
            "Город                                                            маркетинговое позиционирование\n",
            "Занятость                                               разработка и регистрация торговой марки\n",
            "График                                        планирование и реализация мероприятий повышени...\n",
            "Опыт ()                                         управление рекламой в печатных СМИ и в Интернет\n",
            "Последнее/нынешное место работы                                     разработка сайта (выбор CMS\n",
            "Последняя/нынешняя должность                                   формирование семантического ядра\n",
            "Выполняемые задачи на прошлых местах работ                                 проектирование сайта\n",
            "Обо мне                                                               разработка ТЗ подрядчикам\n",
            "Ключевые навыки                                         контроль выполнения работ программистом\n",
            "Образование и ВУЗ                                                              SEO-специалистом\n",
            "Обновление резюме                                                                  копирайтером\n",
            "Подходит - да/нет                                                          контент-планирование\n",
            "predict                                                                                     нет\n",
            "да                                                                                     0.024297\n",
            "нет                                                                                    0.975703\n",
            "Name: 489, dtype: object\n",
            "C1                                                                                          NaN\n",
            "Дата отклика                                                                                NaN\n",
            "Пол, возраст                                                                    холодные звонки\n",
            "ЗП                                                                       телефонные презентации\n",
            "Ищет работу на должность                      выявление информационных потребностей пользова...\n",
            "Город                                                       разработка коммерческих предложений\n",
            "Занятость                                                                               тарифов\n",
            "График                                                                              презентаций\n",
            "Опыт ()                                       демонстрация продуктов (удаленные демонстрации...\n",
            "Последнее/нынешное место работы                               подготовка тендерной документации\n",
            "Последняя/нынешняя должность                                разработка и согласование договоров\n",
            "Выполняемые задачи на прошлых местах работ    контроль платежей. Переговоры руководителями с...\n",
            "Обо мне                                                                 связей с общественностю\n",
            "Ключевые навыки                                                                    безопасности\n",
            "Образование и ВУЗ                                      управления рисками предприятия ПФО и ЦФО\n",
            "Обновление резюме                                                                        банков\n",
            "Подходит - да/нет                                                                  госорганом. \n",
            "predict                                                                                     нет\n",
            "да                                                                                     0.024297\n",
            "нет                                                                                    0.975703\n",
            "Name: 498, dtype: object\n",
            "C1                                                                                        461.0\n",
            "Дата отклика                                                                    1675468800000.0\n",
            "Пол, возраст                                           Женщина, 21 год, родилась 2 августа 2001\n",
            "ЗП                                                                                  20 000 руб.\n",
            "Ищет работу на должность                                                          HR-специалист\n",
            "Город                                         Уфа, Не готова к переезду, не готова к команди...\n",
            "Занятость                                                 полная занятость, частичная занятость\n",
            "График                                               полный день, сменный график, гибкий график\n",
            "Опыт ()                                                                 Опыт работы —10 месяцев\n",
            "Последнее/нынешное место работы                                            МБУДО «ДДК Ровесник»\n",
            "Последняя/нынешняя должность                                            Организатор мероприятий\n",
            "Выполняемые задачи на прошлых местах работ        Подготовка и проведение мероприятий с детьми.\n",
            "Обо мне                                       В последние годы проходила обучение без возмож...\n",
            "Ключевые навыки                               Деловое общение\\nРабота в команде\\nОрганизатор...\n",
            "Образование и ВУЗ                             Среднее специальное, 2022, Южно-Уральский госу...\n",
            "Обновление резюме                                                       27 февраля 2023 в 08:31\n",
            "Подходит - да/нет                                                                            да\n",
            "predict                                                                                     нет\n",
            "да                                                                                     0.000798\n",
            "нет                                                                                    0.999202\n",
            "Name: 824, dtype: object\n",
            "12\n"
          ]
        }
      ]
    }
  ]
}