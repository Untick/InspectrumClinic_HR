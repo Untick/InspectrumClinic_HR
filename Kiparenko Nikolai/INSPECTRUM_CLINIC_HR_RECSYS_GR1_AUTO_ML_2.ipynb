{
  "nbformat": 4,
  "nbformat_minor": 0,
  "metadata": {
    "colab": {
      "provenance": [],
      "mount_file_id": "1xBMuhxhpXmlor27K9ZfQbAtkybew5qqX",
      "authorship_tag": "ABX9TyMl7GKArCf/IricVxO60ZHM",
      "include_colab_link": true
    },
    "kernelspec": {
      "name": "python3",
      "display_name": "Python 3"
    },
    "language_info": {
      "name": "python"
    }
  },
  "cells": [
    {
      "cell_type": "markdown",
      "metadata": {
        "id": "view-in-github",
        "colab_type": "text"
      },
      "source": [
        "<a href=\"https://colab.research.google.com/github/Untick/InspectrumClinic_HR_gr1/blob/main/Kiparenko%20Nikolai/INSPECTRUM_CLINIC_HR_RECSYS_GR1_AUTO_ML_2.ipynb\" target=\"_parent\"><img src=\"https://colab.research.google.com/assets/colab-badge.svg\" alt=\"Open In Colab\"/></a>"
      ]
    },
    {
      "cell_type": "markdown",
      "source": [
        "# INSPECTRUM CLINIC HR RECSYS"
      ],
      "metadata": {
        "id": "baLd9Y-61S9-"
      }
    },
    {
      "cell_type": "markdown",
      "source": [
        "Рассмотрим вариант создание нейронной сети с помощью инструментов **AvtoML**"
      ],
      "metadata": {
        "id": "MV7NoQtxzlQo"
      }
    },
    {
      "cell_type": "markdown",
      "source": [
        "В техническом задании прописаны критерии которым должны соответствовать наши модели:\n",
        "\n",
        "1.  Система должна помогать HR-специалисту вынести решение о том, подходит или не подходит человек на рассматриваемую должность.\n",
        "2.  В датасете целевым столбцом для предсказания является столбец под названием “Подходит - да/нет”.\n",
        "3.  Результатом работы обученной нейросети должно служить дополнение датасета столбцом под названием “оценка резюме”, где должно быть представлено процентное распределение вероятностей между классами “подходит” и “не подходит”. Например: \"подходит 95% / не подходит 5%\".\n"
      ],
      "metadata": {
        "id": "wCxPfYiE7_u6"
      }
    },
    {
      "cell_type": "markdown",
      "source": [
        "### Загрузим библиотеки"
      ],
      "metadata": {
        "id": "rXuhDVKl1Zyc"
      }
    },
    {
      "cell_type": "code",
      "source": [
        "# Загрузка датасетов из облака\n",
        "import gdown\n",
        "\n",
        "# Функции операционной системы\n",
        "import os\n",
        "\n",
        "# Работа с массивами данных\n",
        "import numpy as np\n",
        "\n",
        "# Работа с таблицами\n",
        "import pandas as pd\n",
        "\n",
        "# автоматически парсит строку и сохранит ее в переменной datetime\n",
        "import datetime\n",
        "\n",
        "# Токенизатор для преобразование текстов в последовательности\n",
        "from tensorflow.keras.preprocessing.text import Tokenizer\n",
        "\n",
        "# Отрисовка графиков\n",
        "import matplotlib.pyplot as plt\n",
        "import seaborn as sns # Будем визулизировать данные этой библиотекой\n",
        "\n",
        "# Метрики для расчета ошибок\n",
        "from sklearn.metrics import mean_squared_error, mean_absolute_error\n",
        "\n"
      ],
      "metadata": {
        "id": "z-Qse97s1j70"
      },
      "execution_count": 1,
      "outputs": []
    },
    {
      "cell_type": "markdown",
      "source": [
        "### Инициализация библиотек AvtoML"
      ],
      "metadata": {
        "id": "JMobV7VP1m44"
      }
    },
    {
      "cell_type": "markdown",
      "source": [
        "Инициализация может занять некоторое время"
      ],
      "metadata": {
        "id": "IkY1WcjC3mTY"
      }
    },
    {
      "cell_type": "code",
      "source": [
        "# H2OAutoML\n",
        "!pip install h2o\n",
        "import h2o\n",
        "from h2o.automl import H2OAutoML\n",
        "h2o.init()\n"
      ],
      "metadata": {
        "colab": {
          "base_uri": "https://localhost:8080/",
          "height": 832
        },
        "id": "jfgxpo351voC",
        "outputId": "44ba7dc6-3d91-4a56-fd21-16f662c6ace0"
      },
      "execution_count": 2,
      "outputs": [
        {
          "output_type": "stream",
          "name": "stdout",
          "text": [
            "Collecting h2o\n",
            "  Downloading h2o-3.42.0.1.tar.gz (249.1 MB)\n",
            "\u001b[2K     \u001b[90m━━━━━━━━━━━━━━━━━━━━━━━━━━━━━━━━━━━━━━━\u001b[0m \u001b[32m249.1/249.1 MB\u001b[0m \u001b[31m5.1 MB/s\u001b[0m eta \u001b[36m0:00:00\u001b[0m\n",
            "\u001b[?25h  Preparing metadata (setup.py) ... \u001b[?25l\u001b[?25hdone\n",
            "Requirement already satisfied: requests in /usr/local/lib/python3.10/dist-packages (from h2o) (2.27.1)\n",
            "Requirement already satisfied: tabulate in /usr/local/lib/python3.10/dist-packages (from h2o) (0.8.10)\n",
            "Requirement already satisfied: urllib3<1.27,>=1.21.1 in /usr/local/lib/python3.10/dist-packages (from requests->h2o) (1.26.16)\n",
            "Requirement already satisfied: certifi>=2017.4.17 in /usr/local/lib/python3.10/dist-packages (from requests->h2o) (2023.5.7)\n",
            "Requirement already satisfied: charset-normalizer~=2.0.0 in /usr/local/lib/python3.10/dist-packages (from requests->h2o) (2.0.12)\n",
            "Requirement already satisfied: idna<4,>=2.5 in /usr/local/lib/python3.10/dist-packages (from requests->h2o) (3.4)\n",
            "Building wheels for collected packages: h2o\n",
            "  Building wheel for h2o (setup.py) ... \u001b[?25l\u001b[?25hdone\n",
            "  Created wheel for h2o: filename=h2o-3.42.0.1-py2.py3-none-any.whl size=249152215 sha256=2e3399dc3f6f53932faabd149748b835b71aae3b6248acb11d4b5f4ae4b0af9d\n",
            "  Stored in directory: /root/.cache/pip/wheels/2e/2f/04/ef0554c89bcb5d38a6fc082a87f497933109faefd94dcdc3d2\n",
            "Successfully built h2o\n",
            "Installing collected packages: h2o\n",
            "Successfully installed h2o-3.42.0.1\n",
            "Checking whether there is an H2O instance running at http://localhost:54321..... not found.\n",
            "Attempting to start a local H2O server...\n",
            "  Java Version: openjdk version \"11.0.19\" 2023-04-18; OpenJDK Runtime Environment (build 11.0.19+7-post-Ubuntu-0ubuntu120.04.1); OpenJDK 64-Bit Server VM (build 11.0.19+7-post-Ubuntu-0ubuntu120.04.1, mixed mode, sharing)\n",
            "  Starting server from /usr/local/lib/python3.10/dist-packages/h2o/backend/bin/h2o.jar\n",
            "  Ice root: /tmp/tmpea0h93qp\n",
            "  JVM stdout: /tmp/tmpea0h93qp/h2o_unknownUser_started_from_python.out\n",
            "  JVM stderr: /tmp/tmpea0h93qp/h2o_unknownUser_started_from_python.err\n",
            "  Server is running at http://127.0.0.1:54321\n",
            "Connecting to H2O server at http://127.0.0.1:54321 ... successful.\n"
          ]
        },
        {
          "output_type": "display_data",
          "data": {
            "text/plain": [
              "--------------------------  -----------------------------------------------------------------------------------------\n",
              "H2O_cluster_uptime:         05 secs\n",
              "H2O_cluster_timezone:       Etc/UTC\n",
              "H2O_data_parsing_timezone:  UTC\n",
              "H2O_cluster_version:        3.42.0.1\n",
              "H2O_cluster_version_age:    28 days, 18 hours and 21 minutes\n",
              "H2O_cluster_name:           H2O_from_python_unknownUser_uauoh5\n",
              "H2O_cluster_total_nodes:    1\n",
              "H2O_cluster_free_memory:    3.170 Gb\n",
              "H2O_cluster_total_cores:    2\n",
              "H2O_cluster_allowed_cores:  2\n",
              "H2O_cluster_status:         locked, healthy\n",
              "H2O_connection_url:         http://127.0.0.1:54321\n",
              "H2O_connection_proxy:       {\"http\": null, \"https\": null, \"colab_language_server\": \"/usr/colab/bin/language_service\"}\n",
              "H2O_internal_security:      False\n",
              "Python_version:             3.10.12 final\n",
              "--------------------------  -----------------------------------------------------------------------------------------"
            ],
            "text/html": [
              "\n",
              "<style>\n",
              "\n",
              "#h2o-table-1.h2o-container {\n",
              "  overflow-x: auto;\n",
              "}\n",
              "#h2o-table-1 .h2o-table {\n",
              "  /* width: 100%; */\n",
              "  margin-top: 1em;\n",
              "  margin-bottom: 1em;\n",
              "}\n",
              "#h2o-table-1 .h2o-table caption {\n",
              "  white-space: nowrap;\n",
              "  caption-side: top;\n",
              "  text-align: left;\n",
              "  /* margin-left: 1em; */\n",
              "  margin: 0;\n",
              "  font-size: larger;\n",
              "}\n",
              "#h2o-table-1 .h2o-table thead {\n",
              "  white-space: nowrap; \n",
              "  position: sticky;\n",
              "  top: 0;\n",
              "  box-shadow: 0 -1px inset;\n",
              "}\n",
              "#h2o-table-1 .h2o-table tbody {\n",
              "  overflow: auto;\n",
              "}\n",
              "#h2o-table-1 .h2o-table th,\n",
              "#h2o-table-1 .h2o-table td {\n",
              "  text-align: right;\n",
              "  /* border: 1px solid; */\n",
              "}\n",
              "#h2o-table-1 .h2o-table tr:nth-child(even) {\n",
              "  /* background: #F5F5F5 */\n",
              "}\n",
              "\n",
              "</style>      \n",
              "<div id=\"h2o-table-1\" class=\"h2o-container\">\n",
              "  <table class=\"h2o-table\">\n",
              "    <caption></caption>\n",
              "    <thead></thead>\n",
              "    <tbody><tr><td>H2O_cluster_uptime:</td>\n",
              "<td>05 secs</td></tr>\n",
              "<tr><td>H2O_cluster_timezone:</td>\n",
              "<td>Etc/UTC</td></tr>\n",
              "<tr><td>H2O_data_parsing_timezone:</td>\n",
              "<td>UTC</td></tr>\n",
              "<tr><td>H2O_cluster_version:</td>\n",
              "<td>3.42.0.1</td></tr>\n",
              "<tr><td>H2O_cluster_version_age:</td>\n",
              "<td>28 days, 18 hours and 21 minutes</td></tr>\n",
              "<tr><td>H2O_cluster_name:</td>\n",
              "<td>H2O_from_python_unknownUser_uauoh5</td></tr>\n",
              "<tr><td>H2O_cluster_total_nodes:</td>\n",
              "<td>1</td></tr>\n",
              "<tr><td>H2O_cluster_free_memory:</td>\n",
              "<td>3.170 Gb</td></tr>\n",
              "<tr><td>H2O_cluster_total_cores:</td>\n",
              "<td>2</td></tr>\n",
              "<tr><td>H2O_cluster_allowed_cores:</td>\n",
              "<td>2</td></tr>\n",
              "<tr><td>H2O_cluster_status:</td>\n",
              "<td>locked, healthy</td></tr>\n",
              "<tr><td>H2O_connection_url:</td>\n",
              "<td>http://127.0.0.1:54321</td></tr>\n",
              "<tr><td>H2O_connection_proxy:</td>\n",
              "<td>{\"http\": null, \"https\": null, \"colab_language_server\": \"/usr/colab/bin/language_service\"}</td></tr>\n",
              "<tr><td>H2O_internal_security:</td>\n",
              "<td>False</td></tr>\n",
              "<tr><td>Python_version:</td>\n",
              "<td>3.10.12 final</td></tr></tbody>\n",
              "  </table>\n",
              "</div>\n"
            ]
          },
          "metadata": {}
        }
      ]
    },
    {
      "cell_type": "markdown",
      "source": [
        "### Далее загрузим наш датасет и рассмотрим его"
      ],
      "metadata": {
        "id": "YFOVJ7Qz1_TZ"
      }
    },
    {
      "cell_type": "code",
      "source": [
        "#Грузим файл\n",
        "path = \"https://docs.google.com/spreadsheets/d/1tcfBgGY98cFx1DIvmoRy7goHXNcnaBZ7/export?format=xlsx\"\n",
        "gdown.download(path,'dataS.xlsx', quiet=True)"
      ],
      "metadata": {
        "colab": {
          "base_uri": "https://localhost:8080/",
          "height": 90
        },
        "id": "BOXrtUz62VTy",
        "outputId": "2e530bff-1a06-47cf-d16a-59870883609a"
      },
      "execution_count": 104,
      "outputs": [
        {
          "output_type": "stream",
          "name": "stderr",
          "text": [
            "/usr/local/lib/python3.10/dist-packages/gdown/parse_url.py:35: UserWarning: You specified a Google Drive link that is not the correct link to download a file. You might want to try `--fuzzy` option or the following url: https://drive.google.com/uc?id=None\n",
            "  warnings.warn(\n"
          ]
        },
        {
          "output_type": "execute_result",
          "data": {
            "text/plain": [
              "'dataS.xlsx'"
            ],
            "application/vnd.google.colaboratory.intrinsic+json": {
              "type": "string"
            }
          },
          "metadata": {},
          "execution_count": 104
        }
      ]
    },
    {
      "cell_type": "markdown",
      "source": [
        "Файл содержит в себе множество текстовых полей, постараемся рассмотреть их более внимательно"
      ],
      "metadata": {
        "id": "6ngeq42dC4wN"
      }
    },
    {
      "cell_type": "code",
      "source": [
        "#Читаем файл\n",
        "data = pd.read_excel (r'dataS.xlsx', index_col=0)\n",
        "data.to_csv('data.csv')\n",
        "data.head(5)"
      ],
      "metadata": {
        "colab": {
          "base_uri": "https://localhost:8080/",
          "height": 721
        },
        "id": "ECJs05V52ZEa",
        "outputId": "a8c2ace1-fc3e-482b-bf2f-782a222c8f8c"
      },
      "execution_count": 105,
      "outputs": [
        {
          "output_type": "execute_result",
          "data": {
            "text/plain": [
              "          Дата отклика                               Пол, возраст  \\\n",
              "0  2023-02-23 00:00:00                                    Женщина   \n",
              "1  2023-01-11 00:00:00                                    Женщина   \n",
              "2  2023-02-27 00:00:00  Мужчина, 33 года, родился 23 августа 1989   \n",
              "3  2023-01-11 00:00:00   Мужчина, 32 года, родился 7 декабря 1990   \n",
              "4  2023-01-11 00:00:00   Мужчина, 26 лет, родился 21 февраля 1996   \n",
              "\n",
              "             ЗП Ищет работу на должность  \\\n",
              "0   90 000 руб.   Growth Product Manager   \n",
              "1    не указана   Growth Product Manager   \n",
              "2  150 000 руб.   Growth Product Manager   \n",
              "3    не указана   Growth Product Manager   \n",
              "4  150 000 руб.   Growth Product Manager   \n",
              "\n",
              "                                               Город  \\\n",
              "0  Индонезия, Не готова к переезду, не готова к к...   \n",
              "1  Москва, Готова к переезду, готова к командировкам   \n",
              "2  Санкт-Петербург, Готов к переезду: Москва, гот...   \n",
              "3  Москва, м. Молодежная, Хочу переехать, готов к...   \n",
              "4       Пермь, Хочу переехать, готов к командировкам   \n",
              "\n",
              "                                           Занятость  \\\n",
              "0  проектная работа, частичная занятость, полная ...   \n",
              "1                                   полная занятость   \n",
              "2  проектная работа, частичная занятость, полная ...   \n",
              "3  стажировка, частичная занятость, полная занятость   \n",
              "4  проектная работа, частичная занятость, полная ...   \n",
              "\n",
              "                                         График  \\\n",
              "0                              удаленная работа   \n",
              "1  удаленная работа, гибкий график, полный день   \n",
              "2  удаленная работа, гибкий график, полный день   \n",
              "3  удаленная работа, гибкий график, полный день   \n",
              "4  удаленная работа, гибкий график, полный день   \n",
              "\n",
              "                          Опыт ()  \\\n",
              "0   Опыт работы —5 лет 10 месяцев   \n",
              "1  Опыт работы —11 лет 11 месяцев   \n",
              "2     Опыт работы —7 лет 2 месяца   \n",
              "3   Опыт работы —8 лет 10 месяцев   \n",
              "4    Опыт работы —5 лет 9 месяцев   \n",
              "\n",
              "                     Последнее/нынешное место работы  \\\n",
              "0                                PT MYBALI APP GROUP   \n",
              "1                                      Банк Открытие   \n",
              "2                                          DIKIY LLC   \n",
              "3                                           WeInvest   \n",
              "4  Индивидуальное предпринимательство / частная п...   \n",
              "\n",
              "                  Последняя/нынешняя должность  \\\n",
              "0                         Менеджер по продукту   \n",
              "1  Product owner трайб сбережения и инвестиции   \n",
              "2                                                \n",
              "3                Product Manager (team leader)   \n",
              "4                      Product/Project manager   \n",
              "\n",
              "          Выполняемые задачи на прошлых местах работ  \\\n",
              "0  Маркетинговые исследования\\nИсследование рынка...   \n",
              "1  Участие в команде роста\\nВ2В\\n\\nЗадачи:\\n- Раз...   \n",
              "2  Запуск бренда и производства игристого кваса D...   \n",
              "3  1. Исследование рынка\\n2. Определение целевой ...   \n",
              "4   Переговоры со стейкхолдером\\n- Составление ТЗ...   \n",
              "\n",
              "                                             Обо мне  \\\n",
              "0                                                NaN   \n",
              "1                                                NaN   \n",
              "2  Чем бы я ни занимался с 2014 года, когда решил...   \n",
              "3  Я проактивный, коммуникабельный, позитивный, д...   \n",
              "4  Набрал кучу опыта и хочу с ним найти классную ...   \n",
              "\n",
              "                                     Ключевые навыки  \\\n",
              "0  Анализ рынка\\nУправление проектами\\nProduct Ma...   \n",
              "1  Самомотивация\\nТаймменеджмент\\nКреативность\\nЧ...   \n",
              "2  Продвижение бренда\\nПланирование маркетинговых...   \n",
              "3  Управление проектами\\nОрганизаторские навыки\\n...   \n",
              "4  Управление персоналом\\nЗаключение договоров\\nА...   \n",
              "\n",
              "                                   Образование и ВУЗ        Обновление резюме  \\\n",
              "0  Высшее, 2023, Нетоло́гия, 2014, Университет Ро...  23 февраля 2023 в 16:30   \n",
              "1  Высшее, 2022, GeekBrains, 2010, Московский худ...   8 февраля 2023 в 09:15   \n",
              "2  Высшее, 2013, Санкт-Петербургский государствен...  28 февраля 2023 в 09:41   \n",
              "3  Магистр, 2014, Московский государственный техн...   24 января 2023 в 12:07   \n",
              "4  Высшее, 2021, Российская академия народного хо...   6 февраля 2023 в 11:18   \n",
              "\n",
              "  Подходит - да/нет  \n",
              "0                да  \n",
              "1                да  \n",
              "2                да  \n",
              "3                да  \n",
              "4                да  "
            ],
            "text/html": [
              "\n",
              "\n",
              "  <div id=\"df-816cf45e-4d64-4373-b736-0764eb50024a\">\n",
              "    <div class=\"colab-df-container\">\n",
              "      <div>\n",
              "<style scoped>\n",
              "    .dataframe tbody tr th:only-of-type {\n",
              "        vertical-align: middle;\n",
              "    }\n",
              "\n",
              "    .dataframe tbody tr th {\n",
              "        vertical-align: top;\n",
              "    }\n",
              "\n",
              "    .dataframe thead th {\n",
              "        text-align: right;\n",
              "    }\n",
              "</style>\n",
              "<table border=\"1\" class=\"dataframe\">\n",
              "  <thead>\n",
              "    <tr style=\"text-align: right;\">\n",
              "      <th></th>\n",
              "      <th>Дата отклика</th>\n",
              "      <th>Пол, возраст</th>\n",
              "      <th>ЗП</th>\n",
              "      <th>Ищет работу на должность</th>\n",
              "      <th>Город</th>\n",
              "      <th>Занятость</th>\n",
              "      <th>График</th>\n",
              "      <th>Опыт ()</th>\n",
              "      <th>Последнее/нынешное место работы</th>\n",
              "      <th>Последняя/нынешняя должность</th>\n",
              "      <th>Выполняемые задачи на прошлых местах работ</th>\n",
              "      <th>Обо мне</th>\n",
              "      <th>Ключевые навыки</th>\n",
              "      <th>Образование и ВУЗ</th>\n",
              "      <th>Обновление резюме</th>\n",
              "      <th>Подходит - да/нет</th>\n",
              "    </tr>\n",
              "  </thead>\n",
              "  <tbody>\n",
              "    <tr>\n",
              "      <th>0</th>\n",
              "      <td>2023-02-23 00:00:00</td>\n",
              "      <td>Женщина</td>\n",
              "      <td>90 000 руб.</td>\n",
              "      <td>Growth Product Manager</td>\n",
              "      <td>Индонезия, Не готова к переезду, не готова к к...</td>\n",
              "      <td>проектная работа, частичная занятость, полная ...</td>\n",
              "      <td>удаленная работа</td>\n",
              "      <td>Опыт работы —5 лет 10 месяцев</td>\n",
              "      <td>PT MYBALI APP GROUP</td>\n",
              "      <td>Менеджер по продукту</td>\n",
              "      <td>Маркетинговые исследования\\nИсследование рынка...</td>\n",
              "      <td>NaN</td>\n",
              "      <td>Анализ рынка\\nУправление проектами\\nProduct Ma...</td>\n",
              "      <td>Высшее, 2023, Нетоло́гия, 2014, Университет Ро...</td>\n",
              "      <td>23 февраля 2023 в 16:30</td>\n",
              "      <td>да</td>\n",
              "    </tr>\n",
              "    <tr>\n",
              "      <th>1</th>\n",
              "      <td>2023-01-11 00:00:00</td>\n",
              "      <td>Женщина</td>\n",
              "      <td>не указана</td>\n",
              "      <td>Growth Product Manager</td>\n",
              "      <td>Москва, Готова к переезду, готова к командировкам</td>\n",
              "      <td>полная занятость</td>\n",
              "      <td>удаленная работа, гибкий график, полный день</td>\n",
              "      <td>Опыт работы —11 лет 11 месяцев</td>\n",
              "      <td>Банк Открытие</td>\n",
              "      <td>Product owner трайб сбережения и инвестиции</td>\n",
              "      <td>Участие в команде роста\\nВ2В\\n\\nЗадачи:\\n- Раз...</td>\n",
              "      <td>NaN</td>\n",
              "      <td>Самомотивация\\nТаймменеджмент\\nКреативность\\nЧ...</td>\n",
              "      <td>Высшее, 2022, GeekBrains, 2010, Московский худ...</td>\n",
              "      <td>8 февраля 2023 в 09:15</td>\n",
              "      <td>да</td>\n",
              "    </tr>\n",
              "    <tr>\n",
              "      <th>2</th>\n",
              "      <td>2023-02-27 00:00:00</td>\n",
              "      <td>Мужчина, 33 года, родился 23 августа 1989</td>\n",
              "      <td>150 000 руб.</td>\n",
              "      <td>Growth Product Manager</td>\n",
              "      <td>Санкт-Петербург, Готов к переезду: Москва, гот...</td>\n",
              "      <td>проектная работа, частичная занятость, полная ...</td>\n",
              "      <td>удаленная работа, гибкий график, полный день</td>\n",
              "      <td>Опыт работы —7 лет 2 месяца</td>\n",
              "      <td>DIKIY LLC</td>\n",
              "      <td></td>\n",
              "      <td>Запуск бренда и производства игристого кваса D...</td>\n",
              "      <td>Чем бы я ни занимался с 2014 года, когда решил...</td>\n",
              "      <td>Продвижение бренда\\nПланирование маркетинговых...</td>\n",
              "      <td>Высшее, 2013, Санкт-Петербургский государствен...</td>\n",
              "      <td>28 февраля 2023 в 09:41</td>\n",
              "      <td>да</td>\n",
              "    </tr>\n",
              "    <tr>\n",
              "      <th>3</th>\n",
              "      <td>2023-01-11 00:00:00</td>\n",
              "      <td>Мужчина, 32 года, родился 7 декабря 1990</td>\n",
              "      <td>не указана</td>\n",
              "      <td>Growth Product Manager</td>\n",
              "      <td>Москва, м. Молодежная, Хочу переехать, готов к...</td>\n",
              "      <td>стажировка, частичная занятость, полная занятость</td>\n",
              "      <td>удаленная работа, гибкий график, полный день</td>\n",
              "      <td>Опыт работы —8 лет 10 месяцев</td>\n",
              "      <td>WeInvest</td>\n",
              "      <td>Product Manager (team leader)</td>\n",
              "      <td>1. Исследование рынка\\n2. Определение целевой ...</td>\n",
              "      <td>Я проактивный, коммуникабельный, позитивный, д...</td>\n",
              "      <td>Управление проектами\\nОрганизаторские навыки\\n...</td>\n",
              "      <td>Магистр, 2014, Московский государственный техн...</td>\n",
              "      <td>24 января 2023 в 12:07</td>\n",
              "      <td>да</td>\n",
              "    </tr>\n",
              "    <tr>\n",
              "      <th>4</th>\n",
              "      <td>2023-01-11 00:00:00</td>\n",
              "      <td>Мужчина, 26 лет, родился 21 февраля 1996</td>\n",
              "      <td>150 000 руб.</td>\n",
              "      <td>Growth Product Manager</td>\n",
              "      <td>Пермь, Хочу переехать, готов к командировкам</td>\n",
              "      <td>проектная работа, частичная занятость, полная ...</td>\n",
              "      <td>удаленная работа, гибкий график, полный день</td>\n",
              "      <td>Опыт работы —5 лет 9 месяцев</td>\n",
              "      <td>Индивидуальное предпринимательство / частная п...</td>\n",
              "      <td>Product/Project manager</td>\n",
              "      <td>Переговоры со стейкхолдером\\n- Составление ТЗ...</td>\n",
              "      <td>Набрал кучу опыта и хочу с ним найти классную ...</td>\n",
              "      <td>Управление персоналом\\nЗаключение договоров\\nА...</td>\n",
              "      <td>Высшее, 2021, Российская академия народного хо...</td>\n",
              "      <td>6 февраля 2023 в 11:18</td>\n",
              "      <td>да</td>\n",
              "    </tr>\n",
              "  </tbody>\n",
              "</table>\n",
              "</div>\n",
              "      <button class=\"colab-df-convert\" onclick=\"convertToInteractive('df-816cf45e-4d64-4373-b736-0764eb50024a')\"\n",
              "              title=\"Convert this dataframe to an interactive table.\"\n",
              "              style=\"display:none;\">\n",
              "\n",
              "  <svg xmlns=\"http://www.w3.org/2000/svg\" height=\"24px\"viewBox=\"0 0 24 24\"\n",
              "       width=\"24px\">\n",
              "    <path d=\"M0 0h24v24H0V0z\" fill=\"none\"/>\n",
              "    <path d=\"M18.56 5.44l.94 2.06.94-2.06 2.06-.94-2.06-.94-.94-2.06-.94 2.06-2.06.94zm-11 1L8.5 8.5l.94-2.06 2.06-.94-2.06-.94L8.5 2.5l-.94 2.06-2.06.94zm10 10l.94 2.06.94-2.06 2.06-.94-2.06-.94-.94-2.06-.94 2.06-2.06.94z\"/><path d=\"M17.41 7.96l-1.37-1.37c-.4-.4-.92-.59-1.43-.59-.52 0-1.04.2-1.43.59L10.3 9.45l-7.72 7.72c-.78.78-.78 2.05 0 2.83L4 21.41c.39.39.9.59 1.41.59.51 0 1.02-.2 1.41-.59l7.78-7.78 2.81-2.81c.8-.78.8-2.07 0-2.86zM5.41 20L4 18.59l7.72-7.72 1.47 1.35L5.41 20z\"/>\n",
              "  </svg>\n",
              "      </button>\n",
              "\n",
              "\n",
              "\n",
              "    <div id=\"df-eeefdb27-cda6-44af-89b9-6af1249705d3\">\n",
              "      <button class=\"colab-df-quickchart\" onclick=\"quickchart('df-eeefdb27-cda6-44af-89b9-6af1249705d3')\"\n",
              "              title=\"Suggest charts.\"\n",
              "              style=\"display:none;\">\n",
              "\n",
              "<svg xmlns=\"http://www.w3.org/2000/svg\" height=\"24px\"viewBox=\"0 0 24 24\"\n",
              "     width=\"24px\">\n",
              "    <g>\n",
              "        <path d=\"M19 3H5c-1.1 0-2 .9-2 2v14c0 1.1.9 2 2 2h14c1.1 0 2-.9 2-2V5c0-1.1-.9-2-2-2zM9 17H7v-7h2v7zm4 0h-2V7h2v10zm4 0h-2v-4h2v4z\"/>\n",
              "    </g>\n",
              "</svg>\n",
              "      </button>\n",
              "    </div>\n",
              "\n",
              "<style>\n",
              "  .colab-df-quickchart {\n",
              "    background-color: #E8F0FE;\n",
              "    border: none;\n",
              "    border-radius: 50%;\n",
              "    cursor: pointer;\n",
              "    display: none;\n",
              "    fill: #1967D2;\n",
              "    height: 32px;\n",
              "    padding: 0 0 0 0;\n",
              "    width: 32px;\n",
              "  }\n",
              "\n",
              "  .colab-df-quickchart:hover {\n",
              "    background-color: #E2EBFA;\n",
              "    box-shadow: 0px 1px 2px rgba(60, 64, 67, 0.3), 0px 1px 3px 1px rgba(60, 64, 67, 0.15);\n",
              "    fill: #174EA6;\n",
              "  }\n",
              "\n",
              "  [theme=dark] .colab-df-quickchart {\n",
              "    background-color: #3B4455;\n",
              "    fill: #D2E3FC;\n",
              "  }\n",
              "\n",
              "  [theme=dark] .colab-df-quickchart:hover {\n",
              "    background-color: #434B5C;\n",
              "    box-shadow: 0px 1px 3px 1px rgba(0, 0, 0, 0.15);\n",
              "    filter: drop-shadow(0px 1px 2px rgba(0, 0, 0, 0.3));\n",
              "    fill: #FFFFFF;\n",
              "  }\n",
              "</style>\n",
              "\n",
              "    <script>\n",
              "      async function quickchart(key) {\n",
              "        const containerElement = document.querySelector('#' + key);\n",
              "        const charts = await google.colab.kernel.invokeFunction(\n",
              "            'suggestCharts', [key], {});\n",
              "      }\n",
              "    </script>\n",
              "\n",
              "      <script>\n",
              "\n",
              "function displayQuickchartButton(domScope) {\n",
              "  let quickchartButtonEl =\n",
              "    domScope.querySelector('#df-eeefdb27-cda6-44af-89b9-6af1249705d3 button.colab-df-quickchart');\n",
              "  quickchartButtonEl.style.display =\n",
              "    google.colab.kernel.accessAllowed ? 'block' : 'none';\n",
              "}\n",
              "\n",
              "        displayQuickchartButton(document);\n",
              "      </script>\n",
              "      <style>\n",
              "    .colab-df-container {\n",
              "      display:flex;\n",
              "      flex-wrap:wrap;\n",
              "      gap: 12px;\n",
              "    }\n",
              "\n",
              "    .colab-df-convert {\n",
              "      background-color: #E8F0FE;\n",
              "      border: none;\n",
              "      border-radius: 50%;\n",
              "      cursor: pointer;\n",
              "      display: none;\n",
              "      fill: #1967D2;\n",
              "      height: 32px;\n",
              "      padding: 0 0 0 0;\n",
              "      width: 32px;\n",
              "    }\n",
              "\n",
              "    .colab-df-convert:hover {\n",
              "      background-color: #E2EBFA;\n",
              "      box-shadow: 0px 1px 2px rgba(60, 64, 67, 0.3), 0px 1px 3px 1px rgba(60, 64, 67, 0.15);\n",
              "      fill: #174EA6;\n",
              "    }\n",
              "\n",
              "    [theme=dark] .colab-df-convert {\n",
              "      background-color: #3B4455;\n",
              "      fill: #D2E3FC;\n",
              "    }\n",
              "\n",
              "    [theme=dark] .colab-df-convert:hover {\n",
              "      background-color: #434B5C;\n",
              "      box-shadow: 0px 1px 3px 1px rgba(0, 0, 0, 0.15);\n",
              "      filter: drop-shadow(0px 1px 2px rgba(0, 0, 0, 0.3));\n",
              "      fill: #FFFFFF;\n",
              "    }\n",
              "  </style>\n",
              "\n",
              "      <script>\n",
              "        const buttonEl =\n",
              "          document.querySelector('#df-816cf45e-4d64-4373-b736-0764eb50024a button.colab-df-convert');\n",
              "        buttonEl.style.display =\n",
              "          google.colab.kernel.accessAllowed ? 'block' : 'none';\n",
              "\n",
              "        async function convertToInteractive(key) {\n",
              "          const element = document.querySelector('#df-816cf45e-4d64-4373-b736-0764eb50024a');\n",
              "          const dataTable =\n",
              "            await google.colab.kernel.invokeFunction('convertToInteractive',\n",
              "                                                     [key], {});\n",
              "          if (!dataTable) return;\n",
              "\n",
              "          const docLinkHtml = 'Like what you see? Visit the ' +\n",
              "            '<a target=\"_blank\" href=https://colab.research.google.com/notebooks/data_table.ipynb>data table notebook</a>'\n",
              "            + ' to learn more about interactive tables.';\n",
              "          element.innerHTML = '';\n",
              "          dataTable['output_type'] = 'display_data';\n",
              "          await google.colab.output.renderOutput(dataTable, element);\n",
              "          const docLink = document.createElement('div');\n",
              "          docLink.innerHTML = docLinkHtml;\n",
              "          element.appendChild(docLink);\n",
              "        }\n",
              "      </script>\n",
              "    </div>\n",
              "  </div>\n"
            ]
          },
          "metadata": {},
          "execution_count": 105
        }
      ]
    },
    {
      "cell_type": "markdown",
      "source": [
        "Видим что у нас много \"нет\" и всего 11 \"да\" на весь датасет"
      ],
      "metadata": {
        "id": "yjqssJo9DRm6"
      }
    },
    {
      "cell_type": "code",
      "source": [
        "#Смотрим на распределение признаков Подходит - да/нет\n",
        "countsSuitable = data['Подходит - да/нет'].value_counts()\n",
        "countsSuitable.value_counts().plot(kind='bar', label='Suitable')\n",
        "plt.title('Подходит - нет/да')\n",
        "plt.show()\n"
      ],
      "metadata": {
        "colab": {
          "base_uri": "https://localhost:8080/",
          "height": 465
        },
        "id": "-VY26djkCZKv",
        "outputId": "77817a6b-38f4-430f-f1a4-189e38fa2d9c"
      },
      "execution_count": 88,
      "outputs": [
        {
          "output_type": "display_data",
          "data": {
            "text/plain": [
              "<Figure size 640x480 with 1 Axes>"
            ],
            "image/png": "[encoded data removed]"
          },
          "metadata": {}
        }
      ]
    },
    {
      "cell_type": "markdown",
      "source": [
        "Больше всего \"да\" у Growth Product Manager (5) и HR-специалист(4)"
      ],
      "metadata": {
        "id": "T1vVfkVPEDsk"
      }
    },
    {
      "cell_type": "code",
      "source": [
        "#Смотрим на распределение признаков относительно должностей\n",
        "countsJob = data.groupby('Ищет работу на должность')['Подходит - да/нет'].value_counts()\n",
        "countsJob.plot(kind='bar', label='Suitable')\n",
        "plt.title('Распределение по должностям')\n",
        "plt.show()\n",
        "\n",
        "countsJob"
      ],
      "metadata": {
        "colab": {
          "base_uri": "https://localhost:8080/",
          "height": 1000
        },
        "id": "YuvW_QcNA3iY",
        "outputId": "9436e9d8-2dd8-4c24-8f52-0f9239f8fd14"
      },
      "execution_count": 23,
      "outputs": [
        {
          "output_type": "display_data",
          "data": {
            "text/plain": [
              "<Figure size 640x480 with 1 Axes>"
            ],
            "image/png": "[encoded data removed]"
          },
          "metadata": {}
        },
        {
          "output_type": "execute_result",
          "data": {
            "text/plain": [
              "Ищет работу на должность                            Подходит - да/нет\n",
              "Growth Product Manager                              нет                  179\n",
              "                                                    да                     5\n",
              "HR-специалист                                       нет                  111\n",
              "                                                    да                     4\n",
              "Product Manager в команду HR                        нет                   13\n",
              "Product Manager в команду Финансового департамента  нет                   25\n",
              "Product Marketing Manager в Growth Hacking команду  нет                    6\n",
              "Product manager в Growth Hacking команду            нет                   55\n",
              "                                                    да                     1\n",
              "Project manager                                     нет                    8\n",
              "Директор медицинской клиники                        нет                   92\n",
              "                                                    да                     1\n",
              "Name: Подходит - да/нет, dtype: int64"
            ]
          },
          "metadata": {},
          "execution_count": 23
        }
      ]
    },
    {
      "cell_type": "markdown",
      "source": [
        "Такой не сбалансированный датасет обычно не подходит для обучения но мы постараемся немного его нормализовать"
      ],
      "metadata": {
        "id": "FqyKQTufFYL4"
      }
    },
    {
      "cell_type": "markdown",
      "source": [
        "Переименуем всех Product Manager в одну категорию"
      ],
      "metadata": {
        "id": "t6WgEhsooecA"
      }
    },
    {
      "cell_type": "code",
      "source": [
        "#Growth Product Manager\n",
        "#Product Manager в команду HR\n",
        "#Product Manager в команду Финансового департамента\n",
        "#Product Marketing Manager в Growth Hacking команду\n",
        "#Product manager в Growth Hacking команду\n",
        "#Project manager\n",
        "for i, row in data.iterrows():\n",
        "  if row['Ищет работу на должность'].find(\"Product\") >= 0:\n",
        "      row['Ищет работу на должность'] =  \"Project manager\"\n"
      ],
      "metadata": {
        "id": "G9Z6jmtuoZCW"
      },
      "execution_count": 106,
      "outputs": []
    },
    {
      "cell_type": "markdown",
      "source": [
        "Выберем все категории записи с положительным ответом и добавим случайные данные с отрицательным ответом, пропорционально."
      ],
      "metadata": {
        "id": "daAlWJpztECh"
      }
    },
    {
      "cell_type": "code",
      "source": [
        "#Manager\n",
        "dataMa = data.loc[(data['Ищет работу на должность'] == 'Project manager')]\n",
        "dataDA = dataMa.loc[(data['Подходит - да/нет'] == 'да')]\n",
        "dataDA = dataDA.iloc[:6]\n",
        "dataNA = dataMa.loc[(data['Подходит - да/нет'] == 'нет')]\n",
        "dataNA = dataNA.sample(frac=1)\n",
        "dataNA = dataNA.iloc[:80]\n",
        "\n",
        "dataMa = pd.merge(dataDA,dataNA, how='outer')\n",
        "\n",
        "#HR-специалист\n",
        "dataHR = data.loc[(data['Ищет работу на должность'] == 'HR-специалист')]\n",
        "dataDAHR = dataHR.loc[(data['Подходит - да/нет'] == 'да')]\n",
        "dataDAHR = dataDAHR.iloc[:4]\n",
        "dataNAHR = dataHR.loc[(data['Подходит - да/нет'] == 'нет')]\n",
        "dataNAHR = dataNAHR.sample(frac=1)\n",
        "dataNAHR = dataNAHR.iloc[:60]\n",
        "\n",
        "dataHR = dataDAHR.merge(dataNAHR, how='outer')\n",
        "\n",
        "#Директор\n",
        "dataDr = data.loc[(data['Ищет работу на должность'] == 'Директор медицинской клиники')]\n",
        "dataDADr = dataDr.loc[(data['Подходит - да/нет'] == 'да')]\n",
        "dataDADr = dataDADr.iloc[:1]\n",
        "dataNADr = dataDr.loc[(data['Подходит - да/нет'] == 'нет')]\n",
        "dataNADr = dataNADr.sample(frac=1)\n",
        "dataNADr = dataNADr.iloc[:20]\n",
        "\n",
        "dataDr = dataDADr.merge(dataNADr, how='outer')\n",
        "\n",
        "#Объединяем\n",
        "data = pd.merge(dataMa,dataHR, how='outer')\n",
        "data = pd.merge(data,dataDr, how='outer')\n",
        "\n",
        "data = data.sample(frac=1)"
      ],
      "metadata": {
        "id": "8q-dVJemEZLp",
        "colab": {
          "base_uri": "https://localhost:8080/"
        },
        "outputId": "49ee2c3f-7f02-4270-fbfc-57f159fa8ee3"
      },
      "execution_count": 107,
      "outputs": [
        {
          "output_type": "stream",
          "name": "stderr",
          "text": [
            "<ipython-input-107-1b8031472646>:29: FutureWarning: In a future version, the Index constructor will not infer numeric dtypes when passed object-dtype sequences (matching Series behavior)\n",
            "  dataDr = dataDADr.merge(dataNADr, how='outer')\n"
          ]
        }
      ]
    },
    {
      "cell_type": "code",
      "source": [
        "#Смотрим на распределение признаков относительно должностей\n",
        "countsJob = data.groupby('Ищет работу на должность')['Подходит - да/нет'].value_counts()\n",
        "countsJob.plot(kind='bar', label='Suitable')\n",
        "plt.title('Распределение по должностям')\n",
        "plt.show()\n",
        "\n",
        "countsJob\n"
      ],
      "metadata": {
        "colab": {
          "base_uri": "https://localhost:8080/",
          "height": 884
        },
        "id": "il5c8VhPFSJQ",
        "outputId": "248d3116-0e47-41be-d531-9d05559a9cf0"
      },
      "execution_count": 91,
      "outputs": [
        {
          "output_type": "display_data",
          "data": {
            "text/plain": [
              "<Figure size 640x480 with 1 Axes>"
            ],
            "image/png": "[encoded data removed]"
          },
          "metadata": {}
        },
        {
          "output_type": "execute_result",
          "data": {
            "text/plain": [
              "Ищет работу на должность      Подходит - да/нет\n",
              "HR-специалист                 нет                  60\n",
              "                              да                    4\n",
              "Project manager               нет                  80\n",
              "                              да                    6\n",
              "Директор медицинской клиники  нет                  20\n",
              "                              да                    1\n",
              "Name: Подходит - да/нет, dtype: int64"
            ]
          },
          "metadata": {},
          "execution_count": 91
        }
      ]
    },
    {
      "cell_type": "markdown",
      "source": [
        "Сохраняем чистый датафрейм в файл"
      ],
      "metadata": {
        "id": "03_TxD1Ax3uJ"
      }
    },
    {
      "cell_type": "code",
      "source": [
        "data.to_csv('data_c.csv')\n",
        "data.head(5)"
      ],
      "metadata": {
        "colab": {
          "base_uri": "https://localhost:8080/",
          "height": 669
        },
        "id": "L9IS7nFnx0q6",
        "outputId": "2741dc4a-62e0-4426-c479-c47cc40a4ea5"
      },
      "execution_count": 108,
      "outputs": [
        {
          "output_type": "execute_result",
          "data": {
            "text/plain": [
              "            Дата отклика                               Пол, возраст  \\\n",
              "119  2023-02-07 00:00:00     Женщина, 25 лет, родилась 23 июня 1997   \n",
              "106  2023-01-12 00:00:00       Женщина, 26 лет, родилась 7 мая 1996   \n",
              "145  2023-02-07 00:00:00                                    Женщина   \n",
              "163  2023-02-14 00:00:00  Женщина, 45 лет, родилась 15 августа 1977   \n",
              "4    2023-01-11 00:00:00   Мужчина, 26 лет, родился 21 февраля 1996   \n",
              "\n",
              "               ЗП      Ищет работу на должность  \\\n",
              "119   35 000 руб.                 HR-специалист   \n",
              "106   40 000 руб.                 HR-специалист   \n",
              "145   20 000 руб.                 HR-специалист   \n",
              "163    не указана  Директор медицинской клиники   \n",
              "4    150 000 руб.               Project manager   \n",
              "\n",
              "                                                 Город  \\\n",
              "119  Уфа, Не готова к переезду, готова к редким ком...   \n",
              "106  Уфа, Не готова к переезду, готова к редким ком...   \n",
              "145  Уфа, Не готова к переезду, не готова к команди...   \n",
              "163  Уфа, Готова к переезду: Москва, Санкт-Петербур...   \n",
              "4         Пермь, Хочу переехать, готов к командировкам   \n",
              "\n",
              "                                             Занятость  \\\n",
              "119                                   полная занятость   \n",
              "106  полная занятость, частичная занятость, проектн...   \n",
              "145                                   полная занятость   \n",
              "163                                   полная занятость   \n",
              "4    проектная работа, частичная занятость, полная ...   \n",
              "\n",
              "                                           График  \\\n",
              "119                                   полный день   \n",
              "106                              удаленная работа   \n",
              "145                                   полный день   \n",
              "163                                   полный день   \n",
              "4    удаленная работа, гибкий график, полный день   \n",
              "\n",
              "                            Опыт ()  \\\n",
              "119  Опыт работы —2 года 10 месяцев   \n",
              "106   Опыт работы —4 года 6 месяцев   \n",
              "145           Опыт работы —2 месяца   \n",
              "163  Опыт работы —25 лет 10 месяцев   \n",
              "4      Опыт работы —5 лет 9 месяцев   \n",
              "\n",
              "                       Последнее/нынешное место работы  \\\n",
              "119                                          Бодрость    \n",
              "106  ООО «Класс Информационные Технологии» https://...   \n",
              "145                                 ИП РАМАЗАНОВА Г.А.   \n",
              "163                                      Салон красоты   \n",
              "4    Индивидуальное предпринимательство / частная п...   \n",
              "\n",
              "       Последняя/нынешняя должность  \\\n",
              "119                        Психолог   \n",
              "106                     HR менеджер   \n",
              "145  Менеджер по работе с клиентами   \n",
              "163                     Управляющий   \n",
              "4           Product/Project manager   \n",
              "\n",
              "            Выполняемые задачи на прошлых местах работ  \\\n",
              "119  Коррекционно-развивающая работа с детьми - инв...   \n",
              "106  Поиск, подбор персонала (линейный, точечный);\\...   \n",
              "145                                                NaN   \n",
              "163  Салон красоты\\nУправляющий\\nРабота в режиме мн...   \n",
              "4     Переговоры со стейкхолдером\\n- Составление ТЗ...   \n",
              "\n",
              "                                               Обо мне  \\\n",
              "119  К работе отношусь добросовестно и с необходимо...   \n",
              "106  Опыт в сфере массового и точечного подбора пер...   \n",
              "145                                                NaN   \n",
              "163  Общий стаж 26 лет,  в должности Управляющего 1...   \n",
              "4    Набрал кучу опыта и хочу с ним найти классную ...   \n",
              "\n",
              "                                       Ключевые навыки  \\\n",
              "119  MS PowerPoint\\nДеловое общение\\nРабота в коман...   \n",
              "106  CRM\\nПодбор персонала\\nПрямой поиск\\nИнтервьюи...   \n",
              "145                                                NaN   \n",
              "163  Ведение переговоров\\nМатериально-техническое о...   \n",
              "4    Управление персоналом\\nЗаключение договоров\\nА...   \n",
              "\n",
              "                                     Образование и ВУЗ  \\\n",
              "119  Высшее, 2019, Башкирский государственный униве...   \n",
              "106  Высшее, 2018, Уфимский государственный авиацио...   \n",
              "145  Среднее специальное, 2022, Колледж БГПУ им. М....   \n",
              "163  Высшее, 2000, БГУ Уфа, 1996, Сибайский потитех...   \n",
              "4    Высшее, 2021, Российская академия народного хо...   \n",
              "\n",
              "           Обновление резюме Подходит - да/нет  \n",
              "119  27 февраля 2023 в 15:20               нет  \n",
              "106    23 марта 2023 в 15:46               нет  \n",
              "145     9 марта 2023 в 10:36               нет  \n",
              "163  14 февраля 2023 в 11:45               нет  \n",
              "4     6 февраля 2023 в 11:18                да  "
            ],
            "text/html": [
              "\n",
              "\n",
              "  <div id=\"df-9e891077-85b2-4f1f-95e6-37571ea11e14\">\n",
              "    <div class=\"colab-df-container\">\n",
              "      <div>\n",
              "<style scoped>\n",
              "    .dataframe tbody tr th:only-of-type {\n",
              "        vertical-align: middle;\n",
              "    }\n",
              "\n",
              "    .dataframe tbody tr th {\n",
              "        vertical-align: top;\n",
              "    }\n",
              "\n",
              "    .dataframe thead th {\n",
              "        text-align: right;\n",
              "    }\n",
              "</style>\n",
              "<table border=\"1\" class=\"dataframe\">\n",
              "  <thead>\n",
              "    <tr style=\"text-align: right;\">\n",
              "      <th></th>\n",
              "      <th>Дата отклика</th>\n",
              "      <th>Пол, возраст</th>\n",
              "      <th>ЗП</th>\n",
              "      <th>Ищет работу на должность</th>\n",
              "      <th>Город</th>\n",
              "      <th>Занятость</th>\n",
              "      <th>График</th>\n",
              "      <th>Опыт ()</th>\n",
              "      <th>Последнее/нынешное место работы</th>\n",
              "      <th>Последняя/нынешняя должность</th>\n",
              "      <th>Выполняемые задачи на прошлых местах работ</th>\n",
              "      <th>Обо мне</th>\n",
              "      <th>Ключевые навыки</th>\n",
              "      <th>Образование и ВУЗ</th>\n",
              "      <th>Обновление резюме</th>\n",
              "      <th>Подходит - да/нет</th>\n",
              "    </tr>\n",
              "  </thead>\n",
              "  <tbody>\n",
              "    <tr>\n",
              "      <th>119</th>\n",
              "      <td>2023-02-07 00:00:00</td>\n",
              "      <td>Женщина, 25 лет, родилась 23 июня 1997</td>\n",
              "      <td>35 000 руб.</td>\n",
              "      <td>HR-специалист</td>\n",
              "      <td>Уфа, Не готова к переезду, готова к редким ком...</td>\n",
              "      <td>полная занятость</td>\n",
              "      <td>полный день</td>\n",
              "      <td>Опыт работы —2 года 10 месяцев</td>\n",
              "      <td>Бодрость</td>\n",
              "      <td>Психолог</td>\n",
              "      <td>Коррекционно-развивающая работа с детьми - инв...</td>\n",
              "      <td>К работе отношусь добросовестно и с необходимо...</td>\n",
              "      <td>MS PowerPoint\\nДеловое общение\\nРабота в коман...</td>\n",
              "      <td>Высшее, 2019, Башкирский государственный униве...</td>\n",
              "      <td>27 февраля 2023 в 15:20</td>\n",
              "      <td>нет</td>\n",
              "    </tr>\n",
              "    <tr>\n",
              "      <th>106</th>\n",
              "      <td>2023-01-12 00:00:00</td>\n",
              "      <td>Женщина, 26 лет, родилась 7 мая 1996</td>\n",
              "      <td>40 000 руб.</td>\n",
              "      <td>HR-специалист</td>\n",
              "      <td>Уфа, Не готова к переезду, готова к редким ком...</td>\n",
              "      <td>полная занятость, частичная занятость, проектн...</td>\n",
              "      <td>удаленная работа</td>\n",
              "      <td>Опыт работы —4 года 6 месяцев</td>\n",
              "      <td>ООО «Класс Информационные Технологии» https://...</td>\n",
              "      <td>HR менеджер</td>\n",
              "      <td>Поиск, подбор персонала (линейный, точечный);\\...</td>\n",
              "      <td>Опыт в сфере массового и точечного подбора пер...</td>\n",
              "      <td>CRM\\nПодбор персонала\\nПрямой поиск\\nИнтервьюи...</td>\n",
              "      <td>Высшее, 2018, Уфимский государственный авиацио...</td>\n",
              "      <td>23 марта 2023 в 15:46</td>\n",
              "      <td>нет</td>\n",
              "    </tr>\n",
              "    <tr>\n",
              "      <th>145</th>\n",
              "      <td>2023-02-07 00:00:00</td>\n",
              "      <td>Женщина</td>\n",
              "      <td>20 000 руб.</td>\n",
              "      <td>HR-специалист</td>\n",
              "      <td>Уфа, Не готова к переезду, не готова к команди...</td>\n",
              "      <td>полная занятость</td>\n",
              "      <td>полный день</td>\n",
              "      <td>Опыт работы —2 месяца</td>\n",
              "      <td>ИП РАМАЗАНОВА Г.А.</td>\n",
              "      <td>Менеджер по работе с клиентами</td>\n",
              "      <td>NaN</td>\n",
              "      <td>NaN</td>\n",
              "      <td>NaN</td>\n",
              "      <td>Среднее специальное, 2022, Колледж БГПУ им. М....</td>\n",
              "      <td>9 марта 2023 в 10:36</td>\n",
              "      <td>нет</td>\n",
              "    </tr>\n",
              "    <tr>\n",
              "      <th>163</th>\n",
              "      <td>2023-02-14 00:00:00</td>\n",
              "      <td>Женщина, 45 лет, родилась 15 августа 1977</td>\n",
              "      <td>не указана</td>\n",
              "      <td>Директор медицинской клиники</td>\n",
              "      <td>Уфа, Готова к переезду: Москва, Санкт-Петербур...</td>\n",
              "      <td>полная занятость</td>\n",
              "      <td>полный день</td>\n",
              "      <td>Опыт работы —25 лет 10 месяцев</td>\n",
              "      <td>Салон красоты</td>\n",
              "      <td>Управляющий</td>\n",
              "      <td>Салон красоты\\nУправляющий\\nРабота в режиме мн...</td>\n",
              "      <td>Общий стаж 26 лет,  в должности Управляющего 1...</td>\n",
              "      <td>Ведение переговоров\\nМатериально-техническое о...</td>\n",
              "      <td>Высшее, 2000, БГУ Уфа, 1996, Сибайский потитех...</td>\n",
              "      <td>14 февраля 2023 в 11:45</td>\n",
              "      <td>нет</td>\n",
              "    </tr>\n",
              "    <tr>\n",
              "      <th>4</th>\n",
              "      <td>2023-01-11 00:00:00</td>\n",
              "      <td>Мужчина, 26 лет, родился 21 февраля 1996</td>\n",
              "      <td>150 000 руб.</td>\n",
              "      <td>Project manager</td>\n",
              "      <td>Пермь, Хочу переехать, готов к командировкам</td>\n",
              "      <td>проектная работа, частичная занятость, полная ...</td>\n",
              "      <td>удаленная работа, гибкий график, полный день</td>\n",
              "      <td>Опыт работы —5 лет 9 месяцев</td>\n",
              "      <td>Индивидуальное предпринимательство / частная п...</td>\n",
              "      <td>Product/Project manager</td>\n",
              "      <td>Переговоры со стейкхолдером\\n- Составление ТЗ...</td>\n",
              "      <td>Набрал кучу опыта и хочу с ним найти классную ...</td>\n",
              "      <td>Управление персоналом\\nЗаключение договоров\\nА...</td>\n",
              "      <td>Высшее, 2021, Российская академия народного хо...</td>\n",
              "      <td>6 февраля 2023 в 11:18</td>\n",
              "      <td>да</td>\n",
              "    </tr>\n",
              "  </tbody>\n",
              "</table>\n",
              "</div>\n",
              "      <button class=\"colab-df-convert\" onclick=\"convertToInteractive('df-9e891077-85b2-4f1f-95e6-37571ea11e14')\"\n",
              "              title=\"Convert this dataframe to an interactive table.\"\n",
              "              style=\"display:none;\">\n",
              "\n",
              "  <svg xmlns=\"http://www.w3.org/2000/svg\" height=\"24px\"viewBox=\"0 0 24 24\"\n",
              "       width=\"24px\">\n",
              "    <path d=\"M0 0h24v24H0V0z\" fill=\"none\"/>\n",
              "    <path d=\"M18.56 5.44l.94 2.06.94-2.06 2.06-.94-2.06-.94-.94-2.06-.94 2.06-2.06.94zm-11 1L8.5 8.5l.94-2.06 2.06-.94-2.06-.94L8.5 2.5l-.94 2.06-2.06.94zm10 10l.94 2.06.94-2.06 2.06-.94-2.06-.94-.94-2.06-.94 2.06-2.06.94z\"/><path d=\"M17.41 7.96l-1.37-1.37c-.4-.4-.92-.59-1.43-.59-.52 0-1.04.2-1.43.59L10.3 9.45l-7.72 7.72c-.78.78-.78 2.05 0 2.83L4 21.41c.39.39.9.59 1.41.59.51 0 1.02-.2 1.41-.59l7.78-7.78 2.81-2.81c.8-.78.8-2.07 0-2.86zM5.41 20L4 18.59l7.72-7.72 1.47 1.35L5.41 20z\"/>\n",
              "  </svg>\n",
              "      </button>\n",
              "\n",
              "\n",
              "\n",
              "    <div id=\"df-c10cb8b6-fbaf-4d2a-b0e6-4c240818033b\">\n",
              "      <button class=\"colab-df-quickchart\" onclick=\"quickchart('df-c10cb8b6-fbaf-4d2a-b0e6-4c240818033b')\"\n",
              "              title=\"Suggest charts.\"\n",
              "              style=\"display:none;\">\n",
              "\n",
              "<svg xmlns=\"http://www.w3.org/2000/svg\" height=\"24px\"viewBox=\"0 0 24 24\"\n",
              "     width=\"24px\">\n",
              "    <g>\n",
              "        <path d=\"M19 3H5c-1.1 0-2 .9-2 2v14c0 1.1.9 2 2 2h14c1.1 0 2-.9 2-2V5c0-1.1-.9-2-2-2zM9 17H7v-7h2v7zm4 0h-2V7h2v10zm4 0h-2v-4h2v4z\"/>\n",
              "    </g>\n",
              "</svg>\n",
              "      </button>\n",
              "    </div>\n",
              "\n",
              "<style>\n",
              "  .colab-df-quickchart {\n",
              "    background-color: #E8F0FE;\n",
              "    border: none;\n",
              "    border-radius: 50%;\n",
              "    cursor: pointer;\n",
              "    display: none;\n",
              "    fill: #1967D2;\n",
              "    height: 32px;\n",
              "    padding: 0 0 0 0;\n",
              "    width: 32px;\n",
              "  }\n",
              "\n",
              "  .colab-df-quickchart:hover {\n",
              "    background-color: #E2EBFA;\n",
              "    box-shadow: 0px 1px 2px rgba(60, 64, 67, 0.3), 0px 1px 3px 1px rgba(60, 64, 67, 0.15);\n",
              "    fill: #174EA6;\n",
              "  }\n",
              "\n",
              "  [theme=dark] .colab-df-quickchart {\n",
              "    background-color: #3B4455;\n",
              "    fill: #D2E3FC;\n",
              "  }\n",
              "\n",
              "  [theme=dark] .colab-df-quickchart:hover {\n",
              "    background-color: #434B5C;\n",
              "    box-shadow: 0px 1px 3px 1px rgba(0, 0, 0, 0.15);\n",
              "    filter: drop-shadow(0px 1px 2px rgba(0, 0, 0, 0.3));\n",
              "    fill: #FFFFFF;\n",
              "  }\n",
              "</style>\n",
              "\n",
              "    <script>\n",
              "      async function quickchart(key) {\n",
              "        const containerElement = document.querySelector('#' + key);\n",
              "        const charts = await google.colab.kernel.invokeFunction(\n",
              "            'suggestCharts', [key], {});\n",
              "      }\n",
              "    </script>\n",
              "\n",
              "      <script>\n",
              "\n",
              "function displayQuickchartButton(domScope) {\n",
              "  let quickchartButtonEl =\n",
              "    domScope.querySelector('#df-c10cb8b6-fbaf-4d2a-b0e6-4c240818033b button.colab-df-quickchart');\n",
              "  quickchartButtonEl.style.display =\n",
              "    google.colab.kernel.accessAllowed ? 'block' : 'none';\n",
              "}\n",
              "\n",
              "        displayQuickchartButton(document);\n",
              "      </script>\n",
              "      <style>\n",
              "    .colab-df-container {\n",
              "      display:flex;\n",
              "      flex-wrap:wrap;\n",
              "      gap: 12px;\n",
              "    }\n",
              "\n",
              "    .colab-df-convert {\n",
              "      background-color: #E8F0FE;\n",
              "      border: none;\n",
              "      border-radius: 50%;\n",
              "      cursor: pointer;\n",
              "      display: none;\n",
              "      fill: #1967D2;\n",
              "      height: 32px;\n",
              "      padding: 0 0 0 0;\n",
              "      width: 32px;\n",
              "    }\n",
              "\n",
              "    .colab-df-convert:hover {\n",
              "      background-color: #E2EBFA;\n",
              "      box-shadow: 0px 1px 2px rgba(60, 64, 67, 0.3), 0px 1px 3px 1px rgba(60, 64, 67, 0.15);\n",
              "      fill: #174EA6;\n",
              "    }\n",
              "\n",
              "    [theme=dark] .colab-df-convert {\n",
              "      background-color: #3B4455;\n",
              "      fill: #D2E3FC;\n",
              "    }\n",
              "\n",
              "    [theme=dark] .colab-df-convert:hover {\n",
              "      background-color: #434B5C;\n",
              "      box-shadow: 0px 1px 3px 1px rgba(0, 0, 0, 0.15);\n",
              "      filter: drop-shadow(0px 1px 2px rgba(0, 0, 0, 0.3));\n",
              "      fill: #FFFFFF;\n",
              "    }\n",
              "  </style>\n",
              "\n",
              "      <script>\n",
              "        const buttonEl =\n",
              "          document.querySelector('#df-9e891077-85b2-4f1f-95e6-37571ea11e14 button.colab-df-convert');\n",
              "        buttonEl.style.display =\n",
              "          google.colab.kernel.accessAllowed ? 'block' : 'none';\n",
              "\n",
              "        async function convertToInteractive(key) {\n",
              "          const element = document.querySelector('#df-9e891077-85b2-4f1f-95e6-37571ea11e14');\n",
              "          const dataTable =\n",
              "            await google.colab.kernel.invokeFunction('convertToInteractive',\n",
              "                                                     [key], {});\n",
              "          if (!dataTable) return;\n",
              "\n",
              "          const docLinkHtml = 'Like what you see? Visit the ' +\n",
              "            '<a target=\"_blank\" href=https://colab.research.google.com/notebooks/data_table.ipynb>data table notebook</a>'\n",
              "            + ' to learn more about interactive tables.';\n",
              "          element.innerHTML = '';\n",
              "          dataTable['output_type'] = 'display_data';\n",
              "          await google.colab.output.renderOutput(dataTable, element);\n",
              "          const docLink = document.createElement('div');\n",
              "          docLink.innerHTML = docLinkHtml;\n",
              "          element.appendChild(docLink);\n",
              "        }\n",
              "      </script>\n",
              "    </div>\n",
              "  </div>\n"
            ]
          },
          "metadata": {},
          "execution_count": 108
        }
      ]
    },
    {
      "cell_type": "markdown",
      "source": [
        "### Обучение модели с помощью AutoML H2O"
      ],
      "metadata": {
        "id": "NXF6f6ySFu6K"
      }
    },
    {
      "cell_type": "markdown",
      "source": [
        "AutoML H2O можно использовать для автоматизации рабочего процесса машинного обучения, который включает в себя автоматическое обучение и настройку многих моделей в течение заданного пользователем срока.\n",
        "https://docs.h2o.ai/h2o/latest-stable/h2o-docs/automl.html#"
      ],
      "metadata": {
        "id": "67hYf__3HRQ2"
      }
    },
    {
      "cell_type": "code",
      "source": [
        "#Читаем файл в Дата фрейм\n",
        "df = h2o.import_file(\"data_c.csv\",header =1)\n",
        "#Удаляем поле с индексом стоки\n",
        "df = df[:,1:]\n"
      ],
      "metadata": {
        "colab": {
          "base_uri": "https://localhost:8080/"
        },
        "id": "Qa9wNNV6F0Eo",
        "outputId": "b62453a3-c272-459f-f094-692e98863ae1"
      },
      "execution_count": 109,
      "outputs": [
        {
          "output_type": "stream",
          "name": "stdout",
          "text": [
            "Parse progress: |████████████████████████████████████████████████████████████████| (done) 100%\n"
          ]
        }
      ]
    },
    {
      "cell_type": "markdown",
      "source": [
        "splitFrame позволяет разделить выборки, задодим разделения 0,65/0,25 H2O создаст разделение тест/обучение с ожидаемым значением 0,65/0,25, а не точно 0,65/0,25."
      ],
      "metadata": {
        "id": "4pWuUovNQXyl"
      }
    },
    {
      "cell_type": "code",
      "source": [
        "train, test, valid = df.split_frame ( ratios = [ .65 , .25 ])\n",
        "\n",
        "y = \"Подходит - да/нет\"\n",
        "\n",
        "x_train= train.columns\n",
        "#Удаляем поле \"Подходит - да/нет\" из обучаемого датасета\n",
        "x_test = train.columns\n",
        "x_test = x_test.remove(y)\n",
        "x_train.remove(y)\n",
        "#Удаляем лишние поля\n",
        "x_train.remove(\"Дата отклика\")\n",
        "x_train.remove(\"Обновление резюме\")\n",
        "#x_train.remove(\"Выполняемые задачи на прошлых местах работ\")"
      ],
      "metadata": {
        "id": "L2Eky15sN_sh"
      },
      "execution_count": 110,
      "outputs": []
    },
    {
      "cell_type": "markdown",
      "source": [
        "Запускаем поиск наиболее лучшей модели"
      ],
      "metadata": {
        "id": "AHGc29-2Rt79"
      }
    },
    {
      "cell_type": "code",
      "source": [
        "aml_1 = H2OAutoML(max_models = 10, seed = 1)\n",
        "hist = aml_1.train(x = x_train, y = y, training_frame = train)"
      ],
      "metadata": {
        "colab": {
          "base_uri": "https://localhost:8080/"
        },
        "id": "MbMcjtJaQ7sS",
        "outputId": "c7213625-54f1-4097-8d98-01b533d38927"
      },
      "execution_count": 111,
      "outputs": [
        {
          "output_type": "stream",
          "name": "stdout",
          "text": [
            "AutoML progress: |\n",
            "12:36:24.253: _train param, Dropping bad and constant columns: [Ключевые навыки, Обо мне, Выполняемые задачи на прошлых местах работ]\n",
            "12:36:24.286: XGBoost_1_AutoML_7_20230719_123624 [XGBoost def_2] failed: water.exceptions.H2OModelBuilderIllegalArgumentException: Illegal argument(s) for XGBoost model: XGBoost_1_AutoML_7_20230719_123624_cv_1.  Details: ERRR on field: _response_column: Response contains missing values (NAs) - not supported by XGBoost.\n",
            "\n",
            "12:36:24.291: _train param, Dropping bad and constant columns: [Ключевые навыки, Обо мне, Выполняемые задачи на прошлых местах работ]\n",
            "\n",
            "███\n",
            "12:36:27.856: _train param, Dropping bad and constant columns: [Ключевые навыки, Обо мне, Выполняемые задачи на прошлых местах работ]\n",
            "12:36:27.856: _min_rows param, The dataset size is too small to split for min_rows=100.0: must have at least 200.0 (weighted) rows, but have only 178.0.\n",
            "12:36:27.858: _train param, Dropping bad and constant columns: [Ключевые навыки, Обо мне, Выполняемые задачи на прошлых местах работ]\n",
            "12:36:27.868: XGBoost_2_AutoML_7_20230719_123624 [XGBoost def_1] failed: water.exceptions.H2OModelBuilderIllegalArgumentException: Illegal argument(s) for XGBoost model: XGBoost_2_AutoML_7_20230719_123624_cv_1.  Details: ERRR on field: _response_column: Response contains missing values (NAs) - not supported by XGBoost.\n",
            "\n",
            "12:36:27.887: _train param, Dropping bad and constant columns: [Ключевые навыки, Обо мне, Выполняемые задачи на прошлых местах работ]\n",
            "\n",
            "█\n",
            "12:36:28.871: _train param, Dropping bad and constant columns: [Ключевые навыки, Обо мне, Выполняемые задачи на прошлых местах работ]\n",
            "12:36:30.53: _train param, Dropping bad and constant columns: [Ключевые навыки, Обо мне, Выполняемые задачи на прошлых местах работ]\n",
            "\n",
            "██\n",
            "12:36:31.218: _train param, Dropping bad and constant columns: [Ключевые навыки, Обо мне, Выполняемые задачи на прошлых местах работ]\n",
            "\n",
            "██\n",
            "12:36:32.392: _train param, Dropping bad and constant columns: [Ключевые навыки, Обо мне, Выполняемые задачи на прошлых местах работ]\n",
            "12:36:32.402: XGBoost_3_AutoML_7_20230719_123624 [XGBoost def_3] failed: water.exceptions.H2OModelBuilderIllegalArgumentException: Illegal argument(s) for XGBoost model: XGBoost_3_AutoML_7_20230719_123624_cv_1.  Details: ERRR on field: _response_column: Response contains missing values (NAs) - not supported by XGBoost.\n",
            "\n",
            "12:36:32.404: _train param, Dropping bad and constant columns: [Ключевые навыки, Обо мне, Выполняемые задачи на прошлых местах работ]\n",
            "\n",
            "█\n",
            "12:36:33.331: _train param, Dropping bad and constant columns: [Ключевые навыки, Обо мне, Выполняемые задачи на прошлых местах работ]\n",
            "12:36:33.998: _train param, Dropping bad and constant columns: [Ключевые навыки, Обо мне, Выполняемые задачи на прошлых местах работ]\n",
            "\n",
            "████████████████████████████████████████\n",
            "12:37:01.572: _train param, Dropping unused columns: [Ключевые навыки, Обо мне, Выполняемые задачи на прошлых местах работ]\n",
            "12:37:02.315: _train param, Dropping unused columns: [Ключевые навыки, Обо мне, Выполняемые задачи на прошлых местах работ]\n",
            "\n",
            "██████████████| (done) 100%\n"
          ]
        }
      ]
    },
    {
      "cell_type": "markdown",
      "source": [
        "### Анализ обучения"
      ],
      "metadata": {
        "id": "b8ejjouqzh9y"
      }
    },
    {
      "cell_type": "markdown",
      "source": [
        "Получаем лучшую модель, используя метрику\n",
        "\n",
        "\n",
        "**mean_per_class_error** - это мера средней ошибки классификации для каждого класса в наборе данных. Она вычисляется как среднее значение ошибок для каждого класса, деленное на количество классов. Чем меньше значение MCCE, тем лучше модель.\n",
        "\n",
        "**Log-loss** - это функция потерь, которая используется в задачах регрессии и классификации. Она также используется для оценки качества модели. Log-loss вычисляется путем суммирования логарифмов значений ошибок прогнозирования и деления этой суммы на количество наблюдений. Чем меньше значение log-loss, тем лучше модель.\n",
        "\n",
        "**RMSE** - это метрика для оценки среднеквадратической ошибки между прогнозами модели и фактическими значениями. Чем меньше RMSE, тем точнее модель.\n",
        "\n",
        "**MSE** - это еще одна метрика, используемая для оценки точности модели. Она рассчитывается как среднее квадратическое отклонение прогнозируемых значений от фактических значений. Чем меньше MSE, тем ближе модель к действительности."
      ],
      "metadata": {
        "id": "omA5qDsRUQVg"
      }
    },
    {
      "cell_type": "code",
      "source": [
        "# Получаем лучшую модель, используя метрику\n",
        "best_model_1 = aml_1.leader\n",
        "# Посмотрим метрику\n",
        "lb = aml_1.leaderboard\n",
        "lb.head()"
      ],
      "metadata": {
        "colab": {
          "base_uri": "https://localhost:8080/",
          "height": 389
        },
        "id": "XZO3O039SbP7",
        "outputId": "257095e7-2bc6-4358-bd3f-e49ba55e1a82"
      },
      "execution_count": 112,
      "outputs": [
        {
          "output_type": "execute_result",
          "data": {
            "text/plain": [
              "model_id                                                   auc    logloss     aucpr    mean_per_class_error      rmse        mse\n",
              "----------------------------------------------------  --------  ---------  --------  ----------------------  --------  ---------\n",
              "XRT_1_AutoML_7_20230719_123624                        0.573728   1.06782   0.929402                0.444444  0.269609  0.0726889\n",
              "DeepLearning_grid_1_AutoML_7_20230719_123624_model_1  0.507788   0.390483  0.939532                0.444444  0.268759  0.0722315\n",
              "GBM_grid_1_AutoML_7_20230719_123624_model_1           0.482347   0.360415  0.926417                0.5       0.275927  0.0761357\n",
              "DeepLearning_1_AutoML_7_20230719_123624               0.444444   0.330916  0.906363                0.5       0.282176  0.0796233\n",
              "DRF_1_AutoML_7_20230719_123624                        0.407061   0.555238  0.899645                0.5       0.280956  0.0789364\n",
              "GLM_1_AutoML_7_20230719_123624                        0.390447   0.276207  0.89917                 0.5       0.268403  0.0720403\n",
              "GBM_5_AutoML_7_20230719_123624                        0.38162    0.369579  0.897134                0.5       0.276895  0.076671\n",
              "GBM_3_AutoML_7_20230719_123624                        0.344756   0.370048  0.899554                0.5       0.276422  0.0764091\n",
              "GBM_2_AutoML_7_20230719_123624                        0.331776   0.371121  0.89436                 0.5       0.276937  0.0766939\n",
              "GBM_4_AutoML_7_20230719_123624                        0.32243    0.370949  0.888309                0.5       0.277072  0.0767688\n",
              "[10 rows x 7 columns]\n"
            ],
            "text/html": [
              "<table class='dataframe'>\n",
              "<thead>\n",
              "<tr><th>model_id                                            </th><th style=\"text-align: right;\">     auc</th><th style=\"text-align: right;\">  logloss</th><th style=\"text-align: right;\">   aucpr</th><th style=\"text-align: right;\">  mean_per_class_error</th><th style=\"text-align: right;\">    rmse</th><th style=\"text-align: right;\">      mse</th></tr>\n",
              "</thead>\n",
              "<tbody>\n",
              "<tr><td>XRT_1_AutoML_7_20230719_123624                      </td><td style=\"text-align: right;\">0.573728</td><td style=\"text-align: right;\"> 1.06782 </td><td style=\"text-align: right;\">0.929402</td><td style=\"text-align: right;\">              0.444444</td><td style=\"text-align: right;\">0.269609</td><td style=\"text-align: right;\">0.0726889</td></tr>\n",
              "<tr><td>DeepLearning_grid_1_AutoML_7_20230719_123624_model_1</td><td style=\"text-align: right;\">0.507788</td><td style=\"text-align: right;\"> 0.390483</td><td style=\"text-align: right;\">0.939532</td><td style=\"text-align: right;\">              0.444444</td><td style=\"text-align: right;\">0.268759</td><td style=\"text-align: right;\">0.0722315</td></tr>\n",
              "<tr><td>GBM_grid_1_AutoML_7_20230719_123624_model_1         </td><td style=\"text-align: right;\">0.482347</td><td style=\"text-align: right;\"> 0.360415</td><td style=\"text-align: right;\">0.926417</td><td style=\"text-align: right;\">              0.5     </td><td style=\"text-align: right;\">0.275927</td><td style=\"text-align: right;\">0.0761357</td></tr>\n",
              "<tr><td>DeepLearning_1_AutoML_7_20230719_123624             </td><td style=\"text-align: right;\">0.444444</td><td style=\"text-align: right;\"> 0.330916</td><td style=\"text-align: right;\">0.906363</td><td style=\"text-align: right;\">              0.5     </td><td style=\"text-align: right;\">0.282176</td><td style=\"text-align: right;\">0.0796233</td></tr>\n",
              "<tr><td>DRF_1_AutoML_7_20230719_123624                      </td><td style=\"text-align: right;\">0.407061</td><td style=\"text-align: right;\"> 0.555238</td><td style=\"text-align: right;\">0.899645</td><td style=\"text-align: right;\">              0.5     </td><td style=\"text-align: right;\">0.280956</td><td style=\"text-align: right;\">0.0789364</td></tr>\n",
              "<tr><td>GLM_1_AutoML_7_20230719_123624                      </td><td style=\"text-align: right;\">0.390447</td><td style=\"text-align: right;\"> 0.276207</td><td style=\"text-align: right;\">0.89917 </td><td style=\"text-align: right;\">              0.5     </td><td style=\"text-align: right;\">0.268403</td><td style=\"text-align: right;\">0.0720403</td></tr>\n",
              "<tr><td>GBM_5_AutoML_7_20230719_123624                      </td><td style=\"text-align: right;\">0.38162 </td><td style=\"text-align: right;\"> 0.369579</td><td style=\"text-align: right;\">0.897134</td><td style=\"text-align: right;\">              0.5     </td><td style=\"text-align: right;\">0.276895</td><td style=\"text-align: right;\">0.076671 </td></tr>\n",
              "<tr><td>GBM_3_AutoML_7_20230719_123624                      </td><td style=\"text-align: right;\">0.344756</td><td style=\"text-align: right;\"> 0.370048</td><td style=\"text-align: right;\">0.899554</td><td style=\"text-align: right;\">              0.5     </td><td style=\"text-align: right;\">0.276422</td><td style=\"text-align: right;\">0.0764091</td></tr>\n",
              "<tr><td>GBM_2_AutoML_7_20230719_123624                      </td><td style=\"text-align: right;\">0.331776</td><td style=\"text-align: right;\"> 0.371121</td><td style=\"text-align: right;\">0.89436 </td><td style=\"text-align: right;\">              0.5     </td><td style=\"text-align: right;\">0.276937</td><td style=\"text-align: right;\">0.0766939</td></tr>\n",
              "<tr><td>GBM_4_AutoML_7_20230719_123624                      </td><td style=\"text-align: right;\">0.32243 </td><td style=\"text-align: right;\"> 0.370949</td><td style=\"text-align: right;\">0.888309</td><td style=\"text-align: right;\">              0.5     </td><td style=\"text-align: right;\">0.277072</td><td style=\"text-align: right;\">0.0767688</td></tr>\n",
              "</tbody>\n",
              "</table><pre style='font-size: smaller; margin-bottom: 1em;'>[10 rows x 7 columns]</pre>"
            ]
          },
          "metadata": {},
          "execution_count": 112
        }
      ]
    },
    {
      "cell_type": "code",
      "source": [
        "# Получим список параметров модели\n",
        "best_model_1.params.keys()"
      ],
      "metadata": {
        "colab": {
          "base_uri": "https://localhost:8080/"
        },
        "id": "6DyZb5bljto9",
        "outputId": "af5cfcc1-14d6-44a9-8895-50445aac848f"
      },
      "execution_count": 97,
      "outputs": [
        {
          "output_type": "execute_result",
          "data": {
            "text/plain": [
              "dict_keys(['model_id', 'training_frame', 'validation_frame', 'nfolds', 'keep_cross_validation_models', 'keep_cross_validation_predictions', 'keep_cross_validation_fold_assignment', 'score_each_iteration', 'score_tree_interval', 'fold_assignment', 'fold_column', 'response_column', 'ignored_columns', 'ignore_const_cols', 'offset_column', 'weights_column', 'balance_classes', 'class_sampling_factors', 'max_after_balance_size', 'max_confusion_matrix_size', 'ntrees', 'max_depth', 'min_rows', 'nbins', 'nbins_top_level', 'nbins_cats', 'r2_stopping', 'stopping_rounds', 'stopping_metric', 'stopping_tolerance', 'max_runtime_secs', 'seed', 'build_tree_one_node', 'learn_rate', 'learn_rate_annealing', 'distribution', 'quantile_alpha', 'tweedie_power', 'huber_alpha', 'checkpoint', 'sample_rate', 'sample_rate_per_class', 'col_sample_rate', 'col_sample_rate_change_per_level', 'col_sample_rate_per_tree', 'min_split_improvement', 'histogram_type', 'max_abs_leafnode_pred', 'pred_noise_bandwidth', 'categorical_encoding', 'calibrate_model', 'calibration_frame', 'calibration_method', 'custom_metric_func', 'custom_distribution_func', 'export_checkpoints_dir', 'in_training_checkpoints_dir', 'in_training_checkpoints_tree_interval', 'monotone_constraints', 'check_constant_response', 'gainslift_bins', 'auc_type', 'interaction_constraints', 'auto_rebalance'])"
            ]
          },
          "metadata": {},
          "execution_count": 97
        }
      ]
    },
    {
      "cell_type": "markdown",
      "source": [
        "Посмотрим график обучения лучшей модели"
      ],
      "metadata": {
        "id": "plvn1moNrJAp"
      }
    },
    {
      "cell_type": "markdown",
      "source": [
        "**График кривой обучения**\n",
        "График кривой обучения показывает функцию потерь / метрику, зависящую от количества итераций или деревьев для древовидных алгоритмов. Этот график может быть полезен для определения того, подходит ли модель чрезмерно."
      ],
      "metadata": {
        "id": "XmR6lcJ7t8l5"
      }
    },
    {
      "cell_type": "code",
      "source": [
        "best_model_1.plot()"
      ],
      "metadata": {
        "colab": {
          "base_uri": "https://localhost:8080/",
          "height": 489
        },
        "id": "vjiiL8WNqXi9",
        "outputId": "085d7c84-c3cf-4abc-e25b-461d2a74bdb0"
      },
      "execution_count": 113,
      "outputs": [
        {
          "output_type": "display_data",
          "data": {
            "text/plain": [
              "<Figure size 640x480 with 1 Axes>"
            ],
            "image/png": "[encoded data removed]"
          },
          "metadata": {}
        },
        {
          "output_type": "execute_result",
          "data": {
            "text/plain": [
              "<h2o.plot._plot_result._MObject at 0x799a284ee620>"
            ]
          },
          "metadata": {},
          "execution_count": 113
        }
      ]
    },
    {
      "cell_type": "markdown",
      "source": [
        "Важность переменных представляет собой статистическую значимость каждой переменной в данных с точки зрения ее влияния на модель. Переменные перечислены в порядке от наибольшей до наименьшей важности. Процентные значения представляют собой процент важности всех переменных, масштабированный до 100%. Метод вычисления важности каждой переменной зависит от алгоритма."
      ],
      "metadata": {
        "id": "Um7tUoheqFnU"
      }
    },
    {
      "cell_type": "markdown",
      "source": [
        "**Переменная важность**\n",
        "График важности переменных показывает относительную важность наиболее важных переменных в модели."
      ],
      "metadata": {
        "id": "GxBvCliDuC5X"
      }
    },
    {
      "cell_type": "code",
      "source": [
        "best_model_1.varimp_plot()"
      ],
      "metadata": {
        "id": "Z6VQvCKTo4rN",
        "colab": {
          "base_uri": "https://localhost:8080/",
          "height": 896
        },
        "outputId": "c8850ba0-9897-4621-b268-79b66e0a434e"
      },
      "execution_count": 114,
      "outputs": [
        {
          "output_type": "display_data",
          "data": {
            "text/plain": [
              "<Figure size 1400x1000 with 1 Axes>"
            ],
            "image/png": "[encoded data removed]"
          },
          "metadata": {}
        },
        {
          "output_type": "execute_result",
          "data": {
            "text/plain": [
              "<h2o.plot._plot_result._MObject at 0x799a299618a0>"
            ]
          },
          "metadata": {},
          "execution_count": 114
        },
        {
          "output_type": "display_data",
          "data": {
            "text/plain": [
              "<Figure size 640x480 with 0 Axes>"
            ]
          },
          "metadata": {}
        }
      ]
    },
    {
      "cell_type": "markdown",
      "source": [
        "**Тепловая карта важности переменной**\n",
        "Тепловая карта переменной важности показывает переменную важность для нескольких моделей. Некоторые модели в H2O возвращают важность переменной для версий категориальных столбцов, закодированных с помощью одного горячего (двоичного индикатора) (например, Deep Learning, XGBoost). Чтобы значение переменной важности категориальных столбцов можно было сравнить во всех типах моделей, мы вычисляем суммирование важности переменной для всех функций с горячим кодированием и возвращаем значение одной переменной для исходной категориальной функции. По умолчанию модели и переменные упорядочены по их сходству."
      ],
      "metadata": {
        "id": "BVE08QjbxEqm"
      }
    },
    {
      "cell_type": "code",
      "source": [
        "va_plot = aml_1.varimp_heatmap()"
      ],
      "metadata": {
        "colab": {
          "base_uri": "https://localhost:8080/",
          "height": 942
        },
        "id": "ZnkWcRJPwZk6",
        "outputId": "ffc3ef20-405e-4d80-fd8c-990a438aa66e"
      },
      "execution_count": 115,
      "outputs": [
        {
          "output_type": "display_data",
          "data": {
            "text/plain": [
              "<Figure size 1600x900 with 2 Axes>"
            ],
            "image/png": "[encoded data removed]"
          },
          "metadata": {}
        }
      ]
    },
    {
      "cell_type": "markdown",
      "source": [
        "**Confusion Matrix**\n",
        "представляет собой таблицу, показывающую производительность алгоритма с точки зрения ложных срабатываний, ложных отрицательных результатов, истинных положительных результатов и истинных отрицательных результатов."
      ],
      "metadata": {
        "id": "8ZNaEXDF7wxi"
      }
    },
    {
      "cell_type": "code",
      "source": [
        "best_model_1.confusion_matrix()"
      ],
      "metadata": {
        "colab": {
          "base_uri": "https://localhost:8080/",
          "height": 151
        },
        "id": "0DWenril2jyz",
        "outputId": "d8dd5367-b8e1-4543-9be0-80ab2d393553"
      },
      "execution_count": 116,
      "outputs": [
        {
          "output_type": "execute_result",
          "data": {
            "text/plain": [
              "Confusion Matrix (Act/Pred) for max f1 @ threshold = 0.6773015975952148\n",
              "       да    нет    Error    Rate\n",
              "-----  ----  -----  -------  -----------\n",
              "да     0     9      1        (9.0/9.0)\n",
              "нет    0     107    0        (0.0/107.0)\n",
              "Total  0     116    0.0776   (9.0/116.0)"
            ],
            "text/html": [
              "\n",
              "<style>\n",
              "\n",
              "#h2o-table-6.h2o-container {\n",
              "  overflow-x: auto;\n",
              "}\n",
              "#h2o-table-6 .h2o-table {\n",
              "  /* width: 100%; */\n",
              "  margin-top: 1em;\n",
              "  margin-bottom: 1em;\n",
              "}\n",
              "#h2o-table-6 .h2o-table caption {\n",
              "  white-space: nowrap;\n",
              "  caption-side: top;\n",
              "  text-align: left;\n",
              "  /* margin-left: 1em; */\n",
              "  margin: 0;\n",
              "  font-size: larger;\n",
              "}\n",
              "#h2o-table-6 .h2o-table thead {\n",
              "  white-space: nowrap; \n",
              "  position: sticky;\n",
              "  top: 0;\n",
              "  box-shadow: 0 -1px inset;\n",
              "}\n",
              "#h2o-table-6 .h2o-table tbody {\n",
              "  overflow: auto;\n",
              "}\n",
              "#h2o-table-6 .h2o-table th,\n",
              "#h2o-table-6 .h2o-table td {\n",
              "  text-align: right;\n",
              "  /* border: 1px solid; */\n",
              "}\n",
              "#h2o-table-6 .h2o-table tr:nth-child(even) {\n",
              "  /* background: #F5F5F5 */\n",
              "}\n",
              "\n",
              "</style>      \n",
              "<div id=\"h2o-table-6\" class=\"h2o-container\">\n",
              "  <table class=\"h2o-table\">\n",
              "    <caption>Confusion Matrix (Act/Pred) for max f1 @ threshold = 0.6773015975952148</caption>\n",
              "    <thead><tr><th></th>\n",
              "<th>да</th>\n",
              "<th>нет</th>\n",
              "<th>Error</th>\n",
              "<th>Rate</th></tr></thead>\n",
              "    <tbody><tr><td>да</td>\n",
              "<td>0.0</td>\n",
              "<td>9.0</td>\n",
              "<td>1.0</td>\n",
              "<td> (9.0/9.0)</td></tr>\n",
              "<tr><td>нет</td>\n",
              "<td>0.0</td>\n",
              "<td>107.0</td>\n",
              "<td>0.0</td>\n",
              "<td> (0.0/107.0)</td></tr>\n",
              "<tr><td>Total</td>\n",
              "<td>0.0</td>\n",
              "<td>116.0</td>\n",
              "<td>0.0776</td>\n",
              "<td> (9.0/116.0)</td></tr></tbody>\n",
              "  </table>\n",
              "</div>\n"
            ]
          },
          "metadata": {},
          "execution_count": 116
        }
      ]
    },
    {
      "cell_type": "markdown",
      "source": [
        "### Производительность модели"
      ],
      "metadata": {
        "id": "n1EmyFMwWBBk"
      }
    },
    {
      "cell_type": "markdown",
      "source": [
        "H2O-3 предоставляет множество показателей, которые можно использовать для оценки контролируемых и неконтролируемых моделей. Показатели в этом разделе охватывают только модели контролируемого обучения, которые различаются в зависимости от типа модели (классификация или регрессия)."
      ],
      "metadata": {
        "id": "EEQYNDclzote"
      }
    },
    {
      "cell_type": "code",
      "source": [
        "perf = best_model_1.model_performance(test)\n",
        "perf.confusion_matrix()"
      ],
      "metadata": {
        "colab": {
          "base_uri": "https://localhost:8080/",
          "height": 151
        },
        "id": "buzWdw5Kkw2P",
        "outputId": "54fdc5b7-2a24-4d0d-9e51-f77e40d8bdf6"
      },
      "execution_count": 117,
      "outputs": [
        {
          "output_type": "execute_result",
          "data": {
            "text/plain": [
              "Confusion Matrix (Act/Pred) for max f1 @ threshold = 0.8011583009281674\n",
              "       да    нет    Error    Rate\n",
              "-----  ----  -----  -------  ----------\n",
              "да     0     1      1        (1.0/1.0)\n",
              "нет    0     44     0        (0.0/44.0)\n",
              "Total  0     45     0.0222   (1.0/45.0)"
            ],
            "text/html": [
              "\n",
              "<style>\n",
              "\n",
              "#h2o-table-7.h2o-container {\n",
              "  overflow-x: auto;\n",
              "}\n",
              "#h2o-table-7 .h2o-table {\n",
              "  /* width: 100%; */\n",
              "  margin-top: 1em;\n",
              "  margin-bottom: 1em;\n",
              "}\n",
              "#h2o-table-7 .h2o-table caption {\n",
              "  white-space: nowrap;\n",
              "  caption-side: top;\n",
              "  text-align: left;\n",
              "  /* margin-left: 1em; */\n",
              "  margin: 0;\n",
              "  font-size: larger;\n",
              "}\n",
              "#h2o-table-7 .h2o-table thead {\n",
              "  white-space: nowrap; \n",
              "  position: sticky;\n",
              "  top: 0;\n",
              "  box-shadow: 0 -1px inset;\n",
              "}\n",
              "#h2o-table-7 .h2o-table tbody {\n",
              "  overflow: auto;\n",
              "}\n",
              "#h2o-table-7 .h2o-table th,\n",
              "#h2o-table-7 .h2o-table td {\n",
              "  text-align: right;\n",
              "  /* border: 1px solid; */\n",
              "}\n",
              "#h2o-table-7 .h2o-table tr:nth-child(even) {\n",
              "  /* background: #F5F5F5 */\n",
              "}\n",
              "\n",
              "</style>      \n",
              "<div id=\"h2o-table-7\" class=\"h2o-container\">\n",
              "  <table class=\"h2o-table\">\n",
              "    <caption>Confusion Matrix (Act/Pred) for max f1 @ threshold = 0.8011583009281674</caption>\n",
              "    <thead><tr><th></th>\n",
              "<th>да</th>\n",
              "<th>нет</th>\n",
              "<th>Error</th>\n",
              "<th>Rate</th></tr></thead>\n",
              "    <tbody><tr><td>да</td>\n",
              "<td>0.0</td>\n",
              "<td>1.0</td>\n",
              "<td>1.0</td>\n",
              "<td> (1.0/1.0)</td></tr>\n",
              "<tr><td>нет</td>\n",
              "<td>0.0</td>\n",
              "<td>44.0</td>\n",
              "<td>0.0</td>\n",
              "<td> (0.0/44.0)</td></tr>\n",
              "<tr><td>Total</td>\n",
              "<td>0.0</td>\n",
              "<td>45.0</td>\n",
              "<td>0.0222</td>\n",
              "<td> (1.0/45.0)</td></tr></tbody>\n",
              "  </table>\n",
              "</div>\n"
            ]
          },
          "metadata": {},
          "execution_count": 117
        }
      ]
    },
    {
      "cell_type": "markdown",
      "source": [
        "**Predict Contributions**\n",
        "Это включает в себя столбец вклада функции для каждой входной функции. Последний столбец этой таблицы — это смещение модели (столбец один и тот же для каждой строки). Сумма вкладов признаков и члена смещения равна необработанному прогнозу модели. Необработанный прогноз древовидной модели представляет собой сумму прогнозов отдельных деревьев до применения функции обратной связи для получения фактического прогноза. Для распределения Гаусса сумма вкладов равна предсказанию модели."
      ],
      "metadata": {
        "id": "1Z6aUVyU1kpd"
      }
    },
    {
      "cell_type": "code",
      "source": [
        "best_model_1.predict_contributions(train)"
      ],
      "metadata": {
        "id": "Rv2XFLNNzcl5",
        "colab": {
          "base_uri": "https://localhost:8080/",
          "height": 406
        },
        "outputId": "ec3296b6-5b04-42ef-9e09-b7b5537034f8"
      },
      "execution_count": 118,
      "outputs": [
        {
          "output_type": "stream",
          "name": "stdout",
          "text": [
            "contributions progress: |████████████████████████████████████████████████████████| (done) 100%\n"
          ]
        },
        {
          "output_type": "execute_result",
          "data": {
            "text/plain": [
              "  Пол, возраст         ЗП    Ищет работу на должность      Город    Занятость     График    Опыт ()    Последнее/нынешное место работы    Последняя/нынешняя должность    Образование и ВУЗ    BiasTerm\n",
              "--------------  ---------  --------------------------  ---------  -----------  ---------  ---------  ---------------------------------  ------------------------------  -------------------  ----------\n",
              "     0.0990667  0.0911369                    0.090985  0.0898111    0.0915608  0.091295   0.0982655                          0.0870323                       0.0916863            0.110788     0.029415\n",
              "     0.0993963  0.0911369                    0.090985  0.0939418    0.0916212  0.091295   0.099632                           0.102147                        0.0996422            0.110788     0.029415\n",
              "     0.0806083  0.0911369                    0.090985  0.0783013    0.0652901  0.0920117  0.0974984                          0.0792707                       0.0879401            0.0913263    0.029415\n",
              "     0.0427311  0.0911369                    0.090985  0.0943333    0.0916212  0.0909094  0.0982595                          0.101296                        0.0988882            0.0992529    0.029415\n",
              "     0.0725394  0.0911369                    0.090985  0.0938948    0.0916212  0.091295   0.0975822                          0.102147                        0.101009             0.111348     0.029415\n",
              "     0.0987347  0.0911369                    0.090985  0.0936961    0.0646453  0.0943241  0.0749445                          0.0795749                       0.0598022            0.109992     0.029415\n",
              "     0.097024   0.0919814                    0.090985  0.0741694    0.0916212  0.091295   0.0754569                          0.101657                        0.0816235            0.0882237    0.029415\n",
              "     0.0598125  0.0911369                    0.090985  0.0908793    0.0646453  0.0939316  0.0966179                          0.101209                        0.081021             0.083307     0.029415\n",
              "     0.0460904  0.0911369                    0.090985  0.0931757    0.0915658  0.0935388  0.0979181                          0.102876                        0.10014              0.082077     0.029415\n",
              "     0.0993963  0.0911369                    0.090985  0.0939418    0.0916212  0.091295   0.0982655                          0.102147                        0.101009             0.110788     0.029415\n",
              "[178 rows x 11 columns]\n"
            ],
            "text/html": [
              "<table class='dataframe'>\n",
              "<thead>\n",
              "<tr><th style=\"text-align: right;\">  Пол, возраст</th><th style=\"text-align: right;\">       ЗП</th><th style=\"text-align: right;\">  Ищет работу на должность</th><th style=\"text-align: right;\">    Город</th><th style=\"text-align: right;\">  Занятость</th><th style=\"text-align: right;\">   График</th><th style=\"text-align: right;\">  Опыт ()</th><th style=\"text-align: right;\">  Последнее/нынешное место работы</th><th style=\"text-align: right;\">  Последняя/нынешняя должность</th><th style=\"text-align: right;\">  Образование и ВУЗ</th><th style=\"text-align: right;\">  BiasTerm</th></tr>\n",
              "</thead>\n",
              "<tbody>\n",
              "<tr><td style=\"text-align: right;\">     0.0990667</td><td style=\"text-align: right;\">0.0911369</td><td style=\"text-align: right;\">                  0.090985</td><td style=\"text-align: right;\">0.0898111</td><td style=\"text-align: right;\">  0.0915608</td><td style=\"text-align: right;\">0.091295 </td><td style=\"text-align: right;\">0.0982655</td><td style=\"text-align: right;\">                        0.0870323</td><td style=\"text-align: right;\">                     0.0916863</td><td style=\"text-align: right;\">          0.110788 </td><td style=\"text-align: right;\">  0.029415</td></tr>\n",
              "<tr><td style=\"text-align: right;\">     0.0993963</td><td style=\"text-align: right;\">0.0911369</td><td style=\"text-align: right;\">                  0.090985</td><td style=\"text-align: right;\">0.0939418</td><td style=\"text-align: right;\">  0.0916212</td><td style=\"text-align: right;\">0.091295 </td><td style=\"text-align: right;\">0.099632 </td><td style=\"text-align: right;\">                        0.102147 </td><td style=\"text-align: right;\">                     0.0996422</td><td style=\"text-align: right;\">          0.110788 </td><td style=\"text-align: right;\">  0.029415</td></tr>\n",
              "<tr><td style=\"text-align: right;\">     0.0806083</td><td style=\"text-align: right;\">0.0911369</td><td style=\"text-align: right;\">                  0.090985</td><td style=\"text-align: right;\">0.0783013</td><td style=\"text-align: right;\">  0.0652901</td><td style=\"text-align: right;\">0.0920117</td><td style=\"text-align: right;\">0.0974984</td><td style=\"text-align: right;\">                        0.0792707</td><td style=\"text-align: right;\">                     0.0879401</td><td style=\"text-align: right;\">          0.0913263</td><td style=\"text-align: right;\">  0.029415</td></tr>\n",
              "<tr><td style=\"text-align: right;\">     0.0427311</td><td style=\"text-align: right;\">0.0911369</td><td style=\"text-align: right;\">                  0.090985</td><td style=\"text-align: right;\">0.0943333</td><td style=\"text-align: right;\">  0.0916212</td><td style=\"text-align: right;\">0.0909094</td><td style=\"text-align: right;\">0.0982595</td><td style=\"text-align: right;\">                        0.101296 </td><td style=\"text-align: right;\">                     0.0988882</td><td style=\"text-align: right;\">          0.0992529</td><td style=\"text-align: right;\">  0.029415</td></tr>\n",
              "<tr><td style=\"text-align: right;\">     0.0725394</td><td style=\"text-align: right;\">0.0911369</td><td style=\"text-align: right;\">                  0.090985</td><td style=\"text-align: right;\">0.0938948</td><td style=\"text-align: right;\">  0.0916212</td><td style=\"text-align: right;\">0.091295 </td><td style=\"text-align: right;\">0.0975822</td><td style=\"text-align: right;\">                        0.102147 </td><td style=\"text-align: right;\">                     0.101009 </td><td style=\"text-align: right;\">          0.111348 </td><td style=\"text-align: right;\">  0.029415</td></tr>\n",
              "<tr><td style=\"text-align: right;\">     0.0987347</td><td style=\"text-align: right;\">0.0911369</td><td style=\"text-align: right;\">                  0.090985</td><td style=\"text-align: right;\">0.0936961</td><td style=\"text-align: right;\">  0.0646453</td><td style=\"text-align: right;\">0.0943241</td><td style=\"text-align: right;\">0.0749445</td><td style=\"text-align: right;\">                        0.0795749</td><td style=\"text-align: right;\">                     0.0598022</td><td style=\"text-align: right;\">          0.109992 </td><td style=\"text-align: right;\">  0.029415</td></tr>\n",
              "<tr><td style=\"text-align: right;\">     0.097024 </td><td style=\"text-align: right;\">0.0919814</td><td style=\"text-align: right;\">                  0.090985</td><td style=\"text-align: right;\">0.0741694</td><td style=\"text-align: right;\">  0.0916212</td><td style=\"text-align: right;\">0.091295 </td><td style=\"text-align: right;\">0.0754569</td><td style=\"text-align: right;\">                        0.101657 </td><td style=\"text-align: right;\">                     0.0816235</td><td style=\"text-align: right;\">          0.0882237</td><td style=\"text-align: right;\">  0.029415</td></tr>\n",
              "<tr><td style=\"text-align: right;\">     0.0598125</td><td style=\"text-align: right;\">0.0911369</td><td style=\"text-align: right;\">                  0.090985</td><td style=\"text-align: right;\">0.0908793</td><td style=\"text-align: right;\">  0.0646453</td><td style=\"text-align: right;\">0.0939316</td><td style=\"text-align: right;\">0.0966179</td><td style=\"text-align: right;\">                        0.101209 </td><td style=\"text-align: right;\">                     0.081021 </td><td style=\"text-align: right;\">          0.083307 </td><td style=\"text-align: right;\">  0.029415</td></tr>\n",
              "<tr><td style=\"text-align: right;\">     0.0460904</td><td style=\"text-align: right;\">0.0911369</td><td style=\"text-align: right;\">                  0.090985</td><td style=\"text-align: right;\">0.0931757</td><td style=\"text-align: right;\">  0.0915658</td><td style=\"text-align: right;\">0.0935388</td><td style=\"text-align: right;\">0.0979181</td><td style=\"text-align: right;\">                        0.102876 </td><td style=\"text-align: right;\">                     0.10014  </td><td style=\"text-align: right;\">          0.082077 </td><td style=\"text-align: right;\">  0.029415</td></tr>\n",
              "<tr><td style=\"text-align: right;\">     0.0993963</td><td style=\"text-align: right;\">0.0911369</td><td style=\"text-align: right;\">                  0.090985</td><td style=\"text-align: right;\">0.0939418</td><td style=\"text-align: right;\">  0.0916212</td><td style=\"text-align: right;\">0.091295 </td><td style=\"text-align: right;\">0.0982655</td><td style=\"text-align: right;\">                        0.102147 </td><td style=\"text-align: right;\">                     0.101009 </td><td style=\"text-align: right;\">          0.110788 </td><td style=\"text-align: right;\">  0.029415</td></tr>\n",
              "</tbody>\n",
              "</table><pre style='font-size: smaller; margin-bottom: 1em;'>[178 rows x 11 columns]</pre>"
            ]
          },
          "metadata": {},
          "execution_count": 118
        }
      ]
    },
    {
      "cell_type": "markdown",
      "source": [
        "### Прогноз модели"
      ],
      "metadata": {
        "id": "1cP-Ca0jz_sa"
      }
    },
    {
      "cell_type": "markdown",
      "source": [
        "С помощью H2O-3 вы можете генерировать прогнозы для модели на основе образцов в тестовом наборе"
      ],
      "metadata": {
        "id": "t_2v-DEQ0M38"
      }
    },
    {
      "cell_type": "code",
      "source": [
        "preds = best_model_1.predict(test)\n",
        "print(preds)\n"
      ],
      "metadata": {
        "colab": {
          "base_uri": "https://localhost:8080/"
        },
        "id": "-XK73Gc3y53R",
        "outputId": "890735ed-b673-4252-a5e8-bfcdfb543b2d"
      },
      "execution_count": 119,
      "outputs": [
        {
          "output_type": "stream",
          "name": "stdout",
          "text": [
            "drf prediction progress: |███████████████████████████████████████████████████████| (done) 100%\n",
            "predict           да       нет\n",
            "нет        0.0486486  0.951351\n",
            "нет        0.0742171  0.925783\n",
            "нет        0.101381   0.898619\n",
            "нет        0.15       0.85\n",
            "нет        0.0689189  0.931081\n",
            "нет        0.027027   0.972973\n",
            "нет        0.0772201  0.92278\n",
            "нет        0.0495495  0.95045\n",
            "нет        0.03861    0.96139\n",
            "нет        0          1\n",
            "[67 rows x 3 columns]\n",
            "\n"
          ]
        }
      ]
    },
    {
      "cell_type": "code",
      "source": [
        "best_model_1.save_mojo('best_model.zip')"
      ],
      "metadata": {
        "id": "UX3kXyoZ8weO",
        "colab": {
          "base_uri": "https://localhost:8080/",
          "height": 36
        },
        "outputId": "a87d0d9a-4c75-4898-b82c-cfe687fc740b"
      },
      "execution_count": 120,
      "outputs": [
        {
          "output_type": "execute_result",
          "data": {
            "text/plain": [
              "'/content/best_model.zip/XRT_1_AutoML_7_20230719_123624.zip'"
            ],
            "application/vnd.google.colaboratory.intrinsic+json": {
              "type": "string"
            }
          },
          "metadata": {},
          "execution_count": 120
        }
      ]
    },
    {
      "cell_type": "code",
      "source": [
        "h2o.save_model(model=best_model_1, path=\"/content/mymodel\", force=True)"
      ],
      "metadata": {
        "id": "ZSDLlpg5mbYn",
        "colab": {
          "base_uri": "https://localhost:8080/",
          "height": 36
        },
        "outputId": "ece5f99e-f031-4cb3-9ee9-c795a64882ff"
      },
      "execution_count": 121,
      "outputs": [
        {
          "output_type": "execute_result",
          "data": {
            "text/plain": [
              "'/content/mymodel/XRT_1_AutoML_7_20230719_123624'"
            ],
            "application/vnd.google.colaboratory.intrinsic+json": {
              "type": "string"
            }
          },
          "metadata": {},
          "execution_count": 121
        }
      ]
    },
    {
      "cell_type": "markdown",
      "source": [
        "### Загрузка модели"
      ],
      "metadata": {
        "id": "VnDdGP-C6SnY"
      }
    },
    {
      "cell_type": "code",
      "source": [
        "gdown.download(\"https://s228vla.storage.yandex.net/rdisk/a0049622545167d42dc0574914962413581c2a39617f8167bc18e88198b841f5/64b81497/2V2cgGRqetkaGS3kvhKGJ2tQunQ9Me4bWPoIN8VGagSTlr-KeAiVNYF57MM1SGcoKyQ4ENEUsw_FjqfcZ_8E-Q==?uid=0&filename=StackedEnsemble_AllModels_1_AutoML_4_20230712_144139.zip&disposition=attachment&hash=pU%2BZDc/ZiaiwXeiE4NoBFMxa5GiP%2BVQEPafdQMPEo9OhqCkg8QZjYyS2Db%2BAxfKnq/J6bpmRyOJonT3VoXnDag%3D%3D&limit=0&content_type=application%2Fzip&owner_uid=269742668&fsize=649647&hid=e5db833f3b9c98610b8fbdeb16b32bc8&media_type=compressed&tknv=v2&rtoken=a7Gj6Kie8Jkj&force_default=no&ycrid=na-bdba2a4b04212699e9a6a845fbcb7e23-downloader21h&ts=600d9d82d13c0&s=c787fb38893feb9b766806ec3ee5c7df79ce3b00ac9d77e7f4b1d21172981446&pb=U2FsdGVkX18sZqUx0KntHm7yRbtQmUA5f2qrxDKKqH_cBwKqswSXG_xX6cPXPLunyEzvbuqvqWUBX6wsdZsSoBAsPoMfW36SvZk3oZqOzME\",'model.zip', quiet=True)"
      ],
      "metadata": {
        "colab": {
          "base_uri": "https://localhost:8080/",
          "height": 36
        },
        "id": "aA0pefyMMxSw",
        "outputId": "2b7c66b4-a3d7-4bf2-b73c-9430bb8b7a36"
      },
      "execution_count": 133,
      "outputs": [
        {
          "output_type": "execute_result",
          "data": {
            "text/plain": [
              "'model.zip'"
            ],
            "application/vnd.google.colaboratory.intrinsic+json": {
              "type": "string"
            }
          },
          "metadata": {},
          "execution_count": 133
        }
      ]
    },
    {
      "cell_type": "code",
      "source": [
        "imported_model = h2o.import_mojo(\"/content/model.zip\")"
      ],
      "metadata": {
        "colab": {
          "base_uri": "https://localhost:8080/"
        },
        "id": "DBc5ry9xqe1z",
        "outputId": "626f1342-9179-4227-edb8-3803d5818705"
      },
      "execution_count": 134,
      "outputs": [
        {
          "output_type": "stream",
          "name": "stdout",
          "text": [
            "generic Model Build progress: |██████████████████████████████████████████████████| (done) 100%\n"
          ]
        }
      ]
    },
    {
      "cell_type": "code",
      "source": [
        "#Читаем файл в Дата фрейм\n",
        "df = h2o.import_file(\"data.csv\",header =1)\n"
      ],
      "metadata": {
        "colab": {
          "base_uri": "https://localhost:8080/"
        },
        "id": "-CKQLOhCqz3U",
        "outputId": "ea2b983d-4b12-4e87-d74d-e2f6b1cd6569"
      },
      "execution_count": 135,
      "outputs": [
        {
          "output_type": "stream",
          "name": "stdout",
          "text": [
            "Parse progress: |████████████████████████████████████████████████████████████████| (done) 100%\n"
          ]
        }
      ]
    },
    {
      "cell_type": "code",
      "source": [
        "preds = imported_model.predict(df)\n",
        "print(preds)\n"
      ],
      "metadata": {
        "id": "7BSqiMoKt1WK",
        "colab": {
          "base_uri": "https://localhost:8080/"
        },
        "outputId": "265804ce-28e3-428c-e9be-d89d757b96ff"
      },
      "execution_count": 136,
      "outputs": [
        {
          "output_type": "stream",
          "name": "stdout",
          "text": [
            "generic prediction progress: |███████████████████████████████████████████████████| (done) 100%\n",
            "predict             да          нет\n",
            "да         0.999591     0.000409444\n",
            "да         0.999341     0.000658733\n",
            "да         0.999253     0.000747217\n",
            "нет        0.00227267   0.997727\n",
            "нет        0.00421762   0.995782\n",
            "да         0.617156     0.382844\n",
            "да         0.99943      0.000569717\n",
            "нет        0.000666161  0.999334\n",
            "да         0.998609     0.00139136\n",
            "нет        0.00116623   0.998834\n",
            "[1030 rows x 3 columns]\n",
            "\n"
          ]
        },
        {
          "output_type": "stream",
          "name": "stderr",
          "text": [
            "/usr/local/lib/python3.10/dist-packages/h2o/job.py:81: UserWarning: Test/Validation dataset column 'Пол, возраст' has levels not trained on: [\"\", \"5 раза снизилась стоимость привлечения лида\", \"B2G.\", \"MVC ASP.NET\", \"P&L - моделью.\", \"PEST анализ\", \"ReactJS\", \"Redmine\n",
            "Scrum\n",
            "Управление продуктом\n",
            "Jira\n",
            "Kanban\n",
            "MVP\n",
            "Agile\n",
            "Waterfall\n",
            "UX/UI\n",
            "CJM\n",
            "Подготовка ТЗ\n",
            "User Stories\n",
            "CustDev\n",
            "Unit-экономика\n",
            "Спринты\n",
            "Водопад\n",
            "Product менеджер\", \"SEO продвижения сайтов\", \"SMM.\", ...378 not listed..., \"таргетированной рекламы Вконакте\", \"тестировщиками.\", \"технические специалисты);\", \"технологии.\", \"товарных категорий и продуктов\", \"управление маркетингом\", \"холодные звонки\", \"что повлекло снижение затрат на привлечение тех\", \"что показалось интереснее. Один раз живём :)\"\", \"что часть продаж через B2B2C (т.е. через дизайнеров интерьера). Их потребности пересеклись с потребностями остальных покупателей. CPS (стоимость привлеченного клиента) снизилась до 3.5 тыс. руб.\"]\n",
            "  warnings.warn(w)\n",
            "/usr/local/lib/python3.10/dist-packages/h2o/job.py:81: UserWarning: Test/Validation dataset column 'ЗП' has levels not trained on: [\"1 200 EUR\", \"1 550 USD\", \"1 900 000 KZT\", \"1 руб.\", \"1. Опыт создания 2-х собственных бизнесов.\n",
            "\n",
            "2. Беру инициативу. Вдохновляю команду, с которой работаю на сверх-результат.\n",
            "\n",
            "3. Понимание IT-систем.\n",
            "\n",
            "4. Большой нетворкинг из основателей IT-проектов, за прошлый год познакомился с 350-ю людьми из разных сфер.\n",
            "\n",
            "5. Навык проведения переговоров на высоком уровне.\", \"100 000 KGS\", \"110 000 руб.\", \"119 000 руб.\", \"127 000 руб.\", \"140 000 руб.\", ...60 not listed..., \"система сбалансированных показателей). \", \"создание и первичное наполнение контентом групп в VK\", \"соцсети\", \"строительными фирмами\", \"сформирован перечень более 50 свойств\", \"телефонные презентации\", \"услуг и маркетинговой поддержки продаж.\", \"целевые посадочные страницы вошли в топ-5 Яндекс по высококонкурентным запросам\", \"экспертиза\", \"электромонтажных работ): поиск потенциальных заказчиков\"]\n",
            "  warnings.warn(w)\n",
            "/usr/local/lib/python3.10/dist-packages/h2o/job.py:81: UserWarning: Test/Validation dataset column 'Ищет работу на должность' has levels not trained on: [\"25 января 2023 в 18:32\", \"5 февраля 2023 в 02:39\", \"6 февраля 2023 в 14:02\", \"FB.\", \"Growth Product Manager\", \"HTML\", \"Product Manager в команду HR\", \"Product Manager в команду Финансового департамента\", \"Product Marketing Manager в Growth Hacking команду\", \"Product manager в Growth Hacking команду\", ...32 not listed..., \"создание семантического ядра сайта\", \"средства по уходу за обувью\", \"т.е. арбитражников.\", \"тарифов);\", \"триггерные рассылки\", \"упаковка\", \"управление клиентским опытом\", \"функционал и тарифы Битрикс24\", \"функционала и структуры нового сайта;\", \"холодные звонки\"]\n",
            "  warnings.warn(w)\n",
            "/usr/local/lib/python3.10/dist-packages/h2o/job.py:81: UserWarning: Test/Validation dataset column 'Город' has levels not trained on: [\"4 раза.\", \"CSS\", \"POS\", \"cold calls\", \"Актау, Не готов к переезду, готов к редким командировкам\", \"Алматы, Готов к переезду, готов к командировкам\", \"Алматы, Готов к переезду, готов к редким командировкам\", \"Алматы, Готов к переезду, не готов к командировкам\", \"Алматы, м. Алатау, Готова к переезду: Москва, Астана, готова к редким командировкам\", \"Армения, Готов к переезду, готов к командировкам\", ...138 not listed..., \"разработка и согласование проектов договоров;\", \"разработка коммерческих предложений\", \"расчетом экономической эффективности). \", \"рекламных материалов\", \"салонами интерьерных декоративных материалов\", \"создание пользовательских полей описания клиентов и лидов;   \", \"успешно сданы тетсы на сертификат по курсу Контент-менеджмент БУС\", \"хозяйственные товары и др.) в регионах ЦФО и ПФО. В результате разработаны прогнозы по прибыли с учетом разного объема продаж\", \"цифровой маркетинг).\", \"штатному и внешним дизайнерам;\"]\n",
            "  warnings.warn(w)\n",
            "/usr/local/lib/python3.10/dist-packages/h2o/job.py:81: UserWarning: Test/Validation dataset column 'Занятость' has levels not trained on: [\"13 февраля 2023 в 20:43\", \"CXM - разрешение конфликтных ситуаций и жалоб клиентов\", \"JS\", \"presentations\", \"Высшее, 2000, Нижегородский государственный технический университет им. Р.Е. Алексеева, Нижний Новгород, 1996, Нижегородский институт управления Российской академии народного хозяйства и государственной службы при Президенте Российской Федерации, Нижний Новгород\", \"акция на сайте.\", \"бытовое электрооборудование и электротехника (монтаж\", \"встречи\", \"выбран шаблон сайта\", \"другими дистрибьюторами\", ...11 not listed..., \"проектная работа, неполный рабочий день, полный рабочий день\", \"разработка и регистрация торговой марки\", \"разработка соответствующего современным тенденциям веб-дизайна сайта с функционалом интернет-магазина на CMS 1С-Битрикс+шаблон с планарным каталогом\", \"разработка торговой структуры и способов покрытия клиентской базы\", \"реализованы лицензии БУС (продления и переходы) более 10 клиентам\", \"стажировка, полная занятость\", \"тарифов\", \"тендеры\", \"удобство выбора\", \"этикетки и пр).\"]\n",
            "  warnings.warn(w)\n",
            "/usr/local/lib/python3.10/dist-packages/h2o/job.py:81: UserWarning: Test/Validation dataset column 'График' has levels not trained on: [\"20 февраля 2023 в 13:17\", \"AJAX\", \"potential client needs identification\", \"а также с торговыми предложениями\", \"аккаунты в каталоге и на картах Яндекс\", \"вахтовый метод\", \"вахтовый метод, удаленная работа, гибкий график, полный день, сменный графи\", \"выработаны ценностные предложения для привлечения партнеров экосистемы и конечных заказчиков\", \"гибкий график, удаленная работа\", \"демонстрация продукции\", ...9 not listed..., \"разработка договоров\", \"разработка и внедрение корректирующих мер в процессы приема и исполнения заявок;\", \"редакция системы управления сайтом 1С-Битрикс и модули\", \"рекламных материалов\", \"сервис\", \"увеличивающий конверсию и средний чек (фильтры\", \"удаленная работа, гибкий график, сменный график\", \"удаленная работа, полный день, сменный график\", \"удаленная работа, полный рабочий день\", \"ценовой модели\"]\n",
            "  warnings.warn(w)\n",
            "/usr/local/lib/python3.10/dist-packages/h2o/job.py:81: UserWarning: Test/Validation dataset column 'Опыт ()' has levels not trained on: [\"commercial and tender offers development\", \"iFrame\", \"Опыт работы 17 лет 7 месяцев\", \"Опыт работы 4 года 11 месяцев\", \"Опыт работы 6 лет 3 месяца\", \"Опыт работы — 19 лет 8 месяца\", \"Опыт работы —1 год 1 месяц\", \"Опыт работы —1 год 10 месяцев\", \"Опыт работы —1 год 6 месяцев\", \"Опыт работы —1 год 9 месяцев\", ...128 not listed..., \"подготовка первичных документов\", \"прогноза продаж).\", \"прямые продажи\", \"разработу корпоративных сайтов и интернет магазинов\", \"ремонт)\", \"спроектирована структура и функционал многосторонней e-commerce платформы\", \"сформулировано ТЗ дизайнеру на подготовку изображений\", \"торговые предложения\", \"управление рекламой в печатных СМИ и в Интернет\", \"фильтрацией по свойствам; настройка модуля лид-опросов\"]\n",
            "  warnings.warn(w)\n",
            "/usr/local/lib/python3.10/dist-packages/h2o/job.py:81: UserWarning: Test/Validation dataset column 'Последнее/нынешное место работы' has levels not trained on: [\"\"CREOS\" - Creos Play LT\", \"\"Smart\" Международный онлайн-институт психологии\", \"\"МИАтел\" / телеком-оператор России и Казахстана\", \"\"Точнотест-регион\"\", \"99 Ballov\", \"AIESEC\", \"Addie Digital\", \"Aitu Dala\", \"Alfa clean\", \"Amazon S3\", ...326 not listed..., \"оздоровительный санаторий черемушки\", \"подготовка тендерной документации\", \"подготовлены более 20 смет (с ТКП) на создание сайтов следующим типам заказчиков нижегородской области\", \"подключение систем аналитики\", \"позволяющий проводить дистанционное обучение партнеров по применению производимых материалов\", \"презентация преимуществ товара и поставщика\", \"разработка сайта (выбор CMS\", \"разработка формата предоставляемых заказчикам справок о благонадежности и кредитоспособности контрагентов\", \"сформулирован понятный контент страниц Оплата\", \"яндекс такси\"]\n",
            "  warnings.warn(w)\n",
            "/usr/local/lib/python3.10/dist-packages/h2o/job.py:81: UserWarning: Test/Validation dataset column 'Последняя/нынешняя должность' has levels not trained on: [\"Business Development Analyst (Freelance)\", \"CEO / кофаундер\", \"CEO/учредитель/партнёр/Руководитель проекта\", \"Chief Product Officer, Business Development Director\", \"Chief product officer\", \"Co-founder\", \"Consultant mobile pm\", \"Google Мой бизнес\", \"Growth Hacker (Middle)\", \"Growth Manager\", ...218 not listed..., \"обеспечивающий лидогенерацию как для производителя\", \"оптическая\", \"подготовка по заказам клиентов справок о благонадежности фирм\", \"прямые продажи\", \"разработка и согласование договоров\", \"руководитель отдела по управлению персоналом (кадров)\", \"сметными службами для подготовки ТКП.\", \"формирование семантического ядра\", \"частично перенесен контент.\", \"эксперт по маркетингу\"]\n",
            "  warnings.warn(w)\n",
            "/usr/local/lib/python3.10/dist-packages/h2o/job.py:81: UserWarning: Test/Validation dataset column 'Образование и ВУЗ' has levels not trained on: [\"SEO-специалистом\", \"Бакалавр, 2012, Казахстанский институт менеджмента, экономики и прогнозирования, Алматы\", \"Бакалавр, 2013, Национальный исследовательский университет \"Высшая школа экономики\", Москва\", \"Бакалавр, 2016, University of Memphis (Дистанционное обучение), 2013, КФУ Институт Экономики и Финансов\", \"Бакалавр, 2016, Башкирский институт физической культуры (филиал) Уральского государственного университета физической культуры, Уфа\", \"Бакалавр, 2016, Казанский государственный финансово-экономический институт им. В.В. Куйбышева (в 2011. году в составе КФУ), Казань\", \"Бакалавр, 2016, Уфимский государственный нефтяной технический университет, Уфа \", \"Бакалавр, 2017, Российский государственный педагогический университет им. А.И. Герцена, Санкт-Петербург\", \"Бакалавр, 2017, Уфимский государственный авиационный технический университет, Уфа\", \"Бакалавр, 2018, Российский экономический университет им. Г.В. Плеханова, Москва\", ...314 not listed..., \"Среднее специальное, 2021, Уфимский политехнический техникум\", \"Среднее специальное, 2021, Финансовый университет при Правительстве Российской Федерации, Уфа\", \"Среднее специальное, 2021, кооперативный техникум\", \"Среднее специальное, 2024, Бгу , 2020, СфБашгу\", \"исследований в области ВЭД\", \"мебельное производство\", \"повышающие конверсию\", \"свойства продуктов для фильтрации. Разработан бизнес-процесс обработки лидов с участием партнеров в CRM Битрикс24 и требования к функционалу. \", \"сервис\", \"управления рисками предприятия ПФО и ЦФО\"]\n",
            "  warnings.warn(w)\n"
          ]
        }
      ]
    },
    {
      "cell_type": "code",
      "source": [
        "df = df.as_data_frame()"
      ],
      "metadata": {
        "id": "3cptgE83rdLk"
      },
      "execution_count": 137,
      "outputs": []
    },
    {
      "cell_type": "code",
      "source": [
        "preds = preds.as_data_frame()"
      ],
      "metadata": {
        "id": "KNxN-hbduNiu"
      },
      "execution_count": 138,
      "outputs": []
    },
    {
      "cell_type": "code",
      "source": [
        "df = data.join(preds)"
      ],
      "metadata": {
        "id": "r_psIAE_4P3v"
      },
      "execution_count": 139,
      "outputs": []
    },
    {
      "cell_type": "code",
      "source": [
        "df.to_csv('Ответы.csv')\n",
        "df.head(5)"
      ],
      "metadata": {
        "colab": {
          "base_uri": "https://localhost:8080/",
          "height": 669
        },
        "id": "9_PrJTww59Kv",
        "outputId": "43452f1c-330c-437b-e9bf-3ccf9ea9d152"
      },
      "execution_count": 140,
      "outputs": [
        {
          "output_type": "execute_result",
          "data": {
            "text/plain": [
              "            Дата отклика                               Пол, возраст  \\\n",
              "119  2023-02-07 00:00:00     Женщина, 25 лет, родилась 23 июня 1997   \n",
              "106  2023-01-12 00:00:00       Женщина, 26 лет, родилась 7 мая 1996   \n",
              "145  2023-02-07 00:00:00                                    Женщина   \n",
              "163  2023-02-14 00:00:00  Женщина, 45 лет, родилась 15 августа 1977   \n",
              "4    2023-01-11 00:00:00   Мужчина, 26 лет, родился 21 февраля 1996   \n",
              "\n",
              "               ЗП      Ищет работу на должность  \\\n",
              "119   35 000 руб.                 HR-специалист   \n",
              "106   40 000 руб.                 HR-специалист   \n",
              "145   20 000 руб.                 HR-специалист   \n",
              "163    не указана  Директор медицинской клиники   \n",
              "4    150 000 руб.               Project manager   \n",
              "\n",
              "                                                 Город  \\\n",
              "119  Уфа, Не готова к переезду, готова к редким ком...   \n",
              "106  Уфа, Не готова к переезду, готова к редким ком...   \n",
              "145  Уфа, Не готова к переезду, не готова к команди...   \n",
              "163  Уфа, Готова к переезду: Москва, Санкт-Петербур...   \n",
              "4         Пермь, Хочу переехать, готов к командировкам   \n",
              "\n",
              "                                             Занятость  \\\n",
              "119                                   полная занятость   \n",
              "106  полная занятость, частичная занятость, проектн...   \n",
              "145                                   полная занятость   \n",
              "163                                   полная занятость   \n",
              "4    проектная работа, частичная занятость, полная ...   \n",
              "\n",
              "                                           График  \\\n",
              "119                                   полный день   \n",
              "106                              удаленная работа   \n",
              "145                                   полный день   \n",
              "163                                   полный день   \n",
              "4    удаленная работа, гибкий график, полный день   \n",
              "\n",
              "                            Опыт ()  \\\n",
              "119  Опыт работы —2 года 10 месяцев   \n",
              "106   Опыт работы —4 года 6 месяцев   \n",
              "145           Опыт работы —2 месяца   \n",
              "163  Опыт работы —25 лет 10 месяцев   \n",
              "4      Опыт работы —5 лет 9 месяцев   \n",
              "\n",
              "                       Последнее/нынешное место работы  \\\n",
              "119                                          Бодрость    \n",
              "106  ООО «Класс Информационные Технологии» https://...   \n",
              "145                                 ИП РАМАЗАНОВА Г.А.   \n",
              "163                                      Салон красоты   \n",
              "4    Индивидуальное предпринимательство / частная п...   \n",
              "\n",
              "       Последняя/нынешняя должность  \\\n",
              "119                        Психолог   \n",
              "106                     HR менеджер   \n",
              "145  Менеджер по работе с клиентами   \n",
              "163                     Управляющий   \n",
              "4           Product/Project manager   \n",
              "\n",
              "            Выполняемые задачи на прошлых местах работ  \\\n",
              "119  Коррекционно-развивающая работа с детьми - инв...   \n",
              "106  Поиск, подбор персонала (линейный, точечный);\\...   \n",
              "145                                                NaN   \n",
              "163  Салон красоты\\nУправляющий\\nРабота в режиме мн...   \n",
              "4     Переговоры со стейкхолдером\\n- Составление ТЗ...   \n",
              "\n",
              "                                               Обо мне  \\\n",
              "119  К работе отношусь добросовестно и с необходимо...   \n",
              "106  Опыт в сфере массового и точечного подбора пер...   \n",
              "145                                                NaN   \n",
              "163  Общий стаж 26 лет,  в должности Управляющего 1...   \n",
              "4    Набрал кучу опыта и хочу с ним найти классную ...   \n",
              "\n",
              "                                       Ключевые навыки  \\\n",
              "119  MS PowerPoint\\nДеловое общение\\nРабота в коман...   \n",
              "106  CRM\\nПодбор персонала\\nПрямой поиск\\nИнтервьюи...   \n",
              "145                                                NaN   \n",
              "163  Ведение переговоров\\nМатериально-техническое о...   \n",
              "4    Управление персоналом\\nЗаключение договоров\\nА...   \n",
              "\n",
              "                                     Образование и ВУЗ  \\\n",
              "119  Высшее, 2019, Башкирский государственный униве...   \n",
              "106  Высшее, 2018, Уфимский государственный авиацио...   \n",
              "145  Среднее специальное, 2022, Колледж БГПУ им. М....   \n",
              "163  Высшее, 2000, БГУ Уфа, 1996, Сибайский потитех...   \n",
              "4    Высшее, 2021, Российская академия народного хо...   \n",
              "\n",
              "           Обновление резюме Подходит - да/нет predict        да       нет  \n",
              "119  27 февраля 2023 в 15:20               нет     нет  0.024297  0.975703  \n",
              "106    23 марта 2023 в 15:46               нет     нет  0.024297  0.975703  \n",
              "145     9 марта 2023 в 10:36               нет     нет  0.024297  0.975703  \n",
              "163  14 февраля 2023 в 11:45               нет     нет  0.003965  0.996035  \n",
              "4     6 февраля 2023 в 11:18                да     нет  0.004218  0.995782  "
            ],
            "text/html": [
              "\n",
              "\n",
              "  <div id=\"df-217ee836-cfa3-421a-819b-e24ece42b2c7\">\n",
              "    <div class=\"colab-df-container\">\n",
              "      <div>\n",
              "<style scoped>\n",
              "    .dataframe tbody tr th:only-of-type {\n",
              "        vertical-align: middle;\n",
              "    }\n",
              "\n",
              "    .dataframe tbody tr th {\n",
              "        vertical-align: top;\n",
              "    }\n",
              "\n",
              "    .dataframe thead th {\n",
              "        text-align: right;\n",
              "    }\n",
              "</style>\n",
              "<table border=\"1\" class=\"dataframe\">\n",
              "  <thead>\n",
              "    <tr style=\"text-align: right;\">\n",
              "      <th></th>\n",
              "      <th>Дата отклика</th>\n",
              "      <th>Пол, возраст</th>\n",
              "      <th>ЗП</th>\n",
              "      <th>Ищет работу на должность</th>\n",
              "      <th>Город</th>\n",
              "      <th>Занятость</th>\n",
              "      <th>График</th>\n",
              "      <th>Опыт ()</th>\n",
              "      <th>Последнее/нынешное место работы</th>\n",
              "      <th>Последняя/нынешняя должность</th>\n",
              "      <th>Выполняемые задачи на прошлых местах работ</th>\n",
              "      <th>Обо мне</th>\n",
              "      <th>Ключевые навыки</th>\n",
              "      <th>Образование и ВУЗ</th>\n",
              "      <th>Обновление резюме</th>\n",
              "      <th>Подходит - да/нет</th>\n",
              "      <th>predict</th>\n",
              "      <th>да</th>\n",
              "      <th>нет</th>\n",
              "    </tr>\n",
              "  </thead>\n",
              "  <tbody>\n",
              "    <tr>\n",
              "      <th>119</th>\n",
              "      <td>2023-02-07 00:00:00</td>\n",
              "      <td>Женщина, 25 лет, родилась 23 июня 1997</td>\n",
              "      <td>35 000 руб.</td>\n",
              "      <td>HR-специалист</td>\n",
              "      <td>Уфа, Не готова к переезду, готова к редким ком...</td>\n",
              "      <td>полная занятость</td>\n",
              "      <td>полный день</td>\n",
              "      <td>Опыт работы —2 года 10 месяцев</td>\n",
              "      <td>Бодрость</td>\n",
              "      <td>Психолог</td>\n",
              "      <td>Коррекционно-развивающая работа с детьми - инв...</td>\n",
              "      <td>К работе отношусь добросовестно и с необходимо...</td>\n",
              "      <td>MS PowerPoint\\nДеловое общение\\nРабота в коман...</td>\n",
              "      <td>Высшее, 2019, Башкирский государственный униве...</td>\n",
              "      <td>27 февраля 2023 в 15:20</td>\n",
              "      <td>нет</td>\n",
              "      <td>нет</td>\n",
              "      <td>0.024297</td>\n",
              "      <td>0.975703</td>\n",
              "    </tr>\n",
              "    <tr>\n",
              "      <th>106</th>\n",
              "      <td>2023-01-12 00:00:00</td>\n",
              "      <td>Женщина, 26 лет, родилась 7 мая 1996</td>\n",
              "      <td>40 000 руб.</td>\n",
              "      <td>HR-специалист</td>\n",
              "      <td>Уфа, Не готова к переезду, готова к редким ком...</td>\n",
              "      <td>полная занятость, частичная занятость, проектн...</td>\n",
              "      <td>удаленная работа</td>\n",
              "      <td>Опыт работы —4 года 6 месяцев</td>\n",
              "      <td>ООО «Класс Информационные Технологии» https://...</td>\n",
              "      <td>HR менеджер</td>\n",
              "      <td>Поиск, подбор персонала (линейный, точечный);\\...</td>\n",
              "      <td>Опыт в сфере массового и точечного подбора пер...</td>\n",
              "      <td>CRM\\nПодбор персонала\\nПрямой поиск\\nИнтервьюи...</td>\n",
              "      <td>Высшее, 2018, Уфимский государственный авиацио...</td>\n",
              "      <td>23 марта 2023 в 15:46</td>\n",
              "      <td>нет</td>\n",
              "      <td>нет</td>\n",
              "      <td>0.024297</td>\n",
              "      <td>0.975703</td>\n",
              "    </tr>\n",
              "    <tr>\n",
              "      <th>145</th>\n",
              "      <td>2023-02-07 00:00:00</td>\n",
              "      <td>Женщина</td>\n",
              "      <td>20 000 руб.</td>\n",
              "      <td>HR-специалист</td>\n",
              "      <td>Уфа, Не готова к переезду, не готова к команди...</td>\n",
              "      <td>полная занятость</td>\n",
              "      <td>полный день</td>\n",
              "      <td>Опыт работы —2 месяца</td>\n",
              "      <td>ИП РАМАЗАНОВА Г.А.</td>\n",
              "      <td>Менеджер по работе с клиентами</td>\n",
              "      <td>NaN</td>\n",
              "      <td>NaN</td>\n",
              "      <td>NaN</td>\n",
              "      <td>Среднее специальное, 2022, Колледж БГПУ им. М....</td>\n",
              "      <td>9 марта 2023 в 10:36</td>\n",
              "      <td>нет</td>\n",
              "      <td>нет</td>\n",
              "      <td>0.024297</td>\n",
              "      <td>0.975703</td>\n",
              "    </tr>\n",
              "    <tr>\n",
              "      <th>163</th>\n",
              "      <td>2023-02-14 00:00:00</td>\n",
              "      <td>Женщина, 45 лет, родилась 15 августа 1977</td>\n",
              "      <td>не указана</td>\n",
              "      <td>Директор медицинской клиники</td>\n",
              "      <td>Уфа, Готова к переезду: Москва, Санкт-Петербур...</td>\n",
              "      <td>полная занятость</td>\n",
              "      <td>полный день</td>\n",
              "      <td>Опыт работы —25 лет 10 месяцев</td>\n",
              "      <td>Салон красоты</td>\n",
              "      <td>Управляющий</td>\n",
              "      <td>Салон красоты\\nУправляющий\\nРабота в режиме мн...</td>\n",
              "      <td>Общий стаж 26 лет,  в должности Управляющего 1...</td>\n",
              "      <td>Ведение переговоров\\nМатериально-техническое о...</td>\n",
              "      <td>Высшее, 2000, БГУ Уфа, 1996, Сибайский потитех...</td>\n",
              "      <td>14 февраля 2023 в 11:45</td>\n",
              "      <td>нет</td>\n",
              "      <td>нет</td>\n",
              "      <td>0.003965</td>\n",
              "      <td>0.996035</td>\n",
              "    </tr>\n",
              "    <tr>\n",
              "      <th>4</th>\n",
              "      <td>2023-01-11 00:00:00</td>\n",
              "      <td>Мужчина, 26 лет, родился 21 февраля 1996</td>\n",
              "      <td>150 000 руб.</td>\n",
              "      <td>Project manager</td>\n",
              "      <td>Пермь, Хочу переехать, готов к командировкам</td>\n",
              "      <td>проектная работа, частичная занятость, полная ...</td>\n",
              "      <td>удаленная работа, гибкий график, полный день</td>\n",
              "      <td>Опыт работы —5 лет 9 месяцев</td>\n",
              "      <td>Индивидуальное предпринимательство / частная п...</td>\n",
              "      <td>Product/Project manager</td>\n",
              "      <td>Переговоры со стейкхолдером\\n- Составление ТЗ...</td>\n",
              "      <td>Набрал кучу опыта и хочу с ним найти классную ...</td>\n",
              "      <td>Управление персоналом\\nЗаключение договоров\\nА...</td>\n",
              "      <td>Высшее, 2021, Российская академия народного хо...</td>\n",
              "      <td>6 февраля 2023 в 11:18</td>\n",
              "      <td>да</td>\n",
              "      <td>нет</td>\n",
              "      <td>0.004218</td>\n",
              "      <td>0.995782</td>\n",
              "    </tr>\n",
              "  </tbody>\n",
              "</table>\n",
              "</div>\n",
              "      <button class=\"colab-df-convert\" onclick=\"convertToInteractive('df-217ee836-cfa3-421a-819b-e24ece42b2c7')\"\n",
              "              title=\"Convert this dataframe to an interactive table.\"\n",
              "              style=\"display:none;\">\n",
              "\n",
              "  <svg xmlns=\"http://www.w3.org/2000/svg\" height=\"24px\"viewBox=\"0 0 24 24\"\n",
              "       width=\"24px\">\n",
              "    <path d=\"M0 0h24v24H0V0z\" fill=\"none\"/>\n",
              "    <path d=\"M18.56 5.44l.94 2.06.94-2.06 2.06-.94-2.06-.94-.94-2.06-.94 2.06-2.06.94zm-11 1L8.5 8.5l.94-2.06 2.06-.94-2.06-.94L8.5 2.5l-.94 2.06-2.06.94zm10 10l.94 2.06.94-2.06 2.06-.94-2.06-.94-.94-2.06-.94 2.06-2.06.94z\"/><path d=\"M17.41 7.96l-1.37-1.37c-.4-.4-.92-.59-1.43-.59-.52 0-1.04.2-1.43.59L10.3 9.45l-7.72 7.72c-.78.78-.78 2.05 0 2.83L4 21.41c.39.39.9.59 1.41.59.51 0 1.02-.2 1.41-.59l7.78-7.78 2.81-2.81c.8-.78.8-2.07 0-2.86zM5.41 20L4 18.59l7.72-7.72 1.47 1.35L5.41 20z\"/>\n",
              "  </svg>\n",
              "      </button>\n",
              "\n",
              "\n",
              "\n",
              "    <div id=\"df-f32e8111-1249-43bc-9f75-695bdec585a9\">\n",
              "      <button class=\"colab-df-quickchart\" onclick=\"quickchart('df-f32e8111-1249-43bc-9f75-695bdec585a9')\"\n",
              "              title=\"Suggest charts.\"\n",
              "              style=\"display:none;\">\n",
              "\n",
              "<svg xmlns=\"http://www.w3.org/2000/svg\" height=\"24px\"viewBox=\"0 0 24 24\"\n",
              "     width=\"24px\">\n",
              "    <g>\n",
              "        <path d=\"M19 3H5c-1.1 0-2 .9-2 2v14c0 1.1.9 2 2 2h14c1.1 0 2-.9 2-2V5c0-1.1-.9-2-2-2zM9 17H7v-7h2v7zm4 0h-2V7h2v10zm4 0h-2v-4h2v4z\"/>\n",
              "    </g>\n",
              "</svg>\n",
              "      </button>\n",
              "    </div>\n",
              "\n",
              "<style>\n",
              "  .colab-df-quickchart {\n",
              "    background-color: #E8F0FE;\n",
              "    border: none;\n",
              "    border-radius: 50%;\n",
              "    cursor: pointer;\n",
              "    display: none;\n",
              "    fill: #1967D2;\n",
              "    height: 32px;\n",
              "    padding: 0 0 0 0;\n",
              "    width: 32px;\n",
              "  }\n",
              "\n",
              "  .colab-df-quickchart:hover {\n",
              "    background-color: #E2EBFA;\n",
              "    box-shadow: 0px 1px 2px rgba(60, 64, 67, 0.3), 0px 1px 3px 1px rgba(60, 64, 67, 0.15);\n",
              "    fill: #174EA6;\n",
              "  }\n",
              "\n",
              "  [theme=dark] .colab-df-quickchart {\n",
              "    background-color: #3B4455;\n",
              "    fill: #D2E3FC;\n",
              "  }\n",
              "\n",
              "  [theme=dark] .colab-df-quickchart:hover {\n",
              "    background-color: #434B5C;\n",
              "    box-shadow: 0px 1px 3px 1px rgba(0, 0, 0, 0.15);\n",
              "    filter: drop-shadow(0px 1px 2px rgba(0, 0, 0, 0.3));\n",
              "    fill: #FFFFFF;\n",
              "  }\n",
              "</style>\n",
              "\n",
              "    <script>\n",
              "      async function quickchart(key) {\n",
              "        const containerElement = document.querySelector('#' + key);\n",
              "        const charts = await google.colab.kernel.invokeFunction(\n",
              "            'suggestCharts', [key], {});\n",
              "      }\n",
              "    </script>\n",
              "\n",
              "      <script>\n",
              "\n",
              "function displayQuickchartButton(domScope) {\n",
              "  let quickchartButtonEl =\n",
              "    domScope.querySelector('#df-f32e8111-1249-43bc-9f75-695bdec585a9 button.colab-df-quickchart');\n",
              "  quickchartButtonEl.style.display =\n",
              "    google.colab.kernel.accessAllowed ? 'block' : 'none';\n",
              "}\n",
              "\n",
              "        displayQuickchartButton(document);\n",
              "      </script>\n",
              "      <style>\n",
              "    .colab-df-container {\n",
              "      display:flex;\n",
              "      flex-wrap:wrap;\n",
              "      gap: 12px;\n",
              "    }\n",
              "\n",
              "    .colab-df-convert {\n",
              "      background-color: #E8F0FE;\n",
              "      border: none;\n",
              "      border-radius: 50%;\n",
              "      cursor: pointer;\n",
              "      display: none;\n",
              "      fill: #1967D2;\n",
              "      height: 32px;\n",
              "      padding: 0 0 0 0;\n",
              "      width: 32px;\n",
              "    }\n",
              "\n",
              "    .colab-df-convert:hover {\n",
              "      background-color: #E2EBFA;\n",
              "      box-shadow: 0px 1px 2px rgba(60, 64, 67, 0.3), 0px 1px 3px 1px rgba(60, 64, 67, 0.15);\n",
              "      fill: #174EA6;\n",
              "    }\n",
              "\n",
              "    [theme=dark] .colab-df-convert {\n",
              "      background-color: #3B4455;\n",
              "      fill: #D2E3FC;\n",
              "    }\n",
              "\n",
              "    [theme=dark] .colab-df-convert:hover {\n",
              "      background-color: #434B5C;\n",
              "      box-shadow: 0px 1px 3px 1px rgba(0, 0, 0, 0.15);\n",
              "      filter: drop-shadow(0px 1px 2px rgba(0, 0, 0, 0.3));\n",
              "      fill: #FFFFFF;\n",
              "    }\n",
              "  </style>\n",
              "\n",
              "      <script>\n",
              "        const buttonEl =\n",
              "          document.querySelector('#df-217ee836-cfa3-421a-819b-e24ece42b2c7 button.colab-df-convert');\n",
              "        buttonEl.style.display =\n",
              "          google.colab.kernel.accessAllowed ? 'block' : 'none';\n",
              "\n",
              "        async function convertToInteractive(key) {\n",
              "          const element = document.querySelector('#df-217ee836-cfa3-421a-819b-e24ece42b2c7');\n",
              "          const dataTable =\n",
              "            await google.colab.kernel.invokeFunction('convertToInteractive',\n",
              "                                                     [key], {});\n",
              "          if (!dataTable) return;\n",
              "\n",
              "          const docLinkHtml = 'Like what you see? Visit the ' +\n",
              "            '<a target=\"_blank\" href=https://colab.research.google.com/notebooks/data_table.ipynb>data table notebook</a>'\n",
              "            + ' to learn more about interactive tables.';\n",
              "          element.innerHTML = '';\n",
              "          dataTable['output_type'] = 'display_data';\n",
              "          await google.colab.output.renderOutput(dataTable, element);\n",
              "          const docLink = document.createElement('div');\n",
              "          docLink.innerHTML = docLinkHtml;\n",
              "          element.appendChild(docLink);\n",
              "        }\n",
              "      </script>\n",
              "    </div>\n",
              "  </div>\n"
            ]
          },
          "metadata": {},
          "execution_count": 140
        }
      ]
    },
    {
      "cell_type": "code",
      "source": [
        "#Сумма не верных ответов\n",
        "a=0\n",
        "for i, row in df.iterrows():\n",
        "\n",
        "  if row['Подходит - да/нет']!=row['predict']:\n",
        "\n",
        "    if pd.notnull (row['Подходит - да/нет']):\n",
        "\n",
        "      a=a+1\n",
        "\n",
        "print(a)"
      ],
      "metadata": {
        "colab": {
          "base_uri": "https://localhost:8080/"
        },
        "id": "l8pMwRUO7OHn",
        "outputId": "aaaaaa10-b752-4841-f8ca-e2e789a363b8"
      },
      "execution_count": 141,
      "outputs": [
        {
          "output_type": "stream",
          "name": "stdout",
          "text": [
            "9\n"
          ]
        }
      ]
    },
    {
      "cell_type": "markdown",
      "source": [
        "Данная модель хоть и имеет хорошие показатели на обучении и тестировании, но для анализа резюме подходит плохо. Возможно улучшение модели если получиться увеличить датасет для обучения релевантными данными."
      ],
      "metadata": {
        "id": "ZLPwct4AMZek"
      }
    }
  ]
}